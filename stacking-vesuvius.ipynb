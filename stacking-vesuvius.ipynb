{
 "cells": [
  {
   "cell_type": "code",
   "execution_count": 1,
   "id": "1064648d",
   "metadata": {
    "execution": {
     "iopub.execute_input": "2023-06-14T12:22:34.147398Z",
     "iopub.status.busy": "2023-06-14T12:22:34.146980Z",
     "iopub.status.idle": "2023-06-14T12:22:34.159520Z",
     "shell.execute_reply": "2023-06-14T12:22:34.158684Z"
    },
    "papermill": {
     "duration": 0.026954,
     "end_time": "2023-06-14T12:22:34.161711",
     "exception": false,
     "start_time": "2023-06-14T12:22:34.134757",
     "status": "completed"
    },
    "tags": []
   },
   "outputs": [],
   "source": [
    "import sys\n",
    "sys.path.append('/kaggle/input/pretrainedmodels/pretrainedmodels-0.7.4')\n",
    "sys.path.append('/kaggle/input/for-vesuvius/EfficientNet-PyTorch-master/EfficientNet-PyTorch-master')\n",
    "sys.path.append('/kaggle/input/for-vesuvius/pytorch-image-models-main/pytorch-image-models-main')\n",
    "sys.path.append('/kaggle/input/for-vesuvius/segmentation_models.pytorch-master/segmentation_models.pytorch-master')\n",
    "sys.path.append('/kaggle/input/for-vesuvius/wandb-main/wandb-main')\n",
    "sys.path.append('/kaggle/input/for-vesuvius/pytorch-gradual-warmup-lr-master/pytorch-gradual-warmup-lr-master')"
   ]
  },
  {
   "cell_type": "markdown",
   "id": "431e506f",
   "metadata": {
    "papermill": {
     "duration": 0.009773,
     "end_time": "2023-06-14T12:22:34.181889",
     "exception": false,
     "start_time": "2023-06-14T12:22:34.172116",
     "status": "completed"
    },
    "tags": []
   },
   "source": [
    "# Imports"
   ]
  },
  {
   "cell_type": "code",
   "execution_count": 2,
   "id": "ee426e5b",
   "metadata": {
    "execution": {
     "iopub.execute_input": "2023-06-14T12:22:34.203573Z",
     "iopub.status.busy": "2023-06-14T12:22:34.202741Z",
     "iopub.status.idle": "2023-06-14T12:22:45.408663Z",
     "shell.execute_reply": "2023-06-14T12:22:45.407785Z"
    },
    "papermill": {
     "duration": 11.218761,
     "end_time": "2023-06-14T12:22:45.410668",
     "exception": false,
     "start_time": "2023-06-14T12:22:34.191907",
     "status": "completed"
    },
    "tags": []
   },
   "outputs": [
    {
     "name": "stderr",
     "output_type": "stream",
     "text": [
      "/kaggle/input/pretrainedmodels/pretrainedmodels-0.7.4/pretrainedmodels/models/dpn.py:255: SyntaxWarning: \"is\" with a literal. Did you mean \"==\"?\n",
      "  if block_type is 'proj':\n",
      "/kaggle/input/pretrainedmodels/pretrainedmodels-0.7.4/pretrainedmodels/models/dpn.py:258: SyntaxWarning: \"is\" with a literal. Did you mean \"==\"?\n",
      "  elif block_type is 'down':\n",
      "/kaggle/input/pretrainedmodels/pretrainedmodels-0.7.4/pretrainedmodels/models/dpn.py:262: SyntaxWarning: \"is\" with a literal. Did you mean \"==\"?\n",
      "  assert block_type is 'normal'\n",
      "\u001b[34m\u001b[1mwandb\u001b[0m: W&B API key is configured. Use \u001b[1m`wandb login --relogin`\u001b[0m to force relogin\n",
      "\u001b[34m\u001b[1mwandb\u001b[0m: \u001b[33mWARNING\u001b[0m If you're specifying your api key in code, ensure this code is not shared publicly.\n",
      "\u001b[34m\u001b[1mwandb\u001b[0m: \u001b[33mWARNING\u001b[0m Consider setting the WANDB_API_KEY environment variable, or running `wandb login` from the command line.\n",
      "\u001b[34m\u001b[1mwandb\u001b[0m: Appending key for api.wandb.ai to your netrc file: /root/.netrc\n"
     ]
    },
    {
     "data": {
      "text/plain": [
       "True"
      ]
     },
     "execution_count": 2,
     "metadata": {},
     "output_type": "execute_result"
    }
   ],
   "source": [
    "import numpy as np\n",
    "import pandas as pd\n",
    "import scipy as sp\n",
    "from sklearn.metrics import roc_auc_score, accuracy_score, f1_score, log_loss\n",
    "import matplotlib.pyplot as plt\n",
    "import sys\n",
    "import os\n",
    "import gc\n",
    "import sys\n",
    "import pickle\n",
    "import warnings\n",
    "import math\n",
    "import time\n",
    "import random\n",
    "import argparse\n",
    "import importlib\n",
    "from tqdm import tqdm\n",
    "from functools import partial\n",
    "\n",
    "import torch\n",
    "import torch.nn as nn\n",
    "import torch.nn.functional as F\n",
    "from torch.utils.data import DataLoader, Dataset\n",
    "from torch.cuda.amp import autocast, GradScaler\n",
    "from torch.optim import Adam, SGD, AdamW\n",
    "from torch.optim.lr_scheduler import CosineAnnealingWarmRestarts, CosineAnnealingLR, ReduceLROnPlateau\n",
    "import segmentation_models_pytorch as smp\n",
    "from warmup_scheduler import GradualWarmupScheduler\n",
    "import cv2\n",
    "\n",
    "import albumentations as A\n",
    "from albumentations.pytorch import ToTensorV2\n",
    "from albumentations import ImageOnlyTransform\n",
    "\n",
    "import shutil\n",
    "from pathlib import Path\n",
    "from contextlib import contextmanager\n",
    "from collections import defaultdict, Counter\n",
    "import datetime\n",
    "\n",
    "import wandb\n",
    "wandb.login(key = '68a8aa0d16f78ed8a8b3f6d0255850bdbf2f7b61')"
   ]
  },
  {
   "cell_type": "code",
   "execution_count": 3,
   "id": "012c6f7c",
   "metadata": {
    "execution": {
     "iopub.execute_input": "2023-06-14T12:22:45.433559Z",
     "iopub.status.busy": "2023-06-14T12:22:45.432767Z",
     "iopub.status.idle": "2023-06-14T12:22:45.436746Z",
     "shell.execute_reply": "2023-06-14T12:22:45.435811Z"
    },
    "papermill": {
     "duration": 0.017421,
     "end_time": "2023-06-14T12:22:45.438675",
     "exception": false,
     "start_time": "2023-06-14T12:22:45.421254",
     "status": "completed"
    },
    "tags": []
   },
   "outputs": [],
   "source": [
    "# import ssl\n",
    "# ssl._create_default_https_context = ssl._create_unverified_context"
   ]
  },
  {
   "cell_type": "code",
   "execution_count": 4,
   "id": "6baadb7d",
   "metadata": {
    "execution": {
     "iopub.execute_input": "2023-06-14T12:22:45.461130Z",
     "iopub.status.busy": "2023-06-14T12:22:45.460352Z",
     "iopub.status.idle": "2023-06-14T12:22:45.464837Z",
     "shell.execute_reply": "2023-06-14T12:22:45.464010Z"
    },
    "papermill": {
     "duration": 0.017492,
     "end_time": "2023-06-14T12:22:45.466719",
     "exception": false,
     "start_time": "2023-06-14T12:22:45.449227",
     "status": "completed"
    },
    "tags": []
   },
   "outputs": [],
   "source": [
    "# sys.path.append('/kaggle/input/pretrainedmodels/pretrainedmodels-0.7.4')\n",
    "# sys.path.append('/kaggle/input/efficientnet-pytorch/EfficientNet-PyTorch-master')\n",
    "# sys.path.append('/kaggle/input/timm-pytorch-image-models/pytorch-image-models-master')\n",
    "# sys.path.append('/kaggle/input/segmentation-models-pytorch/segmentation_models.pytorch-master')"
   ]
  },
  {
   "cell_type": "markdown",
   "id": "be62a4c1",
   "metadata": {
    "papermill": {
     "duration": 0.01033,
     "end_time": "2023-06-14T12:22:45.487508",
     "exception": false,
     "start_time": "2023-06-14T12:22:45.477178",
     "status": "completed"
    },
    "tags": []
   },
   "source": [
    "# Main Configuration Class"
   ]
  },
  {
   "cell_type": "code",
   "execution_count": 5,
   "id": "6c659777",
   "metadata": {
    "execution": {
     "iopub.execute_input": "2023-06-14T12:22:45.510755Z",
     "iopub.status.busy": "2023-06-14T12:22:45.509971Z",
     "iopub.status.idle": "2023-06-14T12:22:45.524428Z",
     "shell.execute_reply": "2023-06-14T12:22:45.523265Z"
    },
    "papermill": {
     "duration": 0.028034,
     "end_time": "2023-06-14T12:22:45.526455",
     "exception": false,
     "start_time": "2023-06-14T12:22:45.498421",
     "status": "completed"
    },
    "tags": []
   },
   "outputs": [
    {
     "name": "stdout",
     "output_type": "stream",
     "text": [
      "set dataset path\n"
     ]
    }
   ],
   "source": [
    "class CFG:\n",
    "    # ============== comp exp name =============\n",
    "    comp_name = 'vesuvius'\n",
    "    exp_name = 'Model_testing'\n",
    "    comp_dir_path = '/kaggle/input/'\n",
    "    comp_folder_name = 'vesuvius-challenge-ink-detection'\n",
    "    comp_dataset_path = f'{comp_dir_path}{comp_folder_name}/'\n",
    "\n",
    "    # ============== pred target =============\n",
    "    target_size = 1\n",
    "\n",
    "    # ============== model cfg =============\n",
    "    model_name = 'Unet'\n",
    "    backbone = 'timm-resnest200e' #'se_resnext50_32x4d'\n",
    "\n",
    "    in_chans = 6 # 65\n",
    "    # ============== training cfg =============\n",
    "    size = 384\n",
    "    tile_size = 384\n",
    "    stride = tile_size // 2\n",
    "\n",
    "    train_batch_size = 16 # 32\n",
    "    valid_batch_size = train_batch_size * 2\n",
    "    use_amp = True\n",
    "\n",
    "    scheduler = 'GradualWarmupSchedulerV2' # 'GradualWarmupSchedulerV2' # 'CosineAnnealingLR'\n",
    "    epochs = 60 # 30\n",
    "\n",
    "    # adamW warmupあり\n",
    "    warmup_factor = 10\n",
    "    # lr = 1e-4 / warmup_factor\n",
    "    lr = 1e-4 / warmup_factor\n",
    "\n",
    "    # ============== fold =============\n",
    "    valid_id = [1]\n",
    "\n",
    "    # objective_cv = 'binary'  # 'binary', 'multiclass', 'regression'\n",
    "    metric_direction = 'maximize'  # maximize, 'minimize'\n",
    "    # metrics = 'dice_coef'\n",
    "\n",
    "    # ============== fixed =============\n",
    "    pretrained = True\n",
    "    inf_weight = 'best'  # 'best'\n",
    "    loss = \"BCE\"\n",
    "\n",
    "    min_lr = 1e-7\n",
    "    weight_decay = 0\n",
    "    max_grad_norm = 1000\n",
    "\n",
    "    print_freq = 50\n",
    "    num_workers = 2\n",
    "\n",
    "    seed = 310\n",
    "    \n",
    "    # ============== set dataset path =============\n",
    "    print('set dataset path')\n",
    "\n",
    "    outputs_path = f'/kaggle/working/outputs/{comp_name}/{exp_name}/'\n",
    "\n",
    "    submission_dir = outputs_path + 'submissions/'\n",
    "    submission_path = submission_dir + f'submission_{exp_name}.csv'\n",
    "\n",
    "    model_dir = outputs_path + \\\n",
    "        f'{comp_name}-models/'\n",
    "\n",
    "    figures_dir = outputs_path + 'figures/'\n",
    "\n",
    "    log_dir = outputs_path + 'logs/'\n",
    "    log_path = log_dir + f'{exp_name}.txt'\n",
    "\n",
    "    train_aug_list = [\n",
    "    #A.RandomCrop(CFG.tile_size,CFG.tile_size),\n",
    "    A.HorizontalFlip(p=0.5),\n",
    "    A.VerticalFlip(p=0.5),\n",
    "    A.SafeRotate(p = 0.3),\n",
    "    A.Transpose(p=0.5),\n",
    "    A.CoarseDropout(max_holes=8, max_height=int(size*0.1), max_width=int(size*0.1), min_holes=3, fill_value=0, mask_fill_value=0, p=0.5),\n",
    "    A.ElasticTransform(p = 0.3),\n",
    "    A.GridDistortion(num_steps=5, distort_limit=0.3, p=0.3),\n",
    "    A.Emboss(p = 0.3),\n",
    "    A.RandomBrightnessContrast(p=0.4),\n",
    "    A.RandomGridShuffle(grid=(4, 4), p = 0.4),\n",
    "    A.RingingOvershoot(p = 0.2),\n",
    "    #A.GaussNoise(var_limit=(10.0, 50.0), p=0.3),\n",
    "    A.GaussianBlur(p = 0.5),\n",
    "    A.Sharpen(p = 0.2),\n",
    "    A.Normalize(\n",
    "        mean= [0] * in_chans,\n",
    "        std= [1] * in_chans,\n",
    "    ),\n",
    "        ToTensorV2(transpose_mask=True),\n",
    " ]\n",
    "\n",
    "    valid_aug_list = [\n",
    "        A.Resize(size, size),\n",
    "        A.Normalize(\n",
    "            mean= [0] * in_chans,\n",
    "            std= [1] * in_chans\n",
    "        ),\n",
    "        ToTensorV2(transpose_mask=True),\n",
    "    ]\n"
   ]
  },
  {
   "cell_type": "markdown",
   "id": "1d366c27",
   "metadata": {
    "papermill": {
     "duration": 0.010293,
     "end_time": "2023-06-14T12:22:45.547664",
     "exception": false,
     "start_time": "2023-06-14T12:22:45.537371",
     "status": "completed"
    },
    "tags": []
   },
   "source": [
    "## Helper Functions (as usual)"
   ]
  },
  {
   "cell_type": "code",
   "execution_count": 6,
   "id": "d30a195c",
   "metadata": {
    "execution": {
     "iopub.execute_input": "2023-06-14T12:22:45.570508Z",
     "iopub.status.busy": "2023-06-14T12:22:45.569691Z",
     "iopub.status.idle": "2023-06-14T12:22:45.576005Z",
     "shell.execute_reply": "2023-06-14T12:22:45.575079Z"
    },
    "papermill": {
     "duration": 0.019896,
     "end_time": "2023-06-14T12:22:45.578055",
     "exception": false,
     "start_time": "2023-06-14T12:22:45.558159",
     "status": "completed"
    },
    "tags": []
   },
   "outputs": [],
   "source": [
    "class AverageMeter(object):\n",
    "    \"\"\"Computes and stores the average and current value\"\"\"\n",
    "\n",
    "    def __init__(self):\n",
    "        self.reset()\n",
    "\n",
    "    def reset(self):\n",
    "        self.val = 0\n",
    "        self.avg = 0\n",
    "        self.sum = 0\n",
    "        self.count = 0\n",
    "\n",
    "    def update(self, val, n=1):\n",
    "        self.val = val\n",
    "        self.sum += val * n\n",
    "        self.count += n\n",
    "        self.avg = self.sum / self.count"
   ]
  },
  {
   "cell_type": "code",
   "execution_count": 7,
   "id": "a47c9b48",
   "metadata": {
    "execution": {
     "iopub.execute_input": "2023-06-14T12:22:45.600648Z",
     "iopub.status.busy": "2023-06-14T12:22:45.600396Z",
     "iopub.status.idle": "2023-06-14T12:22:45.607385Z",
     "shell.execute_reply": "2023-06-14T12:22:45.606476Z"
    },
    "papermill": {
     "duration": 0.020586,
     "end_time": "2023-06-14T12:22:45.609330",
     "exception": false,
     "start_time": "2023-06-14T12:22:45.588744",
     "status": "completed"
    },
    "tags": []
   },
   "outputs": [],
   "source": [
    "def init_logger(log_file):\n",
    "    from logging import getLogger, INFO, FileHandler, Formatter, StreamHandler\n",
    "    logger = getLogger(__name__)\n",
    "    logger.setLevel(INFO)\n",
    "    handler1 = StreamHandler()\n",
    "    handler1.setFormatter(Formatter(\"%(message)s\"))\n",
    "    handler2 = FileHandler(filename=log_file)\n",
    "    handler2.setFormatter(Formatter(\"%(message)s\"))\n",
    "    logger.addHandler(handler1)\n",
    "    logger.addHandler(handler2)\n",
    "    return logger\n",
    "\n",
    "def set_seed(seed=None, cudnn_deterministic=True):\n",
    "    if seed is None:\n",
    "        seed = 310\n",
    "    \n",
    "    os.environ['PYTHONHASHSEED'] = str(seed)\n",
    "    np.random.seed(seed)\n",
    "    torch.manual_seed(seed)\n",
    "    torch.cuda.manual_seed(seed)\n",
    "    torch.backends.cudnn.deterministic = cudnn_deterministic\n",
    "    torch.backends.cudnn.benchmark = False"
   ]
  },
  {
   "cell_type": "code",
   "execution_count": 8,
   "id": "da58cdc0",
   "metadata": {
    "execution": {
     "iopub.execute_input": "2023-06-14T12:22:45.632221Z",
     "iopub.status.busy": "2023-06-14T12:22:45.631380Z",
     "iopub.status.idle": "2023-06-14T12:22:45.636423Z",
     "shell.execute_reply": "2023-06-14T12:22:45.635619Z"
    },
    "papermill": {
     "duration": 0.018562,
     "end_time": "2023-06-14T12:22:45.638358",
     "exception": false,
     "start_time": "2023-06-14T12:22:45.619796",
     "status": "completed"
    },
    "tags": []
   },
   "outputs": [],
   "source": [
    "def make_dirs(cfg):\n",
    "    for dir in [cfg.model_dir, cfg.figures_dir, cfg.submission_dir, cfg.log_dir]:\n",
    "        os.makedirs(dir, exist_ok=True)"
   ]
  },
  {
   "cell_type": "code",
   "execution_count": 9,
   "id": "bb648226",
   "metadata": {
    "execution": {
     "iopub.execute_input": "2023-06-14T12:22:45.660702Z",
     "iopub.status.busy": "2023-06-14T12:22:45.660449Z",
     "iopub.status.idle": "2023-06-14T12:22:45.664641Z",
     "shell.execute_reply": "2023-06-14T12:22:45.663628Z"
    },
    "papermill": {
     "duration": 0.017674,
     "end_time": "2023-06-14T12:22:45.666518",
     "exception": false,
     "start_time": "2023-06-14T12:22:45.648844",
     "status": "completed"
    },
    "tags": []
   },
   "outputs": [],
   "source": [
    "def make_folder(path):\n",
    "        os.makedirs(path, exist_ok=True)"
   ]
  },
  {
   "cell_type": "code",
   "execution_count": 10,
   "id": "08d806b4",
   "metadata": {
    "execution": {
     "iopub.execute_input": "2023-06-14T12:22:45.688786Z",
     "iopub.status.busy": "2023-06-14T12:22:45.688007Z",
     "iopub.status.idle": "2023-06-14T12:22:45.692859Z",
     "shell.execute_reply": "2023-06-14T12:22:45.691960Z"
    },
    "papermill": {
     "duration": 0.017904,
     "end_time": "2023-06-14T12:22:45.694822",
     "exception": false,
     "start_time": "2023-06-14T12:22:45.676918",
     "status": "completed"
    },
    "tags": []
   },
   "outputs": [],
   "source": [
    "def cfg_init(cfg, mode='train'):\n",
    "    set_seed(cfg.seed)\n",
    "\n",
    "    if mode == 'train':\n",
    "        make_dirs(cfg)"
   ]
  },
  {
   "cell_type": "code",
   "execution_count": 11,
   "id": "11484e92",
   "metadata": {
    "execution": {
     "iopub.execute_input": "2023-06-14T12:22:45.720317Z",
     "iopub.status.busy": "2023-06-14T12:22:45.719503Z",
     "iopub.status.idle": "2023-06-14T12:22:45.809211Z",
     "shell.execute_reply": "2023-06-14T12:22:45.808307Z"
    },
    "papermill": {
     "duration": 0.106584,
     "end_time": "2023-06-14T12:22:45.811973",
     "exception": false,
     "start_time": "2023-06-14T12:22:45.705389",
     "status": "completed"
    },
    "tags": []
   },
   "outputs": [],
   "source": [
    "cfg_init(CFG)\n",
    "\n",
    "Logger = init_logger(log_file=CFG.log_path)\n",
    "\n",
    "device = torch.device('cuda' if torch.cuda.is_available() else 'cpu')"
   ]
  },
  {
   "cell_type": "markdown",
   "id": "dc8048ad",
   "metadata": {
    "papermill": {
     "duration": 0.010326,
     "end_time": "2023-06-14T12:22:45.833382",
     "exception": false,
     "start_time": "2023-06-14T12:22:45.823056",
     "status": "completed"
    },
    "tags": []
   },
   "source": [
    "## Image and Mask (by mask, it means the inklabels.png)\n",
    "\n",
    "### The mask will act as the label for segmentation."
   ]
  },
  {
   "cell_type": "code",
   "execution_count": 12,
   "id": "3170294f",
   "metadata": {
    "execution": {
     "iopub.execute_input": "2023-06-14T12:22:45.855613Z",
     "iopub.status.busy": "2023-06-14T12:22:45.855322Z",
     "iopub.status.idle": "2023-06-14T12:22:45.864142Z",
     "shell.execute_reply": "2023-06-14T12:22:45.863262Z"
    },
    "papermill": {
     "duration": 0.022366,
     "end_time": "2023-06-14T12:22:45.866254",
     "exception": false,
     "start_time": "2023-06-14T12:22:45.843888",
     "status": "completed"
    },
    "tags": []
   },
   "outputs": [],
   "source": [
    "def read_image_mask(fragment_id):\n",
    "\n",
    "    images = []\n",
    "\n",
    "    for i in tqdm(range(6)):\n",
    "        image = np.load('/kaggle/input/oof-vesuvius-predictions/'+f'{i}_{fragment_id}.npy').astype(np.uint8)\n",
    "\n",
    "        pad0 = (CFG.tile_size - image.shape[0] % CFG.tile_size)\n",
    "        pad1 = (CFG.tile_size - image.shape[1] % CFG.tile_size)\n",
    "\n",
    "        image = np.pad(image, [(0, pad0), (0, pad1)], constant_values=0)\n",
    "\n",
    "        images.append(image)\n",
    "    images = np.stack(images, axis=2)\n",
    "\n",
    "    mask = cv2.imread(CFG.comp_dataset_path + f\"train/{fragment_id}/mask.png\", 0)\n",
    "    label = cv2.imread(CFG.comp_dataset_path +  f\"train/{fragment_id}/inklabels.png\",0)\n",
    "    label = np.pad(label, [(0, pad0), (0, pad1)], constant_values=0)\n",
    "    mask = (np.pad(mask, [(0, pad0), (0, pad1)], constant_values=0)/255)\n",
    "    label = label.astype('float32')\n",
    "    label /= 255.0\n",
    "    \n",
    "    return images, mask , label"
   ]
  },
  {
   "cell_type": "code",
   "execution_count": 13,
   "id": "0cbdfbc6",
   "metadata": {
    "execution": {
     "iopub.execute_input": "2023-06-14T12:22:45.888657Z",
     "iopub.status.busy": "2023-06-14T12:22:45.888136Z",
     "iopub.status.idle": "2023-06-14T12:22:45.897533Z",
     "shell.execute_reply": "2023-06-14T12:22:45.896644Z"
    },
    "papermill": {
     "duration": 0.022545,
     "end_time": "2023-06-14T12:22:45.899442",
     "exception": false,
     "start_time": "2023-06-14T12:22:45.876897",
     "status": "completed"
    },
    "tags": []
   },
   "outputs": [],
   "source": [
    "def get_train_valid_dataset(valid_id):\n",
    "    train_images = []\n",
    "    train_masks = []\n",
    "\n",
    "    valid_images = []\n",
    "    valid_masks = []\n",
    "    valid_xyxys = []\n",
    "\n",
    "    for fragment_id in range(1, 4):\n",
    "\n",
    "        image, mask, label = read_image_mask(fragment_id)\n",
    "\n",
    "        x1_list = list(range(0, image.shape[1]-CFG.tile_size+1, CFG.stride))\n",
    "        y1_list = list(range(0, image.shape[0]-CFG.tile_size+1, CFG.stride))\n",
    "\n",
    "        for y1 in y1_list:\n",
    "            for x1 in x1_list:\n",
    "                y2 = y1 + CFG.tile_size\n",
    "                x2 = x1 + CFG.tile_size\n",
    "                # xyxys.append((x1, y1, x2, y2))\n",
    "        \n",
    "                if fragment_id == valid_id:\n",
    "                    valid_images.append(image[y1:y2, x1:x2])\n",
    "                    valid_masks.append(label[y1:y2, x1:x2, None])\n",
    "\n",
    "                    valid_xyxys.append([x1, y1, x2, y2])\n",
    "                else:\n",
    "                    if np.sum(mask[y1:y2, x1:x2]) == CFG.tile_size**2:\n",
    "                    #if True:\n",
    "                        train_images.append(image[y1:y2, x1:x2])\n",
    "                        train_masks.append(label[y1:y2, x1:x2, None])\n",
    "\n",
    "    return train_images, train_masks, valid_images, valid_masks, valid_xyxys"
   ]
  },
  {
   "cell_type": "markdown",
   "id": "26ba7f3a",
   "metadata": {
    "papermill": {
     "duration": 0.010163,
     "end_time": "2023-06-14T12:22:45.920145",
     "exception": false,
     "start_time": "2023-06-14T12:22:45.909982",
     "status": "completed"
    },
    "tags": []
   },
   "source": [
    "# Dataset Classes"
   ]
  },
  {
   "cell_type": "code",
   "execution_count": 14,
   "id": "ff81cd41",
   "metadata": {
    "execution": {
     "iopub.execute_input": "2023-06-14T12:22:45.942469Z",
     "iopub.status.busy": "2023-06-14T12:22:45.941955Z",
     "iopub.status.idle": "2023-06-14T12:22:45.949186Z",
     "shell.execute_reply": "2023-06-14T12:22:45.948322Z"
    },
    "papermill": {
     "duration": 0.020456,
     "end_time": "2023-06-14T12:22:45.951121",
     "exception": false,
     "start_time": "2023-06-14T12:22:45.930665",
     "status": "completed"
    },
    "tags": []
   },
   "outputs": [],
   "source": [
    "def get_transforms(data, cfg):\n",
    "    if data == 'train':\n",
    "        aug = A.Compose(cfg.train_aug_list)\n",
    "    elif data == 'valid':\n",
    "        aug = A.Compose(cfg.valid_aug_list)\n",
    "    return aug\n",
    "\n",
    "class CustomDataset(Dataset):\n",
    "    def __init__(self, images, cfg, labels=None, transform=None):\n",
    "        self.images = images\n",
    "        self.cfg = cfg\n",
    "        self.labels = labels\n",
    "        self.transform = transform\n",
    "\n",
    "    def __len__(self):\n",
    "        return len(self.images)\n",
    "\n",
    "    def __getitem__(self, idx):\n",
    "        image = self.images[idx]\n",
    "        label = self.labels[idx]\n",
    "\n",
    "        if self.transform:\n",
    "            data = self.transform(image=image, mask=label)\n",
    "            image = data['image']\n",
    "            label = data['mask']\n",
    "\n",
    "        return image, label"
   ]
  },
  {
   "cell_type": "markdown",
   "id": "b5ce7f4a",
   "metadata": {
    "papermill": {
     "duration": 0.010332,
     "end_time": "2023-06-14T12:22:45.971973",
     "exception": false,
     "start_time": "2023-06-14T12:22:45.961641",
     "status": "completed"
    },
    "tags": []
   },
   "source": [
    "## Model (finally the good stuff)"
   ]
  },
  {
   "cell_type": "code",
   "execution_count": 15,
   "id": "7f21fcc7",
   "metadata": {
    "execution": {
     "iopub.execute_input": "2023-06-14T12:22:45.994583Z",
     "iopub.status.busy": "2023-06-14T12:22:45.993864Z",
     "iopub.status.idle": "2023-06-14T12:22:46.000022Z",
     "shell.execute_reply": "2023-06-14T12:22:45.999133Z"
    },
    "papermill": {
     "duration": 0.019584,
     "end_time": "2023-06-14T12:22:46.001954",
     "exception": false,
     "start_time": "2023-06-14T12:22:45.982370",
     "status": "completed"
    },
    "tags": []
   },
   "outputs": [],
   "source": [
    "class CustomModel(nn.Module):\n",
    "    def __init__(self, cfg, weight=None):\n",
    "        super().__init__()\n",
    "        self.cfg = cfg\n",
    "\n",
    "        self.encoder = smp.Unet(\n",
    "            encoder_name=cfg.backbone, \n",
    "            encoder_weights=weight,\n",
    "            in_channels=cfg.in_chans,\n",
    "            classes=cfg.target_size,\n",
    "            activation=None,\n",
    "        )\n",
    "\n",
    "    def forward(self, image):\n",
    "        output = self.encoder(image)\n",
    "        # output = output.squeeze(-1)\n",
    "        return output"
   ]
  },
  {
   "cell_type": "code",
   "execution_count": 16,
   "id": "b3c33e5e",
   "metadata": {
    "execution": {
     "iopub.execute_input": "2023-06-14T12:22:46.024533Z",
     "iopub.status.busy": "2023-06-14T12:22:46.023782Z",
     "iopub.status.idle": "2023-06-14T12:22:46.029011Z",
     "shell.execute_reply": "2023-06-14T12:22:46.028099Z"
    },
    "papermill": {
     "duration": 0.018452,
     "end_time": "2023-06-14T12:22:46.030990",
     "exception": false,
     "start_time": "2023-06-14T12:22:46.012538",
     "status": "completed"
    },
    "tags": []
   },
   "outputs": [],
   "source": [
    "def build_model(cfg, weight=\"imagenet\"):\n",
    "    print('model_name', cfg.model_name)\n",
    "    print('backbone', cfg.backbone)\n",
    "\n",
    "    model = CustomModel(cfg, weight)\n",
    "\n",
    "    return model"
   ]
  },
  {
   "cell_type": "markdown",
   "id": "fa5b5ff2",
   "metadata": {
    "papermill": {
     "duration": 0.010307,
     "end_time": "2023-06-14T12:22:46.052062",
     "exception": false,
     "start_time": "2023-06-14T12:22:46.041755",
     "status": "completed"
    },
    "tags": []
   },
   "source": [
    "## Scheduler"
   ]
  },
  {
   "cell_type": "code",
   "execution_count": 17,
   "id": "4ab8234d",
   "metadata": {
    "execution": {
     "iopub.execute_input": "2023-06-14T12:22:46.074777Z",
     "iopub.status.busy": "2023-06-14T12:22:46.074033Z",
     "iopub.status.idle": "2023-06-14T12:22:46.084207Z",
     "shell.execute_reply": "2023-06-14T12:22:46.083439Z"
    },
    "papermill": {
     "duration": 0.023602,
     "end_time": "2023-06-14T12:22:46.086164",
     "exception": false,
     "start_time": "2023-06-14T12:22:46.062562",
     "status": "completed"
    },
    "tags": []
   },
   "outputs": [],
   "source": [
    "torch.optim.lr_scheduler.ReduceLROnPlateau\n",
    "class GradualWarmupSchedulerV2(GradualWarmupScheduler):\n",
    "    \"\"\"\n",
    "    https://www.kaggle.com/code/underwearfitting/single-fold-training-of-resnet200d-lb0-965\n",
    "    \"\"\"\n",
    "    def __init__(self, optimizer, multiplier, total_epoch, after_scheduler=None):\n",
    "        super(GradualWarmupSchedulerV2, self).__init__(\n",
    "            optimizer, multiplier, total_epoch, after_scheduler)\n",
    "\n",
    "    def get_lr(self):\n",
    "        if self.last_epoch > self.total_epoch:\n",
    "            if self.after_scheduler:\n",
    "                if not self.finished:\n",
    "                    self.after_scheduler.base_lrs = [\n",
    "                        base_lr * self.multiplier for base_lr in self.base_lrs]\n",
    "                    self.finished = True\n",
    "                return self.after_scheduler.get_lr()\n",
    "            return [base_lr * self.multiplier for base_lr in self.base_lrs]\n",
    "        if self.multiplier == 1.0:\n",
    "            return [base_lr * (float(self.last_epoch) / self.total_epoch) for base_lr in self.base_lrs]\n",
    "        else:\n",
    "            return [base_lr * ((self.multiplier - 1.) * self.last_epoch / self.total_epoch + 1.) for base_lr in self.base_lrs]\n",
    "\n",
    "def get_scheduler(cfg, optimizer,after = 1):\n",
    "    \n",
    "    scheduler_cosine = torch.optim.lr_scheduler.CosineAnnealingLR(\n",
    "        optimizer, 15, eta_min=CFG.min_lr)\n",
    "    \n",
    "    #seheduler_reducelron = ReduceLROnPlateau(optimizer,factor = 0.1,patience = 2,threshold = 0.01,min_lr = CFG.min_lr)\n",
    "    \n",
    "    scheduler = GradualWarmupSchedulerV2(\n",
    "        optimizer, multiplier=10, total_epoch=1, after_scheduler=scheduler_cosine)\n",
    "\n",
    "    return scheduler\n",
    "\n",
    "def scheduler_step(scheduler, avg_val_loss, epoch):\n",
    "    scheduler.step(metrics  = avg_val_loss,epoch = epoch)\n"
   ]
  },
  {
   "cell_type": "markdown",
   "id": "1d4bfc31",
   "metadata": {
    "papermill": {
     "duration": 0.010513,
     "end_time": "2023-06-14T12:22:46.107137",
     "exception": false,
     "start_time": "2023-06-14T12:22:46.096624",
     "status": "completed"
    },
    "tags": []
   },
   "source": [
    "## Initializing the Model, optimizer and the scheduler"
   ]
  },
  {
   "cell_type": "code",
   "execution_count": 18,
   "id": "6fb90a35",
   "metadata": {
    "execution": {
     "iopub.execute_input": "2023-06-14T12:22:46.130230Z",
     "iopub.status.busy": "2023-06-14T12:22:46.129500Z",
     "iopub.status.idle": "2023-06-14T12:22:46.134504Z",
     "shell.execute_reply": "2023-06-14T12:22:46.133682Z"
    },
    "papermill": {
     "duration": 0.018628,
     "end_time": "2023-06-14T12:22:46.136539",
     "exception": false,
     "start_time": "2023-06-14T12:22:46.117911",
     "status": "completed"
    },
    "tags": []
   },
   "outputs": [],
   "source": [
    "# model = build_model(CFG)\n",
    "# model.to(device)\n",
    "\n",
    "# optimizer = AdamW(model.parameters(), lr=CFG.lr)\n",
    "# scheduler = get_scheduler(CFG, optimizer)"
   ]
  },
  {
   "cell_type": "code",
   "execution_count": 19,
   "id": "d13fdc94",
   "metadata": {
    "execution": {
     "iopub.execute_input": "2023-06-14T12:22:46.158757Z",
     "iopub.status.busy": "2023-06-14T12:22:46.158499Z",
     "iopub.status.idle": "2023-06-14T12:22:46.162587Z",
     "shell.execute_reply": "2023-06-14T12:22:46.161593Z"
    },
    "papermill": {
     "duration": 0.017504,
     "end_time": "2023-06-14T12:22:46.164626",
     "exception": false,
     "start_time": "2023-06-14T12:22:46.147122",
     "status": "completed"
    },
    "tags": []
   },
   "outputs": [],
   "source": [
    "# class FocalLoss(nn.Module):\n",
    "    \n",
    "#     def __init__(self,alpha = 0.25, gamma = 2):\n",
    "#         super().__init__()\n",
    "#         self.alpha = alpha\n",
    "#         self.gamma = gamma\n",
    "        \n",
    "#     def forward(self,pred_logits,target):\n",
    "#         pred = pred_logits.sigmoid()\n",
    "#         ce = F.binary_cross_entropy_with_logits(pred_logits, target, reduction = 'none')\n",
    "#         alpha = target * self.alpha + (1.0-target) * (1.0 - self.alpha)\n",
    "#         pt = torch.where(target == 1, pred, 1-pred)\n",
    "#         return (alpha * (1.0 - pt) ** self.gamma * ce).mean()"
   ]
  },
  {
   "cell_type": "markdown",
   "id": "942c6f42",
   "metadata": {
    "papermill": {
     "duration": 0.010491,
     "end_time": "2023-06-14T12:22:46.185747",
     "exception": false,
     "start_time": "2023-06-14T12:22:46.175256",
     "status": "completed"
    },
    "tags": []
   },
   "source": [
    "## Losses"
   ]
  },
  {
   "cell_type": "code",
   "execution_count": 20,
   "id": "0b41afc6",
   "metadata": {
    "execution": {
     "iopub.execute_input": "2023-06-14T12:22:46.208659Z",
     "iopub.status.busy": "2023-06-14T12:22:46.207944Z",
     "iopub.status.idle": "2023-06-14T12:22:46.212196Z",
     "shell.execute_reply": "2023-06-14T12:22:46.211328Z"
    },
    "papermill": {
     "duration": 0.018004,
     "end_time": "2023-06-14T12:22:46.214305",
     "exception": false,
     "start_time": "2023-06-14T12:22:46.196301",
     "status": "completed"
    },
    "tags": []
   },
   "outputs": [],
   "source": [
    "# alpha = 0.5\n",
    "# beta = 1 - alpha\n",
    "# FLoss = FocalLoss(alpha = 0.80, gamma=2)\n",
    "# DiceLoss = smp.losses.DiceLoss(mode='binary')\n",
    "# BCELoss = smp.losses.SoftBCEWithLogitsLoss()\n",
    "# TverskyLoss = smp.losses.TverskyLoss(mode='binary', log_loss=False, alpha=alpha, beta=beta)"
   ]
  },
  {
   "cell_type": "code",
   "execution_count": 21,
   "id": "08e4b9cc",
   "metadata": {
    "execution": {
     "iopub.execute_input": "2023-06-14T12:22:46.236664Z",
     "iopub.status.busy": "2023-06-14T12:22:46.236192Z",
     "iopub.status.idle": "2023-06-14T12:22:46.239968Z",
     "shell.execute_reply": "2023-06-14T12:22:46.239142Z"
    },
    "papermill": {
     "duration": 0.017032,
     "end_time": "2023-06-14T12:22:46.241954",
     "exception": false,
     "start_time": "2023-06-14T12:22:46.224922",
     "status": "completed"
    },
    "tags": []
   },
   "outputs": [],
   "source": [
    "# def criterion(y_pred, y_true):\n",
    "#     if CFG.loss = 'BCE': \n",
    "#         return 0.5 * BCELoss(y_pred, y_true) + 0.5 * DiceLoss(y_pred, y_true)\n",
    "#     elif CFG.loss = 'FL:\n",
    "#         return 0.5 * FLoss(torch.sigmoid(y_pred), y_true) + 0.5 * DiceLoss(y_pred, y_true)\n",
    "#     return DiceLoss(y_pred, y_true)\n",
    "    # return 0.5 * BCELoss(y_pred, y_true) + 0.5 * TverskyLoss(y_pred, y_true)\n",
    "#     return BCELoss(y_pred, y_true)"
   ]
  },
  {
   "cell_type": "code",
   "execution_count": 22,
   "id": "87bc6876",
   "metadata": {
    "execution": {
     "iopub.execute_input": "2023-06-14T12:22:46.264931Z",
     "iopub.status.busy": "2023-06-14T12:22:46.264271Z",
     "iopub.status.idle": "2023-06-14T12:22:46.269966Z",
     "shell.execute_reply": "2023-06-14T12:22:46.269048Z"
    },
    "papermill": {
     "duration": 0.019162,
     "end_time": "2023-06-14T12:22:46.271992",
     "exception": false,
     "start_time": "2023-06-14T12:22:46.252830",
     "status": "completed"
    },
    "tags": []
   },
   "outputs": [],
   "source": [
    "DiceLoss = smp.losses.DiceLoss(mode='binary')\n",
    "BCELoss = smp.losses.SoftBCEWithLogitsLoss()\n",
    "def criterion(y_pred, y_true):\n",
    "    if CFG.loss == 'BCE': \n",
    "        return 0.5 * BCELoss(y_pred, y_true) + 0.5 * DiceLoss(y_pred, y_true)\n",
    "    elif CFG.loss == 'FL':\n",
    "        return 0.5 * FLoss(y_pred, y_true) + 0.5 * DiceLoss(y_pred, y_true)"
   ]
  },
  {
   "cell_type": "markdown",
   "id": "85928b74",
   "metadata": {
    "papermill": {
     "duration": 0.010492,
     "end_time": "2023-06-14T12:22:46.293388",
     "exception": false,
     "start_time": "2023-06-14T12:22:46.282896",
     "status": "completed"
    },
    "tags": []
   },
   "source": [
    "## Training and Validation Function"
   ]
  },
  {
   "cell_type": "code",
   "execution_count": 23,
   "id": "ba32b6a1",
   "metadata": {
    "execution": {
     "iopub.execute_input": "2023-06-14T12:22:46.316196Z",
     "iopub.status.busy": "2023-06-14T12:22:46.315932Z",
     "iopub.status.idle": "2023-06-14T12:22:46.329321Z",
     "shell.execute_reply": "2023-06-14T12:22:46.328428Z"
    },
    "papermill": {
     "duration": 0.027179,
     "end_time": "2023-06-14T12:22:46.331206",
     "exception": false,
     "start_time": "2023-06-14T12:22:46.304027",
     "status": "completed"
    },
    "tags": []
   },
   "outputs": [],
   "source": [
    "def train_fn(train_loader, model, criterion, optimizer, device):\n",
    "    model.train()\n",
    "\n",
    "    scaler = GradScaler(enabled=CFG.use_amp)\n",
    "    losses = AverageMeter()\n",
    "\n",
    "    for step, (images, labels) in tqdm(enumerate(train_loader), total=len(train_loader)):\n",
    "        optimizer.zero_grad()\n",
    "        images = images.to(device)\n",
    "        labels = labels.to(device)\n",
    "        batch_size = labels.size(0)\n",
    "\n",
    "        with autocast(CFG.use_amp):\n",
    "            y_preds = model(images)\n",
    "            loss = criterion(y_preds, labels)\n",
    "\n",
    "        losses.update(loss.item(), batch_size)\n",
    "        scaler.scale(loss).backward()\n",
    "        \n",
    "#         scaler.unscale_(optimizer)\n",
    "#         torch.nn.utils.clip_grad_norm_(model.parameters(), CFG.max_grad_norm)\n",
    "\n",
    "        grad_norm = torch.nn.utils.clip_grad_norm_(\n",
    "            model.parameters(), CFG.max_grad_norm)\n",
    "\n",
    "        scaler.step(optimizer)\n",
    "        scaler.update()\n",
    "        \n",
    "        del images, labels\n",
    "        garbage = gc.collect()\n",
    "        torch.cuda.empty_cache()       \n",
    "\n",
    "    return losses.avg\n",
    "\n",
    "def valid_fn(valid_loader, model, criterion, device, valid_xyxys, valid_mask_gt):\n",
    "    mask_pred = np.zeros(valid_mask_gt.shape)\n",
    "    mask_count = np.zeros(valid_mask_gt.shape)\n",
    "\n",
    "    model.eval()\n",
    "    losses = AverageMeter()\n",
    "\n",
    "    for step, (images, labels) in tqdm(enumerate(valid_loader), total=len(valid_loader)):\n",
    "        images = images.to(device)\n",
    "        labels = labels.to(device)\n",
    "        batch_size = labels.size(0)\n",
    "\n",
    "        with torch.no_grad():\n",
    "            y_preds = model(images)\n",
    "            loss = criterion(y_preds, labels)\n",
    "        losses.update(loss.item(), batch_size)\n",
    "\n",
    "        # make whole mask\n",
    "        y_preds = torch.sigmoid(y_preds).to('cpu').numpy()\n",
    "        start_idx = step*CFG.valid_batch_size\n",
    "        end_idx = start_idx + batch_size\n",
    "        for i, (x1, y1, x2, y2) in enumerate(valid_xyxys[start_idx:end_idx]):\n",
    "            mask_pred[y1:y2, x1:x2] += y_preds[i].squeeze(0)\n",
    "            mask_count[y1:y2, x1:x2] += np.ones((CFG.tile_size, CFG.tile_size))\n",
    "            \n",
    "        del images, labels\n",
    "        garbage = gc.collect()\n",
    "        torch.cuda.empty_cache() \n",
    "\n",
    "    print(f'mask_count_min: {mask_count.min()}')\n",
    "    mask_pred /= mask_count\n",
    "     \n",
    "    return losses.avg, mask_pred"
   ]
  },
  {
   "cell_type": "markdown",
   "id": "435df6f3",
   "metadata": {
    "papermill": {
     "duration": 0.010441,
     "end_time": "2023-06-14T12:22:46.352268",
     "exception": false,
     "start_time": "2023-06-14T12:22:46.341827",
     "status": "completed"
    },
    "tags": []
   },
   "source": [
    "## Metrics for the competition"
   ]
  },
  {
   "cell_type": "code",
   "execution_count": 24,
   "id": "8193fda1",
   "metadata": {
    "execution": {
     "iopub.execute_input": "2023-06-14T12:22:46.374975Z",
     "iopub.status.busy": "2023-06-14T12:22:46.374240Z",
     "iopub.status.idle": "2023-06-14T12:22:46.383833Z",
     "shell.execute_reply": "2023-06-14T12:22:46.383004Z"
    },
    "papermill": {
     "duration": 0.022785,
     "end_time": "2023-06-14T12:22:46.385704",
     "exception": false,
     "start_time": "2023-06-14T12:22:46.362919",
     "status": "completed"
    },
    "tags": []
   },
   "outputs": [],
   "source": [
    "from sklearn.metrics import fbeta_score\n",
    "\n",
    "def fbeta_numpy(targets, preds, beta=0.5, smooth=1e-5):\n",
    "    \"\"\"\n",
    "    https://www.kaggle.com/competitions/vesuvius-challenge-ink-detection/discussion/397288\n",
    "    \"\"\"\n",
    "    y_true_count = targets.sum()\n",
    "    ctp = preds[targets==1].sum()\n",
    "    cfp = preds[targets==0].sum()\n",
    "    beta_squared = beta * beta\n",
    "\n",
    "    c_precision = ctp / (ctp + cfp + smooth)\n",
    "    c_recall = ctp / (y_true_count + smooth)\n",
    "    dice = (1 + beta_squared) * (c_precision * c_recall) / (beta_squared * c_precision + c_recall + smooth)\n",
    "    \n",
    "    del targets, preds\n",
    "    garbage = gc.collect()\n",
    "    return dice\n",
    "\n",
    "def calc_fbeta(mask, mask_pred):\n",
    "    mask = mask.astype(np.uint8).flatten()\n",
    "    mask_pred = mask_pred.flatten()\n",
    "\n",
    "    best_th = 0\n",
    "    best_dice = 0\n",
    "    for th in np.array(range(100, 950+1, 25)) / 1000:\n",
    "        \n",
    "        # dice = fbeta_score(mask, (mask_pred >= th).astype(int), beta=0.5)\n",
    "        dice = fbeta_numpy(mask, (mask_pred >= th).astype(np.uint8), beta=0.5)\n",
    "        print(f'th: {th}, fbeta: {dice}')\n",
    "\n",
    "        if dice > best_dice:\n",
    "            best_dice = dice\n",
    "            best_th = th\n",
    "    del mask, mask_pred\n",
    "    garbage = gc.collect()\n",
    "    \n",
    "    \n",
    "    return best_dice, best_th\n",
    "\n",
    "\n",
    "def calc_cv(mask_gt, mask_pred):\n",
    "    best_dice, best_th = calc_fbeta(mask_gt, mask_pred)\n",
    "\n",
    "    return best_dice, best_th"
   ]
  },
  {
   "cell_type": "markdown",
   "id": "68e78b3d",
   "metadata": {
    "papermill": {
     "duration": 0.010367,
     "end_time": "2023-06-14T12:22:46.406683",
     "exception": false,
     "start_time": "2023-06-14T12:22:46.396316",
     "status": "completed"
    },
    "tags": []
   },
   "source": [
    "## Main"
   ]
  },
  {
   "cell_type": "code",
   "execution_count": 25,
   "id": "47f9b0cc",
   "metadata": {
    "execution": {
     "iopub.execute_input": "2023-06-14T12:22:46.429242Z",
     "iopub.status.busy": "2023-06-14T12:22:46.428990Z",
     "iopub.status.idle": "2023-06-14T12:22:46.447154Z",
     "shell.execute_reply": "2023-06-14T12:22:46.446352Z"
    },
    "papermill": {
     "duration": 0.031676,
     "end_time": "2023-06-14T12:22:46.449059",
     "exception": false,
     "start_time": "2023-06-14T12:22:46.417383",
     "status": "completed"
    },
    "tags": []
   },
   "outputs": [],
   "source": [
    "def train(train_images, train_masks, valid_images, valid_masks, valid_xyxys):\n",
    "    for fold in CFG.valid_id:\n",
    "        valid_xyxys = np.stack(valid_xyxys)\n",
    "\n",
    "\n",
    "        train_dataset = CustomDataset(train_images, CFG, labels=train_masks,\n",
    "                                      transform=get_transforms(data='train', cfg=CFG))\n",
    "\n",
    "        valid_dataset = CustomDataset(valid_images, CFG, labels=valid_masks,\n",
    "                                      transform=get_transforms(data='valid', cfg=CFG))\n",
    "\n",
    "        train_loader = DataLoader(train_dataset,\n",
    "                                  batch_size=CFG.train_batch_size,\n",
    "                                  shuffle=True,\n",
    "                                  num_workers=CFG.num_workers, pin_memory=True, drop_last=True,\n",
    "                                  )\n",
    "\n",
    "        valid_loader = DataLoader(valid_dataset,\n",
    "                                  batch_size=CFG.valid_batch_size,\n",
    "                                  shuffle=False,\n",
    "                                  num_workers=CFG.num_workers, pin_memory=True, drop_last=False)\n",
    "\n",
    "\n",
    "        valid_mask_gt = cv2.imread(CFG.comp_dataset_path + f\"train/{fold}/inklabels.png\", 0)\n",
    "        valid_mask_gt = valid_mask_gt / 255\n",
    "        pad0 = (CFG.tile_size - valid_mask_gt.shape[0] % CFG.tile_size)\n",
    "        pad1 = (CFG.tile_size - valid_mask_gt.shape[1] % CFG.tile_size)\n",
    "        valid_mask_gt = np.pad(valid_mask_gt, [(0, pad0), (0, pad1)], constant_values=0)\n",
    "\n",
    "\n",
    "        if CFG.metric_direction == 'minimize':\n",
    "            best_score = np.inf\n",
    "        elif CFG.metric_direction == 'maximize':\n",
    "            best_score = -1\n",
    "\n",
    "        best_loss = np.inf\n",
    "        \n",
    "        Logger.info(f'\\n {CFG.backbone} \\n')\n",
    "\n",
    "        model = build_model(CFG)\n",
    "        model.to(device)\n",
    "\n",
    "        optimizer = AdamW(model.parameters(), lr=CFG.lr)\n",
    "        scheduler = get_scheduler(CFG, optimizer)\n",
    "        model_code = random.randint(1,100000)\n",
    "        run = wandb.init(project=f\"Stacking\", config=config, name = f\"Unet timm-resenst200e Fold 1 {model_code}\")\n",
    "        \n",
    "        patience_break = 0\n",
    "        \n",
    "        for epoch in range(CFG.epochs):\n",
    "            start_time = time.time()\n",
    "\n",
    "            # train\n",
    "            avg_loss = train_fn(train_loader, model, criterion, optimizer, device)\n",
    "\n",
    "            # eval\n",
    "            avg_val_loss, mask_pred = valid_fn(\n",
    "                valid_loader, model, criterion, device, valid_xyxys, valid_mask_gt)\n",
    "\n",
    "            scheduler_step(scheduler, avg_val_loss, epoch)\n",
    "\n",
    "            best_dice, best_th = calc_cv(valid_mask_gt, mask_pred)\n",
    "\n",
    "            score = best_dice\n",
    "\n",
    "            elapsed = time.time() - start_time\n",
    "            \n",
    "            wandb.log({\"Train_loss\": avg_loss, \"Val_los\": avg_val_loss, \"Score\": score, \"Epoch\":epoch+1, 'th':best_th, 'Time':elapsed})\n",
    "\n",
    "            \n",
    "            Logger.info(\n",
    "                f'Epoch {epoch+1} - avg_train_loss: {avg_loss:.4f}  avg_val_loss: {avg_val_loss:.4f} avgScore: {score:.4f} th: {best_th} time: {elapsed:.0f}s')\n",
    "\n",
    "            if CFG.metric_direction == 'minimize':\n",
    "                update_best = score < best_score\n",
    "            elif CFG.metric_direction == 'maximize':\n",
    "                update_best = score > best_score\n",
    "\n",
    "            if update_best:\n",
    "                patience_break = 0\n",
    "                best_loss = avg_val_loss\n",
    "                best_score = score\n",
    "                \n",
    "                best_save = {'Epoch':epoch+1,'Train_loss':avg_loss,'Val_loss':avg_val_loss,'Score':score,'Best_th':best_th}\n",
    "\n",
    "                torch.save({'model': model.state_dict()},\n",
    "                            CFG.model_dir + f'BEST.pth')\n",
    "                \n",
    "            else:\n",
    "                patience_break += 1\n",
    "                if patience_break == 10:\n",
    "                    break\n",
    "            #torch.save({'model': model.state_dict()},\n",
    "                       #CFG.model_dir + f'{CFG.model_name}_{CFG.backbone}_Epoch{epoch+1}_avgScore{score:.4f}_th{best_th}_fold2_{model_code}.pth')\n",
    "\n",
    "            torch.cuda.empty_cache()\n",
    "            abd = gc.collect()\n",
    "            \n",
    "        wandb.log({\"Best_Train_loss\": best_save['Train_loss'], \"Best_Val_los\": best_save['Val_loss'], \n",
    "                   \"Best_Score\": best_save['Score'], \"Best_Epoch\":best_save['Epoch'], \n",
    "                   'Best_th':best_save['Best_th']})\n",
    "        \n",
    "        Logger.info(\n",
    "            f'''\\n Model fold 3: {config['model']} Best_Epoch {best_save['Epoch']} - Best_train_loss: {best_save['Train_loss']}  \n",
    "            Best_val_loss: {best_save['Val_loss']} Best_Score: {best_save['Score']} \n",
    "            Best_th: {best_save['Best_th']}''')\n",
    "        run.finish()\n",
    "        del model\n",
    "        gc.collect()\n",
    "        del optimizer\n",
    "        del scheduler\n",
    "        garbage = gc.collect()\n",
    "        torch.cuda.empty_cache()"
   ]
  },
  {
   "cell_type": "code",
   "execution_count": 26,
   "id": "1c9d6787",
   "metadata": {
    "execution": {
     "iopub.execute_input": "2023-06-14T12:22:46.471748Z",
     "iopub.status.busy": "2023-06-14T12:22:46.471014Z",
     "iopub.status.idle": "2023-06-14T12:22:46.475468Z",
     "shell.execute_reply": "2023-06-14T12:22:46.474603Z"
    },
    "papermill": {
     "duration": 0.017757,
     "end_time": "2023-06-14T12:22:46.477398",
     "exception": false,
     "start_time": "2023-06-14T12:22:46.459641",
     "status": "completed"
    },
    "tags": []
   },
   "outputs": [],
   "source": [
    "config = {\n",
    "    'arch' : 'Unet',\n",
    "    'model' :CFG.backbone,\n",
    "    'fold': 1,\n",
    "    'version' : 'KU5_SF_V1',\n",
    "}"
   ]
  },
  {
   "cell_type": "code",
   "execution_count": 27,
   "id": "395eca05",
   "metadata": {
    "execution": {
     "iopub.execute_input": "2023-06-14T12:22:46.500135Z",
     "iopub.status.busy": "2023-06-14T12:22:46.499356Z",
     "iopub.status.idle": "2023-06-14T12:22:46.503322Z",
     "shell.execute_reply": "2023-06-14T12:22:46.502480Z"
    },
    "papermill": {
     "duration": 0.017296,
     "end_time": "2023-06-14T12:22:46.505338",
     "exception": false,
     "start_time": "2023-06-14T12:22:46.488042",
     "status": "completed"
    },
    "tags": []
   },
   "outputs": [],
   "source": [
    "# def update_CFG(config,CFG):\n",
    "#     CFG.model_name = config['arch']\n",
    "#     CFG.backbone = 'mit_b2'\n"
   ]
  },
  {
   "cell_type": "code",
   "execution_count": 28,
   "id": "dc03cce4",
   "metadata": {
    "execution": {
     "iopub.execute_input": "2023-06-14T12:22:46.529338Z",
     "iopub.status.busy": "2023-06-14T12:22:46.527844Z",
     "iopub.status.idle": "2023-06-14T12:23:00.854385Z",
     "shell.execute_reply": "2023-06-14T12:23:00.852999Z"
    },
    "papermill": {
     "duration": 14.343672,
     "end_time": "2023-06-14T12:23:00.860014",
     "exception": false,
     "start_time": "2023-06-14T12:22:46.516342",
     "status": "completed"
    },
    "tags": []
   },
   "outputs": [
    {
     "name": "stderr",
     "output_type": "stream",
     "text": [
      "100%|██████████| 6/6 [00:01<00:00,  3.06it/s]\n",
      "100%|██████████| 6/6 [00:05<00:00,  1.15it/s]\n",
      "100%|██████████| 6/6 [00:01<00:00,  4.22it/s]\n"
     ]
    }
   ],
   "source": [
    "train_images, train_masks, valid_images, valid_masks, valid_xyxys = get_train_valid_dataset(CFG.valid_id[0])\n",
    "# train(train_images, train_masks, valid_images, valid_masks, valid_xyxys)"
   ]
  },
  {
   "cell_type": "code",
   "execution_count": 29,
   "id": "b9cce661",
   "metadata": {
    "execution": {
     "iopub.execute_input": "2023-06-14T12:23:00.901977Z",
     "iopub.status.busy": "2023-06-14T12:23:00.901541Z",
     "iopub.status.idle": "2023-06-14T14:55:51.841733Z",
     "shell.execute_reply": "2023-06-14T14:55:51.840580Z"
    },
    "papermill": {
     "duration": 9170.962974,
     "end_time": "2023-06-14T14:55:51.844492",
     "exception": false,
     "start_time": "2023-06-14T12:23:00.881518",
     "status": "completed"
    },
    "tags": []
   },
   "outputs": [
    {
     "name": "stderr",
     "output_type": "stream",
     "text": [
      "\n",
      " timm-resnest200e \n",
      "\n"
     ]
    },
    {
     "name": "stdout",
     "output_type": "stream",
     "text": [
      "model_name Unet\n",
      "backbone timm-resnest200e\n"
     ]
    },
    {
     "name": "stderr",
     "output_type": "stream",
     "text": [
      "Downloading: \"https://github.com/rwightman/pytorch-image-models/releases/download/v0.1-resnest/resnest200-75117900.pth\" to /root/.cache/torch/hub/checkpoints/resnest200-75117900.pth\n",
      "100%|██████████| 269M/269M [00:00<00:00, 292MB/s]\n",
      "\u001b[34m\u001b[1mwandb\u001b[0m: Currently logged in as: \u001b[33mwhybeaking\u001b[0m (\u001b[33mi-am-noob\u001b[0m). Use \u001b[1m`wandb login --relogin`\u001b[0m to force relogin\n",
      "\u001b[34m\u001b[1mwandb\u001b[0m: wandb version 0.15.4 is available!  To upgrade, please run:\n",
      "\u001b[34m\u001b[1mwandb\u001b[0m:  $ pip install wandb --upgrade\n",
      "\u001b[34m\u001b[1mwandb\u001b[0m: Tracking run with wandb version 0.15.3\n",
      "\u001b[34m\u001b[1mwandb\u001b[0m: Run data is saved locally in \u001b[35m\u001b[1m/kaggle/working/wandb/run-20230614_122307-6m32yzxz\u001b[0m\n",
      "\u001b[34m\u001b[1mwandb\u001b[0m: Run \u001b[1m`wandb offline`\u001b[0m to turn off syncing.\n",
      "\u001b[34m\u001b[1mwandb\u001b[0m: Syncing run \u001b[33mUnet timm-resenst200e Fold 1 52281\u001b[0m\n",
      "\u001b[34m\u001b[1mwandb\u001b[0m: ⭐️ View project at \u001b[34m\u001b[4mhttps://wandb.ai/i-am-noob/Stacking\u001b[0m\n",
      "\u001b[34m\u001b[1mwandb\u001b[0m: 🚀 View run at \u001b[34m\u001b[4mhttps://wandb.ai/i-am-noob/Stacking/runs/6m32yzxz\u001b[0m\n",
      "100%|██████████| 180/180 [06:19<00:00,  2.11s/it]\n",
      "100%|██████████| 45/45 [00:52<00:00,  1.17s/it]\n",
      "/opt/conda/lib/python3.10/site-packages/torch/optim/lr_scheduler.py:152: UserWarning: The epoch parameter in `scheduler.step()` was not necessary and is being deprecated where possible. Please use `scheduler.step()` to step the scheduler. During the deprecation, if epoch is different from None, the closed form is used instead of the new chainable form, where available. Please open an issue if you are unable to replicate your use case: https://github.com/pytorch/pytorch/issues/new/choose.\n",
      "  warnings.warn(EPOCH_DEPRECATION_WARNING, UserWarning)\n"
     ]
    },
    {
     "name": "stdout",
     "output_type": "stream",
     "text": [
      "mask_count_min: 1.0\n",
      "th: 0.1, fbeta: 0.1181725139113061\n",
      "th: 0.125, fbeta: 0.11820914417458282\n",
      "th: 0.15, fbeta: 0.11822211910874526\n",
      "th: 0.175, fbeta: 0.11866569311155006\n",
      "th: 0.2, fbeta: 0.12024240330880116\n",
      "th: 0.225, fbeta: 0.12353305156957953\n",
      "th: 0.25, fbeta: 0.12859882491104732\n",
      "th: 0.275, fbeta: 0.16815517582634798\n",
      "th: 0.3, fbeta: 0.26375718391734093\n",
      "th: 0.325, fbeta: 0.38258891996334154\n",
      "th: 0.35, fbeta: 0.45150019401652924\n",
      "th: 0.375, fbeta: 0.48925593460156225\n",
      "th: 0.4, fbeta: 0.517375847946141\n",
      "th: 0.425, fbeta: 0.5306670437306722\n",
      "th: 0.45, fbeta: 0.5378532654826947\n",
      "th: 0.475, fbeta: 0.54134882476674\n",
      "th: 0.5, fbeta: 0.5423852549790815\n",
      "th: 0.525, fbeta: 0.5409857957383819\n",
      "th: 0.55, fbeta: 0.5374135910719551\n",
      "th: 0.575, fbeta: 0.5313399555553006\n",
      "th: 0.6, fbeta: 0.5228851975862548\n",
      "th: 0.625, fbeta: 0.512333745980145\n",
      "th: 0.65, fbeta: 0.49977774695934307\n",
      "th: 0.675, fbeta: 0.48500735237656534\n",
      "th: 0.7, fbeta: 0.4680639945704758\n",
      "th: 0.725, fbeta: 0.4488027851560429\n",
      "th: 0.75, fbeta: 0.4265301516472489\n",
      "th: 0.775, fbeta: 0.4013693186018499\n",
      "th: 0.8, fbeta: 0.37209899938357954\n",
      "th: 0.825, fbeta: 0.338225243077936\n",
      "th: 0.85, fbeta: 0.30072003287600857\n",
      "th: 0.875, fbeta: 0.2570309531811353\n",
      "th: 0.9, fbeta: 0.20692287272053497\n",
      "th: 0.925, fbeta: 0.15403730312147876\n",
      "th: 0.95, fbeta: 0.099304854227216\n"
     ]
    },
    {
     "name": "stderr",
     "output_type": "stream",
     "text": [
      "Epoch 1 - avg_train_loss: 0.6569  avg_val_loss: 0.5745 avgScore: 0.5424 th: 0.5 time: 450s\n",
      "100%|██████████| 180/180 [06:02<00:00,  2.01s/it]\n",
      "100%|██████████| 45/45 [00:51<00:00,  1.14s/it]\n"
     ]
    },
    {
     "name": "stdout",
     "output_type": "stream",
     "text": [
      "mask_count_min: 1.0\n",
      "th: 0.1, fbeta: 0.11814353218275557\n",
      "th: 0.125, fbeta: 0.11812596727022194\n",
      "th: 0.15, fbeta: 0.11810161723138805\n",
      "th: 0.175, fbeta: 0.11809344305762248\n",
      "th: 0.2, fbeta: 0.11853094431396653\n",
      "th: 0.225, fbeta: 0.1238569822808609\n",
      "th: 0.25, fbeta: 0.18432789396021648\n",
      "th: 0.275, fbeta: 0.3126643750996057\n",
      "th: 0.3, fbeta: 0.4172868494786231\n",
      "th: 0.325, fbeta: 0.47443846560460573\n",
      "th: 0.35, fbeta: 0.5072286721678025\n",
      "th: 0.375, fbeta: 0.5328155554809348\n",
      "th: 0.4, fbeta: 0.5443864274989626\n",
      "th: 0.425, fbeta: 0.5565867614487456\n",
      "th: 0.45, fbeta: 0.5633750342028772\n",
      "th: 0.475, fbeta: 0.567806515345658\n",
      "th: 0.5, fbeta: 0.5710195173222028\n",
      "th: 0.525, fbeta: 0.5729303611479593\n",
      "th: 0.55, fbeta: 0.5738349629490045\n",
      "th: 0.575, fbeta: 0.573675691278147\n",
      "th: 0.6, fbeta: 0.572460125409277\n",
      "th: 0.625, fbeta: 0.569556818530532\n",
      "th: 0.65, fbeta: 0.5648591262269362\n",
      "th: 0.675, fbeta: 0.5580260841030116\n",
      "th: 0.7, fbeta: 0.5503865516357597\n",
      "th: 0.725, fbeta: 0.5417540157015125\n",
      "th: 0.75, fbeta: 0.5323808867418486\n",
      "th: 0.775, fbeta: 0.5210368928225674\n",
      "th: 0.8, fbeta: 0.5068814738166602\n",
      "th: 0.825, fbeta: 0.4916589081583125\n",
      "th: 0.85, fbeta: 0.4752291476640698\n",
      "th: 0.875, fbeta: 0.4569334911945334\n",
      "th: 0.9, fbeta: 0.4359967480325028\n",
      "th: 0.925, fbeta: 0.4094303397970023\n"
     ]
    },
    {
     "name": "stderr",
     "output_type": "stream",
     "text": [
      "Epoch 2 - avg_train_loss: 0.6117  avg_val_loss: 0.5488 avgScore: 0.5738 th: 0.55 time: 431s\n"
     ]
    },
    {
     "name": "stdout",
     "output_type": "stream",
     "text": [
      "th: 0.95, fbeta: 0.368689303887553\n"
     ]
    },
    {
     "name": "stderr",
     "output_type": "stream",
     "text": [
      "100%|██████████| 180/180 [06:02<00:00,  2.02s/it]\n",
      "100%|██████████| 45/45 [00:51<00:00,  1.15s/it]\n",
      "/opt/conda/lib/python3.10/site-packages/torch/optim/lr_scheduler.py:814: UserWarning: To get the last learning rate computed by the scheduler, please use `get_last_lr()`.\n",
      "  warnings.warn(\"To get the last learning rate computed by the scheduler, \"\n"
     ]
    },
    {
     "name": "stdout",
     "output_type": "stream",
     "text": [
      "mask_count_min: 1.0\n",
      "th: 0.1, fbeta: 0.1181809407741249\n",
      "th: 0.125, fbeta: 0.12060284393703291\n",
      "th: 0.15, fbeta: 0.20560290368248108\n",
      "th: 0.175, fbeta: 0.31014022771908983\n",
      "th: 0.2, fbeta: 0.4077683043459383\n",
      "th: 0.225, fbeta: 0.47519221296298936\n",
      "th: 0.25, fbeta: 0.515460683563743\n",
      "th: 0.275, fbeta: 0.5298239612048997\n",
      "th: 0.3, fbeta: 0.5387516486616412\n",
      "th: 0.325, fbeta: 0.5453646696490452\n",
      "th: 0.35, fbeta: 0.5507859393720562\n",
      "th: 0.375, fbeta: 0.555607222095483\n",
      "th: 0.4, fbeta: 0.5596538686490264\n",
      "th: 0.425, fbeta: 0.5632643714486195\n",
      "th: 0.45, fbeta: 0.5663118777145781\n",
      "th: 0.475, fbeta: 0.5687716275763296\n",
      "th: 0.5, fbeta: 0.5703661407275821\n",
      "th: 0.525, fbeta: 0.5712345352659586\n",
      "th: 0.55, fbeta: 0.5711396658887342\n",
      "th: 0.575, fbeta: 0.5701315090125754\n",
      "th: 0.6, fbeta: 0.5684256355950734\n",
      "th: 0.625, fbeta: 0.5659884848419975\n",
      "th: 0.65, fbeta: 0.5619400454110036\n",
      "th: 0.675, fbeta: 0.5556636013654938\n",
      "th: 0.7, fbeta: 0.5471647759219124\n",
      "th: 0.725, fbeta: 0.535054578925158\n",
      "th: 0.75, fbeta: 0.5183695843979934\n",
      "th: 0.775, fbeta: 0.4964352265578518\n",
      "th: 0.8, fbeta: 0.4679119354310581\n",
      "th: 0.825, fbeta: 0.4308117388639876\n",
      "th: 0.85, fbeta: 0.38365782402693044\n",
      "th: 0.875, fbeta: 0.3267652371098039\n",
      "th: 0.9, fbeta: 0.25772526881590374\n",
      "th: 0.925, fbeta: 0.17131320607525027\n",
      "th: 0.95, fbeta: 0.06967671156772219\n"
     ]
    },
    {
     "name": "stderr",
     "output_type": "stream",
     "text": [
      "Epoch 3 - avg_train_loss: 0.5810  avg_val_loss: 0.4850 avgScore: 0.5712 th: 0.525 time: 432s\n",
      "100%|██████████| 180/180 [06:01<00:00,  2.01s/it]\n",
      "100%|██████████| 45/45 [00:51<00:00,  1.14s/it]\n"
     ]
    },
    {
     "name": "stdout",
     "output_type": "stream",
     "text": [
      "mask_count_min: 1.0\n",
      "th: 0.1, fbeta: 0.12683314097087448\n",
      "th: 0.125, fbeta: 0.340429213103882\n",
      "th: 0.15, fbeta: 0.43589169492344887\n",
      "th: 0.175, fbeta: 0.46907489454270274\n",
      "th: 0.2, fbeta: 0.49263130329274796\n",
      "th: 0.225, fbeta: 0.5058568786417107\n",
      "th: 0.25, fbeta: 0.5159136152409974\n",
      "th: 0.275, fbeta: 0.5241398755808832\n",
      "th: 0.3, fbeta: 0.5321154340120082\n",
      "th: 0.325, fbeta: 0.5390474755912186\n",
      "th: 0.35, fbeta: 0.5453238676270393\n",
      "th: 0.375, fbeta: 0.5510971004938431\n",
      "th: 0.4, fbeta: 0.5566022732733878\n",
      "th: 0.425, fbeta: 0.561780965746071\n",
      "th: 0.45, fbeta: 0.5664151412342842\n",
      "th: 0.475, fbeta: 0.5704142926317315\n",
      "th: 0.5, fbeta: 0.5738865689087924\n",
      "th: 0.525, fbeta: 0.5771258658617661\n",
      "th: 0.55, fbeta: 0.5801518463642814\n",
      "th: 0.575, fbeta: 0.5828116002807652\n",
      "th: 0.6, fbeta: 0.585281941683226\n",
      "th: 0.625, fbeta: 0.5877390961733332\n",
      "th: 0.65, fbeta: 0.5904136652040578\n",
      "th: 0.675, fbeta: 0.5934226904402948\n",
      "th: 0.7, fbeta: 0.5965380147861408\n",
      "th: 0.725, fbeta: 0.5995497103818214\n",
      "th: 0.75, fbeta: 0.6017211812703347\n",
      "th: 0.775, fbeta: 0.6021630553892692\n",
      "th: 0.8, fbeta: 0.5993922772313311\n",
      "th: 0.825, fbeta: 0.5944032388557557\n",
      "th: 0.85, fbeta: 0.58667637891449\n",
      "th: 0.875, fbeta: 0.5757944382270858\n",
      "th: 0.9, fbeta: 0.5616388141280704\n",
      "th: 0.925, fbeta: 0.5411230885894149\n",
      "th: 0.95, fbeta: 0.4951933948172272\n"
     ]
    },
    {
     "name": "stderr",
     "output_type": "stream",
     "text": [
      "Epoch 4 - avg_train_loss: 0.5504  avg_val_loss: 0.4486 avgScore: 0.6022 th: 0.775 time: 430s\n",
      "100%|██████████| 180/180 [05:59<00:00,  2.00s/it]\n",
      "100%|██████████| 45/45 [00:51<00:00,  1.13s/it]\n"
     ]
    },
    {
     "name": "stdout",
     "output_type": "stream",
     "text": [
      "mask_count_min: 1.0\n",
      "th: 0.1, fbeta: 0.12019998241505053\n",
      "th: 0.125, fbeta: 0.14443437689761027\n",
      "th: 0.15, fbeta: 0.3012010279118113\n",
      "th: 0.175, fbeta: 0.44342966214848967\n",
      "th: 0.2, fbeta: 0.47933920962004856\n",
      "th: 0.225, fbeta: 0.494083598821734\n",
      "th: 0.25, fbeta: 0.5027416913111246\n",
      "th: 0.275, fbeta: 0.5104348702494811\n",
      "th: 0.3, fbeta: 0.5170116144790537\n",
      "th: 0.325, fbeta: 0.5230902752077844\n",
      "th: 0.35, fbeta: 0.528804609858861\n",
      "th: 0.375, fbeta: 0.5341328988023031\n",
      "th: 0.4, fbeta: 0.5394147249131394\n",
      "th: 0.425, fbeta: 0.5445142584537593\n",
      "th: 0.45, fbeta: 0.5494784648948292\n",
      "th: 0.475, fbeta: 0.5541828181114458\n",
      "th: 0.5, fbeta: 0.5585537597747131\n",
      "th: 0.525, fbeta: 0.5624645443099682\n",
      "th: 0.55, fbeta: 0.566040343226126\n",
      "th: 0.575, fbeta: 0.5693087281983149\n",
      "th: 0.6, fbeta: 0.5725242389241891\n",
      "th: 0.625, fbeta: 0.5756679305892853\n",
      "th: 0.65, fbeta: 0.5787249013295098\n",
      "th: 0.675, fbeta: 0.5819764211399677\n",
      "th: 0.7, fbeta: 0.5853962702700696\n",
      "th: 0.725, fbeta: 0.5885122947070777\n",
      "th: 0.75, fbeta: 0.5909542516331304\n",
      "th: 0.775, fbeta: 0.5928866530210113\n",
      "th: 0.8, fbeta: 0.5937671145179421\n",
      "th: 0.825, fbeta: 0.5925200027380613\n",
      "th: 0.85, fbeta: 0.5898520455612584\n",
      "th: 0.875, fbeta: 0.5836682993540397\n",
      "th: 0.9, fbeta: 0.5729574078563345\n",
      "th: 0.925, fbeta: 0.5557768541304197\n",
      "th: 0.95, fbeta: 0.5178546154644956\n"
     ]
    },
    {
     "name": "stderr",
     "output_type": "stream",
     "text": [
      "Epoch 5 - avg_train_loss: 0.5470  avg_val_loss: 0.4653 avgScore: 0.5938 th: 0.8 time: 428s\n",
      "100%|██████████| 180/180 [06:07<00:00,  2.04s/it]\n",
      "100%|██████████| 45/45 [00:51<00:00,  1.15s/it]\n"
     ]
    },
    {
     "name": "stdout",
     "output_type": "stream",
     "text": [
      "mask_count_min: 1.0\n",
      "th: 0.1, fbeta: 0.12610452360412958\n",
      "th: 0.125, fbeta: 0.23553977679422614\n",
      "th: 0.15, fbeta: 0.43059477141929375\n",
      "th: 0.175, fbeta: 0.48705381096898853\n",
      "th: 0.2, fbeta: 0.5063705581618325\n",
      "th: 0.225, fbeta: 0.5174725617012265\n",
      "th: 0.25, fbeta: 0.5263018313880358\n",
      "th: 0.275, fbeta: 0.533669240358576\n",
      "th: 0.3, fbeta: 0.540454387929578\n",
      "th: 0.325, fbeta: 0.5471158169141901\n",
      "th: 0.35, fbeta: 0.5534830183129736\n",
      "th: 0.375, fbeta: 0.5596210511952413\n",
      "th: 0.4, fbeta: 0.5649055918845773\n",
      "th: 0.425, fbeta: 0.5694445282144612\n",
      "th: 0.45, fbeta: 0.5733045903048781\n",
      "th: 0.475, fbeta: 0.5766223111009966\n",
      "th: 0.5, fbeta: 0.5795467567801829\n",
      "th: 0.525, fbeta: 0.5821842742251344\n",
      "th: 0.55, fbeta: 0.5846020064523264\n",
      "th: 0.575, fbeta: 0.586824740649239\n",
      "th: 0.6, fbeta: 0.5890497726631769\n",
      "th: 0.625, fbeta: 0.5912673175892443\n",
      "th: 0.65, fbeta: 0.5933445728091622\n",
      "th: 0.675, fbeta: 0.595309115960671\n",
      "th: 0.7, fbeta: 0.597361885737602\n",
      "th: 0.725, fbeta: 0.5995449200230414\n",
      "th: 0.75, fbeta: 0.6013353834616905\n",
      "th: 0.775, fbeta: 0.6028545890147682\n",
      "th: 0.8, fbeta: 0.6029678773540207\n",
      "th: 0.825, fbeta: 0.6013010922587322\n",
      "th: 0.85, fbeta: 0.5974023283835296\n",
      "th: 0.875, fbeta: 0.5907257861145392\n",
      "th: 0.9, fbeta: 0.5831524767032893\n",
      "th: 0.925, fbeta: 0.5734565617067524\n",
      "th: 0.95, fbeta: 0.5604302615133019\n"
     ]
    },
    {
     "name": "stderr",
     "output_type": "stream",
     "text": [
      "Epoch 6 - avg_train_loss: 0.5425  avg_val_loss: 0.4549 avgScore: 0.6030 th: 0.8 time: 437s\n",
      "100%|██████████| 180/180 [06:02<00:00,  2.02s/it]\n",
      "100%|██████████| 45/45 [00:51<00:00,  1.14s/it]\n"
     ]
    },
    {
     "name": "stdout",
     "output_type": "stream",
     "text": [
      "mask_count_min: 1.0\n",
      "th: 0.1, fbeta: 0.13960908397259078\n",
      "th: 0.125, fbeta: 0.34370363302171775\n",
      "th: 0.15, fbeta: 0.47204920828564756\n",
      "th: 0.175, fbeta: 0.49837451241996944\n",
      "th: 0.2, fbeta: 0.5126259682401547\n",
      "th: 0.225, fbeta: 0.522815135439045\n",
      "th: 0.25, fbeta: 0.5309930709189975\n",
      "th: 0.275, fbeta: 0.5379635531744001\n",
      "th: 0.3, fbeta: 0.5444119431945357\n",
      "th: 0.325, fbeta: 0.550505589629732\n",
      "th: 0.35, fbeta: 0.556834581270034\n",
      "th: 0.375, fbeta: 0.5639353088971748\n",
      "th: 0.4, fbeta: 0.5712969556503568\n",
      "th: 0.425, fbeta: 0.5776270927789317\n",
      "th: 0.45, fbeta: 0.5824707716943307\n",
      "th: 0.475, fbeta: 0.5858335004311126\n",
      "th: 0.5, fbeta: 0.5884957972729403\n",
      "th: 0.525, fbeta: 0.5908156122821789\n",
      "th: 0.55, fbeta: 0.5929384296743552\n",
      "th: 0.575, fbeta: 0.5949839230954489\n",
      "th: 0.6, fbeta: 0.5968154608216766\n",
      "th: 0.625, fbeta: 0.5986883823384972\n",
      "th: 0.65, fbeta: 0.6003866322757728\n",
      "th: 0.675, fbeta: 0.6017956001809979\n",
      "th: 0.7, fbeta: 0.6031370526623032\n",
      "th: 0.725, fbeta: 0.6040202800105197\n",
      "th: 0.75, fbeta: 0.6032904017148208\n",
      "th: 0.775, fbeta: 0.6009221881303239\n",
      "th: 0.8, fbeta: 0.5966953473065792\n",
      "th: 0.825, fbeta: 0.589290542111917\n",
      "th: 0.85, fbeta: 0.5797301671078079\n",
      "th: 0.875, fbeta: 0.5693919984982808\n",
      "th: 0.9, fbeta: 0.5561206964604346\n",
      "th: 0.925, fbeta: 0.5373040189579223\n",
      "th: 0.95, fbeta: 0.49878676048795556\n"
     ]
    },
    {
     "name": "stderr",
     "output_type": "stream",
     "text": [
      "Epoch 7 - avg_train_loss: 0.5370  avg_val_loss: 0.4445 avgScore: 0.6040 th: 0.725 time: 432s\n",
      "100%|██████████| 180/180 [06:09<00:00,  2.05s/it]\n",
      "100%|██████████| 45/45 [00:51<00:00,  1.15s/it]\n"
     ]
    },
    {
     "name": "stdout",
     "output_type": "stream",
     "text": [
      "mask_count_min: 1.0\n",
      "th: 0.1, fbeta: 0.12232840924044927\n",
      "th: 0.125, fbeta: 0.13340380524736778\n",
      "th: 0.15, fbeta: 0.19741695801940953\n",
      "th: 0.175, fbeta: 0.4619655574062158\n",
      "th: 0.2, fbeta: 0.5162896576712239\n",
      "th: 0.225, fbeta: 0.5285755086677401\n",
      "th: 0.25, fbeta: 0.5378904140422074\n",
      "th: 0.275, fbeta: 0.5462280271792096\n",
      "th: 0.3, fbeta: 0.5539384040307805\n",
      "th: 0.325, fbeta: 0.56153787680083\n",
      "th: 0.35, fbeta: 0.5689340197728109\n",
      "th: 0.375, fbeta: 0.5756906149381227\n",
      "th: 0.4, fbeta: 0.5821647294335401\n",
      "th: 0.425, fbeta: 0.5876748830370556\n",
      "th: 0.45, fbeta: 0.5922073868266122\n",
      "th: 0.475, fbeta: 0.5958576700571939\n",
      "th: 0.5, fbeta: 0.5987882783049112\n",
      "th: 0.525, fbeta: 0.6013256382753828\n",
      "th: 0.55, fbeta: 0.6036537354521564\n",
      "th: 0.575, fbeta: 0.6059592697796564\n",
      "th: 0.6, fbeta: 0.6080201184399598\n",
      "th: 0.625, fbeta: 0.609611449402501\n",
      "th: 0.65, fbeta: 0.610907014918097\n",
      "th: 0.675, fbeta: 0.6117059793254207\n",
      "th: 0.7, fbeta: 0.6120083453377373\n",
      "th: 0.725, fbeta: 0.6119173345295162\n",
      "th: 0.75, fbeta: 0.6111503852859778\n",
      "th: 0.775, fbeta: 0.6093433591710639\n",
      "th: 0.8, fbeta: 0.6062700880571202\n",
      "th: 0.825, fbeta: 0.6019568117063655\n",
      "th: 0.85, fbeta: 0.5961921044095004\n",
      "th: 0.875, fbeta: 0.5875536381287972\n",
      "th: 0.9, fbeta: 0.5753667547148855\n",
      "th: 0.925, fbeta: 0.5603499159315722\n",
      "th: 0.95, fbeta: 0.5424911941091146\n"
     ]
    },
    {
     "name": "stderr",
     "output_type": "stream",
     "text": [
      "Epoch 8 - avg_train_loss: 0.5393  avg_val_loss: 0.4710 avgScore: 0.6120 th: 0.7 time: 439s\n",
      "100%|██████████| 180/180 [06:04<00:00,  2.03s/it]\n",
      "100%|██████████| 45/45 [00:51<00:00,  1.15s/it]\n"
     ]
    },
    {
     "name": "stdout",
     "output_type": "stream",
     "text": [
      "mask_count_min: 1.0\n",
      "th: 0.1, fbeta: 0.15808989097518109\n",
      "th: 0.125, fbeta: 0.33663271504975256\n",
      "th: 0.15, fbeta: 0.4517342903072638\n",
      "th: 0.175, fbeta: 0.4891069958342109\n",
      "th: 0.2, fbeta: 0.5130816784134061\n",
      "th: 0.225, fbeta: 0.52950388073466\n",
      "th: 0.25, fbeta: 0.5413305304670748\n",
      "th: 0.275, fbeta: 0.5511855687032636\n",
      "th: 0.3, fbeta: 0.5593076287215782\n",
      "th: 0.325, fbeta: 0.5664638817827959\n",
      "th: 0.35, fbeta: 0.5731441931362784\n",
      "th: 0.375, fbeta: 0.579459027592826\n",
      "th: 0.4, fbeta: 0.5855524748546008\n",
      "th: 0.425, fbeta: 0.5912501862179365\n",
      "th: 0.45, fbeta: 0.5963566959973521\n",
      "th: 0.475, fbeta: 0.6001886050325967\n",
      "th: 0.5, fbeta: 0.6029559685927541\n",
      "th: 0.525, fbeta: 0.6053019482918558\n",
      "th: 0.55, fbeta: 0.6072480956383343\n",
      "th: 0.575, fbeta: 0.60901916367604\n",
      "th: 0.6, fbeta: 0.6101963555240343\n",
      "th: 0.625, fbeta: 0.610588792165742\n",
      "th: 0.65, fbeta: 0.6101447925588043\n",
      "th: 0.675, fbeta: 0.6091046467198422\n",
      "th: 0.7, fbeta: 0.6077869278939451\n",
      "th: 0.725, fbeta: 0.6059314602534449\n",
      "th: 0.75, fbeta: 0.6032390955155617\n",
      "th: 0.775, fbeta: 0.5998455480525524\n",
      "th: 0.8, fbeta: 0.5944662850460569\n",
      "th: 0.825, fbeta: 0.5862397087684785\n",
      "th: 0.85, fbeta: 0.5754361587218929\n",
      "th: 0.875, fbeta: 0.5606330213069133\n",
      "th: 0.9, fbeta: 0.542882758909441\n",
      "th: 0.925, fbeta: 0.5236804936835263\n",
      "th: 0.95, fbeta: 0.4967430632491435\n"
     ]
    },
    {
     "name": "stderr",
     "output_type": "stream",
     "text": [
      "Epoch 9 - avg_train_loss: 0.5393  avg_val_loss: 0.4488 avgScore: 0.6106 th: 0.625 time: 434s\n",
      "100%|██████████| 180/180 [06:02<00:00,  2.01s/it]\n",
      "100%|██████████| 45/45 [00:51<00:00,  1.14s/it]\n"
     ]
    },
    {
     "name": "stdout",
     "output_type": "stream",
     "text": [
      "mask_count_min: 1.0\n",
      "th: 0.1, fbeta: 0.12884039031113773\n",
      "th: 0.125, fbeta: 0.14571172129015517\n",
      "th: 0.15, fbeta: 0.3944162599790005\n",
      "th: 0.175, fbeta: 0.4971635193721172\n",
      "th: 0.2, fbeta: 0.5175778797951859\n",
      "th: 0.225, fbeta: 0.5322830370253162\n",
      "th: 0.25, fbeta: 0.5430390386279279\n",
      "th: 0.275, fbeta: 0.5512851237098446\n",
      "th: 0.3, fbeta: 0.5578191618448457\n",
      "th: 0.325, fbeta: 0.5640929895808866\n",
      "th: 0.35, fbeta: 0.570011338760752\n",
      "th: 0.375, fbeta: 0.5758581464394754\n",
      "th: 0.4, fbeta: 0.5820045079607653\n",
      "th: 0.425, fbeta: 0.587583023810293\n",
      "th: 0.45, fbeta: 0.5922504375713197\n",
      "th: 0.475, fbeta: 0.5959896975595975\n",
      "th: 0.5, fbeta: 0.5991237792925896\n",
      "th: 0.525, fbeta: 0.6017863277618098\n",
      "th: 0.55, fbeta: 0.6043135877419695\n",
      "th: 0.575, fbeta: 0.6067397365752931\n",
      "th: 0.6, fbeta: 0.6090445564712044\n",
      "th: 0.625, fbeta: 0.6110713398173748\n",
      "th: 0.65, fbeta: 0.6126892707982035\n",
      "th: 0.675, fbeta: 0.6136841312816287\n",
      "th: 0.7, fbeta: 0.6142486166886016\n",
      "th: 0.725, fbeta: 0.6140483907548435\n",
      "th: 0.75, fbeta: 0.6132260665858144\n",
      "th: 0.775, fbeta: 0.6113533219658417\n",
      "th: 0.8, fbeta: 0.6071731570249416\n",
      "th: 0.825, fbeta: 0.6005128698600428\n",
      "th: 0.85, fbeta: 0.5911585110234744\n",
      "th: 0.875, fbeta: 0.5792606368451055\n",
      "th: 0.9, fbeta: 0.5640604871084758\n",
      "th: 0.925, fbeta: 0.5446517644418113\n",
      "th: 0.95, fbeta: 0.522022774428612\n"
     ]
    },
    {
     "name": "stderr",
     "output_type": "stream",
     "text": [
      "Epoch 10 - avg_train_loss: 0.5404  avg_val_loss: 0.4574 avgScore: 0.6142 th: 0.7 time: 431s\n",
      "100%|██████████| 180/180 [05:59<00:00,  2.00s/it]\n",
      "100%|██████████| 45/45 [00:51<00:00,  1.14s/it]\n"
     ]
    },
    {
     "name": "stdout",
     "output_type": "stream",
     "text": [
      "mask_count_min: 1.0\n",
      "th: 0.1, fbeta: 0.13415929168933569\n",
      "th: 0.125, fbeta: 0.3088835761183689\n",
      "th: 0.15, fbeta: 0.44319046336980916\n",
      "th: 0.175, fbeta: 0.5018503715412594\n",
      "th: 0.2, fbeta: 0.5213686921714403\n",
      "th: 0.225, fbeta: 0.5335087010006708\n",
      "th: 0.25, fbeta: 0.5432466124782401\n",
      "th: 0.275, fbeta: 0.5507368767184553\n",
      "th: 0.3, fbeta: 0.5573213987212362\n",
      "th: 0.325, fbeta: 0.5632534115803842\n",
      "th: 0.35, fbeta: 0.5686987716745111\n",
      "th: 0.375, fbeta: 0.5738879231220348\n",
      "th: 0.4, fbeta: 0.5787438115229118\n",
      "th: 0.425, fbeta: 0.5834665596036158\n",
      "th: 0.45, fbeta: 0.5881578215653\n",
      "th: 0.475, fbeta: 0.5924488863347289\n",
      "th: 0.5, fbeta: 0.596454768283972\n",
      "th: 0.525, fbeta: 0.5999464904485615\n",
      "th: 0.55, fbeta: 0.6031651831669319\n",
      "th: 0.575, fbeta: 0.6058019343560533\n",
      "th: 0.6, fbeta: 0.6082664802941852\n",
      "th: 0.625, fbeta: 0.6104292723211618\n",
      "th: 0.65, fbeta: 0.6123327985632988\n",
      "th: 0.675, fbeta: 0.6136812585633162\n",
      "th: 0.7, fbeta: 0.6146014543596388\n",
      "th: 0.725, fbeta: 0.6148207261861526\n",
      "th: 0.75, fbeta: 0.6136081653469662\n",
      "th: 0.775, fbeta: 0.6109021614819464\n",
      "th: 0.8, fbeta: 0.6063269777390095\n",
      "th: 0.825, fbeta: 0.5996970528617965\n",
      "th: 0.85, fbeta: 0.5891560409960999\n",
      "th: 0.875, fbeta: 0.5739488024795271\n",
      "th: 0.9, fbeta: 0.5525675562786562\n",
      "th: 0.925, fbeta: 0.5233636099453348\n",
      "th: 0.95, fbeta: 0.4787421297274345\n"
     ]
    },
    {
     "name": "stderr",
     "output_type": "stream",
     "text": [
      "Epoch 11 - avg_train_loss: 0.5290  avg_val_loss: 0.4496 avgScore: 0.6148 th: 0.725 time: 427s\n",
      "100%|██████████| 180/180 [06:02<00:00,  2.01s/it]\n",
      "100%|██████████| 45/45 [00:51<00:00,  1.14s/it]\n"
     ]
    },
    {
     "name": "stdout",
     "output_type": "stream",
     "text": [
      "mask_count_min: 1.0\n",
      "th: 0.1, fbeta: 0.13571984481680352\n",
      "th: 0.125, fbeta: 0.2998962702469037\n",
      "th: 0.15, fbeta: 0.47202146367506775\n",
      "th: 0.175, fbeta: 0.4898402887659873\n",
      "th: 0.2, fbeta: 0.5011076888708044\n",
      "th: 0.225, fbeta: 0.510626232191714\n",
      "th: 0.25, fbeta: 0.5187086761014565\n",
      "th: 0.275, fbeta: 0.5259226030110121\n",
      "th: 0.3, fbeta: 0.5323960100933744\n",
      "th: 0.325, fbeta: 0.538584667675059\n",
      "th: 0.35, fbeta: 0.5444395791540176\n",
      "th: 0.375, fbeta: 0.5500716277495902\n",
      "th: 0.4, fbeta: 0.5553568514658783\n",
      "th: 0.425, fbeta: 0.5604686715493583\n",
      "th: 0.45, fbeta: 0.5651686544544964\n",
      "th: 0.475, fbeta: 0.5694552821068779\n",
      "th: 0.5, fbeta: 0.5737095975704091\n",
      "th: 0.525, fbeta: 0.577817981886046\n",
      "th: 0.55, fbeta: 0.5817768561119779\n",
      "th: 0.575, fbeta: 0.5855153113915266\n",
      "th: 0.6, fbeta: 0.5887933190182505\n",
      "th: 0.625, fbeta: 0.5917179433792117\n",
      "th: 0.65, fbeta: 0.5942984144077574\n",
      "th: 0.675, fbeta: 0.5969211351517771\n",
      "th: 0.7, fbeta: 0.5994232167804774\n",
      "th: 0.725, fbeta: 0.6016197006416137\n",
      "th: 0.75, fbeta: 0.6030738238143166\n",
      "th: 0.775, fbeta: 0.6040180274143014\n",
      "th: 0.8, fbeta: 0.603150809994015\n",
      "th: 0.825, fbeta: 0.5982718727004087\n",
      "th: 0.85, fbeta: 0.5887270944465431\n",
      "th: 0.875, fbeta: 0.5740783631656109\n",
      "th: 0.9, fbeta: 0.5534111273376694\n",
      "th: 0.925, fbeta: 0.5221762087266713\n"
     ]
    },
    {
     "name": "stderr",
     "output_type": "stream",
     "text": [
      "Epoch 12 - avg_train_loss: 0.5310  avg_val_loss: 0.4481 avgScore: 0.6040 th: 0.775 time: 431s\n"
     ]
    },
    {
     "name": "stdout",
     "output_type": "stream",
     "text": [
      "th: 0.95, fbeta: 0.45644716732965596\n"
     ]
    },
    {
     "name": "stderr",
     "output_type": "stream",
     "text": [
      "100%|██████████| 180/180 [06:10<00:00,  2.06s/it]\n",
      "100%|██████████| 45/45 [00:51<00:00,  1.14s/it]\n"
     ]
    },
    {
     "name": "stdout",
     "output_type": "stream",
     "text": [
      "mask_count_min: 1.0\n",
      "th: 0.1, fbeta: 0.13358454728166613\n",
      "th: 0.125, fbeta: 0.2578069620529074\n",
      "th: 0.15, fbeta: 0.4576941421539141\n",
      "th: 0.175, fbeta: 0.4837287642035372\n",
      "th: 0.2, fbeta: 0.49992417868644806\n",
      "th: 0.225, fbeta: 0.5131905872232908\n",
      "th: 0.25, fbeta: 0.5242239659142972\n",
      "th: 0.275, fbeta: 0.5339264573547293\n",
      "th: 0.3, fbeta: 0.5423625581777325\n",
      "th: 0.325, fbeta: 0.5495643725860401\n",
      "th: 0.35, fbeta: 0.5563789456238782\n",
      "th: 0.375, fbeta: 0.5623344020308503\n",
      "th: 0.4, fbeta: 0.5676181917299427\n",
      "th: 0.425, fbeta: 0.5725771297690976\n",
      "th: 0.45, fbeta: 0.5769025935645697\n",
      "th: 0.475, fbeta: 0.5808597725775939\n",
      "th: 0.5, fbeta: 0.5845153254596476\n",
      "th: 0.525, fbeta: 0.5881954716949765\n",
      "th: 0.55, fbeta: 0.5918365721537271\n",
      "th: 0.575, fbeta: 0.5952387928995464\n",
      "th: 0.6, fbeta: 0.5980768462139489\n",
      "th: 0.625, fbeta: 0.6002816863538613\n",
      "th: 0.65, fbeta: 0.6019381352197208\n",
      "th: 0.675, fbeta: 0.6037788218956036\n",
      "th: 0.7, fbeta: 0.605140326901226\n",
      "th: 0.725, fbeta: 0.6059664949477461\n",
      "th: 0.75, fbeta: 0.6065187688846191\n",
      "th: 0.775, fbeta: 0.6054354102712939\n",
      "th: 0.8, fbeta: 0.6014597933222148\n",
      "th: 0.825, fbeta: 0.5938643634458256\n",
      "th: 0.85, fbeta: 0.5821275074423485\n",
      "th: 0.875, fbeta: 0.5657886700962289\n",
      "th: 0.9, fbeta: 0.5429392820811794\n",
      "th: 0.925, fbeta: 0.5065011176613835\n",
      "th: 0.95, fbeta: 0.4382791845874935\n"
     ]
    },
    {
     "name": "stderr",
     "output_type": "stream",
     "text": [
      "Epoch 13 - avg_train_loss: 0.5297  avg_val_loss: 0.4521 avgScore: 0.6065 th: 0.75 time: 440s\n",
      "100%|██████████| 180/180 [06:00<00:00,  2.00s/it]\n",
      "100%|██████████| 45/45 [00:51<00:00,  1.14s/it]\n"
     ]
    },
    {
     "name": "stdout",
     "output_type": "stream",
     "text": [
      "mask_count_min: 1.0\n",
      "th: 0.1, fbeta: 0.13856651508034273\n",
      "th: 0.125, fbeta: 0.3322202704415327\n",
      "th: 0.15, fbeta: 0.4751415426476326\n",
      "th: 0.175, fbeta: 0.5004578078083369\n",
      "th: 0.2, fbeta: 0.5151144072748188\n",
      "th: 0.225, fbeta: 0.526062317118037\n",
      "th: 0.25, fbeta: 0.5349337738873673\n",
      "th: 0.275, fbeta: 0.5427912903572218\n",
      "th: 0.3, fbeta: 0.549881437152893\n",
      "th: 0.325, fbeta: 0.5564861092151837\n",
      "th: 0.35, fbeta: 0.5625284049560059\n",
      "th: 0.375, fbeta: 0.5680235751809568\n",
      "th: 0.4, fbeta: 0.5733766595914492\n",
      "th: 0.425, fbeta: 0.5781928294163938\n",
      "th: 0.45, fbeta: 0.5823290332743285\n",
      "th: 0.475, fbeta: 0.586186017544872\n",
      "th: 0.5, fbeta: 0.5897661377730231\n",
      "th: 0.525, fbeta: 0.5931752740871324\n",
      "th: 0.55, fbeta: 0.5963464495713613\n",
      "th: 0.575, fbeta: 0.5992764615087903\n",
      "th: 0.6, fbeta: 0.6022428766705866\n",
      "th: 0.625, fbeta: 0.6047099223434554\n",
      "th: 0.65, fbeta: 0.606825450022274\n",
      "th: 0.675, fbeta: 0.6082460587962567\n",
      "th: 0.7, fbeta: 0.6083466113213751\n",
      "th: 0.725, fbeta: 0.6070954203575454\n",
      "th: 0.75, fbeta: 0.6061079307603008\n",
      "th: 0.775, fbeta: 0.6054990128744968\n",
      "th: 0.8, fbeta: 0.6037263341086249\n",
      "th: 0.825, fbeta: 0.5994450147692403\n",
      "th: 0.85, fbeta: 0.5908739799615339\n",
      "th: 0.875, fbeta: 0.5749358969988585\n",
      "th: 0.9, fbeta: 0.5486236332182146\n",
      "th: 0.925, fbeta: 0.5106604790801891\n"
     ]
    },
    {
     "name": "stderr",
     "output_type": "stream",
     "text": [
      "Epoch 14 - avg_train_loss: 0.5243  avg_val_loss: 0.4465 avgScore: 0.6083 th: 0.7 time: 429s\n"
     ]
    },
    {
     "name": "stdout",
     "output_type": "stream",
     "text": [
      "th: 0.95, fbeta: 0.44106616223613876\n"
     ]
    },
    {
     "name": "stderr",
     "output_type": "stream",
     "text": [
      "100%|██████████| 180/180 [05:57<00:00,  1.99s/it]\n",
      "100%|██████████| 45/45 [00:51<00:00,  1.14s/it]\n"
     ]
    },
    {
     "name": "stdout",
     "output_type": "stream",
     "text": [
      "mask_count_min: 1.0\n",
      "th: 0.1, fbeta: 0.19691445073199648\n",
      "th: 0.125, fbeta: 0.43791228298209056\n",
      "th: 0.15, fbeta: 0.48273891625120485\n",
      "th: 0.175, fbeta: 0.5030974333068567\n",
      "th: 0.2, fbeta: 0.5186948718586373\n",
      "th: 0.225, fbeta: 0.5311353234942388\n",
      "th: 0.25, fbeta: 0.5414993506287121\n",
      "th: 0.275, fbeta: 0.5508242573149094\n",
      "th: 0.3, fbeta: 0.5592919116215379\n",
      "th: 0.325, fbeta: 0.5671266151298149\n",
      "th: 0.35, fbeta: 0.5740290363210896\n",
      "th: 0.375, fbeta: 0.5800512375119173\n",
      "th: 0.4, fbeta: 0.5853525773669463\n",
      "th: 0.425, fbeta: 0.5901740546109577\n",
      "th: 0.45, fbeta: 0.5942432081362778\n",
      "th: 0.475, fbeta: 0.5977457025607442\n",
      "th: 0.5, fbeta: 0.6012373682236142\n",
      "th: 0.525, fbeta: 0.6042752377477443\n",
      "th: 0.55, fbeta: 0.6068597260240959\n",
      "th: 0.575, fbeta: 0.6088117543085703\n",
      "th: 0.6, fbeta: 0.61039055973035\n",
      "th: 0.625, fbeta: 0.6115220997952848\n",
      "th: 0.65, fbeta: 0.612345554191338\n",
      "th: 0.675, fbeta: 0.6130775501629424\n",
      "th: 0.7, fbeta: 0.6134743030695665\n",
      "th: 0.725, fbeta: 0.612833536866182\n",
      "th: 0.75, fbeta: 0.6107767801347145\n",
      "th: 0.775, fbeta: 0.6073217349985087\n",
      "th: 0.8, fbeta: 0.602282608936666\n",
      "th: 0.825, fbeta: 0.59480538370855\n",
      "th: 0.85, fbeta: 0.581894875718647\n",
      "th: 0.875, fbeta: 0.5615082511432895\n",
      "th: 0.9, fbeta: 0.5354120673079482\n",
      "th: 0.925, fbeta: 0.4953114606018392\n",
      "th: 0.95, fbeta: 0.4181462311248515\n"
     ]
    },
    {
     "name": "stderr",
     "output_type": "stream",
     "text": [
      "Epoch 15 - avg_train_loss: 0.5231  avg_val_loss: 0.4392 avgScore: 0.6135 th: 0.7 time: 427s\n",
      "100%|██████████| 180/180 [06:02<00:00,  2.01s/it]\n",
      "100%|██████████| 45/45 [00:51<00:00,  1.13s/it]\n"
     ]
    },
    {
     "name": "stdout",
     "output_type": "stream",
     "text": [
      "mask_count_min: 1.0\n",
      "th: 0.1, fbeta: 0.13544250946172365\n",
      "th: 0.125, fbeta: 0.31597698171810346\n",
      "th: 0.15, fbeta: 0.47303740375835057\n",
      "th: 0.175, fbeta: 0.49763271434814377\n",
      "th: 0.2, fbeta: 0.5145182297494137\n",
      "th: 0.225, fbeta: 0.5278774529164802\n",
      "th: 0.25, fbeta: 0.538934651806904\n",
      "th: 0.275, fbeta: 0.5486619806174574\n",
      "th: 0.3, fbeta: 0.5577794773015022\n",
      "th: 0.325, fbeta: 0.5661560720990547\n",
      "th: 0.35, fbeta: 0.5735089924032252\n",
      "th: 0.375, fbeta: 0.5801047464267066\n",
      "th: 0.4, fbeta: 0.5857800671734807\n",
      "th: 0.425, fbeta: 0.5910163310124705\n",
      "th: 0.45, fbeta: 0.5955967583263355\n",
      "th: 0.475, fbeta: 0.5995929997114531\n",
      "th: 0.5, fbeta: 0.6030349405402238\n",
      "th: 0.525, fbeta: 0.6057585794084969\n",
      "th: 0.55, fbeta: 0.6081287807172443\n",
      "th: 0.575, fbeta: 0.6102044818314543\n",
      "th: 0.6, fbeta: 0.6118619999312636\n",
      "th: 0.625, fbeta: 0.6128616146161828\n",
      "th: 0.65, fbeta: 0.6134336787191959\n",
      "th: 0.675, fbeta: 0.6135325060186566\n",
      "th: 0.7, fbeta: 0.6132936387164031\n",
      "th: 0.725, fbeta: 0.6123331456551528\n",
      "th: 0.75, fbeta: 0.6108447462581109\n",
      "th: 0.775, fbeta: 0.6089214623687433\n",
      "th: 0.8, fbeta: 0.6059140007008362\n",
      "th: 0.825, fbeta: 0.6013033566362403\n",
      "th: 0.85, fbeta: 0.5924272880603816\n",
      "th: 0.875, fbeta: 0.5789924853638384\n",
      "th: 0.9, fbeta: 0.5585489756467187\n",
      "th: 0.925, fbeta: 0.5301460344144362\n",
      "th: 0.95, fbeta: 0.47254136716678136\n"
     ]
    },
    {
     "name": "stderr",
     "output_type": "stream",
     "text": [
      "Epoch 16 - avg_train_loss: 0.5289  avg_val_loss: 0.4483 avgScore: 0.6135 th: 0.675 time: 431s\n",
      "100%|██████████| 180/180 [06:05<00:00,  2.03s/it]\n",
      "100%|██████████| 45/45 [00:51<00:00,  1.14s/it]\n"
     ]
    },
    {
     "name": "stdout",
     "output_type": "stream",
     "text": [
      "mask_count_min: 1.0\n",
      "th: 0.1, fbeta: 0.13502865353564564\n",
      "th: 0.125, fbeta: 0.374871098565248\n",
      "th: 0.15, fbeta: 0.4822611658149173\n",
      "th: 0.175, fbeta: 0.5027596477262843\n",
      "th: 0.2, fbeta: 0.5174347358854268\n",
      "th: 0.225, fbeta: 0.5300799857343551\n",
      "th: 0.25, fbeta: 0.5411132880922791\n",
      "th: 0.275, fbeta: 0.5511013154426189\n",
      "th: 0.3, fbeta: 0.5600486930757385\n",
      "th: 0.325, fbeta: 0.5677928129417162\n",
      "th: 0.35, fbeta: 0.5744659883939935\n",
      "th: 0.375, fbeta: 0.5802362492086771\n",
      "th: 0.4, fbeta: 0.5855016831526063\n",
      "th: 0.425, fbeta: 0.5899567042784348\n",
      "th: 0.45, fbeta: 0.5935881396769807\n",
      "th: 0.475, fbeta: 0.5970789992734769\n",
      "th: 0.5, fbeta: 0.599912742960284\n",
      "th: 0.525, fbeta: 0.6022109717204602\n",
      "th: 0.55, fbeta: 0.6040418373403308\n",
      "th: 0.575, fbeta: 0.6052025842201066\n",
      "th: 0.6, fbeta: 0.6059363094188809\n",
      "th: 0.625, fbeta: 0.6063300927032711\n",
      "th: 0.65, fbeta: 0.6066485159891528\n",
      "th: 0.675, fbeta: 0.6067618095553986\n",
      "th: 0.7, fbeta: 0.6064708972299578\n",
      "th: 0.725, fbeta: 0.6059107134616357\n",
      "th: 0.75, fbeta: 0.6043724331754838\n",
      "th: 0.775, fbeta: 0.6021325601530744\n",
      "th: 0.8, fbeta: 0.5983752061785107\n",
      "th: 0.825, fbeta: 0.5931442552590502\n",
      "th: 0.85, fbeta: 0.5837515319382749\n",
      "th: 0.875, fbeta: 0.5688185257592724\n",
      "th: 0.9, fbeta: 0.54524475564065\n",
      "th: 0.925, fbeta: 0.5100158336707578\n"
     ]
    },
    {
     "name": "stderr",
     "output_type": "stream",
     "text": [
      "Epoch 17 - avg_train_loss: 0.5171  avg_val_loss: 0.4521 avgScore: 0.6068 th: 0.675 time: 434s\n"
     ]
    },
    {
     "name": "stdout",
     "output_type": "stream",
     "text": [
      "th: 0.95, fbeta: 0.4413773539702673\n"
     ]
    },
    {
     "name": "stderr",
     "output_type": "stream",
     "text": [
      "100%|██████████| 180/180 [06:08<00:00,  2.05s/it]\n",
      "100%|██████████| 45/45 [00:51<00:00,  1.14s/it]\n"
     ]
    },
    {
     "name": "stdout",
     "output_type": "stream",
     "text": [
      "mask_count_min: 1.0\n",
      "th: 0.1, fbeta: 0.13744547562238313\n",
      "th: 0.125, fbeta: 0.38523474525440105\n",
      "th: 0.15, fbeta: 0.46070866162398616\n",
      "th: 0.175, fbeta: 0.48299893403195954\n",
      "th: 0.2, fbeta: 0.49970971192942515\n",
      "th: 0.225, fbeta: 0.5131176309388271\n",
      "th: 0.25, fbeta: 0.5244829543159027\n",
      "th: 0.275, fbeta: 0.5348684099000811\n",
      "th: 0.3, fbeta: 0.5444438568076118\n",
      "th: 0.325, fbeta: 0.5530858517676952\n",
      "th: 0.35, fbeta: 0.5609439920877667\n",
      "th: 0.375, fbeta: 0.5680299184910211\n",
      "th: 0.4, fbeta: 0.5742544173714976\n",
      "th: 0.425, fbeta: 0.5797083755898035\n",
      "th: 0.45, fbeta: 0.5840953203063309\n",
      "th: 0.475, fbeta: 0.588156757947189\n",
      "th: 0.5, fbeta: 0.5923458848903038\n",
      "th: 0.525, fbeta: 0.5963778420373437\n",
      "th: 0.55, fbeta: 0.599888339210243\n",
      "th: 0.575, fbeta: 0.6024842625096694\n",
      "th: 0.6, fbeta: 0.6045160818838327\n",
      "th: 0.625, fbeta: 0.6059743321470461\n",
      "th: 0.65, fbeta: 0.6068198023712473\n",
      "th: 0.675, fbeta: 0.6074681061684398\n",
      "th: 0.7, fbeta: 0.6081502655218867\n",
      "th: 0.725, fbeta: 0.6085814730588135\n",
      "th: 0.75, fbeta: 0.6077262211120031\n",
      "th: 0.775, fbeta: 0.6057464109885616\n",
      "th: 0.8, fbeta: 0.6026175523103068\n",
      "th: 0.825, fbeta: 0.5976980833973122\n",
      "th: 0.85, fbeta: 0.5883802017246\n",
      "th: 0.875, fbeta: 0.5714580531251052\n",
      "th: 0.9, fbeta: 0.5447086103350757\n",
      "th: 0.925, fbeta: 0.5036300619703086\n",
      "th: 0.95, fbeta: 0.42368992169511777\n"
     ]
    },
    {
     "name": "stderr",
     "output_type": "stream",
     "text": [
      "Epoch 18 - avg_train_loss: 0.5270  avg_val_loss: 0.4484 avgScore: 0.6086 th: 0.725 time: 437s\n",
      "100%|██████████| 180/180 [06:07<00:00,  2.04s/it]\n",
      "100%|██████████| 45/45 [00:51<00:00,  1.13s/it]\n"
     ]
    },
    {
     "name": "stdout",
     "output_type": "stream",
     "text": [
      "mask_count_min: 1.0\n",
      "th: 0.1, fbeta: 0.1358320935610836\n",
      "th: 0.125, fbeta: 0.4107452413545056\n",
      "th: 0.15, fbeta: 0.4892499210999452\n",
      "th: 0.175, fbeta: 0.5094627046240013\n",
      "th: 0.2, fbeta: 0.5240061224304962\n",
      "th: 0.225, fbeta: 0.5359820135794298\n",
      "th: 0.25, fbeta: 0.5461876165263977\n",
      "th: 0.275, fbeta: 0.5556247730475198\n",
      "th: 0.3, fbeta: 0.5641496846946401\n",
      "th: 0.325, fbeta: 0.571616128145591\n",
      "th: 0.35, fbeta: 0.578065927455087\n",
      "th: 0.375, fbeta: 0.5838515209616023\n",
      "th: 0.4, fbeta: 0.5886211695423524\n",
      "th: 0.425, fbeta: 0.5928066627893942\n",
      "th: 0.45, fbeta: 0.596439256790952\n",
      "th: 0.475, fbeta: 0.5998665758981561\n",
      "th: 0.5, fbeta: 0.6026728613087516\n",
      "th: 0.525, fbeta: 0.6052357242131835\n",
      "th: 0.55, fbeta: 0.607314151757618\n",
      "th: 0.575, fbeta: 0.6088324826371334\n",
      "th: 0.6, fbeta: 0.6099069981813583\n",
      "th: 0.625, fbeta: 0.6104092371226221\n",
      "th: 0.65, fbeta: 0.6106242296871046\n",
      "th: 0.675, fbeta: 0.6107474584746198\n",
      "th: 0.7, fbeta: 0.6109192459574346\n",
      "th: 0.725, fbeta: 0.6106159897004853\n",
      "th: 0.75, fbeta: 0.6091416809114872\n",
      "th: 0.775, fbeta: 0.606755920897915\n",
      "th: 0.8, fbeta: 0.6027577868663512\n",
      "th: 0.825, fbeta: 0.5963022721717427\n",
      "th: 0.85, fbeta: 0.5871512230457547\n",
      "th: 0.875, fbeta: 0.571101580145187\n",
      "th: 0.9, fbeta: 0.5487406861975433\n",
      "th: 0.925, fbeta: 0.5152009653320754\n",
      "th: 0.95, fbeta: 0.4487936199771163\n"
     ]
    },
    {
     "name": "stderr",
     "output_type": "stream",
     "text": [
      "Epoch 19 - avg_train_loss: 0.5195  avg_val_loss: 0.4487 avgScore: 0.6109 th: 0.7 time: 436s\n",
      "100%|██████████| 180/180 [06:13<00:00,  2.08s/it]\n",
      "100%|██████████| 45/45 [00:51<00:00,  1.14s/it]\n"
     ]
    },
    {
     "name": "stdout",
     "output_type": "stream",
     "text": [
      "mask_count_min: 1.0\n",
      "th: 0.1, fbeta: 0.13787648028519314\n",
      "th: 0.125, fbeta: 0.38582308863643533\n",
      "th: 0.15, fbeta: 0.4833603778849866\n",
      "th: 0.175, fbeta: 0.5038436226079984\n",
      "th: 0.2, fbeta: 0.5191748493498183\n",
      "th: 0.225, fbeta: 0.5314540048214558\n",
      "th: 0.25, fbeta: 0.5420537743930542\n",
      "th: 0.275, fbeta: 0.5515466275664055\n",
      "th: 0.3, fbeta: 0.5603752099276992\n",
      "th: 0.325, fbeta: 0.5681872131602389\n",
      "th: 0.35, fbeta: 0.575134252785202\n",
      "th: 0.375, fbeta: 0.5813880411568719\n",
      "th: 0.4, fbeta: 0.586808244409554\n",
      "th: 0.425, fbeta: 0.5915419576861407\n",
      "th: 0.45, fbeta: 0.5958267210894784\n",
      "th: 0.475, fbeta: 0.5994592651108934\n",
      "th: 0.5, fbeta: 0.6026604552310995\n",
      "th: 0.525, fbeta: 0.6057380105785748\n",
      "th: 0.55, fbeta: 0.6089399477850926\n",
      "th: 0.575, fbeta: 0.6113415967638304\n",
      "th: 0.6, fbeta: 0.612514232464999\n",
      "th: 0.625, fbeta: 0.6127938282162757\n",
      "th: 0.65, fbeta: 0.612844408992159\n",
      "th: 0.675, fbeta: 0.6132199796128543\n",
      "th: 0.7, fbeta: 0.6132561686285398\n",
      "th: 0.725, fbeta: 0.6128572157478464\n",
      "th: 0.75, fbeta: 0.611621632829115\n",
      "th: 0.775, fbeta: 0.6095317847832441\n",
      "th: 0.8, fbeta: 0.6060264569963664\n",
      "th: 0.825, fbeta: 0.6011823363923587\n",
      "th: 0.85, fbeta: 0.5935508034057313\n",
      "th: 0.875, fbeta: 0.5793953164005056\n",
      "th: 0.9, fbeta: 0.5602430496850554\n",
      "th: 0.925, fbeta: 0.532596421991624\n",
      "th: 0.95, fbeta: 0.4793199613240047\n"
     ]
    },
    {
     "name": "stderr",
     "output_type": "stream",
     "text": [
      "Epoch 20 - avg_train_loss: 0.5213  avg_val_loss: 0.4469 avgScore: 0.6133 th: 0.7 time: 443s\n",
      "100%|██████████| 180/180 [06:08<00:00,  2.05s/it]\n",
      "100%|██████████| 45/45 [00:51<00:00,  1.15s/it]\n"
     ]
    },
    {
     "name": "stdout",
     "output_type": "stream",
     "text": [
      "mask_count_min: 1.0\n",
      "th: 0.1, fbeta: 0.13264596042694193\n",
      "th: 0.125, fbeta: 0.22464179649455787\n",
      "th: 0.15, fbeta: 0.4651208271127908\n",
      "th: 0.175, fbeta: 0.49039716318668\n",
      "th: 0.2, fbeta: 0.5070139043833624\n",
      "th: 0.225, fbeta: 0.5203453382812162\n",
      "th: 0.25, fbeta: 0.5314695578274696\n",
      "th: 0.275, fbeta: 0.5411060061078364\n",
      "th: 0.3, fbeta: 0.549734257246959\n",
      "th: 0.325, fbeta: 0.5575685795434403\n",
      "th: 0.35, fbeta: 0.564678058412879\n",
      "th: 0.375, fbeta: 0.5704336158153311\n",
      "th: 0.4, fbeta: 0.5753647598604531\n",
      "th: 0.425, fbeta: 0.5796871990992974\n",
      "th: 0.45, fbeta: 0.5837773267756526\n",
      "th: 0.475, fbeta: 0.587399921325241\n",
      "th: 0.5, fbeta: 0.5901158338228699\n",
      "th: 0.525, fbeta: 0.5924883599426916\n",
      "th: 0.55, fbeta: 0.5944750485188465\n",
      "th: 0.575, fbeta: 0.5965784205421389\n",
      "th: 0.6, fbeta: 0.5983005582803289\n",
      "th: 0.625, fbeta: 0.5993497976020343\n",
      "th: 0.65, fbeta: 0.6000441412658388\n",
      "th: 0.675, fbeta: 0.6007138340953275\n",
      "th: 0.7, fbeta: 0.6009767412629305\n",
      "th: 0.725, fbeta: 0.6001208590911289\n",
      "th: 0.75, fbeta: 0.5984053019655909\n",
      "th: 0.775, fbeta: 0.5960030416670447\n",
      "th: 0.8, fbeta: 0.5921969923001806\n",
      "th: 0.825, fbeta: 0.5863923756723596\n",
      "th: 0.85, fbeta: 0.5775303743337326\n",
      "th: 0.875, fbeta: 0.5643830665738976\n",
      "th: 0.9, fbeta: 0.5450189545629143\n",
      "th: 0.925, fbeta: 0.5145541299874214\n",
      "th: 0.95, fbeta: 0.4538683456326176\n"
     ]
    },
    {
     "name": "stderr",
     "output_type": "stream",
     "text": [
      "Epoch 21 - avg_train_loss: 0.5245  avg_val_loss: 0.4560 avgScore: 0.6010 th: 0.7 time: 438s\n",
      "\n",
      " Model fold 3: timm-resnest200e Best_Epoch 11 - Best_train_loss: 0.5289697703388002  \n",
      "            Best_val_loss: 0.44957822007852344 Best_Score: 0.6148207261861526 \n",
      "            Best_th: 0.725\n",
      "\u001b[34m\u001b[1mwandb\u001b[0m: Waiting for W&B process to finish... \u001b[32m(success).\u001b[0m\n",
      "\u001b[34m\u001b[1mwandb\u001b[0m: \n",
      "\u001b[34m\u001b[1mwandb\u001b[0m: Run history:\n",
      "\u001b[34m\u001b[1mwandb\u001b[0m:      Best_Epoch ▁\n",
      "\u001b[34m\u001b[1mwandb\u001b[0m:      Best_Score ▁\n",
      "\u001b[34m\u001b[1mwandb\u001b[0m: Best_Train_loss ▁\n",
      "\u001b[34m\u001b[1mwandb\u001b[0m:    Best_Val_los ▁\n",
      "\u001b[34m\u001b[1mwandb\u001b[0m:         Best_th ▁\n",
      "\u001b[34m\u001b[1mwandb\u001b[0m:           Epoch ▁▁▂▂▂▃▃▃▄▄▅▅▅▆▆▆▇▇▇██\n",
      "\u001b[34m\u001b[1mwandb\u001b[0m:           Score ▁▄▄▇▆▇▇████▇▇▇██▇▇██▇\n",
      "\u001b[34m\u001b[1mwandb\u001b[0m:            Time █▂▃▂▁▄▃▅▃▂▁▂▅▂▁▂▃▄▄▆▄\n",
      "\u001b[34m\u001b[1mwandb\u001b[0m:      Train_loss █▆▄▃▂▂▂▂▂▂▂▂▂▁▁▂▁▁▁▁▁\n",
      "\u001b[34m\u001b[1mwandb\u001b[0m:         Val_los █▇▃▁▂▂▁▃▁▂▂▁▂▁▁▁▂▁▁▁▂\n",
      "\u001b[34m\u001b[1mwandb\u001b[0m:              th ▁▂▂▇██▆▆▄▆▆▇▇▆▆▅▅▆▆▆▆\n",
      "\u001b[34m\u001b[1mwandb\u001b[0m: \n",
      "\u001b[34m\u001b[1mwandb\u001b[0m: Run summary:\n",
      "\u001b[34m\u001b[1mwandb\u001b[0m:      Best_Epoch 11\n",
      "\u001b[34m\u001b[1mwandb\u001b[0m:      Best_Score 0.61482\n",
      "\u001b[34m\u001b[1mwandb\u001b[0m: Best_Train_loss 0.52897\n",
      "\u001b[34m\u001b[1mwandb\u001b[0m:    Best_Val_los 0.44958\n",
      "\u001b[34m\u001b[1mwandb\u001b[0m:         Best_th 0.725\n",
      "\u001b[34m\u001b[1mwandb\u001b[0m:           Epoch 21\n",
      "\u001b[34m\u001b[1mwandb\u001b[0m:           Score 0.60098\n",
      "\u001b[34m\u001b[1mwandb\u001b[0m:            Time 437.83101\n",
      "\u001b[34m\u001b[1mwandb\u001b[0m:      Train_loss 0.52451\n",
      "\u001b[34m\u001b[1mwandb\u001b[0m:         Val_los 0.45596\n",
      "\u001b[34m\u001b[1mwandb\u001b[0m:              th 0.7\n",
      "\u001b[34m\u001b[1mwandb\u001b[0m: \n",
      "\u001b[34m\u001b[1mwandb\u001b[0m: 🚀 View run \u001b[33mUnet timm-resenst200e Fold 1 52281\u001b[0m at: \u001b[34m\u001b[4mhttps://wandb.ai/i-am-noob/Stacking/runs/6m32yzxz\u001b[0m\n",
      "\u001b[34m\u001b[1mwandb\u001b[0m: Synced 6 W&B file(s), 0 media file(s), 0 artifact file(s) and 0 other file(s)\n",
      "\u001b[34m\u001b[1mwandb\u001b[0m: Find logs at: \u001b[35m\u001b[1m./wandb/run-20230614_122307-6m32yzxz/logs\u001b[0m\n"
     ]
    }
   ],
   "source": [
    "train(train_images, train_masks, valid_images, valid_masks, valid_xyxys)"
   ]
  },
  {
   "cell_type": "code",
   "execution_count": 30,
   "id": "e8632328",
   "metadata": {
    "execution": {
     "iopub.execute_input": "2023-06-14T14:55:52.775054Z",
     "iopub.status.busy": "2023-06-14T14:55:52.774675Z",
     "iopub.status.idle": "2023-06-14T14:55:52.779978Z",
     "shell.execute_reply": "2023-06-14T14:55:52.778953Z"
    },
    "papermill": {
     "duration": 0.437241,
     "end_time": "2023-06-14T14:55:52.782046",
     "exception": false,
     "start_time": "2023-06-14T14:55:52.344805",
     "status": "completed"
    },
    "tags": []
   },
   "outputs": [],
   "source": [
    "# for modell in model_to_try:\n",
    "#     for chans in chans_to_try:\n",
    "#         config['in_chans'] = chans\n",
    "#         update_CFG(config,CFG)\n",
    "#         train_images, train_masks, valid_images, valid_masks, valid_xyxys = get_train_valid_dataset(1)\n",
    "#         CFG.train_aug_list[-2] = A.Normalize(\n",
    "#                                     mean= [0] * chans,\n",
    "#                                     std= [1] * chans,\n",
    "#                                         )\n",
    "#         CFG.valid_aug_list[-2] = A.Normalize(\n",
    "#                                     mean= [0] * chans,\n",
    "#                                     std= [1] * chans,\n",
    "#                                         ) \n",
    "#         train(train_images, train_masks, valid_images, valid_masks, valid_xyxys)\n",
    "#         abd = gc.collect()\n",
    "#         del train_images[:], train_masks[:], valid_images[:], valid_masks[:], valid_xyxys[:]\n",
    "#         del train_images, train_masks, valid_images, valid_masks, valid_xyxys\n",
    "#         abd = gc.collect()\n",
    "#         torch.cuda.empty_cache()"
   ]
  },
  {
   "cell_type": "code",
   "execution_count": 31,
   "id": "81d4e543",
   "metadata": {
    "execution": {
     "iopub.execute_input": "2023-06-14T14:55:53.687785Z",
     "iopub.status.busy": "2023-06-14T14:55:53.687401Z",
     "iopub.status.idle": "2023-06-14T14:55:53.692158Z",
     "shell.execute_reply": "2023-06-14T14:55:53.690987Z"
    },
    "papermill": {
     "duration": 0.461986,
     "end_time": "2023-06-14T14:55:53.694330",
     "exception": false,
     "start_time": "2023-06-14T14:55:53.232344",
     "status": "completed"
    },
    "tags": []
   },
   "outputs": [],
   "source": [
    "# train_images, train_masks, valid_images, valid_masks, valid_xyxys = get_train_valid_dataset(1)"
   ]
  }
 ],
 "metadata": {
  "kernelspec": {
   "display_name": "Python 3",
   "language": "python",
   "name": "python3"
  },
  "language_info": {
   "codemirror_mode": {
    "name": "ipython",
    "version": 3
   },
   "file_extension": ".py",
   "mimetype": "text/x-python",
   "name": "python",
   "nbconvert_exporter": "python",
   "pygments_lexer": "ipython3",
   "version": "3.10.10"
  },
  "papermill": {
   "default_parameters": {},
   "duration": 9213.811337,
   "end_time": "2023-06-14T14:55:57.304120",
   "environment_variables": {},
   "exception": null,
   "input_path": "__notebook__.ipynb",
   "output_path": "__notebook__.ipynb",
   "parameters": {},
   "start_time": "2023-06-14T12:22:23.492783",
   "version": "2.4.0"
  }
 },
 "nbformat": 4,
 "nbformat_minor": 5
}
