{
 "cells": [
  {
   "cell_type": "code",
   "execution_count": 1,
   "id": "95d5bc99",
   "metadata": {
    "execution": {
     "iopub.execute_input": "2023-06-02T17:36:31.403312Z",
     "iopub.status.busy": "2023-06-02T17:36:31.402570Z",
     "iopub.status.idle": "2023-06-02T17:37:29.683897Z",
     "shell.execute_reply": "2023-06-02T17:37:29.682608Z"
    },
    "papermill": {
     "duration": 58.305223,
     "end_time": "2023-06-02T17:37:29.686787",
     "exception": false,
     "start_time": "2023-06-02T17:36:31.381564",
     "status": "completed"
    },
    "tags": []
   },
   "outputs": [
    {
     "name": "stdout",
     "output_type": "stream",
     "text": [
      "Collecting patchify\r\n",
      "  Downloading patchify-0.2.3-py3-none-any.whl (6.6 kB)\r\n",
      "Requirement already satisfied: numpy<2,>=1 in /opt/conda/lib/python3.7/site-packages (from patchify) (1.21.6)\r\n",
      "Installing collected packages: patchify\r\n",
      "Successfully installed patchify-0.2.3\r\n",
      "\u001b[33mWARNING: Running pip as the 'root' user can result in broken permissions and conflicting behaviour with the system package manager. It is recommended to use a virtual environment instead: https://pip.pypa.io/warnings/venv\u001b[0m\u001b[33m\r\n",
      "\u001b[0mRequirement already satisfied: wandb in /opt/conda/lib/python3.7/site-packages (0.13.10)\r\n",
      "Collecting wandb\r\n",
      "  Downloading wandb-0.15.3-py3-none-any.whl (2.0 MB)\r\n",
      "\u001b[2K     \u001b[90m━━━━━━━━━━━━━━━━━━━━━━━━━━━━━━━━━━━━━━━━\u001b[0m \u001b[32m2.0/2.0 MB\u001b[0m \u001b[31m32.9 MB/s\u001b[0m eta \u001b[36m0:00:00\u001b[0m\r\n",
      "\u001b[?25hRequirement already satisfied: appdirs>=1.4.3 in /opt/conda/lib/python3.7/site-packages (from wandb) (1.4.4)\r\n",
      "Requirement already satisfied: GitPython!=3.1.29,>=1.0.0 in /opt/conda/lib/python3.7/site-packages (from wandb) (3.1.30)\r\n",
      "Requirement already satisfied: psutil>=5.0.0 in /opt/conda/lib/python3.7/site-packages (from wandb) (5.9.3)\r\n",
      "Requirement already satisfied: setuptools in /opt/conda/lib/python3.7/site-packages (from wandb) (59.8.0)\r\n",
      "Requirement already satisfied: setproctitle in /opt/conda/lib/python3.7/site-packages (from wandb) (1.3.2)\r\n",
      "Requirement already satisfied: PyYAML in /opt/conda/lib/python3.7/site-packages (from wandb) (6.0)\r\n",
      "Requirement already satisfied: protobuf!=4.21.0,<5,>=3.12.0 in /opt/conda/lib/python3.7/site-packages (from wandb) (3.20.3)\r\n",
      "Requirement already satisfied: requests<3,>=2.0.0 in /opt/conda/lib/python3.7/site-packages (from wandb) (2.28.2)\r\n",
      "Requirement already satisfied: Click!=8.0.0,>=7.0 in /opt/conda/lib/python3.7/site-packages (from wandb) (8.1.3)\r\n",
      "Requirement already satisfied: docker-pycreds>=0.4.0 in /opt/conda/lib/python3.7/site-packages (from wandb) (0.4.0)\r\n",
      "Requirement already satisfied: sentry-sdk>=1.0.0 in /opt/conda/lib/python3.7/site-packages (from wandb) (1.15.0)\r\n",
      "Requirement already satisfied: pathtools in /opt/conda/lib/python3.7/site-packages (from wandb) (0.1.2)\r\n",
      "Requirement already satisfied: typing-extensions in /opt/conda/lib/python3.7/site-packages (from wandb) (4.4.0)\r\n",
      "Requirement already satisfied: importlib-metadata in /opt/conda/lib/python3.7/site-packages (from Click!=8.0.0,>=7.0->wandb) (4.11.4)\r\n",
      "Requirement already satisfied: six>=1.4.0 in /opt/conda/lib/python3.7/site-packages (from docker-pycreds>=0.4.0->wandb) (1.16.0)\r\n",
      "Requirement already satisfied: gitdb<5,>=4.0.1 in /opt/conda/lib/python3.7/site-packages (from GitPython!=3.1.29,>=1.0.0->wandb) (4.0.10)\r\n",
      "Requirement already satisfied: certifi>=2017.4.17 in /opt/conda/lib/python3.7/site-packages (from requests<3,>=2.0.0->wandb) (2022.12.7)\r\n",
      "Requirement already satisfied: urllib3<1.27,>=1.21.1 in /opt/conda/lib/python3.7/site-packages (from requests<3,>=2.0.0->wandb) (1.26.14)\r\n",
      "Requirement already satisfied: charset-normalizer<4,>=2 in /opt/conda/lib/python3.7/site-packages (from requests<3,>=2.0.0->wandb) (2.1.1)\r\n",
      "Requirement already satisfied: idna<4,>=2.5 in /opt/conda/lib/python3.7/site-packages (from requests<3,>=2.0.0->wandb) (3.4)\r\n",
      "Requirement already satisfied: smmap<6,>=3.0.1 in /opt/conda/lib/python3.7/site-packages (from gitdb<5,>=4.0.1->GitPython!=3.1.29,>=1.0.0->wandb) (5.0.0)\r\n",
      "Requirement already satisfied: zipp>=0.5 in /opt/conda/lib/python3.7/site-packages (from importlib-metadata->Click!=8.0.0,>=7.0->wandb) (3.11.0)\r\n",
      "Installing collected packages: wandb\r\n",
      "  Attempting uninstall: wandb\r\n",
      "    Found existing installation: wandb 0.13.10\r\n",
      "    Uninstalling wandb-0.13.10:\r\n",
      "      Successfully uninstalled wandb-0.13.10\r\n",
      "Successfully installed wandb-0.15.3\r\n",
      "\u001b[33mWARNING: Running pip as the 'root' user can result in broken permissions and conflicting behaviour with the system package manager. It is recommended to use a virtual environment instead: https://pip.pypa.io/warnings/venv\u001b[0m\u001b[33m\r\n",
      "\u001b[0mCollecting segmentation_models_pytorch\r\n",
      "  Downloading segmentation_models_pytorch-0.3.3-py3-none-any.whl (106 kB)\r\n",
      "\u001b[2K     \u001b[90m━━━━━━━━━━━━━━━━━━━━━━━━━━━━━━━━━━━━━━━\u001b[0m \u001b[32m106.7/106.7 kB\u001b[0m \u001b[31m5.6 MB/s\u001b[0m eta \u001b[36m0:00:00\u001b[0m\r\n",
      "\u001b[?25hRequirement already satisfied: tqdm in /opt/conda/lib/python3.7/site-packages (from segmentation_models_pytorch) (4.64.1)\r\n",
      "Requirement already satisfied: pillow in /opt/conda/lib/python3.7/site-packages (from segmentation_models_pytorch) (9.4.0)\r\n",
      "Requirement already satisfied: torchvision>=0.5.0 in /opt/conda/lib/python3.7/site-packages (from segmentation_models_pytorch) (0.14.0)\r\n",
      "Collecting timm==0.9.2\r\n",
      "  Downloading timm-0.9.2-py3-none-any.whl (2.2 MB)\r\n",
      "\u001b[2K     \u001b[90m━━━━━━━━━━━━━━━━━━━━━━━━━━━━━━━━━━━━━━━━\u001b[0m \u001b[32m2.2/2.2 MB\u001b[0m \u001b[31m54.5 MB/s\u001b[0m eta \u001b[36m0:00:00\u001b[0m\r\n",
      "\u001b[?25hCollecting pretrainedmodels==0.7.4\r\n",
      "  Downloading pretrainedmodels-0.7.4.tar.gz (58 kB)\r\n",
      "\u001b[2K     \u001b[90m━━━━━━━━━━━━━━━━━━━━━━━━━━━━━━━━━━━━━━━━\u001b[0m \u001b[32m58.8/58.8 kB\u001b[0m \u001b[31m6.1 MB/s\u001b[0m eta \u001b[36m0:00:00\u001b[0m\r\n",
      "\u001b[?25h  Preparing metadata (setup.py) ... \u001b[?25l-\b \bdone\r\n",
      "\u001b[?25hCollecting efficientnet-pytorch==0.7.1\r\n",
      "  Downloading efficientnet_pytorch-0.7.1.tar.gz (21 kB)\r\n",
      "  Preparing metadata (setup.py) ... \u001b[?25l-\b \bdone\r\n",
      "\u001b[?25hRequirement already satisfied: torch in /opt/conda/lib/python3.7/site-packages (from efficientnet-pytorch==0.7.1->segmentation_models_pytorch) (1.13.0)\r\n",
      "Requirement already satisfied: munch in /opt/conda/lib/python3.7/site-packages (from pretrainedmodels==0.7.4->segmentation_models_pytorch) (2.5.0)\r\n",
      "Requirement already satisfied: huggingface-hub in /opt/conda/lib/python3.7/site-packages (from timm==0.9.2->segmentation_models_pytorch) (0.12.1)\r\n",
      "Collecting safetensors\r\n",
      "  Downloading safetensors-0.3.1-cp37-cp37m-manylinux_2_17_x86_64.manylinux2014_x86_64.whl (1.3 MB)\r\n",
      "\u001b[2K     \u001b[90m━━━━━━━━━━━━━━━━━━━━━━━━━━━━━━━━━━━━━━━━\u001b[0m \u001b[32m1.3/1.3 MB\u001b[0m \u001b[31m55.3 MB/s\u001b[0m eta \u001b[36m0:00:00\u001b[0m\r\n",
      "\u001b[?25hRequirement already satisfied: pyyaml in /opt/conda/lib/python3.7/site-packages (from timm==0.9.2->segmentation_models_pytorch) (6.0)\r\n",
      "Requirement already satisfied: numpy in /opt/conda/lib/python3.7/site-packages (from torchvision>=0.5.0->segmentation_models_pytorch) (1.21.6)\r\n",
      "Requirement already satisfied: typing-extensions in /opt/conda/lib/python3.7/site-packages (from torchvision>=0.5.0->segmentation_models_pytorch) (4.4.0)\r\n",
      "Requirement already satisfied: requests in /opt/conda/lib/python3.7/site-packages (from torchvision>=0.5.0->segmentation_models_pytorch) (2.28.2)\r\n",
      "Requirement already satisfied: filelock in /opt/conda/lib/python3.7/site-packages (from huggingface-hub->timm==0.9.2->segmentation_models_pytorch) (3.9.0)\r\n",
      "Requirement already satisfied: packaging>=20.9 in /opt/conda/lib/python3.7/site-packages (from huggingface-hub->timm==0.9.2->segmentation_models_pytorch) (23.0)\r\n",
      "Requirement already satisfied: importlib-metadata in /opt/conda/lib/python3.7/site-packages (from huggingface-hub->timm==0.9.2->segmentation_models_pytorch) (4.11.4)\r\n",
      "Requirement already satisfied: six in /opt/conda/lib/python3.7/site-packages (from munch->pretrainedmodels==0.7.4->segmentation_models_pytorch) (1.16.0)\r\n",
      "Requirement already satisfied: urllib3<1.27,>=1.21.1 in /opt/conda/lib/python3.7/site-packages (from requests->torchvision>=0.5.0->segmentation_models_pytorch) (1.26.14)\r\n",
      "Requirement already satisfied: charset-normalizer<4,>=2 in /opt/conda/lib/python3.7/site-packages (from requests->torchvision>=0.5.0->segmentation_models_pytorch) (2.1.1)\r\n",
      "Requirement already satisfied: idna<4,>=2.5 in /opt/conda/lib/python3.7/site-packages (from requests->torchvision>=0.5.0->segmentation_models_pytorch) (3.4)\r\n",
      "Requirement already satisfied: certifi>=2017.4.17 in /opt/conda/lib/python3.7/site-packages (from requests->torchvision>=0.5.0->segmentation_models_pytorch) (2022.12.7)\r\n",
      "Requirement already satisfied: zipp>=0.5 in /opt/conda/lib/python3.7/site-packages (from importlib-metadata->huggingface-hub->timm==0.9.2->segmentation_models_pytorch) (3.11.0)\r\n",
      "Building wheels for collected packages: efficientnet-pytorch, pretrainedmodels\r\n",
      "  Building wheel for efficientnet-pytorch (setup.py) ... \u001b[?25l-\b \b\\\b \bdone\r\n",
      "\u001b[?25h  Created wheel for efficientnet-pytorch: filename=efficientnet_pytorch-0.7.1-py3-none-any.whl size=16446 sha256=0e8c2cde1941d11b973cbceb66e02a3617b10093d653dcc18d64359906a93a00\r\n",
      "  Stored in directory: /root/.cache/pip/wheels/96/3f/5f/13976445f67f3b4e77b054e65f7f4c39016e92e8358fe088db\r\n",
      "  Building wheel for pretrainedmodels (setup.py) ... \u001b[?25l-\b \b\\\b \bdone\r\n",
      "\u001b[?25h  Created wheel for pretrainedmodels: filename=pretrainedmodels-0.7.4-py3-none-any.whl size=60966 sha256=5df88197e1f9dd0359f24003e804c21b893c472a91bee1486815a29e318d845c\r\n",
      "  Stored in directory: /root/.cache/pip/wheels/4f/89/a3/5cf59e30a8a75c917c313f14da0f6209be2d147e3160b985d6\r\n",
      "Successfully built efficientnet-pytorch pretrainedmodels\r\n",
      "Installing collected packages: safetensors, efficientnet-pytorch, timm, pretrainedmodels, segmentation_models_pytorch\r\n",
      "  Attempting uninstall: timm\r\n",
      "    Found existing installation: timm 0.6.12\r\n",
      "    Uninstalling timm-0.6.12:\r\n",
      "      Successfully uninstalled timm-0.6.12\r\n",
      "Successfully installed efficientnet-pytorch-0.7.1 pretrainedmodels-0.7.4 safetensors-0.3.1 segmentation_models_pytorch-0.3.3 timm-0.9.2\r\n",
      "\u001b[33mWARNING: Running pip as the 'root' user can result in broken permissions and conflicting behaviour with the system package manager. It is recommended to use a virtual environment instead: https://pip.pypa.io/warnings/venv\u001b[0m\u001b[33m\r\n",
      "\u001b[0mCollecting warmup_scheduler\r\n",
      "  Downloading warmup_scheduler-0.3.tar.gz (2.1 kB)\r\n",
      "  Preparing metadata (setup.py) ... \u001b[?25l-\b \bdone\r\n",
      "\u001b[?25hBuilding wheels for collected packages: warmup_scheduler\r\n",
      "  Building wheel for warmup_scheduler (setup.py) ... \u001b[?25l-\b \bdone\r\n",
      "\u001b[?25h  Created wheel for warmup_scheduler: filename=warmup_scheduler-0.3-py3-none-any.whl size=2983 sha256=4bd5b8886e00abfb324737fc972080f808c671a5325bc1b17bf4a7314bed1932\r\n",
      "  Stored in directory: /root/.cache/pip/wheels/66/42/8a/00cdef6e5a066e48a92c24051fdcdd57d87faa24c9b5f44a02\r\n",
      "Successfully built warmup_scheduler\r\n",
      "Installing collected packages: warmup_scheduler\r\n",
      "Successfully installed warmup_scheduler-0.3\r\n",
      "\u001b[33mWARNING: Running pip as the 'root' user can result in broken permissions and conflicting behaviour with the system package manager. It is recommended to use a virtual environment instead: https://pip.pypa.io/warnings/venv\u001b[0m\u001b[33m\r\n",
      "\u001b[0m"
     ]
    }
   ],
   "source": [
    "!pip install patchify --upgrade\n",
    "!pip install wandb --upgrade\n",
    "!pip install segmentation_models_pytorch --upgrade\n",
    "!pip install warmup_scheduler --upgrade"
   ]
  },
  {
   "cell_type": "code",
   "execution_count": 2,
   "id": "438cb5dc",
   "metadata": {
    "execution": {
     "iopub.execute_input": "2023-06-02T17:37:29.731763Z",
     "iopub.status.busy": "2023-06-02T17:37:29.731413Z",
     "iopub.status.idle": "2023-06-02T17:37:29.736192Z",
     "shell.execute_reply": "2023-06-02T17:37:29.735135Z"
    },
    "papermill": {
     "duration": 0.030243,
     "end_time": "2023-06-02T17:37:29.738599",
     "exception": false,
     "start_time": "2023-06-02T17:37:29.708356",
     "status": "completed"
    },
    "tags": []
   },
   "outputs": [],
   "source": [
    "# import sys\n",
    "# sys.path.append('/kaggle/input/smp-vesuvius/EfficientNet-PyTorch-master/EfficientNet-PyTorch-master')\n",
    "# sys.path.append('/kaggle/input/smp-vesuvius/pretrained-models.pytorch-master/pretrained-models.pytorch-master')\n",
    "# sys.path.append('/kaggle/input/smp-vesuvius/pytorch-image-models-main/pytorch-image-models-main')\n",
    "# sys.path.append('/kaggle/input/smp-vesuvius/segmentation_models.pytorch-master/segmentation_models.pytorch-master')"
   ]
  },
  {
   "cell_type": "code",
   "execution_count": 3,
   "id": "176fc24d",
   "metadata": {
    "execution": {
     "iopub.execute_input": "2023-06-02T17:37:29.781608Z",
     "iopub.status.busy": "2023-06-02T17:37:29.781280Z",
     "iopub.status.idle": "2023-06-02T17:37:29.787145Z",
     "shell.execute_reply": "2023-06-02T17:37:29.786097Z"
    },
    "papermill": {
     "duration": 0.030496,
     "end_time": "2023-06-02T17:37:29.789511",
     "exception": false,
     "start_time": "2023-06-02T17:37:29.759015",
     "status": "completed"
    },
    "tags": []
   },
   "outputs": [],
   "source": [
    "config = {\n",
    "    'arch':'Unet++',\n",
    "    'model' :'efficientnet-b5',\n",
    "    'freeze' :True,\n",
    "    'weight_decay' : 0.1,\n",
    "    'in_chans' : 6,\n",
    "    'version' : 70,\n",
    "    'batch_size':16,\n",
    "    'bce': 0,\n",
    "    'jaccard': 0.5,\n",
    "    'dice': 0.5,\n",
    "}"
   ]
  },
  {
   "cell_type": "code",
   "execution_count": 4,
   "id": "18c3bf1b",
   "metadata": {
    "execution": {
     "iopub.execute_input": "2023-06-02T17:37:29.832149Z",
     "iopub.status.busy": "2023-06-02T17:37:29.831820Z",
     "iopub.status.idle": "2023-06-02T17:37:29.837167Z",
     "shell.execute_reply": "2023-06-02T17:37:29.836134Z"
    },
    "papermill": {
     "duration": 0.029334,
     "end_time": "2023-06-02T17:37:29.839574",
     "exception": false,
     "start_time": "2023-06-02T17:37:29.810240",
     "status": "completed"
    },
    "tags": []
   },
   "outputs": [],
   "source": [
    "def update_CFG(config,CFG):\n",
    "    model_name = config['arch']\n",
    "    backbone = config['model']\n",
    "    weight_decay = config['weight_decay']\n",
    "    freeze = config['freeze']\n",
    "    in_chans = config['in_chans'] "
   ]
  },
  {
   "cell_type": "code",
   "execution_count": 5,
   "id": "7adf15a1",
   "metadata": {
    "execution": {
     "iopub.execute_input": "2023-06-02T17:37:29.881829Z",
     "iopub.status.busy": "2023-06-02T17:37:29.881528Z",
     "iopub.status.idle": "2023-06-02T17:37:38.691247Z",
     "shell.execute_reply": "2023-06-02T17:37:38.690044Z"
    },
    "papermill": {
     "duration": 8.833607,
     "end_time": "2023-06-02T17:37:38.693648",
     "exception": false,
     "start_time": "2023-06-02T17:37:29.860041",
     "status": "completed"
    },
    "tags": []
   },
   "outputs": [
    {
     "name": "stderr",
     "output_type": "stream",
     "text": [
      "\u001b[34m\u001b[1mwandb\u001b[0m: W&B API key is configured. Use \u001b[1m`wandb login --relogin`\u001b[0m to force relogin\n",
      "\u001b[34m\u001b[1mwandb\u001b[0m: \u001b[33mWARNING\u001b[0m If you're specifying your api key in code, ensure this code is not shared publicly.\n",
      "\u001b[34m\u001b[1mwandb\u001b[0m: \u001b[33mWARNING\u001b[0m Consider setting the WANDB_API_KEY environment variable, or running `wandb login` from the command line.\n",
      "\u001b[34m\u001b[1mwandb\u001b[0m: Appending key for api.wandb.ai to your netrc file: /root/.netrc\n"
     ]
    },
    {
     "data": {
      "text/plain": [
       "True"
      ]
     },
     "execution_count": 5,
     "metadata": {},
     "output_type": "execute_result"
    }
   ],
   "source": [
    "import warnings\n",
    "warnings.filterwarnings('ignore')\n",
    "from sklearn.metrics import roc_auc_score, accuracy_score, f1_score, log_loss, fbeta_score\n",
    "import sys\n",
    "import os\n",
    "import psutil \n",
    "\n",
    "import gc\n",
    "import sys\n",
    "import math\n",
    "import random\n",
    "\n",
    "from tifffile import tifffile\n",
    "import PIL.Image as Image\n",
    "from patchify import patchify\n",
    "\n",
    "import numpy as np\n",
    "import pandas as pd\n",
    "import datetime\n",
    "import time\n",
    "\n",
    "import matplotlib.pyplot as plt\n",
    "from tqdm import tqdm\n",
    "from functools import partial\n",
    "tqdm = partial(tqdm, position=0, leave=True)\n",
    "\n",
    "from torch.utils.data import DataLoader\n",
    "from torch.cuda.amp import autocast, GradScaler\n",
    "import torch\n",
    "import torch.nn as nn\n",
    "from torch.optim import Adam, SGD, AdamW\n",
    "from torch.utils.data import DataLoader, Dataset\n",
    "from torch.optim.lr_scheduler import CosineAnnealingWarmRestarts, CosineAnnealingLR, ReduceLROnPlateau\n",
    "import segmentation_models_pytorch as smp\n",
    "\n",
    "import albumentations as A\n",
    "from albumentations.pytorch import ToTensorV2\n",
    "from albumentations import ImageOnlyTransform\n",
    "\n",
    "import wandb\n",
    "wandb.login(key = '68a8aa0d16f78ed8a8b3f6d0255850bdbf2f7b61')"
   ]
  },
  {
   "cell_type": "markdown",
   "id": "c453b012",
   "metadata": {
    "papermill": {
     "duration": 0.020709,
     "end_time": "2023-06-02T17:37:38.735547",
     "exception": false,
     "start_time": "2023-06-02T17:37:38.714838",
     "status": "completed"
    },
    "tags": []
   },
   "source": [
    "## config"
   ]
  },
  {
   "cell_type": "code",
   "execution_count": 6,
   "id": "b71cd600",
   "metadata": {
    "execution": {
     "iopub.execute_input": "2023-06-02T17:37:38.780056Z",
     "iopub.status.busy": "2023-06-02T17:37:38.779061Z",
     "iopub.status.idle": "2023-06-02T17:37:38.857956Z",
     "shell.execute_reply": "2023-06-02T17:37:38.856602Z"
    },
    "papermill": {
     "duration": 0.103539,
     "end_time": "2023-06-02T17:37:38.860265",
     "exception": false,
     "start_time": "2023-06-02T17:37:38.756726",
     "status": "completed"
    },
    "tags": []
   },
   "outputs": [
    {
     "name": "stdout",
     "output_type": "stream",
     "text": [
      "set dataset path\n"
     ]
    }
   ],
   "source": [
    "class CFG:\n",
    "    device = torch.device('cuda' if torch.cuda.is_available() else 'cpu')\n",
    "    size = 224\n",
    "    step = 112\n",
    "    valid_id = 1\n",
    "    in_chans = 6\n",
    "    batch_size = 16\n",
    "    num_workers = 2 if torch.cuda.is_available() else 4\n",
    "    target_size = 1\n",
    "    train_batch_size = config['batch_size'] # 32\n",
    "    valid_batch_size = train_batch_size * 2\n",
    "    use_amp = True if torch.cuda.is_available() else False\n",
    "    epochs = 15\n",
    "    warmup_factor = 10\n",
    "    lr = 1e-4 / warmup_factor\n",
    "    \n",
    "    pretrained = True\n",
    "    inf_weight = 'best'\n",
    "\n",
    "    min_lr = 1e-7\n",
    "    max_grad_norm = 1000\n",
    "\n",
    "    print_freq = 50\n",
    "\n",
    "    seed = 42\n",
    "    metric_direction = 'maximize'\n",
    "    \n",
    "    # ============== comp exp name =============\n",
    "    comp_name = 'vesuvius'\n",
    "\n",
    "    # comp_dir_path = './'\n",
    "    comp_dir_path = '/kaggle/input/'\n",
    "    comp_folder_name = 'vesuvius-challenge-ink-detection'\n",
    "    # comp_dataset_path = f'{comp_dir_path}datasets/{comp_folder_name}/'\n",
    "    comp_dataset_path = f'{comp_dir_path}{comp_folder_name}/'\n",
    "    \n",
    "    exp_name = 'krishkaexp'\n",
    "\n",
    "    # ============== model cfg =============\n",
    "    model_name = 'Unet'\n",
    "    backbone = config['model']\n",
    "    weight_decay = config['weight_decay']\n",
    "    freeze = config['freeze']\n",
    "    in_chans = config['in_chans']\n",
    "\n",
    "    #scheduler = 'GradualWarmupSchedulerV2'\n",
    "    # scheduler = 'CosineAnnealingLR'\n",
    "\n",
    "\n",
    "    # ============== fold =============\n",
    "    metric_direction = 'maximize'  # maximize, 'minimize'\n",
    "    # metrics = 'dice_coef'\n",
    "\n",
    "    # ============== set dataset path =============\n",
    "    print('set dataset path')\n",
    "\n",
    "    outputs_path = f'/kaggle/working/outputs/'\n",
    "\n",
    "    submission_dir = outputs_path + 'submissions/'\n",
    "    submission_path = submission_dir + f'submission_{exp_name}.csv'\n",
    "\n",
    "    model_dir = outputs_path + 'models/'\n",
    "\n",
    "    figures_dir = outputs_path + 'figures/'\n",
    "\n",
    "    log_dir = outputs_path + 'logs/'\n",
    "    log_path = log_dir + f'{exp_name}.txt'\n",
    "\n",
    "    \n",
    "    # ============== augmentation ============="
   ]
  },
  {
   "cell_type": "markdown",
   "id": "3ba2d93d",
   "metadata": {
    "papermill": {
     "duration": 0.020703,
     "end_time": "2023-06-02T17:37:38.902029",
     "exception": false,
     "start_time": "2023-06-02T17:37:38.881326",
     "status": "completed"
    },
    "tags": []
   },
   "source": [
    "## helper"
   ]
  },
  {
   "cell_type": "code",
   "execution_count": 7,
   "id": "e8c16891",
   "metadata": {
    "execution": {
     "iopub.execute_input": "2023-06-02T17:37:38.945303Z",
     "iopub.status.busy": "2023-06-02T17:37:38.944642Z",
     "iopub.status.idle": "2023-06-02T17:37:38.951699Z",
     "shell.execute_reply": "2023-06-02T17:37:38.950653Z"
    },
    "papermill": {
     "duration": 0.031337,
     "end_time": "2023-06-02T17:37:38.954131",
     "exception": false,
     "start_time": "2023-06-02T17:37:38.922794",
     "status": "completed"
    },
    "tags": []
   },
   "outputs": [],
   "source": [
    "class AverageMeter(object):\n",
    "    \"\"\"Computes and stores the average and current value\"\"\"\n",
    "\n",
    "    def __init__(self):\n",
    "        self.reset()\n",
    "\n",
    "    def reset(self):\n",
    "        self.val = 0\n",
    "        self.avg = 0\n",
    "        self.sum = 0\n",
    "        self.count = 0\n",
    "\n",
    "    def update(self, val, n=1):\n",
    "        self.val = val\n",
    "        self.sum += val * n\n",
    "        self.count += n\n",
    "        self.avg = self.sum / self.count"
   ]
  },
  {
   "cell_type": "code",
   "execution_count": 8,
   "id": "16782e44",
   "metadata": {
    "execution": {
     "iopub.execute_input": "2023-06-02T17:37:38.997103Z",
     "iopub.status.busy": "2023-06-02T17:37:38.996762Z",
     "iopub.status.idle": "2023-06-02T17:37:39.005669Z",
     "shell.execute_reply": "2023-06-02T17:37:39.004543Z"
    },
    "papermill": {
     "duration": 0.033124,
     "end_time": "2023-06-02T17:37:39.008000",
     "exception": false,
     "start_time": "2023-06-02T17:37:38.974876",
     "status": "completed"
    },
    "tags": []
   },
   "outputs": [],
   "source": [
    "def init_logger(log_file):\n",
    "    from logging import getLogger, INFO, FileHandler, Formatter, StreamHandler\n",
    "    logger = getLogger(__name__)\n",
    "    logger.setLevel(INFO)\n",
    "    handler1 = StreamHandler()\n",
    "    handler1.setFormatter(Formatter(\"%(message)s\"))\n",
    "    handler2 = FileHandler(filename=log_file)\n",
    "    handler2.setFormatter(Formatter(\"%(message)s\"))\n",
    "    logger.addHandler(handler1)\n",
    "    logger.addHandler(handler2)\n",
    "    return logger\n",
    "\n",
    "def set_seed(seed=None, cudnn_deterministic=True):\n",
    "    if seed is None:\n",
    "        seed = 42\n",
    "\n",
    "    os.environ['PYTHONHASHSEED'] = str(seed)\n",
    "    np.random.seed(seed)\n",
    "    #random.seed(seed)\n",
    "    torch.manual_seed(seed)\n",
    "    torch.cuda.manual_seed(seed)\n",
    "    torch.backends.cudnn.deterministic = cudnn_deterministic\n",
    "    torch.backends.cudnn.benchmark = False"
   ]
  },
  {
   "cell_type": "code",
   "execution_count": 9,
   "id": "6153cb8b",
   "metadata": {
    "execution": {
     "iopub.execute_input": "2023-06-02T17:37:39.051352Z",
     "iopub.status.busy": "2023-06-02T17:37:39.050535Z",
     "iopub.status.idle": "2023-06-02T17:37:39.056373Z",
     "shell.execute_reply": "2023-06-02T17:37:39.055334Z"
    },
    "papermill": {
     "duration": 0.029881,
     "end_time": "2023-06-02T17:37:39.058646",
     "exception": false,
     "start_time": "2023-06-02T17:37:39.028765",
     "status": "completed"
    },
    "tags": []
   },
   "outputs": [],
   "source": [
    "def make_dirs(cfg):\n",
    "    for dir in [cfg.model_dir, cfg.figures_dir, cfg.submission_dir, cfg.log_dir]:\n",
    "        os.makedirs(dir, exist_ok=True)"
   ]
  },
  {
   "cell_type": "code",
   "execution_count": 10,
   "id": "f6b26e4d",
   "metadata": {
    "execution": {
     "iopub.execute_input": "2023-06-02T17:37:39.102417Z",
     "iopub.status.busy": "2023-06-02T17:37:39.101792Z",
     "iopub.status.idle": "2023-06-02T17:37:39.106510Z",
     "shell.execute_reply": "2023-06-02T17:37:39.105493Z"
    },
    "papermill": {
     "duration": 0.028898,
     "end_time": "2023-06-02T17:37:39.108684",
     "exception": false,
     "start_time": "2023-06-02T17:37:39.079786",
     "status": "completed"
    },
    "tags": []
   },
   "outputs": [],
   "source": [
    "def make_dir(path):\n",
    "    os.makedirs(path, exist_ok = True)"
   ]
  },
  {
   "cell_type": "code",
   "execution_count": 11,
   "id": "90c2d941",
   "metadata": {
    "execution": {
     "iopub.execute_input": "2023-06-02T17:37:39.151643Z",
     "iopub.status.busy": "2023-06-02T17:37:39.151338Z",
     "iopub.status.idle": "2023-06-02T17:37:39.156426Z",
     "shell.execute_reply": "2023-06-02T17:37:39.155375Z"
    },
    "papermill": {
     "duration": 0.029223,
     "end_time": "2023-06-02T17:37:39.158704",
     "exception": false,
     "start_time": "2023-06-02T17:37:39.129481",
     "status": "completed"
    },
    "tags": []
   },
   "outputs": [],
   "source": [
    "def cfg_init(cfg, mode='train'):\n",
    "    set_seed(cfg.seed)\n",
    "    if mode == 'train':\n",
    "        make_dirs(cfg)"
   ]
  },
  {
   "cell_type": "code",
   "execution_count": 12,
   "id": "0d9d23dd",
   "metadata": {
    "execution": {
     "iopub.execute_input": "2023-06-02T17:37:39.204345Z",
     "iopub.status.busy": "2023-06-02T17:37:39.203462Z",
     "iopub.status.idle": "2023-06-02T17:37:39.212850Z",
     "shell.execute_reply": "2023-06-02T17:37:39.211632Z"
    },
    "papermill": {
     "duration": 0.034134,
     "end_time": "2023-06-02T17:37:39.215496",
     "exception": false,
     "start_time": "2023-06-02T17:37:39.181362",
     "status": "completed"
    },
    "tags": []
   },
   "outputs": [],
   "source": [
    "cfg_init(CFG)\n",
    "\n",
    "Logger = init_logger(log_file=CFG.log_path)\n",
    "\n",
    "#Logger.info('\\n\\n-------- exp_info -----------------')\n",
    "# Logger.info(datetime.datetime.now().strftime('%Y年%m月%d日 %H:%M:%S'))"
   ]
  },
  {
   "cell_type": "markdown",
   "id": "b4f412b4",
   "metadata": {
    "papermill": {
     "duration": 0.020847,
     "end_time": "2023-06-02T17:37:39.258494",
     "exception": false,
     "start_time": "2023-06-02T17:37:39.237647",
     "status": "completed"
    },
    "tags": []
   },
   "source": [
    "## image, mask"
   ]
  },
  {
   "cell_type": "code",
   "execution_count": 13,
   "id": "e6b6eac0",
   "metadata": {
    "execution": {
     "iopub.execute_input": "2023-06-02T17:37:39.302462Z",
     "iopub.status.busy": "2023-06-02T17:37:39.301610Z",
     "iopub.status.idle": "2023-06-02T17:37:39.317561Z",
     "shell.execute_reply": "2023-06-02T17:37:39.316583Z"
    },
    "papermill": {
     "duration": 0.040025,
     "end_time": "2023-06-02T17:37:39.319821",
     "exception": false,
     "start_time": "2023-06-02T17:37:39.279796",
     "status": "completed"
    },
    "tags": []
   },
   "outputs": [],
   "source": [
    "path_surface = lambda mode,fragment_id,i: f\"/kaggle/input/vesuvius-challenge-ink-detection/{mode}/{fragment_id}/surface_volume/{i:02}.tif\"\n",
    "path_mask = lambda mode,fragment_id : f'/kaggle/input/vesuvius-challenge-ink-detection/{mode}/{fragment_id}/mask.png'\n",
    "path_label = lambda mode,fragment_id :f'/kaggle/input/vesuvius-challenge-ink-detection/{mode}/{fragment_id}/inklabels.png'\n",
    "\n",
    "def return_patch_details(fragment_id,CFG,size=256,step = 128):\n",
    "\n",
    "    dic = {'fragment':[],'xmin':[],'ymin':[],'step':[],'size':[],'%ink':[]}\n",
    "    mask = np.array(Image.open(path_mask('train',fragment_id)))\n",
    "    label = np.array(Image.open(path_label('train',fragment_id)))\n",
    "    \n",
    "    pad0 = 0\n",
    "    pad1 = 0\n",
    "    if mask.shape[0] % step !=0:      \n",
    "        pad0 = (size - mask.shape[0] % step)\n",
    "    if mask.shape[1] % step !=0:\n",
    "        pad1 = (size - mask.shape[1] % step)\n",
    "    mask = np.pad(mask, [(0, pad0), (0, pad1)], constant_values=0)\n",
    "    label = np.pad(label, [(0, pad0), (0, pad1)], constant_values=0)\n",
    "        \n",
    "    patched_mask = patchify(mask,(size,size),step = step)\n",
    "    patched_label = patchify(label,(size,size),step = step)\n",
    "        \n",
    "    for j in range(patched_mask.shape[0]):\n",
    "        for k in range(patched_mask.shape[1]):\n",
    "            mask_p = patched_mask[j,k,:,:]\n",
    "            if np.count_nonzero(mask_p)==size*size:\n",
    "                label_p = patched_label[j,k,:,:]\n",
    "                dic['fragment'].append(fragment_id)\n",
    "                dic['ymin'].append(j*size)\n",
    "                dic['xmin'].append(k*size)\n",
    "                dic['step'].append(step)\n",
    "                dic['size'].append(size)\n",
    "                dic['%ink'].append(np.count_nonzero(label_p)*100/(size*size))\n",
    "    df = pd.DataFrame(dic)\n",
    "    del mask, label, patched_label, patched_mask, mask_p, label_p\n",
    "    a = gc.collect()\n",
    "    return df"
   ]
  },
  {
   "cell_type": "code",
   "execution_count": 14,
   "id": "ba946727",
   "metadata": {
    "execution": {
     "iopub.execute_input": "2023-06-02T17:37:39.363512Z",
     "iopub.status.busy": "2023-06-02T17:37:39.363217Z",
     "iopub.status.idle": "2023-06-02T17:37:39.379334Z",
     "shell.execute_reply": "2023-06-02T17:37:39.378354Z"
    },
    "papermill": {
     "duration": 0.040456,
     "end_time": "2023-06-02T17:37:39.381576",
     "exception": false,
     "start_time": "2023-06-02T17:37:39.341120",
     "status": "completed"
    },
    "tags": []
   },
   "outputs": [],
   "source": [
    "def return_image_mask_patch(fragment_id,CFG,thresh):\n",
    "    \n",
    "    in_chans = CFG.in_chans\n",
    "    size = CFG.size\n",
    "    step = CFG.step\n",
    "    \n",
    "    df = return_patch_details(fragment_id,CFG,size=size,step=step)     \n",
    "    df = df[df['%ink']>=thresh*100]\n",
    "    images = []\n",
    "\n",
    "    mid = 65 // 2\n",
    "    start = mid - in_chans // 2\n",
    "    end = mid + in_chans // 2 if in_chans%2 == 0 else mid + in_chans // 2 + 1\n",
    "    \n",
    "    label_ = np.array(Image.open(path_label('train',fragment_id)))\n",
    "    \n",
    "    pad0 = 0\n",
    "    pad1 = 0\n",
    "    if label_.shape[0] % step !=0:      \n",
    "        pad0 = (size - label_.shape[0] % step)\n",
    "    if label_.shape[1] % step !=0:\n",
    "        pad1 = (size - label_.shape[1] % step)\n",
    "    label_ = np.pad(label_, [(0, pad0), (0, pad1)], constant_values=0)\n",
    "         \n",
    "    for i in tqdm(range(start,end),desc =\"Image Slice Progress\",colour = \"BLUE\"):\n",
    "        image = tifffile.imread(path_surface('train',fragment_id,i))\n",
    "        image = np.pad(image, [(0, pad0), (0, pad1)], constant_values=0)\n",
    "        images.append(image)\n",
    "        \n",
    "    images = np.stack(images, axis=2)\n",
    "    \n",
    "    image = []\n",
    "    label = []\n",
    "    xyxy = []\n",
    "    \n",
    "    df = df.to_numpy()\n",
    "    size = int(df[0,4])\n",
    "    for j in range(df.shape[0]):\n",
    "        xmin = int(df[j,1])\n",
    "        ymin = int(df[j,2])\n",
    "        img = images[ymin:ymin+size,xmin:xmin+size,:]\n",
    "        lab = np.expand_dims(label_[ymin:ymin+size,xmin:xmin+size],2)\n",
    "        if img.shape == (size,size,in_chans) and lab.shape == (size,size,1):\n",
    "            image.append(img)\n",
    "            label.append(lab)\n",
    "            xyxy.append([xmin,ymin,xmin+size,ymin+size])\n",
    "        \n",
    "    del img,lab,df,images,label_\n",
    "    a = gc.collect()\n",
    "    return image, label, xyxy"
   ]
  },
  {
   "cell_type": "code",
   "execution_count": 15,
   "id": "708ce917",
   "metadata": {
    "execution": {
     "iopub.execute_input": "2023-06-02T17:37:39.424994Z",
     "iopub.status.busy": "2023-06-02T17:37:39.424117Z",
     "iopub.status.idle": "2023-06-02T17:37:39.431136Z",
     "shell.execute_reply": "2023-06-02T17:37:39.430148Z"
    },
    "papermill": {
     "duration": 0.031153,
     "end_time": "2023-06-02T17:37:39.433497",
     "exception": false,
     "start_time": "2023-06-02T17:37:39.402344",
     "status": "completed"
    },
    "tags": []
   },
   "outputs": [],
   "source": [
    "def read_all_fragments(CFG,thresh = 0): \n",
    "    \n",
    "    images = []\n",
    "    labels = [] \n",
    "    xyxys = []\n",
    "\n",
    "    for fragment_id in range(1, 4):\n",
    "        image, label, xyxy = return_image_mask_patch(fragment_id,CFG, thresh = thresh)\n",
    "        \n",
    "        images.append(image)\n",
    "        labels.append(label)\n",
    "        xyxys.append(xyxy)\n",
    "    del image, label, xyxy\n",
    "    a = gc.collect()\n",
    "    return images,labels,xyxys"
   ]
  },
  {
   "cell_type": "code",
   "execution_count": 16,
   "id": "1231b876",
   "metadata": {
    "execution": {
     "iopub.execute_input": "2023-06-02T17:37:39.477431Z",
     "iopub.status.busy": "2023-06-02T17:37:39.476678Z",
     "iopub.status.idle": "2023-06-02T17:37:39.481558Z",
     "shell.execute_reply": "2023-06-02T17:37:39.480546Z"
    },
    "papermill": {
     "duration": 0.029507,
     "end_time": "2023-06-02T17:37:39.483897",
     "exception": false,
     "start_time": "2023-06-02T17:37:39.454390",
     "status": "completed"
    },
    "tags": []
   },
   "outputs": [],
   "source": [
    "# images,labels,xyxys = read_all_fragments()"
   ]
  },
  {
   "cell_type": "markdown",
   "id": "001868c9",
   "metadata": {
    "papermill": {
     "duration": 0.020586,
     "end_time": "2023-06-02T17:37:39.525241",
     "exception": false,
     "start_time": "2023-06-02T17:37:39.504655",
     "status": "completed"
    },
    "tags": []
   },
   "source": [
    "## dataset"
   ]
  },
  {
   "cell_type": "code",
   "execution_count": 17,
   "id": "d94e31ec",
   "metadata": {
    "execution": {
     "iopub.execute_input": "2023-06-02T17:37:39.568617Z",
     "iopub.status.busy": "2023-06-02T17:37:39.567941Z",
     "iopub.status.idle": "2023-06-02T17:37:39.582805Z",
     "shell.execute_reply": "2023-06-02T17:37:39.581836Z"
    },
    "papermill": {
     "duration": 0.038852,
     "end_time": "2023-06-02T17:37:39.585014",
     "exception": false,
     "start_time": "2023-06-02T17:37:39.546162",
     "status": "completed"
    },
    "tags": []
   },
   "outputs": [],
   "source": [
    "def get_transforms(data, cfg):\n",
    "    \n",
    "    train_aug_list = [\n",
    "        A.Resize(CFG.size, CFG.size),\n",
    "        A.HorizontalFlip(p=0.5),\n",
    "        A.VerticalFlip(p=0.5),\n",
    "        A.RandomBrightnessContrast(p=0.75),\n",
    "        A.ShiftScaleRotate(p=0.75),\n",
    "        A.OneOf([\n",
    "                A.GaussNoise(var_limit=[10, 50]),\n",
    "                A.GaussianBlur(),\n",
    "                A.MotionBlur(),\n",
    "                ], p=0.4),\n",
    "        A.GridDistortion(num_steps=5, distort_limit=0.3, p=0.5),\n",
    "        A.CoarseDropout(max_holes=1, max_width=int(CFG.size * 0.3), max_height=int(CFG.size * 0.3), \n",
    "                        mask_fill_value=0, p=0.5),\n",
    "        A.Normalize(\n",
    "            mean= [0] * CFG.in_chans,\n",
    "            std= [1] * CFG.in_chans\n",
    "        ),\n",
    "        ToTensorV2(transpose_mask=True),\n",
    "    ]\n",
    "\n",
    "    valid_aug_list = [\n",
    "        A.Resize(CFG.size, CFG.size),\n",
    "        A.Normalize(\n",
    "            mean= [0] * CFG.in_chans,\n",
    "            std= [1] * CFG.in_chans\n",
    "        ),\n",
    "        ToTensorV2(transpose_mask=True),\n",
    "    ]\n",
    "    \n",
    "    if data == 'train':\n",
    "        aug = A.Compose(train_aug_list)\n",
    "    elif data == 'valid':\n",
    "        aug = A.Compose(valid_aug_list)\n",
    "    return aug\n",
    "\n",
    "class CustomDataset(Dataset):\n",
    "    def __init__(self, images, cfg, labels=None, transform=None):\n",
    "        self.images = images\n",
    "        self.labels = labels\n",
    "        self.transform = transform\n",
    "\n",
    "    def __len__(self):\n",
    "        return len(self.images)\n",
    "\n",
    "    def __getitem__(self, idx):\n",
    "        image = self.images[idx].astype(np.float32)/65535\n",
    "        label = self.labels[idx].astype(np.float32)\n",
    "\n",
    "        if self.transform:\n",
    "            data = self.transform(image=image, mask=label)\n",
    "            image = data['image']\n",
    "            label = data['mask']\n",
    "\n",
    "        return image, label"
   ]
  },
  {
   "cell_type": "code",
   "execution_count": 18,
   "id": "7ef495b1",
   "metadata": {
    "execution": {
     "iopub.execute_input": "2023-06-02T17:37:39.629545Z",
     "iopub.status.busy": "2023-06-02T17:37:39.628656Z",
     "iopub.status.idle": "2023-06-02T17:37:39.639644Z",
     "shell.execute_reply": "2023-06-02T17:37:39.638696Z"
    },
    "papermill": {
     "duration": 0.0361,
     "end_time": "2023-06-02T17:37:39.641960",
     "exception": false,
     "start_time": "2023-06-02T17:37:39.605860",
     "status": "completed"
    },
    "tags": []
   },
   "outputs": [],
   "source": [
    "def create_dataloaders_new(CFG,full_images, full_masks, full_xyxys, valid_id = CFG.valid_id):\n",
    "    valid_id_int = int(valid_id) - 1\n",
    "    \n",
    "    valid_images = full_images[valid_id_int]\n",
    "    valid_masks = full_masks[valid_id_int]\n",
    "    valid_xyxys  = full_xyxys[valid_id_int]\n",
    "    \n",
    "    if valid_id_int == 0:\n",
    "        train_images = full_images[1] + full_images[2]\n",
    "        train_masks = full_masks[1] + full_masks[2]\n",
    "    elif valid_id_int == 1:\n",
    "        train_images = full_images[0] + full_images[2]\n",
    "        train_masks = full_masks[0] + full_masks[2] \n",
    "    elif valid_id_int == 2:\n",
    "        train_images = full_images[0] + full_images[1]\n",
    "        train_masks = full_masks[0] + full_masks[1]  \n",
    "    \n",
    "    train_dataset = CustomDataset(\n",
    "    train_images, CFG, labels=train_masks, transform=get_transforms(data='train', cfg=CFG))\n",
    "    valid_dataset = CustomDataset(\n",
    "        valid_images, CFG, labels=valid_masks, transform=get_transforms(data='valid', cfg=CFG))\n",
    "\n",
    "\n",
    "    train_loader = DataLoader(train_dataset,\n",
    "                              batch_size=CFG.train_batch_size,\n",
    "                              shuffle=True,\n",
    "                              num_workers=CFG.num_workers, pin_memory=True, drop_last=True,\n",
    "                              )\n",
    "    valid_loader = DataLoader(valid_dataset,\n",
    "                              batch_size=CFG.valid_batch_size,\n",
    "                              shuffle=False,\n",
    "                              num_workers=CFG.num_workers, pin_memory=True, drop_last=False)\n",
    "    \n",
    "    return train_loader, valid_loader, valid_xyxys"
   ]
  },
  {
   "cell_type": "markdown",
   "id": "1dc659d8",
   "metadata": {
    "papermill": {
     "duration": 0.020567,
     "end_time": "2023-06-02T17:37:39.683275",
     "exception": false,
     "start_time": "2023-06-02T17:37:39.662708",
     "status": "completed"
    },
    "tags": []
   },
   "source": [
    "## model"
   ]
  },
  {
   "cell_type": "code",
   "execution_count": 19,
   "id": "9e85790f",
   "metadata": {
    "execution": {
     "iopub.execute_input": "2023-06-02T17:37:39.726802Z",
     "iopub.status.busy": "2023-06-02T17:37:39.725959Z",
     "iopub.status.idle": "2023-06-02T17:37:39.734751Z",
     "shell.execute_reply": "2023-06-02T17:37:39.733805Z"
    },
    "papermill": {
     "duration": 0.032833,
     "end_time": "2023-06-02T17:37:39.737050",
     "exception": false,
     "start_time": "2023-06-02T17:37:39.704217",
     "status": "completed"
    },
    "tags": []
   },
   "outputs": [],
   "source": [
    "class CustomModel(nn.Module):\n",
    "    def __init__(self, cfg, weight=None):\n",
    "        super().__init__()\n",
    "        self.cfg = cfg\n",
    "\n",
    "        self.encoder = smp.PSPNet(\n",
    "            encoder_name=cfg.backbone, \n",
    "            encoder_weights=weight,\n",
    "            in_channels=cfg.in_chans,\n",
    "            classes=cfg.target_size,\n",
    "            activation=None,\n",
    "        )\n",
    "\n",
    "    def forward(self, image):\n",
    "        output = self.encoder(image)\n",
    "        # output = output.squeeze(-1)\n",
    "        return output\n",
    "\n",
    "\n",
    "def build_model(cfg, weight=\"imagenet\"):\n",
    "    print('model_name', cfg.model_name)\n",
    "    print('backbone', cfg.backbone)\n",
    "\n",
    "    model = CustomModel(cfg, weight)\n",
    "    if CFG.freeze:\n",
    "        for params in model.encoder.encoder.parameters():\n",
    "            params.requires_grad = False\n",
    "\n",
    "    return model"
   ]
  },
  {
   "cell_type": "code",
   "execution_count": 20,
   "id": "35125fea",
   "metadata": {
    "execution": {
     "iopub.execute_input": "2023-06-02T17:37:39.783498Z",
     "iopub.status.busy": "2023-06-02T17:37:39.782642Z",
     "iopub.status.idle": "2023-06-02T17:37:39.787210Z",
     "shell.execute_reply": "2023-06-02T17:37:39.786294Z"
    },
    "papermill": {
     "duration": 0.030045,
     "end_time": "2023-06-02T17:37:39.789510",
     "exception": false,
     "start_time": "2023-06-02T17:37:39.759465",
     "status": "completed"
    },
    "tags": []
   },
   "outputs": [],
   "source": [
    "# !pip install torchsummary\n",
    "# from torchsummary import summary"
   ]
  },
  {
   "cell_type": "code",
   "execution_count": 21,
   "id": "5ce5b7c9",
   "metadata": {
    "execution": {
     "iopub.execute_input": "2023-06-02T17:37:39.833672Z",
     "iopub.status.busy": "2023-06-02T17:37:39.832851Z",
     "iopub.status.idle": "2023-06-02T17:37:39.837455Z",
     "shell.execute_reply": "2023-06-02T17:37:39.836499Z"
    },
    "papermill": {
     "duration": 0.028534,
     "end_time": "2023-06-02T17:37:39.839694",
     "exception": false,
     "start_time": "2023-06-02T17:37:39.811160",
     "status": "completed"
    },
    "tags": []
   },
   "outputs": [],
   "source": [
    "# summary(model,(6,224,224))"
   ]
  },
  {
   "cell_type": "code",
   "execution_count": 22,
   "id": "03b3eadb",
   "metadata": {
    "execution": {
     "iopub.execute_input": "2023-06-02T17:37:39.883600Z",
     "iopub.status.busy": "2023-06-02T17:37:39.882747Z",
     "iopub.status.idle": "2023-06-02T17:37:39.887348Z",
     "shell.execute_reply": "2023-06-02T17:37:39.886385Z"
    },
    "papermill": {
     "duration": 0.028963,
     "end_time": "2023-06-02T17:37:39.889490",
     "exception": false,
     "start_time": "2023-06-02T17:37:39.860527",
     "status": "completed"
    },
    "tags": []
   },
   "outputs": [],
   "source": [
    "# for params in model.encoder.encoder.parameters():\n",
    "#     params.requires_grad = False"
   ]
  },
  {
   "cell_type": "code",
   "execution_count": 23,
   "id": "72f7081f",
   "metadata": {
    "execution": {
     "iopub.execute_input": "2023-06-02T17:37:39.933263Z",
     "iopub.status.busy": "2023-06-02T17:37:39.932225Z",
     "iopub.status.idle": "2023-06-02T17:37:39.937017Z",
     "shell.execute_reply": "2023-06-02T17:37:39.936069Z"
    },
    "papermill": {
     "duration": 0.02859,
     "end_time": "2023-06-02T17:37:39.939137",
     "exception": false,
     "start_time": "2023-06-02T17:37:39.910547",
     "status": "completed"
    },
    "tags": []
   },
   "outputs": [],
   "source": [
    "# summary(model,(6,224,224))"
   ]
  },
  {
   "cell_type": "markdown",
   "id": "14df587e",
   "metadata": {
    "papermill": {
     "duration": 0.020881,
     "end_time": "2023-06-02T17:37:39.981235",
     "exception": false,
     "start_time": "2023-06-02T17:37:39.960354",
     "status": "completed"
    },
    "tags": []
   },
   "source": [
    "## scheduler"
   ]
  },
  {
   "cell_type": "code",
   "execution_count": 24,
   "id": "5dac4223",
   "metadata": {
    "execution": {
     "iopub.execute_input": "2023-06-02T17:37:40.024829Z",
     "iopub.status.busy": "2023-06-02T17:37:40.023949Z",
     "iopub.status.idle": "2023-06-02T17:37:40.036843Z",
     "shell.execute_reply": "2023-06-02T17:37:40.035898Z"
    },
    "papermill": {
     "duration": 0.037404,
     "end_time": "2023-06-02T17:37:40.039327",
     "exception": false,
     "start_time": "2023-06-02T17:37:40.001923",
     "status": "completed"
    },
    "tags": []
   },
   "outputs": [],
   "source": [
    "from warmup_scheduler import GradualWarmupScheduler\n",
    "\n",
    "\n",
    "class GradualWarmupSchedulerV2(GradualWarmupScheduler):\n",
    "    \"\"\"\n",
    "    https://www.kaggle.com/code/underwearfitting/single-fold-training-of-resnet200d-lb0-965\n",
    "    \"\"\"\n",
    "    def __init__(self, optimizer, multiplier, total_epoch, after_scheduler=None):\n",
    "        super(GradualWarmupSchedulerV2, self).__init__(\n",
    "            optimizer, multiplier, total_epoch, after_scheduler)\n",
    "\n",
    "    def get_lr(self):\n",
    "        if self.last_epoch > self.total_epoch:\n",
    "            if self.after_scheduler:\n",
    "                if not self.finished:\n",
    "                    self.after_scheduler.base_lrs = [\n",
    "                        base_lr * self.multiplier for base_lr in self.base_lrs]\n",
    "                    self.finished = True\n",
    "                return self.after_scheduler.get_lr()\n",
    "            return [base_lr * self.multiplier for base_lr in self.base_lrs]\n",
    "        if self.multiplier == 1.0:\n",
    "            return [base_lr * (float(self.last_epoch) / self.total_epoch) for base_lr in self.base_lrs]\n",
    "        else:\n",
    "            return [base_lr * ((self.multiplier - 1.) * self.last_epoch / self.total_epoch + 1.) for base_lr in self.base_lrs]\n",
    "\n",
    "def get_scheduler(cfg, optimizer):\n",
    "    scheduler_cosine = torch.optim.lr_scheduler.CosineAnnealingLR(\n",
    "        optimizer, T_max=100, eta_min=1e-7)\n",
    "    \n",
    "    #scheduler_cosine = torch.optim.lr_scheduler.CosineAnnealingWarmRestarts(optimizer, T_0=20, T_mult=2, eta_min = 1e-6)\n",
    "    scheduler = GradualWarmupSchedulerV2(\n",
    "        optimizer, multiplier=10, total_epoch=100, after_scheduler=scheduler_cosine)\n",
    "\n",
    "    return scheduler\n",
    "\n",
    "# def scheduler_step(scheduler, avg_val_loss, epoch):\n",
    "#     scheduler.step(epoch)\n"
   ]
  },
  {
   "cell_type": "code",
   "execution_count": 25,
   "id": "7fd1e13b",
   "metadata": {
    "execution": {
     "iopub.execute_input": "2023-06-02T17:37:40.082497Z",
     "iopub.status.busy": "2023-06-02T17:37:40.081678Z",
     "iopub.status.idle": "2023-06-02T17:37:40.087852Z",
     "shell.execute_reply": "2023-06-02T17:37:40.086908Z"
    },
    "papermill": {
     "duration": 0.030121,
     "end_time": "2023-06-02T17:37:40.090101",
     "exception": false,
     "start_time": "2023-06-02T17:37:40.059980",
     "status": "completed"
    },
    "tags": []
   },
   "outputs": [],
   "source": [
    "def initalize_model(CFG):\n",
    "    model = build_model(CFG)\n",
    "    model.to(CFG.device)\n",
    "\n",
    "    optimizer = AdamW(model.parameters(), lr=CFG.lr, weight_decay = CFG.weight_decay)\n",
    "    scheduler = get_scheduler(CFG, optimizer)\n",
    "    return model, optimizer, scheduler"
   ]
  },
  {
   "cell_type": "markdown",
   "id": "6a11e889",
   "metadata": {
    "papermill": {
     "duration": 0.020794,
     "end_time": "2023-06-02T17:37:40.131647",
     "exception": false,
     "start_time": "2023-06-02T17:37:40.110853",
     "status": "completed"
    },
    "tags": []
   },
   "source": [
    "## loss"
   ]
  },
  {
   "cell_type": "code",
   "execution_count": 26,
   "id": "97b942ff",
   "metadata": {
    "execution": {
     "iopub.execute_input": "2023-06-02T17:37:40.174576Z",
     "iopub.status.busy": "2023-06-02T17:37:40.174282Z",
     "iopub.status.idle": "2023-06-02T17:37:40.178922Z",
     "shell.execute_reply": "2023-06-02T17:37:40.177824Z"
    },
    "papermill": {
     "duration": 0.028623,
     "end_time": "2023-06-02T17:37:40.181253",
     "exception": false,
     "start_time": "2023-06-02T17:37:40.152630",
     "status": "completed"
    },
    "tags": []
   },
   "outputs": [],
   "source": [
    "# # DiceLoss = smp.losses.DiceLoss(mode='binary')\n",
    "# BCELoss = smp.losses.SoftBCEWithLogitsLoss()\n",
    "\n",
    "# # alpha = 0.5\n",
    "# # beta = 1 - alpha\n",
    "# # TverskyLoss = smp.losses.TverskyLoss(\n",
    "# #     mode='binary', log_loss=False, alpha=alpha, beta=beta)\n",
    "\n",
    "# def criterion(y_pred, y_true):\n",
    "#     # return 0.5 * BCELoss(y_pred, y_true) + 0.5 * DiceLoss(y_pred, y_true)\n",
    "#     return BCELoss(y_pred, y_true)\n",
    "#     # return 0.5 * BCELoss(y_pred, y_true) + 0.5 * TverskyLoss(y_pred, y_true)"
   ]
  },
  {
   "cell_type": "code",
   "execution_count": null,
   "id": "d7379905",
   "metadata": {
    "papermill": {
     "duration": 0.020586,
     "end_time": "2023-06-02T17:37:40.222640",
     "exception": false,
     "start_time": "2023-06-02T17:37:40.202054",
     "status": "completed"
    },
    "tags": []
   },
   "outputs": [],
   "source": []
  },
  {
   "cell_type": "code",
   "execution_count": 27,
   "id": "7fe09192",
   "metadata": {
    "execution": {
     "iopub.execute_input": "2023-06-02T17:37:40.265664Z",
     "iopub.status.busy": "2023-06-02T17:37:40.265345Z",
     "iopub.status.idle": "2023-06-02T17:37:40.272177Z",
     "shell.execute_reply": "2023-06-02T17:37:40.271157Z"
    },
    "papermill": {
     "duration": 0.030928,
     "end_time": "2023-06-02T17:37:40.274493",
     "exception": false,
     "start_time": "2023-06-02T17:37:40.243565",
     "status": "completed"
    },
    "tags": []
   },
   "outputs": [],
   "source": [
    "Dice = smp.losses.DiceLoss(mode = 'binary',log_loss = True)\n",
    "Jaccard = smp.losses.JaccardLoss(mode ='binary', log_loss = True)\n",
    "BCE = smp.losses.SoftBCEWithLogitsLoss()\n",
    "def criterion(y_pred, y_true):\n",
    "    criterion = config['dice']*Dice(y_pred,y_true) + config['jaccard']*Jaccard(y_pred,y_true) + config['bce']*BCE(y_pred,y_true)\n",
    "    return criterion"
   ]
  },
  {
   "cell_type": "markdown",
   "id": "f82d9c87",
   "metadata": {
    "papermill": {
     "duration": 0.021427,
     "end_time": "2023-06-02T17:37:40.318061",
     "exception": false,
     "start_time": "2023-06-02T17:37:40.296634",
     "status": "completed"
    },
    "tags": []
   },
   "source": [
    "## train, val"
   ]
  },
  {
   "cell_type": "code",
   "execution_count": 28,
   "id": "bde3fa5e",
   "metadata": {
    "execution": {
     "iopub.execute_input": "2023-06-02T17:37:40.362024Z",
     "iopub.status.busy": "2023-06-02T17:37:40.361711Z",
     "iopub.status.idle": "2023-06-02T17:37:40.379518Z",
     "shell.execute_reply": "2023-06-02T17:37:40.378507Z"
    },
    "papermill": {
     "duration": 0.042383,
     "end_time": "2023-06-02T17:37:40.381824",
     "exception": false,
     "start_time": "2023-06-02T17:37:40.339441",
     "status": "completed"
    },
    "tags": []
   },
   "outputs": [],
   "source": [
    "def train_fn(CFG,train_loader, model, criterion, optimizer, device, scheduler):\n",
    "    model.train()\n",
    "\n",
    "    scaler = GradScaler(enabled=CFG.use_amp)\n",
    "    losses = AverageMeter()\n",
    "\n",
    "    for step, (images, labels) in tqdm(enumerate(train_loader), total=len(train_loader), desc =\"Train Steps Progress\",colour = 'RED'):\n",
    "        images = images.to(device)\n",
    "        labels = labels.to(device)\n",
    "        batch_size = labels.size(0)\n",
    "\n",
    "        with autocast(CFG.use_amp):\n",
    "            y_preds = model(images)\n",
    "            loss = criterion(y_preds, labels)\n",
    "\n",
    "        losses.update(loss.item(), batch_size)\n",
    "        scaler.scale(loss).backward()\n",
    "\n",
    "        grad_norm = torch.nn.utils.clip_grad_norm_(\n",
    "            model.parameters(), CFG.max_grad_norm)\n",
    "\n",
    "        scaler.step(optimizer)\n",
    "        scaler.update()\n",
    "        optimizer.zero_grad()\n",
    "        scheduler.step()\n",
    "        \n",
    "    del images, labels\n",
    "    if torch.cuda.is_available():\n",
    "        torch.cuda.empty_cache()\n",
    "    a = gc.collect()\n",
    "    \n",
    "    return losses.avg\n",
    "\n",
    "def valid_fn(CFG,valid_loader, model, criterion, device, valid_xyxys, valid_mask_gt):\n",
    "    mask_pred = np.zeros(valid_mask_gt.shape)\n",
    "    mask_count = np.zeros(valid_mask_gt.shape)\n",
    "\n",
    "    model.eval()\n",
    "    losses = AverageMeter()\n",
    "\n",
    "    for step, (images, labels) in tqdm(enumerate(valid_loader), total=len(valid_loader), desc =\"Validation Steps Progress\",colour = 'GREEN'):\n",
    "        images = images.to(device)\n",
    "        labels = labels.to(device)\n",
    "        batch_size = labels.size(0)\n",
    "\n",
    "        with torch.no_grad():\n",
    "            y_preds = model(images)\n",
    "            loss = criterion(y_preds, labels)\n",
    "        losses.update(loss.item(), batch_size)\n",
    "\n",
    "        # make whole mask\n",
    "        y_preds = torch.sigmoid(y_preds).to('cpu').numpy().astype(np.float32)\n",
    "        start_idx = step*CFG.valid_batch_size\n",
    "        end_idx = start_idx + batch_size\n",
    "        for i, (x1, y1, x2, y2) in enumerate(valid_xyxys[start_idx:end_idx]):\n",
    "            mask_pred[y1:y2, x1:x2] += y_preds[i].squeeze(0)\n",
    "            mask_count[y1:y2, x1:x2] += np.ones((CFG.size, CFG.size),dtype = np.float32)\n",
    "    \n",
    "    del images, labels\n",
    "    if torch.cuda.is_available():\n",
    "        torch.cuda.empty_cache()\n",
    "    a = gc.collect()\n",
    "    \n",
    "    mask_count = np.where(mask_count==0,1,mask_count)\n",
    "    mask_pred /= mask_count\n",
    "    \n",
    "    return losses.avg, mask_pred"
   ]
  },
  {
   "cell_type": "markdown",
   "id": "08265692",
   "metadata": {
    "papermill": {
     "duration": 0.020922,
     "end_time": "2023-06-02T17:37:40.423452",
     "exception": false,
     "start_time": "2023-06-02T17:37:40.402530",
     "status": "completed"
    },
    "tags": []
   },
   "source": [
    "## metrics"
   ]
  },
  {
   "cell_type": "code",
   "execution_count": 29,
   "id": "a29088d8",
   "metadata": {
    "execution": {
     "iopub.execute_input": "2023-06-02T17:37:40.466622Z",
     "iopub.status.busy": "2023-06-02T17:37:40.466306Z",
     "iopub.status.idle": "2023-06-02T17:37:40.479055Z",
     "shell.execute_reply": "2023-06-02T17:37:40.478053Z"
    },
    "papermill": {
     "duration": 0.036762,
     "end_time": "2023-06-02T17:37:40.481348",
     "exception": false,
     "start_time": "2023-06-02T17:37:40.444586",
     "status": "completed"
    },
    "tags": []
   },
   "outputs": [],
   "source": [
    "def fbeta_numpy(targets, preds, beta=0.5, smooth=1e-5):\n",
    "    \"\"\"\n",
    "    https://www.kaggle.com/competitions/vesuvius-challenge-ink-detection/discussion/397288\n",
    "    \"\"\"\n",
    "    targets = targets.flatten().astype(np.uint8)\n",
    "    preds = preds.flatten().astype(np.uint8)\n",
    "    y_true_count = targets.sum()\n",
    "    ctp = preds[targets==1].sum()\n",
    "    cfp = preds[targets==0].sum()\n",
    "    beta_squared = beta * beta\n",
    "\n",
    "    c_precision = ctp / (ctp + cfp + smooth)\n",
    "    c_recall = ctp / (y_true_count + smooth)\n",
    "    dice = (1 + beta_squared) * (c_precision * c_recall) / (beta_squared * c_precision + c_recall + smooth)\n",
    "\n",
    "    del targets, preds\n",
    "    a = gc.collect()\n",
    "    return dice\n",
    "\n",
    "def calc_fbeta(mask, mask_pred):\n",
    "    mask = mask.astype(np.uint8).flatten()\n",
    "    mask_pred = mask_pred.flatten()\n",
    "\n",
    "    best_th = 0\n",
    "    best_dice = 0\n",
    "    dice = fbeta_numpy(mask, (mask_pred >= 0.5), beta=0.5)\n",
    "    \n",
    "    best_dice = dice\n",
    "    best_th = 0.5 #assumed this is 0.5 vs iterating over different thresholds\n",
    "# Commented this out to save memory \n",
    "    for th in np.array(range(10, 80+1, 5)) / 100:\n",
    "        \n",
    "        # dice = fbeta_score(mask, (mask_pred >= th).astype(int), beta=0.5)\n",
    "        dice = fbeta_numpy(mask, (mask_pred >= th).astype(int), beta=0.5)\n",
    "        print(f'th: {th}, fbeta: {dice}')\n",
    "\n",
    "        if dice > best_dice:\n",
    "            best_dice = dice\n",
    "            best_th = th\n",
    "    \n",
    "    Logger.info(f'best_th: {best_th}, fbeta: {best_dice}')\n",
    "    del mask, mask_pred\n",
    "    a = gc.collect()\n",
    "    return best_dice, best_th\n",
    "\n",
    "def calc_cv(mask_gt, mask_pred):\n",
    "    best_dice, best_th = calc_fbeta(mask_gt, mask_pred)\n",
    "\n",
    "    return best_dice, best_th"
   ]
  },
  {
   "cell_type": "markdown",
   "id": "fdea2c8e",
   "metadata": {
    "papermill": {
     "duration": 0.020594,
     "end_time": "2023-06-02T17:37:40.522614",
     "exception": false,
     "start_time": "2023-06-02T17:37:40.502020",
     "status": "completed"
    },
    "tags": []
   },
   "source": [
    "## main"
   ]
  },
  {
   "cell_type": "code",
   "execution_count": 30,
   "id": "2424535d",
   "metadata": {
    "execution": {
     "iopub.execute_input": "2023-06-02T17:37:40.566350Z",
     "iopub.status.busy": "2023-06-02T17:37:40.565520Z",
     "iopub.status.idle": "2023-06-02T17:37:40.573579Z",
     "shell.execute_reply": "2023-06-02T17:37:40.572636Z"
    },
    "papermill": {
     "duration": 0.032411,
     "end_time": "2023-06-02T17:37:40.575822",
     "exception": false,
     "start_time": "2023-06-02T17:37:40.543411",
     "status": "completed"
    },
    "tags": []
   },
   "outputs": [],
   "source": [
    "def valid_mask_gt_func(CFG,fragment_id = CFG.valid_id):\n",
    "    size = CFG.size\n",
    "    step = CFG.step\n",
    "    \n",
    "    valid_mask_gt = np.array(Image.open(CFG.comp_dataset_path + f\"train/{fragment_id}/inklabels.png\"))\n",
    "    valid_mask_gt = valid_mask_gt\n",
    "    \n",
    "    pad0 = 0\n",
    "    pad1 = 0\n",
    "    if valid_mask_gt.shape[0] % step !=0:      \n",
    "        pad0 = (size - valid_mask_gt.shape[0] % step)\n",
    "    if valid_mask_gt.shape[1] % step !=0:\n",
    "        pad1 = (size - valid_mask_gt.shape[1] % step)\n",
    "    \n",
    "    valid_mask_gt = np.pad(valid_mask_gt, [(0, pad0), (0, pad1)], constant_values=0)\n",
    "    return valid_mask_gt"
   ]
  },
  {
   "cell_type": "code",
   "execution_count": 31,
   "id": "2f800dba",
   "metadata": {
    "execution": {
     "iopub.execute_input": "2023-06-02T17:37:40.618454Z",
     "iopub.status.busy": "2023-06-02T17:37:40.618164Z",
     "iopub.status.idle": "2023-06-02T17:37:40.623565Z",
     "shell.execute_reply": "2023-06-02T17:37:40.622548Z"
    },
    "papermill": {
     "duration": 0.029335,
     "end_time": "2023-06-02T17:37:40.625833",
     "exception": false,
     "start_time": "2023-06-02T17:37:40.596498",
     "status": "completed"
    },
    "tags": []
   },
   "outputs": [],
   "source": [
    "def cpu_stats():\n",
    "    pid = os.getpid()\n",
    "    py = psutil.Process(pid)\n",
    "    memory_use = py.memory_info()[0] / 2. ** 30\n",
    "    return 'memory GB:' + str(np.round(memory_use, 2))"
   ]
  },
  {
   "cell_type": "code",
   "execution_count": 32,
   "id": "e136d454",
   "metadata": {
    "execution": {
     "iopub.execute_input": "2023-06-02T17:37:40.670330Z",
     "iopub.status.busy": "2023-06-02T17:37:40.668705Z",
     "iopub.status.idle": "2023-06-02T17:37:40.676555Z",
     "shell.execute_reply": "2023-06-02T17:37:40.675500Z"
    },
    "papermill": {
     "duration": 0.032349,
     "end_time": "2023-06-02T17:37:40.679154",
     "exception": false,
     "start_time": "2023-06-02T17:37:40.646805",
     "status": "completed"
    },
    "tags": []
   },
   "outputs": [
    {
     "data": {
      "text/plain": [
       "'memory GB:0.98'"
      ]
     },
     "execution_count": 32,
     "metadata": {},
     "output_type": "execute_result"
    }
   ],
   "source": [
    "cpu_stats()"
   ]
  },
  {
   "cell_type": "code",
   "execution_count": 33,
   "id": "9fc61bd4",
   "metadata": {
    "execution": {
     "iopub.execute_input": "2023-06-02T17:37:40.722122Z",
     "iopub.status.busy": "2023-06-02T17:37:40.721807Z",
     "iopub.status.idle": "2023-06-02T17:37:40.726187Z",
     "shell.execute_reply": "2023-06-02T17:37:40.725159Z"
    },
    "papermill": {
     "duration": 0.028492,
     "end_time": "2023-06-02T17:37:40.728498",
     "exception": false,
     "start_time": "2023-06-02T17:37:40.700006",
     "status": "completed"
    },
    "tags": []
   },
   "outputs": [],
   "source": [
    "# full_images, full_masks, full_xyxys = read_all_fragments()\n",
    "# fold = 1\n",
    "# train_loader, valid_loader, valid_xyxys = create_dataloaders_new(full_images ,full_masks ,full_xyxys, fold)\n",
    "# valid_mask_gt = valid_mask_gt_func(fold)\n",
    "# device = CFG.device\n",
    "# model, optimizer, scheduler = initalize_model()\n",
    "# vg_val_loss, mask_pre = valid_fn(valid_loader, model, criterion, device, valid_xyxys, valid_mask_gt)"
   ]
  },
  {
   "cell_type": "code",
   "execution_count": 34,
   "id": "914c371d",
   "metadata": {
    "execution": {
     "iopub.execute_input": "2023-06-02T17:37:40.772303Z",
     "iopub.status.busy": "2023-06-02T17:37:40.771752Z",
     "iopub.status.idle": "2023-06-02T17:37:40.776200Z",
     "shell.execute_reply": "2023-06-02T17:37:40.775140Z"
    },
    "papermill": {
     "duration": 0.028972,
     "end_time": "2023-06-02T17:37:40.778523",
     "exception": false,
     "start_time": "2023-06-02T17:37:40.749551",
     "status": "completed"
    },
    "tags": []
   },
   "outputs": [],
   "source": [
    "# np.max(mask_pre)"
   ]
  },
  {
   "cell_type": "code",
   "execution_count": 35,
   "id": "e116c9ce",
   "metadata": {
    "execution": {
     "iopub.execute_input": "2023-06-02T17:37:40.822411Z",
     "iopub.status.busy": "2023-06-02T17:37:40.821547Z",
     "iopub.status.idle": "2023-06-02T17:37:40.827197Z",
     "shell.execute_reply": "2023-06-02T17:37:40.826175Z"
    },
    "papermill": {
     "duration": 0.030104,
     "end_time": "2023-06-02T17:37:40.829485",
     "exception": false,
     "start_time": "2023-06-02T17:37:40.799381",
     "status": "completed"
    },
    "tags": []
   },
   "outputs": [],
   "source": [
    "# np.max(valid_mask_gt)"
   ]
  },
  {
   "cell_type": "code",
   "execution_count": 36,
   "id": "6889db43",
   "metadata": {
    "execution": {
     "iopub.execute_input": "2023-06-02T17:37:40.873197Z",
     "iopub.status.busy": "2023-06-02T17:37:40.872334Z",
     "iopub.status.idle": "2023-06-02T17:37:40.876985Z",
     "shell.execute_reply": "2023-06-02T17:37:40.876053Z"
    },
    "papermill": {
     "duration": 0.028741,
     "end_time": "2023-06-02T17:37:40.879203",
     "exception": false,
     "start_time": "2023-06-02T17:37:40.850462",
     "status": "completed"
    },
    "tags": []
   },
   "outputs": [],
   "source": [
    "# mask_pre.shape == valid_mask_gt.shape"
   ]
  },
  {
   "cell_type": "code",
   "execution_count": 37,
   "id": "7f9d3071",
   "metadata": {
    "execution": {
     "iopub.execute_input": "2023-06-02T17:37:40.922956Z",
     "iopub.status.busy": "2023-06-02T17:37:40.922031Z",
     "iopub.status.idle": "2023-06-02T17:37:40.926616Z",
     "shell.execute_reply": "2023-06-02T17:37:40.925665Z"
    },
    "papermill": {
     "duration": 0.028564,
     "end_time": "2023-06-02T17:37:40.928896",
     "exception": false,
     "start_time": "2023-06-02T17:37:40.900332",
     "status": "completed"
    },
    "tags": []
   },
   "outputs": [],
   "source": [
    "# valid_mask_gt.dtype"
   ]
  },
  {
   "cell_type": "code",
   "execution_count": 38,
   "id": "8c5cfa8e",
   "metadata": {
    "execution": {
     "iopub.execute_input": "2023-06-02T17:37:40.972928Z",
     "iopub.status.busy": "2023-06-02T17:37:40.972006Z",
     "iopub.status.idle": "2023-06-02T17:37:40.976654Z",
     "shell.execute_reply": "2023-06-02T17:37:40.975723Z"
    },
    "papermill": {
     "duration": 0.029022,
     "end_time": "2023-06-02T17:37:40.978894",
     "exception": false,
     "start_time": "2023-06-02T17:37:40.949872",
     "status": "completed"
    },
    "tags": []
   },
   "outputs": [],
   "source": [
    "# score = fbeta_numpy(valid_mask_gt,mask_pre>=0.5)"
   ]
  },
  {
   "cell_type": "code",
   "execution_count": 39,
   "id": "a912efc7",
   "metadata": {
    "execution": {
     "iopub.execute_input": "2023-06-02T17:37:41.022342Z",
     "iopub.status.busy": "2023-06-02T17:37:41.021412Z",
     "iopub.status.idle": "2023-06-02T17:37:41.025968Z",
     "shell.execute_reply": "2023-06-02T17:37:41.025037Z"
    },
    "papermill": {
     "duration": 0.028543,
     "end_time": "2023-06-02T17:37:41.028247",
     "exception": false,
     "start_time": "2023-06-02T17:37:40.999704",
     "status": "completed"
    },
    "tags": []
   },
   "outputs": [],
   "source": [
    "# score"
   ]
  },
  {
   "cell_type": "code",
   "execution_count": 40,
   "id": "26abcf95",
   "metadata": {
    "execution": {
     "iopub.execute_input": "2023-06-02T17:37:41.071902Z",
     "iopub.status.busy": "2023-06-02T17:37:41.071028Z",
     "iopub.status.idle": "2023-06-02T17:37:41.075670Z",
     "shell.execute_reply": "2023-06-02T17:37:41.074751Z"
    },
    "papermill": {
     "duration": 0.028797,
     "end_time": "2023-06-02T17:37:41.077876",
     "exception": false,
     "start_time": "2023-06-02T17:37:41.049079",
     "status": "completed"
    },
    "tags": []
   },
   "outputs": [],
   "source": [
    "# mask_pre.shape"
   ]
  },
  {
   "cell_type": "code",
   "execution_count": 41,
   "id": "99df59f2",
   "metadata": {
    "execution": {
     "iopub.execute_input": "2023-06-02T17:37:41.121010Z",
     "iopub.status.busy": "2023-06-02T17:37:41.120721Z",
     "iopub.status.idle": "2023-06-02T17:37:41.143293Z",
     "shell.execute_reply": "2023-06-02T17:37:41.142385Z"
    },
    "papermill": {
     "duration": 0.046882,
     "end_time": "2023-06-02T17:37:41.145568",
     "exception": false,
     "start_time": "2023-06-02T17:37:41.098686",
     "status": "completed"
    },
    "tags": []
   },
   "outputs": [],
   "source": [
    "def train(config,CFG):\n",
    "    if torch.cuda.is_available():\n",
    "        torch.cuda.empty_cache()\n",
    "    #fold = CFG.valid_id\n",
    "    print(f'pre inializing: {cpu_stats()}')\n",
    "\n",
    "    full_images, full_masks, full_xyxys = read_all_fragments(CFG) #reads and puts all fragments in list\n",
    "\n",
    "    device = CFG.device\n",
    "\n",
    "    print(f'post inializing: {cpu_stats()}')\n",
    "    for fold in [1]:\n",
    "\n",
    "        print(f'Current fold --> {fold}')\n",
    "\n",
    "        run = wandb.init(project=f\"Vesuvius Experiments PSPNet\", config=config, name = f\"{config['arch']} {config['model']} Fold{fold} freeze{config['freeze']} {random.randint(1,100000)}\")\n",
    "\n",
    "        if CFG.metric_direction == 'minimize':\n",
    "            best_score = np.inf\n",
    "        elif CFG.metric_direction == 'maximize':\n",
    "            best_score = -1\n",
    "\n",
    "        best_loss = np.inf\n",
    "\n",
    "\n",
    "        train_loader, valid_loader, valid_xyxys = create_dataloaders_new(CFG,full_images ,full_masks ,full_xyxys, fold) #create_dataloaders(fold)\n",
    "        valid_mask_gt = valid_mask_gt_func(CFG,fold) #Get validation mask\n",
    "\n",
    "        model, optimizer, scheduler = initalize_model(CFG)\n",
    "        _, mask_pred = valid_fn(CFG,valid_loader, model, criterion, device, valid_xyxys, valid_mask_gt)\n",
    "\n",
    "        best_dice, best_th = calc_cv(valid_mask_gt, mask_pred)\n",
    "        best_score = best_dice\n",
    "\n",
    "        print(f'Val_loss before training -->{_}, score --> {best_score}')\n",
    "\n",
    "        del mask_pred\n",
    "        gc.collect()\n",
    "\n",
    "        path = CFG.model_dir + f'fold{fold}/'\n",
    "        make_dir(path)\n",
    "        for epoch in tqdm(range(CFG.epochs),desc =\"Epoch Progress\",colour = 'WHITE'):\n",
    "\n",
    "            start_time = time.time()\n",
    "\n",
    "            avg_loss = train_fn(CFG,train_loader, model, criterion, optimizer, device, scheduler)\n",
    "            avg_val_loss, mask_pred = valid_fn(CFG,valid_loader, model, criterion, device, valid_xyxys, valid_mask_gt)\n",
    "    #         scheduler_step(scheduler, avg_val_loss, epoch)\n",
    "            best_dice, best_th = calc_cv(valid_mask_gt, mask_pred)\n",
    "            score = best_dice\n",
    "\n",
    "            elapsed = time.time() - start_time\n",
    "\n",
    "            Logger.info(\n",
    "                f'Epoch {epoch+1} - avg_train_loss: {avg_loss:.4f}  avg_val_loss: {avg_val_loss:.4f}  time: {elapsed:.0f}s')\n",
    "            Logger.info(\n",
    "                f'Epoch {epoch+1} - avgScore: {score:.4f}')\n",
    "#             torch.save({'model': model.state_dict(),\n",
    "#                        'opitmizer': optimizer.state_dict(),\n",
    "#                         'scheduler':scheduler.state_dict(),},\n",
    "#                         path + f'{CFG.model_name}_freeze_epoch{epoch}.pth')\n",
    "\n",
    "            if CFG.metric_direction == 'minimize':\n",
    "                update_best = score < best_score\n",
    "            elif CFG.metric_direction == 'maximize':\n",
    "                update_best = score > best_score\n",
    "\n",
    "            wandb.log({\"Train_loss\": avg_loss, \"Val_los\": avg_val_loss, \"Score\": score, \"Epoch\":epoch+1, 'Best_th':best_th})\n",
    "\n",
    "            if update_best:\n",
    "                best_loss = avg_val_loss\n",
    "                best_score = score\n",
    "\n",
    "                Logger.info(\n",
    "                    f'Epoch {epoch+1} - Save Best Score: {best_score:.4f} Model')\n",
    "                Logger.info(\n",
    "                    f'Epoch {epoch+1} - Save Best Loss: {best_loss:.4f} Model')\n",
    "\n",
    "                print(f'saving model: {cpu_stats()}')\n",
    "                torch.save({'model': model.state_dict(),\n",
    "                           'opitmizer': optimizer.state_dict(),\n",
    "                           'scheduler':scheduler.state_dict()},\n",
    "                            path+f'{CFG.model_name}_freeze_best_epoch{epoch}.pth')\n",
    "                wandb.log({\"Best_loss\": avg_loss, \"Best_Score\": best_score, \"Epoch_best\":epoch+1, 'Best_threshold':best_th})\n",
    "        del model, valid_mask_gt #Not sure if this is right or not, freeing up memory \n",
    "\n",
    "        if torch.cuda.is_available():\n",
    "            torch.cuda.empty_cache()\n",
    "        abds = gc.collect()\n",
    "        run.finish()\n",
    "        print(f'deleted items: {cpu_stats()}')\n",
    "    del full_images[:], full_masks[:], full_xyxys[:]\n",
    "    del full_images, full_masks, full_xyxys\n",
    "    abds = gc.collect()\n",
    "    return 0"
   ]
  },
  {
   "cell_type": "code",
   "execution_count": 42,
   "id": "caba6115",
   "metadata": {
    "execution": {
     "iopub.execute_input": "2023-06-02T17:37:41.189315Z",
     "iopub.status.busy": "2023-06-02T17:37:41.188361Z",
     "iopub.status.idle": "2023-06-02T17:37:41.193030Z",
     "shell.execute_reply": "2023-06-02T17:37:41.192131Z"
    },
    "papermill": {
     "duration": 0.028942,
     "end_time": "2023-06-02T17:37:41.195374",
     "exception": false,
     "start_time": "2023-06-02T17:37:41.166432",
     "status": "completed"
    },
    "tags": []
   },
   "outputs": [],
   "source": [
    "# check_point = torch.load(\n",
    "#     CFG.model_dir + f'{CFG.model_name}_fold{fold}_{CFG.inf_weight}.pth', map_location=torch.device('cpu'))"
   ]
  },
  {
   "cell_type": "code",
   "execution_count": 43,
   "id": "112b8faa",
   "metadata": {
    "execution": {
     "iopub.execute_input": "2023-06-02T17:37:41.239271Z",
     "iopub.status.busy": "2023-06-02T17:37:41.238453Z",
     "iopub.status.idle": "2023-06-02T17:37:41.243010Z",
     "shell.execute_reply": "2023-06-02T17:37:41.242113Z"
    },
    "papermill": {
     "duration": 0.028509,
     "end_time": "2023-06-02T17:37:41.245207",
     "exception": false,
     "start_time": "2023-06-02T17:37:41.216698",
     "status": "completed"
    },
    "tags": []
   },
   "outputs": [],
   "source": [
    "# mask_pred = check_point['preds']"
   ]
  },
  {
   "cell_type": "code",
   "execution_count": 44,
   "id": "65c61f0a",
   "metadata": {
    "execution": {
     "iopub.execute_input": "2023-06-02T17:37:41.288762Z",
     "iopub.status.busy": "2023-06-02T17:37:41.287950Z",
     "iopub.status.idle": "2023-06-02T17:37:41.292340Z",
     "shell.execute_reply": "2023-06-02T17:37:41.291250Z"
    },
    "papermill": {
     "duration": 0.028425,
     "end_time": "2023-06-02T17:37:41.294584",
     "exception": false,
     "start_time": "2023-06-02T17:37:41.266159",
     "status": "completed"
    },
    "tags": []
   },
   "outputs": [],
   "source": [
    "# best_dice, best_th  = calc_fbeta(valid_mask_gt, mask_pred)"
   ]
  },
  {
   "cell_type": "code",
   "execution_count": 45,
   "id": "4249f0c8",
   "metadata": {
    "execution": {
     "iopub.execute_input": "2023-06-02T17:37:41.338006Z",
     "iopub.status.busy": "2023-06-02T17:37:41.337183Z",
     "iopub.status.idle": "2023-06-02T17:37:41.341571Z",
     "shell.execute_reply": "2023-06-02T17:37:41.340504Z"
    },
    "papermill": {
     "duration": 0.028338,
     "end_time": "2023-06-02T17:37:41.343799",
     "exception": false,
     "start_time": "2023-06-02T17:37:41.315461",
     "status": "completed"
    },
    "tags": []
   },
   "outputs": [],
   "source": [
    "# fig, axes = plt.subplots(1, 3, figsize=(15, 8))\n",
    "# axes[0].imshow(valid_mask_gt)\n",
    "# axes[1].imshow(mask_pred)\n",
    "# axes[2].imshow((mask_pred>=best_th).astype(int))"
   ]
  },
  {
   "cell_type": "code",
   "execution_count": 46,
   "id": "ac557365",
   "metadata": {
    "execution": {
     "iopub.execute_input": "2023-06-02T17:37:41.388423Z",
     "iopub.status.busy": "2023-06-02T17:37:41.387613Z",
     "iopub.status.idle": "2023-06-02T17:37:41.392190Z",
     "shell.execute_reply": "2023-06-02T17:37:41.391281Z"
    },
    "papermill": {
     "duration": 0.029261,
     "end_time": "2023-06-02T17:37:41.394472",
     "exception": false,
     "start_time": "2023-06-02T17:37:41.365211",
     "status": "completed"
    },
    "tags": []
   },
   "outputs": [],
   "source": [
    "# np.unique(mask_pred), np.min(mask_pred), np.max(mask_pred)"
   ]
  },
  {
   "cell_type": "code",
   "execution_count": 47,
   "id": "fc7828b3",
   "metadata": {
    "execution": {
     "iopub.execute_input": "2023-06-02T17:37:41.438505Z",
     "iopub.status.busy": "2023-06-02T17:37:41.437554Z",
     "iopub.status.idle": "2023-06-02T17:37:41.442151Z",
     "shell.execute_reply": "2023-06-02T17:37:41.441231Z"
    },
    "papermill": {
     "duration": 0.028781,
     "end_time": "2023-06-02T17:37:41.444423",
     "exception": false,
     "start_time": "2023-06-02T17:37:41.415642",
     "status": "completed"
    },
    "tags": []
   },
   "outputs": [],
   "source": [
    "# mask_pred"
   ]
  },
  {
   "cell_type": "code",
   "execution_count": 48,
   "id": "c34fb5ec",
   "metadata": {
    "execution": {
     "iopub.execute_input": "2023-06-02T17:37:41.488356Z",
     "iopub.status.busy": "2023-06-02T17:37:41.487543Z",
     "iopub.status.idle": "2023-06-02T17:37:41.492152Z",
     "shell.execute_reply": "2023-06-02T17:37:41.491226Z"
    },
    "papermill": {
     "duration": 0.029115,
     "end_time": "2023-06-02T17:37:41.494370",
     "exception": false,
     "start_time": "2023-06-02T17:37:41.465255",
     "status": "completed"
    },
    "tags": []
   },
   "outputs": [],
   "source": [
    "# plt.hist(mask_pred.flatten(), bins=20)"
   ]
  },
  {
   "cell_type": "code",
   "execution_count": 49,
   "id": "05b66305",
   "metadata": {
    "execution": {
     "iopub.execute_input": "2023-06-02T17:37:41.538410Z",
     "iopub.status.busy": "2023-06-02T17:37:41.537495Z",
     "iopub.status.idle": "2023-06-02T17:37:41.542046Z",
     "shell.execute_reply": "2023-06-02T17:37:41.540978Z"
    },
    "papermill": {
     "duration": 0.028766,
     "end_time": "2023-06-02T17:37:41.544318",
     "exception": false,
     "start_time": "2023-06-02T17:37:41.515552",
     "status": "completed"
    },
    "tags": []
   },
   "outputs": [],
   "source": [
    "# run.finish()"
   ]
  },
  {
   "cell_type": "code",
   "execution_count": 50,
   "id": "a10afb02",
   "metadata": {
    "execution": {
     "iopub.execute_input": "2023-06-02T17:37:41.587605Z",
     "iopub.status.busy": "2023-06-02T17:37:41.586732Z",
     "iopub.status.idle": "2023-06-02T17:37:41.592614Z",
     "shell.execute_reply": "2023-06-02T17:37:41.591692Z"
    },
    "papermill": {
     "duration": 0.029806,
     "end_time": "2023-06-02T17:37:41.594861",
     "exception": false,
     "start_time": "2023-06-02T17:37:41.565055",
     "status": "completed"
    },
    "tags": []
   },
   "outputs": [],
   "source": [
    "config = {\n",
    "    'arch':'PSPNet',\n",
    "    'model' :'efficientnet-b5',\n",
    "    'freeze' :True,\n",
    "    'weight_decay' : 0.1,\n",
    "    'in_chans' : 6,\n",
    "    'version' : 79,\n",
    "    'batch_size':16,\n",
    "    'bce': 1,\n",
    "    'jaccard': 0,\n",
    "    'dice': 0,\n",
    "}"
   ]
  },
  {
   "cell_type": "code",
   "execution_count": 51,
   "id": "4d764c91",
   "metadata": {
    "execution": {
     "iopub.execute_input": "2023-06-02T17:37:41.638386Z",
     "iopub.status.busy": "2023-06-02T17:37:41.637486Z",
     "iopub.status.idle": "2023-06-02T17:37:41.643426Z",
     "shell.execute_reply": "2023-06-02T17:37:41.642487Z"
    },
    "papermill": {
     "duration": 0.029977,
     "end_time": "2023-06-02T17:37:41.645690",
     "exception": false,
     "start_time": "2023-06-02T17:37:41.615713",
     "status": "completed"
    },
    "tags": []
   },
   "outputs": [],
   "source": [
    "def update_CFG(config,CFG):\n",
    "    CFG.model_name = config['arch']\n",
    "    CFG.backbone = config['model']\n",
    "    CFG.weight_decay = config['weight_decay']\n",
    "    CFG.freeze = config['freeze']\n",
    "    CFG.in_chans = config['in_chans'] "
   ]
  },
  {
   "cell_type": "code",
   "execution_count": 52,
   "id": "a6e21905",
   "metadata": {
    "execution": {
     "iopub.execute_input": "2023-06-02T17:37:41.688445Z",
     "iopub.status.busy": "2023-06-02T17:37:41.688152Z",
     "iopub.status.idle": "2023-06-02T22:19:32.064741Z",
     "shell.execute_reply": "2023-06-02T22:19:32.062408Z"
    },
    "papermill": {
     "duration": 16910.401159,
     "end_time": "2023-06-02T22:19:32.067628",
     "exception": false,
     "start_time": "2023-06-02T17:37:41.666469",
     "status": "completed"
    },
    "tags": []
   },
   "outputs": [
    {
     "name": "stdout",
     "output_type": "stream",
     "text": [
      "pre inializing: memory GB:0.98\n"
     ]
    },
    {
     "name": "stderr",
     "output_type": "stream",
     "text": [
      "Image Slice Progress: 100%|\u001b[34m██████████\u001b[0m| 3/3 [00:03<00:00,  1.04s/it]\n",
      "Image Slice Progress: 100%|\u001b[34m██████████\u001b[0m| 3/3 [00:07<00:00,  2.46s/it]\n",
      "Image Slice Progress: 100%|\u001b[34m██████████\u001b[0m| 3/3 [00:02<00:00,  1.44it/s]\n",
      "\u001b[34m\u001b[1mwandb\u001b[0m: Currently logged in as: \u001b[33mwhybeaking\u001b[0m (\u001b[33mi-am-noob\u001b[0m). Use \u001b[1m`wandb login --relogin`\u001b[0m to force relogin\n"
     ]
    },
    {
     "name": "stdout",
     "output_type": "stream",
     "text": [
      "post inializing: memory GB:2.55\n",
      "Current fold --> 1\n"
     ]
    },
    {
     "name": "stderr",
     "output_type": "stream",
     "text": [
      "\u001b[34m\u001b[1mwandb\u001b[0m: Tracking run with wandb version 0.15.3\n",
      "\u001b[34m\u001b[1mwandb\u001b[0m: Run data is saved locally in \u001b[35m\u001b[1m/kaggle/working/wandb/run-20230602_173759-gj4121ru\u001b[0m\n",
      "\u001b[34m\u001b[1mwandb\u001b[0m: Run \u001b[1m`wandb offline`\u001b[0m to turn off syncing.\n",
      "\u001b[34m\u001b[1mwandb\u001b[0m: Syncing run \u001b[33mPSPNet mit_b0 Fold1 freezeTrue 76811\u001b[0m\n",
      "\u001b[34m\u001b[1mwandb\u001b[0m: ⭐️ View project at \u001b[34m\u001b[4mhttps://wandb.ai/i-am-noob/Vesuvius%20Experiments%20PSPNet\u001b[0m\n",
      "\u001b[34m\u001b[1mwandb\u001b[0m: 🚀 View run at \u001b[34m\u001b[4mhttps://wandb.ai/i-am-noob/Vesuvius%20Experiments%20PSPNet/runs/gj4121ru\u001b[0m\n"
     ]
    },
    {
     "name": "stdout",
     "output_type": "stream",
     "text": [
      "model_name PSPNet\n",
      "backbone mit_b0\n"
     ]
    },
    {
     "name": "stderr",
     "output_type": "stream",
     "text": [
      "Downloading: \"https://github.com/qubvel/segmentation_models.pytorch/releases/download/v0.0.2/mit_b0.pth\" to /root/.cache/torch/hub/checkpoints/mit_b0.pth\n"
     ]
    },
    {
     "data": {
      "application/vnd.jupyter.widget-view+json": {
       "model_id": "539959e215ef483ba54e15f56f07918b",
       "version_major": 2,
       "version_minor": 0
      },
      "text/plain": [
       "  0%|          | 0.00/13.7M [00:00<?, ?B/s]"
      ]
     },
     "metadata": {},
     "output_type": "display_data"
    },
    {
     "name": "stderr",
     "output_type": "stream",
     "text": [
      "Validation Steps Progress: 100%|\u001b[32m██████████\u001b[0m| 17/17 [00:07<00:00,  2.38it/s]\n"
     ]
    },
    {
     "name": "stdout",
     "output_type": "stream",
     "text": [
      "th: 0.1, fbeta: 0.07159157168739244\n",
      "th: 0.15, fbeta: 0.07159157168739244\n",
      "th: 0.2, fbeta: 0.07159157168739244\n",
      "th: 0.25, fbeta: 0.07159157168739244\n",
      "th: 0.3, fbeta: 0.07159157168739244\n",
      "th: 0.35, fbeta: 0.07159157168739244\n",
      "th: 0.4, fbeta: 0.07159157168739244\n",
      "th: 0.45, fbeta: 0.07159157168739244\n",
      "th: 0.5, fbeta: 0.07159017274024106\n",
      "th: 0.55, fbeta: 0.054353238208689286\n",
      "th: 0.6, fbeta: 0.0\n",
      "th: 0.65, fbeta: 0.0\n",
      "th: 0.7, fbeta: 0.0\n",
      "th: 0.75, fbeta: 0.0\n"
     ]
    },
    {
     "name": "stderr",
     "output_type": "stream",
     "text": [
      "best_th: 0.1, fbeta: 0.07159157168739244\n"
     ]
    },
    {
     "name": "stdout",
     "output_type": "stream",
     "text": [
      "th: 0.8, fbeta: 0.0\n",
      "Val_loss before training -->0.7744107954134968, score --> 0.07159157168739244\n"
     ]
    },
    {
     "name": "stderr",
     "output_type": "stream",
     "text": [
      "Train Steps Progress: 100%|\u001b[31m██████████\u001b[0m| 152/152 [00:27<00:00,  5.47it/s]\n",
      "Validation Steps Progress: 100%|\u001b[32m██████████\u001b[0m| 17/17 [00:01<00:00,  8.69it/s]\n"
     ]
    },
    {
     "name": "stdout",
     "output_type": "stream",
     "text": [
      "th: 0.1, fbeta: 0.07159157168739244\n",
      "th: 0.15, fbeta: 0.06540268040563373\n",
      "th: 0.2, fbeta: 0.05359552776106345\n",
      "th: 0.25, fbeta: 0.01621722619577757\n",
      "th: 0.3, fbeta: 0.002006276073625821\n",
      "th: 0.35, fbeta: 0.0\n",
      "th: 0.4, fbeta: 0.0\n",
      "th: 0.45, fbeta: 0.0\n",
      "th: 0.5, fbeta: 0.0\n",
      "th: 0.55, fbeta: 0.0\n",
      "th: 0.6, fbeta: 0.0\n",
      "th: 0.65, fbeta: 0.0\n",
      "th: 0.7, fbeta: 0.0\n",
      "th: 0.75, fbeta: 0.0\n"
     ]
    },
    {
     "name": "stderr",
     "output_type": "stream",
     "text": [
      "best_th: 0.1, fbeta: 0.07159157168739244\n",
      "Epoch 1 - avg_train_loss: 0.4307  avg_val_loss: 0.2724  time: 43s\n",
      "Epoch 1 - avgScore: 0.0716\n",
      "Epoch Progress:   7%|\u001b[37m▋         \u001b[0m| 1/15 [00:43<10:07, 43.38s/it]"
     ]
    },
    {
     "name": "stdout",
     "output_type": "stream",
     "text": [
      "th: 0.8, fbeta: 0.0\n"
     ]
    },
    {
     "name": "stderr",
     "output_type": "stream",
     "text": [
      "Train Steps Progress: 100%|\u001b[31m██████████\u001b[0m| 152/152 [00:26<00:00,  5.65it/s]\n",
      "Validation Steps Progress: 100%|\u001b[32m██████████\u001b[0m| 17/17 [00:01<00:00,  8.54it/s]\n"
     ]
    },
    {
     "name": "stdout",
     "output_type": "stream",
     "text": [
      "th: 0.1, fbeta: 0.0633215485503424\n",
      "th: 0.15, fbeta: 0.03146059325236219\n",
      "th: 0.2, fbeta: 0.011371679792136023\n",
      "th: 0.25, fbeta: 0.0001987619968708877\n",
      "th: 0.3, fbeta: 0.0\n",
      "th: 0.35, fbeta: 0.0\n",
      "th: 0.4, fbeta: 0.0\n",
      "th: 0.45, fbeta: 0.0\n",
      "th: 0.5, fbeta: 0.0\n",
      "th: 0.55, fbeta: 0.0\n",
      "th: 0.6, fbeta: 0.0\n",
      "th: 0.65, fbeta: 0.0\n",
      "th: 0.7, fbeta: 0.0\n",
      "th: 0.75, fbeta: 0.0\n"
     ]
    },
    {
     "name": "stderr",
     "output_type": "stream",
     "text": [
      "best_th: 0.1, fbeta: 0.0633215485503424\n",
      "Epoch 2 - avg_train_loss: 0.3769  avg_val_loss: 0.2381  time: 42s\n",
      "Epoch 2 - avgScore: 0.0633\n",
      "Epoch Progress:  13%|\u001b[37m█▎        \u001b[0m| 2/15 [01:25<09:16, 42.79s/it]"
     ]
    },
    {
     "name": "stdout",
     "output_type": "stream",
     "text": [
      "th: 0.8, fbeta: 0.0\n"
     ]
    },
    {
     "name": "stderr",
     "output_type": "stream",
     "text": [
      "Train Steps Progress: 100%|\u001b[31m██████████\u001b[0m| 152/152 [00:27<00:00,  5.59it/s]\n",
      "Validation Steps Progress: 100%|\u001b[32m██████████\u001b[0m| 17/17 [00:02<00:00,  8.49it/s]\n"
     ]
    },
    {
     "name": "stdout",
     "output_type": "stream",
     "text": [
      "th: 0.1, fbeta: 0.06978295102826094\n",
      "th: 0.15, fbeta: 0.043983510157523505\n",
      "th: 0.2, fbeta: 0.016159151529671074\n",
      "th: 0.25, fbeta: 0.0007950927119375439\n",
      "th: 0.3, fbeta: 0.0\n",
      "th: 0.35, fbeta: 0.0\n",
      "th: 0.4, fbeta: 0.0\n",
      "th: 0.45, fbeta: 0.0\n",
      "th: 0.5, fbeta: 0.0\n",
      "th: 0.55, fbeta: 0.0\n",
      "th: 0.6, fbeta: 0.0\n",
      "th: 0.65, fbeta: 0.0\n",
      "th: 0.7, fbeta: 0.0\n",
      "th: 0.75, fbeta: 0.0\n"
     ]
    },
    {
     "name": "stderr",
     "output_type": "stream",
     "text": [
      "best_th: 0.1, fbeta: 0.06978295102826094\n",
      "Epoch 3 - avg_train_loss: 0.3746  avg_val_loss: 0.2475  time: 43s\n",
      "Epoch 3 - avgScore: 0.0698\n",
      "Epoch Progress:  20%|\u001b[37m██        \u001b[0m| 3/15 [02:08<08:34, 42.86s/it]"
     ]
    },
    {
     "name": "stdout",
     "output_type": "stream",
     "text": [
      "th: 0.8, fbeta: 0.0\n"
     ]
    },
    {
     "name": "stderr",
     "output_type": "stream",
     "text": [
      "Train Steps Progress: 100%|\u001b[31m██████████\u001b[0m| 152/152 [00:26<00:00,  5.67it/s]\n",
      "Validation Steps Progress: 100%|\u001b[32m██████████\u001b[0m| 17/17 [00:01<00:00,  8.59it/s]\n"
     ]
    },
    {
     "name": "stdout",
     "output_type": "stream",
     "text": [
      "th: 0.1, fbeta: 0.07024337697509248\n",
      "th: 0.15, fbeta: 0.05457282276587135\n",
      "th: 0.2, fbeta: 0.009461130645011384\n",
      "th: 0.25, fbeta: 0.0\n",
      "th: 0.3, fbeta: 0.0\n",
      "th: 0.35, fbeta: 0.0\n",
      "th: 0.4, fbeta: 0.0\n",
      "th: 0.45, fbeta: 0.0\n",
      "th: 0.5, fbeta: 0.0\n",
      "th: 0.55, fbeta: 0.0\n",
      "th: 0.6, fbeta: 0.0\n",
      "th: 0.65, fbeta: 0.0\n",
      "th: 0.7, fbeta: 0.0\n",
      "th: 0.75, fbeta: 0.0\n"
     ]
    },
    {
     "name": "stderr",
     "output_type": "stream",
     "text": [
      "best_th: 0.1, fbeta: 0.07024337697509248\n",
      "Epoch 4 - avg_train_loss: 0.3760  avg_val_loss: 0.2487  time: 43s\n",
      "Epoch 4 - avgScore: 0.0702\n",
      "Epoch Progress:  27%|\u001b[37m██▋       \u001b[0m| 4/15 [02:51<07:50, 42.76s/it]"
     ]
    },
    {
     "name": "stdout",
     "output_type": "stream",
     "text": [
      "th: 0.8, fbeta: 0.0\n"
     ]
    },
    {
     "name": "stderr",
     "output_type": "stream",
     "text": [
      "Train Steps Progress: 100%|\u001b[31m██████████\u001b[0m| 152/152 [00:27<00:00,  5.61it/s]\n",
      "Validation Steps Progress: 100%|\u001b[32m██████████\u001b[0m| 17/17 [00:02<00:00,  8.22it/s]\n"
     ]
    },
    {
     "name": "stdout",
     "output_type": "stream",
     "text": [
      "th: 0.1, fbeta: 0.07055559938704584\n",
      "th: 0.15, fbeta: 0.04099543713363792\n",
      "th: 0.2, fbeta: 0.010018816105048255\n",
      "th: 0.25, fbeta: 0.0\n",
      "th: 0.3, fbeta: 0.0\n",
      "th: 0.35, fbeta: 0.0\n",
      "th: 0.4, fbeta: 0.0\n",
      "th: 0.45, fbeta: 0.0\n",
      "th: 0.5, fbeta: 0.0\n",
      "th: 0.55, fbeta: 0.0\n",
      "th: 0.6, fbeta: 0.0\n",
      "th: 0.65, fbeta: 0.0\n",
      "th: 0.7, fbeta: 0.0\n",
      "th: 0.75, fbeta: 0.0\n"
     ]
    },
    {
     "name": "stderr",
     "output_type": "stream",
     "text": [
      "best_th: 0.1, fbeta: 0.07055559938704584\n",
      "Epoch 5 - avg_train_loss: 0.3683  avg_val_loss: 0.2474  time: 43s\n",
      "Epoch 5 - avgScore: 0.0706\n",
      "Epoch Progress:  33%|\u001b[37m███▎      \u001b[0m| 5/15 [03:34<07:07, 42.75s/it]"
     ]
    },
    {
     "name": "stdout",
     "output_type": "stream",
     "text": [
      "th: 0.8, fbeta: 0.0\n"
     ]
    },
    {
     "name": "stderr",
     "output_type": "stream",
     "text": [
      "Train Steps Progress: 100%|\u001b[31m██████████\u001b[0m| 152/152 [00:27<00:00,  5.61it/s]\n",
      "Validation Steps Progress: 100%|\u001b[32m██████████\u001b[0m| 17/17 [00:02<00:00,  8.24it/s]\n"
     ]
    },
    {
     "name": "stdout",
     "output_type": "stream",
     "text": [
      "th: 0.1, fbeta: 0.06672266117211426\n",
      "th: 0.15, fbeta: 0.04415327155232712\n",
      "th: 0.2, fbeta: 0.00047998897583525975\n",
      "th: 0.25, fbeta: 0.0\n",
      "th: 0.3, fbeta: 0.0\n",
      "th: 0.35, fbeta: 0.0\n",
      "th: 0.4, fbeta: 0.0\n",
      "th: 0.45, fbeta: 0.0\n",
      "th: 0.5, fbeta: 0.0\n",
      "th: 0.55, fbeta: 0.0\n",
      "th: 0.6, fbeta: 0.0\n",
      "th: 0.65, fbeta: 0.0\n",
      "th: 0.7, fbeta: 0.0\n",
      "th: 0.75, fbeta: 0.0\n"
     ]
    },
    {
     "name": "stderr",
     "output_type": "stream",
     "text": [
      "best_th: 0.1, fbeta: 0.06672266117211426\n",
      "Epoch 6 - avg_train_loss: 0.3711  avg_val_loss: 0.2430  time: 43s\n",
      "Epoch 6 - avgScore: 0.0667\n",
      "Epoch Progress:  40%|\u001b[37m████      \u001b[0m| 6/15 [04:17<06:25, 42.88s/it]"
     ]
    },
    {
     "name": "stdout",
     "output_type": "stream",
     "text": [
      "th: 0.8, fbeta: 0.0\n"
     ]
    },
    {
     "name": "stderr",
     "output_type": "stream",
     "text": [
      "Train Steps Progress: 100%|\u001b[31m██████████\u001b[0m| 152/152 [00:26<00:00,  5.66it/s]\n",
      "Validation Steps Progress: 100%|\u001b[32m██████████\u001b[0m| 17/17 [00:02<00:00,  7.29it/s]\n"
     ]
    },
    {
     "name": "stdout",
     "output_type": "stream",
     "text": [
      "th: 0.1, fbeta: 0.07116541814949782\n",
      "th: 0.15, fbeta: 0.05129364077073751\n",
      "th: 0.2, fbeta: 0.006983564158854235\n",
      "th: 0.25, fbeta: 0.0\n",
      "th: 0.3, fbeta: 0.0\n",
      "th: 0.35, fbeta: 0.0\n",
      "th: 0.4, fbeta: 0.0\n",
      "th: 0.45, fbeta: 0.0\n",
      "th: 0.5, fbeta: 0.0\n",
      "th: 0.55, fbeta: 0.0\n",
      "th: 0.6, fbeta: 0.0\n",
      "th: 0.65, fbeta: 0.0\n",
      "th: 0.7, fbeta: 0.0\n",
      "th: 0.75, fbeta: 0.0\n"
     ]
    },
    {
     "name": "stderr",
     "output_type": "stream",
     "text": [
      "best_th: 0.1, fbeta: 0.07116541814949782\n",
      "Epoch 7 - avg_train_loss: 0.3690  avg_val_loss: 0.2510  time: 43s\n",
      "Epoch 7 - avgScore: 0.0712\n",
      "Epoch Progress:  47%|\u001b[37m████▋     \u001b[0m| 7/15 [04:59<05:42, 42.86s/it]"
     ]
    },
    {
     "name": "stdout",
     "output_type": "stream",
     "text": [
      "th: 0.8, fbeta: 0.0\n"
     ]
    },
    {
     "name": "stderr",
     "output_type": "stream",
     "text": [
      "Train Steps Progress: 100%|\u001b[31m██████████\u001b[0m| 152/152 [00:27<00:00,  5.63it/s]\n",
      "Validation Steps Progress: 100%|\u001b[32m██████████\u001b[0m| 17/17 [00:02<00:00,  8.40it/s]\n"
     ]
    },
    {
     "name": "stdout",
     "output_type": "stream",
     "text": [
      "th: 0.1, fbeta: 0.06538197014623623\n",
      "th: 0.15, fbeta: 0.03128721700216012\n",
      "th: 0.2, fbeta: 0.00037893743666656855\n",
      "th: 0.25, fbeta: 0.0\n",
      "th: 0.3, fbeta: 0.0\n",
      "th: 0.35, fbeta: 0.0\n",
      "th: 0.4, fbeta: 0.0\n",
      "th: 0.45, fbeta: 0.0\n",
      "th: 0.5, fbeta: 0.0\n",
      "th: 0.55, fbeta: 0.0\n",
      "th: 0.6, fbeta: 0.0\n",
      "th: 0.65, fbeta: 0.0\n",
      "th: 0.7, fbeta: 0.0\n",
      "th: 0.75, fbeta: 0.0\n"
     ]
    },
    {
     "name": "stderr",
     "output_type": "stream",
     "text": [
      "best_th: 0.1, fbeta: 0.06538197014623623\n",
      "Epoch 8 - avg_train_loss: 0.3713  avg_val_loss: 0.2404  time: 43s\n",
      "Epoch 8 - avgScore: 0.0654\n",
      "Epoch Progress:  53%|\u001b[37m█████▎    \u001b[0m| 8/15 [05:42<04:59, 42.81s/it]"
     ]
    },
    {
     "name": "stdout",
     "output_type": "stream",
     "text": [
      "th: 0.8, fbeta: 0.0\n"
     ]
    },
    {
     "name": "stderr",
     "output_type": "stream",
     "text": [
      "Train Steps Progress: 100%|\u001b[31m██████████\u001b[0m| 152/152 [00:27<00:00,  5.60it/s]\n",
      "Validation Steps Progress: 100%|\u001b[32m██████████\u001b[0m| 17/17 [00:02<00:00,  8.38it/s]\n"
     ]
    },
    {
     "name": "stdout",
     "output_type": "stream",
     "text": [
      "th: 0.1, fbeta: 0.07145239591972537\n",
      "th: 0.15, fbeta: 0.05173909974332386\n",
      "th: 0.2, fbeta: 0.004884478811265836\n",
      "th: 0.25, fbeta: 0.0\n",
      "th: 0.3, fbeta: 0.0\n",
      "th: 0.35, fbeta: 0.0\n",
      "th: 0.4, fbeta: 0.0\n",
      "th: 0.45, fbeta: 0.0\n",
      "th: 0.5, fbeta: 0.0\n",
      "th: 0.55, fbeta: 0.0\n",
      "th: 0.6, fbeta: 0.0\n",
      "th: 0.65, fbeta: 0.0\n",
      "th: 0.7, fbeta: 0.0\n",
      "th: 0.75, fbeta: 0.0\n"
     ]
    },
    {
     "name": "stderr",
     "output_type": "stream",
     "text": [
      "best_th: 0.1, fbeta: 0.07145239591972537\n",
      "Epoch 9 - avg_train_loss: 0.3667  avg_val_loss: 0.2529  time: 43s\n",
      "Epoch 9 - avgScore: 0.0715\n",
      "Epoch Progress:  60%|\u001b[37m██████    \u001b[0m| 9/15 [06:25<04:17, 42.86s/it]"
     ]
    },
    {
     "name": "stdout",
     "output_type": "stream",
     "text": [
      "th: 0.8, fbeta: 0.0\n"
     ]
    },
    {
     "name": "stderr",
     "output_type": "stream",
     "text": [
      "Train Steps Progress: 100%|\u001b[31m██████████\u001b[0m| 152/152 [00:26<00:00,  5.69it/s]\n",
      "Validation Steps Progress: 100%|\u001b[32m██████████\u001b[0m| 17/17 [00:02<00:00,  6.51it/s]\n"
     ]
    },
    {
     "name": "stdout",
     "output_type": "stream",
     "text": [
      "th: 0.1, fbeta: 0.06918974794867971\n",
      "th: 0.15, fbeta: 0.05682053217697067\n",
      "th: 0.2, fbeta: 0.003921834323981095\n",
      "th: 0.25, fbeta: 0.0\n",
      "th: 0.3, fbeta: 0.0\n",
      "th: 0.35, fbeta: 0.0\n",
      "th: 0.4, fbeta: 0.0\n",
      "th: 0.45, fbeta: 0.0\n",
      "th: 0.5, fbeta: 0.0\n",
      "th: 0.55, fbeta: 0.0\n",
      "th: 0.6, fbeta: 0.0\n",
      "th: 0.65, fbeta: 0.0\n",
      "th: 0.7, fbeta: 0.0\n",
      "th: 0.75, fbeta: 0.0\n"
     ]
    },
    {
     "name": "stderr",
     "output_type": "stream",
     "text": [
      "best_th: 0.1, fbeta: 0.06918974794867971\n"
     ]
    },
    {
     "name": "stdout",
     "output_type": "stream",
     "text": [
      "th: 0.8, fbeta: 0.0\n"
     ]
    },
    {
     "name": "stderr",
     "output_type": "stream",
     "text": [
      "Epoch 10 - avg_train_loss: 0.3742  avg_val_loss: 0.2500  time: 43s\n",
      "Epoch 10 - avgScore: 0.0692\n",
      "Train Steps Progress: 100%|\u001b[31m██████████\u001b[0m| 152/152 [00:26<00:00,  5.64it/s]\n",
      "Validation Steps Progress: 100%|\u001b[32m██████████\u001b[0m| 17/17 [00:02<00:00,  8.37it/s]\n"
     ]
    },
    {
     "name": "stdout",
     "output_type": "stream",
     "text": [
      "th: 0.1, fbeta: 0.06500485926567322\n",
      "th: 0.15, fbeta: 0.027566789231910634\n",
      "th: 0.2, fbeta: 0.0001578336684414672\n",
      "th: 0.25, fbeta: 0.0\n",
      "th: 0.3, fbeta: 0.0\n",
      "th: 0.35, fbeta: 0.0\n",
      "th: 0.4, fbeta: 0.0\n",
      "th: 0.45, fbeta: 0.0\n",
      "th: 0.5, fbeta: 0.0\n",
      "th: 0.55, fbeta: 0.0\n",
      "th: 0.6, fbeta: 0.0\n",
      "th: 0.65, fbeta: 0.0\n",
      "th: 0.7, fbeta: 0.0\n",
      "th: 0.75, fbeta: 0.0\n"
     ]
    },
    {
     "name": "stderr",
     "output_type": "stream",
     "text": [
      "best_th: 0.1, fbeta: 0.06500485926567322\n",
      "Epoch 11 - avg_train_loss: 0.3709  avg_val_loss: 0.2398  time: 43s\n",
      "Epoch 11 - avgScore: 0.0650\n",
      "Epoch Progress:  73%|\u001b[37m███████▎  \u001b[0m| 11/15 [07:51<02:51, 42.83s/it]"
     ]
    },
    {
     "name": "stdout",
     "output_type": "stream",
     "text": [
      "th: 0.8, fbeta: 0.0\n"
     ]
    },
    {
     "name": "stderr",
     "output_type": "stream",
     "text": [
      "Train Steps Progress: 100%|\u001b[31m██████████\u001b[0m| 152/152 [00:26<00:00,  5.64it/s]\n",
      "Validation Steps Progress: 100%|\u001b[32m██████████\u001b[0m| 17/17 [00:01<00:00,  8.62it/s]\n"
     ]
    },
    {
     "name": "stdout",
     "output_type": "stream",
     "text": [
      "th: 0.1, fbeta: 0.0679421931303461\n",
      "th: 0.15, fbeta: 0.030333566932348857\n",
      "th: 0.2, fbeta: 0.0005933308384823128\n",
      "th: 0.25, fbeta: 0.0\n",
      "th: 0.3, fbeta: 0.0\n",
      "th: 0.35, fbeta: 0.0\n",
      "th: 0.4, fbeta: 0.0\n",
      "th: 0.45, fbeta: 0.0\n",
      "th: 0.5, fbeta: 0.0\n",
      "th: 0.55, fbeta: 0.0\n",
      "th: 0.6, fbeta: 0.0\n",
      "th: 0.65, fbeta: 0.0\n",
      "th: 0.7, fbeta: 0.0\n",
      "th: 0.75, fbeta: 0.0\n"
     ]
    },
    {
     "name": "stderr",
     "output_type": "stream",
     "text": [
      "best_th: 0.1, fbeta: 0.0679421931303461\n",
      "Epoch 12 - avg_train_loss: 0.3680  avg_val_loss: 0.2438  time: 43s\n",
      "Epoch 12 - avgScore: 0.0679\n",
      "Epoch Progress:  80%|\u001b[37m████████  \u001b[0m| 12/15 [08:34<02:08, 42.82s/it]"
     ]
    },
    {
     "name": "stdout",
     "output_type": "stream",
     "text": [
      "th: 0.8, fbeta: 0.0\n"
     ]
    },
    {
     "name": "stderr",
     "output_type": "stream",
     "text": [
      "Train Steps Progress: 100%|\u001b[31m██████████\u001b[0m| 152/152 [00:26<00:00,  5.65it/s]\n",
      "Validation Steps Progress: 100%|\u001b[32m██████████\u001b[0m| 17/17 [00:02<00:00,  8.46it/s]\n"
     ]
    },
    {
     "name": "stdout",
     "output_type": "stream",
     "text": [
      "th: 0.1, fbeta: 0.07158466486308575\n",
      "th: 0.15, fbeta: 0.04753286104375367\n",
      "th: 0.2, fbeta: 0.001038772303855148\n",
      "th: 0.25, fbeta: 0.0\n",
      "th: 0.3, fbeta: 0.0\n",
      "th: 0.35, fbeta: 0.0\n",
      "th: 0.4, fbeta: 0.0\n",
      "th: 0.45, fbeta: 0.0\n",
      "th: 0.5, fbeta: 0.0\n",
      "th: 0.55, fbeta: 0.0\n",
      "th: 0.6, fbeta: 0.0\n",
      "th: 0.65, fbeta: 0.0\n",
      "th: 0.7, fbeta: 0.0\n",
      "th: 0.75, fbeta: 0.0\n"
     ]
    },
    {
     "name": "stderr",
     "output_type": "stream",
     "text": [
      "best_th: 0.1, fbeta: 0.07158466486308575\n",
      "Epoch 13 - avg_train_loss: 0.3641  avg_val_loss: 0.2516  time: 43s\n",
      "Epoch 13 - avgScore: 0.0716\n",
      "Epoch Progress:  87%|\u001b[37m████████▋ \u001b[0m| 13/15 [09:16<01:25, 42.76s/it]"
     ]
    },
    {
     "name": "stdout",
     "output_type": "stream",
     "text": [
      "th: 0.8, fbeta: 0.0\n"
     ]
    },
    {
     "name": "stderr",
     "output_type": "stream",
     "text": [
      "Train Steps Progress: 100%|\u001b[31m██████████\u001b[0m| 152/152 [00:27<00:00,  5.60it/s]\n",
      "Validation Steps Progress: 100%|\u001b[32m██████████\u001b[0m| 17/17 [00:02<00:00,  8.18it/s]\n"
     ]
    },
    {
     "name": "stdout",
     "output_type": "stream",
     "text": [
      "th: 0.1, fbeta: 0.06616666873044283\n",
      "th: 0.15, fbeta: 0.044877242533798406\n",
      "th: 0.2, fbeta: 0.00014290035778026327\n",
      "th: 0.25, fbeta: 0.0\n",
      "th: 0.3, fbeta: 0.0\n",
      "th: 0.35, fbeta: 0.0\n",
      "th: 0.4, fbeta: 0.0\n",
      "th: 0.45, fbeta: 0.0\n",
      "th: 0.5, fbeta: 0.0\n",
      "th: 0.55, fbeta: 0.0\n",
      "th: 0.6, fbeta: 0.0\n",
      "th: 0.65, fbeta: 0.0\n",
      "th: 0.7, fbeta: 0.0\n",
      "th: 0.75, fbeta: 0.0\n"
     ]
    },
    {
     "name": "stderr",
     "output_type": "stream",
     "text": [
      "best_th: 0.1, fbeta: 0.06616666873044283\n",
      "Epoch 14 - avg_train_loss: 0.3689  avg_val_loss: 0.2420  time: 43s\n",
      "Epoch 14 - avgScore: 0.0662\n",
      "Epoch Progress:  93%|\u001b[37m█████████▎\u001b[0m| 14/15 [09:59<00:42, 42.80s/it]"
     ]
    },
    {
     "name": "stdout",
     "output_type": "stream",
     "text": [
      "th: 0.8, fbeta: 0.0\n"
     ]
    },
    {
     "name": "stderr",
     "output_type": "stream",
     "text": [
      "Train Steps Progress: 100%|\u001b[31m██████████\u001b[0m| 152/152 [00:27<00:00,  5.61it/s]\n",
      "Validation Steps Progress: 100%|\u001b[32m██████████\u001b[0m| 17/17 [00:02<00:00,  8.03it/s]\n"
     ]
    },
    {
     "name": "stdout",
     "output_type": "stream",
     "text": [
      "th: 0.1, fbeta: 0.06966907493372752\n",
      "th: 0.15, fbeta: 0.03357880911480967\n",
      "th: 0.2, fbeta: 0.0008636358490701059\n",
      "th: 0.25, fbeta: 0.0\n",
      "th: 0.3, fbeta: 0.0\n",
      "th: 0.35, fbeta: 0.0\n",
      "th: 0.4, fbeta: 0.0\n",
      "th: 0.45, fbeta: 0.0\n",
      "th: 0.5, fbeta: 0.0\n",
      "th: 0.55, fbeta: 0.0\n",
      "th: 0.6, fbeta: 0.0\n",
      "th: 0.65, fbeta: 0.0\n",
      "th: 0.7, fbeta: 0.0\n",
      "th: 0.75, fbeta: 0.0\n"
     ]
    },
    {
     "name": "stderr",
     "output_type": "stream",
     "text": [
      "best_th: 0.1, fbeta: 0.06966907493372752\n",
      "Epoch 15 - avg_train_loss: 0.3685  avg_val_loss: 0.2457  time: 43s\n",
      "Epoch 15 - avgScore: 0.0697\n",
      "Epoch Progress: 100%|\u001b[37m██████████\u001b[0m| 15/15 [10:42<00:00, 42.84s/it]"
     ]
    },
    {
     "name": "stdout",
     "output_type": "stream",
     "text": [
      "th: 0.8, fbeta: 0.0\n"
     ]
    },
    {
     "name": "stderr",
     "output_type": "stream",
     "text": [
      "\n",
      "\u001b[34m\u001b[1mwandb\u001b[0m: Waiting for W&B process to finish... \u001b[32m(success).\u001b[0m\n",
      "\u001b[34m\u001b[1mwandb\u001b[0m: \n",
      "\u001b[34m\u001b[1mwandb\u001b[0m: Run history:\n",
      "\u001b[34m\u001b[1mwandb\u001b[0m:    Best_th ▁▁▁▁▁▁▁▁▁▁▁▁▁▁▁\n",
      "\u001b[34m\u001b[1mwandb\u001b[0m:      Epoch ▁▁▂▃▃▃▄▅▅▅▆▇▇▇█\n",
      "\u001b[34m\u001b[1mwandb\u001b[0m:      Score █▁▆▇▇▄█▃█▆▂▅█▃▆\n",
      "\u001b[34m\u001b[1mwandb\u001b[0m: Train_loss █▂▂▂▁▂▂▂▁▂▂▁▁▂▁\n",
      "\u001b[34m\u001b[1mwandb\u001b[0m:    Val_los █▁▃▃▃▂▄▁▄▃▁▂▄▂▃\n",
      "\u001b[34m\u001b[1mwandb\u001b[0m: \n",
      "\u001b[34m\u001b[1mwandb\u001b[0m: Run summary:\n",
      "\u001b[34m\u001b[1mwandb\u001b[0m:    Best_th 0.1\n",
      "\u001b[34m\u001b[1mwandb\u001b[0m:      Epoch 15\n",
      "\u001b[34m\u001b[1mwandb\u001b[0m:      Score 0.06967\n",
      "\u001b[34m\u001b[1mwandb\u001b[0m: Train_loss 0.36849\n",
      "\u001b[34m\u001b[1mwandb\u001b[0m:    Val_los 0.24572\n",
      "\u001b[34m\u001b[1mwandb\u001b[0m: \n",
      "\u001b[34m\u001b[1mwandb\u001b[0m: 🚀 View run \u001b[33mPSPNet mit_b0 Fold1 freezeTrue 76811\u001b[0m at: \u001b[34m\u001b[4mhttps://wandb.ai/i-am-noob/Vesuvius%20Experiments%20PSPNet/runs/gj4121ru\u001b[0m\n",
      "\u001b[34m\u001b[1mwandb\u001b[0m: Synced 6 W&B file(s), 0 media file(s), 0 artifact file(s) and 0 other file(s)\n",
      "\u001b[34m\u001b[1mwandb\u001b[0m: Find logs at: \u001b[35m\u001b[1m./wandb/run-20230602_173759-gj4121ru/logs\u001b[0m\n"
     ]
    },
    {
     "name": "stdout",
     "output_type": "stream",
     "text": [
      "deleted items: memory GB:5.27\n",
      "pre inializing: memory GB:3.29\n"
     ]
    },
    {
     "name": "stderr",
     "output_type": "stream",
     "text": [
      "Image Slice Progress: 100%|\u001b[34m██████████\u001b[0m| 3/3 [00:00<00:00,  8.10it/s]\n",
      "Image Slice Progress: 100%|\u001b[34m██████████\u001b[0m| 3/3 [00:00<00:00,  5.35it/s]\n",
      "Image Slice Progress: 100%|\u001b[34m██████████\u001b[0m| 3/3 [00:00<00:00, 17.55it/s]\n"
     ]
    },
    {
     "name": "stdout",
     "output_type": "stream",
     "text": [
      "post inializing: memory GB:4.86\n",
      "Current fold --> 1\n"
     ]
    },
    {
     "name": "stderr",
     "output_type": "stream",
     "text": [
      "\u001b[34m\u001b[1mwandb\u001b[0m: Tracking run with wandb version 0.15.3\n",
      "\u001b[34m\u001b[1mwandb\u001b[0m: Run data is saved locally in \u001b[35m\u001b[1m/kaggle/working/wandb/run-20230602_174956-kte6ropr\u001b[0m\n",
      "\u001b[34m\u001b[1mwandb\u001b[0m: Run \u001b[1m`wandb offline`\u001b[0m to turn off syncing.\n",
      "\u001b[34m\u001b[1mwandb\u001b[0m: Syncing run \u001b[33mPSPNet mit_b1 Fold1 freezeTrue 90419\u001b[0m\n",
      "\u001b[34m\u001b[1mwandb\u001b[0m: ⭐️ View project at \u001b[34m\u001b[4mhttps://wandb.ai/i-am-noob/Vesuvius%20Experiments%20PSPNet\u001b[0m\n",
      "\u001b[34m\u001b[1mwandb\u001b[0m: 🚀 View run at \u001b[34m\u001b[4mhttps://wandb.ai/i-am-noob/Vesuvius%20Experiments%20PSPNet/runs/kte6ropr\u001b[0m\n"
     ]
    },
    {
     "name": "stdout",
     "output_type": "stream",
     "text": [
      "model_name PSPNet\n",
      "backbone mit_b1\n"
     ]
    },
    {
     "name": "stderr",
     "output_type": "stream",
     "text": [
      "Downloading: \"https://github.com/qubvel/segmentation_models.pytorch/releases/download/v0.0.2/mit_b1.pth\" to /root/.cache/torch/hub/checkpoints/mit_b1.pth\n"
     ]
    },
    {
     "data": {
      "application/vnd.jupyter.widget-view+json": {
       "model_id": "2a2b95e2ce5447759c0364e081fc2c36",
       "version_major": 2,
       "version_minor": 0
      },
      "text/plain": [
       "  0%|          | 0.00/52.2M [00:00<?, ?B/s]"
      ]
     },
     "metadata": {},
     "output_type": "display_data"
    },
    {
     "name": "stderr",
     "output_type": "stream",
     "text": [
      "Validation Steps Progress: 100%|\u001b[32m██████████\u001b[0m| 17/17 [00:02<00:00,  6.20it/s]\n"
     ]
    },
    {
     "name": "stdout",
     "output_type": "stream",
     "text": [
      "th: 0.1, fbeta: 0.07159157168739244\n",
      "th: 0.15, fbeta: 0.07159157168739244\n",
      "th: 0.2, fbeta: 0.07159157168739244\n",
      "th: 0.25, fbeta: 0.07159157168739244\n",
      "th: 0.3, fbeta: 0.07159157168739244\n",
      "th: 0.35, fbeta: 0.07159157168739244\n",
      "th: 0.4, fbeta: 0.07159157168739244\n",
      "th: 0.45, fbeta: 0.07159157168739244\n",
      "th: 0.5, fbeta: 0.07176578008549475\n",
      "th: 0.55, fbeta: 0.003992603521002311\n",
      "th: 0.6, fbeta: 0.0002844024069486837\n",
      "th: 0.65, fbeta: 0.0\n",
      "th: 0.7, fbeta: 0.0\n",
      "th: 0.75, fbeta: 0.0\n"
     ]
    },
    {
     "name": "stderr",
     "output_type": "stream",
     "text": [
      "best_th: 0.5, fbeta: 0.07176578008549475\n"
     ]
    },
    {
     "name": "stdout",
     "output_type": "stream",
     "text": [
      "th: 0.8, fbeta: 0.0\n",
      "Val_loss before training -->0.7461377644361945, score --> 0.07176578008549475\n"
     ]
    },
    {
     "name": "stderr",
     "output_type": "stream",
     "text": [
      "Train Steps Progress: 100%|\u001b[31m██████████\u001b[0m| 152/152 [00:43<00:00,  3.51it/s]\n",
      "Validation Steps Progress: 100%|\u001b[32m██████████\u001b[0m| 17/17 [00:02<00:00,  7.62it/s]\n"
     ]
    },
    {
     "name": "stdout",
     "output_type": "stream",
     "text": [
      "th: 0.1, fbeta: 0.0490754708709276\n",
      "th: 0.15, fbeta: 0.025830210773604527\n",
      "th: 0.2, fbeta: 0.00310637698126872\n",
      "th: 0.25, fbeta: 0.000191385869179236\n",
      "th: 0.3, fbeta: 0.0\n",
      "th: 0.35, fbeta: 0.0\n",
      "th: 0.4, fbeta: 0.0\n",
      "th: 0.45, fbeta: 0.0\n",
      "th: 0.5, fbeta: 0.0\n",
      "th: 0.55, fbeta: 0.0\n",
      "th: 0.6, fbeta: 0.0\n",
      "th: 0.65, fbeta: 0.0\n",
      "th: 0.7, fbeta: 0.0\n",
      "th: 0.75, fbeta: 0.0\n"
     ]
    },
    {
     "name": "stderr",
     "output_type": "stream",
     "text": [
      "best_th: 0.1, fbeta: 0.0490754708709276\n",
      "Epoch 1 - avg_train_loss: 0.4539  avg_val_loss: 0.2331  time: 59s\n",
      "Epoch 1 - avgScore: 0.0491\n",
      "Epoch Progress:   7%|\u001b[37m▋         \u001b[0m| 1/15 [00:59<13:50, 59.33s/it]"
     ]
    },
    {
     "name": "stdout",
     "output_type": "stream",
     "text": [
      "th: 0.8, fbeta: 0.0\n"
     ]
    },
    {
     "name": "stderr",
     "output_type": "stream",
     "text": [
      "Train Steps Progress: 100%|\u001b[31m██████████\u001b[0m| 152/152 [00:43<00:00,  3.52it/s]\n",
      "Validation Steps Progress: 100%|\u001b[32m██████████\u001b[0m| 17/17 [00:02<00:00,  7.43it/s]\n"
     ]
    },
    {
     "name": "stdout",
     "output_type": "stream",
     "text": [
      "th: 0.1, fbeta: 0.07137695425523069\n",
      "th: 0.15, fbeta: 0.04107002526518271\n",
      "th: 0.2, fbeta: 0.013728288725970244\n",
      "th: 0.25, fbeta: 0.0004725764549255691\n",
      "th: 0.3, fbeta: 6.452169019806217e-05\n",
      "th: 0.35, fbeta: 0.0\n",
      "th: 0.4, fbeta: 0.0\n",
      "th: 0.45, fbeta: 0.0\n",
      "th: 0.5, fbeta: 0.0\n",
      "th: 0.55, fbeta: 0.0\n",
      "th: 0.6, fbeta: 0.0\n",
      "th: 0.65, fbeta: 0.0\n",
      "th: 0.7, fbeta: 0.0\n",
      "th: 0.75, fbeta: 0.0\n"
     ]
    },
    {
     "name": "stderr",
     "output_type": "stream",
     "text": [
      "best_th: 0.1, fbeta: 0.07137695425523069\n"
     ]
    },
    {
     "name": "stdout",
     "output_type": "stream",
     "text": [
      "th: 0.8, fbeta: 0.0\n"
     ]
    },
    {
     "name": "stderr",
     "output_type": "stream",
     "text": [
      "Epoch 2 - avg_train_loss: 0.3788  avg_val_loss: 0.2465  time: 60s\n",
      "Epoch 2 - avgScore: 0.0714\n",
      "Train Steps Progress: 100%|\u001b[31m██████████\u001b[0m| 152/152 [00:43<00:00,  3.53it/s]\n",
      "Validation Steps Progress: 100%|\u001b[32m██████████\u001b[0m| 17/17 [00:02<00:00,  7.48it/s]\n"
     ]
    },
    {
     "name": "stdout",
     "output_type": "stream",
     "text": [
      "th: 0.1, fbeta: 0.07158832058617078\n",
      "th: 0.15, fbeta: 0.04971570165825816\n",
      "th: 0.2, fbeta: 0.018052283421704406\n",
      "th: 0.25, fbeta: 0.000158773809409026\n",
      "th: 0.3, fbeta: 0.0\n",
      "th: 0.35, fbeta: 0.0\n",
      "th: 0.4, fbeta: 0.0\n",
      "th: 0.45, fbeta: 0.0\n",
      "th: 0.5, fbeta: 0.0\n",
      "th: 0.55, fbeta: 0.0\n",
      "th: 0.6, fbeta: 0.0\n",
      "th: 0.65, fbeta: 0.0\n",
      "th: 0.7, fbeta: 0.0\n",
      "th: 0.75, fbeta: 0.0\n"
     ]
    },
    {
     "name": "stderr",
     "output_type": "stream",
     "text": [
      "best_th: 0.1, fbeta: 0.07158832058617078\n",
      "Epoch 3 - avg_train_loss: 0.3720  avg_val_loss: 0.2558  time: 59s\n",
      "Epoch 3 - avgScore: 0.0716\n",
      "Epoch Progress:  20%|\u001b[37m██        \u001b[0m| 3/15 [02:58<11:52, 59.34s/it]"
     ]
    },
    {
     "name": "stdout",
     "output_type": "stream",
     "text": [
      "th: 0.8, fbeta: 0.0\n"
     ]
    },
    {
     "name": "stderr",
     "output_type": "stream",
     "text": [
      "Train Steps Progress: 100%|\u001b[31m██████████\u001b[0m| 152/152 [00:43<00:00,  3.52it/s]\n",
      "Validation Steps Progress: 100%|\u001b[32m██████████\u001b[0m| 17/17 [00:02<00:00,  6.94it/s]\n"
     ]
    },
    {
     "name": "stdout",
     "output_type": "stream",
     "text": [
      "th: 0.1, fbeta: 0.06714205207227375\n",
      "th: 0.15, fbeta: 0.02783979549991016\n",
      "th: 0.2, fbeta: 0.0005363242072688991\n",
      "th: 0.25, fbeta: 6.35863472170819e-05\n",
      "th: 0.3, fbeta: 0.0\n",
      "th: 0.35, fbeta: 0.0\n",
      "th: 0.4, fbeta: 0.0\n",
      "th: 0.45, fbeta: 0.0\n",
      "th: 0.5, fbeta: 0.0\n",
      "th: 0.55, fbeta: 0.0\n",
      "th: 0.6, fbeta: 0.0\n",
      "th: 0.65, fbeta: 0.0\n",
      "th: 0.7, fbeta: 0.0\n",
      "th: 0.75, fbeta: 0.0\n"
     ]
    },
    {
     "name": "stderr",
     "output_type": "stream",
     "text": [
      "best_th: 0.1, fbeta: 0.06714205207227375\n",
      "Epoch 4 - avg_train_loss: 0.3707  avg_val_loss: 0.2395  time: 59s\n",
      "Epoch 4 - avgScore: 0.0671\n",
      "Epoch Progress:  27%|\u001b[37m██▋       \u001b[0m| 4/15 [03:57<10:53, 59.39s/it]"
     ]
    },
    {
     "name": "stdout",
     "output_type": "stream",
     "text": [
      "th: 0.8, fbeta: 0.0\n"
     ]
    },
    {
     "name": "stderr",
     "output_type": "stream",
     "text": [
      "Train Steps Progress: 100%|\u001b[31m██████████\u001b[0m| 152/152 [00:43<00:00,  3.51it/s]\n",
      "Validation Steps Progress: 100%|\u001b[32m██████████\u001b[0m| 17/17 [00:02<00:00,  7.21it/s]\n"
     ]
    },
    {
     "name": "stdout",
     "output_type": "stream",
     "text": [
      "th: 0.1, fbeta: 0.05152379995257147\n",
      "th: 0.15, fbeta: 0.018711105087031228\n",
      "th: 0.2, fbeta: 0.0003484541453179819\n",
      "th: 0.25, fbeta: 0.0\n",
      "th: 0.3, fbeta: 0.0\n",
      "th: 0.35, fbeta: 0.0\n",
      "th: 0.4, fbeta: 0.0\n",
      "th: 0.45, fbeta: 0.0\n",
      "th: 0.5, fbeta: 0.0\n",
      "th: 0.55, fbeta: 0.0\n",
      "th: 0.6, fbeta: 0.0\n",
      "th: 0.65, fbeta: 0.0\n",
      "th: 0.7, fbeta: 0.0\n",
      "th: 0.75, fbeta: 0.0\n"
     ]
    },
    {
     "name": "stderr",
     "output_type": "stream",
     "text": [
      "best_th: 0.1, fbeta: 0.05152379995257147\n",
      "Epoch 5 - avg_train_loss: 0.3758  avg_val_loss: 0.2332  time: 60s\n",
      "Epoch 5 - avgScore: 0.0515\n",
      "Epoch Progress:  33%|\u001b[37m███▎      \u001b[0m| 5/15 [04:57<09:54, 59.48s/it]"
     ]
    },
    {
     "name": "stdout",
     "output_type": "stream",
     "text": [
      "th: 0.8, fbeta: 0.0\n"
     ]
    },
    {
     "name": "stderr",
     "output_type": "stream",
     "text": [
      "Train Steps Progress: 100%|\u001b[31m██████████\u001b[0m| 152/152 [00:43<00:00,  3.50it/s]\n",
      "Validation Steps Progress: 100%|\u001b[32m██████████\u001b[0m| 17/17 [00:02<00:00,  7.04it/s]\n"
     ]
    },
    {
     "name": "stdout",
     "output_type": "stream",
     "text": [
      "th: 0.1, fbeta: 0.048672524728940854\n",
      "th: 0.15, fbeta: 0.013123752362816049\n",
      "th: 0.2, fbeta: 0.00041334928016037437\n",
      "th: 0.25, fbeta: 3.0870116512342106e-05\n",
      "th: 0.3, fbeta: 0.0\n",
      "th: 0.35, fbeta: 0.0\n",
      "th: 0.4, fbeta: 0.0\n",
      "th: 0.45, fbeta: 0.0\n",
      "th: 0.5, fbeta: 0.0\n",
      "th: 0.55, fbeta: 0.0\n",
      "th: 0.6, fbeta: 0.0\n",
      "th: 0.65, fbeta: 0.0\n",
      "th: 0.7, fbeta: 0.0\n",
      "th: 0.75, fbeta: 0.0\n"
     ]
    },
    {
     "name": "stderr",
     "output_type": "stream",
     "text": [
      "best_th: 0.1, fbeta: 0.048672524728940854\n",
      "Epoch 6 - avg_train_loss: 0.3724  avg_val_loss: 0.2314  time: 60s\n",
      "Epoch 6 - avgScore: 0.0487\n",
      "Epoch Progress:  40%|\u001b[37m████      \u001b[0m| 6/15 [05:57<08:56, 59.61s/it]"
     ]
    },
    {
     "name": "stdout",
     "output_type": "stream",
     "text": [
      "th: 0.8, fbeta: 0.0\n"
     ]
    },
    {
     "name": "stderr",
     "output_type": "stream",
     "text": [
      "Train Steps Progress: 100%|\u001b[31m██████████\u001b[0m| 152/152 [00:43<00:00,  3.51it/s]\n",
      "Validation Steps Progress: 100%|\u001b[32m██████████\u001b[0m| 17/17 [00:02<00:00,  7.61it/s]\n"
     ]
    },
    {
     "name": "stdout",
     "output_type": "stream",
     "text": [
      "th: 0.1, fbeta: 0.07315221358636997\n",
      "th: 0.15, fbeta: 0.027075962555195423\n",
      "th: 0.2, fbeta: 0.0013669039958497352\n",
      "th: 0.25, fbeta: 0.00031877510665517046\n",
      "th: 0.3, fbeta: 0.0\n",
      "th: 0.35, fbeta: 0.0\n",
      "th: 0.4, fbeta: 0.0\n",
      "th: 0.45, fbeta: 0.0\n",
      "th: 0.5, fbeta: 0.0\n",
      "th: 0.55, fbeta: 0.0\n",
      "th: 0.6, fbeta: 0.0\n",
      "th: 0.65, fbeta: 0.0\n",
      "th: 0.7, fbeta: 0.0\n",
      "th: 0.75, fbeta: 0.0\n"
     ]
    },
    {
     "name": "stderr",
     "output_type": "stream",
     "text": [
      "best_th: 0.1, fbeta: 0.07315221358636997\n",
      "Epoch 7 - avg_train_loss: 0.3734  avg_val_loss: 0.2386  time: 60s\n",
      "Epoch 7 - avgScore: 0.0732\n",
      "Epoch 7 - Save Best Score: 0.0732 Model\n",
      "Epoch 7 - Save Best Loss: 0.2386 Model\n"
     ]
    },
    {
     "name": "stdout",
     "output_type": "stream",
     "text": [
      "th: 0.8, fbeta: 0.0\n",
      "saving model: memory GB:5.4\n"
     ]
    },
    {
     "name": "stderr",
     "output_type": "stream",
     "text": [
      "Train Steps Progress: 100%|\u001b[31m██████████\u001b[0m| 152/152 [00:43<00:00,  3.52it/s]\n",
      "Validation Steps Progress: 100%|\u001b[32m██████████\u001b[0m| 17/17 [00:02<00:00,  7.57it/s]\n"
     ]
    },
    {
     "name": "stdout",
     "output_type": "stream",
     "text": [
      "th: 0.1, fbeta: 0.07168262249908808\n",
      "th: 0.15, fbeta: 0.03673169665750373\n",
      "th: 0.2, fbeta: 0.0007003745926169928\n",
      "th: 0.25, fbeta: 0.0\n",
      "th: 0.3, fbeta: 0.0\n",
      "th: 0.35, fbeta: 0.0\n",
      "th: 0.4, fbeta: 0.0\n",
      "th: 0.45, fbeta: 0.0\n",
      "th: 0.5, fbeta: 0.0\n",
      "th: 0.55, fbeta: 0.0\n",
      "th: 0.6, fbeta: 0.0\n",
      "th: 0.65, fbeta: 0.0\n",
      "th: 0.7, fbeta: 0.0\n",
      "th: 0.75, fbeta: 0.0\n"
     ]
    },
    {
     "name": "stderr",
     "output_type": "stream",
     "text": [
      "best_th: 0.1, fbeta: 0.07168262249908808\n",
      "Epoch 8 - avg_train_loss: 0.3717  avg_val_loss: 0.2442  time: 59s\n",
      "Epoch 8 - avgScore: 0.0717\n",
      "Epoch Progress:  53%|\u001b[37m█████▎    \u001b[0m| 8/15 [07:56<06:57, 59.62s/it]"
     ]
    },
    {
     "name": "stdout",
     "output_type": "stream",
     "text": [
      "th: 0.8, fbeta: 0.0\n"
     ]
    },
    {
     "name": "stderr",
     "output_type": "stream",
     "text": [
      "Train Steps Progress: 100%|\u001b[31m██████████\u001b[0m| 152/152 [00:43<00:00,  3.52it/s]\n",
      "Validation Steps Progress: 100%|\u001b[32m██████████\u001b[0m| 17/17 [00:02<00:00,  7.65it/s]\n"
     ]
    },
    {
     "name": "stdout",
     "output_type": "stream",
     "text": [
      "th: 0.1, fbeta: 0.034259237560168264\n",
      "th: 0.15, fbeta: 0.0012608507552080688\n",
      "th: 0.2, fbeta: 0.00012893660860663196\n",
      "th: 0.25, fbeta: 0.0\n",
      "th: 0.3, fbeta: 0.0\n",
      "th: 0.35, fbeta: 0.0\n",
      "th: 0.4, fbeta: 0.0\n",
      "th: 0.45, fbeta: 0.0\n",
      "th: 0.5, fbeta: 0.0\n",
      "th: 0.55, fbeta: 0.0\n",
      "th: 0.6, fbeta: 0.0\n",
      "th: 0.65, fbeta: 0.0\n",
      "th: 0.7, fbeta: 0.0\n",
      "th: 0.75, fbeta: 0.0\n"
     ]
    },
    {
     "name": "stderr",
     "output_type": "stream",
     "text": [
      "best_th: 0.1, fbeta: 0.034259237560168264\n",
      "Epoch 9 - avg_train_loss: 0.3669  avg_val_loss: 0.2284  time: 59s\n",
      "Epoch 9 - avgScore: 0.0343\n",
      "Epoch Progress:  60%|\u001b[37m██████    \u001b[0m| 9/15 [08:55<05:57, 59.59s/it]"
     ]
    },
    {
     "name": "stdout",
     "output_type": "stream",
     "text": [
      "th: 0.8, fbeta: 0.0\n"
     ]
    },
    {
     "name": "stderr",
     "output_type": "stream",
     "text": [
      "Train Steps Progress: 100%|\u001b[31m██████████\u001b[0m| 152/152 [00:43<00:00,  3.52it/s]\n",
      "Validation Steps Progress: 100%|\u001b[32m██████████\u001b[0m| 17/17 [00:02<00:00,  7.32it/s]\n"
     ]
    },
    {
     "name": "stdout",
     "output_type": "stream",
     "text": [
      "th: 0.1, fbeta: 0.0777782502885698\n",
      "th: 0.15, fbeta: 0.015534801656870384\n",
      "th: 0.2, fbeta: 0.0\n",
      "th: 0.25, fbeta: 0.0\n",
      "th: 0.3, fbeta: 0.0\n",
      "th: 0.35, fbeta: 0.0\n",
      "th: 0.4, fbeta: 0.0\n",
      "th: 0.45, fbeta: 0.0\n",
      "th: 0.5, fbeta: 0.0\n",
      "th: 0.55, fbeta: 0.0\n",
      "th: 0.6, fbeta: 0.0\n",
      "th: 0.65, fbeta: 0.0\n",
      "th: 0.7, fbeta: 0.0\n",
      "th: 0.75, fbeta: 0.0\n"
     ]
    },
    {
     "name": "stderr",
     "output_type": "stream",
     "text": [
      "best_th: 0.1, fbeta: 0.0777782502885698\n",
      "Epoch 10 - avg_train_loss: 0.3661  avg_val_loss: 0.2384  time: 60s\n",
      "Epoch 10 - avgScore: 0.0778\n",
      "Epoch 10 - Save Best Score: 0.0778 Model\n",
      "Epoch 10 - Save Best Loss: 0.2384 Model\n"
     ]
    },
    {
     "name": "stdout",
     "output_type": "stream",
     "text": [
      "th: 0.8, fbeta: 0.0\n",
      "saving model: memory GB:5.4\n"
     ]
    },
    {
     "name": "stderr",
     "output_type": "stream",
     "text": [
      "Train Steps Progress: 100%|\u001b[31m██████████\u001b[0m| 152/152 [00:43<00:00,  3.50it/s]\n",
      "Validation Steps Progress: 100%|\u001b[32m██████████\u001b[0m| 17/17 [00:02<00:00,  7.59it/s]\n"
     ]
    },
    {
     "name": "stdout",
     "output_type": "stream",
     "text": [
      "th: 0.1, fbeta: 0.052833097471595376\n",
      "th: 0.15, fbeta: 0.01140422948673442\n",
      "th: 0.2, fbeta: 0.00030854372782909966\n",
      "th: 0.25, fbeta: 0.0\n",
      "th: 0.3, fbeta: 0.0\n",
      "th: 0.35, fbeta: 0.0\n",
      "th: 0.4, fbeta: 0.0\n",
      "th: 0.45, fbeta: 0.0\n",
      "th: 0.5, fbeta: 0.0\n",
      "th: 0.55, fbeta: 0.0\n",
      "th: 0.6, fbeta: 0.0\n",
      "th: 0.65, fbeta: 0.0\n",
      "th: 0.7, fbeta: 0.0\n",
      "th: 0.75, fbeta: 0.0\n"
     ]
    },
    {
     "name": "stderr",
     "output_type": "stream",
     "text": [
      "best_th: 0.1, fbeta: 0.052833097471595376\n",
      "Epoch 11 - avg_train_loss: 0.3729  avg_val_loss: 0.2325  time: 59s\n",
      "Epoch 11 - avgScore: 0.0528\n",
      "Epoch Progress:  73%|\u001b[37m███████▎  \u001b[0m| 11/15 [10:55<03:58, 59.62s/it]"
     ]
    },
    {
     "name": "stdout",
     "output_type": "stream",
     "text": [
      "th: 0.8, fbeta: 0.0\n"
     ]
    },
    {
     "name": "stderr",
     "output_type": "stream",
     "text": [
      "Train Steps Progress: 100%|\u001b[31m██████████\u001b[0m| 152/152 [00:43<00:00,  3.47it/s]\n",
      "Validation Steps Progress: 100%|\u001b[32m██████████\u001b[0m| 17/17 [00:02<00:00,  7.47it/s]\n"
     ]
    },
    {
     "name": "stdout",
     "output_type": "stream",
     "text": [
      "th: 0.1, fbeta: 0.04910944214630604\n",
      "th: 0.15, fbeta: 0.002555479500903764\n",
      "th: 0.2, fbeta: 0.000220248127137648\n",
      "th: 0.25, fbeta: 0.0\n",
      "th: 0.3, fbeta: 0.0\n",
      "th: 0.35, fbeta: 0.0\n",
      "th: 0.4, fbeta: 0.0\n",
      "th: 0.45, fbeta: 0.0\n",
      "th: 0.5, fbeta: 0.0\n",
      "th: 0.55, fbeta: 0.0\n",
      "th: 0.6, fbeta: 0.0\n",
      "th: 0.65, fbeta: 0.0\n",
      "th: 0.7, fbeta: 0.0\n",
      "th: 0.75, fbeta: 0.0\n"
     ]
    },
    {
     "name": "stderr",
     "output_type": "stream",
     "text": [
      "best_th: 0.1, fbeta: 0.04910944214630604\n",
      "Epoch 12 - avg_train_loss: 0.3700  avg_val_loss: 0.2309  time: 60s\n",
      "Epoch 12 - avgScore: 0.0491\n",
      "Epoch Progress:  80%|\u001b[37m████████  \u001b[0m| 12/15 [11:55<02:59, 59.67s/it]"
     ]
    },
    {
     "name": "stdout",
     "output_type": "stream",
     "text": [
      "th: 0.8, fbeta: 0.0\n"
     ]
    },
    {
     "name": "stderr",
     "output_type": "stream",
     "text": [
      "Train Steps Progress: 100%|\u001b[31m██████████\u001b[0m| 152/152 [00:43<00:00,  3.49it/s]\n",
      "Validation Steps Progress: 100%|\u001b[32m██████████\u001b[0m| 17/17 [00:02<00:00,  7.68it/s]\n"
     ]
    },
    {
     "name": "stdout",
     "output_type": "stream",
     "text": [
      "th: 0.1, fbeta: 0.027106702696192617\n",
      "th: 0.15, fbeta: 0.0006892879946488905\n",
      "th: 0.2, fbeta: 0.0\n",
      "th: 0.25, fbeta: 0.0\n",
      "th: 0.3, fbeta: 0.0\n",
      "th: 0.35, fbeta: 0.0\n",
      "th: 0.4, fbeta: 0.0\n",
      "th: 0.45, fbeta: 0.0\n",
      "th: 0.5, fbeta: 0.0\n",
      "th: 0.55, fbeta: 0.0\n",
      "th: 0.6, fbeta: 0.0\n",
      "th: 0.65, fbeta: 0.0\n",
      "th: 0.7, fbeta: 0.0\n",
      "th: 0.75, fbeta: 0.0\n"
     ]
    },
    {
     "name": "stderr",
     "output_type": "stream",
     "text": [
      "best_th: 0.1, fbeta: 0.027106702696192617\n",
      "Epoch 13 - avg_train_loss: 0.3625  avg_val_loss: 0.2280  time: 59s\n",
      "Epoch 13 - avgScore: 0.0271\n",
      "Epoch Progress:  87%|\u001b[37m████████▋ \u001b[0m| 13/15 [12:54<01:59, 59.62s/it]"
     ]
    },
    {
     "name": "stdout",
     "output_type": "stream",
     "text": [
      "th: 0.8, fbeta: 0.0\n"
     ]
    },
    {
     "name": "stderr",
     "output_type": "stream",
     "text": [
      "Train Steps Progress: 100%|\u001b[31m██████████\u001b[0m| 152/152 [00:43<00:00,  3.51it/s]\n",
      "Validation Steps Progress: 100%|\u001b[32m██████████\u001b[0m| 17/17 [00:02<00:00,  7.53it/s]\n"
     ]
    },
    {
     "name": "stdout",
     "output_type": "stream",
     "text": [
      "th: 0.1, fbeta: 0.04414674083430367\n",
      "th: 0.15, fbeta: 0.0009761710359574475\n",
      "th: 0.2, fbeta: 2.4321828652103715e-05\n",
      "th: 0.25, fbeta: 0.0\n",
      "th: 0.3, fbeta: 0.0\n",
      "th: 0.35, fbeta: 0.0\n",
      "th: 0.4, fbeta: 0.0\n",
      "th: 0.45, fbeta: 0.0\n",
      "th: 0.5, fbeta: 0.0\n",
      "th: 0.55, fbeta: 0.0\n",
      "th: 0.6, fbeta: 0.0\n",
      "th: 0.65, fbeta: 0.0\n",
      "th: 0.7, fbeta: 0.0\n",
      "th: 0.75, fbeta: 0.0\n"
     ]
    },
    {
     "name": "stderr",
     "output_type": "stream",
     "text": [
      "best_th: 0.1, fbeta: 0.04414674083430367\n",
      "Epoch 14 - avg_train_loss: 0.3675  avg_val_loss: 0.2292  time: 59s\n",
      "Epoch 14 - avgScore: 0.0441\n",
      "Epoch Progress:  93%|\u001b[37m█████████▎\u001b[0m| 14/15 [13:53<00:59, 59.55s/it]"
     ]
    },
    {
     "name": "stdout",
     "output_type": "stream",
     "text": [
      "th: 0.8, fbeta: 0.0\n"
     ]
    },
    {
     "name": "stderr",
     "output_type": "stream",
     "text": [
      "Train Steps Progress: 100%|\u001b[31m██████████\u001b[0m| 152/152 [00:43<00:00,  3.50it/s]\n",
      "Validation Steps Progress: 100%|\u001b[32m██████████\u001b[0m| 17/17 [00:02<00:00,  7.54it/s]\n"
     ]
    },
    {
     "name": "stdout",
     "output_type": "stream",
     "text": [
      "th: 0.1, fbeta: 0.05236574983977839\n",
      "th: 0.15, fbeta: 0.006298161565141587\n",
      "th: 0.2, fbeta: 0.00033359729469419015\n",
      "th: 0.25, fbeta: 0.0\n",
      "th: 0.3, fbeta: 0.0\n",
      "th: 0.35, fbeta: 0.0\n",
      "th: 0.4, fbeta: 0.0\n",
      "th: 0.45, fbeta: 0.0\n",
      "th: 0.5, fbeta: 0.0\n",
      "th: 0.55, fbeta: 0.0\n",
      "th: 0.6, fbeta: 0.0\n",
      "th: 0.65, fbeta: 0.0\n",
      "th: 0.7, fbeta: 0.0\n",
      "th: 0.75, fbeta: 0.0\n"
     ]
    },
    {
     "name": "stderr",
     "output_type": "stream",
     "text": [
      "best_th: 0.1, fbeta: 0.05236574983977839\n",
      "Epoch 15 - avg_train_loss: 0.3645  avg_val_loss: 0.2327  time: 60s\n",
      "Epoch 15 - avgScore: 0.0524\n",
      "Epoch Progress: 100%|\u001b[37m██████████\u001b[0m| 15/15 [14:53<00:00, 59.59s/it]"
     ]
    },
    {
     "name": "stdout",
     "output_type": "stream",
     "text": [
      "th: 0.8, fbeta: 0.0\n"
     ]
    },
    {
     "name": "stderr",
     "output_type": "stream",
     "text": [
      "\n",
      "\u001b[34m\u001b[1mwandb\u001b[0m: Waiting for W&B process to finish... \u001b[32m(success).\u001b[0m\n",
      "\u001b[34m\u001b[1mwandb\u001b[0m: \n",
      "\u001b[34m\u001b[1mwandb\u001b[0m: Run history:\n",
      "\u001b[34m\u001b[1mwandb\u001b[0m:     Best_Score ▁█\n",
      "\u001b[34m\u001b[1mwandb\u001b[0m:      Best_loss █▁\n",
      "\u001b[34m\u001b[1mwandb\u001b[0m:        Best_th ▁▁▁▁▁▁▁▁▁▁▁▁▁▁▁\n",
      "\u001b[34m\u001b[1mwandb\u001b[0m: Best_threshold ▁▁\n",
      "\u001b[34m\u001b[1mwandb\u001b[0m:          Epoch ▁▁▂▃▃▃▄▅▅▅▆▇▇▇█\n",
      "\u001b[34m\u001b[1mwandb\u001b[0m:     Epoch_best ▁█\n",
      "\u001b[34m\u001b[1mwandb\u001b[0m:          Score ▄▇▇▇▄▄▇▇▂█▅▄▁▃▄\n",
      "\u001b[34m\u001b[1mwandb\u001b[0m:     Train_loss █▂▂▂▂▂▂▂▁▁▂▂▁▁▁\n",
      "\u001b[34m\u001b[1mwandb\u001b[0m:        Val_los ▂▆█▄▂▂▄▅▁▄▂▂▁▁▂\n",
      "\u001b[34m\u001b[1mwandb\u001b[0m: \n",
      "\u001b[34m\u001b[1mwandb\u001b[0m: Run summary:\n",
      "\u001b[34m\u001b[1mwandb\u001b[0m:     Best_Score 0.07778\n",
      "\u001b[34m\u001b[1mwandb\u001b[0m:      Best_loss 0.3661\n",
      "\u001b[34m\u001b[1mwandb\u001b[0m:        Best_th 0.1\n",
      "\u001b[34m\u001b[1mwandb\u001b[0m: Best_threshold 0.1\n",
      "\u001b[34m\u001b[1mwandb\u001b[0m:          Epoch 15\n",
      "\u001b[34m\u001b[1mwandb\u001b[0m:     Epoch_best 10\n",
      "\u001b[34m\u001b[1mwandb\u001b[0m:          Score 0.05237\n",
      "\u001b[34m\u001b[1mwandb\u001b[0m:     Train_loss 0.36448\n",
      "\u001b[34m\u001b[1mwandb\u001b[0m:        Val_los 0.23272\n",
      "\u001b[34m\u001b[1mwandb\u001b[0m: \n",
      "\u001b[34m\u001b[1mwandb\u001b[0m: 🚀 View run \u001b[33mPSPNet mit_b1 Fold1 freezeTrue 90419\u001b[0m at: \u001b[34m\u001b[4mhttps://wandb.ai/i-am-noob/Vesuvius%20Experiments%20PSPNet/runs/kte6ropr\u001b[0m\n",
      "\u001b[34m\u001b[1mwandb\u001b[0m: Synced 6 W&B file(s), 0 media file(s), 0 artifact file(s) and 0 other file(s)\n",
      "\u001b[34m\u001b[1mwandb\u001b[0m: Find logs at: \u001b[35m\u001b[1m./wandb/run-20230602_174956-kte6ropr/logs\u001b[0m\n"
     ]
    },
    {
     "name": "stdout",
     "output_type": "stream",
     "text": [
      "deleted items: memory GB:5.35\n",
      "pre inializing: memory GB:3.33\n"
     ]
    },
    {
     "name": "stderr",
     "output_type": "stream",
     "text": [
      "Image Slice Progress: 100%|\u001b[34m██████████\u001b[0m| 3/3 [00:00<00:00, 10.40it/s]\n",
      "Image Slice Progress: 100%|\u001b[34m██████████\u001b[0m| 3/3 [00:00<00:00,  5.65it/s]\n",
      "Image Slice Progress: 100%|\u001b[34m██████████\u001b[0m| 3/3 [00:00<00:00, 18.34it/s]\n"
     ]
    },
    {
     "name": "stdout",
     "output_type": "stream",
     "text": [
      "post inializing: memory GB:4.92\n",
      "Current fold --> 1\n"
     ]
    },
    {
     "name": "stderr",
     "output_type": "stream",
     "text": [
      "\u001b[34m\u001b[1mwandb\u001b[0m: Tracking run with wandb version 0.15.3\n",
      "\u001b[34m\u001b[1mwandb\u001b[0m: Run data is saved locally in \u001b[35m\u001b[1m/kaggle/working/wandb/run-20230602_180554-aw9oxurj\u001b[0m\n",
      "\u001b[34m\u001b[1mwandb\u001b[0m: Run \u001b[1m`wandb offline`\u001b[0m to turn off syncing.\n",
      "\u001b[34m\u001b[1mwandb\u001b[0m: Syncing run \u001b[33mPSPNet mit_b2 Fold1 freezeTrue 77175\u001b[0m\n",
      "\u001b[34m\u001b[1mwandb\u001b[0m: ⭐️ View project at \u001b[34m\u001b[4mhttps://wandb.ai/i-am-noob/Vesuvius%20Experiments%20PSPNet\u001b[0m\n",
      "\u001b[34m\u001b[1mwandb\u001b[0m: 🚀 View run at \u001b[34m\u001b[4mhttps://wandb.ai/i-am-noob/Vesuvius%20Experiments%20PSPNet/runs/aw9oxurj\u001b[0m\n"
     ]
    },
    {
     "name": "stdout",
     "output_type": "stream",
     "text": [
      "model_name PSPNet\n",
      "backbone mit_b2\n"
     ]
    },
    {
     "name": "stderr",
     "output_type": "stream",
     "text": [
      "Downloading: \"https://github.com/qubvel/segmentation_models.pytorch/releases/download/v0.0.2/mit_b2.pth\" to /root/.cache/torch/hub/checkpoints/mit_b2.pth\n"
     ]
    },
    {
     "data": {
      "application/vnd.jupyter.widget-view+json": {
       "model_id": "cc4d53e20f4d4a1ca69a02ebaf09d262",
       "version_major": 2,
       "version_minor": 0
      },
      "text/plain": [
       "  0%|          | 0.00/94.3M [00:00<?, ?B/s]"
      ]
     },
     "metadata": {},
     "output_type": "display_data"
    },
    {
     "name": "stderr",
     "output_type": "stream",
     "text": [
      "Validation Steps Progress: 100%|\u001b[32m██████████\u001b[0m| 17/17 [00:03<00:00,  5.06it/s]\n"
     ]
    },
    {
     "name": "stdout",
     "output_type": "stream",
     "text": [
      "th: 0.1, fbeta: 0.07159157168739244\n",
      "th: 0.15, fbeta: 0.07159157168739244\n",
      "th: 0.2, fbeta: 0.07159157168739244\n",
      "th: 0.25, fbeta: 0.07159157168739244\n",
      "th: 0.3, fbeta: 0.07159157168739244\n",
      "th: 0.35, fbeta: 0.07159157168739244\n",
      "th: 0.4, fbeta: 0.07159157168739244\n",
      "th: 0.45, fbeta: 0.07159157168739244\n",
      "th: 0.5, fbeta: 0.07157841527497594\n",
      "th: 0.55, fbeta: 0.0\n",
      "th: 0.6, fbeta: 0.0\n",
      "th: 0.65, fbeta: 0.0\n",
      "th: 0.7, fbeta: 0.0\n",
      "th: 0.75, fbeta: 0.0\n"
     ]
    },
    {
     "name": "stderr",
     "output_type": "stream",
     "text": [
      "best_th: 0.1, fbeta: 0.07159157168739244\n"
     ]
    },
    {
     "name": "stdout",
     "output_type": "stream",
     "text": [
      "th: 0.8, fbeta: 0.0\n",
      "Val_loss before training -->0.7245120378504879, score --> 0.07159157168739244\n"
     ]
    },
    {
     "name": "stderr",
     "output_type": "stream",
     "text": [
      "Train Steps Progress: 100%|\u001b[31m██████████\u001b[0m| 152/152 [00:45<00:00,  3.31it/s]\n",
      "Validation Steps Progress: 100%|\u001b[32m██████████\u001b[0m| 17/17 [00:03<00:00,  5.59it/s]\n"
     ]
    },
    {
     "name": "stdout",
     "output_type": "stream",
     "text": [
      "th: 0.1, fbeta: 0.06391822504498867\n",
      "th: 0.15, fbeta: 0.04624255177703432\n",
      "th: 0.2, fbeta: 0.024951225843264726\n",
      "th: 0.25, fbeta: 0.013400312775868976\n",
      "th: 0.3, fbeta: 0.0021238485138330237\n",
      "th: 0.35, fbeta: 0.0\n",
      "th: 0.4, fbeta: 0.0\n",
      "th: 0.45, fbeta: 0.0\n",
      "th: 0.5, fbeta: 0.0\n",
      "th: 0.55, fbeta: 0.0\n",
      "th: 0.6, fbeta: 0.0\n",
      "th: 0.65, fbeta: 0.0\n",
      "th: 0.7, fbeta: 0.0\n",
      "th: 0.75, fbeta: 0.0\n"
     ]
    },
    {
     "name": "stderr",
     "output_type": "stream",
     "text": [
      "best_th: 0.1, fbeta: 0.06391822504498867\n",
      "Epoch 1 - avg_train_loss: 0.4316  avg_val_loss: 0.2394  time: 62s\n",
      "Epoch 1 - avgScore: 0.0639\n",
      "Epoch Progress:   7%|\u001b[37m▋         \u001b[0m| 1/15 [01:02<14:34, 62.46s/it]"
     ]
    },
    {
     "name": "stdout",
     "output_type": "stream",
     "text": [
      "th: 0.8, fbeta: 0.0\n"
     ]
    },
    {
     "name": "stderr",
     "output_type": "stream",
     "text": [
      "Train Steps Progress: 100%|\u001b[31m██████████\u001b[0m| 152/152 [00:45<00:00,  3.34it/s]\n",
      "Validation Steps Progress: 100%|\u001b[32m██████████\u001b[0m| 17/17 [00:02<00:00,  6.63it/s]\n"
     ]
    },
    {
     "name": "stdout",
     "output_type": "stream",
     "text": [
      "th: 0.1, fbeta: 0.05436260685062179\n",
      "th: 0.15, fbeta: 0.028708276727869683\n",
      "th: 0.2, fbeta: 0.01062680604083592\n",
      "th: 0.25, fbeta: 0.00035294269680530613\n",
      "th: 0.3, fbeta: 9.362888576777815e-07\n",
      "th: 0.35, fbeta: 0.0\n",
      "th: 0.4, fbeta: 0.0\n",
      "th: 0.45, fbeta: 0.0\n",
      "th: 0.5, fbeta: 0.0\n",
      "th: 0.55, fbeta: 0.0\n",
      "th: 0.6, fbeta: 0.0\n",
      "th: 0.65, fbeta: 0.0\n",
      "th: 0.7, fbeta: 0.0\n",
      "th: 0.75, fbeta: 0.0\n"
     ]
    },
    {
     "name": "stderr",
     "output_type": "stream",
     "text": [
      "best_th: 0.1, fbeta: 0.05436260685062179\n",
      "Epoch 2 - avg_train_loss: 0.3787  avg_val_loss: 0.2330  time: 62s\n",
      "Epoch 2 - avgScore: 0.0544\n",
      "Epoch Progress:  13%|\u001b[37m█▎        \u001b[0m| 2/15 [02:04<13:30, 62.33s/it]"
     ]
    },
    {
     "name": "stdout",
     "output_type": "stream",
     "text": [
      "th: 0.8, fbeta: 0.0\n"
     ]
    },
    {
     "name": "stderr",
     "output_type": "stream",
     "text": [
      "Train Steps Progress: 100%|\u001b[31m██████████\u001b[0m| 152/152 [00:45<00:00,  3.33it/s]\n",
      "Validation Steps Progress: 100%|\u001b[32m██████████\u001b[0m| 17/17 [00:02<00:00,  6.40it/s]\n"
     ]
    },
    {
     "name": "stdout",
     "output_type": "stream",
     "text": [
      "th: 0.1, fbeta: 0.05322894810284522\n",
      "th: 0.15, fbeta: 0.02683876882453986\n",
      "th: 0.2, fbeta: 0.00796126429356535\n",
      "th: 0.25, fbeta: 0.0003075872616431603\n",
      "th: 0.3, fbeta: 0.0\n",
      "th: 0.35, fbeta: 0.0\n",
      "th: 0.4, fbeta: 0.0\n",
      "th: 0.45, fbeta: 0.0\n",
      "th: 0.5, fbeta: 0.0\n",
      "th: 0.55, fbeta: 0.0\n",
      "th: 0.6, fbeta: 0.0\n",
      "th: 0.65, fbeta: 0.0\n",
      "th: 0.7, fbeta: 0.0\n",
      "th: 0.75, fbeta: 0.0\n"
     ]
    },
    {
     "name": "stderr",
     "output_type": "stream",
     "text": [
      "best_th: 0.1, fbeta: 0.05322894810284522\n",
      "Epoch 3 - avg_train_loss: 0.3811  avg_val_loss: 0.2329  time: 62s\n",
      "Epoch 3 - avgScore: 0.0532\n",
      "Epoch Progress:  20%|\u001b[37m██        \u001b[0m| 3/15 [03:06<12:26, 62.22s/it]"
     ]
    },
    {
     "name": "stdout",
     "output_type": "stream",
     "text": [
      "th: 0.8, fbeta: 0.0\n"
     ]
    },
    {
     "name": "stderr",
     "output_type": "stream",
     "text": [
      "Train Steps Progress: 100%|\u001b[31m██████████\u001b[0m| 152/152 [00:45<00:00,  3.32it/s]\n",
      "Validation Steps Progress: 100%|\u001b[32m██████████\u001b[0m| 17/17 [00:02<00:00,  6.43it/s]\n"
     ]
    },
    {
     "name": "stdout",
     "output_type": "stream",
     "text": [
      "th: 0.1, fbeta: 0.0616406591019323\n",
      "th: 0.15, fbeta: 0.0322657922474504\n",
      "th: 0.2, fbeta: 0.008547523753564677\n",
      "th: 0.25, fbeta: 0.00010463291868742608\n",
      "th: 0.3, fbeta: 0.0\n",
      "th: 0.35, fbeta: 0.0\n",
      "th: 0.4, fbeta: 0.0\n",
      "th: 0.45, fbeta: 0.0\n",
      "th: 0.5, fbeta: 0.0\n",
      "th: 0.55, fbeta: 0.0\n",
      "th: 0.6, fbeta: 0.0\n",
      "th: 0.65, fbeta: 0.0\n",
      "th: 0.7, fbeta: 0.0\n",
      "th: 0.75, fbeta: 0.0\n"
     ]
    },
    {
     "name": "stderr",
     "output_type": "stream",
     "text": [
      "best_th: 0.1, fbeta: 0.0616406591019323\n",
      "Epoch 4 - avg_train_loss: 0.3773  avg_val_loss: 0.2376  time: 62s\n",
      "Epoch 4 - avgScore: 0.0616\n",
      "Epoch Progress:  27%|\u001b[37m██▋       \u001b[0m| 4/15 [04:08<11:23, 62.15s/it]"
     ]
    },
    {
     "name": "stdout",
     "output_type": "stream",
     "text": [
      "th: 0.8, fbeta: 0.0\n"
     ]
    },
    {
     "name": "stderr",
     "output_type": "stream",
     "text": [
      "Train Steps Progress: 100%|\u001b[31m██████████\u001b[0m| 152/152 [00:45<00:00,  3.32it/s]\n",
      "Validation Steps Progress: 100%|\u001b[32m██████████\u001b[0m| 17/17 [00:02<00:00,  6.52it/s]\n"
     ]
    },
    {
     "name": "stdout",
     "output_type": "stream",
     "text": [
      "th: 0.1, fbeta: 0.07105816994046381\n",
      "th: 0.15, fbeta: 0.0378898964953721\n",
      "th: 0.2, fbeta: 0.014189794475788314\n",
      "th: 0.25, fbeta: 8.037770850230581e-05\n",
      "th: 0.3, fbeta: 0.0\n",
      "th: 0.35, fbeta: 0.0\n",
      "th: 0.4, fbeta: 0.0\n",
      "th: 0.45, fbeta: 0.0\n",
      "th: 0.5, fbeta: 0.0\n",
      "th: 0.55, fbeta: 0.0\n",
      "th: 0.6, fbeta: 0.0\n",
      "th: 0.65, fbeta: 0.0\n",
      "th: 0.7, fbeta: 0.0\n",
      "th: 0.75, fbeta: 0.0\n"
     ]
    },
    {
     "name": "stderr",
     "output_type": "stream",
     "text": [
      "best_th: 0.1, fbeta: 0.07105816994046381\n",
      "Epoch 5 - avg_train_loss: 0.3683  avg_val_loss: 0.2412  time: 62s\n",
      "Epoch 5 - avgScore: 0.0711\n",
      "Epoch Progress:  33%|\u001b[37m███▎      \u001b[0m| 5/15 [05:10<10:21, 62.12s/it]"
     ]
    },
    {
     "name": "stdout",
     "output_type": "stream",
     "text": [
      "th: 0.8, fbeta: 0.0\n"
     ]
    },
    {
     "name": "stderr",
     "output_type": "stream",
     "text": [
      "Train Steps Progress: 100%|\u001b[31m██████████\u001b[0m| 152/152 [00:45<00:00,  3.33it/s]\n",
      "Validation Steps Progress: 100%|\u001b[32m██████████\u001b[0m| 17/17 [00:02<00:00,  6.05it/s]\n"
     ]
    },
    {
     "name": "stdout",
     "output_type": "stream",
     "text": [
      "th: 0.1, fbeta: 0.030520664464461715\n",
      "th: 0.15, fbeta: 0.01098303149325299\n",
      "th: 0.2, fbeta: 0.00011584510439870004\n",
      "th: 0.25, fbeta: 0.0\n",
      "th: 0.3, fbeta: 0.0\n",
      "th: 0.35, fbeta: 0.0\n",
      "th: 0.4, fbeta: 0.0\n",
      "th: 0.45, fbeta: 0.0\n",
      "th: 0.5, fbeta: 0.0\n",
      "th: 0.55, fbeta: 0.0\n",
      "th: 0.6, fbeta: 0.0\n",
      "th: 0.65, fbeta: 0.0\n",
      "th: 0.7, fbeta: 0.0\n",
      "th: 0.75, fbeta: 0.0\n"
     ]
    },
    {
     "name": "stderr",
     "output_type": "stream",
     "text": [
      "best_th: 0.1, fbeta: 0.030520664464461715\n",
      "Epoch 6 - avg_train_loss: 0.3678  avg_val_loss: 0.2302  time: 62s\n",
      "Epoch 6 - avgScore: 0.0305\n",
      "Epoch Progress:  40%|\u001b[37m████      \u001b[0m| 6/15 [06:13<09:19, 62.19s/it]"
     ]
    },
    {
     "name": "stdout",
     "output_type": "stream",
     "text": [
      "th: 0.8, fbeta: 0.0\n"
     ]
    },
    {
     "name": "stderr",
     "output_type": "stream",
     "text": [
      "Train Steps Progress: 100%|\u001b[31m██████████\u001b[0m| 152/152 [00:45<00:00,  3.32it/s]\n",
      "Validation Steps Progress: 100%|\u001b[32m██████████\u001b[0m| 17/17 [00:02<00:00,  6.54it/s]\n"
     ]
    },
    {
     "name": "stdout",
     "output_type": "stream",
     "text": [
      "th: 0.1, fbeta: 0.03502004167246949\n",
      "th: 0.15, fbeta: 0.015485694334385302\n",
      "th: 0.2, fbeta: 4.3027135554089085e-05\n",
      "th: 0.25, fbeta: 0.0\n",
      "th: 0.3, fbeta: 0.0\n",
      "th: 0.35, fbeta: 0.0\n",
      "th: 0.4, fbeta: 0.0\n",
      "th: 0.45, fbeta: 0.0\n",
      "th: 0.5, fbeta: 0.0\n",
      "th: 0.55, fbeta: 0.0\n",
      "th: 0.6, fbeta: 0.0\n",
      "th: 0.65, fbeta: 0.0\n",
      "th: 0.7, fbeta: 0.0\n",
      "th: 0.75, fbeta: 0.0\n"
     ]
    },
    {
     "name": "stderr",
     "output_type": "stream",
     "text": [
      "best_th: 0.1, fbeta: 0.03502004167246949\n",
      "Epoch 7 - avg_train_loss: 0.3708  avg_val_loss: 0.2296  time: 62s\n",
      "Epoch 7 - avgScore: 0.0350\n",
      "Epoch Progress:  47%|\u001b[37m████▋     \u001b[0m| 7/15 [07:15<08:17, 62.22s/it]"
     ]
    },
    {
     "name": "stdout",
     "output_type": "stream",
     "text": [
      "th: 0.8, fbeta: 0.0\n"
     ]
    },
    {
     "name": "stderr",
     "output_type": "stream",
     "text": [
      "Train Steps Progress: 100%|\u001b[31m██████████\u001b[0m| 152/152 [00:45<00:00,  3.33it/s]\n",
      "Validation Steps Progress: 100%|\u001b[32m██████████\u001b[0m| 17/17 [00:02<00:00,  6.57it/s]\n"
     ]
    },
    {
     "name": "stdout",
     "output_type": "stream",
     "text": [
      "th: 0.1, fbeta: 0.03320427405720292\n",
      "th: 0.15, fbeta: 0.011275528853632782\n",
      "th: 0.2, fbeta: 3.2744041751496144e-05\n",
      "th: 0.25, fbeta: 0.0\n",
      "th: 0.3, fbeta: 0.0\n",
      "th: 0.35, fbeta: 0.0\n",
      "th: 0.4, fbeta: 0.0\n",
      "th: 0.45, fbeta: 0.0\n",
      "th: 0.5, fbeta: 0.0\n",
      "th: 0.55, fbeta: 0.0\n",
      "th: 0.6, fbeta: 0.0\n",
      "th: 0.65, fbeta: 0.0\n",
      "th: 0.7, fbeta: 0.0\n",
      "th: 0.75, fbeta: 0.0\n"
     ]
    },
    {
     "name": "stderr",
     "output_type": "stream",
     "text": [
      "best_th: 0.1, fbeta: 0.03320427405720292\n",
      "Epoch 8 - avg_train_loss: 0.3728  avg_val_loss: 0.2302  time: 62s\n",
      "Epoch 8 - avgScore: 0.0332\n",
      "Epoch Progress:  53%|\u001b[37m█████▎    \u001b[0m| 8/15 [08:17<07:14, 62.09s/it]"
     ]
    },
    {
     "name": "stdout",
     "output_type": "stream",
     "text": [
      "th: 0.8, fbeta: 0.0\n"
     ]
    },
    {
     "name": "stderr",
     "output_type": "stream",
     "text": [
      "Train Steps Progress: 100%|\u001b[31m██████████\u001b[0m| 152/152 [00:45<00:00,  3.32it/s]\n",
      "Validation Steps Progress: 100%|\u001b[32m██████████\u001b[0m| 17/17 [00:02<00:00,  6.33it/s]\n"
     ]
    },
    {
     "name": "stdout",
     "output_type": "stream",
     "text": [
      "th: 0.1, fbeta: 0.037811494040142904\n",
      "th: 0.15, fbeta: 0.01103812778974742\n",
      "th: 0.2, fbeta: 5.984048540509399e-05\n",
      "th: 0.25, fbeta: 0.0\n",
      "th: 0.3, fbeta: 0.0\n",
      "th: 0.35, fbeta: 0.0\n",
      "th: 0.4, fbeta: 0.0\n",
      "th: 0.45, fbeta: 0.0\n",
      "th: 0.5, fbeta: 0.0\n",
      "th: 0.55, fbeta: 0.0\n",
      "th: 0.6, fbeta: 0.0\n",
      "th: 0.65, fbeta: 0.0\n",
      "th: 0.7, fbeta: 0.0\n",
      "th: 0.75, fbeta: 0.0\n"
     ]
    },
    {
     "name": "stderr",
     "output_type": "stream",
     "text": [
      "best_th: 0.1, fbeta: 0.037811494040142904\n",
      "Epoch 9 - avg_train_loss: 0.3688  avg_val_loss: 0.2287  time: 62s\n",
      "Epoch 9 - avgScore: 0.0378\n",
      "Epoch Progress:  60%|\u001b[37m██████    \u001b[0m| 9/15 [09:19<06:12, 62.14s/it]"
     ]
    },
    {
     "name": "stdout",
     "output_type": "stream",
     "text": [
      "th: 0.8, fbeta: 0.0\n"
     ]
    },
    {
     "name": "stderr",
     "output_type": "stream",
     "text": [
      "Train Steps Progress: 100%|\u001b[31m██████████\u001b[0m| 152/152 [00:45<00:00,  3.32it/s]\n",
      "Validation Steps Progress: 100%|\u001b[32m██████████\u001b[0m| 17/17 [00:02<00:00,  6.63it/s]\n"
     ]
    },
    {
     "name": "stdout",
     "output_type": "stream",
     "text": [
      "th: 0.1, fbeta: 0.026735220555707977\n",
      "th: 0.15, fbeta: 0.006747261565070409\n",
      "th: 0.2, fbeta: 0.0\n",
      "th: 0.25, fbeta: 0.0\n",
      "th: 0.3, fbeta: 0.0\n",
      "th: 0.35, fbeta: 0.0\n",
      "th: 0.4, fbeta: 0.0\n",
      "th: 0.45, fbeta: 0.0\n",
      "th: 0.5, fbeta: 0.0\n",
      "th: 0.55, fbeta: 0.0\n",
      "th: 0.6, fbeta: 0.0\n",
      "th: 0.65, fbeta: 0.0\n",
      "th: 0.7, fbeta: 0.0\n",
      "th: 0.75, fbeta: 0.0\n"
     ]
    },
    {
     "name": "stderr",
     "output_type": "stream",
     "text": [
      "best_th: 0.1, fbeta: 0.026735220555707977\n",
      "Epoch 10 - avg_train_loss: 0.3627  avg_val_loss: 0.2312  time: 62s\n",
      "Epoch 10 - avgScore: 0.0267\n",
      "Epoch Progress:  67%|\u001b[37m██████▋   \u001b[0m| 10/15 [10:21<05:10, 62.13s/it]"
     ]
    },
    {
     "name": "stdout",
     "output_type": "stream",
     "text": [
      "th: 0.8, fbeta: 0.0\n"
     ]
    },
    {
     "name": "stderr",
     "output_type": "stream",
     "text": [
      "Train Steps Progress: 100%|\u001b[31m██████████\u001b[0m| 152/152 [00:45<00:00,  3.33it/s]\n",
      "Validation Steps Progress: 100%|\u001b[32m██████████\u001b[0m| 17/17 [00:02<00:00,  6.52it/s]\n"
     ]
    },
    {
     "name": "stdout",
     "output_type": "stream",
     "text": [
      "th: 0.1, fbeta: 0.04765766252040404\n",
      "th: 0.15, fbeta: 0.016617371313572896\n",
      "th: 0.2, fbeta: 0.0001401497389073568\n",
      "th: 0.25, fbeta: 0.0\n",
      "th: 0.3, fbeta: 0.0\n",
      "th: 0.35, fbeta: 0.0\n",
      "th: 0.4, fbeta: 0.0\n",
      "th: 0.45, fbeta: 0.0\n",
      "th: 0.5, fbeta: 0.0\n",
      "th: 0.55, fbeta: 0.0\n",
      "th: 0.6, fbeta: 0.0\n",
      "th: 0.65, fbeta: 0.0\n",
      "th: 0.7, fbeta: 0.0\n",
      "th: 0.75, fbeta: 0.0\n"
     ]
    },
    {
     "name": "stderr",
     "output_type": "stream",
     "text": [
      "best_th: 0.1, fbeta: 0.04765766252040404\n",
      "Epoch 11 - avg_train_loss: 0.3635  avg_val_loss: 0.2293  time: 62s\n",
      "Epoch 11 - avgScore: 0.0477\n",
      "Epoch Progress:  73%|\u001b[37m███████▎  \u001b[0m| 11/15 [11:23<04:08, 62.07s/it]"
     ]
    },
    {
     "name": "stdout",
     "output_type": "stream",
     "text": [
      "th: 0.8, fbeta: 0.0\n"
     ]
    },
    {
     "name": "stderr",
     "output_type": "stream",
     "text": [
      "Train Steps Progress: 100%|\u001b[31m██████████\u001b[0m| 152/152 [00:45<00:00,  3.33it/s]\n",
      "Validation Steps Progress: 100%|\u001b[32m██████████\u001b[0m| 17/17 [00:02<00:00,  6.48it/s]\n"
     ]
    },
    {
     "name": "stdout",
     "output_type": "stream",
     "text": [
      "th: 0.1, fbeta: 0.025914022892175727\n",
      "th: 0.15, fbeta: 0.0035506646727412093\n",
      "th: 0.2, fbeta: 0.0\n",
      "th: 0.25, fbeta: 0.0\n",
      "th: 0.3, fbeta: 0.0\n",
      "th: 0.35, fbeta: 0.0\n",
      "th: 0.4, fbeta: 0.0\n",
      "th: 0.45, fbeta: 0.0\n",
      "th: 0.5, fbeta: 0.0\n",
      "th: 0.55, fbeta: 0.0\n",
      "th: 0.6, fbeta: 0.0\n",
      "th: 0.65, fbeta: 0.0\n",
      "th: 0.7, fbeta: 0.0\n",
      "th: 0.75, fbeta: 0.0\n"
     ]
    },
    {
     "name": "stderr",
     "output_type": "stream",
     "text": [
      "best_th: 0.1, fbeta: 0.025914022892175727\n",
      "Epoch 12 - avg_train_loss: 0.3668  avg_val_loss: 0.2286  time: 62s\n",
      "Epoch 12 - avgScore: 0.0259\n",
      "Epoch Progress:  80%|\u001b[37m████████  \u001b[0m| 12/15 [12:25<03:05, 61.91s/it]"
     ]
    },
    {
     "name": "stdout",
     "output_type": "stream",
     "text": [
      "th: 0.8, fbeta: 0.0\n"
     ]
    },
    {
     "name": "stderr",
     "output_type": "stream",
     "text": [
      "Train Steps Progress: 100%|\u001b[31m██████████\u001b[0m| 152/152 [00:46<00:00,  3.30it/s]\n",
      "Validation Steps Progress: 100%|\u001b[32m██████████\u001b[0m| 17/17 [00:02<00:00,  6.57it/s]\n"
     ]
    },
    {
     "name": "stdout",
     "output_type": "stream",
     "text": [
      "th: 0.1, fbeta: 0.0392834484482795\n",
      "th: 0.15, fbeta: 0.0010316792219777567\n",
      "th: 0.2, fbeta: 0.0\n",
      "th: 0.25, fbeta: 0.0\n",
      "th: 0.3, fbeta: 0.0\n",
      "th: 0.35, fbeta: 0.0\n",
      "th: 0.4, fbeta: 0.0\n",
      "th: 0.45, fbeta: 0.0\n",
      "th: 0.5, fbeta: 0.0\n",
      "th: 0.55, fbeta: 0.0\n",
      "th: 0.6, fbeta: 0.0\n",
      "th: 0.65, fbeta: 0.0\n",
      "th: 0.7, fbeta: 0.0\n",
      "th: 0.75, fbeta: 0.0\n"
     ]
    },
    {
     "name": "stderr",
     "output_type": "stream",
     "text": [
      "best_th: 0.1, fbeta: 0.0392834484482795\n",
      "Epoch 13 - avg_train_loss: 0.3630  avg_val_loss: 0.2278  time: 62s\n",
      "Epoch 13 - avgScore: 0.0393\n",
      "Epoch Progress:  87%|\u001b[37m████████▋ \u001b[0m| 13/15 [13:27<02:04, 62.01s/it]"
     ]
    },
    {
     "name": "stdout",
     "output_type": "stream",
     "text": [
      "th: 0.8, fbeta: 0.0\n"
     ]
    },
    {
     "name": "stderr",
     "output_type": "stream",
     "text": [
      "Train Steps Progress: 100%|\u001b[31m██████████\u001b[0m| 152/152 [00:46<00:00,  3.30it/s]\n",
      "Validation Steps Progress: 100%|\u001b[32m██████████\u001b[0m| 17/17 [00:02<00:00,  6.53it/s]\n"
     ]
    },
    {
     "name": "stdout",
     "output_type": "stream",
     "text": [
      "th: 0.1, fbeta: 0.04401231036641999\n",
      "th: 0.15, fbeta: 0.011320653077252125\n",
      "th: 0.2, fbeta: 4.681633904798465e-06\n",
      "th: 0.25, fbeta: 0.0\n",
      "th: 0.3, fbeta: 0.0\n",
      "th: 0.35, fbeta: 0.0\n",
      "th: 0.4, fbeta: 0.0\n",
      "th: 0.45, fbeta: 0.0\n",
      "th: 0.5, fbeta: 0.0\n",
      "th: 0.55, fbeta: 0.0\n",
      "th: 0.6, fbeta: 0.0\n",
      "th: 0.65, fbeta: 0.0\n",
      "th: 0.7, fbeta: 0.0\n",
      "th: 0.75, fbeta: 0.0\n"
     ]
    },
    {
     "name": "stderr",
     "output_type": "stream",
     "text": [
      "best_th: 0.1, fbeta: 0.04401231036641999\n",
      "Epoch 14 - avg_train_loss: 0.3605  avg_val_loss: 0.2286  time: 62s\n",
      "Epoch 14 - avgScore: 0.0440\n",
      "Epoch Progress:  93%|\u001b[37m█████████▎\u001b[0m| 14/15 [14:29<01:02, 62.05s/it]"
     ]
    },
    {
     "name": "stdout",
     "output_type": "stream",
     "text": [
      "th: 0.8, fbeta: 0.0\n"
     ]
    },
    {
     "name": "stderr",
     "output_type": "stream",
     "text": [
      "Train Steps Progress: 100%|\u001b[31m██████████\u001b[0m| 152/152 [00:45<00:00,  3.31it/s]\n",
      "Validation Steps Progress: 100%|\u001b[32m██████████\u001b[0m| 17/17 [00:02<00:00,  6.60it/s]\n"
     ]
    },
    {
     "name": "stdout",
     "output_type": "stream",
     "text": [
      "th: 0.1, fbeta: 0.013276586449687202\n",
      "th: 0.15, fbeta: 0.00016623797184922446\n",
      "th: 0.2, fbeta: 0.0\n",
      "th: 0.25, fbeta: 0.0\n",
      "th: 0.3, fbeta: 0.0\n",
      "th: 0.35, fbeta: 0.0\n",
      "th: 0.4, fbeta: 0.0\n",
      "th: 0.45, fbeta: 0.0\n",
      "th: 0.5, fbeta: 0.0\n",
      "th: 0.55, fbeta: 0.0\n",
      "th: 0.6, fbeta: 0.0\n",
      "th: 0.65, fbeta: 0.0\n",
      "th: 0.7, fbeta: 0.0\n",
      "th: 0.75, fbeta: 0.0\n"
     ]
    },
    {
     "name": "stderr",
     "output_type": "stream",
     "text": [
      "best_th: 0.1, fbeta: 0.013276586449687202\n",
      "Epoch 15 - avg_train_loss: 0.3599  avg_val_loss: 0.2385  time: 62s\n",
      "Epoch 15 - avgScore: 0.0133\n",
      "Epoch Progress: 100%|\u001b[37m██████████\u001b[0m| 15/15 [15:31<00:00, 62.10s/it]"
     ]
    },
    {
     "name": "stdout",
     "output_type": "stream",
     "text": [
      "th: 0.8, fbeta: 0.0\n"
     ]
    },
    {
     "name": "stderr",
     "output_type": "stream",
     "text": [
      "\n",
      "\u001b[34m\u001b[1mwandb\u001b[0m: Waiting for W&B process to finish... \u001b[32m(success).\u001b[0m\n",
      "\u001b[34m\u001b[1mwandb\u001b[0m: \n",
      "\u001b[34m\u001b[1mwandb\u001b[0m: Run history:\n",
      "\u001b[34m\u001b[1mwandb\u001b[0m:    Best_th ▁▁▁▁▁▁▁▁▁▁▁▁▁▁▁\n",
      "\u001b[34m\u001b[1mwandb\u001b[0m:      Epoch ▁▁▂▃▃▃▄▅▅▅▆▇▇▇█\n",
      "\u001b[34m\u001b[1mwandb\u001b[0m:      Score ▇▆▆▇█▃▄▃▄▃▅▃▄▅▁\n",
      "\u001b[34m\u001b[1mwandb\u001b[0m: Train_loss █▃▃▃▂▂▂▂▂▁▁▂▁▁▁\n",
      "\u001b[34m\u001b[1mwandb\u001b[0m:    Val_los ▇▄▄▆█▂▂▂▁▃▂▁▁▁▇\n",
      "\u001b[34m\u001b[1mwandb\u001b[0m: \n",
      "\u001b[34m\u001b[1mwandb\u001b[0m: Run summary:\n",
      "\u001b[34m\u001b[1mwandb\u001b[0m:    Best_th 0.1\n",
      "\u001b[34m\u001b[1mwandb\u001b[0m:      Epoch 15\n",
      "\u001b[34m\u001b[1mwandb\u001b[0m:      Score 0.01328\n",
      "\u001b[34m\u001b[1mwandb\u001b[0m: Train_loss 0.35986\n",
      "\u001b[34m\u001b[1mwandb\u001b[0m:    Val_los 0.23847\n",
      "\u001b[34m\u001b[1mwandb\u001b[0m: \n",
      "\u001b[34m\u001b[1mwandb\u001b[0m: 🚀 View run \u001b[33mPSPNet mit_b2 Fold1 freezeTrue 77175\u001b[0m at: \u001b[34m\u001b[4mhttps://wandb.ai/i-am-noob/Vesuvius%20Experiments%20PSPNet/runs/aw9oxurj\u001b[0m\n",
      "\u001b[34m\u001b[1mwandb\u001b[0m: Synced 6 W&B file(s), 0 media file(s), 0 artifact file(s) and 0 other file(s)\n",
      "\u001b[34m\u001b[1mwandb\u001b[0m: Find logs at: \u001b[35m\u001b[1m./wandb/run-20230602_180554-aw9oxurj/logs\u001b[0m\n"
     ]
    },
    {
     "name": "stdout",
     "output_type": "stream",
     "text": [
      "deleted items: memory GB:5.43\n",
      "pre inializing: memory GB:3.46\n"
     ]
    },
    {
     "name": "stderr",
     "output_type": "stream",
     "text": [
      "Image Slice Progress: 100%|\u001b[34m██████████\u001b[0m| 3/3 [00:00<00:00, 10.42it/s]\n",
      "Image Slice Progress: 100%|\u001b[34m██████████\u001b[0m| 3/3 [00:00<00:00,  5.49it/s]\n",
      "Image Slice Progress: 100%|\u001b[34m██████████\u001b[0m| 3/3 [00:00<00:00, 16.83it/s]\n"
     ]
    },
    {
     "name": "stdout",
     "output_type": "stream",
     "text": [
      "post inializing: memory GB:4.94\n",
      "Current fold --> 1\n"
     ]
    },
    {
     "name": "stderr",
     "output_type": "stream",
     "text": [
      "\u001b[34m\u001b[1mwandb\u001b[0m: Tracking run with wandb version 0.15.3\n",
      "\u001b[34m\u001b[1mwandb\u001b[0m: Run data is saved locally in \u001b[35m\u001b[1m/kaggle/working/wandb/run-20230602_182232-amw8opyl\u001b[0m\n",
      "\u001b[34m\u001b[1mwandb\u001b[0m: Run \u001b[1m`wandb offline`\u001b[0m to turn off syncing.\n",
      "\u001b[34m\u001b[1mwandb\u001b[0m: Syncing run \u001b[33mPSPNet mit_b3 Fold1 freezeTrue 47066\u001b[0m\n",
      "\u001b[34m\u001b[1mwandb\u001b[0m: ⭐️ View project at \u001b[34m\u001b[4mhttps://wandb.ai/i-am-noob/Vesuvius%20Experiments%20PSPNet\u001b[0m\n",
      "\u001b[34m\u001b[1mwandb\u001b[0m: 🚀 View run at \u001b[34m\u001b[4mhttps://wandb.ai/i-am-noob/Vesuvius%20Experiments%20PSPNet/runs/amw8opyl\u001b[0m\n"
     ]
    },
    {
     "name": "stdout",
     "output_type": "stream",
     "text": [
      "model_name PSPNet\n",
      "backbone mit_b3\n"
     ]
    },
    {
     "name": "stderr",
     "output_type": "stream",
     "text": [
      "Downloading: \"https://github.com/qubvel/segmentation_models.pytorch/releases/download/v0.0.2/mit_b3.pth\" to /root/.cache/torch/hub/checkpoints/mit_b3.pth\n"
     ]
    },
    {
     "data": {
      "application/vnd.jupyter.widget-view+json": {
       "model_id": "a7fc8f13e56846cd97abdbd24998f196",
       "version_major": 2,
       "version_minor": 0
      },
      "text/plain": [
       "  0%|          | 0.00/170M [00:00<?, ?B/s]"
      ]
     },
     "metadata": {},
     "output_type": "display_data"
    },
    {
     "name": "stderr",
     "output_type": "stream",
     "text": [
      "Validation Steps Progress: 100%|\u001b[32m██████████\u001b[0m| 17/17 [00:03<00:00,  4.40it/s]\n"
     ]
    },
    {
     "name": "stdout",
     "output_type": "stream",
     "text": [
      "th: 0.1, fbeta: 0.07159157168739244\n",
      "th: 0.15, fbeta: 0.07159157168739244\n",
      "th: 0.2, fbeta: 0.07159157168739244\n",
      "th: 0.25, fbeta: 0.07159157168739244\n",
      "th: 0.3, fbeta: 0.07159157168739244\n",
      "th: 0.35, fbeta: 0.07159157168739244\n",
      "th: 0.4, fbeta: 0.07159157168739244\n",
      "th: 0.45, fbeta: 0.07159157168739244\n",
      "th: 0.5, fbeta: 0.07138112502391163\n",
      "th: 0.55, fbeta: 0.0\n",
      "th: 0.6, fbeta: 0.0\n",
      "th: 0.65, fbeta: 0.0\n",
      "th: 0.7, fbeta: 0.0\n",
      "th: 0.75, fbeta: 0.0\n"
     ]
    },
    {
     "name": "stderr",
     "output_type": "stream",
     "text": [
      "best_th: 0.1, fbeta: 0.07159157168739244\n"
     ]
    },
    {
     "name": "stdout",
     "output_type": "stream",
     "text": [
      "th: 0.8, fbeta: 0.0\n",
      "Val_loss before training -->0.712808283781961, score --> 0.07159157168739244\n"
     ]
    },
    {
     "name": "stderr",
     "output_type": "stream",
     "text": [
      "Train Steps Progress: 100%|\u001b[31m██████████\u001b[0m| 152/152 [00:49<00:00,  3.07it/s]\n",
      "Validation Steps Progress: 100%|\u001b[32m██████████\u001b[0m| 17/17 [00:03<00:00,  4.92it/s]\n"
     ]
    },
    {
     "name": "stdout",
     "output_type": "stream",
     "text": [
      "th: 0.1, fbeta: 0.08140212142821607\n",
      "th: 0.15, fbeta: 0.02884202965065476\n",
      "th: 0.2, fbeta: 0.00586562893258964\n",
      "th: 0.25, fbeta: 0.0005926311701056273\n",
      "th: 0.3, fbeta: 0.0001280618235377684\n",
      "th: 0.35, fbeta: 0.0\n",
      "th: 0.4, fbeta: 0.0\n",
      "th: 0.45, fbeta: 0.0\n",
      "th: 0.5, fbeta: 0.0\n",
      "th: 0.55, fbeta: 0.0\n",
      "th: 0.6, fbeta: 0.0\n",
      "th: 0.65, fbeta: 0.0\n",
      "th: 0.7, fbeta: 0.0\n",
      "th: 0.75, fbeta: 0.0\n"
     ]
    },
    {
     "name": "stderr",
     "output_type": "stream",
     "text": [
      "best_th: 0.1, fbeta: 0.08140212142821607\n",
      "Epoch 1 - avg_train_loss: 0.4161  avg_val_loss: 0.2351  time: 66s\n",
      "Epoch 1 - avgScore: 0.0814\n",
      "Epoch 1 - Save Best Score: 0.0814 Model\n",
      "Epoch 1 - Save Best Loss: 0.2351 Model\n"
     ]
    },
    {
     "name": "stdout",
     "output_type": "stream",
     "text": [
      "th: 0.8, fbeta: 0.0\n",
      "saving model: memory GB:5.63\n"
     ]
    },
    {
     "name": "stderr",
     "output_type": "stream",
     "text": [
      "Train Steps Progress: 100%|\u001b[31m██████████\u001b[0m| 152/152 [00:49<00:00,  3.07it/s]\n",
      "Validation Steps Progress: 100%|\u001b[32m██████████\u001b[0m| 17/17 [00:03<00:00,  4.96it/s]\n"
     ]
    },
    {
     "name": "stdout",
     "output_type": "stream",
     "text": [
      "th: 0.1, fbeta: 0.07159014264695307\n",
      "th: 0.15, fbeta: 0.051817722420526575\n",
      "th: 0.2, fbeta: 0.025706292110836446\n",
      "th: 0.25, fbeta: 0.0020779542722981262\n",
      "th: 0.3, fbeta: 1.1233582902198285e-05\n",
      "th: 0.35, fbeta: 0.0\n",
      "th: 0.4, fbeta: 0.0\n",
      "th: 0.45, fbeta: 0.0\n",
      "th: 0.5, fbeta: 0.0\n",
      "th: 0.55, fbeta: 0.0\n",
      "th: 0.6, fbeta: 0.0\n",
      "th: 0.65, fbeta: 0.0\n",
      "th: 0.7, fbeta: 0.0\n",
      "th: 0.75, fbeta: 0.0\n"
     ]
    },
    {
     "name": "stderr",
     "output_type": "stream",
     "text": [
      "best_th: 0.1, fbeta: 0.07159014264695307\n",
      "Epoch 2 - avg_train_loss: 0.3717  avg_val_loss: 0.2541  time: 67s\n",
      "Epoch 2 - avgScore: 0.0716\n",
      "Epoch Progress:  13%|\u001b[37m█▎        \u001b[0m| 2/15 [02:14<14:31, 67.08s/it]"
     ]
    },
    {
     "name": "stdout",
     "output_type": "stream",
     "text": [
      "th: 0.8, fbeta: 0.0\n"
     ]
    },
    {
     "name": "stderr",
     "output_type": "stream",
     "text": [
      "Train Steps Progress: 100%|\u001b[31m██████████\u001b[0m| 152/152 [00:49<00:00,  3.07it/s]\n",
      "Validation Steps Progress: 100%|\u001b[32m██████████\u001b[0m| 17/17 [00:03<00:00,  4.74it/s]\n"
     ]
    },
    {
     "name": "stdout",
     "output_type": "stream",
     "text": [
      "th: 0.1, fbeta: 0.07160234625777075\n",
      "th: 0.15, fbeta: 0.0625592989491482\n",
      "th: 0.2, fbeta: 0.01917763972954193\n",
      "th: 0.25, fbeta: 0.0011574826360258865\n",
      "th: 0.3, fbeta: 7.94999737200163e-05\n",
      "th: 0.35, fbeta: 0.0\n",
      "th: 0.4, fbeta: 0.0\n",
      "th: 0.45, fbeta: 0.0\n",
      "th: 0.5, fbeta: 0.0\n",
      "th: 0.55, fbeta: 0.0\n",
      "th: 0.6, fbeta: 0.0\n",
      "th: 0.65, fbeta: 0.0\n",
      "th: 0.7, fbeta: 0.0\n",
      "th: 0.75, fbeta: 0.0\n"
     ]
    },
    {
     "name": "stderr",
     "output_type": "stream",
     "text": [
      "best_th: 0.1, fbeta: 0.07160234625777075\n",
      "Epoch 3 - avg_train_loss: 0.3702  avg_val_loss: 0.2540  time: 67s\n",
      "Epoch 3 - avgScore: 0.0716\n",
      "Epoch Progress:  20%|\u001b[37m██        \u001b[0m| 3/15 [03:21<13:26, 67.18s/it]"
     ]
    },
    {
     "name": "stdout",
     "output_type": "stream",
     "text": [
      "th: 0.8, fbeta: 0.0\n"
     ]
    },
    {
     "name": "stderr",
     "output_type": "stream",
     "text": [
      "Train Steps Progress: 100%|\u001b[31m██████████\u001b[0m| 152/152 [00:49<00:00,  3.07it/s]\n",
      "Validation Steps Progress: 100%|\u001b[32m██████████\u001b[0m| 17/17 [00:03<00:00,  4.61it/s]\n"
     ]
    },
    {
     "name": "stdout",
     "output_type": "stream",
     "text": [
      "th: 0.1, fbeta: 0.07159157168739244\n",
      "th: 0.15, fbeta: 0.05151270887675369\n",
      "th: 0.2, fbeta: 0.01795541811210402\n",
      "th: 0.25, fbeta: 0.00045641136702371306\n",
      "th: 0.3, fbeta: 0.0\n",
      "th: 0.35, fbeta: 0.0\n",
      "th: 0.4, fbeta: 0.0\n",
      "th: 0.45, fbeta: 0.0\n",
      "th: 0.5, fbeta: 0.0\n",
      "th: 0.55, fbeta: 0.0\n",
      "th: 0.6, fbeta: 0.0\n",
      "th: 0.65, fbeta: 0.0\n",
      "th: 0.7, fbeta: 0.0\n",
      "th: 0.75, fbeta: 0.0\n"
     ]
    },
    {
     "name": "stderr",
     "output_type": "stream",
     "text": [
      "best_th: 0.1, fbeta: 0.07159157168739244\n",
      "Epoch 4 - avg_train_loss: 0.3616  avg_val_loss: 0.2506  time: 67s\n",
      "Epoch 4 - avgScore: 0.0716\n",
      "Epoch Progress:  27%|\u001b[37m██▋       \u001b[0m| 4/15 [04:28<12:20, 67.30s/it]"
     ]
    },
    {
     "name": "stdout",
     "output_type": "stream",
     "text": [
      "th: 0.8, fbeta: 0.0\n"
     ]
    },
    {
     "name": "stderr",
     "output_type": "stream",
     "text": [
      "Train Steps Progress: 100%|\u001b[31m██████████\u001b[0m| 152/152 [00:49<00:00,  3.07it/s]\n",
      "Validation Steps Progress: 100%|\u001b[32m██████████\u001b[0m| 17/17 [00:03<00:00,  4.82it/s]\n"
     ]
    },
    {
     "name": "stdout",
     "output_type": "stream",
     "text": [
      "th: 0.1, fbeta: 0.09054632088417833\n",
      "th: 0.15, fbeta: 0.03345241878906031\n",
      "th: 0.2, fbeta: 0.0044552264433206255\n",
      "th: 0.25, fbeta: 0.00023623791373378905\n",
      "th: 0.3, fbeta: 0.0\n",
      "th: 0.35, fbeta: 0.0\n",
      "th: 0.4, fbeta: 0.0\n",
      "th: 0.45, fbeta: 0.0\n",
      "th: 0.5, fbeta: 0.0\n",
      "th: 0.55, fbeta: 0.0\n",
      "th: 0.6, fbeta: 0.0\n",
      "th: 0.65, fbeta: 0.0\n",
      "th: 0.7, fbeta: 0.0\n",
      "th: 0.75, fbeta: 0.0\n"
     ]
    },
    {
     "name": "stderr",
     "output_type": "stream",
     "text": [
      "best_th: 0.1, fbeta: 0.09054632088417833\n",
      "Epoch 5 - avg_train_loss: 0.3618  avg_val_loss: 0.2371  time: 67s\n",
      "Epoch 5 - avgScore: 0.0905\n",
      "Epoch 5 - Save Best Score: 0.0905 Model\n",
      "Epoch 5 - Save Best Loss: 0.2371 Model\n"
     ]
    },
    {
     "name": "stdout",
     "output_type": "stream",
     "text": [
      "th: 0.8, fbeta: 0.0\n",
      "saving model: memory GB:5.64\n"
     ]
    },
    {
     "name": "stderr",
     "output_type": "stream",
     "text": [
      "Train Steps Progress: 100%|\u001b[31m██████████\u001b[0m| 152/152 [00:49<00:00,  3.05it/s]\n",
      "Validation Steps Progress: 100%|\u001b[32m██████████\u001b[0m| 17/17 [00:03<00:00,  5.05it/s]\n"
     ]
    },
    {
     "name": "stdout",
     "output_type": "stream",
     "text": [
      "th: 0.1, fbeta: 0.10486975000740052\n",
      "th: 0.15, fbeta: 0.029055409529685907\n",
      "th: 0.2, fbeta: 0.0034872216322161566\n",
      "th: 0.25, fbeta: 0.0003331793740806491\n",
      "th: 0.3, fbeta: 0.0\n",
      "th: 0.35, fbeta: 0.0\n",
      "th: 0.4, fbeta: 0.0\n",
      "th: 0.45, fbeta: 0.0\n",
      "th: 0.5, fbeta: 0.0\n",
      "th: 0.55, fbeta: 0.0\n",
      "th: 0.6, fbeta: 0.0\n",
      "th: 0.65, fbeta: 0.0\n",
      "th: 0.7, fbeta: 0.0\n",
      "th: 0.75, fbeta: 0.0\n"
     ]
    },
    {
     "name": "stderr",
     "output_type": "stream",
     "text": [
      "best_th: 0.1, fbeta: 0.10486975000740052\n",
      "Epoch 6 - avg_train_loss: 0.3631  avg_val_loss: 0.2317  time: 67s\n",
      "Epoch 6 - avgScore: 0.1049\n",
      "Epoch 6 - Save Best Score: 0.1049 Model\n",
      "Epoch 6 - Save Best Loss: 0.2317 Model\n"
     ]
    },
    {
     "name": "stdout",
     "output_type": "stream",
     "text": [
      "th: 0.8, fbeta: 0.0\n",
      "saving model: memory GB:5.64\n"
     ]
    },
    {
     "name": "stderr",
     "output_type": "stream",
     "text": [
      "Train Steps Progress: 100%|\u001b[31m██████████\u001b[0m| 152/152 [00:49<00:00,  3.06it/s]\n",
      "Validation Steps Progress: 100%|\u001b[32m██████████\u001b[0m| 17/17 [00:03<00:00,  4.95it/s]\n"
     ]
    },
    {
     "name": "stdout",
     "output_type": "stream",
     "text": [
      "th: 0.1, fbeta: 0.10702480375234343\n",
      "th: 0.15, fbeta: 0.03449065329673441\n",
      "th: 0.2, fbeta: 0.004353136155111671\n",
      "th: 0.25, fbeta: 0.00025136674132170703\n",
      "th: 0.3, fbeta: 0.0\n",
      "th: 0.35, fbeta: 0.0\n",
      "th: 0.4, fbeta: 0.0\n",
      "th: 0.45, fbeta: 0.0\n",
      "th: 0.5, fbeta: 0.0\n",
      "th: 0.55, fbeta: 0.0\n",
      "th: 0.6, fbeta: 0.0\n",
      "th: 0.65, fbeta: 0.0\n",
      "th: 0.7, fbeta: 0.0\n",
      "th: 0.75, fbeta: 0.0\n"
     ]
    },
    {
     "name": "stderr",
     "output_type": "stream",
     "text": [
      "best_th: 0.1, fbeta: 0.10702480375234343\n",
      "Epoch 7 - avg_train_loss: 0.3609  avg_val_loss: 0.2345  time: 67s\n",
      "Epoch 7 - avgScore: 0.1070\n",
      "Epoch 7 - Save Best Score: 0.1070 Model\n",
      "Epoch 7 - Save Best Loss: 0.2345 Model\n"
     ]
    },
    {
     "name": "stdout",
     "output_type": "stream",
     "text": [
      "th: 0.8, fbeta: 0.0\n",
      "saving model: memory GB:5.64\n"
     ]
    },
    {
     "name": "stderr",
     "output_type": "stream",
     "text": [
      "Train Steps Progress: 100%|\u001b[31m██████████\u001b[0m| 152/152 [00:49<00:00,  3.05it/s]\n",
      "Validation Steps Progress: 100%|\u001b[32m██████████\u001b[0m| 17/17 [00:03<00:00,  4.98it/s]\n"
     ]
    },
    {
     "name": "stdout",
     "output_type": "stream",
     "text": [
      "th: 0.1, fbeta: 0.07393464881081149\n",
      "th: 0.15, fbeta: 0.02414119140271178\n",
      "th: 0.2, fbeta: 0.0022810330905971266\n",
      "th: 0.25, fbeta: 0.0001244194832052335\n",
      "th: 0.3, fbeta: 0.0\n",
      "th: 0.35, fbeta: 0.0\n",
      "th: 0.4, fbeta: 0.0\n",
      "th: 0.45, fbeta: 0.0\n",
      "th: 0.5, fbeta: 0.0\n",
      "th: 0.55, fbeta: 0.0\n",
      "th: 0.6, fbeta: 0.0\n",
      "th: 0.65, fbeta: 0.0\n",
      "th: 0.7, fbeta: 0.0\n",
      "th: 0.75, fbeta: 0.0\n"
     ]
    },
    {
     "name": "stderr",
     "output_type": "stream",
     "text": [
      "best_th: 0.1, fbeta: 0.07393464881081149\n",
      "Epoch 8 - avg_train_loss: 0.3590  avg_val_loss: 0.2251  time: 67s\n",
      "Epoch 8 - avgScore: 0.0739\n",
      "Epoch Progress:  53%|\u001b[37m█████▎    \u001b[0m| 8/15 [08:59<07:52, 67.53s/it]"
     ]
    },
    {
     "name": "stdout",
     "output_type": "stream",
     "text": [
      "th: 0.8, fbeta: 0.0\n"
     ]
    },
    {
     "name": "stderr",
     "output_type": "stream",
     "text": [
      "Train Steps Progress: 100%|\u001b[31m██████████\u001b[0m| 152/152 [00:49<00:00,  3.06it/s]\n",
      "Validation Steps Progress: 100%|\u001b[32m██████████\u001b[0m| 17/17 [00:03<00:00,  4.88it/s]\n"
     ]
    },
    {
     "name": "stdout",
     "output_type": "stream",
     "text": [
      "th: 0.1, fbeta: 0.07530190477662796\n",
      "th: 0.15, fbeta: 0.06839474607323978\n",
      "th: 0.2, fbeta: 0.01922834813468094\n",
      "th: 0.25, fbeta: 0.0006981705194594384\n",
      "th: 0.3, fbeta: 0.0\n",
      "th: 0.35, fbeta: 0.0\n",
      "th: 0.4, fbeta: 0.0\n",
      "th: 0.45, fbeta: 0.0\n",
      "th: 0.5, fbeta: 0.0\n",
      "th: 0.55, fbeta: 0.0\n",
      "th: 0.6, fbeta: 0.0\n",
      "th: 0.65, fbeta: 0.0\n",
      "th: 0.7, fbeta: 0.0\n",
      "th: 0.75, fbeta: 0.0\n"
     ]
    },
    {
     "name": "stderr",
     "output_type": "stream",
     "text": [
      "best_th: 0.1, fbeta: 0.07530190477662796\n",
      "Epoch 9 - avg_train_loss: 0.3635  avg_val_loss: 0.2441  time: 67s\n",
      "Epoch 9 - avgScore: 0.0753\n",
      "Epoch Progress:  60%|\u001b[37m██████    \u001b[0m| 9/15 [10:06<06:44, 67.49s/it]"
     ]
    },
    {
     "name": "stdout",
     "output_type": "stream",
     "text": [
      "th: 0.8, fbeta: 0.0\n"
     ]
    },
    {
     "name": "stderr",
     "output_type": "stream",
     "text": [
      "Train Steps Progress: 100%|\u001b[31m██████████\u001b[0m| 152/152 [00:49<00:00,  3.07it/s]\n",
      "Validation Steps Progress: 100%|\u001b[32m██████████\u001b[0m| 17/17 [00:03<00:00,  5.00it/s]\n"
     ]
    },
    {
     "name": "stdout",
     "output_type": "stream",
     "text": [
      "th: 0.1, fbeta: 0.06316315043643084\n",
      "th: 0.15, fbeta: 0.02079211760991287\n",
      "th: 0.2, fbeta: 0.0013741865448476315\n",
      "th: 0.25, fbeta: 4.2122892376909754e-05\n",
      "th: 0.3, fbeta: 0.0\n",
      "th: 0.35, fbeta: 0.0\n",
      "th: 0.4, fbeta: 0.0\n",
      "th: 0.45, fbeta: 0.0\n",
      "th: 0.5, fbeta: 0.0\n",
      "th: 0.55, fbeta: 0.0\n",
      "th: 0.6, fbeta: 0.0\n",
      "th: 0.65, fbeta: 0.0\n",
      "th: 0.7, fbeta: 0.0\n",
      "th: 0.75, fbeta: 0.0\n"
     ]
    },
    {
     "name": "stderr",
     "output_type": "stream",
     "text": [
      "best_th: 0.1, fbeta: 0.06316315043643084\n",
      "Epoch 10 - avg_train_loss: 0.3552  avg_val_loss: 0.2240  time: 67s\n",
      "Epoch 10 - avgScore: 0.0632\n",
      "Epoch Progress:  67%|\u001b[37m██████▋   \u001b[0m| 10/15 [11:13<05:37, 67.43s/it]"
     ]
    },
    {
     "name": "stdout",
     "output_type": "stream",
     "text": [
      "th: 0.8, fbeta: 0.0\n"
     ]
    },
    {
     "name": "stderr",
     "output_type": "stream",
     "text": [
      "Train Steps Progress: 100%|\u001b[31m██████████\u001b[0m| 152/152 [00:49<00:00,  3.07it/s]\n",
      "Validation Steps Progress: 100%|\u001b[32m██████████\u001b[0m| 17/17 [00:03<00:00,  4.98it/s]\n"
     ]
    },
    {
     "name": "stdout",
     "output_type": "stream",
     "text": [
      "th: 0.1, fbeta: 0.09871105584425462\n",
      "th: 0.15, fbeta: 0.04146239908328368\n",
      "th: 0.2, fbeta: 0.01022324698752961\n",
      "th: 0.25, fbeta: 0.000428467143191906\n",
      "th: 0.3, fbeta: 0.0\n",
      "th: 0.35, fbeta: 0.0\n",
      "th: 0.4, fbeta: 0.0\n",
      "th: 0.45, fbeta: 0.0\n",
      "th: 0.5, fbeta: 0.0\n",
      "th: 0.55, fbeta: 0.0\n",
      "th: 0.6, fbeta: 0.0\n",
      "th: 0.65, fbeta: 0.0\n",
      "th: 0.7, fbeta: 0.0\n",
      "th: 0.75, fbeta: 0.0\n"
     ]
    },
    {
     "name": "stderr",
     "output_type": "stream",
     "text": [
      "best_th: 0.1, fbeta: 0.09871105584425462\n",
      "Epoch 11 - avg_train_loss: 0.3578  avg_val_loss: 0.2262  time: 67s\n",
      "Epoch 11 - avgScore: 0.0987\n",
      "Epoch Progress:  73%|\u001b[37m███████▎  \u001b[0m| 11/15 [12:20<04:29, 67.30s/it]"
     ]
    },
    {
     "name": "stdout",
     "output_type": "stream",
     "text": [
      "th: 0.8, fbeta: 0.0\n"
     ]
    },
    {
     "name": "stderr",
     "output_type": "stream",
     "text": [
      "Train Steps Progress: 100%|\u001b[31m██████████\u001b[0m| 152/152 [00:49<00:00,  3.07it/s]\n",
      "Validation Steps Progress: 100%|\u001b[32m██████████\u001b[0m| 17/17 [00:03<00:00,  4.65it/s]\n"
     ]
    },
    {
     "name": "stdout",
     "output_type": "stream",
     "text": [
      "th: 0.1, fbeta: 0.08845934610928834\n",
      "th: 0.15, fbeta: 0.027376781817795178\n",
      "th: 0.2, fbeta: 0.005324105144804775\n",
      "th: 0.25, fbeta: 2.621031528130204e-05\n",
      "th: 0.3, fbeta: 0.0\n",
      "th: 0.35, fbeta: 0.0\n",
      "th: 0.4, fbeta: 0.0\n",
      "th: 0.45, fbeta: 0.0\n",
      "th: 0.5, fbeta: 0.0\n",
      "th: 0.55, fbeta: 0.0\n",
      "th: 0.6, fbeta: 0.0\n",
      "th: 0.65, fbeta: 0.0\n",
      "th: 0.7, fbeta: 0.0\n",
      "th: 0.75, fbeta: 0.0\n"
     ]
    },
    {
     "name": "stderr",
     "output_type": "stream",
     "text": [
      "best_th: 0.1, fbeta: 0.08845934610928834\n",
      "Epoch 12 - avg_train_loss: 0.3509  avg_val_loss: 0.2283  time: 67s\n",
      "Epoch 12 - avgScore: 0.0885\n",
      "Epoch Progress:  80%|\u001b[37m████████  \u001b[0m| 12/15 [13:27<03:21, 67.21s/it]"
     ]
    },
    {
     "name": "stdout",
     "output_type": "stream",
     "text": [
      "th: 0.8, fbeta: 0.0\n"
     ]
    },
    {
     "name": "stderr",
     "output_type": "stream",
     "text": [
      "Train Steps Progress: 100%|\u001b[31m██████████\u001b[0m| 152/152 [00:49<00:00,  3.06it/s]\n",
      "Validation Steps Progress: 100%|\u001b[32m██████████\u001b[0m| 17/17 [00:03<00:00,  4.80it/s]\n"
     ]
    },
    {
     "name": "stdout",
     "output_type": "stream",
     "text": [
      "th: 0.1, fbeta: 0.08681155326377162\n",
      "th: 0.15, fbeta: 0.0452822150160556\n",
      "th: 0.2, fbeta: 0.004690747743969259\n",
      "th: 0.25, fbeta: 3.648547300656952e-05\n",
      "th: 0.3, fbeta: 0.0\n",
      "th: 0.35, fbeta: 0.0\n",
      "th: 0.4, fbeta: 0.0\n",
      "th: 0.45, fbeta: 0.0\n",
      "th: 0.5, fbeta: 0.0\n",
      "th: 0.55, fbeta: 0.0\n",
      "th: 0.6, fbeta: 0.0\n",
      "th: 0.65, fbeta: 0.0\n",
      "th: 0.7, fbeta: 0.0\n",
      "th: 0.75, fbeta: 0.0\n"
     ]
    },
    {
     "name": "stderr",
     "output_type": "stream",
     "text": [
      "best_th: 0.1, fbeta: 0.08681155326377162\n",
      "Epoch 13 - avg_train_loss: 0.3552  avg_val_loss: 0.2392  time: 67s\n",
      "Epoch 13 - avgScore: 0.0868\n",
      "Epoch Progress:  87%|\u001b[37m████████▋ \u001b[0m| 13/15 [14:34<02:14, 67.04s/it]"
     ]
    },
    {
     "name": "stdout",
     "output_type": "stream",
     "text": [
      "th: 0.8, fbeta: 0.0\n"
     ]
    },
    {
     "name": "stderr",
     "output_type": "stream",
     "text": [
      "Train Steps Progress: 100%|\u001b[31m██████████\u001b[0m| 152/152 [00:49<00:00,  3.05it/s]\n",
      "Validation Steps Progress: 100%|\u001b[32m██████████\u001b[0m| 17/17 [00:03<00:00,  4.95it/s]\n"
     ]
    },
    {
     "name": "stdout",
     "output_type": "stream",
     "text": [
      "th: 0.1, fbeta: 0.0686669367882835\n",
      "th: 0.15, fbeta: 0.017958743120312898\n",
      "th: 0.2, fbeta: 0.0007783774117079987\n",
      "th: 0.25, fbeta: 0.0\n",
      "th: 0.3, fbeta: 0.0\n",
      "th: 0.35, fbeta: 0.0\n",
      "th: 0.4, fbeta: 0.0\n",
      "th: 0.45, fbeta: 0.0\n",
      "th: 0.5, fbeta: 0.0\n",
      "th: 0.55, fbeta: 0.0\n",
      "th: 0.6, fbeta: 0.0\n",
      "th: 0.65, fbeta: 0.0\n",
      "th: 0.7, fbeta: 0.0\n",
      "th: 0.75, fbeta: 0.0\n"
     ]
    },
    {
     "name": "stderr",
     "output_type": "stream",
     "text": [
      "best_th: 0.1, fbeta: 0.0686669367882835\n",
      "Epoch 14 - avg_train_loss: 0.3522  avg_val_loss: 0.2265  time: 67s\n",
      "Epoch 14 - avgScore: 0.0687\n",
      "Epoch Progress:  93%|\u001b[37m█████████▎\u001b[0m| 14/15 [15:41<01:07, 67.11s/it]"
     ]
    },
    {
     "name": "stdout",
     "output_type": "stream",
     "text": [
      "th: 0.8, fbeta: 0.0\n"
     ]
    },
    {
     "name": "stderr",
     "output_type": "stream",
     "text": [
      "Train Steps Progress: 100%|\u001b[31m██████████\u001b[0m| 152/152 [00:49<00:00,  3.05it/s]\n",
      "Validation Steps Progress: 100%|\u001b[32m██████████\u001b[0m| 17/17 [00:03<00:00,  5.01it/s]\n"
     ]
    },
    {
     "name": "stdout",
     "output_type": "stream",
     "text": [
      "th: 0.1, fbeta: 0.11123311260227253\n",
      "th: 0.15, fbeta: 0.024425334114919137\n",
      "th: 0.2, fbeta: 0.00137715322688147\n",
      "th: 0.25, fbeta: 9.362888576777815e-07\n",
      "th: 0.3, fbeta: 0.0\n",
      "th: 0.35, fbeta: 0.0\n",
      "th: 0.4, fbeta: 0.0\n",
      "th: 0.45, fbeta: 0.0\n",
      "th: 0.5, fbeta: 0.0\n",
      "th: 0.55, fbeta: 0.0\n",
      "th: 0.6, fbeta: 0.0\n",
      "th: 0.65, fbeta: 0.0\n",
      "th: 0.7, fbeta: 0.0\n",
      "th: 0.75, fbeta: 0.0\n"
     ]
    },
    {
     "name": "stderr",
     "output_type": "stream",
     "text": [
      "best_th: 0.1, fbeta: 0.11123311260227253\n",
      "Epoch 15 - avg_train_loss: 0.3546  avg_val_loss: 0.2274  time: 67s\n",
      "Epoch 15 - avgScore: 0.1112\n",
      "Epoch 15 - Save Best Score: 0.1112 Model\n",
      "Epoch 15 - Save Best Loss: 0.2274 Model\n"
     ]
    },
    {
     "name": "stdout",
     "output_type": "stream",
     "text": [
      "th: 0.8, fbeta: 0.0\n",
      "saving model: memory GB:5.64\n"
     ]
    },
    {
     "name": "stderr",
     "output_type": "stream",
     "text": [
      "Epoch Progress: 100%|\u001b[37m██████████\u001b[0m| 15/15 [16:49<00:00, 67.27s/it]\n",
      "\u001b[34m\u001b[1mwandb\u001b[0m: Waiting for W&B process to finish... \u001b[32m(success).\u001b[0m\n",
      "\u001b[34m\u001b[1mwandb\u001b[0m: \n",
      "\u001b[34m\u001b[1mwandb\u001b[0m: Run history:\n",
      "\u001b[34m\u001b[1mwandb\u001b[0m:     Best_Score ▁▃▇▇█\n",
      "\u001b[34m\u001b[1mwandb\u001b[0m:      Best_loss █▂▂▂▁\n",
      "\u001b[34m\u001b[1mwandb\u001b[0m:        Best_th ▁▁▁▁▁▁▁▁▁▁▁▁▁▁▁\n",
      "\u001b[34m\u001b[1mwandb\u001b[0m: Best_threshold ▁▁▁▁▁\n",
      "\u001b[34m\u001b[1mwandb\u001b[0m:          Epoch ▁▁▂▃▃▃▄▅▅▅▆▇▇▇█\n",
      "\u001b[34m\u001b[1mwandb\u001b[0m:     Epoch_best ▁▃▃▄█\n",
      "\u001b[34m\u001b[1mwandb\u001b[0m:          Score ▄▂▂▂▅▇▇▃▃▁▆▅▄▂█\n",
      "\u001b[34m\u001b[1mwandb\u001b[0m:     Train_loss █▃▃▂▂▂▂▂▂▁▂▁▁▁▁\n",
      "\u001b[34m\u001b[1mwandb\u001b[0m:        Val_los ▄██▇▄▃▃▁▆▁▂▂▅▂▂\n",
      "\u001b[34m\u001b[1mwandb\u001b[0m: \n",
      "\u001b[34m\u001b[1mwandb\u001b[0m: Run summary:\n",
      "\u001b[34m\u001b[1mwandb\u001b[0m:     Best_Score 0.11123\n",
      "\u001b[34m\u001b[1mwandb\u001b[0m:      Best_loss 0.35464\n",
      "\u001b[34m\u001b[1mwandb\u001b[0m:        Best_th 0.1\n",
      "\u001b[34m\u001b[1mwandb\u001b[0m: Best_threshold 0.1\n",
      "\u001b[34m\u001b[1mwandb\u001b[0m:          Epoch 15\n",
      "\u001b[34m\u001b[1mwandb\u001b[0m:     Epoch_best 15\n",
      "\u001b[34m\u001b[1mwandb\u001b[0m:          Score 0.11123\n",
      "\u001b[34m\u001b[1mwandb\u001b[0m:     Train_loss 0.35464\n",
      "\u001b[34m\u001b[1mwandb\u001b[0m:        Val_los 0.22741\n",
      "\u001b[34m\u001b[1mwandb\u001b[0m: \n",
      "\u001b[34m\u001b[1mwandb\u001b[0m: 🚀 View run \u001b[33mPSPNet mit_b3 Fold1 freezeTrue 47066\u001b[0m at: \u001b[34m\u001b[4mhttps://wandb.ai/i-am-noob/Vesuvius%20Experiments%20PSPNet/runs/amw8opyl\u001b[0m\n",
      "\u001b[34m\u001b[1mwandb\u001b[0m: Synced 6 W&B file(s), 0 media file(s), 0 artifact file(s) and 0 other file(s)\n",
      "\u001b[34m\u001b[1mwandb\u001b[0m: Find logs at: \u001b[35m\u001b[1m./wandb/run-20230602_182232-amw8opyl/logs\u001b[0m\n"
     ]
    },
    {
     "name": "stdout",
     "output_type": "stream",
     "text": [
      "deleted items: memory GB:5.58\n",
      "pre inializing: memory GB:3.53\n"
     ]
    },
    {
     "name": "stderr",
     "output_type": "stream",
     "text": [
      "Image Slice Progress: 100%|\u001b[34m██████████\u001b[0m| 3/3 [00:02<00:00,  1.12it/s]\n",
      "Image Slice Progress: 100%|\u001b[34m██████████\u001b[0m| 3/3 [00:06<00:00,  2.31s/it]\n",
      "Image Slice Progress: 100%|\u001b[34m██████████\u001b[0m| 3/3 [00:01<00:00,  1.62it/s]\n"
     ]
    },
    {
     "name": "stdout",
     "output_type": "stream",
     "text": [
      "post inializing: memory GB:5.01\n",
      "Current fold --> 1\n"
     ]
    },
    {
     "name": "stderr",
     "output_type": "stream",
     "text": [
      "\u001b[34m\u001b[1mwandb\u001b[0m: Tracking run with wandb version 0.15.3\n",
      "\u001b[34m\u001b[1mwandb\u001b[0m: Run data is saved locally in \u001b[35m\u001b[1m/kaggle/working/wandb/run-20230602_184040-styd0ypq\u001b[0m\n",
      "\u001b[34m\u001b[1mwandb\u001b[0m: Run \u001b[1m`wandb offline`\u001b[0m to turn off syncing.\n",
      "\u001b[34m\u001b[1mwandb\u001b[0m: Syncing run \u001b[33mPSPNet mit_b4 Fold1 freezeTrue 37177\u001b[0m\n",
      "\u001b[34m\u001b[1mwandb\u001b[0m: ⭐️ View project at \u001b[34m\u001b[4mhttps://wandb.ai/i-am-noob/Vesuvius%20Experiments%20PSPNet\u001b[0m\n",
      "\u001b[34m\u001b[1mwandb\u001b[0m: 🚀 View run at \u001b[34m\u001b[4mhttps://wandb.ai/i-am-noob/Vesuvius%20Experiments%20PSPNet/runs/styd0ypq\u001b[0m\n"
     ]
    },
    {
     "name": "stdout",
     "output_type": "stream",
     "text": [
      "model_name PSPNet\n",
      "backbone mit_b4\n"
     ]
    },
    {
     "name": "stderr",
     "output_type": "stream",
     "text": [
      "Downloading: \"https://github.com/qubvel/segmentation_models.pytorch/releases/download/v0.0.2/mit_b4.pth\" to /root/.cache/torch/hub/checkpoints/mit_b4.pth\n"
     ]
    },
    {
     "data": {
      "application/vnd.jupyter.widget-view+json": {
       "model_id": "25122aff8be24b0f930e126166221626",
       "version_major": 2,
       "version_minor": 0
      },
      "text/plain": [
       "  0%|          | 0.00/234M [00:00<?, ?B/s]"
      ]
     },
     "metadata": {},
     "output_type": "display_data"
    },
    {
     "name": "stderr",
     "output_type": "stream",
     "text": [
      "Validation Steps Progress: 100%|\u001b[32m██████████\u001b[0m| 17/17 [00:04<00:00,  3.46it/s]\n"
     ]
    },
    {
     "name": "stdout",
     "output_type": "stream",
     "text": [
      "th: 0.1, fbeta: 0.07159157168739244\n",
      "th: 0.15, fbeta: 0.07159157168739244\n",
      "th: 0.2, fbeta: 0.07159157168739244\n",
      "th: 0.25, fbeta: 0.07159157168739244\n",
      "th: 0.3, fbeta: 0.07159157168739244\n",
      "th: 0.35, fbeta: 0.07159157168739244\n",
      "th: 0.4, fbeta: 0.07159157168739244\n",
      "th: 0.45, fbeta: 0.07159157168739244\n",
      "th: 0.5, fbeta: 0.03441865465387214\n",
      "th: 0.55, fbeta: 0.0\n",
      "th: 0.6, fbeta: 0.0\n",
      "th: 0.65, fbeta: 0.0\n",
      "th: 0.7, fbeta: 0.0\n",
      "th: 0.75, fbeta: 0.0\n"
     ]
    },
    {
     "name": "stderr",
     "output_type": "stream",
     "text": [
      "best_th: 0.1, fbeta: 0.07159157168739244\n"
     ]
    },
    {
     "name": "stdout",
     "output_type": "stream",
     "text": [
      "th: 0.8, fbeta: 0.0\n",
      "Val_loss before training -->0.6739824180921509, score --> 0.07159157168739244\n"
     ]
    },
    {
     "name": "stderr",
     "output_type": "stream",
     "text": [
      "Train Steps Progress: 100%|\u001b[31m██████████\u001b[0m| 152/152 [00:55<00:00,  2.73it/s]\n",
      "Validation Steps Progress: 100%|\u001b[32m██████████\u001b[0m| 17/17 [00:04<00:00,  4.00it/s]\n"
     ]
    },
    {
     "name": "stdout",
     "output_type": "stream",
     "text": [
      "th: 0.1, fbeta: 0.04893723067521911\n",
      "th: 0.15, fbeta: 0.012915316822179133\n",
      "th: 0.2, fbeta: 0.00017390094416328363\n",
      "th: 0.25, fbeta: 1.8726109539140471e-06\n",
      "th: 0.3, fbeta: 0.0\n",
      "th: 0.35, fbeta: 0.0\n",
      "th: 0.4, fbeta: 0.0\n",
      "th: 0.45, fbeta: 0.0\n",
      "th: 0.5, fbeta: 0.0\n",
      "th: 0.55, fbeta: 0.0\n",
      "th: 0.6, fbeta: 0.0\n",
      "th: 0.65, fbeta: 0.0\n",
      "th: 0.7, fbeta: 0.0\n",
      "th: 0.75, fbeta: 0.0\n"
     ]
    },
    {
     "name": "stderr",
     "output_type": "stream",
     "text": [
      "best_th: 0.1, fbeta: 0.04893723067521911\n",
      "Epoch 1 - avg_train_loss: 0.4098  avg_val_loss: 0.2244  time: 73s\n",
      "Epoch 1 - avgScore: 0.0489\n",
      "Epoch Progress:   7%|\u001b[37m▋         \u001b[0m| 1/15 [01:13<17:07, 73.39s/it]"
     ]
    },
    {
     "name": "stdout",
     "output_type": "stream",
     "text": [
      "th: 0.8, fbeta: 0.0\n"
     ]
    },
    {
     "name": "stderr",
     "output_type": "stream",
     "text": [
      "Train Steps Progress: 100%|\u001b[31m██████████\u001b[0m| 152/152 [00:54<00:00,  2.77it/s]\n",
      "Validation Steps Progress: 100%|\u001b[32m██████████\u001b[0m| 17/17 [00:04<00:00,  3.87it/s]\n"
     ]
    },
    {
     "name": "stdout",
     "output_type": "stream",
     "text": [
      "th: 0.1, fbeta: 0.10453276543075832\n",
      "th: 0.15, fbeta: 0.028348512765932206\n",
      "th: 0.2, fbeta: 0.0008498279819545218\n",
      "th: 0.25, fbeta: 2.6212141231849284e-05\n",
      "th: 0.3, fbeta: 0.0\n",
      "th: 0.35, fbeta: 0.0\n",
      "th: 0.4, fbeta: 0.0\n",
      "th: 0.45, fbeta: 0.0\n",
      "th: 0.5, fbeta: 0.0\n",
      "th: 0.55, fbeta: 0.0\n",
      "th: 0.6, fbeta: 0.0\n",
      "th: 0.65, fbeta: 0.0\n",
      "th: 0.7, fbeta: 0.0\n",
      "th: 0.75, fbeta: 0.0\n"
     ]
    },
    {
     "name": "stderr",
     "output_type": "stream",
     "text": [
      "best_th: 0.1, fbeta: 0.10453276543075832\n",
      "Epoch 2 - avg_train_loss: 0.3735  avg_val_loss: 0.2290  time: 73s\n",
      "Epoch 2 - avgScore: 0.1045\n",
      "Epoch 2 - Save Best Score: 0.1045 Model\n",
      "Epoch 2 - Save Best Loss: 0.2290 Model\n"
     ]
    },
    {
     "name": "stdout",
     "output_type": "stream",
     "text": [
      "th: 0.8, fbeta: 0.0\n",
      "saving model: memory GB:5.75\n"
     ]
    },
    {
     "name": "stderr",
     "output_type": "stream",
     "text": [
      "Train Steps Progress: 100%|\u001b[31m██████████\u001b[0m| 152/152 [00:54<00:00,  2.77it/s]\n",
      "Validation Steps Progress: 100%|\u001b[32m██████████\u001b[0m| 17/17 [00:04<00:00,  3.87it/s]\n"
     ]
    },
    {
     "name": "stdout",
     "output_type": "stream",
     "text": [
      "th: 0.1, fbeta: 0.07343561017767086\n",
      "th: 0.15, fbeta: 0.017051039472232854\n",
      "th: 0.2, fbeta: 0.00022421903945735392\n",
      "th: 0.25, fbeta: 5.617940571615316e-06\n",
      "th: 0.3, fbeta: 0.0\n",
      "th: 0.35, fbeta: 0.0\n",
      "th: 0.4, fbeta: 0.0\n",
      "th: 0.45, fbeta: 0.0\n",
      "th: 0.5, fbeta: 0.0\n",
      "th: 0.55, fbeta: 0.0\n",
      "th: 0.6, fbeta: 0.0\n",
      "th: 0.65, fbeta: 0.0\n",
      "th: 0.7, fbeta: 0.0\n",
      "th: 0.75, fbeta: 0.0\n"
     ]
    },
    {
     "name": "stderr",
     "output_type": "stream",
     "text": [
      "best_th: 0.1, fbeta: 0.07343561017767086\n",
      "Epoch 3 - avg_train_loss: 0.3652  avg_val_loss: 0.2264  time: 74s\n",
      "Epoch 3 - avgScore: 0.0734\n",
      "Epoch Progress:  20%|\u001b[37m██        \u001b[0m| 3/15 [03:40<14:43, 73.61s/it]"
     ]
    },
    {
     "name": "stdout",
     "output_type": "stream",
     "text": [
      "th: 0.8, fbeta: 0.0\n"
     ]
    },
    {
     "name": "stderr",
     "output_type": "stream",
     "text": [
      "Train Steps Progress: 100%|\u001b[31m██████████\u001b[0m| 152/152 [00:54<00:00,  2.76it/s]\n",
      "Validation Steps Progress: 100%|\u001b[32m██████████\u001b[0m| 17/17 [00:04<00:00,  3.92it/s]\n"
     ]
    },
    {
     "name": "stdout",
     "output_type": "stream",
     "text": [
      "th: 0.1, fbeta: 0.09550719137620942\n",
      "th: 0.15, fbeta: 0.01782593975080463\n",
      "th: 0.2, fbeta: 0.000296088927890588\n",
      "th: 0.25, fbeta: 4.68159294984114e-06\n",
      "th: 0.3, fbeta: 0.0\n",
      "th: 0.35, fbeta: 0.0\n",
      "th: 0.4, fbeta: 0.0\n",
      "th: 0.45, fbeta: 0.0\n",
      "th: 0.5, fbeta: 0.0\n",
      "th: 0.55, fbeta: 0.0\n",
      "th: 0.6, fbeta: 0.0\n",
      "th: 0.65, fbeta: 0.0\n",
      "th: 0.7, fbeta: 0.0\n",
      "th: 0.75, fbeta: 0.0\n"
     ]
    },
    {
     "name": "stderr",
     "output_type": "stream",
     "text": [
      "best_th: 0.1, fbeta: 0.09550719137620942\n",
      "Epoch 4 - avg_train_loss: 0.3622  avg_val_loss: 0.2260  time: 74s\n",
      "Epoch 4 - avgScore: 0.0955\n",
      "Epoch Progress:  27%|\u001b[37m██▋       \u001b[0m| 4/15 [04:54<13:29, 73.61s/it]"
     ]
    },
    {
     "name": "stdout",
     "output_type": "stream",
     "text": [
      "th: 0.8, fbeta: 0.0\n"
     ]
    },
    {
     "name": "stderr",
     "output_type": "stream",
     "text": [
      "Train Steps Progress: 100%|\u001b[31m██████████\u001b[0m| 152/152 [00:54<00:00,  2.77it/s]\n",
      "Validation Steps Progress: 100%|\u001b[32m██████████\u001b[0m| 17/17 [00:04<00:00,  3.81it/s]\n"
     ]
    },
    {
     "name": "stdout",
     "output_type": "stream",
     "text": [
      "th: 0.1, fbeta: 0.08592044754598616\n",
      "th: 0.15, fbeta: 0.010224123267296978\n",
      "th: 0.2, fbeta: 0.0001636382275202253\n",
      "th: 0.25, fbeta: 4.681388185802268e-06\n",
      "th: 0.3, fbeta: 0.0\n",
      "th: 0.35, fbeta: 0.0\n",
      "th: 0.4, fbeta: 0.0\n",
      "th: 0.45, fbeta: 0.0\n",
      "th: 0.5, fbeta: 0.0\n",
      "th: 0.55, fbeta: 0.0\n",
      "th: 0.6, fbeta: 0.0\n",
      "th: 0.65, fbeta: 0.0\n",
      "th: 0.7, fbeta: 0.0\n",
      "th: 0.75, fbeta: 0.0\n"
     ]
    },
    {
     "name": "stderr",
     "output_type": "stream",
     "text": [
      "best_th: 0.1, fbeta: 0.08592044754598616\n",
      "Epoch 5 - avg_train_loss: 0.3591  avg_val_loss: 0.2209  time: 73s\n",
      "Epoch 5 - avgScore: 0.0859\n",
      "Epoch Progress:  33%|\u001b[37m███▎      \u001b[0m| 5/15 [06:07<12:15, 73.57s/it]"
     ]
    },
    {
     "name": "stdout",
     "output_type": "stream",
     "text": [
      "th: 0.8, fbeta: 0.0\n"
     ]
    },
    {
     "name": "stderr",
     "output_type": "stream",
     "text": [
      "Train Steps Progress: 100%|\u001b[31m██████████\u001b[0m| 152/152 [00:55<00:00,  2.76it/s]\n",
      "Validation Steps Progress: 100%|\u001b[32m██████████\u001b[0m| 17/17 [00:04<00:00,  3.80it/s]\n"
     ]
    },
    {
     "name": "stdout",
     "output_type": "stream",
     "text": [
      "th: 0.1, fbeta: 0.03761581961366538\n",
      "th: 0.15, fbeta: 0.00042357195630205374\n",
      "th: 0.2, fbeta: 9.362591659613065e-06\n",
      "th: 0.25, fbeta: 0.0\n",
      "th: 0.3, fbeta: 0.0\n",
      "th: 0.35, fbeta: 0.0\n",
      "th: 0.4, fbeta: 0.0\n",
      "th: 0.45, fbeta: 0.0\n",
      "th: 0.5, fbeta: 0.0\n",
      "th: 0.55, fbeta: 0.0\n",
      "th: 0.6, fbeta: 0.0\n",
      "th: 0.65, fbeta: 0.0\n",
      "th: 0.7, fbeta: 0.0\n",
      "th: 0.75, fbeta: 0.0\n"
     ]
    },
    {
     "name": "stderr",
     "output_type": "stream",
     "text": [
      "best_th: 0.1, fbeta: 0.03761581961366538\n",
      "Epoch 6 - avg_train_loss: 0.3606  avg_val_loss: 0.2190  time: 74s\n",
      "Epoch 6 - avgScore: 0.0376\n",
      "Epoch Progress:  40%|\u001b[37m████      \u001b[0m| 6/15 [07:21<11:02, 73.60s/it]"
     ]
    },
    {
     "name": "stdout",
     "output_type": "stream",
     "text": [
      "th: 0.8, fbeta: 0.0\n"
     ]
    },
    {
     "name": "stderr",
     "output_type": "stream",
     "text": [
      "Train Steps Progress: 100%|\u001b[31m██████████\u001b[0m| 152/152 [00:55<00:00,  2.75it/s]\n",
      "Validation Steps Progress: 100%|\u001b[32m██████████\u001b[0m| 17/17 [00:04<00:00,  3.94it/s]\n"
     ]
    },
    {
     "name": "stdout",
     "output_type": "stream",
     "text": [
      "th: 0.1, fbeta: 0.03796096875356045\n",
      "th: 0.15, fbeta: 0.0004466183337052722\n",
      "th: 0.2, fbeta: 9.362769485893325e-06\n",
      "th: 0.25, fbeta: 0.0\n",
      "th: 0.3, fbeta: 0.0\n",
      "th: 0.35, fbeta: 0.0\n",
      "th: 0.4, fbeta: 0.0\n",
      "th: 0.45, fbeta: 0.0\n",
      "th: 0.5, fbeta: 0.0\n",
      "th: 0.55, fbeta: 0.0\n",
      "th: 0.6, fbeta: 0.0\n",
      "th: 0.65, fbeta: 0.0\n",
      "th: 0.7, fbeta: 0.0\n",
      "th: 0.75, fbeta: 0.0\n"
     ]
    },
    {
     "name": "stderr",
     "output_type": "stream",
     "text": [
      "best_th: 0.1, fbeta: 0.03796096875356045\n",
      "Epoch 7 - avg_train_loss: 0.3578  avg_val_loss: 0.2185  time: 74s\n",
      "Epoch 7 - avgScore: 0.0380\n",
      "Epoch Progress:  47%|\u001b[37m████▋     \u001b[0m| 7/15 [08:35<09:49, 73.67s/it]"
     ]
    },
    {
     "name": "stdout",
     "output_type": "stream",
     "text": [
      "th: 0.8, fbeta: 0.0\n"
     ]
    },
    {
     "name": "stderr",
     "output_type": "stream",
     "text": [
      "Train Steps Progress: 100%|\u001b[31m██████████\u001b[0m| 152/152 [00:54<00:00,  2.77it/s]\n",
      "Validation Steps Progress: 100%|\u001b[32m██████████\u001b[0m| 17/17 [00:04<00:00,  3.88it/s]\n"
     ]
    },
    {
     "name": "stdout",
     "output_type": "stream",
     "text": [
      "th: 0.1, fbeta: 0.02052515135515697\n",
      "th: 0.15, fbeta: 0.00011223811556240134\n",
      "th: 0.2, fbeta: 0.0\n",
      "th: 0.25, fbeta: 0.0\n",
      "th: 0.3, fbeta: 0.0\n",
      "th: 0.35, fbeta: 0.0\n",
      "th: 0.4, fbeta: 0.0\n",
      "th: 0.45, fbeta: 0.0\n",
      "th: 0.5, fbeta: 0.0\n",
      "th: 0.55, fbeta: 0.0\n",
      "th: 0.6, fbeta: 0.0\n",
      "th: 0.65, fbeta: 0.0\n",
      "th: 0.7, fbeta: 0.0\n",
      "th: 0.75, fbeta: 0.0\n"
     ]
    },
    {
     "name": "stderr",
     "output_type": "stream",
     "text": [
      "best_th: 0.1, fbeta: 0.02052515135515697\n",
      "Epoch 8 - avg_train_loss: 0.3596  avg_val_loss: 0.2184  time: 73s\n",
      "Epoch 8 - avgScore: 0.0205\n",
      "Epoch Progress:  53%|\u001b[37m█████▎    \u001b[0m| 8/15 [09:48<08:34, 73.52s/it]"
     ]
    },
    {
     "name": "stdout",
     "output_type": "stream",
     "text": [
      "th: 0.8, fbeta: 0.0\n"
     ]
    },
    {
     "name": "stderr",
     "output_type": "stream",
     "text": [
      "Train Steps Progress: 100%|\u001b[31m██████████\u001b[0m| 152/152 [00:55<00:00,  2.76it/s]\n",
      "Validation Steps Progress: 100%|\u001b[32m██████████\u001b[0m| 17/17 [00:04<00:00,  3.89it/s]\n"
     ]
    },
    {
     "name": "stdout",
     "output_type": "stream",
     "text": [
      "th: 0.1, fbeta: 0.09767160392933735\n",
      "th: 0.15, fbeta: 0.004678635111912334\n",
      "th: 0.2, fbeta: 2.2401320111168253e-05\n",
      "th: 0.25, fbeta: 0.0\n",
      "th: 0.3, fbeta: 0.0\n",
      "th: 0.35, fbeta: 0.0\n",
      "th: 0.4, fbeta: 0.0\n",
      "th: 0.45, fbeta: 0.0\n",
      "th: 0.5, fbeta: 0.0\n",
      "th: 0.55, fbeta: 0.0\n",
      "th: 0.6, fbeta: 0.0\n",
      "th: 0.65, fbeta: 0.0\n",
      "th: 0.7, fbeta: 0.0\n",
      "th: 0.75, fbeta: 0.0\n"
     ]
    },
    {
     "name": "stderr",
     "output_type": "stream",
     "text": [
      "best_th: 0.1, fbeta: 0.09767160392933735\n",
      "Epoch 9 - avg_train_loss: 0.3551  avg_val_loss: 0.2176  time: 73s\n",
      "Epoch 9 - avgScore: 0.0977\n",
      "Epoch Progress:  60%|\u001b[37m██████    \u001b[0m| 9/15 [11:01<07:20, 73.36s/it]"
     ]
    },
    {
     "name": "stdout",
     "output_type": "stream",
     "text": [
      "th: 0.8, fbeta: 0.0\n"
     ]
    },
    {
     "name": "stderr",
     "output_type": "stream",
     "text": [
      "Train Steps Progress: 100%|\u001b[31m██████████\u001b[0m| 152/152 [00:55<00:00,  2.76it/s]\n",
      "Validation Steps Progress: 100%|\u001b[32m██████████\u001b[0m| 17/17 [00:04<00:00,  3.87it/s]\n"
     ]
    },
    {
     "name": "stdout",
     "output_type": "stream",
     "text": [
      "th: 0.1, fbeta: 0.0339726747153541\n",
      "th: 0.15, fbeta: 0.00017471896549337492\n",
      "th: 0.2, fbeta: 0.0\n",
      "th: 0.25, fbeta: 0.0\n",
      "th: 0.3, fbeta: 0.0\n",
      "th: 0.35, fbeta: 0.0\n",
      "th: 0.4, fbeta: 0.0\n",
      "th: 0.45, fbeta: 0.0\n",
      "th: 0.5, fbeta: 0.0\n",
      "th: 0.55, fbeta: 0.0\n",
      "th: 0.6, fbeta: 0.0\n",
      "th: 0.65, fbeta: 0.0\n",
      "th: 0.7, fbeta: 0.0\n",
      "th: 0.75, fbeta: 0.0\n"
     ]
    },
    {
     "name": "stderr",
     "output_type": "stream",
     "text": [
      "best_th: 0.1, fbeta: 0.0339726747153541\n"
     ]
    },
    {
     "name": "stdout",
     "output_type": "stream",
     "text": [
      "th: 0.8, fbeta: 0.0\n"
     ]
    },
    {
     "name": "stderr",
     "output_type": "stream",
     "text": [
      "Epoch 10 - avg_train_loss: 0.3491  avg_val_loss: 0.2175  time: 73s\n",
      "Epoch 10 - avgScore: 0.0340\n",
      "Train Steps Progress: 100%|\u001b[31m██████████\u001b[0m| 152/152 [00:55<00:00,  2.76it/s]\n",
      "Validation Steps Progress: 100%|\u001b[32m██████████\u001b[0m| 17/17 [00:04<00:00,  3.98it/s]\n"
     ]
    },
    {
     "name": "stdout",
     "output_type": "stream",
     "text": [
      "th: 0.1, fbeta: 0.13800308613832046\n",
      "th: 0.15, fbeta: 0.012403314837909742\n",
      "th: 0.2, fbeta: 0.000174645463150961\n",
      "th: 0.25, fbeta: 0.0\n",
      "th: 0.3, fbeta: 0.0\n",
      "th: 0.35, fbeta: 0.0\n",
      "th: 0.4, fbeta: 0.0\n",
      "th: 0.45, fbeta: 0.0\n",
      "th: 0.5, fbeta: 0.0\n",
      "th: 0.55, fbeta: 0.0\n",
      "th: 0.6, fbeta: 0.0\n",
      "th: 0.65, fbeta: 0.0\n",
      "th: 0.7, fbeta: 0.0\n",
      "th: 0.75, fbeta: 0.0\n"
     ]
    },
    {
     "name": "stderr",
     "output_type": "stream",
     "text": [
      "best_th: 0.1, fbeta: 0.13800308613832046\n",
      "Epoch 11 - avg_train_loss: 0.3524  avg_val_loss: 0.2159  time: 73s\n",
      "Epoch 11 - avgScore: 0.1380\n",
      "Epoch 11 - Save Best Score: 0.1380 Model\n",
      "Epoch 11 - Save Best Loss: 0.2159 Model\n"
     ]
    },
    {
     "name": "stdout",
     "output_type": "stream",
     "text": [
      "th: 0.8, fbeta: 0.0\n",
      "saving model: memory GB:5.7\n"
     ]
    },
    {
     "name": "stderr",
     "output_type": "stream",
     "text": [
      "Train Steps Progress: 100%|\u001b[31m██████████\u001b[0m| 152/152 [00:55<00:00,  2.75it/s]\n",
      "Validation Steps Progress: 100%|\u001b[32m██████████\u001b[0m| 17/17 [00:04<00:00,  3.91it/s]\n"
     ]
    },
    {
     "name": "stdout",
     "output_type": "stream",
     "text": [
      "th: 0.1, fbeta: 0.1001010343230698\n",
      "th: 0.15, fbeta: 0.0036814930071491785\n",
      "th: 0.2, fbeta: 1.6807602895571124e-05\n",
      "th: 0.25, fbeta: 0.0\n",
      "th: 0.3, fbeta: 0.0\n",
      "th: 0.35, fbeta: 0.0\n",
      "th: 0.4, fbeta: 0.0\n",
      "th: 0.45, fbeta: 0.0\n",
      "th: 0.5, fbeta: 0.0\n",
      "th: 0.55, fbeta: 0.0\n",
      "th: 0.6, fbeta: 0.0\n",
      "th: 0.65, fbeta: 0.0\n",
      "th: 0.7, fbeta: 0.0\n",
      "th: 0.75, fbeta: 0.0\n"
     ]
    },
    {
     "name": "stderr",
     "output_type": "stream",
     "text": [
      "best_th: 0.1, fbeta: 0.1001010343230698\n"
     ]
    },
    {
     "name": "stdout",
     "output_type": "stream",
     "text": [
      "th: 0.8, fbeta: 0.0\n"
     ]
    },
    {
     "name": "stderr",
     "output_type": "stream",
     "text": [
      "Epoch 12 - avg_train_loss: 0.3553  avg_val_loss: 0.2142  time: 74s\n",
      "Epoch 12 - avgScore: 0.1001\n",
      "Train Steps Progress: 100%|\u001b[31m██████████\u001b[0m| 152/152 [00:54<00:00,  2.77it/s]\n",
      "Validation Steps Progress: 100%|\u001b[32m██████████\u001b[0m| 17/17 [00:04<00:00,  3.99it/s]\n"
     ]
    },
    {
     "name": "stdout",
     "output_type": "stream",
     "text": [
      "th: 0.1, fbeta: 0.03619792158784568\n",
      "th: 0.15, fbeta: 0.0002509981635176359\n",
      "th: 0.2, fbeta: 9.363651574156078e-07\n",
      "th: 0.25, fbeta: 0.0\n",
      "th: 0.3, fbeta: 0.0\n",
      "th: 0.35, fbeta: 0.0\n",
      "th: 0.4, fbeta: 0.0\n",
      "th: 0.45, fbeta: 0.0\n",
      "th: 0.5, fbeta: 0.0\n",
      "th: 0.55, fbeta: 0.0\n",
      "th: 0.6, fbeta: 0.0\n",
      "th: 0.65, fbeta: 0.0\n",
      "th: 0.7, fbeta: 0.0\n",
      "th: 0.75, fbeta: 0.0\n"
     ]
    },
    {
     "name": "stderr",
     "output_type": "stream",
     "text": [
      "best_th: 0.1, fbeta: 0.03619792158784568\n",
      "Epoch 13 - avg_train_loss: 0.3556  avg_val_loss: 0.2133  time: 73s\n",
      "Epoch 13 - avgScore: 0.0362\n",
      "Epoch Progress:  87%|\u001b[37m████████▋ \u001b[0m| 13/15 [15:55<02:26, 73.34s/it]"
     ]
    },
    {
     "name": "stdout",
     "output_type": "stream",
     "text": [
      "th: 0.8, fbeta: 0.0\n"
     ]
    },
    {
     "name": "stderr",
     "output_type": "stream",
     "text": [
      "Train Steps Progress: 100%|\u001b[31m██████████\u001b[0m| 152/152 [00:55<00:00,  2.76it/s]\n",
      "Validation Steps Progress: 100%|\u001b[32m██████████\u001b[0m| 17/17 [00:04<00:00,  3.98it/s]\n"
     ]
    },
    {
     "name": "stdout",
     "output_type": "stream",
     "text": [
      "th: 0.1, fbeta: 0.0516105145653641\n",
      "th: 0.15, fbeta: 0.001113257136351965\n",
      "th: 0.2, fbeta: 8.86585377012906e-07\n",
      "th: 0.25, fbeta: 0.0\n",
      "th: 0.3, fbeta: 0.0\n",
      "th: 0.35, fbeta: 0.0\n",
      "th: 0.4, fbeta: 0.0\n",
      "th: 0.45, fbeta: 0.0\n",
      "th: 0.5, fbeta: 0.0\n",
      "th: 0.55, fbeta: 0.0\n",
      "th: 0.6, fbeta: 0.0\n",
      "th: 0.65, fbeta: 0.0\n",
      "th: 0.7, fbeta: 0.0\n",
      "th: 0.75, fbeta: 0.0\n"
     ]
    },
    {
     "name": "stderr",
     "output_type": "stream",
     "text": [
      "best_th: 0.1, fbeta: 0.0516105145653641\n",
      "Epoch 14 - avg_train_loss: 0.3496  avg_val_loss: 0.2117  time: 73s\n",
      "Epoch 14 - avgScore: 0.0516\n",
      "Epoch Progress:  93%|\u001b[37m█████████▎\u001b[0m| 14/15 [17:08<01:13, 73.25s/it]"
     ]
    },
    {
     "name": "stdout",
     "output_type": "stream",
     "text": [
      "th: 0.8, fbeta: 0.0\n"
     ]
    },
    {
     "name": "stderr",
     "output_type": "stream",
     "text": [
      "Train Steps Progress: 100%|\u001b[31m██████████\u001b[0m| 152/152 [00:54<00:00,  2.77it/s]\n",
      "Validation Steps Progress: 100%|\u001b[32m██████████\u001b[0m| 17/17 [00:04<00:00,  3.89it/s]\n"
     ]
    },
    {
     "name": "stdout",
     "output_type": "stream",
     "text": [
      "th: 0.1, fbeta: 0.016097049916064088\n",
      "th: 0.15, fbeta: 4.950936508650055e-05\n",
      "th: 0.2, fbeta: 0.0\n",
      "th: 0.25, fbeta: 0.0\n",
      "th: 0.3, fbeta: 0.0\n",
      "th: 0.35, fbeta: 0.0\n",
      "th: 0.4, fbeta: 0.0\n",
      "th: 0.45, fbeta: 0.0\n",
      "th: 0.5, fbeta: 0.0\n",
      "th: 0.55, fbeta: 0.0\n",
      "th: 0.6, fbeta: 0.0\n",
      "th: 0.65, fbeta: 0.0\n",
      "th: 0.7, fbeta: 0.0\n",
      "th: 0.75, fbeta: 0.0\n"
     ]
    },
    {
     "name": "stderr",
     "output_type": "stream",
     "text": [
      "best_th: 0.1, fbeta: 0.016097049916064088\n",
      "Epoch 15 - avg_train_loss: 0.3559  avg_val_loss: 0.2142  time: 73s\n",
      "Epoch 15 - avgScore: 0.0161\n",
      "Epoch Progress: 100%|\u001b[37m██████████\u001b[0m| 15/15 [18:21<00:00, 73.43s/it]"
     ]
    },
    {
     "name": "stdout",
     "output_type": "stream",
     "text": [
      "th: 0.8, fbeta: 0.0\n"
     ]
    },
    {
     "name": "stderr",
     "output_type": "stream",
     "text": [
      "\n",
      "\u001b[34m\u001b[1mwandb\u001b[0m: Waiting for W&B process to finish... \u001b[32m(success).\u001b[0m\n",
      "\u001b[34m\u001b[1mwandb\u001b[0m: \n",
      "\u001b[34m\u001b[1mwandb\u001b[0m: Run history:\n",
      "\u001b[34m\u001b[1mwandb\u001b[0m:     Best_Score ▁█\n",
      "\u001b[34m\u001b[1mwandb\u001b[0m:      Best_loss █▁\n",
      "\u001b[34m\u001b[1mwandb\u001b[0m:        Best_th ▁▁▁▁▁▁▁▁▁▁▁▁▁▁▁\n",
      "\u001b[34m\u001b[1mwandb\u001b[0m: Best_threshold ▁▁\n",
      "\u001b[34m\u001b[1mwandb\u001b[0m:          Epoch ▁▁▂▃▃▃▄▅▅▅▆▇▇▇█\n",
      "\u001b[34m\u001b[1mwandb\u001b[0m:     Epoch_best ▁█\n",
      "\u001b[34m\u001b[1mwandb\u001b[0m:          Score ▃▆▄▆▅▂▂▁▆▂█▆▂▃▁\n",
      "\u001b[34m\u001b[1mwandb\u001b[0m:     Train_loss █▄▃▃▂▂▂▂▂▁▁▂▂▁▂\n",
      "\u001b[34m\u001b[1mwandb\u001b[0m:        Val_los ▆█▇▇▅▄▄▄▃▃▃▂▂▁▂\n",
      "\u001b[34m\u001b[1mwandb\u001b[0m: \n",
      "\u001b[34m\u001b[1mwandb\u001b[0m: Run summary:\n",
      "\u001b[34m\u001b[1mwandb\u001b[0m:     Best_Score 0.138\n",
      "\u001b[34m\u001b[1mwandb\u001b[0m:      Best_loss 0.3524\n",
      "\u001b[34m\u001b[1mwandb\u001b[0m:        Best_th 0.1\n",
      "\u001b[34m\u001b[1mwandb\u001b[0m: Best_threshold 0.1\n",
      "\u001b[34m\u001b[1mwandb\u001b[0m:          Epoch 15\n",
      "\u001b[34m\u001b[1mwandb\u001b[0m:     Epoch_best 11\n",
      "\u001b[34m\u001b[1mwandb\u001b[0m:          Score 0.0161\n",
      "\u001b[34m\u001b[1mwandb\u001b[0m:     Train_loss 0.3559\n",
      "\u001b[34m\u001b[1mwandb\u001b[0m:        Val_los 0.21422\n",
      "\u001b[34m\u001b[1mwandb\u001b[0m: \n",
      "\u001b[34m\u001b[1mwandb\u001b[0m: 🚀 View run \u001b[33mPSPNet mit_b4 Fold1 freezeTrue 37177\u001b[0m at: \u001b[34m\u001b[4mhttps://wandb.ai/i-am-noob/Vesuvius%20Experiments%20PSPNet/runs/styd0ypq\u001b[0m\n",
      "\u001b[34m\u001b[1mwandb\u001b[0m: Synced 6 W&B file(s), 0 media file(s), 0 artifact file(s) and 0 other file(s)\n",
      "\u001b[34m\u001b[1mwandb\u001b[0m: Find logs at: \u001b[35m\u001b[1m./wandb/run-20230602_184040-styd0ypq/logs\u001b[0m\n"
     ]
    },
    {
     "name": "stdout",
     "output_type": "stream",
     "text": [
      "deleted items: memory GB:5.62\n",
      "pre inializing: memory GB:3.51\n"
     ]
    },
    {
     "name": "stderr",
     "output_type": "stream",
     "text": [
      "Image Slice Progress: 100%|\u001b[34m██████████\u001b[0m| 3/3 [00:00<00:00, 10.30it/s]\n",
      "Image Slice Progress: 100%|\u001b[34m██████████\u001b[0m| 3/3 [00:00<00:00,  5.34it/s]\n",
      "Image Slice Progress: 100%|\u001b[34m██████████\u001b[0m| 3/3 [00:00<00:00, 19.89it/s]\n"
     ]
    },
    {
     "name": "stdout",
     "output_type": "stream",
     "text": [
      "post inializing: memory GB:4.99\n",
      "Current fold --> 1\n"
     ]
    },
    {
     "name": "stderr",
     "output_type": "stream",
     "text": [
      "\u001b[34m\u001b[1mwandb\u001b[0m: Tracking run with wandb version 0.15.3\n",
      "\u001b[34m\u001b[1mwandb\u001b[0m: Run data is saved locally in \u001b[35m\u001b[1m/kaggle/working/wandb/run-20230602_190013-3kf4cis9\u001b[0m\n",
      "\u001b[34m\u001b[1mwandb\u001b[0m: Run \u001b[1m`wandb offline`\u001b[0m to turn off syncing.\n",
      "\u001b[34m\u001b[1mwandb\u001b[0m: Syncing run \u001b[33mPSPNet mit_b5 Fold1 freezeTrue 97559\u001b[0m\n",
      "\u001b[34m\u001b[1mwandb\u001b[0m: ⭐️ View project at \u001b[34m\u001b[4mhttps://wandb.ai/i-am-noob/Vesuvius%20Experiments%20PSPNet\u001b[0m\n",
      "\u001b[34m\u001b[1mwandb\u001b[0m: 🚀 View run at \u001b[34m\u001b[4mhttps://wandb.ai/i-am-noob/Vesuvius%20Experiments%20PSPNet/runs/3kf4cis9\u001b[0m\n"
     ]
    },
    {
     "name": "stdout",
     "output_type": "stream",
     "text": [
      "model_name PSPNet\n",
      "backbone mit_b5\n"
     ]
    },
    {
     "name": "stderr",
     "output_type": "stream",
     "text": [
      "Downloading: \"https://github.com/qubvel/segmentation_models.pytorch/releases/download/v0.0.2/mit_b5.pth\" to /root/.cache/torch/hub/checkpoints/mit_b5.pth\n"
     ]
    },
    {
     "data": {
      "application/vnd.jupyter.widget-view+json": {
       "model_id": "6f4540868a7c4c3fb0f112387ee24726",
       "version_major": 2,
       "version_minor": 0
      },
      "text/plain": [
       "  0%|          | 0.00/313M [00:00<?, ?B/s]"
      ]
     },
     "metadata": {},
     "output_type": "display_data"
    },
    {
     "name": "stderr",
     "output_type": "stream",
     "text": [
      "Validation Steps Progress: 100%|\u001b[32m██████████\u001b[0m| 17/17 [00:05<00:00,  2.86it/s]\n"
     ]
    },
    {
     "name": "stdout",
     "output_type": "stream",
     "text": [
      "th: 0.1, fbeta: 0.07159157168739244\n",
      "th: 0.15, fbeta: 0.07159157168739244\n",
      "th: 0.2, fbeta: 0.07159157168739244\n",
      "th: 0.25, fbeta: 0.07159157168739244\n",
      "th: 0.3, fbeta: 0.07159157168739244\n",
      "th: 0.35, fbeta: 0.07159157168739244\n",
      "th: 0.4, fbeta: 0.07159157168739244\n",
      "th: 0.45, fbeta: 0.07159157168739244\n",
      "th: 0.5, fbeta: 0.022552891224253566\n",
      "th: 0.55, fbeta: 0.0\n",
      "th: 0.6, fbeta: 0.0\n",
      "th: 0.65, fbeta: 0.0\n",
      "th: 0.7, fbeta: 0.0\n",
      "th: 0.75, fbeta: 0.0\n"
     ]
    },
    {
     "name": "stderr",
     "output_type": "stream",
     "text": [
      "best_th: 0.1, fbeta: 0.07159157168739244\n"
     ]
    },
    {
     "name": "stdout",
     "output_type": "stream",
     "text": [
      "th: 0.8, fbeta: 0.0\n",
      "Val_loss before training -->0.6735724847701573, score --> 0.07159157168739244\n"
     ]
    },
    {
     "name": "stderr",
     "output_type": "stream",
     "text": [
      "Train Steps Progress: 100%|\u001b[31m██████████\u001b[0m| 152/152 [00:59<00:00,  2.57it/s]\n",
      "Validation Steps Progress: 100%|\u001b[32m██████████\u001b[0m| 17/17 [00:05<00:00,  3.31it/s]\n"
     ]
    },
    {
     "name": "stdout",
     "output_type": "stream",
     "text": [
      "th: 0.1, fbeta: 0.07159157168739244\n",
      "th: 0.15, fbeta: 0.09478302615868732\n",
      "th: 0.2, fbeta: 0.057768754470667406\n",
      "th: 0.25, fbeta: 0.029067320929312072\n",
      "th: 0.3, fbeta: 0.008550993070397707\n",
      "th: 0.35, fbeta: 0.001001487891166044\n",
      "th: 0.4, fbeta: 0.0\n",
      "th: 0.45, fbeta: 0.0\n",
      "th: 0.5, fbeta: 0.0\n",
      "th: 0.55, fbeta: 0.0\n",
      "th: 0.6, fbeta: 0.0\n",
      "th: 0.65, fbeta: 0.0\n",
      "th: 0.7, fbeta: 0.0\n",
      "th: 0.75, fbeta: 0.0\n"
     ]
    },
    {
     "name": "stderr",
     "output_type": "stream",
     "text": [
      "best_th: 0.15, fbeta: 0.09478302615868732\n",
      "Epoch 1 - avg_train_loss: 0.4765  avg_val_loss: 0.2655  time: 77s\n",
      "Epoch 1 - avgScore: 0.0948\n",
      "Epoch 1 - Save Best Score: 0.0948 Model\n",
      "Epoch 1 - Save Best Loss: 0.2655 Model\n"
     ]
    },
    {
     "name": "stdout",
     "output_type": "stream",
     "text": [
      "th: 0.8, fbeta: 0.0\n",
      "saving model: memory GB:5.73\n"
     ]
    },
    {
     "name": "stderr",
     "output_type": "stream",
     "text": [
      "Train Steps Progress: 100%|\u001b[31m██████████\u001b[0m| 152/152 [00:59<00:00,  2.55it/s]\n",
      "Validation Steps Progress: 100%|\u001b[32m██████████\u001b[0m| 17/17 [00:05<00:00,  3.36it/s]\n"
     ]
    },
    {
     "name": "stdout",
     "output_type": "stream",
     "text": [
      "th: 0.1, fbeta: 0.10728096179300933\n",
      "th: 0.15, fbeta: 0.09100692959323926\n",
      "th: 0.2, fbeta: 0.04892304601083286\n",
      "th: 0.25, fbeta: 0.013188351383094009\n",
      "th: 0.3, fbeta: 0.0010233954613447804\n",
      "th: 0.35, fbeta: 0.0\n",
      "th: 0.4, fbeta: 0.0\n",
      "th: 0.45, fbeta: 0.0\n",
      "th: 0.5, fbeta: 0.0\n",
      "th: 0.55, fbeta: 0.0\n",
      "th: 0.6, fbeta: 0.0\n",
      "th: 0.65, fbeta: 0.0\n",
      "th: 0.7, fbeta: 0.0\n",
      "th: 0.75, fbeta: 0.0\n"
     ]
    },
    {
     "name": "stderr",
     "output_type": "stream",
     "text": [
      "best_th: 0.1, fbeta: 0.10728096179300933\n",
      "Epoch 2 - avg_train_loss: 0.3576  avg_val_loss: 0.2371  time: 79s\n",
      "Epoch 2 - avgScore: 0.1073\n",
      "Epoch 2 - Save Best Score: 0.1073 Model\n",
      "Epoch 2 - Save Best Loss: 0.2371 Model\n"
     ]
    },
    {
     "name": "stdout",
     "output_type": "stream",
     "text": [
      "th: 0.8, fbeta: 0.0\n",
      "saving model: memory GB:5.66\n"
     ]
    },
    {
     "name": "stderr",
     "output_type": "stream",
     "text": [
      "Train Steps Progress: 100%|\u001b[31m██████████\u001b[0m| 152/152 [00:59<00:00,  2.54it/s]\n",
      "Validation Steps Progress: 100%|\u001b[32m██████████\u001b[0m| 17/17 [00:05<00:00,  3.38it/s]\n"
     ]
    },
    {
     "name": "stdout",
     "output_type": "stream",
     "text": [
      "th: 0.1, fbeta: 0.10473292977620528\n",
      "th: 0.15, fbeta: 0.11009008996040044\n",
      "th: 0.2, fbeta: 0.08089835624737217\n",
      "th: 0.25, fbeta: 0.034904376161730186\n",
      "th: 0.3, fbeta: 0.004273037767122383\n",
      "th: 0.35, fbeta: 0.00020761583245537156\n",
      "th: 0.4, fbeta: 0.0\n",
      "th: 0.45, fbeta: 0.0\n",
      "th: 0.5, fbeta: 0.0\n",
      "th: 0.55, fbeta: 0.0\n",
      "th: 0.6, fbeta: 0.0\n",
      "th: 0.65, fbeta: 0.0\n",
      "th: 0.7, fbeta: 0.0\n",
      "th: 0.75, fbeta: 0.0\n"
     ]
    },
    {
     "name": "stderr",
     "output_type": "stream",
     "text": [
      "best_th: 0.15, fbeta: 0.11009008996040044\n",
      "Epoch 3 - avg_train_loss: 0.3642  avg_val_loss: 0.2394  time: 80s\n",
      "Epoch 3 - avgScore: 0.1101\n",
      "Epoch 3 - Save Best Score: 0.1101 Model\n",
      "Epoch 3 - Save Best Loss: 0.2394 Model\n"
     ]
    },
    {
     "name": "stdout",
     "output_type": "stream",
     "text": [
      "th: 0.8, fbeta: 0.0\n",
      "saving model: memory GB:5.66\n"
     ]
    },
    {
     "name": "stderr",
     "output_type": "stream",
     "text": [
      "Train Steps Progress: 100%|\u001b[31m██████████\u001b[0m| 152/152 [00:59<00:00,  2.54it/s]\n",
      "Validation Steps Progress: 100%|\u001b[32m██████████\u001b[0m| 17/17 [00:05<00:00,  3.25it/s]\n"
     ]
    },
    {
     "name": "stdout",
     "output_type": "stream",
     "text": [
      "th: 0.1, fbeta: 0.11261701284963714\n",
      "th: 0.15, fbeta: 0.09349031615293532\n",
      "th: 0.2, fbeta: 0.04377903079124691\n",
      "th: 0.25, fbeta: 0.006592188063647679\n",
      "th: 0.3, fbeta: 0.00026550041714878497\n",
      "th: 0.35, fbeta: 0.0\n",
      "th: 0.4, fbeta: 0.0\n",
      "th: 0.45, fbeta: 0.0\n",
      "th: 0.5, fbeta: 0.0\n",
      "th: 0.55, fbeta: 0.0\n",
      "th: 0.6, fbeta: 0.0\n",
      "th: 0.65, fbeta: 0.0\n",
      "th: 0.7, fbeta: 0.0\n",
      "th: 0.75, fbeta: 0.0\n"
     ]
    },
    {
     "name": "stderr",
     "output_type": "stream",
     "text": [
      "best_th: 0.1, fbeta: 0.11261701284963714\n",
      "Epoch 4 - avg_train_loss: 0.3521  avg_val_loss: 0.2286  time: 80s\n",
      "Epoch 4 - avgScore: 0.1126\n",
      "Epoch 4 - Save Best Score: 0.1126 Model\n",
      "Epoch 4 - Save Best Loss: 0.2286 Model\n"
     ]
    },
    {
     "name": "stdout",
     "output_type": "stream",
     "text": [
      "th: 0.8, fbeta: 0.0\n",
      "saving model: memory GB:5.66\n"
     ]
    },
    {
     "name": "stderr",
     "output_type": "stream",
     "text": [
      "Train Steps Progress: 100%|\u001b[31m██████████\u001b[0m| 152/152 [00:59<00:00,  2.53it/s]\n",
      "Validation Steps Progress: 100%|\u001b[32m██████████\u001b[0m| 17/17 [00:05<00:00,  3.39it/s]\n"
     ]
    },
    {
     "name": "stdout",
     "output_type": "stream",
     "text": [
      "th: 0.1, fbeta: 0.13921724813799352\n",
      "th: 0.15, fbeta: 0.11083863630778604\n",
      "th: 0.2, fbeta: 0.060556252494969924\n",
      "th: 0.25, fbeta: 0.007802263347309786\n",
      "th: 0.3, fbeta: 0.00034947963560976743\n",
      "th: 0.35, fbeta: 0.0\n",
      "th: 0.4, fbeta: 0.0\n",
      "th: 0.45, fbeta: 0.0\n",
      "th: 0.5, fbeta: 0.0\n",
      "th: 0.55, fbeta: 0.0\n",
      "th: 0.6, fbeta: 0.0\n",
      "th: 0.65, fbeta: 0.0\n",
      "th: 0.7, fbeta: 0.0\n",
      "th: 0.75, fbeta: 0.0\n"
     ]
    },
    {
     "name": "stderr",
     "output_type": "stream",
     "text": [
      "best_th: 0.1, fbeta: 0.13921724813799352\n",
      "Epoch 5 - avg_train_loss: 0.3535  avg_val_loss: 0.2209  time: 80s\n",
      "Epoch 5 - avgScore: 0.1392\n",
      "Epoch 5 - Save Best Score: 0.1392 Model\n",
      "Epoch 5 - Save Best Loss: 0.2209 Model\n"
     ]
    },
    {
     "name": "stdout",
     "output_type": "stream",
     "text": [
      "th: 0.8, fbeta: 0.0\n",
      "saving model: memory GB:5.66\n"
     ]
    },
    {
     "name": "stderr",
     "output_type": "stream",
     "text": [
      "Train Steps Progress: 100%|\u001b[31m██████████\u001b[0m| 152/152 [00:59<00:00,  2.56it/s]\n",
      "Validation Steps Progress: 100%|\u001b[32m██████████\u001b[0m| 17/17 [00:05<00:00,  3.39it/s]\n"
     ]
    },
    {
     "name": "stdout",
     "output_type": "stream",
     "text": [
      "th: 0.1, fbeta: 0.13494454257352195\n",
      "th: 0.15, fbeta: 0.12304804298406705\n",
      "th: 0.2, fbeta: 0.06409376469085844\n",
      "th: 0.25, fbeta: 0.006288781443454776\n",
      "th: 0.3, fbeta: 0.00017687052183578092\n",
      "th: 0.35, fbeta: 0.0\n",
      "th: 0.4, fbeta: 0.0\n",
      "th: 0.45, fbeta: 0.0\n",
      "th: 0.5, fbeta: 0.0\n",
      "th: 0.55, fbeta: 0.0\n",
      "th: 0.6, fbeta: 0.0\n",
      "th: 0.65, fbeta: 0.0\n",
      "th: 0.7, fbeta: 0.0\n",
      "th: 0.75, fbeta: 0.0\n"
     ]
    },
    {
     "name": "stderr",
     "output_type": "stream",
     "text": [
      "best_th: 0.1, fbeta: 0.13494454257352195\n",
      "Epoch 6 - avg_train_loss: 0.3516  avg_val_loss: 0.2159  time: 79s\n",
      "Epoch 6 - avgScore: 0.1349\n",
      "Epoch Progress:  40%|\u001b[37m████      \u001b[0m| 6/15 [07:59<11:58, 79.86s/it]"
     ]
    },
    {
     "name": "stdout",
     "output_type": "stream",
     "text": [
      "th: 0.8, fbeta: 0.0\n"
     ]
    },
    {
     "name": "stderr",
     "output_type": "stream",
     "text": [
      "Train Steps Progress: 100%|\u001b[31m██████████\u001b[0m| 152/152 [01:00<00:00,  2.53it/s]\n",
      "Validation Steps Progress: 100%|\u001b[32m██████████\u001b[0m| 17/17 [00:05<00:00,  3.34it/s]\n"
     ]
    },
    {
     "name": "stdout",
     "output_type": "stream",
     "text": [
      "th: 0.1, fbeta: 0.0818613641486031\n",
      "th: 0.15, fbeta: 0.1468831695561472\n",
      "th: 0.2, fbeta: 0.07598740616604949\n",
      "th: 0.25, fbeta: 0.013017729405606483\n",
      "th: 0.3, fbeta: 0.0009498060022732422\n",
      "th: 0.35, fbeta: 1.1232161862482265e-05\n",
      "th: 0.4, fbeta: 0.0\n",
      "th: 0.45, fbeta: 0.0\n",
      "th: 0.5, fbeta: 0.0\n",
      "th: 0.55, fbeta: 0.0\n",
      "th: 0.6, fbeta: 0.0\n",
      "th: 0.65, fbeta: 0.0\n",
      "th: 0.7, fbeta: 0.0\n",
      "th: 0.75, fbeta: 0.0\n"
     ]
    },
    {
     "name": "stderr",
     "output_type": "stream",
     "text": [
      "best_th: 0.15, fbeta: 0.1468831695561472\n",
      "Epoch 7 - avg_train_loss: 0.3534  avg_val_loss: 0.2434  time: 80s\n",
      "Epoch 7 - avgScore: 0.1469\n",
      "Epoch 7 - Save Best Score: 0.1469 Model\n",
      "Epoch 7 - Save Best Loss: 0.2434 Model\n"
     ]
    },
    {
     "name": "stdout",
     "output_type": "stream",
     "text": [
      "th: 0.8, fbeta: 0.0\n",
      "saving model: memory GB:5.66\n"
     ]
    },
    {
     "name": "stderr",
     "output_type": "stream",
     "text": [
      "Train Steps Progress: 100%|\u001b[31m██████████\u001b[0m| 152/152 [01:00<00:00,  2.53it/s]\n",
      "Validation Steps Progress: 100%|\u001b[32m██████████\u001b[0m| 17/17 [00:05<00:00,  3.39it/s]\n"
     ]
    },
    {
     "name": "stdout",
     "output_type": "stream",
     "text": [
      "th: 0.1, fbeta: 0.1413545307012603\n",
      "th: 0.15, fbeta: 0.12894339421692827\n",
      "th: 0.2, fbeta: 0.07405041321521293\n",
      "th: 0.25, fbeta: 0.005752831383143838\n",
      "th: 0.3, fbeta: 9.262332355467707e-05\n",
      "th: 0.35, fbeta: 0.0\n",
      "th: 0.4, fbeta: 0.0\n",
      "th: 0.45, fbeta: 0.0\n",
      "th: 0.5, fbeta: 0.0\n",
      "th: 0.55, fbeta: 0.0\n",
      "th: 0.6, fbeta: 0.0\n",
      "th: 0.65, fbeta: 0.0\n",
      "th: 0.7, fbeta: 0.0\n",
      "th: 0.75, fbeta: 0.0\n"
     ]
    },
    {
     "name": "stderr",
     "output_type": "stream",
     "text": [
      "best_th: 0.1, fbeta: 0.1413545307012603\n",
      "Epoch 8 - avg_train_loss: 0.3532  avg_val_loss: 0.2175  time: 79s\n",
      "Epoch 8 - avgScore: 0.1414\n",
      "Epoch Progress:  53%|\u001b[37m█████▎    \u001b[0m| 8/15 [10:39<09:18, 79.83s/it]"
     ]
    },
    {
     "name": "stdout",
     "output_type": "stream",
     "text": [
      "th: 0.8, fbeta: 0.0\n"
     ]
    },
    {
     "name": "stderr",
     "output_type": "stream",
     "text": [
      "Train Steps Progress: 100%|\u001b[31m██████████\u001b[0m| 152/152 [01:00<00:00,  2.52it/s]\n",
      "Validation Steps Progress: 100%|\u001b[32m██████████\u001b[0m| 17/17 [00:04<00:00,  3.40it/s]\n"
     ]
    },
    {
     "name": "stdout",
     "output_type": "stream",
     "text": [
      "th: 0.1, fbeta: 0.14503733962194287\n",
      "th: 0.15, fbeta: 0.1532176541327098\n",
      "th: 0.2, fbeta: 0.08307677025110374\n",
      "th: 0.25, fbeta: 0.006133206945352426\n",
      "th: 0.3, fbeta: 0.00012815651944964376\n",
      "th: 0.35, fbeta: 0.0\n",
      "th: 0.4, fbeta: 0.0\n",
      "th: 0.45, fbeta: 0.0\n",
      "th: 0.5, fbeta: 0.0\n",
      "th: 0.55, fbeta: 0.0\n",
      "th: 0.6, fbeta: 0.0\n",
      "th: 0.65, fbeta: 0.0\n",
      "th: 0.7, fbeta: 0.0\n",
      "th: 0.75, fbeta: 0.0\n"
     ]
    },
    {
     "name": "stderr",
     "output_type": "stream",
     "text": [
      "best_th: 0.15, fbeta: 0.1532176541327098\n",
      "Epoch 9 - avg_train_loss: 0.3466  avg_val_loss: 0.2151  time: 79s\n",
      "Epoch 9 - avgScore: 0.1532\n",
      "Epoch 9 - Save Best Score: 0.1532 Model\n",
      "Epoch 9 - Save Best Loss: 0.2151 Model\n"
     ]
    },
    {
     "name": "stdout",
     "output_type": "stream",
     "text": [
      "th: 0.8, fbeta: 0.0\n",
      "saving model: memory GB:5.65\n"
     ]
    },
    {
     "name": "stderr",
     "output_type": "stream",
     "text": [
      "Train Steps Progress: 100%|\u001b[31m██████████\u001b[0m| 152/152 [00:59<00:00,  2.53it/s]\n",
      "Validation Steps Progress: 100%|\u001b[32m██████████\u001b[0m| 17/17 [00:05<00:00,  3.33it/s]\n"
     ]
    },
    {
     "name": "stdout",
     "output_type": "stream",
     "text": [
      "th: 0.1, fbeta: 0.15512707905814313\n",
      "th: 0.15, fbeta: 0.11399068711497748\n",
      "th: 0.2, fbeta: 0.050735973057910395\n",
      "th: 0.25, fbeta: 0.002462649408577305\n",
      "th: 0.3, fbeta: 1.5908697277708504e-05\n",
      "th: 0.35, fbeta: 0.0\n",
      "th: 0.4, fbeta: 0.0\n",
      "th: 0.45, fbeta: 0.0\n",
      "th: 0.5, fbeta: 0.0\n",
      "th: 0.55, fbeta: 0.0\n",
      "th: 0.6, fbeta: 0.0\n",
      "th: 0.65, fbeta: 0.0\n",
      "th: 0.7, fbeta: 0.0\n",
      "th: 0.75, fbeta: 0.0\n"
     ]
    },
    {
     "name": "stderr",
     "output_type": "stream",
     "text": [
      "best_th: 0.1, fbeta: 0.15512707905814313\n",
      "Epoch 10 - avg_train_loss: 0.3447  avg_val_loss: 0.2050  time: 80s\n",
      "Epoch 10 - avgScore: 0.1551\n",
      "Epoch 10 - Save Best Score: 0.1551 Model\n",
      "Epoch 10 - Save Best Loss: 0.2050 Model\n"
     ]
    },
    {
     "name": "stdout",
     "output_type": "stream",
     "text": [
      "th: 0.8, fbeta: 0.0\n",
      "saving model: memory GB:5.65\n"
     ]
    },
    {
     "name": "stderr",
     "output_type": "stream",
     "text": [
      "Train Steps Progress: 100%|\u001b[31m██████████\u001b[0m| 152/152 [00:59<00:00,  2.53it/s]\n",
      "Validation Steps Progress: 100%|\u001b[32m██████████\u001b[0m| 17/17 [00:05<00:00,  3.40it/s]\n"
     ]
    },
    {
     "name": "stdout",
     "output_type": "stream",
     "text": [
      "th: 0.1, fbeta: 0.1516374717985689\n",
      "th: 0.15, fbeta: 0.11593307194248972\n",
      "th: 0.2, fbeta: 0.048849197400053834\n",
      "th: 0.25, fbeta: 0.0027341270712987155\n",
      "th: 0.3, fbeta: 2.8085055953544772e-05\n",
      "th: 0.35, fbeta: 0.0\n",
      "th: 0.4, fbeta: 0.0\n",
      "th: 0.45, fbeta: 0.0\n",
      "th: 0.5, fbeta: 0.0\n",
      "th: 0.55, fbeta: 0.0\n",
      "th: 0.6, fbeta: 0.0\n",
      "th: 0.65, fbeta: 0.0\n",
      "th: 0.7, fbeta: 0.0\n",
      "th: 0.75, fbeta: 0.0\n"
     ]
    },
    {
     "name": "stderr",
     "output_type": "stream",
     "text": [
      "best_th: 0.1, fbeta: 0.1516374717985689\n",
      "Epoch 11 - avg_train_loss: 0.3452  avg_val_loss: 0.2047  time: 80s\n",
      "Epoch 11 - avgScore: 0.1516\n",
      "Epoch Progress:  73%|\u001b[37m███████▎  \u001b[0m| 11/15 [14:39<05:20, 80.13s/it]"
     ]
    },
    {
     "name": "stdout",
     "output_type": "stream",
     "text": [
      "th: 0.8, fbeta: 0.0\n"
     ]
    },
    {
     "name": "stderr",
     "output_type": "stream",
     "text": [
      "Train Steps Progress: 100%|\u001b[31m██████████\u001b[0m| 152/152 [00:59<00:00,  2.54it/s]\n",
      "Validation Steps Progress: 100%|\u001b[32m██████████\u001b[0m| 17/17 [00:05<00:00,  3.24it/s]\n"
     ]
    },
    {
     "name": "stdout",
     "output_type": "stream",
     "text": [
      "th: 0.1, fbeta: 0.1642122611538904\n",
      "th: 0.15, fbeta: 0.086350681838708\n",
      "th: 0.2, fbeta: 0.010928714932148783\n",
      "th: 0.25, fbeta: 0.0002104073661900377\n",
      "th: 0.3, fbeta: 0.0\n",
      "th: 0.35, fbeta: 0.0\n",
      "th: 0.4, fbeta: 0.0\n",
      "th: 0.45, fbeta: 0.0\n",
      "th: 0.5, fbeta: 0.0\n",
      "th: 0.55, fbeta: 0.0\n",
      "th: 0.6, fbeta: 0.0\n",
      "th: 0.65, fbeta: 0.0\n",
      "th: 0.7, fbeta: 0.0\n",
      "th: 0.75, fbeta: 0.0\n"
     ]
    },
    {
     "name": "stderr",
     "output_type": "stream",
     "text": [
      "best_th: 0.1, fbeta: 0.1642122611538904\n",
      "Epoch 12 - avg_train_loss: 0.3431  avg_val_loss: 0.2025  time: 79s\n",
      "Epoch 12 - avgScore: 0.1642\n",
      "Epoch 12 - Save Best Score: 0.1642 Model\n",
      "Epoch 12 - Save Best Loss: 0.2025 Model\n"
     ]
    },
    {
     "name": "stdout",
     "output_type": "stream",
     "text": [
      "th: 0.8, fbeta: 0.0\n",
      "saving model: memory GB:5.65\n"
     ]
    },
    {
     "name": "stderr",
     "output_type": "stream",
     "text": [
      "Train Steps Progress: 100%|\u001b[31m██████████\u001b[0m| 152/152 [01:00<00:00,  2.52it/s]\n",
      "Validation Steps Progress: 100%|\u001b[32m██████████\u001b[0m| 17/17 [00:05<00:00,  3.36it/s]\n"
     ]
    },
    {
     "name": "stdout",
     "output_type": "stream",
     "text": [
      "th: 0.1, fbeta: 0.14043221719358523\n",
      "th: 0.15, fbeta: 0.14073017517805986\n",
      "th: 0.2, fbeta: 0.07183223440181825\n",
      "th: 0.25, fbeta: 0.006860281884169589\n",
      "th: 0.3, fbeta: 1.3091343286644866e-05\n",
      "th: 0.35, fbeta: 0.0\n",
      "th: 0.4, fbeta: 0.0\n",
      "th: 0.45, fbeta: 0.0\n",
      "th: 0.5, fbeta: 0.0\n",
      "th: 0.55, fbeta: 0.0\n",
      "th: 0.6, fbeta: 0.0\n",
      "th: 0.65, fbeta: 0.0\n",
      "th: 0.7, fbeta: 0.0\n",
      "th: 0.75, fbeta: 0.0\n"
     ]
    },
    {
     "name": "stderr",
     "output_type": "stream",
     "text": [
      "best_th: 0.15, fbeta: 0.14073017517805986\n"
     ]
    },
    {
     "name": "stdout",
     "output_type": "stream",
     "text": [
      "th: 0.8, fbeta: 0.0\n"
     ]
    },
    {
     "name": "stderr",
     "output_type": "stream",
     "text": [
      "Epoch 13 - avg_train_loss: 0.3400  avg_val_loss: 0.2183  time: 80s\n",
      "Epoch 13 - avgScore: 0.1407\n",
      "Train Steps Progress: 100%|\u001b[31m██████████\u001b[0m| 152/152 [00:59<00:00,  2.55it/s]\n",
      "Validation Steps Progress: 100%|\u001b[32m██████████\u001b[0m| 17/17 [00:05<00:00,  3.29it/s]\n"
     ]
    },
    {
     "name": "stdout",
     "output_type": "stream",
     "text": [
      "th: 0.1, fbeta: 0.12438237434486688\n",
      "th: 0.15, fbeta: 0.06118703742235605\n",
      "th: 0.2, fbeta: 0.002388376088364954\n",
      "th: 0.25, fbeta: 0.0\n",
      "th: 0.3, fbeta: 0.0\n",
      "th: 0.35, fbeta: 0.0\n",
      "th: 0.4, fbeta: 0.0\n",
      "th: 0.45, fbeta: 0.0\n",
      "th: 0.5, fbeta: 0.0\n",
      "th: 0.55, fbeta: 0.0\n",
      "th: 0.6, fbeta: 0.0\n",
      "th: 0.65, fbeta: 0.0\n",
      "th: 0.7, fbeta: 0.0\n",
      "th: 0.75, fbeta: 0.0\n"
     ]
    },
    {
     "name": "stderr",
     "output_type": "stream",
     "text": [
      "best_th: 0.1, fbeta: 0.12438237434486688\n",
      "Epoch 14 - avg_train_loss: 0.3430  avg_val_loss: 0.2107  time: 78s\n",
      "Epoch 14 - avgScore: 0.1244\n",
      "Epoch Progress:  93%|\u001b[37m█████████▎\u001b[0m| 14/15 [18:38<01:19, 79.53s/it]"
     ]
    },
    {
     "name": "stdout",
     "output_type": "stream",
     "text": [
      "th: 0.8, fbeta: 0.0\n"
     ]
    },
    {
     "name": "stderr",
     "output_type": "stream",
     "text": [
      "Train Steps Progress: 100%|\u001b[31m██████████\u001b[0m| 152/152 [00:59<00:00,  2.53it/s]\n",
      "Validation Steps Progress: 100%|\u001b[32m██████████\u001b[0m| 17/17 [00:04<00:00,  3.40it/s]\n"
     ]
    },
    {
     "name": "stdout",
     "output_type": "stream",
     "text": [
      "th: 0.1, fbeta: 0.16380163146491314\n",
      "th: 0.15, fbeta: 0.08379692675847304\n",
      "th: 0.2, fbeta: 0.005753548074913962\n",
      "th: 0.25, fbeta: 0.0\n",
      "th: 0.3, fbeta: 0.0\n",
      "th: 0.35, fbeta: 0.0\n",
      "th: 0.4, fbeta: 0.0\n",
      "th: 0.45, fbeta: 0.0\n",
      "th: 0.5, fbeta: 0.0\n",
      "th: 0.55, fbeta: 0.0\n",
      "th: 0.6, fbeta: 0.0\n",
      "th: 0.65, fbeta: 0.0\n",
      "th: 0.7, fbeta: 0.0\n",
      "th: 0.75, fbeta: 0.0\n"
     ]
    },
    {
     "name": "stderr",
     "output_type": "stream",
     "text": [
      "best_th: 0.1, fbeta: 0.16380163146491314\n",
      "Epoch 15 - avg_train_loss: 0.3370  avg_val_loss: 0.2019  time: 79s\n",
      "Epoch 15 - avgScore: 0.1638\n",
      "Epoch Progress: 100%|\u001b[37m██████████\u001b[0m| 15/15 [19:56<00:00, 79.80s/it]"
     ]
    },
    {
     "name": "stdout",
     "output_type": "stream",
     "text": [
      "th: 0.8, fbeta: 0.0\n"
     ]
    },
    {
     "name": "stderr",
     "output_type": "stream",
     "text": [
      "\n",
      "\u001b[34m\u001b[1mwandb\u001b[0m: Waiting for W&B process to finish... \u001b[32m(success).\u001b[0m\n",
      "\u001b[34m\u001b[1mwandb\u001b[0m: \n",
      "\u001b[34m\u001b[1mwandb\u001b[0m: Run history:\n",
      "\u001b[34m\u001b[1mwandb\u001b[0m:     Best_Score ▁▂▃▃▅▆▇▇█\n",
      "\u001b[34m\u001b[1mwandb\u001b[0m:      Best_loss █▂▂▁▂▂▁▁▁\n",
      "\u001b[34m\u001b[1mwandb\u001b[0m:        Best_th █▁█▁▁▁█▁█▁▁▁█▁▁\n",
      "\u001b[34m\u001b[1mwandb\u001b[0m: Best_threshold █▁█▁▁██▁▁\n",
      "\u001b[34m\u001b[1mwandb\u001b[0m:          Epoch ▁▁▂▃▃▃▄▅▅▅▆▇▇▇█\n",
      "\u001b[34m\u001b[1mwandb\u001b[0m:     Epoch_best ▁▂▂▃▄▅▆▇█\n",
      "\u001b[34m\u001b[1mwandb\u001b[0m:          Score ▁▂▃▃▅▅▆▆▇▇▇█▆▄█\n",
      "\u001b[34m\u001b[1mwandb\u001b[0m:     Train_loss █▂▂▂▂▂▂▂▁▁▁▁▁▁▁\n",
      "\u001b[34m\u001b[1mwandb\u001b[0m:        Val_los █▅▅▄▃▃▆▃▂▁▁▁▃▂▁\n",
      "\u001b[34m\u001b[1mwandb\u001b[0m: \n",
      "\u001b[34m\u001b[1mwandb\u001b[0m: Run summary:\n",
      "\u001b[34m\u001b[1mwandb\u001b[0m:     Best_Score 0.16421\n",
      "\u001b[34m\u001b[1mwandb\u001b[0m:      Best_loss 0.34312\n",
      "\u001b[34m\u001b[1mwandb\u001b[0m:        Best_th 0.1\n",
      "\u001b[34m\u001b[1mwandb\u001b[0m: Best_threshold 0.1\n",
      "\u001b[34m\u001b[1mwandb\u001b[0m:          Epoch 15\n",
      "\u001b[34m\u001b[1mwandb\u001b[0m:     Epoch_best 12\n",
      "\u001b[34m\u001b[1mwandb\u001b[0m:          Score 0.1638\n",
      "\u001b[34m\u001b[1mwandb\u001b[0m:     Train_loss 0.33702\n",
      "\u001b[34m\u001b[1mwandb\u001b[0m:        Val_los 0.20185\n",
      "\u001b[34m\u001b[1mwandb\u001b[0m: \n",
      "\u001b[34m\u001b[1mwandb\u001b[0m: 🚀 View run \u001b[33mPSPNet mit_b5 Fold1 freezeTrue 97559\u001b[0m at: \u001b[34m\u001b[4mhttps://wandb.ai/i-am-noob/Vesuvius%20Experiments%20PSPNet/runs/3kf4cis9\u001b[0m\n",
      "\u001b[34m\u001b[1mwandb\u001b[0m: Synced 6 W&B file(s), 0 media file(s), 0 artifact file(s) and 0 other file(s)\n",
      "\u001b[34m\u001b[1mwandb\u001b[0m: Find logs at: \u001b[35m\u001b[1m./wandb/run-20230602_190013-3kf4cis9/logs\u001b[0m\n"
     ]
    },
    {
     "name": "stdout",
     "output_type": "stream",
     "text": [
      "deleted items: memory GB:5.65\n",
      "pre inializing: memory GB:3.77\n"
     ]
    },
    {
     "name": "stderr",
     "output_type": "stream",
     "text": [
      "Image Slice Progress: 100%|\u001b[34m██████████\u001b[0m| 6/6 [00:05<00:00,  1.03it/s]\n",
      "Image Slice Progress: 100%|\u001b[34m██████████\u001b[0m| 6/6 [00:14<00:00,  2.34s/it]\n",
      "Image Slice Progress: 100%|\u001b[34m██████████\u001b[0m| 6/6 [00:04<00:00,  1.38it/s]\n"
     ]
    },
    {
     "name": "stdout",
     "output_type": "stream",
     "text": [
      "post inializing: memory GB:6.59\n",
      "Current fold --> 1\n"
     ]
    },
    {
     "name": "stderr",
     "output_type": "stream",
     "text": [
      "\u001b[34m\u001b[1mwandb\u001b[0m: Tracking run with wandb version 0.15.3\n",
      "\u001b[34m\u001b[1mwandb\u001b[0m: Run data is saved locally in \u001b[35m\u001b[1m/kaggle/working/wandb/run-20230602_192149-4s9minnv\u001b[0m\n",
      "\u001b[34m\u001b[1mwandb\u001b[0m: Run \u001b[1m`wandb offline`\u001b[0m to turn off syncing.\n",
      "\u001b[34m\u001b[1mwandb\u001b[0m: Syncing run \u001b[33mPSPNet resnet50 Fold1 freezeTrue 5900\u001b[0m\n",
      "\u001b[34m\u001b[1mwandb\u001b[0m: ⭐️ View project at \u001b[34m\u001b[4mhttps://wandb.ai/i-am-noob/Vesuvius%20Experiments%20PSPNet\u001b[0m\n",
      "\u001b[34m\u001b[1mwandb\u001b[0m: 🚀 View run at \u001b[34m\u001b[4mhttps://wandb.ai/i-am-noob/Vesuvius%20Experiments%20PSPNet/runs/4s9minnv\u001b[0m\n"
     ]
    },
    {
     "name": "stdout",
     "output_type": "stream",
     "text": [
      "model_name PSPNet\n",
      "backbone resnet50\n"
     ]
    },
    {
     "name": "stderr",
     "output_type": "stream",
     "text": [
      "Downloading: \"https://download.pytorch.org/models/resnet50-19c8e357.pth\" to /root/.cache/torch/hub/checkpoints/resnet50-19c8e357.pth\n"
     ]
    },
    {
     "data": {
      "application/vnd.jupyter.widget-view+json": {
       "model_id": "831c54e481c343e288bf2e64103a973f",
       "version_major": 2,
       "version_minor": 0
      },
      "text/plain": [
       "  0%|          | 0.00/97.8M [00:00<?, ?B/s]"
      ]
     },
     "metadata": {},
     "output_type": "display_data"
    },
    {
     "name": "stderr",
     "output_type": "stream",
     "text": [
      "Validation Steps Progress: 100%|\u001b[32m██████████\u001b[0m| 17/17 [00:03<00:00,  4.40it/s]\n"
     ]
    },
    {
     "name": "stdout",
     "output_type": "stream",
     "text": [
      "th: 0.1, fbeta: 0.07159157168739244\n",
      "th: 0.15, fbeta: 0.07159157168739244\n",
      "th: 0.2, fbeta: 0.07159157168739244\n",
      "th: 0.25, fbeta: 0.07159157168739244\n",
      "th: 0.3, fbeta: 0.07159157168739244\n",
      "th: 0.35, fbeta: 0.07159157168739244\n",
      "th: 0.4, fbeta: 0.07158297340749777\n",
      "th: 0.45, fbeta: 0.03510417786631283\n",
      "th: 0.5, fbeta: 9.364033119480556e-07\n",
      "th: 0.55, fbeta: 0.0\n",
      "th: 0.6, fbeta: 0.0\n",
      "th: 0.65, fbeta: 0.0\n",
      "th: 0.7, fbeta: 0.0\n",
      "th: 0.75, fbeta: 0.0\n"
     ]
    },
    {
     "name": "stderr",
     "output_type": "stream",
     "text": [
      "best_th: 0.1, fbeta: 0.07159157168739244\n"
     ]
    },
    {
     "name": "stdout",
     "output_type": "stream",
     "text": [
      "th: 0.8, fbeta: 0.0\n",
      "Val_loss before training -->0.5941452662666122, score --> 0.07159157168739244\n"
     ]
    },
    {
     "name": "stderr",
     "output_type": "stream",
     "text": [
      "Train Steps Progress: 100%|\u001b[31m██████████\u001b[0m| 152/152 [02:12<00:00,  1.15it/s]\n",
      "Validation Steps Progress: 100%|\u001b[32m██████████\u001b[0m| 17/17 [00:02<00:00,  5.79it/s]\n"
     ]
    },
    {
     "name": "stdout",
     "output_type": "stream",
     "text": [
      "th: 0.1, fbeta: 0.20071861850577763\n",
      "th: 0.15, fbeta: 0.2158760860616038\n",
      "th: 0.2, fbeta: 0.18854070299717615\n",
      "th: 0.25, fbeta: 0.12885923974087418\n",
      "th: 0.3, fbeta: 0.06515927539983159\n",
      "th: 0.35, fbeta: 0.025558843379875806\n",
      "th: 0.4, fbeta: 0.008459824142919445\n",
      "th: 0.45, fbeta: 0.0019633879803826527\n",
      "th: 0.5, fbeta: 0.00029293098422388485\n",
      "th: 0.55, fbeta: 2.8090475009045427e-06\n",
      "th: 0.6, fbeta: 0.0\n",
      "th: 0.65, fbeta: 0.0\n",
      "th: 0.7, fbeta: 0.0\n",
      "th: 0.75, fbeta: 0.0\n"
     ]
    },
    {
     "name": "stderr",
     "output_type": "stream",
     "text": [
      "best_th: 0.15, fbeta: 0.2158760860616038\n",
      "Epoch 1 - avg_train_loss: 0.3538  avg_val_loss: 0.1625  time: 149s\n",
      "Epoch 1 - avgScore: 0.2159\n",
      "Epoch 1 - Save Best Score: 0.2159 Model\n",
      "Epoch 1 - Save Best Loss: 0.1625 Model\n"
     ]
    },
    {
     "name": "stdout",
     "output_type": "stream",
     "text": [
      "th: 0.8, fbeta: 0.0\n",
      "saving model: memory GB:7.37\n"
     ]
    },
    {
     "name": "stderr",
     "output_type": "stream",
     "text": [
      "Train Steps Progress: 100%|\u001b[31m██████████\u001b[0m| 152/152 [02:11<00:00,  1.16it/s]\n",
      "Validation Steps Progress: 100%|\u001b[32m██████████\u001b[0m| 17/17 [00:02<00:00,  5.91it/s]\n"
     ]
    },
    {
     "name": "stdout",
     "output_type": "stream",
     "text": [
      "th: 0.1, fbeta: 0.20255831036772165\n",
      "th: 0.15, fbeta: 0.206045278754867\n",
      "th: 0.2, fbeta: 0.18073778268163787\n",
      "th: 0.25, fbeta: 0.13411457393181925\n",
      "th: 0.3, fbeta: 0.07096128908344217\n",
      "th: 0.35, fbeta: 0.026392569355359923\n",
      "th: 0.4, fbeta: 0.006082482520245767\n",
      "th: 0.45, fbeta: 0.0009363445933296571\n",
      "th: 0.5, fbeta: 0.0001413347277992854\n",
      "th: 0.55, fbeta: 1.1236288455288046e-05\n",
      "th: 0.6, fbeta: 0.0\n",
      "th: 0.65, fbeta: 0.0\n",
      "th: 0.7, fbeta: 0.0\n",
      "th: 0.75, fbeta: 0.0\n"
     ]
    },
    {
     "name": "stderr",
     "output_type": "stream",
     "text": [
      "best_th: 0.15, fbeta: 0.206045278754867\n",
      "Epoch 2 - avg_train_loss: 0.3245  avg_val_loss: 0.1629  time: 149s\n",
      "Epoch 2 - avgScore: 0.2060\n",
      "Epoch Progress:  13%|\u001b[37m█▎        \u001b[0m| 2/15 [04:57<32:16, 148.97s/it]"
     ]
    },
    {
     "name": "stdout",
     "output_type": "stream",
     "text": [
      "th: 0.8, fbeta: 0.0\n"
     ]
    },
    {
     "name": "stderr",
     "output_type": "stream",
     "text": [
      "Train Steps Progress: 100%|\u001b[31m██████████\u001b[0m| 152/152 [02:11<00:00,  1.16it/s]\n",
      "Validation Steps Progress: 100%|\u001b[32m██████████\u001b[0m| 17/17 [00:02<00:00,  5.94it/s]\n"
     ]
    },
    {
     "name": "stdout",
     "output_type": "stream",
     "text": [
      "th: 0.1, fbeta: 0.20511358468255267\n",
      "th: 0.15, fbeta: 0.23869753327400123\n",
      "th: 0.2, fbeta: 0.2507997958837978\n",
      "th: 0.25, fbeta: 0.2192630119313345\n",
      "th: 0.3, fbeta: 0.1677375874597035\n",
      "th: 0.35, fbeta: 0.10886139881017792\n",
      "th: 0.4, fbeta: 0.054657423324628036\n",
      "th: 0.45, fbeta: 0.021901238457608243\n",
      "th: 0.5, fbeta: 0.00713210039534972\n",
      "th: 0.55, fbeta: 0.0015446943892280117\n",
      "th: 0.6, fbeta: 0.0002497380147299841\n",
      "th: 0.65, fbeta: 2.1534992283878414e-05\n",
      "th: 0.7, fbeta: 0.0\n",
      "th: 0.75, fbeta: 0.0\n"
     ]
    },
    {
     "name": "stderr",
     "output_type": "stream",
     "text": [
      "best_th: 0.2, fbeta: 0.2507997958837978\n",
      "Epoch 3 - avg_train_loss: 0.3218  avg_val_loss: 0.1556  time: 150s\n",
      "Epoch 3 - avgScore: 0.2508\n",
      "Epoch 3 - Save Best Score: 0.2508 Model\n",
      "Epoch 3 - Save Best Loss: 0.1556 Model\n"
     ]
    },
    {
     "name": "stdout",
     "output_type": "stream",
     "text": [
      "th: 0.8, fbeta: 0.0\n",
      "saving model: memory GB:7.37\n"
     ]
    },
    {
     "name": "stderr",
     "output_type": "stream",
     "text": [
      "Train Steps Progress: 100%|\u001b[31m██████████\u001b[0m| 152/152 [02:10<00:00,  1.16it/s]\n",
      "Validation Steps Progress: 100%|\u001b[32m██████████\u001b[0m| 17/17 [00:02<00:00,  5.87it/s]\n"
     ]
    },
    {
     "name": "stdout",
     "output_type": "stream",
     "text": [
      "th: 0.1, fbeta: 0.20700541025032973\n",
      "th: 0.15, fbeta: 0.24215659096317535\n",
      "th: 0.2, fbeta: 0.23784793347743585\n",
      "th: 0.25, fbeta: 0.18762580660532516\n",
      "th: 0.3, fbeta: 0.12121797523002321\n",
      "th: 0.35, fbeta: 0.058086749582687724\n",
      "th: 0.4, fbeta: 0.019720214063889924\n",
      "th: 0.45, fbeta: 0.004383874898205924\n",
      "th: 0.5, fbeta: 0.0007654167380806641\n",
      "th: 0.55, fbeta: 9.2645312146278e-05\n",
      "th: 0.6, fbeta: 6.554793723817005e-06\n",
      "th: 0.65, fbeta: 0.0\n",
      "th: 0.7, fbeta: 0.0\n",
      "th: 0.75, fbeta: 0.0\n"
     ]
    },
    {
     "name": "stderr",
     "output_type": "stream",
     "text": [
      "best_th: 0.15, fbeta: 0.24215659096317535\n",
      "Epoch 4 - avg_train_loss: 0.3182  avg_val_loss: 0.1562  time: 150s\n",
      "Epoch 4 - avgScore: 0.2422\n",
      "Epoch Progress:  27%|\u001b[37m██▋       \u001b[0m| 4/15 [09:57<27:25, 149.58s/it]"
     ]
    },
    {
     "name": "stdout",
     "output_type": "stream",
     "text": [
      "th: 0.8, fbeta: 0.0\n"
     ]
    },
    {
     "name": "stderr",
     "output_type": "stream",
     "text": [
      "Train Steps Progress: 100%|\u001b[31m██████████\u001b[0m| 152/152 [02:11<00:00,  1.16it/s]\n",
      "Validation Steps Progress: 100%|\u001b[32m██████████\u001b[0m| 17/17 [00:03<00:00,  5.62it/s]\n"
     ]
    },
    {
     "name": "stdout",
     "output_type": "stream",
     "text": [
      "th: 0.1, fbeta: 0.2035056904195036\n",
      "th: 0.15, fbeta: 0.23937991438727033\n",
      "th: 0.2, fbeta: 0.2482752876636981\n",
      "th: 0.25, fbeta: 0.2087751996249074\n",
      "th: 0.3, fbeta: 0.13973141594567173\n",
      "th: 0.35, fbeta: 0.07353170426581422\n",
      "th: 0.4, fbeta: 0.02732759780174367\n",
      "th: 0.45, fbeta: 0.007700052732626107\n",
      "th: 0.5, fbeta: 0.0013632874985914478\n",
      "th: 0.55, fbeta: 8.424835800087476e-05\n",
      "th: 0.6, fbeta: 2.809205727713982e-06\n",
      "th: 0.65, fbeta: 0.0\n",
      "th: 0.7, fbeta: 0.0\n",
      "th: 0.75, fbeta: 0.0\n"
     ]
    },
    {
     "name": "stderr",
     "output_type": "stream",
     "text": [
      "best_th: 0.2, fbeta: 0.2482752876636981\n",
      "Epoch 5 - avg_train_loss: 0.3185  avg_val_loss: 0.1551  time: 152s\n",
      "Epoch 5 - avgScore: 0.2483\n",
      "Epoch Progress:  33%|\u001b[37m███▎      \u001b[0m| 5/15 [12:30<25:06, 150.61s/it]"
     ]
    },
    {
     "name": "stdout",
     "output_type": "stream",
     "text": [
      "th: 0.8, fbeta: 0.0\n"
     ]
    },
    {
     "name": "stderr",
     "output_type": "stream",
     "text": [
      "Train Steps Progress: 100%|\u001b[31m██████████\u001b[0m| 152/152 [02:11<00:00,  1.16it/s]\n",
      "Validation Steps Progress: 100%|\u001b[32m██████████\u001b[0m| 17/17 [00:02<00:00,  5.85it/s]\n"
     ]
    },
    {
     "name": "stdout",
     "output_type": "stream",
     "text": [
      "th: 0.1, fbeta: 0.1922631036093527\n",
      "th: 0.15, fbeta: 0.22785672651024386\n",
      "th: 0.2, fbeta: 0.2629058201488011\n",
      "th: 0.25, fbeta: 0.27261322770044943\n",
      "th: 0.3, fbeta: 0.2524954897991307\n",
      "th: 0.35, fbeta: 0.20713732272073057\n",
      "th: 0.4, fbeta: 0.1534384115954405\n",
      "th: 0.45, fbeta: 0.10311019788479181\n",
      "th: 0.5, fbeta: 0.054595569575157564\n",
      "th: 0.55, fbeta: 0.022247368722669778\n",
      "th: 0.6, fbeta: 0.006841781581939702\n",
      "th: 0.65, fbeta: 0.0017433170946620216\n",
      "th: 0.7, fbeta: 0.00027711414066570187\n",
      "th: 0.75, fbeta: 2.3409661926699107e-05\n"
     ]
    },
    {
     "name": "stderr",
     "output_type": "stream",
     "text": [
      "best_th: 0.25, fbeta: 0.27261322770044943\n",
      "Epoch 6 - avg_train_loss: 0.3113  avg_val_loss: 0.1536  time: 150s\n",
      "Epoch 6 - avgScore: 0.2726\n",
      "Epoch 6 - Save Best Score: 0.2726 Model\n",
      "Epoch 6 - Save Best Loss: 0.1536 Model\n"
     ]
    },
    {
     "name": "stdout",
     "output_type": "stream",
     "text": [
      "th: 0.8, fbeta: 0.0\n",
      "saving model: memory GB:7.37\n"
     ]
    },
    {
     "name": "stderr",
     "output_type": "stream",
     "text": [
      "Train Steps Progress: 100%|\u001b[31m██████████\u001b[0m| 152/152 [02:11<00:00,  1.16it/s]\n",
      "Validation Steps Progress: 100%|\u001b[32m██████████\u001b[0m| 17/17 [00:02<00:00,  6.19it/s]\n"
     ]
    },
    {
     "name": "stdout",
     "output_type": "stream",
     "text": [
      "th: 0.1, fbeta: 0.2259349499060652\n",
      "th: 0.15, fbeta: 0.24945992300226855\n",
      "th: 0.2, fbeta: 0.2227688102362784\n",
      "th: 0.25, fbeta: 0.1559631548015861\n",
      "th: 0.3, fbeta: 0.08770951834133218\n",
      "th: 0.35, fbeta: 0.03554565872904672\n",
      "th: 0.4, fbeta: 0.009963639643131133\n",
      "th: 0.45, fbeta: 0.002993944120789624\n",
      "th: 0.5, fbeta: 0.00046802631416401194\n",
      "th: 0.55, fbeta: 2.434603016594732e-05\n",
      "th: 0.6, fbeta: 0.0\n",
      "th: 0.65, fbeta: 0.0\n",
      "th: 0.7, fbeta: 0.0\n",
      "th: 0.75, fbeta: 0.0\n"
     ]
    },
    {
     "name": "stderr",
     "output_type": "stream",
     "text": [
      "best_th: 0.15, fbeta: 0.24945992300226855\n",
      "Epoch 7 - avg_train_loss: 0.3128  avg_val_loss: 0.1557  time: 150s\n",
      "Epoch 7 - avgScore: 0.2495\n",
      "Epoch Progress:  47%|\u001b[37m████▋     \u001b[0m| 7/15 [17:30<20:03, 150.39s/it]"
     ]
    },
    {
     "name": "stdout",
     "output_type": "stream",
     "text": [
      "th: 0.8, fbeta: 0.0\n"
     ]
    },
    {
     "name": "stderr",
     "output_type": "stream",
     "text": [
      "Train Steps Progress: 100%|\u001b[31m██████████\u001b[0m| 152/152 [02:11<00:00,  1.16it/s]\n",
      "Validation Steps Progress: 100%|\u001b[32m██████████\u001b[0m| 17/17 [00:02<00:00,  5.94it/s]\n"
     ]
    },
    {
     "name": "stdout",
     "output_type": "stream",
     "text": [
      "th: 0.1, fbeta: 0.19486349732207073\n",
      "th: 0.15, fbeta: 0.23038476970819594\n",
      "th: 0.2, fbeta: 0.26484072778900414\n",
      "th: 0.25, fbeta: 0.2810331099977051\n",
      "th: 0.3, fbeta: 0.2625323516577946\n",
      "th: 0.35, fbeta: 0.21710044696412406\n",
      "th: 0.4, fbeta: 0.1598076492847266\n",
      "th: 0.45, fbeta: 0.10353591424211406\n",
      "th: 0.5, fbeta: 0.05114086300878399\n",
      "th: 0.55, fbeta: 0.01680591227915402\n",
      "th: 0.6, fbeta: 0.003662428490060791\n",
      "th: 0.65, fbeta: 0.00021158932915678276\n",
      "th: 0.7, fbeta: 2.809205727713982e-06\n",
      "th: 0.75, fbeta: 0.0\n"
     ]
    },
    {
     "name": "stderr",
     "output_type": "stream",
     "text": [
      "best_th: 0.25, fbeta: 0.2810331099977051\n",
      "Epoch 8 - avg_train_loss: 0.3167  avg_val_loss: 0.1516  time: 150s\n",
      "Epoch 8 - avgScore: 0.2810\n",
      "Epoch 8 - Save Best Score: 0.2810 Model\n",
      "Epoch 8 - Save Best Loss: 0.1516 Model\n"
     ]
    },
    {
     "name": "stdout",
     "output_type": "stream",
     "text": [
      "th: 0.8, fbeta: 0.0\n",
      "saving model: memory GB:7.37\n"
     ]
    },
    {
     "name": "stderr",
     "output_type": "stream",
     "text": [
      "Train Steps Progress: 100%|\u001b[31m██████████\u001b[0m| 152/152 [02:11<00:00,  1.16it/s]\n",
      "Validation Steps Progress: 100%|\u001b[32m██████████\u001b[0m| 17/17 [00:02<00:00,  5.81it/s]\n"
     ]
    },
    {
     "name": "stdout",
     "output_type": "stream",
     "text": [
      "th: 0.1, fbeta: 0.19751162898288444\n",
      "th: 0.15, fbeta: 0.23370613621005798\n",
      "th: 0.2, fbeta: 0.26352193472790875\n",
      "th: 0.25, fbeta: 0.27105540256106014\n",
      "th: 0.3, fbeta: 0.24832242416006162\n",
      "th: 0.35, fbeta: 0.20235501362961567\n",
      "th: 0.4, fbeta: 0.14329628513851386\n",
      "th: 0.45, fbeta: 0.09181122707670566\n",
      "th: 0.5, fbeta: 0.048179464519935274\n",
      "th: 0.55, fbeta: 0.020521981188688\n",
      "th: 0.6, fbeta: 0.006138434026461566\n",
      "th: 0.65, fbeta: 0.0008056120776513104\n",
      "th: 0.7, fbeta: 1.4045758449047123e-05\n",
      "th: 0.75, fbeta: 0.0\n"
     ]
    },
    {
     "name": "stderr",
     "output_type": "stream",
     "text": [
      "best_th: 0.25, fbeta: 0.27105540256106014\n",
      "Epoch 9 - avg_train_loss: 0.3115  avg_val_loss: 0.1512  time: 149s\n",
      "Epoch 9 - avgScore: 0.2711\n",
      "Epoch Progress:  60%|\u001b[37m██████    \u001b[0m| 9/15 [22:30<15:00, 150.00s/it]"
     ]
    },
    {
     "name": "stdout",
     "output_type": "stream",
     "text": [
      "th: 0.8, fbeta: 0.0\n"
     ]
    },
    {
     "name": "stderr",
     "output_type": "stream",
     "text": [
      "Train Steps Progress: 100%|\u001b[31m██████████\u001b[0m| 152/152 [02:11<00:00,  1.16it/s]\n",
      "Validation Steps Progress: 100%|\u001b[32m██████████\u001b[0m| 17/17 [00:03<00:00,  5.12it/s]\n"
     ]
    },
    {
     "name": "stdout",
     "output_type": "stream",
     "text": [
      "th: 0.1, fbeta: 0.1897713548432432\n",
      "th: 0.15, fbeta: 0.22367324980085743\n",
      "th: 0.2, fbeta: 0.2572421960166596\n",
      "th: 0.25, fbeta: 0.2741879596807268\n",
      "th: 0.3, fbeta: 0.2569205486592492\n",
      "th: 0.35, fbeta: 0.21563825752931304\n",
      "th: 0.4, fbeta: 0.16130536298674983\n",
      "th: 0.45, fbeta: 0.11328430913404693\n",
      "th: 0.5, fbeta: 0.07156351629393012\n",
      "th: 0.55, fbeta: 0.036680159735258296\n",
      "th: 0.6, fbeta: 0.013661732321196156\n",
      "th: 0.65, fbeta: 0.003340734650013098\n",
      "th: 0.7, fbeta: 0.0002799221009802434\n",
      "th: 0.75, fbeta: 1.5918665508583476e-05\n"
     ]
    },
    {
     "name": "stderr",
     "output_type": "stream",
     "text": [
      "best_th: 0.25, fbeta: 0.2741879596807268\n",
      "Epoch 10 - avg_train_loss: 0.3071  avg_val_loss: 0.1536  time: 152s\n",
      "Epoch 10 - avgScore: 0.2742\n",
      "Epoch Progress:  67%|\u001b[37m██████▋   \u001b[0m| 10/15 [25:01<12:32, 150.56s/it]"
     ]
    },
    {
     "name": "stdout",
     "output_type": "stream",
     "text": [
      "th: 0.8, fbeta: 0.0\n"
     ]
    },
    {
     "name": "stderr",
     "output_type": "stream",
     "text": [
      "Train Steps Progress: 100%|\u001b[31m██████████\u001b[0m| 152/152 [02:11<00:00,  1.16it/s]\n",
      "Validation Steps Progress: 100%|\u001b[32m██████████\u001b[0m| 17/17 [00:02<00:00,  6.25it/s]\n"
     ]
    },
    {
     "name": "stdout",
     "output_type": "stream",
     "text": [
      "th: 0.1, fbeta: 0.20768778194734935\n",
      "th: 0.15, fbeta: 0.2484849843875\n",
      "th: 0.2, fbeta: 0.26881348489515783\n",
      "th: 0.25, fbeta: 0.24294995954465815\n",
      "th: 0.3, fbeta: 0.1839481179324283\n",
      "th: 0.35, fbeta: 0.11839488136846454\n",
      "th: 0.4, fbeta: 0.05961669284312506\n",
      "th: 0.45, fbeta: 0.020362354264405455\n",
      "th: 0.5, fbeta: 0.004723477299868899\n",
      "th: 0.55, fbeta: 0.0003154392449876988\n",
      "th: 0.6, fbeta: 2.434603016594732e-05\n",
      "th: 0.65, fbeta: 0.0\n",
      "th: 0.7, fbeta: 0.0\n",
      "th: 0.75, fbeta: 0.0\n"
     ]
    },
    {
     "name": "stderr",
     "output_type": "stream",
     "text": [
      "best_th: 0.2, fbeta: 0.26881348489515783\n",
      "Epoch 11 - avg_train_loss: 0.3131  avg_val_loss: 0.1511  time: 150s\n",
      "Epoch 11 - avgScore: 0.2688\n",
      "Epoch Progress:  73%|\u001b[37m███████▎  \u001b[0m| 11/15 [27:32<10:02, 150.52s/it]"
     ]
    },
    {
     "name": "stdout",
     "output_type": "stream",
     "text": [
      "th: 0.8, fbeta: 0.0\n"
     ]
    },
    {
     "name": "stderr",
     "output_type": "stream",
     "text": [
      "Train Steps Progress: 100%|\u001b[31m██████████\u001b[0m| 152/152 [02:11<00:00,  1.16it/s]\n",
      "Validation Steps Progress: 100%|\u001b[32m██████████\u001b[0m| 17/17 [00:03<00:00,  4.97it/s]\n"
     ]
    },
    {
     "name": "stdout",
     "output_type": "stream",
     "text": [
      "th: 0.1, fbeta: 0.20670328467422108\n",
      "th: 0.15, fbeta: 0.24567502928393567\n",
      "th: 0.2, fbeta: 0.27137518973634994\n",
      "th: 0.25, fbeta: 0.26474371165176336\n",
      "th: 0.3, fbeta: 0.22533580793305155\n",
      "th: 0.35, fbeta: 0.16601394882706402\n",
      "th: 0.4, fbeta: 0.10650478670603623\n",
      "th: 0.45, fbeta: 0.05307449307617481\n",
      "th: 0.5, fbeta: 0.019512374072527906\n",
      "th: 0.55, fbeta: 0.004701750555905313\n",
      "th: 0.6, fbeta: 0.0005078396179829052\n",
      "th: 0.65, fbeta: 8.425916470779588e-06\n",
      "th: 0.7, fbeta: 0.0\n",
      "th: 0.75, fbeta: 0.0\n"
     ]
    },
    {
     "name": "stderr",
     "output_type": "stream",
     "text": [
      "best_th: 0.2, fbeta: 0.27137518973634994\n",
      "Epoch 12 - avg_train_loss: 0.3050  avg_val_loss: 0.1499  time: 151s\n",
      "Epoch 12 - avgScore: 0.2714\n",
      "Epoch Progress:  80%|\u001b[37m████████  \u001b[0m| 12/15 [30:03<07:31, 150.58s/it]"
     ]
    },
    {
     "name": "stdout",
     "output_type": "stream",
     "text": [
      "th: 0.8, fbeta: 0.0\n"
     ]
    },
    {
     "name": "stderr",
     "output_type": "stream",
     "text": [
      "Train Steps Progress: 100%|\u001b[31m██████████\u001b[0m| 152/152 [02:11<00:00,  1.16it/s]\n",
      "Validation Steps Progress: 100%|\u001b[32m██████████\u001b[0m| 17/17 [00:02<00:00,  6.32it/s]\n"
     ]
    },
    {
     "name": "stdout",
     "output_type": "stream",
     "text": [
      "th: 0.1, fbeta: 0.20708722858302653\n",
      "th: 0.15, fbeta: 0.24307289512277225\n",
      "th: 0.2, fbeta: 0.26479351907544746\n",
      "th: 0.25, fbeta: 0.2447448426221884\n",
      "th: 0.3, fbeta: 0.18039203951161417\n",
      "th: 0.35, fbeta: 0.11426194042440706\n",
      "th: 0.4, fbeta: 0.06380746914425683\n",
      "th: 0.45, fbeta: 0.024941670585202615\n",
      "th: 0.5, fbeta: 0.007306152006510939\n",
      "th: 0.55, fbeta: 0.001341307782845431\n",
      "th: 0.6, fbeta: 0.00021626910992911274\n",
      "th: 0.65, fbeta: 3.745604831163612e-06\n",
      "th: 0.7, fbeta: 0.0\n",
      "th: 0.75, fbeta: 0.0\n"
     ]
    },
    {
     "name": "stderr",
     "output_type": "stream",
     "text": [
      "best_th: 0.2, fbeta: 0.26479351907544746\n",
      "Epoch 13 - avg_train_loss: 0.3090  avg_val_loss: 0.1515  time: 154s\n",
      "Epoch 13 - avgScore: 0.2648\n",
      "Epoch Progress:  87%|\u001b[37m████████▋ \u001b[0m| 13/15 [32:37<05:03, 151.63s/it]"
     ]
    },
    {
     "name": "stdout",
     "output_type": "stream",
     "text": [
      "th: 0.8, fbeta: 0.0\n"
     ]
    },
    {
     "name": "stderr",
     "output_type": "stream",
     "text": [
      "Train Steps Progress: 100%|\u001b[31m██████████\u001b[0m| 152/152 [02:11<00:00,  1.15it/s]\n",
      "Validation Steps Progress: 100%|\u001b[32m██████████\u001b[0m| 17/17 [00:02<00:00,  5.90it/s]\n"
     ]
    },
    {
     "name": "stdout",
     "output_type": "stream",
     "text": [
      "th: 0.1, fbeta: 0.2054991627652424\n",
      "th: 0.15, fbeta: 0.24178613145519942\n",
      "th: 0.2, fbeta: 0.265469000335145\n",
      "th: 0.25, fbeta: 0.2588670814279749\n",
      "th: 0.3, fbeta: 0.21425330796702008\n",
      "th: 0.35, fbeta: 0.15459046321806233\n",
      "th: 0.4, fbeta: 0.10335265258773481\n",
      "th: 0.45, fbeta: 0.06260734820581632\n",
      "th: 0.5, fbeta: 0.029698511523566878\n",
      "th: 0.55, fbeta: 0.010857958256591992\n",
      "th: 0.6, fbeta: 0.002749888690278115\n",
      "th: 0.65, fbeta: 0.0002771099759888881\n",
      "th: 0.7, fbeta: 4.68200253166189e-06\n",
      "th: 0.75, fbeta: 0.0\n"
     ]
    },
    {
     "name": "stderr",
     "output_type": "stream",
     "text": [
      "best_th: 0.2, fbeta: 0.265469000335145\n",
      "Epoch 14 - avg_train_loss: 0.3096  avg_val_loss: 0.1511  time: 150s\n",
      "Epoch 14 - avgScore: 0.2655\n",
      "Epoch Progress:  93%|\u001b[37m█████████▎\u001b[0m| 14/15 [35:07<02:31, 151.17s/it]"
     ]
    },
    {
     "name": "stdout",
     "output_type": "stream",
     "text": [
      "th: 0.8, fbeta: 0.0\n"
     ]
    },
    {
     "name": "stderr",
     "output_type": "stream",
     "text": [
      "Train Steps Progress: 100%|\u001b[31m██████████\u001b[0m| 152/152 [02:11<00:00,  1.16it/s]\n",
      "Validation Steps Progress: 100%|\u001b[32m██████████\u001b[0m| 17/17 [00:02<00:00,  6.24it/s]\n"
     ]
    },
    {
     "name": "stdout",
     "output_type": "stream",
     "text": [
      "th: 0.1, fbeta: 0.2054037996260871\n",
      "th: 0.15, fbeta: 0.23945516404860645\n",
      "th: 0.2, fbeta: 0.2641553297667149\n",
      "th: 0.25, fbeta: 0.2625550752851049\n",
      "th: 0.3, fbeta: 0.22739952882582545\n",
      "th: 0.35, fbeta: 0.17523668231355294\n",
      "th: 0.4, fbeta: 0.1262730491664553\n",
      "th: 0.45, fbeta: 0.08694222474122414\n",
      "th: 0.5, fbeta: 0.05244485677082755\n",
      "th: 0.55, fbeta: 0.025526068024709404\n",
      "th: 0.6, fbeta: 0.009945194699394198\n",
      "th: 0.65, fbeta: 0.00235931129803006\n",
      "th: 0.7, fbeta: 0.0003669535574384006\n",
      "th: 0.75, fbeta: 1.3109518703855815e-05\n"
     ]
    },
    {
     "name": "stderr",
     "output_type": "stream",
     "text": [
      "best_th: 0.2, fbeta: 0.2641553297667149\n",
      "Epoch 15 - avg_train_loss: 0.3027  avg_val_loss: 0.1510  time: 148s\n",
      "Epoch 15 - avgScore: 0.2642\n",
      "Epoch Progress: 100%|\u001b[37m██████████\u001b[0m| 15/15 [37:35<00:00, 150.36s/it]"
     ]
    },
    {
     "name": "stdout",
     "output_type": "stream",
     "text": [
      "th: 0.8, fbeta: 0.0\n"
     ]
    },
    {
     "name": "stderr",
     "output_type": "stream",
     "text": [
      "\n",
      "\u001b[34m\u001b[1mwandb\u001b[0m: Waiting for W&B process to finish... \u001b[32m(success).\u001b[0m\n",
      "\u001b[34m\u001b[1mwandb\u001b[0m: \n",
      "\u001b[34m\u001b[1mwandb\u001b[0m: Run history:\n",
      "\u001b[34m\u001b[1mwandb\u001b[0m:     Best_Score ▁▅▇█\n",
      "\u001b[34m\u001b[1mwandb\u001b[0m:      Best_loss █▃▁▂\n",
      "\u001b[34m\u001b[1mwandb\u001b[0m:        Best_th ▁▁▅▁▅█▁███▅▅▅▅▅\n",
      "\u001b[34m\u001b[1mwandb\u001b[0m: Best_threshold ▁▅██\n",
      "\u001b[34m\u001b[1mwandb\u001b[0m:          Epoch ▁▁▂▃▃▃▄▅▅▅▆▇▇▇█\n",
      "\u001b[34m\u001b[1mwandb\u001b[0m:     Epoch_best ▁▃▆█\n",
      "\u001b[34m\u001b[1mwandb\u001b[0m:          Score ▂▁▅▄▅▇▅█▇▇▇▇▆▇▆\n",
      "\u001b[34m\u001b[1mwandb\u001b[0m:     Train_loss █▄▄▃▃▂▂▃▂▂▂▁▂▂▁\n",
      "\u001b[34m\u001b[1mwandb\u001b[0m:        Val_los ██▄▄▄▃▄▂▂▃▂▁▂▂▂\n",
      "\u001b[34m\u001b[1mwandb\u001b[0m: \n",
      "\u001b[34m\u001b[1mwandb\u001b[0m: Run summary:\n",
      "\u001b[34m\u001b[1mwandb\u001b[0m:     Best_Score 0.28103\n",
      "\u001b[34m\u001b[1mwandb\u001b[0m:      Best_loss 0.31671\n",
      "\u001b[34m\u001b[1mwandb\u001b[0m:        Best_th 0.2\n",
      "\u001b[34m\u001b[1mwandb\u001b[0m: Best_threshold 0.25\n",
      "\u001b[34m\u001b[1mwandb\u001b[0m:          Epoch 15\n",
      "\u001b[34m\u001b[1mwandb\u001b[0m:     Epoch_best 8\n",
      "\u001b[34m\u001b[1mwandb\u001b[0m:          Score 0.26416\n",
      "\u001b[34m\u001b[1mwandb\u001b[0m:     Train_loss 0.30274\n",
      "\u001b[34m\u001b[1mwandb\u001b[0m:        Val_los 0.15104\n",
      "\u001b[34m\u001b[1mwandb\u001b[0m: \n",
      "\u001b[34m\u001b[1mwandb\u001b[0m: 🚀 View run \u001b[33mPSPNet resnet50 Fold1 freezeTrue 5900\u001b[0m at: \u001b[34m\u001b[4mhttps://wandb.ai/i-am-noob/Vesuvius%20Experiments%20PSPNet/runs/4s9minnv\u001b[0m\n",
      "\u001b[34m\u001b[1mwandb\u001b[0m: Synced 6 W&B file(s), 0 media file(s), 0 artifact file(s) and 0 other file(s)\n",
      "\u001b[34m\u001b[1mwandb\u001b[0m: Find logs at: \u001b[35m\u001b[1m./wandb/run-20230602_192149-4s9minnv/logs\u001b[0m\n"
     ]
    },
    {
     "name": "stdout",
     "output_type": "stream",
     "text": [
      "deleted items: memory GB:7.37\n",
      "pre inializing: memory GB:4.14\n"
     ]
    },
    {
     "name": "stderr",
     "output_type": "stream",
     "text": [
      "Image Slice Progress: 100%|\u001b[34m██████████\u001b[0m| 6/6 [00:04<00:00,  1.27it/s]\n",
      "Image Slice Progress: 100%|\u001b[34m██████████\u001b[0m| 6/6 [00:06<00:00,  1.07s/it]\n",
      "Image Slice Progress: 100%|\u001b[34m██████████\u001b[0m| 6/6 [00:00<00:00, 21.18it/s]\n"
     ]
    },
    {
     "name": "stdout",
     "output_type": "stream",
     "text": [
      "post inializing: memory GB:6.96\n",
      "Current fold --> 1\n"
     ]
    },
    {
     "name": "stderr",
     "output_type": "stream",
     "text": [
      "\u001b[34m\u001b[1mwandb\u001b[0m: Tracking run with wandb version 0.15.3\n",
      "\u001b[34m\u001b[1mwandb\u001b[0m: Run data is saved locally in \u001b[35m\u001b[1m/kaggle/working/wandb/run-20230602_200044-tcsmgtwc\u001b[0m\n",
      "\u001b[34m\u001b[1mwandb\u001b[0m: Run \u001b[1m`wandb offline`\u001b[0m to turn off syncing.\n",
      "\u001b[34m\u001b[1mwandb\u001b[0m: Syncing run \u001b[33mPSPNet efficientnet-b4 Fold1 freezeTrue 52243\u001b[0m\n",
      "\u001b[34m\u001b[1mwandb\u001b[0m: ⭐️ View project at \u001b[34m\u001b[4mhttps://wandb.ai/i-am-noob/Vesuvius%20Experiments%20PSPNet\u001b[0m\n",
      "\u001b[34m\u001b[1mwandb\u001b[0m: 🚀 View run at \u001b[34m\u001b[4mhttps://wandb.ai/i-am-noob/Vesuvius%20Experiments%20PSPNet/runs/tcsmgtwc\u001b[0m\n"
     ]
    },
    {
     "name": "stdout",
     "output_type": "stream",
     "text": [
      "model_name PSPNet\n",
      "backbone efficientnet-b4\n"
     ]
    },
    {
     "name": "stderr",
     "output_type": "stream",
     "text": [
      "Downloading: \"https://github.com/lukemelas/EfficientNet-PyTorch/releases/download/1.0/efficientnet-b4-6ed6700e.pth\" to /root/.cache/torch/hub/checkpoints/efficientnet-b4-6ed6700e.pth\n"
     ]
    },
    {
     "data": {
      "application/vnd.jupyter.widget-view+json": {
       "model_id": "7fb45e560b8f43e28478fa97d050c0c0",
       "version_major": 2,
       "version_minor": 0
      },
      "text/plain": [
       "  0%|          | 0.00/74.4M [00:00<?, ?B/s]"
      ]
     },
     "metadata": {},
     "output_type": "display_data"
    },
    {
     "name": "stderr",
     "output_type": "stream",
     "text": [
      "Validation Steps Progress: 100%|\u001b[32m██████████\u001b[0m| 17/17 [00:04<00:00,  4.01it/s]\n"
     ]
    },
    {
     "name": "stdout",
     "output_type": "stream",
     "text": [
      "th: 0.1, fbeta: 0.07156571291720301\n",
      "th: 0.15, fbeta: 0.07155580432193705\n",
      "th: 0.2, fbeta: 0.07154339052107457\n",
      "th: 0.25, fbeta: 0.07153832192518865\n",
      "th: 0.3, fbeta: 0.07153802925164898\n",
      "th: 0.35, fbeta: 0.07153774926205932\n",
      "th: 0.4, fbeta: 0.07153726449988355\n",
      "th: 0.45, fbeta: 0.07153670490975636\n",
      "th: 0.5, fbeta: 0.07152718584267176\n",
      "th: 0.55, fbeta: 0.07151525511937816\n",
      "th: 0.6, fbeta: 0.07151154193460528\n",
      "th: 0.65, fbeta: 0.0715097097558465\n",
      "th: 0.7, fbeta: 0.07150907101841732\n",
      "th: 0.75, fbeta: 0.07150842625097978\n"
     ]
    },
    {
     "name": "stderr",
     "output_type": "stream",
     "text": [
      "best_th: 0.1, fbeta: 0.07156571291720301\n"
     ]
    },
    {
     "name": "stdout",
     "output_type": "stream",
     "text": [
      "th: 0.8, fbeta: 0.07150775691278508\n",
      "Val_loss before training -->7.32719627780242, score --> 0.07156571291720301\n"
     ]
    },
    {
     "name": "stderr",
     "output_type": "stream",
     "text": [
      "Train Steps Progress: 100%|\u001b[31m██████████\u001b[0m| 152/152 [00:30<00:00,  4.93it/s]\n",
      "Validation Steps Progress: 100%|\u001b[32m██████████\u001b[0m| 17/17 [00:03<00:00,  5.57it/s]\n"
     ]
    },
    {
     "name": "stdout",
     "output_type": "stream",
     "text": [
      "th: 0.1, fbeta: 0.0006541857653849508\n",
      "th: 0.15, fbeta: 0.0001018907322639312\n",
      "th: 0.2, fbeta: 0.0\n",
      "th: 0.25, fbeta: 0.0\n",
      "th: 0.3, fbeta: 0.0\n",
      "th: 0.35, fbeta: 0.0\n",
      "th: 0.4, fbeta: 0.0\n",
      "th: 0.45, fbeta: 0.0\n",
      "th: 0.5, fbeta: 0.0\n",
      "th: 0.55, fbeta: 0.0\n",
      "th: 0.6, fbeta: 0.0\n",
      "th: 0.65, fbeta: 0.0\n",
      "th: 0.7, fbeta: 0.0\n",
      "th: 0.75, fbeta: 0.0\n"
     ]
    },
    {
     "name": "stderr",
     "output_type": "stream",
     "text": [
      "best_th: 0.1, fbeta: 0.0006541857653849508\n",
      "Epoch 1 - avg_train_loss: 0.4290  avg_val_loss: 0.2800  time: 47s\n",
      "Epoch 1 - avgScore: 0.0007\n",
      "Epoch Progress:   7%|\u001b[37m▋         \u001b[0m| 1/15 [00:47<11:03, 47.41s/it]"
     ]
    },
    {
     "name": "stdout",
     "output_type": "stream",
     "text": [
      "th: 0.8, fbeta: 0.0\n"
     ]
    },
    {
     "name": "stderr",
     "output_type": "stream",
     "text": [
      "Train Steps Progress: 100%|\u001b[31m██████████\u001b[0m| 152/152 [00:31<00:00,  4.89it/s]\n",
      "Validation Steps Progress: 100%|\u001b[32m██████████\u001b[0m| 17/17 [00:02<00:00,  6.08it/s]\n"
     ]
    },
    {
     "name": "stdout",
     "output_type": "stream",
     "text": [
      "th: 0.1, fbeta: 0.0004994870796632407\n",
      "th: 0.15, fbeta: 6.5530572356984295e-06\n",
      "th: 0.2, fbeta: 0.0\n",
      "th: 0.25, fbeta: 0.0\n",
      "th: 0.3, fbeta: 0.0\n",
      "th: 0.35, fbeta: 0.0\n",
      "th: 0.4, fbeta: 0.0\n",
      "th: 0.45, fbeta: 0.0\n",
      "th: 0.5, fbeta: 0.0\n",
      "th: 0.55, fbeta: 0.0\n",
      "th: 0.6, fbeta: 0.0\n",
      "th: 0.65, fbeta: 0.0\n",
      "th: 0.7, fbeta: 0.0\n",
      "th: 0.75, fbeta: 0.0\n"
     ]
    },
    {
     "name": "stderr",
     "output_type": "stream",
     "text": [
      "best_th: 0.1, fbeta: 0.0004994870796632407\n",
      "Epoch 2 - avg_train_loss: 0.3396  avg_val_loss: 0.2656  time: 48s\n",
      "Epoch 2 - avgScore: 0.0005\n",
      "Epoch Progress:  13%|\u001b[37m█▎        \u001b[0m| 2/15 [01:35<10:24, 48.03s/it]"
     ]
    },
    {
     "name": "stdout",
     "output_type": "stream",
     "text": [
      "th: 0.8, fbeta: 0.0\n"
     ]
    },
    {
     "name": "stderr",
     "output_type": "stream",
     "text": [
      "Train Steps Progress: 100%|\u001b[31m██████████\u001b[0m| 152/152 [00:31<00:00,  4.84it/s]\n",
      "Validation Steps Progress: 100%|\u001b[32m██████████\u001b[0m| 17/17 [00:02<00:00,  6.26it/s]\n"
     ]
    },
    {
     "name": "stdout",
     "output_type": "stream",
     "text": [
      "th: 0.1, fbeta: 0.032626954443529955\n",
      "th: 0.15, fbeta: 0.0026965017749968783\n",
      "th: 0.2, fbeta: 0.0002449335017457004\n",
      "th: 0.25, fbeta: 3.557375130452332e-05\n",
      "th: 0.3, fbeta: 5.617857260083633e-06\n",
      "th: 0.35, fbeta: 0.0\n",
      "th: 0.4, fbeta: 0.0\n",
      "th: 0.45, fbeta: 0.0\n",
      "th: 0.5, fbeta: 0.0\n",
      "th: 0.55, fbeta: 0.0\n",
      "th: 0.6, fbeta: 0.0\n",
      "th: 0.65, fbeta: 0.0\n",
      "th: 0.7, fbeta: 0.0\n",
      "th: 0.75, fbeta: 0.0\n"
     ]
    },
    {
     "name": "stderr",
     "output_type": "stream",
     "text": [
      "best_th: 0.1, fbeta: 0.032626954443529955\n",
      "Epoch 3 - avg_train_loss: 0.3315  avg_val_loss: 0.2099  time: 54s\n",
      "Epoch 3 - avgScore: 0.0326\n",
      "Epoch Progress:  20%|\u001b[37m██        \u001b[0m| 3/15 [02:29<10:07, 50.63s/it]"
     ]
    },
    {
     "name": "stdout",
     "output_type": "stream",
     "text": [
      "th: 0.8, fbeta: 0.0\n"
     ]
    },
    {
     "name": "stderr",
     "output_type": "stream",
     "text": [
      "Train Steps Progress: 100%|\u001b[31m██████████\u001b[0m| 152/152 [00:31<00:00,  4.90it/s]\n",
      "Validation Steps Progress: 100%|\u001b[32m██████████\u001b[0m| 17/17 [00:02<00:00,  6.20it/s]\n"
     ]
    },
    {
     "name": "stdout",
     "output_type": "stream",
     "text": [
      "th: 0.1, fbeta: 0.1726060129820838\n",
      "th: 0.15, fbeta: 0.10326724952577505\n",
      "th: 0.2, fbeta: 0.025404889199509128\n",
      "th: 0.25, fbeta: 0.004139247858216047\n",
      "th: 0.3, fbeta: 0.0005924479269037866\n",
      "th: 0.35, fbeta: 9.45406378486336e-05\n",
      "th: 0.4, fbeta: 1.1234545746313996e-05\n",
      "th: 0.45, fbeta: 9.359456626789875e-07\n",
      "th: 0.5, fbeta: 0.0\n",
      "th: 0.55, fbeta: 0.0\n",
      "th: 0.6, fbeta: 0.0\n",
      "th: 0.65, fbeta: 0.0\n",
      "th: 0.7, fbeta: 0.0\n",
      "th: 0.75, fbeta: 0.0\n"
     ]
    },
    {
     "name": "stderr",
     "output_type": "stream",
     "text": [
      "best_th: 0.1, fbeta: 0.1726060129820838\n",
      "Epoch 4 - avg_train_loss: 0.3356  avg_val_loss: 0.1776  time: 48s\n",
      "Epoch 4 - avgScore: 0.1726\n",
      "Epoch 4 - Save Best Score: 0.1726 Model\n",
      "Epoch 4 - Save Best Loss: 0.1776 Model\n"
     ]
    },
    {
     "name": "stdout",
     "output_type": "stream",
     "text": [
      "th: 0.8, fbeta: 0.0\n",
      "saving model: memory GB:7.37\n"
     ]
    },
    {
     "name": "stderr",
     "output_type": "stream",
     "text": [
      "Train Steps Progress: 100%|\u001b[31m██████████\u001b[0m| 152/152 [00:30<00:00,  4.93it/s]\n",
      "Validation Steps Progress: 100%|\u001b[32m██████████\u001b[0m| 17/17 [00:02<00:00,  6.10it/s]\n"
     ]
    },
    {
     "name": "stdout",
     "output_type": "stream",
     "text": [
      "th: 0.1, fbeta: 0.19016765490287668\n",
      "th: 0.15, fbeta: 0.18043439072731904\n",
      "th: 0.2, fbeta: 0.10115146850263122\n",
      "th: 0.25, fbeta: 0.029216525276709204\n",
      "th: 0.3, fbeta: 0.005949442411286655\n",
      "th: 0.35, fbeta: 0.001332660377904624\n",
      "th: 0.4, fbeta: 0.0002761000023726815\n",
      "th: 0.45, fbeta: 5.05602311102578e-05\n",
      "th: 0.5, fbeta: 7.490799641515e-06\n",
      "th: 0.55, fbeta: 0.0\n",
      "th: 0.6, fbeta: 0.0\n",
      "th: 0.65, fbeta: 0.0\n",
      "th: 0.7, fbeta: 0.0\n",
      "th: 0.75, fbeta: 0.0\n"
     ]
    },
    {
     "name": "stderr",
     "output_type": "stream",
     "text": [
      "best_th: 0.1, fbeta: 0.19016765490287668\n",
      "Epoch 5 - avg_train_loss: 0.3298  avg_val_loss: 0.1694  time: 56s\n",
      "Epoch 5 - avgScore: 0.1902\n",
      "Epoch 5 - Save Best Score: 0.1902 Model\n",
      "Epoch 5 - Save Best Loss: 0.1694 Model\n"
     ]
    },
    {
     "name": "stdout",
     "output_type": "stream",
     "text": [
      "th: 0.8, fbeta: 0.0\n",
      "saving model: memory GB:7.37\n"
     ]
    },
    {
     "name": "stderr",
     "output_type": "stream",
     "text": [
      "Train Steps Progress: 100%|\u001b[31m██████████\u001b[0m| 152/152 [00:31<00:00,  4.90it/s]\n",
      "Validation Steps Progress: 100%|\u001b[32m██████████\u001b[0m| 17/17 [00:02<00:00,  6.23it/s]\n"
     ]
    },
    {
     "name": "stdout",
     "output_type": "stream",
     "text": [
      "th: 0.1, fbeta: 0.17567932567786074\n",
      "th: 0.15, fbeta: 0.18712393091373886\n",
      "th: 0.2, fbeta: 0.19706927296342153\n",
      "th: 0.25, fbeta: 0.18332791666598677\n",
      "th: 0.3, fbeta: 0.12845549939954254\n",
      "th: 0.35, fbeta: 0.06255797690882872\n",
      "th: 0.4, fbeta: 0.02235809654851595\n",
      "th: 0.45, fbeta: 0.006510474418103583\n",
      "th: 0.5, fbeta: 0.0018521707156104986\n",
      "th: 0.55, fbeta: 0.0005444825645313774\n",
      "th: 0.6, fbeta: 0.0001713215378827521\n",
      "th: 0.65, fbeta: 3.8390458473989815e-05\n",
      "th: 0.7, fbeta: 9.363270059923099e-07\n",
      "th: 0.75, fbeta: 0.0\n"
     ]
    },
    {
     "name": "stderr",
     "output_type": "stream",
     "text": [
      "best_th: 0.2, fbeta: 0.19706927296342153\n",
      "Epoch 6 - avg_train_loss: 0.3309  avg_val_loss: 0.1708  time: 52s\n",
      "Epoch 6 - avgScore: 0.1971\n",
      "Epoch 6 - Save Best Score: 0.1971 Model\n",
      "Epoch 6 - Save Best Loss: 0.1708 Model\n"
     ]
    },
    {
     "name": "stdout",
     "output_type": "stream",
     "text": [
      "th: 0.8, fbeta: 0.0\n",
      "saving model: memory GB:7.37\n"
     ]
    },
    {
     "name": "stderr",
     "output_type": "stream",
     "text": [
      "Train Steps Progress: 100%|\u001b[31m██████████\u001b[0m| 152/152 [00:31<00:00,  4.86it/s]\n",
      "Validation Steps Progress: 100%|\u001b[32m██████████\u001b[0m| 17/17 [00:02<00:00,  5.95it/s]\n"
     ]
    },
    {
     "name": "stdout",
     "output_type": "stream",
     "text": [
      "th: 0.1, fbeta: 0.1781455506212326\n",
      "th: 0.15, fbeta: 0.1937427874898263\n",
      "th: 0.2, fbeta: 0.19027303561812392\n",
      "th: 0.25, fbeta: 0.13324436602626785\n",
      "th: 0.3, fbeta: 0.05791815513767285\n",
      "th: 0.35, fbeta: 0.01758054062084381\n",
      "th: 0.4, fbeta: 0.004717120825773385\n",
      "th: 0.45, fbeta: 0.0012538076633843722\n",
      "th: 0.5, fbeta: 0.00033785925328069647\n",
      "th: 0.55, fbeta: 8.520179193112564e-05\n",
      "th: 0.6, fbeta: 1.5918467996640707e-05\n",
      "th: 0.65, fbeta: 9.364033119480556e-07\n",
      "th: 0.7, fbeta: 0.0\n",
      "th: 0.75, fbeta: 0.0\n"
     ]
    },
    {
     "name": "stderr",
     "output_type": "stream",
     "text": [
      "best_th: 0.15, fbeta: 0.1937427874898263\n",
      "Epoch 7 - avg_train_loss: 0.3311  avg_val_loss: 0.1674  time: 55s\n",
      "Epoch 7 - avgScore: 0.1937\n",
      "Epoch Progress:  47%|\u001b[37m████▋     \u001b[0m| 7/15 [06:00<07:04, 53.02s/it]"
     ]
    },
    {
     "name": "stdout",
     "output_type": "stream",
     "text": [
      "th: 0.8, fbeta: 0.0\n"
     ]
    },
    {
     "name": "stderr",
     "output_type": "stream",
     "text": [
      "Train Steps Progress: 100%|\u001b[31m██████████\u001b[0m| 152/152 [00:31<00:00,  4.86it/s]\n",
      "Validation Steps Progress: 100%|\u001b[32m██████████\u001b[0m| 17/17 [00:02<00:00,  6.30it/s]\n"
     ]
    },
    {
     "name": "stdout",
     "output_type": "stream",
     "text": [
      "th: 0.1, fbeta: 0.17889234583439861\n",
      "th: 0.15, fbeta: 0.19730941464951188\n",
      "th: 0.2, fbeta: 0.19196753567179586\n",
      "th: 0.25, fbeta: 0.12782316485618425\n",
      "th: 0.3, fbeta: 0.0516640406319618\n",
      "th: 0.35, fbeta: 0.01473912872102748\n",
      "th: 0.4, fbeta: 0.003779032030917521\n",
      "th: 0.45, fbeta: 0.0010375754230011096\n",
      "th: 0.5, fbeta: 0.0002620897574336565\n",
      "th: 0.55, fbeta: 6.647896780364337e-05\n",
      "th: 0.6, fbeta: 1.7791321468342427e-05\n",
      "th: 0.65, fbeta: 9.364033119480556e-07\n",
      "th: 0.7, fbeta: 0.0\n",
      "th: 0.75, fbeta: 0.0\n"
     ]
    },
    {
     "name": "stderr",
     "output_type": "stream",
     "text": [
      "best_th: 0.15, fbeta: 0.19730941464951188\n",
      "Epoch 8 - avg_train_loss: 0.3318  avg_val_loss: 0.1663  time: 49s\n",
      "Epoch 8 - avgScore: 0.1973\n",
      "Epoch 8 - Save Best Score: 0.1973 Model\n"
     ]
    },
    {
     "name": "stdout",
     "output_type": "stream",
     "text": [
      "th: 0.8, fbeta: 0.0\n"
     ]
    },
    {
     "name": "stderr",
     "output_type": "stream",
     "text": [
      "Epoch 8 - Save Best Loss: 0.1663 Model\n"
     ]
    },
    {
     "name": "stdout",
     "output_type": "stream",
     "text": [
      "saving model: memory GB:7.37\n"
     ]
    },
    {
     "name": "stderr",
     "output_type": "stream",
     "text": [
      "Train Steps Progress: 100%|\u001b[31m██████████\u001b[0m| 152/152 [00:31<00:00,  4.85it/s]\n",
      "Validation Steps Progress: 100%|\u001b[32m██████████\u001b[0m| 17/17 [00:03<00:00,  5.19it/s]\n"
     ]
    },
    {
     "name": "stdout",
     "output_type": "stream",
     "text": [
      "th: 0.1, fbeta: 0.1789581455712417\n",
      "th: 0.15, fbeta: 0.19527543024605315\n",
      "th: 0.2, fbeta: 0.19348807292897705\n",
      "th: 0.25, fbeta: 0.1369261455957531\n",
      "th: 0.3, fbeta: 0.058715147467672896\n",
      "th: 0.35, fbeta: 0.01702289832848908\n",
      "th: 0.4, fbeta: 0.004102224729358828\n",
      "th: 0.45, fbeta: 0.0008953519086166115\n",
      "th: 0.5, fbeta: 0.0002302592117600236\n",
      "th: 0.55, fbeta: 5.430641669720709e-05\n",
      "th: 0.6, fbeta: 1.217308705693499e-05\n",
      "th: 0.65, fbeta: 9.364033119480556e-07\n",
      "th: 0.7, fbeta: 0.0\n",
      "th: 0.75, fbeta: 0.0\n"
     ]
    },
    {
     "name": "stderr",
     "output_type": "stream",
     "text": [
      "best_th: 0.15, fbeta: 0.19527543024605315\n",
      "Epoch 9 - avg_train_loss: 0.3249  avg_val_loss: 0.1660  time: 52s\n",
      "Epoch 9 - avgScore: 0.1953\n",
      "Epoch Progress:  60%|\u001b[37m██████    \u001b[0m| 9/15 [07:42<05:11, 51.91s/it]"
     ]
    },
    {
     "name": "stdout",
     "output_type": "stream",
     "text": [
      "th: 0.8, fbeta: 0.0\n"
     ]
    },
    {
     "name": "stderr",
     "output_type": "stream",
     "text": [
      "Train Steps Progress: 100%|\u001b[31m██████████\u001b[0m| 152/152 [00:31<00:00,  4.76it/s]\n",
      "Validation Steps Progress: 100%|\u001b[32m██████████\u001b[0m| 17/17 [00:02<00:00,  5.93it/s]\n"
     ]
    },
    {
     "name": "stdout",
     "output_type": "stream",
     "text": [
      "th: 0.1, fbeta: 0.17738767143711037\n",
      "th: 0.15, fbeta: 0.1939932975687529\n",
      "th: 0.2, fbeta: 0.2024354879461025\n",
      "th: 0.25, fbeta: 0.17067774803939909\n",
      "th: 0.3, fbeta: 0.09768921074440917\n",
      "th: 0.35, fbeta: 0.03643779411673675\n",
      "th: 0.4, fbeta: 0.010276175000803613\n",
      "th: 0.45, fbeta: 0.002553051685594463\n",
      "th: 0.5, fbeta: 0.0005873576365358162\n",
      "th: 0.55, fbeta: 0.00014604007928227124\n",
      "th: 0.6, fbeta: 4.026339946583419e-05\n",
      "th: 0.65, fbeta: 4.68200253166189e-06\n",
      "th: 0.7, fbeta: 0.0\n",
      "th: 0.75, fbeta: 0.0\n"
     ]
    },
    {
     "name": "stderr",
     "output_type": "stream",
     "text": [
      "best_th: 0.2, fbeta: 0.2024354879461025\n",
      "Epoch 10 - avg_train_loss: 0.3261  avg_val_loss: 0.1663  time: 51s\n",
      "Epoch 10 - avgScore: 0.2024\n",
      "Epoch 10 - Save Best Score: 0.2024 Model\n",
      "Epoch 10 - Save Best Loss: 0.1663 Model\n"
     ]
    },
    {
     "name": "stdout",
     "output_type": "stream",
     "text": [
      "th: 0.8, fbeta: 0.0\n",
      "saving model: memory GB:7.37\n"
     ]
    },
    {
     "name": "stderr",
     "output_type": "stream",
     "text": [
      "Train Steps Progress: 100%|\u001b[31m██████████\u001b[0m| 152/152 [00:31<00:00,  4.80it/s]\n",
      "Validation Steps Progress: 100%|\u001b[32m██████████\u001b[0m| 17/17 [00:02<00:00,  6.11it/s]\n"
     ]
    },
    {
     "name": "stdout",
     "output_type": "stream",
     "text": [
      "th: 0.1, fbeta: 0.17341234179023213\n",
      "th: 0.15, fbeta: 0.18672255069011018\n",
      "th: 0.2, fbeta: 0.20201462773366818\n",
      "th: 0.25, fbeta: 0.19538600277074136\n",
      "th: 0.3, fbeta: 0.14362912591845056\n",
      "th: 0.35, fbeta: 0.06959758263959938\n",
      "th: 0.4, fbeta: 0.023435352175837396\n",
      "th: 0.45, fbeta: 0.00639086865223526\n",
      "th: 0.5, fbeta: 0.001494501612996539\n",
      "th: 0.55, fbeta: 0.00034623580055435216\n",
      "th: 0.6, fbeta: 9.081710089275707e-05\n",
      "th: 0.65, fbeta: 2.4345640335018243e-05\n",
      "th: 0.7, fbeta: 9.364033119480556e-07\n",
      "th: 0.75, fbeta: 0.0\n"
     ]
    },
    {
     "name": "stderr",
     "output_type": "stream",
     "text": [
      "best_th: 0.2, fbeta: 0.20201462773366818\n",
      "Epoch 11 - avg_train_loss: 0.3252  avg_val_loss: 0.1698  time: 66s\n",
      "Epoch 11 - avgScore: 0.2020\n",
      "Epoch Progress:  73%|\u001b[37m███████▎  \u001b[0m| 11/15 [09:38<03:43, 55.94s/it]"
     ]
    },
    {
     "name": "stdout",
     "output_type": "stream",
     "text": [
      "th: 0.8, fbeta: 0.0\n"
     ]
    },
    {
     "name": "stderr",
     "output_type": "stream",
     "text": [
      "Train Steps Progress: 100%|\u001b[31m██████████\u001b[0m| 152/152 [00:31<00:00,  4.81it/s]\n",
      "Validation Steps Progress: 100%|\u001b[32m██████████\u001b[0m| 17/17 [00:02<00:00,  5.83it/s]\n"
     ]
    },
    {
     "name": "stdout",
     "output_type": "stream",
     "text": [
      "th: 0.1, fbeta: 0.1739211778844382\n",
      "th: 0.15, fbeta: 0.1895331211503369\n",
      "th: 0.2, fbeta: 0.2073202063386654\n",
      "th: 0.25, fbeta: 0.19725165520628138\n",
      "th: 0.3, fbeta: 0.13554653738069755\n",
      "th: 0.35, fbeta: 0.05959746070048672\n",
      "th: 0.4, fbeta: 0.018760185609719572\n",
      "th: 0.45, fbeta: 0.004899911980437203\n",
      "th: 0.5, fbeta: 0.0011214088101403064\n",
      "th: 0.55, fbeta: 0.00029297103987690115\n",
      "th: 0.6, fbeta: 5.9925419300824455e-05\n",
      "th: 0.65, fbeta: 1.2173133629777816e-05\n",
      "th: 0.7, fbeta: 9.364033119480556e-07\n",
      "th: 0.75, fbeta: 0.0\n"
     ]
    },
    {
     "name": "stderr",
     "output_type": "stream",
     "text": [
      "best_th: 0.2, fbeta: 0.2073202063386654\n",
      "Epoch 12 - avg_train_loss: 0.3226  avg_val_loss: 0.1678  time: 53s\n",
      "Epoch 12 - avgScore: 0.2073\n",
      "Epoch 12 - Save Best Score: 0.2073 Model\n",
      "Epoch 12 - Save Best Loss: 0.1678 Model\n"
     ]
    },
    {
     "name": "stdout",
     "output_type": "stream",
     "text": [
      "th: 0.8, fbeta: 0.0\n",
      "saving model: memory GB:7.37\n"
     ]
    },
    {
     "name": "stderr",
     "output_type": "stream",
     "text": [
      "Train Steps Progress: 100%|\u001b[31m██████████\u001b[0m| 152/152 [00:31<00:00,  4.85it/s]\n",
      "Validation Steps Progress: 100%|\u001b[32m██████████\u001b[0m| 17/17 [00:03<00:00,  4.78it/s]\n"
     ]
    },
    {
     "name": "stdout",
     "output_type": "stream",
     "text": [
      "th: 0.1, fbeta: 0.17429495014642546\n",
      "th: 0.15, fbeta: 0.19361919087786322\n",
      "th: 0.2, fbeta: 0.2099015374442081\n",
      "th: 0.25, fbeta: 0.18027787271262943\n",
      "th: 0.3, fbeta: 0.09786439940303548\n",
      "th: 0.35, fbeta: 0.033740626002098095\n",
      "th: 0.4, fbeta: 0.00855783672565073\n",
      "th: 0.45, fbeta: 0.0018605250494671609\n",
      "th: 0.5, fbeta: 0.00041828029459447483\n",
      "th: 0.55, fbeta: 8.613833771990543e-05\n",
      "th: 0.6, fbeta: 1.9664018389643405e-05\n",
      "th: 0.65, fbeta: 1.8728052213098475e-06\n",
      "th: 0.7, fbeta: 0.0\n",
      "th: 0.75, fbeta: 0.0\n"
     ]
    },
    {
     "name": "stderr",
     "output_type": "stream",
     "text": [
      "best_th: 0.2, fbeta: 0.2099015374442081\n",
      "Epoch 13 - avg_train_loss: 0.3264  avg_val_loss: 0.1665  time: 51s\n",
      "Epoch 13 - avgScore: 0.2099\n",
      "Epoch 13 - Save Best Score: 0.2099 Model\n",
      "Epoch 13 - Save Best Loss: 0.1665 Model\n"
     ]
    },
    {
     "name": "stdout",
     "output_type": "stream",
     "text": [
      "th: 0.8, fbeta: 0.0\n",
      "saving model: memory GB:7.37\n"
     ]
    },
    {
     "name": "stderr",
     "output_type": "stream",
     "text": [
      "Train Steps Progress: 100%|\u001b[31m██████████\u001b[0m| 152/152 [00:31<00:00,  4.81it/s]\n",
      "Validation Steps Progress: 100%|\u001b[32m██████████\u001b[0m| 17/17 [00:02<00:00,  6.19it/s]\n"
     ]
    },
    {
     "name": "stdout",
     "output_type": "stream",
     "text": [
      "th: 0.1, fbeta: 0.1766461834633581\n",
      "th: 0.15, fbeta: 0.20160522112767879\n",
      "th: 0.2, fbeta: 0.19990592283994374\n",
      "th: 0.25, fbeta: 0.12986524610280017\n",
      "th: 0.3, fbeta: 0.04759448189763818\n",
      "th: 0.35, fbeta: 0.01169436986681272\n",
      "th: 0.4, fbeta: 0.002317390729837062\n",
      "th: 0.45, fbeta: 0.000474304528608146\n",
      "th: 0.5, fbeta: 7.396401844439027e-05\n",
      "th: 0.55, fbeta: 1.966370529476152e-05\n",
      "th: 0.6, fbeta: 1.8728052213098475e-06\n",
      "th: 0.65, fbeta: 0.0\n",
      "th: 0.7, fbeta: 0.0\n",
      "th: 0.75, fbeta: 0.0\n"
     ]
    },
    {
     "name": "stderr",
     "output_type": "stream",
     "text": [
      "best_th: 0.15, fbeta: 0.20160522112767879\n",
      "Epoch 14 - avg_train_loss: 0.3244  avg_val_loss: 0.1657  time: 53s\n",
      "Epoch 14 - avgScore: 0.2016\n",
      "Epoch Progress:  93%|\u001b[37m█████████▎\u001b[0m| 14/15 [12:15<00:53, 53.54s/it]"
     ]
    },
    {
     "name": "stdout",
     "output_type": "stream",
     "text": [
      "th: 0.8, fbeta: 0.0\n"
     ]
    },
    {
     "name": "stderr",
     "output_type": "stream",
     "text": [
      "Train Steps Progress: 100%|\u001b[31m██████████\u001b[0m| 152/152 [00:30<00:00,  5.02it/s]\n",
      "Validation Steps Progress: 100%|\u001b[32m██████████\u001b[0m| 17/17 [00:03<00:00,  4.93it/s]\n"
     ]
    },
    {
     "name": "stdout",
     "output_type": "stream",
     "text": [
      "th: 0.1, fbeta: 0.1762778127858358\n",
      "th: 0.15, fbeta: 0.20226059182968723\n",
      "th: 0.2, fbeta: 0.20775472147928162\n",
      "th: 0.25, fbeta: 0.1479271449819598\n",
      "th: 0.3, fbeta: 0.06187320620717233\n",
      "th: 0.35, fbeta: 0.01687386854612091\n",
      "th: 0.4, fbeta: 0.0036657750124887223\n",
      "th: 0.45, fbeta: 0.0007508640557711088\n",
      "th: 0.5, fbeta: 0.00013949088547581093\n",
      "th: 0.55, fbeta: 2.9027258352551028e-05\n",
      "th: 0.6, fbeta: 5.618398829211969e-06\n",
      "th: 0.65, fbeta: 9.364033119480556e-07\n",
      "th: 0.7, fbeta: 0.0\n",
      "th: 0.75, fbeta: 0.0\n"
     ]
    },
    {
     "name": "stderr",
     "output_type": "stream",
     "text": [
      "best_th: 0.2, fbeta: 0.20775472147928162\n",
      "Epoch 15 - avg_train_loss: 0.3212  avg_val_loss: 0.1650  time: 62s\n",
      "Epoch 15 - avgScore: 0.2078\n",
      "Epoch Progress: 100%|\u001b[37m██████████\u001b[0m| 15/15 [13:17<00:00, 53.17s/it]"
     ]
    },
    {
     "name": "stdout",
     "output_type": "stream",
     "text": [
      "th: 0.8, fbeta: 0.0\n"
     ]
    },
    {
     "name": "stderr",
     "output_type": "stream",
     "text": [
      "\n",
      "\u001b[34m\u001b[1mwandb\u001b[0m: Waiting for W&B process to finish... \u001b[32m(success).\u001b[0m\n",
      "\u001b[34m\u001b[1mwandb\u001b[0m: \n",
      "\u001b[34m\u001b[1mwandb\u001b[0m: Run history:\n",
      "\u001b[34m\u001b[1mwandb\u001b[0m:     Best_Score ▁▄▆▆▇██\n",
      "\u001b[34m\u001b[1mwandb\u001b[0m:      Best_loss █▅▅▆▃▁▃\n",
      "\u001b[34m\u001b[1mwandb\u001b[0m:        Best_th ▁▁▁▁▁█▅▅▅████▅█\n",
      "\u001b[34m\u001b[1mwandb\u001b[0m: Best_threshold ▁▁█▅███\n",
      "\u001b[34m\u001b[1mwandb\u001b[0m:          Epoch ▁▁▂▃▃▃▄▅▅▅▆▇▇▇█\n",
      "\u001b[34m\u001b[1mwandb\u001b[0m:     Epoch_best ▁▂▃▄▆▇█\n",
      "\u001b[34m\u001b[1mwandb\u001b[0m:          Score ▁▁▂▇▇█▇████████\n",
      "\u001b[34m\u001b[1mwandb\u001b[0m:     Train_loss █▂▂▂▂▂▂▂▁▁▁▁▁▁▁\n",
      "\u001b[34m\u001b[1mwandb\u001b[0m:        Val_los █▇▄▂▁▁▁▁▁▁▁▁▁▁▁\n",
      "\u001b[34m\u001b[1mwandb\u001b[0m: \n",
      "\u001b[34m\u001b[1mwandb\u001b[0m: Run summary:\n",
      "\u001b[34m\u001b[1mwandb\u001b[0m:     Best_Score 0.2099\n",
      "\u001b[34m\u001b[1mwandb\u001b[0m:      Best_loss 0.32641\n",
      "\u001b[34m\u001b[1mwandb\u001b[0m:        Best_th 0.2\n",
      "\u001b[34m\u001b[1mwandb\u001b[0m: Best_threshold 0.2\n",
      "\u001b[34m\u001b[1mwandb\u001b[0m:          Epoch 15\n",
      "\u001b[34m\u001b[1mwandb\u001b[0m:     Epoch_best 13\n",
      "\u001b[34m\u001b[1mwandb\u001b[0m:          Score 0.20775\n",
      "\u001b[34m\u001b[1mwandb\u001b[0m:     Train_loss 0.32116\n",
      "\u001b[34m\u001b[1mwandb\u001b[0m:        Val_los 0.16496\n",
      "\u001b[34m\u001b[1mwandb\u001b[0m: \n",
      "\u001b[34m\u001b[1mwandb\u001b[0m: 🚀 View run \u001b[33mPSPNet efficientnet-b4 Fold1 freezeTrue 52243\u001b[0m at: \u001b[34m\u001b[4mhttps://wandb.ai/i-am-noob/Vesuvius%20Experiments%20PSPNet/runs/tcsmgtwc\u001b[0m\n",
      "\u001b[34m\u001b[1mwandb\u001b[0m: Synced 6 W&B file(s), 0 media file(s), 0 artifact file(s) and 0 other file(s)\n",
      "\u001b[34m\u001b[1mwandb\u001b[0m: Find logs at: \u001b[35m\u001b[1m./wandb/run-20230602_200044-tcsmgtwc/logs\u001b[0m\n"
     ]
    },
    {
     "name": "stdout",
     "output_type": "stream",
     "text": [
      "deleted items: memory GB:7.37\n",
      "pre inializing: memory GB:4.14\n"
     ]
    },
    {
     "name": "stderr",
     "output_type": "stream",
     "text": [
      "Image Slice Progress: 100%|\u001b[34m██████████\u001b[0m| 6/6 [00:06<00:00,  1.00s/it]\n",
      "Image Slice Progress: 100%|\u001b[34m██████████\u001b[0m| 6/6 [00:10<00:00,  1.70s/it]\n",
      "Image Slice Progress: 100%|\u001b[34m██████████\u001b[0m| 6/6 [00:03<00:00,  1.50it/s]\n"
     ]
    },
    {
     "name": "stdout",
     "output_type": "stream",
     "text": [
      "post inializing: memory GB:6.97\n",
      "Current fold --> 1\n"
     ]
    },
    {
     "name": "stderr",
     "output_type": "stream",
     "text": [
      "\u001b[34m\u001b[1mwandb\u001b[0m: Tracking run with wandb version 0.15.3\n",
      "\u001b[34m\u001b[1mwandb\u001b[0m: Run data is saved locally in \u001b[35m\u001b[1m/kaggle/working/wandb/run-20230602_201538-dgea0xhy\u001b[0m\n",
      "\u001b[34m\u001b[1mwandb\u001b[0m: Run \u001b[1m`wandb offline`\u001b[0m to turn off syncing.\n",
      "\u001b[34m\u001b[1mwandb\u001b[0m: Syncing run \u001b[33mPSPNet efficientnet-b5 Fold1 freezeTrue 51941\u001b[0m\n",
      "\u001b[34m\u001b[1mwandb\u001b[0m: ⭐️ View project at \u001b[34m\u001b[4mhttps://wandb.ai/i-am-noob/Vesuvius%20Experiments%20PSPNet\u001b[0m\n",
      "\u001b[34m\u001b[1mwandb\u001b[0m: 🚀 View run at \u001b[34m\u001b[4mhttps://wandb.ai/i-am-noob/Vesuvius%20Experiments%20PSPNet/runs/dgea0xhy\u001b[0m\n"
     ]
    },
    {
     "name": "stdout",
     "output_type": "stream",
     "text": [
      "model_name PSPNet\n",
      "backbone efficientnet-b5\n"
     ]
    },
    {
     "name": "stderr",
     "output_type": "stream",
     "text": [
      "Downloading: \"https://github.com/lukemelas/EfficientNet-PyTorch/releases/download/1.0/efficientnet-b5-b6417697.pth\" to /root/.cache/torch/hub/checkpoints/efficientnet-b5-b6417697.pth\n"
     ]
    },
    {
     "data": {
      "application/vnd.jupyter.widget-view+json": {
       "model_id": "6996d5d59eef41d08ba19f435b01ee15",
       "version_major": 2,
       "version_minor": 0
      },
      "text/plain": [
       "  0%|          | 0.00/117M [00:00<?, ?B/s]"
      ]
     },
     "metadata": {},
     "output_type": "display_data"
    },
    {
     "name": "stderr",
     "output_type": "stream",
     "text": [
      "Validation Steps Progress: 100%|\u001b[32m██████████\u001b[0m| 17/17 [00:03<00:00,  4.48it/s]\n"
     ]
    },
    {
     "name": "stdout",
     "output_type": "stream",
     "text": [
      "th: 0.1, fbeta: 0.07156856025899236\n",
      "th: 0.15, fbeta: 0.071556764975271\n",
      "th: 0.2, fbeta: 0.07153614716173037\n",
      "th: 0.25, fbeta: 0.07143602999658613\n",
      "th: 0.3, fbeta: 0.07140653397807871\n",
      "th: 0.35, fbeta: 0.0713703437039144\n",
      "th: 0.4, fbeta: 0.07136484272662873\n",
      "th: 0.45, fbeta: 0.07136655890330225\n",
      "th: 0.5, fbeta: 0.0713479944925605\n",
      "th: 0.55, fbeta: 0.07131688182569894\n",
      "th: 0.6, fbeta: 0.07134153600057458\n",
      "th: 0.65, fbeta: 0.07131683032021938\n",
      "th: 0.7, fbeta: 0.07139177079785013\n",
      "th: 0.75, fbeta: 0.07134220914077338\n"
     ]
    },
    {
     "name": "stderr",
     "output_type": "stream",
     "text": [
      "best_th: 0.1, fbeta: 0.07156856025899236\n"
     ]
    },
    {
     "name": "stdout",
     "output_type": "stream",
     "text": [
      "th: 0.8, fbeta: 0.07130389329440093\n",
      "Val_loss before training -->2.179824550872831, score --> 0.07156856025899236\n"
     ]
    },
    {
     "name": "stderr",
     "output_type": "stream",
     "text": [
      "Train Steps Progress: 100%|\u001b[31m██████████\u001b[0m| 152/152 [00:33<00:00,  4.50it/s]\n",
      "Validation Steps Progress: 100%|\u001b[32m██████████\u001b[0m| 17/17 [00:03<00:00,  5.16it/s]\n"
     ]
    },
    {
     "name": "stdout",
     "output_type": "stream",
     "text": [
      "th: 0.1, fbeta: 0.0004785952433337784\n",
      "th: 0.15, fbeta: 0.0\n",
      "th: 0.2, fbeta: 0.0\n",
      "th: 0.25, fbeta: 0.0\n",
      "th: 0.3, fbeta: 0.0\n",
      "th: 0.35, fbeta: 0.0\n",
      "th: 0.4, fbeta: 0.0\n",
      "th: 0.45, fbeta: 0.0\n",
      "th: 0.5, fbeta: 0.0\n",
      "th: 0.55, fbeta: 0.0\n",
      "th: 0.6, fbeta: 0.0\n",
      "th: 0.65, fbeta: 0.0\n",
      "th: 0.7, fbeta: 0.0\n",
      "th: 0.75, fbeta: 0.0\n"
     ]
    },
    {
     "name": "stderr",
     "output_type": "stream",
     "text": [
      "best_th: 0.1, fbeta: 0.0004785952433337784\n",
      "Epoch 1 - avg_train_loss: 0.3789  avg_val_loss: 0.2733  time: 50s\n",
      "Epoch 1 - avgScore: 0.0005\n",
      "Epoch Progress:   7%|\u001b[37m▋         \u001b[0m| 1/15 [00:50<11:46, 50.46s/it]"
     ]
    },
    {
     "name": "stdout",
     "output_type": "stream",
     "text": [
      "th: 0.8, fbeta: 0.0\n"
     ]
    },
    {
     "name": "stderr",
     "output_type": "stream",
     "text": [
      "Train Steps Progress: 100%|\u001b[31m██████████\u001b[0m| 152/152 [00:33<00:00,  4.48it/s]\n",
      "Validation Steps Progress: 100%|\u001b[32m██████████\u001b[0m| 17/17 [00:03<00:00,  5.35it/s]\n"
     ]
    },
    {
     "name": "stdout",
     "output_type": "stream",
     "text": [
      "th: 0.1, fbeta: 0.004572268502813893\n",
      "th: 0.15, fbeta: 0.0006820705425935133\n",
      "th: 0.2, fbeta: 0.00011882905818195223\n",
      "th: 0.25, fbeta: 9.352219654905201e-07\n",
      "th: 0.3, fbeta: 0.0\n",
      "th: 0.35, fbeta: 0.0\n",
      "th: 0.4, fbeta: 0.0\n",
      "th: 0.45, fbeta: 0.0\n",
      "th: 0.5, fbeta: 0.0\n",
      "th: 0.55, fbeta: 0.0\n",
      "th: 0.6, fbeta: 0.0\n",
      "th: 0.65, fbeta: 0.0\n",
      "th: 0.7, fbeta: 0.0\n",
      "th: 0.75, fbeta: 0.0\n"
     ]
    },
    {
     "name": "stderr",
     "output_type": "stream",
     "text": [
      "best_th: 0.1, fbeta: 0.004572268502813893\n",
      "Epoch 2 - avg_train_loss: 0.3421  avg_val_loss: 0.2300  time: 61s\n",
      "Epoch 2 - avgScore: 0.0046\n",
      "Epoch Progress:  13%|\u001b[37m█▎        \u001b[0m| 2/15 [01:51<12:13, 56.40s/it]"
     ]
    },
    {
     "name": "stdout",
     "output_type": "stream",
     "text": [
      "th: 0.8, fbeta: 0.0\n"
     ]
    },
    {
     "name": "stderr",
     "output_type": "stream",
     "text": [
      "Train Steps Progress: 100%|\u001b[31m██████████\u001b[0m| 152/152 [00:34<00:00,  4.44it/s]\n",
      "Validation Steps Progress: 100%|\u001b[32m██████████\u001b[0m| 17/17 [00:03<00:00,  4.88it/s]\n"
     ]
    },
    {
     "name": "stdout",
     "output_type": "stream",
     "text": [
      "th: 0.1, fbeta: 0.10047247916100235\n",
      "th: 0.15, fbeta: 0.019210654406785318\n",
      "th: 0.2, fbeta: 0.0027525528019804422\n",
      "th: 0.25, fbeta: 0.0005311839177317344\n",
      "th: 0.3, fbeta: 0.00011046992166819054\n",
      "th: 0.35, fbeta: 2.0599438255523076e-05\n",
      "th: 0.4, fbeta: 1.872572105271145e-06\n",
      "th: 0.45, fbeta: 0.0\n",
      "th: 0.5, fbeta: 0.0\n",
      "th: 0.55, fbeta: 0.0\n",
      "th: 0.6, fbeta: 0.0\n",
      "th: 0.65, fbeta: 0.0\n",
      "th: 0.7, fbeta: 0.0\n",
      "th: 0.75, fbeta: 0.0\n"
     ]
    },
    {
     "name": "stderr",
     "output_type": "stream",
     "text": [
      "best_th: 0.1, fbeta: 0.10047247916100235\n",
      "Epoch 3 - avg_train_loss: 0.3358  avg_val_loss: 0.1985  time: 65s\n",
      "Epoch 3 - avgScore: 0.1005\n",
      "Epoch 3 - Save Best Score: 0.1005 Model\n",
      "Epoch 3 - Save Best Loss: 0.1985 Model\n"
     ]
    },
    {
     "name": "stdout",
     "output_type": "stream",
     "text": [
      "th: 0.8, fbeta: 0.0\n",
      "saving model: memory GB:7.37\n"
     ]
    },
    {
     "name": "stderr",
     "output_type": "stream",
     "text": [
      "Train Steps Progress: 100%|\u001b[31m██████████\u001b[0m| 152/152 [00:34<00:00,  4.39it/s]\n",
      "Validation Steps Progress: 100%|\u001b[32m██████████\u001b[0m| 17/17 [00:03<00:00,  5.49it/s]\n"
     ]
    },
    {
     "name": "stdout",
     "output_type": "stream",
     "text": [
      "th: 0.1, fbeta: 0.1738351490622779\n",
      "th: 0.15, fbeta: 0.11624066921347101\n",
      "th: 0.2, fbeta: 0.03811110922656441\n",
      "th: 0.25, fbeta: 0.008260871719749258\n",
      "th: 0.3, fbeta: 0.0016438564763123942\n",
      "th: 0.35, fbeta: 0.00033584144842663087\n",
      "th: 0.4, fbeta: 9.174482578513181e-05\n",
      "th: 0.45, fbeta: 2.808985128785516e-05\n",
      "th: 0.5, fbeta: 9.363703184700057e-06\n",
      "th: 0.55, fbeta: 1.8728052213098475e-06\n",
      "th: 0.6, fbeta: 0.0\n",
      "th: 0.65, fbeta: 0.0\n",
      "th: 0.7, fbeta: 0.0\n",
      "th: 0.75, fbeta: 0.0\n"
     ]
    },
    {
     "name": "stderr",
     "output_type": "stream",
     "text": [
      "best_th: 0.1, fbeta: 0.1738351490622779\n",
      "Epoch 4 - avg_train_loss: 0.3343  avg_val_loss: 0.1794  time: 67s\n",
      "Epoch 4 - avgScore: 0.1738\n",
      "Epoch 4 - Save Best Score: 0.1738 Model\n",
      "Epoch 4 - Save Best Loss: 0.1794 Model\n"
     ]
    },
    {
     "name": "stdout",
     "output_type": "stream",
     "text": [
      "th: 0.8, fbeta: 0.0\n",
      "saving model: memory GB:7.37\n"
     ]
    },
    {
     "name": "stderr",
     "output_type": "stream",
     "text": [
      "Train Steps Progress: 100%|\u001b[31m██████████\u001b[0m| 152/152 [00:33<00:00,  4.49it/s]\n",
      "Validation Steps Progress: 100%|\u001b[32m██████████\u001b[0m| 17/17 [00:03<00:00,  5.52it/s]\n"
     ]
    },
    {
     "name": "stdout",
     "output_type": "stream",
     "text": [
      "th: 0.1, fbeta: 0.1843491419678054\n",
      "th: 0.15, fbeta: 0.16483155845651123\n",
      "th: 0.2, fbeta: 0.09254847103361516\n",
      "th: 0.25, fbeta: 0.028521189162267976\n",
      "th: 0.3, fbeta: 0.006219958488653358\n",
      "th: 0.35, fbeta: 0.0014005450979077813\n",
      "th: 0.4, fbeta: 0.0003713963712296723\n",
      "th: 0.45, fbeta: 0.00011514580705207321\n",
      "th: 0.5, fbeta: 3.3707440881209335e-05\n",
      "th: 0.55, fbeta: 1.030022376397333e-05\n",
      "th: 0.6, fbeta: 9.364033119480556e-07\n",
      "th: 0.65, fbeta: 0.0\n",
      "th: 0.7, fbeta: 0.0\n",
      "th: 0.75, fbeta: 0.0\n"
     ]
    },
    {
     "name": "stderr",
     "output_type": "stream",
     "text": [
      "best_th: 0.1, fbeta: 0.1843491419678054\n",
      "Epoch 5 - avg_train_loss: 0.3328  avg_val_loss: 0.1718  time: 53s\n",
      "Epoch 5 - avgScore: 0.1843\n",
      "Epoch 5 - Save Best Score: 0.1843 Model\n",
      "Epoch 5 - Save Best Loss: 0.1718 Model\n"
     ]
    },
    {
     "name": "stdout",
     "output_type": "stream",
     "text": [
      "th: 0.8, fbeta: 0.0\n",
      "saving model: memory GB:7.37\n"
     ]
    },
    {
     "name": "stderr",
     "output_type": "stream",
     "text": [
      "Train Steps Progress: 100%|\u001b[31m██████████\u001b[0m| 152/152 [00:33<00:00,  4.47it/s]\n",
      "Validation Steps Progress: 100%|\u001b[32m██████████\u001b[0m| 17/17 [00:03<00:00,  5.59it/s]\n"
     ]
    },
    {
     "name": "stdout",
     "output_type": "stream",
     "text": [
      "th: 0.1, fbeta: 0.18205055520719915\n",
      "th: 0.15, fbeta: 0.1802950687755277\n",
      "th: 0.2, fbeta: 0.13264451679122485\n",
      "th: 0.25, fbeta: 0.05674330649022837\n",
      "th: 0.3, fbeta: 0.015769774499217133\n",
      "th: 0.35, fbeta: 0.003628893392642413\n",
      "th: 0.4, fbeta: 0.0008742274267291005\n",
      "th: 0.45, fbeta: 0.00024891341150199667\n",
      "th: 0.5, fbeta: 7.770445764696336e-05\n",
      "th: 0.55, fbeta: 1.6853492634372483e-05\n",
      "th: 0.6, fbeta: 9.36174431383015e-07\n",
      "th: 0.65, fbeta: 0.0\n",
      "th: 0.7, fbeta: 0.0\n",
      "th: 0.75, fbeta: 0.0\n"
     ]
    },
    {
     "name": "stderr",
     "output_type": "stream",
     "text": [
      "best_th: 0.1, fbeta: 0.18205055520719915\n",
      "Epoch 6 - avg_train_loss: 0.3321  avg_val_loss: 0.1695  time: 104s\n",
      "Epoch 6 - avgScore: 0.1821\n",
      "Epoch Progress:  40%|\u001b[37m████      \u001b[0m| 6/15 [06:41<11:13, 74.88s/it]"
     ]
    },
    {
     "name": "stdout",
     "output_type": "stream",
     "text": [
      "th: 0.8, fbeta: 0.0\n"
     ]
    },
    {
     "name": "stderr",
     "output_type": "stream",
     "text": [
      "Train Steps Progress: 100%|\u001b[31m██████████\u001b[0m| 152/152 [00:34<00:00,  4.45it/s]\n",
      "Validation Steps Progress: 100%|\u001b[32m██████████\u001b[0m| 17/17 [00:02<00:00,  5.72it/s]\n"
     ]
    },
    {
     "name": "stdout",
     "output_type": "stream",
     "text": [
      "th: 0.1, fbeta: 0.17888370228772524\n",
      "th: 0.15, fbeta: 0.18641975603384442\n",
      "th: 0.2, fbeta: 0.1639283160555018\n",
      "th: 0.25, fbeta: 0.0991036313006475\n",
      "th: 0.3, fbeta: 0.03724067824818009\n",
      "th: 0.35, fbeta: 0.010707612934561482\n",
      "th: 0.4, fbeta: 0.0026786686904402375\n",
      "th: 0.45, fbeta: 0.0007027205642166498\n",
      "th: 0.5, fbeta: 0.0001993467915085041\n",
      "th: 0.55, fbeta: 5.149386516561382e-05\n",
      "th: 0.6, fbeta: 7.49045516498983e-06\n",
      "th: 0.65, fbeta: 0.0\n",
      "th: 0.7, fbeta: 0.0\n",
      "th: 0.75, fbeta: 0.0\n"
     ]
    },
    {
     "name": "stderr",
     "output_type": "stream",
     "text": [
      "best_th: 0.15, fbeta: 0.18641975603384442\n",
      "Epoch 7 - avg_train_loss: 0.3293  avg_val_loss: 0.1700  time: 80s\n",
      "Epoch 7 - avgScore: 0.1864\n",
      "Epoch 7 - Save Best Score: 0.1864 Model\n",
      "Epoch 7 - Save Best Loss: 0.1700 Model\n"
     ]
    },
    {
     "name": "stdout",
     "output_type": "stream",
     "text": [
      "th: 0.8, fbeta: 0.0\n",
      "saving model: memory GB:7.37\n"
     ]
    },
    {
     "name": "stderr",
     "output_type": "stream",
     "text": [
      "Train Steps Progress: 100%|\u001b[31m██████████\u001b[0m| 152/152 [00:34<00:00,  4.46it/s]\n",
      "Validation Steps Progress: 100%|\u001b[32m██████████\u001b[0m| 17/17 [00:03<00:00,  5.27it/s]\n"
     ]
    },
    {
     "name": "stdout",
     "output_type": "stream",
     "text": [
      "th: 0.1, fbeta: 0.17815438577603723\n",
      "th: 0.15, fbeta: 0.18858650960668938\n",
      "th: 0.2, fbeta: 0.17772155584594512\n",
      "th: 0.25, fbeta: 0.12221805083864701\n",
      "th: 0.3, fbeta: 0.053192792720342226\n",
      "th: 0.35, fbeta: 0.016480401793400427\n",
      "th: 0.4, fbeta: 0.004285182296727352\n",
      "th: 0.45, fbeta: 0.0010494595342253465\n",
      "th: 0.5, fbeta: 0.00028726117409368855\n",
      "th: 0.55, fbeta: 7.208852548579555e-05\n",
      "th: 0.6, fbeta: 1.123550875549695e-05\n",
      "th: 0.65, fbeta: 0.0\n",
      "th: 0.7, fbeta: 0.0\n",
      "th: 0.75, fbeta: 0.0\n"
     ]
    },
    {
     "name": "stderr",
     "output_type": "stream",
     "text": [
      "best_th: 0.15, fbeta: 0.18858650960668938\n",
      "Epoch 8 - avg_train_loss: 0.3272  avg_val_loss: 0.1687  time: 60s\n",
      "Epoch 8 - avgScore: 0.1886\n",
      "Epoch 8 - Save Best Score: 0.1886 Model\n",
      "Epoch 8 - Save Best Loss: 0.1687 Model\n"
     ]
    },
    {
     "name": "stdout",
     "output_type": "stream",
     "text": [
      "th: 0.8, fbeta: 0.0\n",
      "saving model: memory GB:7.37\n"
     ]
    },
    {
     "name": "stderr",
     "output_type": "stream",
     "text": [
      "Train Steps Progress: 100%|\u001b[31m██████████\u001b[0m| 152/152 [00:34<00:00,  4.45it/s]\n",
      "Validation Steps Progress: 100%|\u001b[32m██████████\u001b[0m| 17/17 [00:03<00:00,  5.43it/s]\n"
     ]
    },
    {
     "name": "stdout",
     "output_type": "stream",
     "text": [
      "th: 0.1, fbeta: 0.1777640701656953\n",
      "th: 0.15, fbeta: 0.18636818266325464\n",
      "th: 0.2, fbeta: 0.17126851556707948\n",
      "th: 0.25, fbeta: 0.10693533499566678\n",
      "th: 0.3, fbeta: 0.039500171695312114\n",
      "th: 0.35, fbeta: 0.010610593016225666\n",
      "th: 0.4, fbeta: 0.002425885782954703\n",
      "th: 0.45, fbeta: 0.000557283479009586\n",
      "th: 0.5, fbeta: 0.00013198412876643098\n",
      "th: 0.55, fbeta: 2.527890115729087e-05\n",
      "th: 0.6, fbeta: 1.872300209897065e-06\n",
      "th: 0.65, fbeta: 0.0\n",
      "th: 0.7, fbeta: 0.0\n",
      "th: 0.75, fbeta: 0.0\n"
     ]
    },
    {
     "name": "stderr",
     "output_type": "stream",
     "text": [
      "best_th: 0.15, fbeta: 0.18636818266325464\n",
      "Epoch 9 - avg_train_loss: 0.3320  avg_val_loss: 0.1686  time: 105s\n",
      "Epoch 9 - avgScore: 0.1864\n",
      "Epoch Progress:  60%|\u001b[37m██████    \u001b[0m| 9/15 [10:46<08:10, 81.79s/it]"
     ]
    },
    {
     "name": "stdout",
     "output_type": "stream",
     "text": [
      "th: 0.8, fbeta: 0.0\n"
     ]
    },
    {
     "name": "stderr",
     "output_type": "stream",
     "text": [
      "Train Steps Progress: 100%|\u001b[31m██████████\u001b[0m| 152/152 [00:34<00:00,  4.42it/s]\n",
      "Validation Steps Progress: 100%|\u001b[32m██████████\u001b[0m| 17/17 [00:02<00:00,  5.72it/s]\n"
     ]
    },
    {
     "name": "stdout",
     "output_type": "stream",
     "text": [
      "th: 0.1, fbeta: 0.17507663296216003\n",
      "th: 0.15, fbeta: 0.18778089706647177\n",
      "th: 0.2, fbeta: 0.1930528004545707\n",
      "th: 0.25, fbeta: 0.1594746576049418\n",
      "th: 0.3, fbeta: 0.08560429766946136\n",
      "th: 0.35, fbeta: 0.028917912494454925\n",
      "th: 0.4, fbeta: 0.007503467148956512\n",
      "th: 0.45, fbeta: 0.0016877140550689972\n",
      "th: 0.5, fbeta: 0.0003592495699955423\n",
      "th: 0.55, fbeta: 7.864152181007487e-05\n",
      "th: 0.6, fbeta: 1.1235692204536134e-05\n",
      "th: 0.65, fbeta: 9.36174431383015e-07\n",
      "th: 0.7, fbeta: 0.0\n",
      "th: 0.75, fbeta: 0.0\n"
     ]
    },
    {
     "name": "stderr",
     "output_type": "stream",
     "text": [
      "best_th: 0.2, fbeta: 0.1930528004545707\n",
      "Epoch 10 - avg_train_loss: 0.3262  avg_val_loss: 0.1691  time: 61s\n",
      "Epoch 10 - avgScore: 0.1931\n",
      "Epoch 10 - Save Best Score: 0.1931 Model\n",
      "Epoch 10 - Save Best Loss: 0.1691 Model\n"
     ]
    },
    {
     "name": "stdout",
     "output_type": "stream",
     "text": [
      "th: 0.8, fbeta: 0.0\n",
      "saving model: memory GB:7.37\n"
     ]
    },
    {
     "name": "stderr",
     "output_type": "stream",
     "text": [
      "Train Steps Progress: 100%|\u001b[31m██████████\u001b[0m| 152/152 [00:34<00:00,  4.39it/s]\n",
      "Validation Steps Progress: 100%|\u001b[32m██████████\u001b[0m| 17/17 [00:03<00:00,  5.37it/s]\n"
     ]
    },
    {
     "name": "stdout",
     "output_type": "stream",
     "text": [
      "th: 0.1, fbeta: 0.17477235725875004\n",
      "th: 0.15, fbeta: 0.18931256900469584\n",
      "th: 0.2, fbeta: 0.19539765367153897\n",
      "th: 0.25, fbeta: 0.1609238598186093\n",
      "th: 0.3, fbeta: 0.0856610685382483\n",
      "th: 0.35, fbeta: 0.028704279665218223\n",
      "th: 0.4, fbeta: 0.007464389489154446\n",
      "th: 0.45, fbeta: 0.0015997121447838731\n",
      "th: 0.5, fbeta: 0.0003199930387369411\n",
      "th: 0.55, fbeta: 6.459978205514782e-05\n",
      "th: 0.6, fbeta: 9.362991778243098e-06\n",
      "th: 0.65, fbeta: 9.36174431383015e-07\n",
      "th: 0.7, fbeta: 0.0\n",
      "th: 0.75, fbeta: 0.0\n"
     ]
    },
    {
     "name": "stderr",
     "output_type": "stream",
     "text": [
      "best_th: 0.2, fbeta: 0.19539765367153897\n",
      "Epoch 11 - avg_train_loss: 0.3248  avg_val_loss: 0.1688  time: 60s\n",
      "Epoch 11 - avgScore: 0.1954\n",
      "Epoch 11 - Save Best Score: 0.1954 Model\n",
      "Epoch 11 - Save Best Loss: 0.1688 Model\n"
     ]
    },
    {
     "name": "stdout",
     "output_type": "stream",
     "text": [
      "th: 0.8, fbeta: 0.0\n",
      "saving model: memory GB:7.37\n"
     ]
    },
    {
     "name": "stderr",
     "output_type": "stream",
     "text": [
      "Train Steps Progress: 100%|\u001b[31m██████████\u001b[0m| 152/152 [00:34<00:00,  4.42it/s]\n",
      "Validation Steps Progress: 100%|\u001b[32m██████████\u001b[0m| 17/17 [00:03<00:00,  5.52it/s]\n"
     ]
    },
    {
     "name": "stdout",
     "output_type": "stream",
     "text": [
      "th: 0.1, fbeta: 0.17657346328201387\n",
      "th: 0.15, fbeta: 0.194038569673612\n",
      "th: 0.2, fbeta: 0.19658990546193109\n",
      "th: 0.25, fbeta: 0.14327977467427033\n",
      "th: 0.3, fbeta: 0.062190406117282486\n",
      "th: 0.35, fbeta: 0.017831234071693736\n",
      "th: 0.4, fbeta: 0.004283867945373104\n",
      "th: 0.45, fbeta: 0.000854235157378393\n",
      "th: 0.5, fbeta: 0.00015163570149658134\n",
      "th: 0.55, fbeta: 2.9024476433517362e-05\n",
      "th: 0.6, fbeta: 1.8723390472591103e-06\n",
      "th: 0.65, fbeta: 0.0\n",
      "th: 0.7, fbeta: 0.0\n",
      "th: 0.75, fbeta: 0.0\n"
     ]
    },
    {
     "name": "stderr",
     "output_type": "stream",
     "text": [
      "best_th: 0.2, fbeta: 0.19658990546193109\n"
     ]
    },
    {
     "name": "stdout",
     "output_type": "stream",
     "text": [
      "th: 0.8, fbeta: 0.0\n"
     ]
    },
    {
     "name": "stderr",
     "output_type": "stream",
     "text": [
      "Epoch 12 - avg_train_loss: 0.3250  avg_val_loss: 0.1669  time: 93s\n",
      "Epoch 12 - avgScore: 0.1966\n",
      "Epoch 12 - Save Best Score: 0.1966 Model\n",
      "Epoch 12 - Save Best Loss: 0.1669 Model\n"
     ]
    },
    {
     "name": "stdout",
     "output_type": "stream",
     "text": [
      "saving model: memory GB:7.37\n"
     ]
    },
    {
     "name": "stderr",
     "output_type": "stream",
     "text": [
      "Train Steps Progress: 100%|\u001b[31m██████████\u001b[0m| 152/152 [00:34<00:00,  4.44it/s]\n",
      "Validation Steps Progress: 100%|\u001b[32m██████████\u001b[0m| 17/17 [00:03<00:00,  4.90it/s]\n"
     ]
    },
    {
     "name": "stdout",
     "output_type": "stream",
     "text": [
      "th: 0.1, fbeta: 0.1835380296065264\n",
      "th: 0.15, fbeta: 0.1979830386207324\n",
      "th: 0.2, fbeta: 0.1530337319242063\n",
      "th: 0.25, fbeta: 0.06017533002035406\n",
      "th: 0.3, fbeta: 0.01379613675052511\n",
      "th: 0.35, fbeta: 0.002574455434323967\n",
      "th: 0.4, fbeta: 0.000436890351309747\n",
      "th: 0.45, fbeta: 6.460072614150796e-05\n",
      "th: 0.5, fbeta: 8.426572774001148e-06\n",
      "th: 0.55, fbeta: 9.36174431383015e-07\n",
      "th: 0.6, fbeta: 0.0\n",
      "th: 0.65, fbeta: 0.0\n",
      "th: 0.7, fbeta: 0.0\n",
      "th: 0.75, fbeta: 0.0\n"
     ]
    },
    {
     "name": "stderr",
     "output_type": "stream",
     "text": [
      "best_th: 0.15, fbeta: 0.1979830386207324\n",
      "Epoch 13 - avg_train_loss: 0.3248  avg_val_loss: 0.1661  time: 60s\n",
      "Epoch 13 - avgScore: 0.1980\n",
      "Epoch 13 - Save Best Score: 0.1980 Model\n",
      "Epoch 13 - Save Best Loss: 0.1661 Model\n"
     ]
    },
    {
     "name": "stdout",
     "output_type": "stream",
     "text": [
      "th: 0.8, fbeta: 0.0\n",
      "saving model: memory GB:7.37\n"
     ]
    },
    {
     "name": "stderr",
     "output_type": "stream",
     "text": [
      "Train Steps Progress: 100%|\u001b[31m██████████\u001b[0m| 152/152 [00:34<00:00,  4.35it/s]\n",
      "Validation Steps Progress: 100%|\u001b[32m██████████\u001b[0m| 17/17 [00:03<00:00,  5.38it/s]\n"
     ]
    },
    {
     "name": "stdout",
     "output_type": "stream",
     "text": [
      "th: 0.1, fbeta: 0.17458414240836037\n",
      "th: 0.15, fbeta: 0.19201656170971587\n",
      "th: 0.2, fbeta: 0.20441323479011334\n",
      "th: 0.25, fbeta: 0.17319742696936405\n",
      "th: 0.3, fbeta: 0.0914490036996964\n",
      "th: 0.35, fbeta: 0.029867219084823347\n",
      "th: 0.4, fbeta: 0.007555602790511814\n",
      "th: 0.45, fbeta: 0.0016127714203410955\n",
      "th: 0.5, fbeta: 0.00028821850526346824\n",
      "th: 0.55, fbeta: 5.430133897005824e-05\n",
      "th: 0.6, fbeta: 7.490239883249967e-06\n",
      "th: 0.65, fbeta: 0.0\n",
      "th: 0.7, fbeta: 0.0\n",
      "th: 0.75, fbeta: 0.0\n"
     ]
    },
    {
     "name": "stderr",
     "output_type": "stream",
     "text": [
      "best_th: 0.2, fbeta: 0.20441323479011334\n",
      "Epoch 14 - avg_train_loss: 0.3283  avg_val_loss: 0.1672  time: 98s\n",
      "Epoch 14 - avgScore: 0.2044\n",
      "Epoch 14 - Save Best Score: 0.2044 Model\n",
      "Epoch 14 - Save Best Loss: 0.1672 Model\n"
     ]
    },
    {
     "name": "stdout",
     "output_type": "stream",
     "text": [
      "th: 0.8, fbeta: 0.0\n",
      "saving model: memory GB:7.37\n"
     ]
    },
    {
     "name": "stderr",
     "output_type": "stream",
     "text": [
      "Train Steps Progress: 100%|\u001b[31m██████████\u001b[0m| 152/152 [00:34<00:00,  4.40it/s]\n",
      "Validation Steps Progress: 100%|\u001b[32m██████████\u001b[0m| 17/17 [00:03<00:00,  4.73it/s]\n"
     ]
    },
    {
     "name": "stdout",
     "output_type": "stream",
     "text": [
      "th: 0.1, fbeta: 0.1793859353900361\n",
      "th: 0.15, fbeta: 0.20065428269615845\n",
      "th: 0.2, fbeta: 0.19803936971578567\n",
      "th: 0.25, fbeta: 0.12691059485801826\n",
      "th: 0.3, fbeta: 0.04479236392828762\n",
      "th: 0.35, fbeta: 0.011139456120585249\n",
      "th: 0.4, fbeta: 0.002249021420088363\n",
      "th: 0.45, fbeta: 0.00039762783929854284\n",
      "th: 0.5, fbeta: 6.740865866660408e-05\n",
      "th: 0.55, fbeta: 6.553904188119817e-06\n",
      "th: 0.6, fbeta: 0.0\n",
      "th: 0.65, fbeta: 0.0\n",
      "th: 0.7, fbeta: 0.0\n",
      "th: 0.75, fbeta: 0.0\n"
     ]
    },
    {
     "name": "stderr",
     "output_type": "stream",
     "text": [
      "best_th: 0.15, fbeta: 0.20065428269615845\n",
      "Epoch 15 - avg_train_loss: 0.3234  avg_val_loss: 0.1649  time: 57s\n",
      "Epoch 15 - avgScore: 0.2007\n",
      "Epoch Progress: 100%|\u001b[37m██████████\u001b[0m| 15/15 [17:58<00:00, 71.92s/it]"
     ]
    },
    {
     "name": "stdout",
     "output_type": "stream",
     "text": [
      "th: 0.8, fbeta: 0.0\n"
     ]
    },
    {
     "name": "stderr",
     "output_type": "stream",
     "text": [
      "\n",
      "\u001b[34m\u001b[1mwandb\u001b[0m: Waiting for W&B process to finish... \u001b[32m(success).\u001b[0m\n",
      "\u001b[34m\u001b[1mwandb\u001b[0m: \n",
      "\u001b[34m\u001b[1mwandb\u001b[0m: Run history:\n",
      "\u001b[34m\u001b[1mwandb\u001b[0m:     Best_Score ▁▆▇▇▇▇▇▇██\n",
      "\u001b[34m\u001b[1mwandb\u001b[0m:      Best_loss █▇▆▄▃▂▁▁▁▃\n",
      "\u001b[34m\u001b[1mwandb\u001b[0m:        Best_th ▁▁▁▁▁▁▅▅▅███▅█▅\n",
      "\u001b[34m\u001b[1mwandb\u001b[0m: Best_threshold ▁▁▁▅▅███▅█\n",
      "\u001b[34m\u001b[1mwandb\u001b[0m:          Epoch ▁▁▂▃▃▃▄▅▅▅▆▇▇▇█\n",
      "\u001b[34m\u001b[1mwandb\u001b[0m:     Epoch_best ▁▂▂▄▄▅▆▇▇█\n",
      "\u001b[34m\u001b[1mwandb\u001b[0m:          Score ▁▁▄▇▇▇▇▇▇██████\n",
      "\u001b[34m\u001b[1mwandb\u001b[0m:     Train_loss █▃▃▂▂▂▂▁▂▁▁▁▁▂▁\n",
      "\u001b[34m\u001b[1mwandb\u001b[0m:        Val_los █▅▃▂▁▁▁▁▁▁▁▁▁▁▁\n",
      "\u001b[34m\u001b[1mwandb\u001b[0m: \n",
      "\u001b[34m\u001b[1mwandb\u001b[0m: Run summary:\n",
      "\u001b[34m\u001b[1mwandb\u001b[0m:     Best_Score 0.20441\n",
      "\u001b[34m\u001b[1mwandb\u001b[0m:      Best_loss 0.3283\n",
      "\u001b[34m\u001b[1mwandb\u001b[0m:        Best_th 0.15\n",
      "\u001b[34m\u001b[1mwandb\u001b[0m: Best_threshold 0.2\n",
      "\u001b[34m\u001b[1mwandb\u001b[0m:          Epoch 15\n",
      "\u001b[34m\u001b[1mwandb\u001b[0m:     Epoch_best 14\n",
      "\u001b[34m\u001b[1mwandb\u001b[0m:          Score 0.20065\n",
      "\u001b[34m\u001b[1mwandb\u001b[0m:     Train_loss 0.32335\n",
      "\u001b[34m\u001b[1mwandb\u001b[0m:        Val_los 0.16495\n",
      "\u001b[34m\u001b[1mwandb\u001b[0m: \n",
      "\u001b[34m\u001b[1mwandb\u001b[0m: 🚀 View run \u001b[33mPSPNet efficientnet-b5 Fold1 freezeTrue 51941\u001b[0m at: \u001b[34m\u001b[4mhttps://wandb.ai/i-am-noob/Vesuvius%20Experiments%20PSPNet/runs/dgea0xhy\u001b[0m\n",
      "\u001b[34m\u001b[1mwandb\u001b[0m: Synced 6 W&B file(s), 0 media file(s), 0 artifact file(s) and 0 other file(s)\n",
      "\u001b[34m\u001b[1mwandb\u001b[0m: Find logs at: \u001b[35m\u001b[1m./wandb/run-20230602_201538-dgea0xhy/logs\u001b[0m\n"
     ]
    },
    {
     "name": "stdout",
     "output_type": "stream",
     "text": [
      "deleted items: memory GB:7.37\n",
      "pre inializing: memory GB:4.14\n"
     ]
    },
    {
     "name": "stderr",
     "output_type": "stream",
     "text": [
      "Image Slice Progress: 100%|\u001b[34m██████████\u001b[0m| 6/6 [00:06<00:00,  1.07s/it]\n",
      "Image Slice Progress: 100%|\u001b[34m██████████\u001b[0m| 6/6 [00:15<00:00,  2.52s/it]\n",
      "Image Slice Progress: 100%|\u001b[34m██████████\u001b[0m| 6/6 [00:04<00:00,  1.44it/s]\n"
     ]
    },
    {
     "name": "stdout",
     "output_type": "stream",
     "text": [
      "post inializing: memory GB:6.96\n",
      "Current fold --> 1\n"
     ]
    },
    {
     "name": "stderr",
     "output_type": "stream",
     "text": [
      "\u001b[34m\u001b[1mwandb\u001b[0m: Tracking run with wandb version 0.15.3\n",
      "\u001b[34m\u001b[1mwandb\u001b[0m: Run data is saved locally in \u001b[35m\u001b[1m/kaggle/working/wandb/run-20230602_203537-jry6bt4v\u001b[0m\n",
      "\u001b[34m\u001b[1mwandb\u001b[0m: Run \u001b[1m`wandb offline`\u001b[0m to turn off syncing.\n",
      "\u001b[34m\u001b[1mwandb\u001b[0m: Syncing run \u001b[33mPSPNet efficientnet-b6 Fold1 freezeTrue 41929\u001b[0m\n",
      "\u001b[34m\u001b[1mwandb\u001b[0m: ⭐️ View project at \u001b[34m\u001b[4mhttps://wandb.ai/i-am-noob/Vesuvius%20Experiments%20PSPNet\u001b[0m\n",
      "\u001b[34m\u001b[1mwandb\u001b[0m: 🚀 View run at \u001b[34m\u001b[4mhttps://wandb.ai/i-am-noob/Vesuvius%20Experiments%20PSPNet/runs/jry6bt4v\u001b[0m\n"
     ]
    },
    {
     "name": "stdout",
     "output_type": "stream",
     "text": [
      "model_name PSPNet\n",
      "backbone efficientnet-b6\n"
     ]
    },
    {
     "name": "stderr",
     "output_type": "stream",
     "text": [
      "Downloading: \"https://github.com/lukemelas/EfficientNet-PyTorch/releases/download/1.0/efficientnet-b6-c76e70fd.pth\" to /root/.cache/torch/hub/checkpoints/efficientnet-b6-c76e70fd.pth\n"
     ]
    },
    {
     "data": {
      "application/vnd.jupyter.widget-view+json": {
       "model_id": "9849e17cd618401d92080715161f7022",
       "version_major": 2,
       "version_minor": 0
      },
      "text/plain": [
       "  0%|          | 0.00/165M [00:00<?, ?B/s]"
      ]
     },
     "metadata": {},
     "output_type": "display_data"
    },
    {
     "name": "stderr",
     "output_type": "stream",
     "text": [
      "Validation Steps Progress: 100%|\u001b[32m██████████\u001b[0m| 17/17 [00:04<00:00,  3.44it/s]\n"
     ]
    },
    {
     "name": "stdout",
     "output_type": "stream",
     "text": [
      "th: 0.1, fbeta: 0.07159157168739244\n",
      "th: 0.15, fbeta: 0.07159157168739244\n",
      "th: 0.2, fbeta: 0.07159157168739244\n",
      "th: 0.25, fbeta: 0.07159157168739244\n",
      "th: 0.3, fbeta: 0.07159157168739244\n",
      "th: 0.35, fbeta: 0.07159148837610299\n",
      "th: 0.4, fbeta: 0.07159097718645074\n",
      "th: 0.45, fbeta: 0.0715873949923249\n",
      "th: 0.5, fbeta: 0.07156614189940479\n",
      "th: 0.55, fbeta: 0.0715208396523393\n",
      "th: 0.6, fbeta: 0.07148003123317487\n",
      "th: 0.65, fbeta: 0.07140779314053569\n",
      "th: 0.7, fbeta: 0.0713281494580672\n",
      "th: 0.75, fbeta: 0.07128270862840556\n"
     ]
    },
    {
     "name": "stderr",
     "output_type": "stream",
     "text": [
      "best_th: 0.1, fbeta: 0.07159157168739244\n"
     ]
    },
    {
     "name": "stdout",
     "output_type": "stream",
     "text": [
      "th: 0.8, fbeta: 0.07130172466910778\n",
      "Val_loss before training -->2.353545788267769, score --> 0.07159157168739244\n"
     ]
    },
    {
     "name": "stderr",
     "output_type": "stream",
     "text": [
      "Train Steps Progress: 100%|\u001b[31m██████████\u001b[0m| 152/152 [00:35<00:00,  4.33it/s]\n",
      "Validation Steps Progress: 100%|\u001b[32m██████████\u001b[0m| 17/17 [00:03<00:00,  5.02it/s]\n"
     ]
    },
    {
     "name": "stdout",
     "output_type": "stream",
     "text": [
      "th: 0.1, fbeta: 0.0030756829300512263\n",
      "th: 0.15, fbeta: 0.0006958668918549014\n",
      "th: 0.2, fbeta: 0.0001849866103284052\n",
      "th: 0.25, fbeta: 9.361924871218455e-06\n",
      "th: 0.3, fbeta: 0.0\n",
      "th: 0.35, fbeta: 0.0\n",
      "th: 0.4, fbeta: 0.0\n",
      "th: 0.45, fbeta: 0.0\n",
      "th: 0.5, fbeta: 0.0\n",
      "th: 0.55, fbeta: 0.0\n",
      "th: 0.6, fbeta: 0.0\n",
      "th: 0.65, fbeta: 0.0\n",
      "th: 0.7, fbeta: 0.0\n",
      "th: 0.75, fbeta: 0.0\n"
     ]
    },
    {
     "name": "stderr",
     "output_type": "stream",
     "text": [
      "best_th: 0.1, fbeta: 0.0030756829300512263\n",
      "Epoch 1 - avg_train_loss: 0.4038  avg_val_loss: 0.2579  time: 52s\n",
      "Epoch 1 - avgScore: 0.0031\n",
      "Epoch Progress:   7%|\u001b[37m▋         \u001b[0m| 1/15 [00:51<12:01, 51.52s/it]"
     ]
    },
    {
     "name": "stdout",
     "output_type": "stream",
     "text": [
      "th: 0.8, fbeta: 0.0\n"
     ]
    },
    {
     "name": "stderr",
     "output_type": "stream",
     "text": [
      "Train Steps Progress: 100%|\u001b[31m██████████\u001b[0m| 152/152 [00:35<00:00,  4.31it/s]\n",
      "Validation Steps Progress: 100%|\u001b[32m██████████\u001b[0m| 17/17 [00:03<00:00,  4.85it/s]\n"
     ]
    },
    {
     "name": "stdout",
     "output_type": "stream",
     "text": [
      "th: 0.1, fbeta: 0.04076657877732496\n",
      "th: 0.15, fbeta: 0.0037530902196006273\n",
      "th: 0.2, fbeta: 0.0005015558182028545\n",
      "th: 0.25, fbeta: 8.048344073879601e-05\n",
      "th: 0.3, fbeta: 1.2170432993834245e-05\n",
      "th: 0.35, fbeta: 2.808928842494008e-06\n",
      "th: 0.4, fbeta: 0.0\n",
      "th: 0.45, fbeta: 0.0\n",
      "th: 0.5, fbeta: 0.0\n",
      "th: 0.55, fbeta: 0.0\n",
      "th: 0.6, fbeta: 0.0\n",
      "th: 0.65, fbeta: 0.0\n",
      "th: 0.7, fbeta: 0.0\n",
      "th: 0.75, fbeta: 0.0\n"
     ]
    },
    {
     "name": "stderr",
     "output_type": "stream",
     "text": [
      "best_th: 0.1, fbeta: 0.04076657877732496\n",
      "Epoch 2 - avg_train_loss: 0.3355  avg_val_loss: 0.2100  time: 71s\n",
      "Epoch 2 - avgScore: 0.0408\n",
      "Epoch Progress:  13%|\u001b[37m█▎        \u001b[0m| 2/15 [02:02<13:41, 63.20s/it]"
     ]
    },
    {
     "name": "stdout",
     "output_type": "stream",
     "text": [
      "th: 0.8, fbeta: 0.0\n"
     ]
    },
    {
     "name": "stderr",
     "output_type": "stream",
     "text": [
      "Train Steps Progress: 100%|\u001b[31m██████████\u001b[0m| 152/152 [00:35<00:00,  4.30it/s]\n",
      "Validation Steps Progress: 100%|\u001b[32m██████████\u001b[0m| 17/17 [00:03<00:00,  4.98it/s]\n"
     ]
    },
    {
     "name": "stdout",
     "output_type": "stream",
     "text": [
      "th: 0.1, fbeta: 0.1584577504277558\n",
      "th: 0.15, fbeta: 0.08518875996820113\n",
      "th: 0.2, fbeta: 0.02062742125604333\n",
      "th: 0.25, fbeta: 0.003559329091971676\n",
      "th: 0.3, fbeta: 0.0006214811898594377\n",
      "th: 0.35, fbeta: 0.00013011085869026347\n",
      "th: 0.4, fbeta: 4.2133654645153974e-05\n",
      "th: 0.45, fbeta: 8.427229179470924e-06\n",
      "th: 0.5, fbeta: 9.364033119480556e-07\n",
      "th: 0.55, fbeta: 0.0\n",
      "th: 0.6, fbeta: 0.0\n",
      "th: 0.65, fbeta: 0.0\n",
      "th: 0.7, fbeta: 0.0\n",
      "th: 0.75, fbeta: 0.0\n"
     ]
    },
    {
     "name": "stderr",
     "output_type": "stream",
     "text": [
      "best_th: 0.1, fbeta: 0.1584577504277558\n",
      "Epoch 3 - avg_train_loss: 0.3334  avg_val_loss: 0.1865  time: 57s\n",
      "Epoch 3 - avgScore: 0.1585\n",
      "Epoch 3 - Save Best Score: 0.1585 Model\n",
      "Epoch 3 - Save Best Loss: 0.1865 Model\n"
     ]
    },
    {
     "name": "stdout",
     "output_type": "stream",
     "text": [
      "th: 0.8, fbeta: 0.0\n",
      "saving model: memory GB:7.37\n"
     ]
    },
    {
     "name": "stderr",
     "output_type": "stream",
     "text": [
      "Train Steps Progress: 100%|\u001b[31m██████████\u001b[0m| 152/152 [00:35<00:00,  4.27it/s]\n",
      "Validation Steps Progress: 100%|\u001b[32m██████████\u001b[0m| 17/17 [00:03<00:00,  5.17it/s]\n"
     ]
    },
    {
     "name": "stdout",
     "output_type": "stream",
     "text": [
      "th: 0.1, fbeta: 0.1721346678061283\n",
      "th: 0.15, fbeta: 0.12769893870475704\n",
      "th: 0.2, fbeta: 0.04698423766484142\n",
      "th: 0.25, fbeta: 0.009878692898906128\n",
      "th: 0.3, fbeta: 0.00187466898353287\n",
      "th: 0.35, fbeta: 0.0003433048789531736\n",
      "th: 0.4, fbeta: 4.118990070204613e-05\n",
      "th: 0.45, fbeta: 3.7449607763434894e-06\n",
      "th: 0.5, fbeta: 9.363651574156078e-07\n",
      "th: 0.55, fbeta: 0.0\n",
      "th: 0.6, fbeta: 0.0\n",
      "th: 0.65, fbeta: 0.0\n",
      "th: 0.7, fbeta: 0.0\n",
      "th: 0.75, fbeta: 0.0\n"
     ]
    },
    {
     "name": "stderr",
     "output_type": "stream",
     "text": [
      "best_th: 0.1, fbeta: 0.1721346678061283\n",
      "Epoch 4 - avg_train_loss: 0.3286  avg_val_loss: 0.1784  time: 70s\n",
      "Epoch 4 - avgScore: 0.1721\n",
      "Epoch 4 - Save Best Score: 0.1721 Model\n",
      "Epoch 4 - Save Best Loss: 0.1784 Model\n"
     ]
    },
    {
     "name": "stdout",
     "output_type": "stream",
     "text": [
      "th: 0.8, fbeta: 0.0\n",
      "saving model: memory GB:7.37\n"
     ]
    },
    {
     "name": "stderr",
     "output_type": "stream",
     "text": [
      "Train Steps Progress: 100%|\u001b[31m██████████\u001b[0m| 152/152 [00:35<00:00,  4.28it/s]\n",
      "Validation Steps Progress: 100%|\u001b[32m██████████\u001b[0m| 17/17 [00:03<00:00,  5.26it/s]\n"
     ]
    },
    {
     "name": "stdout",
     "output_type": "stream",
     "text": [
      "th: 0.1, fbeta: 0.17620490047025406\n",
      "th: 0.15, fbeta: 0.18222889156813654\n",
      "th: 0.2, fbeta: 0.15953199268743304\n",
      "th: 0.25, fbeta: 0.09496843362241204\n",
      "th: 0.3, fbeta: 0.03417910089197672\n",
      "th: 0.35, fbeta: 0.009089453885694973\n",
      "th: 0.4, fbeta: 0.0021211575868644523\n",
      "th: 0.45, fbeta: 0.0004405087621702043\n",
      "th: 0.5, fbeta: 9.267820777379954e-05\n",
      "th: 0.55, fbeta: 1.0298914028629496e-05\n",
      "th: 0.6, fbeta: 9.362125703735139e-07\n",
      "th: 0.65, fbeta: 0.0\n",
      "th: 0.7, fbeta: 0.0\n",
      "th: 0.75, fbeta: 0.0\n"
     ]
    },
    {
     "name": "stderr",
     "output_type": "stream",
     "text": [
      "best_th: 0.15, fbeta: 0.18222889156813654\n",
      "Epoch 5 - avg_train_loss: 0.3292  avg_val_loss: 0.1727  time: 115s\n",
      "Epoch 5 - avgScore: 0.1822\n",
      "Epoch 5 - Save Best Score: 0.1822 Model\n",
      "Epoch 5 - Save Best Loss: 0.1727 Model\n"
     ]
    },
    {
     "name": "stdout",
     "output_type": "stream",
     "text": [
      "th: 0.8, fbeta: 0.0\n",
      "saving model: memory GB:7.37\n"
     ]
    },
    {
     "name": "stderr",
     "output_type": "stream",
     "text": [
      "Train Steps Progress: 100%|\u001b[31m██████████\u001b[0m| 152/152 [00:36<00:00,  4.17it/s]\n",
      "Validation Steps Progress: 100%|\u001b[32m██████████\u001b[0m| 17/17 [00:03<00:00,  4.28it/s]\n"
     ]
    },
    {
     "name": "stdout",
     "output_type": "stream",
     "text": [
      "th: 0.1, fbeta: 0.17721290029139466\n",
      "th: 0.15, fbeta: 0.18396583334987907\n",
      "th: 0.2, fbeta: 0.16205398253520845\n",
      "th: 0.25, fbeta: 0.09765610649408514\n",
      "th: 0.3, fbeta: 0.03559267430507878\n",
      "th: 0.35, fbeta: 0.009643859347652967\n",
      "th: 0.4, fbeta: 0.0021763540758619458\n",
      "th: 0.45, fbeta: 0.0004582620201207044\n",
      "th: 0.5, fbeta: 8.986653158777109e-05\n",
      "th: 0.55, fbeta: 7.489292790587922e-06\n",
      "th: 0.6, fbeta: 9.359456626789875e-07\n",
      "th: 0.65, fbeta: 0.0\n",
      "th: 0.7, fbeta: 0.0\n",
      "th: 0.75, fbeta: 0.0\n"
     ]
    },
    {
     "name": "stderr",
     "output_type": "stream",
     "text": [
      "best_th: 0.15, fbeta: 0.18396583334987907\n",
      "Epoch 6 - avg_train_loss: 0.3265  avg_val_loss: 0.1694  time: 118s\n",
      "Epoch 6 - avgScore: 0.1840\n",
      "Epoch 6 - Save Best Score: 0.1840 Model\n",
      "Epoch 6 - Save Best Loss: 0.1694 Model\n"
     ]
    },
    {
     "name": "stdout",
     "output_type": "stream",
     "text": [
      "th: 0.8, fbeta: 0.0\n",
      "saving model: memory GB:7.37\n"
     ]
    },
    {
     "name": "stderr",
     "output_type": "stream",
     "text": [
      "Train Steps Progress: 100%|\u001b[31m██████████\u001b[0m| 152/152 [00:35<00:00,  4.29it/s]\n",
      "Validation Steps Progress: 100%|\u001b[32m██████████\u001b[0m| 17/17 [00:03<00:00,  5.19it/s]\n"
     ]
    },
    {
     "name": "stdout",
     "output_type": "stream",
     "text": [
      "th: 0.1, fbeta: 0.1755661147192422\n",
      "th: 0.15, fbeta: 0.18524627051337564\n",
      "th: 0.2, fbeta: 0.17459682866750986\n",
      "th: 0.25, fbeta: 0.12104855173892083\n",
      "th: 0.3, fbeta: 0.05270410370128464\n",
      "th: 0.35, fbeta: 0.015078912136435836\n",
      "th: 0.4, fbeta: 0.0036126199798899423\n",
      "th: 0.45, fbeta: 0.0006915325315484047\n",
      "th: 0.5, fbeta: 0.00010483134365182268\n",
      "th: 0.55, fbeta: 7.4884750396484005e-06\n",
      "th: 0.6, fbeta: 0.0\n",
      "th: 0.65, fbeta: 0.0\n",
      "th: 0.7, fbeta: 0.0\n",
      "th: 0.75, fbeta: 0.0\n"
     ]
    },
    {
     "name": "stderr",
     "output_type": "stream",
     "text": [
      "best_th: 0.15, fbeta: 0.18524627051337564\n",
      "Epoch 7 - avg_train_loss: 0.3293  avg_val_loss: 0.1688  time: 117s\n",
      "Epoch 7 - avgScore: 0.1852\n",
      "Epoch 7 - Save Best Score: 0.1852 Model\n",
      "Epoch 7 - Save Best Loss: 0.1688 Model\n"
     ]
    },
    {
     "name": "stdout",
     "output_type": "stream",
     "text": [
      "th: 0.8, fbeta: 0.0\n",
      "saving model: memory GB:7.37\n"
     ]
    },
    {
     "name": "stderr",
     "output_type": "stream",
     "text": [
      "Train Steps Progress: 100%|\u001b[31m██████████\u001b[0m| 152/152 [00:35<00:00,  4.30it/s]\n",
      "Validation Steps Progress: 100%|\u001b[32m██████████\u001b[0m| 17/17 [00:03<00:00,  5.20it/s]\n"
     ]
    },
    {
     "name": "stdout",
     "output_type": "stream",
     "text": [
      "th: 0.1, fbeta: 0.17994774649181644\n",
      "th: 0.15, fbeta: 0.1834020349587113\n",
      "th: 0.2, fbeta: 0.1329205930633088\n",
      "th: 0.25, fbeta: 0.05198440614701697\n",
      "th: 0.3, fbeta: 0.012152874781078522\n",
      "th: 0.35, fbeta: 0.0021882385643618796\n",
      "th: 0.4, fbeta: 0.00031896256620399764\n",
      "th: 0.45, fbeta: 3.557202132626105e-05\n",
      "th: 0.5, fbeta: 1.8718731052284064e-06\n",
      "th: 0.55, fbeta: 0.0\n",
      "th: 0.6, fbeta: 0.0\n",
      "th: 0.65, fbeta: 0.0\n",
      "th: 0.7, fbeta: 0.0\n",
      "th: 0.75, fbeta: 0.0\n"
     ]
    },
    {
     "name": "stderr",
     "output_type": "stream",
     "text": [
      "best_th: 0.15, fbeta: 0.1834020349587113\n",
      "Epoch 8 - avg_train_loss: 0.3269  avg_val_loss: 0.1682  time: 56s\n",
      "Epoch 8 - avgScore: 0.1834\n",
      "Epoch Progress:  53%|\u001b[37m█████▎    \u001b[0m| 8/15 [10:58<10:12, 87.54s/it] "
     ]
    },
    {
     "name": "stdout",
     "output_type": "stream",
     "text": [
      "th: 0.8, fbeta: 0.0\n"
     ]
    },
    {
     "name": "stderr",
     "output_type": "stream",
     "text": [
      "Train Steps Progress: 100%|\u001b[31m██████████\u001b[0m| 152/152 [00:36<00:00,  4.20it/s]\n",
      "Validation Steps Progress: 100%|\u001b[32m██████████\u001b[0m| 17/17 [00:03<00:00,  5.28it/s]\n"
     ]
    },
    {
     "name": "stdout",
     "output_type": "stream",
     "text": [
      "th: 0.1, fbeta: 0.17198228209301125\n",
      "th: 0.15, fbeta: 0.18499937476535605\n",
      "th: 0.2, fbeta: 0.19314160732975477\n",
      "th: 0.25, fbeta: 0.16824941634556018\n",
      "th: 0.3, fbeta: 0.09924699938269228\n",
      "th: 0.35, fbeta: 0.036652946804936304\n",
      "th: 0.4, fbeta: 0.0094472602904453\n",
      "th: 0.45, fbeta: 0.001992697053848478\n",
      "th: 0.5, fbeta: 0.00032277381018673014\n",
      "th: 0.55, fbeta: 3.9318766946742536e-05\n",
      "th: 0.6, fbeta: 1.872067219555432e-06\n",
      "th: 0.65, fbeta: 0.0\n",
      "th: 0.7, fbeta: 0.0\n",
      "th: 0.75, fbeta: 0.0\n"
     ]
    },
    {
     "name": "stderr",
     "output_type": "stream",
     "text": [
      "best_th: 0.2, fbeta: 0.19314160732975477\n",
      "Epoch 9 - avg_train_loss: 0.3243  avg_val_loss: 0.1694  time: 73s\n",
      "Epoch 9 - avgScore: 0.1931\n",
      "Epoch 9 - Save Best Score: 0.1931 Model\n",
      "Epoch 9 - Save Best Loss: 0.1694 Model\n"
     ]
    },
    {
     "name": "stdout",
     "output_type": "stream",
     "text": [
      "th: 0.8, fbeta: 0.0\n",
      "saving model: memory GB:7.37\n"
     ]
    },
    {
     "name": "stderr",
     "output_type": "stream",
     "text": [
      "Train Steps Progress: 100%|\u001b[31m██████████\u001b[0m| 152/152 [00:35<00:00,  4.31it/s]\n",
      "Validation Steps Progress: 100%|\u001b[32m██████████\u001b[0m| 17/17 [00:03<00:00,  5.11it/s]\n"
     ]
    },
    {
     "name": "stdout",
     "output_type": "stream",
     "text": [
      "th: 0.1, fbeta: 0.17036559506324228\n",
      "th: 0.15, fbeta: 0.18232367651743905\n",
      "th: 0.2, fbeta: 0.19443363755522156\n",
      "th: 0.25, fbeta: 0.18126783289312218\n",
      "th: 0.3, fbeta: 0.11981034047630196\n",
      "th: 0.35, fbeta: 0.04943293194668649\n",
      "th: 0.4, fbeta: 0.01385137000567178\n",
      "th: 0.45, fbeta: 0.003063237147907576\n",
      "th: 0.5, fbeta: 0.0005171715246018657\n",
      "th: 0.55, fbeta: 7.020843891001821e-05\n",
      "th: 0.6, fbeta: 5.616774434984422e-06\n",
      "th: 0.65, fbeta: 0.0\n",
      "th: 0.7, fbeta: 0.0\n",
      "th: 0.75, fbeta: 0.0\n"
     ]
    },
    {
     "name": "stderr",
     "output_type": "stream",
     "text": [
      "best_th: 0.2, fbeta: 0.19443363755522156\n"
     ]
    },
    {
     "name": "stdout",
     "output_type": "stream",
     "text": [
      "th: 0.8, fbeta: 0.0\n"
     ]
    },
    {
     "name": "stderr",
     "output_type": "stream",
     "text": [
      "Epoch 10 - avg_train_loss: 0.3272  avg_val_loss: 0.1712  time: 103s\n",
      "Epoch 10 - avgScore: 0.1944\n",
      "Epoch 10 - Save Best Score: 0.1944 Model\n",
      "Epoch 10 - Save Best Loss: 0.1712 Model\n"
     ]
    },
    {
     "name": "stdout",
     "output_type": "stream",
     "text": [
      "saving model: memory GB:7.37\n"
     ]
    },
    {
     "name": "stderr",
     "output_type": "stream",
     "text": [
      "Train Steps Progress: 100%|\u001b[31m██████████\u001b[0m| 152/152 [00:35<00:00,  4.31it/s]\n",
      "Validation Steps Progress: 100%|\u001b[32m██████████\u001b[0m| 17/17 [00:03<00:00,  5.16it/s]\n"
     ]
    },
    {
     "name": "stdout",
     "output_type": "stream",
     "text": [
      "th: 0.1, fbeta: 0.17516693826469662\n",
      "th: 0.15, fbeta: 0.19214039951595702\n",
      "th: 0.2, fbeta: 0.1884897442301637\n",
      "th: 0.25, fbeta: 0.12679551768079877\n",
      "th: 0.3, fbeta: 0.04875504232350305\n",
      "th: 0.35, fbeta: 0.012107028517538625\n",
      "th: 0.4, fbeta: 0.0023969083703843075\n",
      "th: 0.45, fbeta: 0.00038542314511114237\n",
      "th: 0.5, fbeta: 5.42971212726317e-05\n",
      "th: 0.55, fbeta: 6.5534806845447166e-06\n",
      "th: 0.6, fbeta: 0.0\n",
      "th: 0.65, fbeta: 0.0\n",
      "th: 0.7, fbeta: 0.0\n",
      "th: 0.75, fbeta: 0.0\n"
     ]
    },
    {
     "name": "stderr",
     "output_type": "stream",
     "text": [
      "best_th: 0.15, fbeta: 0.19214039951595702\n",
      "Epoch 11 - avg_train_loss: 0.3213  avg_val_loss: 0.1667  time: 79s\n",
      "Epoch 11 - avgScore: 0.1921\n",
      "Epoch Progress:  73%|\u001b[37m███████▎  \u001b[0m| 11/15 [15:14<05:44, 86.24s/it]"
     ]
    },
    {
     "name": "stdout",
     "output_type": "stream",
     "text": [
      "th: 0.8, fbeta: 0.0\n"
     ]
    },
    {
     "name": "stderr",
     "output_type": "stream",
     "text": [
      "Train Steps Progress: 100%|\u001b[31m██████████\u001b[0m| 152/152 [00:35<00:00,  4.22it/s]\n",
      "Validation Steps Progress: 100%|\u001b[32m██████████\u001b[0m| 17/17 [00:03<00:00,  5.12it/s]\n"
     ]
    },
    {
     "name": "stdout",
     "output_type": "stream",
     "text": [
      "th: 0.1, fbeta: 0.1747775119104359\n",
      "th: 0.15, fbeta: 0.19104361331331482\n",
      "th: 0.2, fbeta: 0.19526783456720676\n",
      "th: 0.25, fbeta: 0.1493564159131292\n",
      "th: 0.3, fbeta: 0.06780538825418618\n",
      "th: 0.35, fbeta: 0.01920231680715747\n",
      "th: 0.4, fbeta: 0.004064111428563771\n",
      "th: 0.45, fbeta: 0.0006852902016770911\n",
      "th: 0.5, fbeta: 0.00010016324310512918\n",
      "th: 0.55, fbeta: 1.4043791756404365e-05\n",
      "th: 0.6, fbeta: 9.362125703735139e-07\n",
      "th: 0.65, fbeta: 0.0\n",
      "th: 0.7, fbeta: 0.0\n",
      "th: 0.75, fbeta: 0.0\n"
     ]
    },
    {
     "name": "stderr",
     "output_type": "stream",
     "text": [
      "best_th: 0.2, fbeta: 0.19526783456720676\n"
     ]
    },
    {
     "name": "stdout",
     "output_type": "stream",
     "text": [
      "th: 0.8, fbeta: 0.0\n"
     ]
    },
    {
     "name": "stderr",
     "output_type": "stream",
     "text": [
      "Epoch 12 - avg_train_loss: 0.3223  avg_val_loss: 0.1664  time: 59s\n",
      "Epoch 12 - avgScore: 0.1953\n",
      "Epoch 12 - Save Best Score: 0.1953 Model\n",
      "Epoch 12 - Save Best Loss: 0.1664 Model\n"
     ]
    },
    {
     "name": "stdout",
     "output_type": "stream",
     "text": [
      "saving model: memory GB:7.37\n"
     ]
    },
    {
     "name": "stderr",
     "output_type": "stream",
     "text": [
      "Train Steps Progress: 100%|\u001b[31m██████████\u001b[0m| 152/152 [00:35<00:00,  4.23it/s]\n",
      "Validation Steps Progress: 100%|\u001b[32m██████████\u001b[0m| 17/17 [00:04<00:00,  3.80it/s]\n"
     ]
    },
    {
     "name": "stdout",
     "output_type": "stream",
     "text": [
      "th: 0.1, fbeta: 0.17421430677585784\n",
      "th: 0.15, fbeta: 0.188577531020992\n",
      "th: 0.2, fbeta: 0.19562692883714658\n",
      "th: 0.25, fbeta: 0.162094079809981\n",
      "th: 0.3, fbeta: 0.08230073888460498\n",
      "th: 0.35, fbeta: 0.025136642927293104\n",
      "th: 0.4, fbeta: 0.005335694942920845\n",
      "th: 0.45, fbeta: 0.0009053486596691428\n",
      "th: 0.5, fbeta: 0.0001198148994263789\n",
      "th: 0.55, fbeta: 1.4043503993920499e-05\n",
      "th: 0.6, fbeta: 9.362125703735139e-07\n",
      "th: 0.65, fbeta: 0.0\n",
      "th: 0.7, fbeta: 0.0\n",
      "th: 0.75, fbeta: 0.0\n"
     ]
    },
    {
     "name": "stderr",
     "output_type": "stream",
     "text": [
      "best_th: 0.2, fbeta: 0.19562692883714658\n",
      "Epoch 13 - avg_train_loss: 0.3176  avg_val_loss: 0.1670  time: 63s\n",
      "Epoch 13 - avgScore: 0.1956\n",
      "Epoch 13 - Save Best Score: 0.1956 Model\n",
      "Epoch 13 - Save Best Loss: 0.1670 Model\n"
     ]
    },
    {
     "name": "stdout",
     "output_type": "stream",
     "text": [
      "th: 0.8, fbeta: 0.0\n",
      "saving model: memory GB:7.37\n"
     ]
    },
    {
     "name": "stderr",
     "output_type": "stream",
     "text": [
      "Train Steps Progress: 100%|\u001b[31m██████████\u001b[0m| 152/152 [00:35<00:00,  4.27it/s]\n",
      "Validation Steps Progress: 100%|\u001b[32m██████████\u001b[0m| 17/17 [00:03<00:00,  4.48it/s]\n"
     ]
    },
    {
     "name": "stdout",
     "output_type": "stream",
     "text": [
      "th: 0.1, fbeta: 0.1703413884279009\n",
      "th: 0.15, fbeta: 0.18205154720654088\n",
      "th: 0.2, fbeta: 0.1994824295145633\n",
      "th: 0.25, fbeta: 0.20438298459086057\n",
      "th: 0.3, fbeta: 0.16962285498682236\n",
      "th: 0.35, fbeta: 0.09630374114626072\n",
      "th: 0.4, fbeta: 0.03646017294070561\n",
      "th: 0.45, fbeta: 0.009386009314536493\n",
      "th: 0.5, fbeta: 0.0018891773044211792\n",
      "th: 0.55, fbeta: 0.00030316894285131117\n",
      "th: 0.6, fbeta: 3.8384500664407316e-05\n",
      "th: 0.65, fbeta: 3.7449205302713056e-06\n",
      "th: 0.7, fbeta: 0.0\n",
      "th: 0.75, fbeta: 0.0\n"
     ]
    },
    {
     "name": "stderr",
     "output_type": "stream",
     "text": [
      "best_th: 0.25, fbeta: 0.20438298459086057\n",
      "Epoch 14 - avg_train_loss: 0.3201  avg_val_loss: 0.1710  time: 107s\n",
      "Epoch 14 - avgScore: 0.2044\n",
      "Epoch 14 - Save Best Score: 0.2044 Model\n",
      "Epoch 14 - Save Best Loss: 0.1710 Model\n"
     ]
    },
    {
     "name": "stdout",
     "output_type": "stream",
     "text": [
      "th: 0.8, fbeta: 0.0\n",
      "saving model: memory GB:7.37\n"
     ]
    },
    {
     "name": "stderr",
     "output_type": "stream",
     "text": [
      "Train Steps Progress: 100%|\u001b[31m██████████\u001b[0m| 152/152 [00:36<00:00,  4.21it/s]\n",
      "Validation Steps Progress: 100%|\u001b[32m██████████\u001b[0m| 17/17 [00:03<00:00,  5.15it/s]\n"
     ]
    },
    {
     "name": "stdout",
     "output_type": "stream",
     "text": [
      "th: 0.1, fbeta: 0.17302879476236663\n",
      "th: 0.15, fbeta: 0.18958358143830753\n",
      "th: 0.2, fbeta: 0.20567766178345898\n",
      "th: 0.25, fbeta: 0.1876383281622888\n",
      "th: 0.3, fbeta: 0.11531080220135984\n",
      "th: 0.35, fbeta: 0.04369095720231685\n",
      "th: 0.4, fbeta: 0.011068439287228834\n",
      "th: 0.45, fbeta: 0.0021585035510587047\n",
      "th: 0.5, fbeta: 0.0003452718354259113\n",
      "th: 0.55, fbeta: 5.1492649010312785e-05\n",
      "th: 0.6, fbeta: 3.744840040721964e-06\n",
      "th: 0.65, fbeta: 0.0\n",
      "th: 0.7, fbeta: 0.0\n",
      "th: 0.75, fbeta: 0.0\n"
     ]
    },
    {
     "name": "stderr",
     "output_type": "stream",
     "text": [
      "best_th: 0.2, fbeta: 0.20567766178345898\n",
      "Epoch 15 - avg_train_loss: 0.3202  avg_val_loss: 0.1668  time: 106s\n",
      "Epoch 15 - avgScore: 0.2057\n",
      "Epoch 15 - Save Best Score: 0.2057 Model\n",
      "Epoch 15 - Save Best Loss: 0.1668 Model\n"
     ]
    },
    {
     "name": "stdout",
     "output_type": "stream",
     "text": [
      "th: 0.8, fbeta: 0.0\n",
      "saving model: memory GB:7.37\n"
     ]
    },
    {
     "name": "stderr",
     "output_type": "stream",
     "text": [
      "Epoch Progress: 100%|\u001b[37m██████████\u001b[0m| 15/15 [20:51<00:00, 83.43s/it]\n",
      "\u001b[34m\u001b[1mwandb\u001b[0m: Waiting for W&B process to finish... \u001b[32m(success).\u001b[0m\n",
      "\u001b[34m\u001b[1mwandb\u001b[0m: \n",
      "\u001b[34m\u001b[1mwandb\u001b[0m: Run history:\n",
      "\u001b[34m\u001b[1mwandb\u001b[0m:     Best_Score ▁▃▅▅▅▆▆▆▇██\n",
      "\u001b[34m\u001b[1mwandb\u001b[0m:      Best_loss █▆▆▅▆▄▅▃▁▂▂\n",
      "\u001b[34m\u001b[1mwandb\u001b[0m:        Best_th ▁▁▁▁▃▃▃▃▆▆▃▆▆█▆\n",
      "\u001b[34m\u001b[1mwandb\u001b[0m: Best_threshold ▁▁▃▃▃▆▆▆▆█▆\n",
      "\u001b[34m\u001b[1mwandb\u001b[0m:          Epoch ▁▁▂▃▃▃▄▅▅▅▆▇▇▇█\n",
      "\u001b[34m\u001b[1mwandb\u001b[0m:     Epoch_best ▁▂▂▃▃▅▅▆▇▇█\n",
      "\u001b[34m\u001b[1mwandb\u001b[0m:          Score ▁▂▆▇▇▇▇▇███████\n",
      "\u001b[34m\u001b[1mwandb\u001b[0m:     Train_loss █▂▂▂▂▂▂▂▂▂▁▁▁▁▁\n",
      "\u001b[34m\u001b[1mwandb\u001b[0m:        Val_los █▄▃▂▁▁▁▁▁▁▁▁▁▁▁\n",
      "\u001b[34m\u001b[1mwandb\u001b[0m: \n",
      "\u001b[34m\u001b[1mwandb\u001b[0m: Run summary:\n",
      "\u001b[34m\u001b[1mwandb\u001b[0m:     Best_Score 0.20568\n",
      "\u001b[34m\u001b[1mwandb\u001b[0m:      Best_loss 0.32016\n",
      "\u001b[34m\u001b[1mwandb\u001b[0m:        Best_th 0.2\n",
      "\u001b[34m\u001b[1mwandb\u001b[0m: Best_threshold 0.2\n",
      "\u001b[34m\u001b[1mwandb\u001b[0m:          Epoch 15\n",
      "\u001b[34m\u001b[1mwandb\u001b[0m:     Epoch_best 15\n",
      "\u001b[34m\u001b[1mwandb\u001b[0m:          Score 0.20568\n",
      "\u001b[34m\u001b[1mwandb\u001b[0m:     Train_loss 0.32016\n",
      "\u001b[34m\u001b[1mwandb\u001b[0m:        Val_los 0.16681\n",
      "\u001b[34m\u001b[1mwandb\u001b[0m: \n",
      "\u001b[34m\u001b[1mwandb\u001b[0m: 🚀 View run \u001b[33mPSPNet efficientnet-b6 Fold1 freezeTrue 41929\u001b[0m at: \u001b[34m\u001b[4mhttps://wandb.ai/i-am-noob/Vesuvius%20Experiments%20PSPNet/runs/jry6bt4v\u001b[0m\n",
      "\u001b[34m\u001b[1mwandb\u001b[0m: Synced 6 W&B file(s), 0 media file(s), 0 artifact file(s) and 0 other file(s)\n",
      "\u001b[34m\u001b[1mwandb\u001b[0m: Find logs at: \u001b[35m\u001b[1m./wandb/run-20230602_203537-jry6bt4v/logs\u001b[0m\n"
     ]
    },
    {
     "name": "stdout",
     "output_type": "stream",
     "text": [
      "deleted items: memory GB:7.37\n",
      "pre inializing: memory GB:4.14\n"
     ]
    },
    {
     "name": "stderr",
     "output_type": "stream",
     "text": [
      "Image Slice Progress: 100%|\u001b[34m██████████\u001b[0m| 6/6 [00:05<00:00,  1.03it/s]\n",
      "Image Slice Progress: 100%|\u001b[34m██████████\u001b[0m| 6/6 [00:14<00:00,  2.44s/it]\n",
      "Image Slice Progress: 100%|\u001b[34m██████████\u001b[0m| 6/6 [00:04<00:00,  1.40it/s]\n"
     ]
    },
    {
     "name": "stdout",
     "output_type": "stream",
     "text": [
      "post inializing: memory GB:6.96\n",
      "Current fold --> 1\n"
     ]
    },
    {
     "name": "stderr",
     "output_type": "stream",
     "text": [
      "\u001b[34m\u001b[1mwandb\u001b[0m: Tracking run with wandb version 0.15.3\n",
      "\u001b[34m\u001b[1mwandb\u001b[0m: Run data is saved locally in \u001b[35m\u001b[1m/kaggle/working/wandb/run-20230602_205820-aab7a9ze\u001b[0m\n",
      "\u001b[34m\u001b[1mwandb\u001b[0m: Run \u001b[1m`wandb offline`\u001b[0m to turn off syncing.\n",
      "\u001b[34m\u001b[1mwandb\u001b[0m: Syncing run \u001b[33mPSPNet timm-mobilenetv3_large_075 Fold1 freezeTrue 55207\u001b[0m\n",
      "\u001b[34m\u001b[1mwandb\u001b[0m: ⭐️ View project at \u001b[34m\u001b[4mhttps://wandb.ai/i-am-noob/Vesuvius%20Experiments%20PSPNet\u001b[0m\n",
      "\u001b[34m\u001b[1mwandb\u001b[0m: 🚀 View run at \u001b[34m\u001b[4mhttps://wandb.ai/i-am-noob/Vesuvius%20Experiments%20PSPNet/runs/aab7a9ze\u001b[0m\n"
     ]
    },
    {
     "name": "stdout",
     "output_type": "stream",
     "text": [
      "model_name PSPNet\n",
      "backbone timm-mobilenetv3_large_075\n"
     ]
    },
    {
     "name": "stderr",
     "output_type": "stream",
     "text": [
      "Downloading: \"https://github.com/rwightman/pytorch-image-models/releases/download/v0.1-weights/tf_mobilenetv3_large_075-150ee8b0.pth\" to /root/.cache/torch/hub/checkpoints/tf_mobilenetv3_large_075-150ee8b0.pth\n"
     ]
    },
    {
     "data": {
      "application/vnd.jupyter.widget-view+json": {
       "model_id": "181f6928dbc44413b6cfee92923d2983",
       "version_major": 2,
       "version_minor": 0
      },
      "text/plain": [
       "  0%|          | 0.00/15.4M [00:00<?, ?B/s]"
      ]
     },
     "metadata": {},
     "output_type": "display_data"
    },
    {
     "name": "stderr",
     "output_type": "stream",
     "text": [
      "Validation Steps Progress: 100%|\u001b[32m██████████\u001b[0m| 17/17 [00:04<00:00,  4.12it/s]\n"
     ]
    },
    {
     "name": "stdout",
     "output_type": "stream",
     "text": [
      "th: 0.1, fbeta: 0.07158974277596383\n",
      "th: 0.15, fbeta: 0.07158783505303054\n",
      "th: 0.2, fbeta: 0.07158727954650337\n",
      "th: 0.25, fbeta: 0.07158546121086805\n",
      "th: 0.3, fbeta: 0.07158449019612594\n",
      "th: 0.35, fbeta: 0.07158405240715346\n",
      "th: 0.4, fbeta: 0.07158332606270995\n",
      "th: 0.45, fbeta: 0.07158212286411084\n",
      "th: 0.5, fbeta: 0.07158160746144483\n",
      "th: 0.55, fbeta: 0.07157940919877134\n",
      "th: 0.6, fbeta: 0.07157843971885154\n",
      "th: 0.65, fbeta: 0.07157628386704266\n",
      "th: 0.7, fbeta: 0.07157640169734317\n",
      "th: 0.75, fbeta: 0.07157234255842147\n"
     ]
    },
    {
     "name": "stderr",
     "output_type": "stream",
     "text": [
      "best_th: 0.1, fbeta: 0.07158974277596383\n"
     ]
    },
    {
     "name": "stdout",
     "output_type": "stream",
     "text": [
      "th: 0.8, fbeta: 0.07155892504715172\n",
      "Val_loss before training -->7.126250279414189, score --> 0.07158974277596383\n"
     ]
    },
    {
     "name": "stderr",
     "output_type": "stream",
     "text": [
      "Train Steps Progress: 100%|\u001b[31m██████████\u001b[0m| 152/152 [00:29<00:00,  5.12it/s]\n",
      "Validation Steps Progress: 100%|\u001b[32m██████████\u001b[0m| 17/17 [00:03<00:00,  5.23it/s]\n"
     ]
    },
    {
     "name": "stdout",
     "output_type": "stream",
     "text": [
      "th: 0.1, fbeta: 0.1687070860580419\n",
      "th: 0.15, fbeta: 0.1569297800114306\n",
      "th: 0.2, fbeta: 0.1326163429374005\n",
      "th: 0.25, fbeta: 0.0915196449276894\n",
      "th: 0.3, fbeta: 0.045230614912343044\n",
      "th: 0.35, fbeta: 0.017108703118107943\n",
      "th: 0.4, fbeta: 0.005702255347379694\n",
      "th: 0.45, fbeta: 0.0018978645080871455\n",
      "th: 0.5, fbeta: 0.0005502099594008081\n",
      "th: 0.55, fbeta: 0.00013847518257674497\n",
      "th: 0.6, fbeta: 4.3059788321882763e-05\n",
      "th: 0.65, fbeta: 1.404340807571313e-05\n",
      "th: 0.7, fbeta: 3.744840040721964e-06\n",
      "th: 0.75, fbeta: 0.0\n"
     ]
    },
    {
     "name": "stderr",
     "output_type": "stream",
     "text": [
      "best_th: 0.1, fbeta: 0.1687070860580419\n",
      "Epoch 1 - avg_train_loss: 0.3871  avg_val_loss: 0.1801  time: 46s\n",
      "Epoch 1 - avgScore: 0.1687\n",
      "Epoch 1 - Save Best Score: 0.1687 Model\n",
      "Epoch 1 - Save Best Loss: 0.1801 Model\n"
     ]
    },
    {
     "name": "stdout",
     "output_type": "stream",
     "text": [
      "th: 0.8, fbeta: 0.0\n",
      "saving model: memory GB:7.37\n"
     ]
    },
    {
     "name": "stderr",
     "output_type": "stream",
     "text": [
      "Train Steps Progress: 100%|\u001b[31m██████████\u001b[0m| 152/152 [00:28<00:00,  5.39it/s]\n",
      "Validation Steps Progress: 100%|\u001b[32m██████████\u001b[0m| 17/17 [00:02<00:00,  6.55it/s]\n"
     ]
    },
    {
     "name": "stdout",
     "output_type": "stream",
     "text": [
      "th: 0.1, fbeta: 0.17382661267135222\n",
      "th: 0.15, fbeta: 0.1695170124260228\n",
      "th: 0.2, fbeta: 0.15015166105509123\n",
      "th: 0.25, fbeta: 0.10355718387189507\n",
      "th: 0.3, fbeta: 0.04792809811291591\n",
      "th: 0.35, fbeta: 0.01633067376928637\n",
      "th: 0.4, fbeta: 0.0048935416269287185\n",
      "th: 0.45, fbeta: 0.0013618259661244002\n",
      "th: 0.5, fbeta: 0.0003348868256288777\n",
      "th: 0.55, fbeta: 7.301359445027252e-05\n",
      "th: 0.6, fbeta: 1.6851540100840915e-05\n",
      "th: 0.65, fbeta: 2.808375235766488e-06\n",
      "th: 0.7, fbeta: 9.36174431383015e-07\n",
      "th: 0.75, fbeta: 0.0\n"
     ]
    },
    {
     "name": "stderr",
     "output_type": "stream",
     "text": [
      "best_th: 0.1, fbeta: 0.17382661267135222\n",
      "Epoch 2 - avg_train_loss: 0.3405  avg_val_loss: 0.1755  time: 72s\n",
      "Epoch 2 - avgScore: 0.1738\n",
      "Epoch 2 - Save Best Score: 0.1738 Model\n",
      "Epoch 2 - Save Best Loss: 0.1755 Model\n"
     ]
    },
    {
     "name": "stdout",
     "output_type": "stream",
     "text": [
      "th: 0.8, fbeta: 0.0\n",
      "saving model: memory GB:7.37\n"
     ]
    },
    {
     "name": "stderr",
     "output_type": "stream",
     "text": [
      "Train Steps Progress: 100%|\u001b[31m██████████\u001b[0m| 152/152 [00:28<00:00,  5.31it/s]\n",
      "Validation Steps Progress: 100%|\u001b[32m██████████\u001b[0m| 17/17 [00:02<00:00,  6.54it/s]\n"
     ]
    },
    {
     "name": "stdout",
     "output_type": "stream",
     "text": [
      "th: 0.1, fbeta: 0.17530421315104366\n",
      "th: 0.15, fbeta: 0.17463698598124486\n",
      "th: 0.2, fbeta: 0.16479123417757097\n",
      "th: 0.25, fbeta: 0.126265808436863\n",
      "th: 0.3, fbeta: 0.06651336216678283\n",
      "th: 0.35, fbeta: 0.02403687934149819\n",
      "th: 0.4, fbeta: 0.007075045334678887\n",
      "th: 0.45, fbeta: 0.0018112213086909866\n",
      "th: 0.5, fbeta: 0.00044236111036920515\n",
      "th: 0.55, fbeta: 9.453544350088847e-05\n",
      "th: 0.6, fbeta: 2.246737641998514e-05\n",
      "th: 0.65, fbeta: 5.61689935503818e-06\n",
      "th: 0.7, fbeta: 1.872455569013148e-06\n",
      "th: 0.75, fbeta: 0.0\n"
     ]
    },
    {
     "name": "stderr",
     "output_type": "stream",
     "text": [
      "best_th: 0.1, fbeta: 0.17530421315104366\n",
      "Epoch 3 - avg_train_loss: 0.3343  avg_val_loss: 0.1745  time: 56s\n",
      "Epoch 3 - avgScore: 0.1753\n",
      "Epoch 3 - Save Best Score: 0.1753 Model\n",
      "Epoch 3 - Save Best Loss: 0.1745 Model\n"
     ]
    },
    {
     "name": "stdout",
     "output_type": "stream",
     "text": [
      "th: 0.8, fbeta: 0.0\n",
      "saving model: memory GB:7.37\n"
     ]
    },
    {
     "name": "stderr",
     "output_type": "stream",
     "text": [
      "Train Steps Progress: 100%|\u001b[31m██████████\u001b[0m| 152/152 [00:28<00:00,  5.25it/s]\n",
      "Validation Steps Progress: 100%|\u001b[32m██████████\u001b[0m| 17/17 [00:02<00:00,  6.69it/s]\n"
     ]
    },
    {
     "name": "stdout",
     "output_type": "stream",
     "text": [
      "th: 0.1, fbeta: 0.17600640307404714\n",
      "th: 0.15, fbeta: 0.17763539401214937\n",
      "th: 0.2, fbeta: 0.1738669087055476\n",
      "th: 0.25, fbeta: 0.1491557338358883\n",
      "th: 0.3, fbeta: 0.09152521604091397\n",
      "th: 0.35, fbeta: 0.03711421362495846\n",
      "th: 0.4, fbeta: 0.011032256561233038\n",
      "th: 0.45, fbeta: 0.002832833516220252\n",
      "th: 0.5, fbeta: 0.0006404580042234297\n",
      "th: 0.55, fbeta: 0.00013291631996114583\n",
      "th: 0.6, fbeta: 2.715044586790287e-05\n",
      "th: 0.65, fbeta: 5.617482388766966e-06\n",
      "th: 0.7, fbeta: 1.8726109539140471e-06\n",
      "th: 0.75, fbeta: 0.0\n"
     ]
    },
    {
     "name": "stderr",
     "output_type": "stream",
     "text": [
      "best_th: 0.15, fbeta: 0.17763539401214937\n"
     ]
    },
    {
     "name": "stdout",
     "output_type": "stream",
     "text": [
      "th: 0.8, fbeta: 0.0\n"
     ]
    },
    {
     "name": "stderr",
     "output_type": "stream",
     "text": [
      "Epoch 4 - avg_train_loss: 0.3306  avg_val_loss: 0.1748  time: 52s\n",
      "Epoch 4 - avgScore: 0.1776\n",
      "Epoch 4 - Save Best Score: 0.1776 Model\n",
      "Epoch 4 - Save Best Loss: 0.1748 Model\n",
      "Epoch Progress:  27%|\u001b[37m██▋       \u001b[0m| 4/15 [03:46<10:18, 56.21s/it]"
     ]
    },
    {
     "name": "stdout",
     "output_type": "stream",
     "text": [
      "saving model: memory GB:7.37\n"
     ]
    },
    {
     "name": "stderr",
     "output_type": "stream",
     "text": [
      "Train Steps Progress: 100%|\u001b[31m██████████\u001b[0m| 152/152 [00:27<00:00,  5.44it/s]\n",
      "Validation Steps Progress: 100%|\u001b[32m██████████\u001b[0m| 17/17 [00:03<00:00,  5.66it/s]\n"
     ]
    },
    {
     "name": "stdout",
     "output_type": "stream",
     "text": [
      "th: 0.1, fbeta: 0.17789228632394335\n",
      "th: 0.15, fbeta: 0.17607952391240253\n",
      "th: 0.2, fbeta: 0.14891206978055696\n",
      "th: 0.25, fbeta: 0.07798885189539102\n",
      "th: 0.3, fbeta: 0.02339816217896064\n",
      "th: 0.35, fbeta: 0.005401975354838912\n",
      "th: 0.4, fbeta: 0.0010451880200975402\n",
      "th: 0.45, fbeta: 0.00019747570023393558\n",
      "th: 0.5, fbeta: 3.2767515899176826e-05\n",
      "th: 0.55, fbeta: 5.61781560524439e-06\n",
      "th: 0.6, fbeta: 9.363270059923099e-07\n",
      "th: 0.65, fbeta: 0.0\n",
      "th: 0.7, fbeta: 0.0\n",
      "th: 0.75, fbeta: 0.0\n"
     ]
    },
    {
     "name": "stderr",
     "output_type": "stream",
     "text": [
      "best_th: 0.1, fbeta: 0.17789228632394335\n",
      "Epoch 5 - avg_train_loss: 0.3323  avg_val_loss: 0.1702  time: 58s\n",
      "Epoch 5 - avgScore: 0.1779\n",
      "Epoch 5 - Save Best Score: 0.1779 Model\n",
      "Epoch 5 - Save Best Loss: 0.1702 Model\n"
     ]
    },
    {
     "name": "stdout",
     "output_type": "stream",
     "text": [
      "th: 0.8, fbeta: 0.0\n",
      "saving model: memory GB:7.37\n"
     ]
    },
    {
     "name": "stderr",
     "output_type": "stream",
     "text": [
      "Train Steps Progress: 100%|\u001b[31m██████████\u001b[0m| 152/152 [00:30<00:00,  5.01it/s]\n",
      "Validation Steps Progress: 100%|\u001b[32m██████████\u001b[0m| 17/17 [00:02<00:00,  6.50it/s]\n"
     ]
    },
    {
     "name": "stdout",
     "output_type": "stream",
     "text": [
      "th: 0.1, fbeta: 0.17841015828975634\n",
      "th: 0.15, fbeta: 0.16901644169170843\n",
      "th: 0.2, fbeta: 0.11097283403075518\n",
      "th: 0.25, fbeta: 0.0334538704123377\n",
      "th: 0.3, fbeta: 0.006086880132506381\n",
      "th: 0.35, fbeta: 0.0008790841267651515\n",
      "th: 0.4, fbeta: 0.00013759043207199\n",
      "th: 0.45, fbeta: 1.8725380310021415e-05\n",
      "th: 0.5, fbeta: 1.8724944128207954e-06\n",
      "th: 0.55, fbeta: 0.0\n",
      "th: 0.6, fbeta: 0.0\n",
      "th: 0.65, fbeta: 0.0\n",
      "th: 0.7, fbeta: 0.0\n",
      "th: 0.75, fbeta: 0.0\n"
     ]
    },
    {
     "name": "stderr",
     "output_type": "stream",
     "text": [
      "best_th: 0.1, fbeta: 0.17841015828975634\n",
      "Epoch 6 - avg_train_loss: 0.3303  avg_val_loss: 0.1701  time: 47s\n",
      "Epoch 6 - avgScore: 0.1784\n",
      "Epoch 6 - Save Best Score: 0.1784 Model\n",
      "Epoch 6 - Save Best Loss: 0.1701 Model\n"
     ]
    },
    {
     "name": "stdout",
     "output_type": "stream",
     "text": [
      "th: 0.8, fbeta: 0.0\n",
      "saving model: memory GB:7.37\n"
     ]
    },
    {
     "name": "stderr",
     "output_type": "stream",
     "text": [
      "Train Steps Progress: 100%|\u001b[31m██████████\u001b[0m| 152/152 [00:30<00:00,  5.05it/s]\n",
      "Validation Steps Progress: 100%|\u001b[32m██████████\u001b[0m| 17/17 [00:02<00:00,  6.25it/s]\n"
     ]
    },
    {
     "name": "stdout",
     "output_type": "stream",
     "text": [
      "th: 0.1, fbeta: 0.17887270498732308\n",
      "th: 0.15, fbeta: 0.1830904860690406\n",
      "th: 0.2, fbeta: 0.18179293429441842\n",
      "th: 0.25, fbeta: 0.1457596497720199\n",
      "th: 0.3, fbeta: 0.07297009843436258\n",
      "th: 0.35, fbeta: 0.02255649534855817\n",
      "th: 0.4, fbeta: 0.005223018011087292\n",
      "th: 0.45, fbeta: 0.0010445253749558575\n",
      "th: 0.5, fbeta: 0.00020028954587553792\n",
      "th: 0.55, fbeta: 3.276776382692349e-05\n",
      "th: 0.6, fbeta: 3.744840040721964e-06\n",
      "th: 0.65, fbeta: 0.0\n",
      "th: 0.7, fbeta: 0.0\n",
      "th: 0.75, fbeta: 0.0\n"
     ]
    },
    {
     "name": "stderr",
     "output_type": "stream",
     "text": [
      "best_th: 0.15, fbeta: 0.1830904860690406\n",
      "Epoch 7 - avg_train_loss: 0.3262  avg_val_loss: 0.1688  time: 46s\n",
      "Epoch 7 - avgScore: 0.1831\n",
      "Epoch 7 - Save Best Score: 0.1831 Model\n",
      "Epoch 7 - Save Best Loss: 0.1688 Model\n"
     ]
    },
    {
     "name": "stdout",
     "output_type": "stream",
     "text": [
      "th: 0.8, fbeta: 0.0\n",
      "saving model: memory GB:7.37\n"
     ]
    },
    {
     "name": "stderr",
     "output_type": "stream",
     "text": [
      "Train Steps Progress: 100%|\u001b[31m██████████\u001b[0m| 152/152 [00:28<00:00,  5.36it/s]\n",
      "Validation Steps Progress: 100%|\u001b[32m██████████\u001b[0m| 17/17 [00:02<00:00,  6.38it/s]\n"
     ]
    },
    {
     "name": "stdout",
     "output_type": "stream",
     "text": [
      "th: 0.1, fbeta: 0.17952637154646994\n",
      "th: 0.15, fbeta: 0.1850235060135459\n",
      "th: 0.2, fbeta: 0.17217265013656502\n",
      "th: 0.25, fbeta: 0.10396995336933049\n",
      "th: 0.3, fbeta: 0.03483696922680997\n",
      "th: 0.35, fbeta: 0.008257458948339624\n",
      "th: 0.4, fbeta: 0.0018093128449580592\n",
      "th: 0.45, fbeta: 0.0003134941469286483\n",
      "th: 0.5, fbeta: 3.83849639832768e-05\n",
      "th: 0.55, fbeta: 8.426529017272253e-06\n",
      "th: 0.6, fbeta: 1.8727275095148677e-06\n",
      "th: 0.65, fbeta: 0.0\n",
      "th: 0.7, fbeta: 0.0\n",
      "th: 0.75, fbeta: 0.0\n"
     ]
    },
    {
     "name": "stderr",
     "output_type": "stream",
     "text": [
      "best_th: 0.15, fbeta: 0.1850235060135459\n"
     ]
    },
    {
     "name": "stdout",
     "output_type": "stream",
     "text": [
      "th: 0.8, fbeta: 0.0\n"
     ]
    },
    {
     "name": "stderr",
     "output_type": "stream",
     "text": [
      "Epoch 8 - avg_train_loss: 0.3250  avg_val_loss: 0.1677  time: 45s\n",
      "Epoch 8 - avgScore: 0.1850\n",
      "Epoch 8 - Save Best Score: 0.1850 Model\n",
      "Epoch 8 - Save Best Loss: 0.1677 Model\n",
      "Epoch Progress:  53%|\u001b[37m█████▎    \u001b[0m| 8/15 [07:03<05:45, 49.34s/it]"
     ]
    },
    {
     "name": "stdout",
     "output_type": "stream",
     "text": [
      "saving model: memory GB:7.37\n"
     ]
    },
    {
     "name": "stderr",
     "output_type": "stream",
     "text": [
      "Train Steps Progress: 100%|\u001b[31m██████████\u001b[0m| 152/152 [00:29<00:00,  5.20it/s]\n",
      "Validation Steps Progress: 100%|\u001b[32m██████████\u001b[0m| 17/17 [00:02<00:00,  6.95it/s]\n"
     ]
    },
    {
     "name": "stdout",
     "output_type": "stream",
     "text": [
      "th: 0.1, fbeta: 0.17915920621936027\n",
      "th: 0.15, fbeta: 0.18470185253983243\n",
      "th: 0.2, fbeta: 0.17505583486982512\n",
      "th: 0.25, fbeta: 0.10450906710211151\n",
      "th: 0.3, fbeta: 0.029977508725719977\n",
      "th: 0.35, fbeta: 0.005717668604729385\n",
      "th: 0.4, fbeta: 0.0009018862835022941\n",
      "th: 0.45, fbeta: 0.00013011935532694608\n",
      "th: 0.5, fbeta: 1.685364284800095e-05\n",
      "th: 0.55, fbeta: 1.8727275095148677e-06\n",
      "th: 0.6, fbeta: 0.0\n",
      "th: 0.65, fbeta: 0.0\n",
      "th: 0.7, fbeta: 0.0\n",
      "th: 0.75, fbeta: 0.0\n"
     ]
    },
    {
     "name": "stderr",
     "output_type": "stream",
     "text": [
      "best_th: 0.15, fbeta: 0.18470185253983243\n"
     ]
    },
    {
     "name": "stdout",
     "output_type": "stream",
     "text": [
      "th: 0.8, fbeta: 0.0\n"
     ]
    },
    {
     "name": "stderr",
     "output_type": "stream",
     "text": [
      "Epoch 9 - avg_train_loss: 0.3291  avg_val_loss: 0.1673  time: 55s\n",
      "Epoch 9 - avgScore: 0.1847\n",
      "Train Steps Progress: 100%|\u001b[31m██████████\u001b[0m| 152/152 [00:29<00:00,  5.13it/s]\n",
      "Validation Steps Progress: 100%|\u001b[32m██████████\u001b[0m| 17/17 [00:03<00:00,  5.38it/s]\n"
     ]
    },
    {
     "name": "stdout",
     "output_type": "stream",
     "text": [
      "th: 0.1, fbeta: 0.17838388576030523\n",
      "th: 0.15, fbeta: 0.183382577771337\n",
      "th: 0.2, fbeta: 0.1858956384349899\n",
      "th: 0.25, fbeta: 0.1513491002747601\n",
      "th: 0.3, fbeta: 0.06749617459600142\n",
      "th: 0.35, fbeta: 0.016294672834484547\n",
      "th: 0.4, fbeta: 0.0030121050410571383\n",
      "th: 0.45, fbeta: 0.0004817006029185136\n",
      "th: 0.5, fbeta: 7.676655034010285e-05\n",
      "th: 0.55, fbeta: 7.490239883249967e-06\n",
      "th: 0.6, fbeta: 9.363270059923099e-07\n",
      "th: 0.65, fbeta: 0.0\n",
      "th: 0.7, fbeta: 0.0\n",
      "th: 0.75, fbeta: 0.0\n"
     ]
    },
    {
     "name": "stderr",
     "output_type": "stream",
     "text": [
      "best_th: 0.2, fbeta: 0.1858956384349899\n",
      "Epoch 10 - avg_train_loss: 0.3292  avg_val_loss: 0.1689  time: 54s\n",
      "Epoch 10 - avgScore: 0.1859\n",
      "Epoch 10 - Save Best Score: 0.1859 Model\n",
      "Epoch 10 - Save Best Loss: 0.1689 Model\n"
     ]
    },
    {
     "name": "stdout",
     "output_type": "stream",
     "text": [
      "th: 0.8, fbeta: 0.0\n",
      "saving model: memory GB:7.37\n"
     ]
    },
    {
     "name": "stderr",
     "output_type": "stream",
     "text": [
      "Train Steps Progress: 100%|\u001b[31m██████████\u001b[0m| 152/152 [00:29<00:00,  5.21it/s]\n",
      "Validation Steps Progress: 100%|\u001b[32m██████████\u001b[0m| 17/17 [00:02<00:00,  6.55it/s]\n"
     ]
    },
    {
     "name": "stdout",
     "output_type": "stream",
     "text": [
      "th: 0.1, fbeta: 0.1777323219487841\n",
      "th: 0.15, fbeta: 0.18213798601364106\n",
      "th: 0.2, fbeta: 0.18724556746026752\n",
      "th: 0.25, fbeta: 0.17187465758602025\n",
      "th: 0.3, fbeta: 0.10248754429837224\n",
      "th: 0.35, fbeta: 0.03211247639238019\n",
      "th: 0.4, fbeta: 0.006748552682854646\n",
      "th: 0.45, fbeta: 0.001188835581708572\n",
      "th: 0.5, fbeta: 0.00017596365674393694\n",
      "th: 0.55, fbeta: 2.434358000747746e-05\n",
      "th: 0.6, fbeta: 2.8091266120811922e-06\n",
      "th: 0.65, fbeta: 0.0\n",
      "th: 0.7, fbeta: 0.0\n",
      "th: 0.75, fbeta: 0.0\n"
     ]
    },
    {
     "name": "stderr",
     "output_type": "stream",
     "text": [
      "best_th: 0.2, fbeta: 0.18724556746026752\n",
      "Epoch 11 - avg_train_loss: 0.3254  avg_val_loss: 0.1705  time: 45s\n",
      "Epoch 11 - avgScore: 0.1872\n",
      "Epoch 11 - Save Best Score: 0.1872 Model\n",
      "Epoch 11 - Save Best Loss: 0.1705 Model\n"
     ]
    },
    {
     "name": "stdout",
     "output_type": "stream",
     "text": [
      "th: 0.8, fbeta: 0.0\n",
      "saving model: memory GB:7.37\n"
     ]
    },
    {
     "name": "stderr",
     "output_type": "stream",
     "text": [
      "Train Steps Progress: 100%|\u001b[31m██████████\u001b[0m| 152/152 [00:28<00:00,  5.30it/s]\n",
      "Validation Steps Progress: 100%|\u001b[32m██████████\u001b[0m| 17/17 [00:02<00:00,  6.87it/s]\n"
     ]
    },
    {
     "name": "stdout",
     "output_type": "stream",
     "text": [
      "th: 0.1, fbeta: 0.17815127557212332\n",
      "th: 0.15, fbeta: 0.18343127132973047\n",
      "th: 0.2, fbeta: 0.18942819418676524\n",
      "th: 0.25, fbeta: 0.1653375664589331\n",
      "th: 0.3, fbeta: 0.0838173029504317\n",
      "th: 0.35, fbeta: 0.022993893592760724\n",
      "th: 0.4, fbeta: 0.004556834273236053\n",
      "th: 0.45, fbeta: 0.0008498078079500769\n",
      "th: 0.5, fbeta: 0.00013573990719916457\n",
      "th: 0.55, fbeta: 1.3108573283671703e-05\n",
      "th: 0.6, fbeta: 9.363270059923099e-07\n",
      "th: 0.65, fbeta: 0.0\n",
      "th: 0.7, fbeta: 0.0\n",
      "th: 0.75, fbeta: 0.0\n"
     ]
    },
    {
     "name": "stderr",
     "output_type": "stream",
     "text": [
      "best_th: 0.2, fbeta: 0.18942819418676524\n",
      "Epoch 12 - avg_train_loss: 0.3268  avg_val_loss: 0.1690  time: 44s\n",
      "Epoch 12 - avgScore: 0.1894\n"
     ]
    },
    {
     "name": "stdout",
     "output_type": "stream",
     "text": [
      "th: 0.8, fbeta: 0.0\n"
     ]
    },
    {
     "name": "stderr",
     "output_type": "stream",
     "text": [
      "Epoch 12 - Save Best Score: 0.1894 Model\n",
      "Epoch 12 - Save Best Loss: 0.1690 Model\n",
      "Epoch Progress:  80%|\u001b[37m████████  \u001b[0m| 12/15 [10:21<02:24, 48.20s/it]"
     ]
    },
    {
     "name": "stdout",
     "output_type": "stream",
     "text": [
      "saving model: memory GB:7.37\n"
     ]
    },
    {
     "name": "stderr",
     "output_type": "stream",
     "text": [
      "Train Steps Progress: 100%|\u001b[31m██████████\u001b[0m| 152/152 [00:29<00:00,  5.23it/s]\n",
      "Validation Steps Progress: 100%|\u001b[32m██████████\u001b[0m| 17/17 [00:02<00:00,  6.79it/s]\n"
     ]
    },
    {
     "name": "stdout",
     "output_type": "stream",
     "text": [
      "th: 0.1, fbeta: 0.1802433824876813\n",
      "th: 0.15, fbeta: 0.18886054238458527\n",
      "th: 0.2, fbeta: 0.1849152167941163\n",
      "th: 0.25, fbeta: 0.11232687205486051\n",
      "th: 0.3, fbeta: 0.030589755254862117\n",
      "th: 0.35, fbeta: 0.005294909295129091\n",
      "th: 0.4, fbeta: 0.0007396374261904304\n",
      "th: 0.45, fbeta: 0.00010017572565685979\n",
      "th: 0.5, fbeta: 8.427360472836768e-06\n",
      "th: 0.55, fbeta: 0.0\n",
      "th: 0.6, fbeta: 0.0\n",
      "th: 0.65, fbeta: 0.0\n",
      "th: 0.7, fbeta: 0.0\n",
      "th: 0.75, fbeta: 0.0\n"
     ]
    },
    {
     "name": "stderr",
     "output_type": "stream",
     "text": [
      "best_th: 0.15, fbeta: 0.18886054238458527\n",
      "Epoch 13 - avg_train_loss: 0.3250  avg_val_loss: 0.1659  time: 52s\n",
      "Epoch 13 - avgScore: 0.1889\n",
      "Epoch Progress:  87%|\u001b[37m████████▋ \u001b[0m| 13/15 [11:12<01:38, 49.25s/it]"
     ]
    },
    {
     "name": "stdout",
     "output_type": "stream",
     "text": [
      "th: 0.8, fbeta: 0.0\n"
     ]
    },
    {
     "name": "stderr",
     "output_type": "stream",
     "text": [
      "Train Steps Progress: 100%|\u001b[31m██████████\u001b[0m| 152/152 [00:29<00:00,  5.18it/s]\n",
      "Validation Steps Progress: 100%|\u001b[32m██████████\u001b[0m| 17/17 [00:02<00:00,  6.71it/s]\n"
     ]
    },
    {
     "name": "stdout",
     "output_type": "stream",
     "text": [
      "th: 0.1, fbeta: 0.17831917485113002\n",
      "th: 0.15, fbeta: 0.18422576067952817\n",
      "th: 0.2, fbeta: 0.19144249058086357\n",
      "th: 0.25, fbeta: 0.16038825888426678\n",
      "th: 0.3, fbeta: 0.06854987968973218\n",
      "th: 0.35, fbeta: 0.014615656296891152\n",
      "th: 0.4, fbeta: 0.00235785003667125\n",
      "th: 0.45, fbeta: 0.00032097933161272983\n",
      "th: 0.5, fbeta: 4.4008030787212016e-05\n",
      "th: 0.55, fbeta: 4.68200253166189e-06\n",
      "th: 0.6, fbeta: 0.0\n",
      "th: 0.65, fbeta: 0.0\n",
      "th: 0.7, fbeta: 0.0\n",
      "th: 0.75, fbeta: 0.0\n"
     ]
    },
    {
     "name": "stderr",
     "output_type": "stream",
     "text": [
      "best_th: 0.2, fbeta: 0.19144249058086357\n",
      "Epoch 14 - avg_train_loss: 0.3277  avg_val_loss: 0.1684  time: 45s\n",
      "Epoch 14 - avgScore: 0.1914\n",
      "Epoch 14 - Save Best Score: 0.1914 Model\n",
      "Epoch 14 - Save Best Loss: 0.1684 Model\n"
     ]
    },
    {
     "name": "stdout",
     "output_type": "stream",
     "text": [
      "th: 0.8, fbeta: 0.0\n",
      "saving model: memory GB:7.37\n"
     ]
    },
    {
     "name": "stderr",
     "output_type": "stream",
     "text": [
      "Train Steps Progress: 100%|\u001b[31m██████████\u001b[0m| 152/152 [00:27<00:00,  5.47it/s]\n",
      "Validation Steps Progress: 100%|\u001b[32m██████████\u001b[0m| 17/17 [00:02<00:00,  6.54it/s]\n"
     ]
    },
    {
     "name": "stdout",
     "output_type": "stream",
     "text": [
      "th: 0.1, fbeta: 0.17797322572471694\n",
      "th: 0.15, fbeta: 0.18523885535457618\n",
      "th: 0.2, fbeta: 0.1972162372800023\n",
      "th: 0.25, fbeta: 0.17251838798027425\n",
      "th: 0.3, fbeta: 0.08237810055940584\n",
      "th: 0.35, fbeta: 0.020501249438345113\n",
      "th: 0.4, fbeta: 0.003969728418647792\n",
      "th: 0.45, fbeta: 0.0007005507501564031\n",
      "th: 0.5, fbeta: 0.0001263938314637895\n",
      "th: 0.55, fbeta: 1.310947142960779e-05\n",
      "th: 0.6, fbeta: 1.8728052213098475e-06\n",
      "th: 0.65, fbeta: 0.0\n",
      "th: 0.7, fbeta: 0.0\n",
      "th: 0.75, fbeta: 0.0\n"
     ]
    },
    {
     "name": "stderr",
     "output_type": "stream",
     "text": [
      "best_th: 0.2, fbeta: 0.1972162372800023\n",
      "Epoch 15 - avg_train_loss: 0.3208  avg_val_loss: 0.1679  time: 44s\n",
      "Epoch 15 - avgScore: 0.1972\n",
      "Epoch 15 - Save Best Score: 0.1972 Model\n",
      "Epoch 15 - Save Best Loss: 0.1679 Model\n"
     ]
    },
    {
     "name": "stdout",
     "output_type": "stream",
     "text": [
      "th: 0.8, fbeta: 0.0\n",
      "saving model: memory GB:7.37\n"
     ]
    },
    {
     "name": "stderr",
     "output_type": "stream",
     "text": [
      "Epoch Progress: 100%|\u001b[37m██████████\u001b[0m| 15/15 [12:42<00:00, 50.83s/it]\n",
      "\u001b[34m\u001b[1mwandb\u001b[0m: Waiting for W&B process to finish... \u001b[32m(success).\u001b[0m\n",
      "\u001b[34m\u001b[1mwandb\u001b[0m: \n",
      "\u001b[34m\u001b[1mwandb\u001b[0m: Run history:\n",
      "\u001b[34m\u001b[1mwandb\u001b[0m:     Best_Score ▁▂▃▃▃▃▅▅▅▆▆▇█\n",
      "\u001b[34m\u001b[1mwandb\u001b[0m:      Best_loss █▃▂▂▂▂▂▁▂▁▂▂▁\n",
      "\u001b[34m\u001b[1mwandb\u001b[0m:        Best_th ▁▁▁▅▁▁▅▅▅███▅██\n",
      "\u001b[34m\u001b[1mwandb\u001b[0m: Best_threshold ▁▁▁▅▁▁▅▅█████\n",
      "\u001b[34m\u001b[1mwandb\u001b[0m:          Epoch ▁▁▂▃▃▃▄▅▅▅▆▇▇▇█\n",
      "\u001b[34m\u001b[1mwandb\u001b[0m:     Epoch_best ▁▁▂▃▃▃▄▅▅▆▇▇█\n",
      "\u001b[34m\u001b[1mwandb\u001b[0m:          Score ▁▂▃▃▃▃▅▅▅▅▆▆▆▇█\n",
      "\u001b[34m\u001b[1mwandb\u001b[0m:     Train_loss █▃▂▂▂▂▂▁▂▂▁▂▁▂▁\n",
      "\u001b[34m\u001b[1mwandb\u001b[0m:        Val_los █▆▅▅▃▃▂▂▂▃▃▃▁▂▂\n",
      "\u001b[34m\u001b[1mwandb\u001b[0m: \n",
      "\u001b[34m\u001b[1mwandb\u001b[0m: Run summary:\n",
      "\u001b[34m\u001b[1mwandb\u001b[0m:     Best_Score 0.19722\n",
      "\u001b[34m\u001b[1mwandb\u001b[0m:      Best_loss 0.3208\n",
      "\u001b[34m\u001b[1mwandb\u001b[0m:        Best_th 0.2\n",
      "\u001b[34m\u001b[1mwandb\u001b[0m: Best_threshold 0.2\n",
      "\u001b[34m\u001b[1mwandb\u001b[0m:          Epoch 15\n",
      "\u001b[34m\u001b[1mwandb\u001b[0m:     Epoch_best 15\n",
      "\u001b[34m\u001b[1mwandb\u001b[0m:          Score 0.19722\n",
      "\u001b[34m\u001b[1mwandb\u001b[0m:     Train_loss 0.3208\n",
      "\u001b[34m\u001b[1mwandb\u001b[0m:        Val_los 0.16789\n",
      "\u001b[34m\u001b[1mwandb\u001b[0m: \n",
      "\u001b[34m\u001b[1mwandb\u001b[0m: 🚀 View run \u001b[33mPSPNet timm-mobilenetv3_large_075 Fold1 freezeTrue 55207\u001b[0m at: \u001b[34m\u001b[4mhttps://wandb.ai/i-am-noob/Vesuvius%20Experiments%20PSPNet/runs/aab7a9ze\u001b[0m\n",
      "\u001b[34m\u001b[1mwandb\u001b[0m: Synced 6 W&B file(s), 0 media file(s), 0 artifact file(s) and 0 other file(s)\n",
      "\u001b[34m\u001b[1mwandb\u001b[0m: Find logs at: \u001b[35m\u001b[1m./wandb/run-20230602_205820-aab7a9ze/logs\u001b[0m\n"
     ]
    },
    {
     "name": "stdout",
     "output_type": "stream",
     "text": [
      "deleted items: memory GB:7.37\n",
      "pre inializing: memory GB:4.14\n"
     ]
    },
    {
     "name": "stderr",
     "output_type": "stream",
     "text": [
      "Image Slice Progress: 100%|\u001b[34m██████████\u001b[0m| 6/6 [00:00<00:00, 10.65it/s]\n",
      "Image Slice Progress: 100%|\u001b[34m██████████\u001b[0m| 6/6 [00:01<00:00,  5.98it/s]\n",
      "Image Slice Progress: 100%|\u001b[34m██████████\u001b[0m| 6/6 [00:00<00:00, 22.19it/s]\n"
     ]
    },
    {
     "name": "stdout",
     "output_type": "stream",
     "text": [
      "post inializing: memory GB:6.96\n",
      "Current fold --> 1\n"
     ]
    },
    {
     "name": "stderr",
     "output_type": "stream",
     "text": [
      "\u001b[34m\u001b[1mwandb\u001b[0m: Tracking run with wandb version 0.15.3\n",
      "\u001b[34m\u001b[1mwandb\u001b[0m: Run data is saved locally in \u001b[35m\u001b[1m/kaggle/working/wandb/run-20230602_211232-j2mu0924\u001b[0m\n",
      "\u001b[34m\u001b[1mwandb\u001b[0m: Run \u001b[1m`wandb offline`\u001b[0m to turn off syncing.\n",
      "\u001b[34m\u001b[1mwandb\u001b[0m: Syncing run \u001b[33mPSPNet mobilenet_v2 Fold1 freezeTrue 68274\u001b[0m\n",
      "\u001b[34m\u001b[1mwandb\u001b[0m: ⭐️ View project at \u001b[34m\u001b[4mhttps://wandb.ai/i-am-noob/Vesuvius%20Experiments%20PSPNet\u001b[0m\n",
      "\u001b[34m\u001b[1mwandb\u001b[0m: 🚀 View run at \u001b[34m\u001b[4mhttps://wandb.ai/i-am-noob/Vesuvius%20Experiments%20PSPNet/runs/j2mu0924\u001b[0m\n"
     ]
    },
    {
     "name": "stdout",
     "output_type": "stream",
     "text": [
      "model_name PSPNet\n",
      "backbone mobilenet_v2\n"
     ]
    },
    {
     "name": "stderr",
     "output_type": "stream",
     "text": [
      "Downloading: \"https://download.pytorch.org/models/mobilenet_v2-b0353104.pth\" to /root/.cache/torch/hub/checkpoints/mobilenet_v2-b0353104.pth\n"
     ]
    },
    {
     "data": {
      "application/vnd.jupyter.widget-view+json": {
       "model_id": "4ab4bedb31874e15a7a231106d0cb299",
       "version_major": 2,
       "version_minor": 0
      },
      "text/plain": [
       "  0%|          | 0.00/13.6M [00:00<?, ?B/s]"
      ]
     },
     "metadata": {},
     "output_type": "display_data"
    },
    {
     "name": "stderr",
     "output_type": "stream",
     "text": [
      "Validation Steps Progress: 100%|\u001b[32m██████████\u001b[0m| 17/17 [00:03<00:00,  5.33it/s]\n"
     ]
    },
    {
     "name": "stdout",
     "output_type": "stream",
     "text": [
      "th: 0.1, fbeta: 0.07159157168739244\n",
      "th: 0.15, fbeta: 0.07159188511601904\n",
      "th: 0.2, fbeta: 0.0713896177113142\n",
      "th: 0.25, fbeta: 0.04667248338795469\n",
      "th: 0.3, fbeta: 0.017413899658120492\n",
      "th: 0.35, fbeta: 0.0003093037771748679\n",
      "th: 0.4, fbeta: 0.0\n",
      "th: 0.45, fbeta: 0.0\n",
      "th: 0.5, fbeta: 0.0\n",
      "th: 0.55, fbeta: 0.0\n",
      "th: 0.6, fbeta: 0.0\n",
      "th: 0.65, fbeta: 0.0\n",
      "th: 0.7, fbeta: 0.0\n",
      "th: 0.75, fbeta: 0.0\n"
     ]
    },
    {
     "name": "stderr",
     "output_type": "stream",
     "text": [
      "best_th: 0.15, fbeta: 0.07159188511601904\n"
     ]
    },
    {
     "name": "stdout",
     "output_type": "stream",
     "text": [
      "th: 0.8, fbeta: 0.0\n",
      "Val_loss before training -->0.33751345991203646, score --> 0.07159188511601904\n"
     ]
    },
    {
     "name": "stderr",
     "output_type": "stream",
     "text": [
      "Train Steps Progress: 100%|\u001b[31m██████████\u001b[0m| 152/152 [00:31<00:00,  4.80it/s]\n",
      "Validation Steps Progress: 100%|\u001b[32m██████████\u001b[0m| 17/17 [00:02<00:00,  6.82it/s]\n"
     ]
    },
    {
     "name": "stdout",
     "output_type": "stream",
     "text": [
      "th: 0.1, fbeta: 0.17388189302140739\n",
      "th: 0.15, fbeta: 0.17192489796241966\n",
      "th: 0.2, fbeta: 0.15393675378060892\n",
      "th: 0.25, fbeta: 0.11002362938440205\n",
      "th: 0.3, fbeta: 0.05652857208424492\n",
      "th: 0.35, fbeta: 0.022667251407038524\n",
      "th: 0.4, fbeta: 0.007922076518756241\n",
      "th: 0.45, fbeta: 0.0024576848913095586\n",
      "th: 0.5, fbeta: 0.000700033938682668\n",
      "th: 0.55, fbeta: 0.0001890634015756566\n",
      "th: 0.6, fbeta: 5.804973932606578e-05\n",
      "th: 0.65, fbeta: 1.966375747654945e-05\n",
      "th: 0.7, fbeta: 2.809205727713982e-06\n",
      "th: 0.75, fbeta: 0.0\n"
     ]
    },
    {
     "name": "stderr",
     "output_type": "stream",
     "text": [
      "best_th: 0.1, fbeta: 0.17388189302140739\n",
      "Epoch 1 - avg_train_loss: 0.3721  avg_val_loss: 0.1744  time: 47s\n",
      "Epoch 1 - avgScore: 0.1739\n",
      "Epoch 1 - Save Best Score: 0.1739 Model\n",
      "Epoch 1 - Save Best Loss: 0.1744 Model\n"
     ]
    },
    {
     "name": "stdout",
     "output_type": "stream",
     "text": [
      "th: 0.8, fbeta: 0.0\n",
      "saving model: memory GB:7.37\n"
     ]
    },
    {
     "name": "stderr",
     "output_type": "stream",
     "text": [
      "Train Steps Progress: 100%|\u001b[31m██████████\u001b[0m| 152/152 [00:29<00:00,  5.20it/s]\n",
      "Validation Steps Progress: 100%|\u001b[32m██████████\u001b[0m| 17/17 [00:02<00:00,  6.21it/s]\n"
     ]
    },
    {
     "name": "stdout",
     "output_type": "stream",
     "text": [
      "th: 0.1, fbeta: 0.17480033416569873\n",
      "th: 0.15, fbeta: 0.17705188265579183\n",
      "th: 0.2, fbeta: 0.17347876828026265\n",
      "th: 0.25, fbeta: 0.15275619151994388\n",
      "th: 0.3, fbeta: 0.10731839418837216\n",
      "th: 0.35, fbeta: 0.055139729231452876\n",
      "th: 0.4, fbeta: 0.02192071441978743\n",
      "th: 0.45, fbeta: 0.007328487687172056\n",
      "th: 0.5, fbeta: 0.0021943972355350345\n",
      "th: 0.55, fbeta: 0.0005684623138624324\n",
      "th: 0.6, fbeta: 0.00013385907051576\n",
      "th: 0.65, fbeta: 3.5579967800013475e-05\n",
      "th: 0.7, fbeta: 6.5544971850895584e-06\n",
      "th: 0.75, fbeta: 9.363651574156078e-07\n"
     ]
    },
    {
     "name": "stderr",
     "output_type": "stream",
     "text": [
      "best_th: 0.15, fbeta: 0.17705188265579183\n",
      "Epoch 2 - avg_train_loss: 0.3329  avg_val_loss: 0.1755  time: 45s\n",
      "Epoch 2 - avgScore: 0.1771\n",
      "Epoch 2 - Save Best Score: 0.1771 Model\n",
      "Epoch 2 - Save Best Loss: 0.1755 Model\n"
     ]
    },
    {
     "name": "stdout",
     "output_type": "stream",
     "text": [
      "th: 0.8, fbeta: 0.0\n",
      "saving model: memory GB:7.37\n"
     ]
    },
    {
     "name": "stderr",
     "output_type": "stream",
     "text": [
      "Train Steps Progress: 100%|\u001b[31m██████████\u001b[0m| 152/152 [00:28<00:00,  5.38it/s]\n",
      "Validation Steps Progress: 100%|\u001b[32m██████████\u001b[0m| 17/17 [00:02<00:00,  6.70it/s]\n"
     ]
    },
    {
     "name": "stdout",
     "output_type": "stream",
     "text": [
      "th: 0.1, fbeta: 0.17951576006544948\n",
      "th: 0.15, fbeta: 0.19252700192299763\n",
      "th: 0.2, fbeta: 0.20517401314616898\n",
      "th: 0.25, fbeta: 0.18825372565861895\n",
      "th: 0.3, fbeta: 0.12880761563968604\n",
      "th: 0.35, fbeta: 0.0618977803244391\n",
      "th: 0.4, fbeta: 0.02371597413106032\n",
      "th: 0.45, fbeta: 0.007831831394919166\n",
      "th: 0.5, fbeta: 0.0022026176815603767\n",
      "th: 0.55, fbeta: 0.0004892862417244753\n",
      "th: 0.6, fbeta: 0.00012545463582207955\n",
      "th: 0.65, fbeta: 3.370900836578828e-05\n",
      "th: 0.7, fbeta: 1.217308705693499e-05\n",
      "th: 0.75, fbeta: 3.745604831163612e-06\n"
     ]
    },
    {
     "name": "stderr",
     "output_type": "stream",
     "text": [
      "best_th: 0.2, fbeta: 0.20517401314616898\n",
      "Epoch 3 - avg_train_loss: 0.3341  avg_val_loss: 0.1655  time: 45s\n",
      "Epoch 3 - avgScore: 0.2052\n",
      "Epoch 3 - Save Best Score: 0.2052 Model\n",
      "Epoch 3 - Save Best Loss: 0.1655 Model\n"
     ]
    },
    {
     "name": "stdout",
     "output_type": "stream",
     "text": [
      "th: 0.8, fbeta: 0.0\n",
      "saving model: memory GB:7.37\n"
     ]
    },
    {
     "name": "stderr",
     "output_type": "stream",
     "text": [
      "Train Steps Progress: 100%|\u001b[31m██████████\u001b[0m| 152/152 [00:28<00:00,  5.42it/s]\n",
      "Validation Steps Progress: 100%|\u001b[32m██████████\u001b[0m| 17/17 [00:02<00:00,  6.73it/s]\n"
     ]
    },
    {
     "name": "stdout",
     "output_type": "stream",
     "text": [
      "th: 0.1, fbeta: 0.1788635341034904\n",
      "th: 0.15, fbeta: 0.19112430133340758\n",
      "th: 0.2, fbeta: 0.20665488547582123\n",
      "th: 0.25, fbeta: 0.20048083052545496\n",
      "th: 0.3, fbeta: 0.1497690585815199\n",
      "th: 0.35, fbeta: 0.07826444702897714\n",
      "th: 0.4, fbeta: 0.0314727470641807\n",
      "th: 0.45, fbeta: 0.01075137039342523\n",
      "th: 0.5, fbeta: 0.0032130978521380904\n",
      "th: 0.55, fbeta: 0.0008059033352479649\n",
      "th: 0.6, fbeta: 0.0001507170083340667\n",
      "th: 0.65, fbeta: 2.621836278555402e-05\n",
      "th: 0.7, fbeta: 6.554793723817005e-06\n",
      "th: 0.75, fbeta: 9.364033119480556e-07\n"
     ]
    },
    {
     "name": "stderr",
     "output_type": "stream",
     "text": [
      "best_th: 0.2, fbeta: 0.20665488547582123\n",
      "Epoch 4 - avg_train_loss: 0.3332  avg_val_loss: 0.1658  time: 44s\n",
      "Epoch 4 - avgScore: 0.2067\n",
      "Epoch 4 - Save Best Score: 0.2067 Model\n",
      "Epoch 4 - Save Best Loss: 0.1658 Model\n"
     ]
    },
    {
     "name": "stdout",
     "output_type": "stream",
     "text": [
      "th: 0.8, fbeta: 0.0\n",
      "saving model: memory GB:7.37\n"
     ]
    },
    {
     "name": "stderr",
     "output_type": "stream",
     "text": [
      "Train Steps Progress: 100%|\u001b[31m██████████\u001b[0m| 152/152 [00:29<00:00,  5.08it/s]\n",
      "Validation Steps Progress: 100%|\u001b[32m██████████\u001b[0m| 17/17 [00:02<00:00,  6.75it/s]\n"
     ]
    },
    {
     "name": "stdout",
     "output_type": "stream",
     "text": [
      "th: 0.1, fbeta: 0.18323545616746875\n",
      "th: 0.15, fbeta: 0.20689404019891966\n",
      "th: 0.2, fbeta: 0.21194876519303246\n",
      "th: 0.25, fbeta: 0.16354771175337274\n",
      "th: 0.3, fbeta: 0.08684127666474657\n",
      "th: 0.35, fbeta: 0.033612091925579166\n",
      "th: 0.4, fbeta: 0.011166450351842605\n",
      "th: 0.45, fbeta: 0.003466608275849583\n",
      "th: 0.5, fbeta: 0.0010567682451699271\n",
      "th: 0.55, fbeta: 0.0002929222555993584\n",
      "th: 0.6, fbeta: 5.898756664963293e-05\n",
      "th: 0.65, fbeta: 1.0300359272849746e-05\n",
      "th: 0.7, fbeta: 9.364033119480556e-07\n",
      "th: 0.75, fbeta: 0.0\n"
     ]
    },
    {
     "name": "stderr",
     "output_type": "stream",
     "text": [
      "best_th: 0.2, fbeta: 0.21194876519303246\n",
      "Epoch 5 - avg_train_loss: 0.3240  avg_val_loss: 0.1634  time: 46s\n",
      "Epoch 5 - avgScore: 0.2119\n",
      "Epoch 5 - Save Best Score: 0.2119 Model\n",
      "Epoch 5 - Save Best Loss: 0.1634 Model\n"
     ]
    },
    {
     "name": "stdout",
     "output_type": "stream",
     "text": [
      "th: 0.8, fbeta: 0.0\n",
      "saving model: memory GB:7.37\n"
     ]
    },
    {
     "name": "stderr",
     "output_type": "stream",
     "text": [
      "Train Steps Progress: 100%|\u001b[31m██████████\u001b[0m| 152/152 [00:28<00:00,  5.41it/s]\n",
      "Validation Steps Progress: 100%|\u001b[32m██████████\u001b[0m| 17/17 [00:02<00:00,  6.82it/s]\n"
     ]
    },
    {
     "name": "stdout",
     "output_type": "stream",
     "text": [
      "th: 0.1, fbeta: 0.18412820991701095\n",
      "th: 0.15, fbeta: 0.21453406380528536\n",
      "th: 0.2, fbeta: 0.2243560179988655\n",
      "th: 0.25, fbeta: 0.1739064272448912\n",
      "th: 0.3, fbeta: 0.08919019953952521\n",
      "th: 0.35, fbeta: 0.033610663894983614\n",
      "th: 0.4, fbeta: 0.010368252114490037\n",
      "th: 0.45, fbeta: 0.002839419168103753\n",
      "th: 0.5, fbeta: 0.0007808096419801475\n",
      "th: 0.55, fbeta: 0.0002059436916910578\n",
      "th: 0.6, fbeta: 4.2136553118602025e-05\n",
      "th: 0.65, fbeta: 7.491187215480148e-06\n",
      "th: 0.7, fbeta: 9.364033119480556e-07\n",
      "th: 0.75, fbeta: 0.0\n"
     ]
    },
    {
     "name": "stderr",
     "output_type": "stream",
     "text": [
      "best_th: 0.2, fbeta: 0.2243560179988655\n",
      "Epoch 6 - avg_train_loss: 0.3267  avg_val_loss: 0.1609  time: 45s\n",
      "Epoch 6 - avgScore: 0.2244\n",
      "Epoch 6 - Save Best Score: 0.2244 Model\n",
      "Epoch 6 - Save Best Loss: 0.1609 Model\n"
     ]
    },
    {
     "name": "stdout",
     "output_type": "stream",
     "text": [
      "th: 0.8, fbeta: 0.0\n",
      "saving model: memory GB:7.37\n"
     ]
    },
    {
     "name": "stderr",
     "output_type": "stream",
     "text": [
      "Train Steps Progress: 100%|\u001b[31m██████████\u001b[0m| 152/152 [00:28<00:00,  5.39it/s]\n",
      "Validation Steps Progress: 100%|\u001b[32m██████████\u001b[0m| 17/17 [00:02<00:00,  6.93it/s]\n"
     ]
    },
    {
     "name": "stdout",
     "output_type": "stream",
     "text": [
      "th: 0.1, fbeta: 0.18461657131359743\n",
      "th: 0.15, fbeta: 0.2134022481647302\n",
      "th: 0.2, fbeta: 0.21237687034391897\n",
      "th: 0.25, fbeta: 0.1461379094369624\n",
      "th: 0.3, fbeta: 0.06618779454347129\n",
      "th: 0.35, fbeta: 0.022427781293889063\n",
      "th: 0.4, fbeta: 0.006531058876672996\n",
      "th: 0.45, fbeta: 0.0019177634692289813\n",
      "th: 0.5, fbeta: 0.0005509540519461724\n",
      "th: 0.55, fbeta: 0.00016102746371782922\n",
      "th: 0.6, fbeta: 3.558227550582011e-05\n",
      "th: 0.65, fbeta: 6.554793723817005e-06\n",
      "th: 0.7, fbeta: 0.0\n",
      "th: 0.75, fbeta: 0.0\n"
     ]
    },
    {
     "name": "stderr",
     "output_type": "stream",
     "text": [
      "best_th: 0.15, fbeta: 0.2134022481647302\n",
      "Epoch 7 - avg_train_loss: 0.3272  avg_val_loss: 0.1622  time: 44s\n",
      "Epoch 7 - avgScore: 0.2134\n",
      "Epoch Progress:  47%|\u001b[37m████▋     \u001b[0m| 7/15 [05:15<05:57, 44.66s/it]"
     ]
    },
    {
     "name": "stdout",
     "output_type": "stream",
     "text": [
      "th: 0.8, fbeta: 0.0\n"
     ]
    },
    {
     "name": "stderr",
     "output_type": "stream",
     "text": [
      "Train Steps Progress: 100%|\u001b[31m██████████\u001b[0m| 152/152 [00:30<00:00,  5.05it/s]\n",
      "Validation Steps Progress: 100%|\u001b[32m██████████\u001b[0m| 17/17 [00:02<00:00,  6.19it/s]\n"
     ]
    },
    {
     "name": "stdout",
     "output_type": "stream",
     "text": [
      "th: 0.1, fbeta: 0.17714415042763126\n",
      "th: 0.15, fbeta: 0.19864060355891652\n",
      "th: 0.2, fbeta: 0.22260069926927364\n",
      "th: 0.25, fbeta: 0.20428303092459016\n",
      "th: 0.3, fbeta: 0.13068425037620365\n",
      "th: 0.35, fbeta: 0.05809900430897072\n",
      "th: 0.4, fbeta: 0.020479376727576316\n",
      "th: 0.45, fbeta: 0.0057753697055536925\n",
      "th: 0.5, fbeta: 0.0014963803106541617\n",
      "th: 0.55, fbeta: 0.00035746486145781447\n",
      "th: 0.6, fbeta: 0.00010673425030882727\n",
      "th: 0.65, fbeta: 2.0600178599624137e-05\n",
      "th: 0.7, fbeta: 4.68200253166189e-06\n",
      "th: 0.75, fbeta: 0.0\n"
     ]
    },
    {
     "name": "stderr",
     "output_type": "stream",
     "text": [
      "best_th: 0.2, fbeta: 0.22260069926927364\n",
      "Epoch 8 - avg_train_loss: 0.3223  avg_val_loss: 0.1640  time: 46s\n",
      "Epoch 8 - avgScore: 0.2226\n",
      "Epoch Progress:  53%|\u001b[37m█████▎    \u001b[0m| 8/15 [06:02<05:16, 45.16s/it]"
     ]
    },
    {
     "name": "stdout",
     "output_type": "stream",
     "text": [
      "th: 0.8, fbeta: 0.0\n"
     ]
    },
    {
     "name": "stderr",
     "output_type": "stream",
     "text": [
      "Train Steps Progress: 100%|\u001b[31m██████████\u001b[0m| 152/152 [00:27<00:00,  5.45it/s]\n",
      "Validation Steps Progress: 100%|\u001b[32m██████████\u001b[0m| 17/17 [00:03<00:00,  5.23it/s]\n"
     ]
    },
    {
     "name": "stdout",
     "output_type": "stream",
     "text": [
      "th: 0.1, fbeta: 0.17578951658423392\n",
      "th: 0.15, fbeta: 0.19325960311296447\n",
      "th: 0.2, fbeta: 0.2230335195854392\n",
      "th: 0.25, fbeta: 0.23575178506795108\n",
      "th: 0.3, fbeta: 0.1952483196552367\n",
      "th: 0.35, fbeta: 0.11421719842154332\n",
      "th: 0.4, fbeta: 0.048152287691935275\n",
      "th: 0.45, fbeta: 0.016834511868540566\n",
      "th: 0.5, fbeta: 0.004659806643005492\n",
      "th: 0.55, fbeta: 0.0011231657352146114\n",
      "th: 0.6, fbeta: 0.00022932584122547264\n",
      "th: 0.65, fbeta: 4.400915745365164e-05\n",
      "th: 0.7, fbeta: 1.8728052213098475e-06\n",
      "th: 0.75, fbeta: 0.0\n"
     ]
    },
    {
     "name": "stderr",
     "output_type": "stream",
     "text": [
      "best_th: 0.25, fbeta: 0.23575178506795108\n",
      "Epoch 9 - avg_train_loss: 0.3242  avg_val_loss: 0.1642  time: 45s\n",
      "Epoch 9 - avgScore: 0.2358\n",
      "Epoch 9 - Save Best Score: 0.2358 Model\n",
      "Epoch 9 - Save Best Loss: 0.1642 Model\n"
     ]
    },
    {
     "name": "stdout",
     "output_type": "stream",
     "text": [
      "th: 0.8, fbeta: 0.0\n",
      "saving model: memory GB:7.37\n"
     ]
    },
    {
     "name": "stderr",
     "output_type": "stream",
     "text": [
      "Train Steps Progress: 100%|\u001b[31m██████████\u001b[0m| 152/152 [00:27<00:00,  5.47it/s]\n",
      "Validation Steps Progress: 100%|\u001b[32m██████████\u001b[0m| 17/17 [00:02<00:00,  6.41it/s]\n"
     ]
    },
    {
     "name": "stdout",
     "output_type": "stream",
     "text": [
      "th: 0.1, fbeta: 0.17576413929544538\n",
      "th: 0.15, fbeta: 0.19443357452808085\n",
      "th: 0.2, fbeta: 0.22369247377690696\n",
      "th: 0.25, fbeta: 0.22900356204474556\n",
      "th: 0.3, fbeta: 0.17462447851710336\n",
      "th: 0.35, fbeta: 0.09162677980591336\n",
      "th: 0.4, fbeta: 0.035861660525982476\n",
      "th: 0.45, fbeta: 0.011420556324313845\n",
      "th: 0.5, fbeta: 0.0030245129330111445\n",
      "th: 0.55, fbeta: 0.0007544518548805415\n",
      "th: 0.6, fbeta: 0.00017692760103699172\n",
      "th: 0.65, fbeta: 3.277290917441103e-05\n",
      "th: 0.7, fbeta: 9.364033119480556e-07\n",
      "th: 0.75, fbeta: 0.0\n"
     ]
    },
    {
     "name": "stderr",
     "output_type": "stream",
     "text": [
      "best_th: 0.25, fbeta: 0.22900356204474556\n",
      "Epoch 10 - avg_train_loss: 0.3242  avg_val_loss: 0.1639  time: 44s\n",
      "Epoch 10 - avgScore: 0.2290\n",
      "Epoch Progress:  67%|\u001b[37m██████▋   \u001b[0m| 10/15 [07:30<03:43, 44.68s/it]"
     ]
    },
    {
     "name": "stdout",
     "output_type": "stream",
     "text": [
      "th: 0.8, fbeta: 0.0\n"
     ]
    },
    {
     "name": "stderr",
     "output_type": "stream",
     "text": [
      "Train Steps Progress: 100%|\u001b[31m██████████\u001b[0m| 152/152 [00:30<00:00,  5.03it/s]\n",
      "Validation Steps Progress: 100%|\u001b[32m██████████\u001b[0m| 17/17 [00:02<00:00,  6.71it/s]\n"
     ]
    },
    {
     "name": "stdout",
     "output_type": "stream",
     "text": [
      "th: 0.1, fbeta: 0.17998246796164333\n",
      "th: 0.15, fbeta: 0.2060985319790655\n",
      "th: 0.2, fbeta: 0.2349008099474409\n",
      "th: 0.25, fbeta: 0.22042974381603933\n",
      "th: 0.3, fbeta: 0.14446581429991223\n",
      "th: 0.35, fbeta: 0.06522512628439896\n",
      "th: 0.4, fbeta: 0.023020234723581303\n",
      "th: 0.45, fbeta: 0.006658614344349439\n",
      "th: 0.5, fbeta: 0.001761670853198546\n",
      "th: 0.55, fbeta: 0.00046483872481505435\n",
      "th: 0.6, fbeta: 0.00013387325207980444\n",
      "th: 0.65, fbeta: 2.7154779700068898e-05\n",
      "th: 0.7, fbeta: 2.809205727713982e-06\n",
      "th: 0.75, fbeta: 0.0\n"
     ]
    },
    {
     "name": "stderr",
     "output_type": "stream",
     "text": [
      "best_th: 0.2, fbeta: 0.2349008099474409\n",
      "Epoch 11 - avg_train_loss: 0.3240  avg_val_loss: 0.1605  time: 46s\n",
      "Epoch 11 - avgScore: 0.2349\n",
      "Epoch Progress:  73%|\u001b[37m███████▎  \u001b[0m| 11/15 [08:16<03:00, 45.05s/it]"
     ]
    },
    {
     "name": "stdout",
     "output_type": "stream",
     "text": [
      "th: 0.8, fbeta: 0.0\n"
     ]
    },
    {
     "name": "stderr",
     "output_type": "stream",
     "text": [
      "Train Steps Progress: 100%|\u001b[31m██████████\u001b[0m| 152/152 [00:28<00:00,  5.41it/s]\n",
      "Validation Steps Progress: 100%|\u001b[32m██████████\u001b[0m| 17/17 [00:03<00:00,  5.44it/s]\n"
     ]
    },
    {
     "name": "stdout",
     "output_type": "stream",
     "text": [
      "th: 0.1, fbeta: 0.18148080907989347\n",
      "th: 0.15, fbeta: 0.2091234156455457\n",
      "th: 0.2, fbeta: 0.21548138197636957\n",
      "th: 0.25, fbeta: 0.14923056304329577\n",
      "th: 0.3, fbeta: 0.06005309668678929\n",
      "th: 0.35, fbeta: 0.0171740926409379\n",
      "th: 0.4, fbeta: 0.003973967529704257\n",
      "th: 0.45, fbeta: 0.0007852568830012486\n",
      "th: 0.5, fbeta: 0.00018067566147643335\n",
      "th: 0.55, fbeta: 5.1499946803916806e-05\n",
      "th: 0.6, fbeta: 4.68200253166189e-06\n",
      "th: 0.65, fbeta: 0.0\n",
      "th: 0.7, fbeta: 0.0\n",
      "th: 0.75, fbeta: 0.0\n"
     ]
    },
    {
     "name": "stderr",
     "output_type": "stream",
     "text": [
      "best_th: 0.2, fbeta: 0.21548138197636957\n",
      "Epoch 12 - avg_train_loss: 0.3266  avg_val_loss: 0.1618  time: 45s\n",
      "Epoch 12 - avgScore: 0.2155\n",
      "Epoch Progress:  80%|\u001b[37m████████  \u001b[0m| 12/15 [09:01<02:15, 45.06s/it]"
     ]
    },
    {
     "name": "stdout",
     "output_type": "stream",
     "text": [
      "th: 0.8, fbeta: 0.0\n"
     ]
    },
    {
     "name": "stderr",
     "output_type": "stream",
     "text": [
      "Train Steps Progress: 100%|\u001b[31m██████████\u001b[0m| 152/152 [00:27<00:00,  5.60it/s]\n",
      "Validation Steps Progress: 100%|\u001b[32m██████████\u001b[0m| 17/17 [00:02<00:00,  5.82it/s]\n"
     ]
    },
    {
     "name": "stdout",
     "output_type": "stream",
     "text": [
      "th: 0.1, fbeta: 0.17933307380430702\n",
      "th: 0.15, fbeta: 0.19830522708213846\n",
      "th: 0.2, fbeta: 0.2228593404393631\n",
      "th: 0.25, fbeta: 0.21161467948056378\n",
      "th: 0.3, fbeta: 0.13778006048561645\n",
      "th: 0.35, fbeta: 0.05630170887403964\n",
      "th: 0.4, fbeta: 0.01758772217375288\n",
      "th: 0.45, fbeta: 0.004497742698619421\n",
      "th: 0.5, fbeta: 0.0009203908122488101\n",
      "th: 0.55, fbeta: 0.00018720780093044225\n",
      "th: 0.6, fbeta: 3.370907106820376e-05\n",
      "th: 0.65, fbeta: 9.364033119480556e-07\n",
      "th: 0.7, fbeta: 0.0\n",
      "th: 0.75, fbeta: 0.0\n"
     ]
    },
    {
     "name": "stderr",
     "output_type": "stream",
     "text": [
      "best_th: 0.2, fbeta: 0.2228593404393631\n",
      "Epoch 13 - avg_train_loss: 0.3228  avg_val_loss: 0.1617  time: 43s\n",
      "Epoch 13 - avgScore: 0.2229\n",
      "Epoch Progress:  87%|\u001b[37m████████▋ \u001b[0m| 13/15 [09:45<01:29, 44.52s/it]"
     ]
    },
    {
     "name": "stdout",
     "output_type": "stream",
     "text": [
      "th: 0.8, fbeta: 0.0\n"
     ]
    },
    {
     "name": "stderr",
     "output_type": "stream",
     "text": [
      "Train Steps Progress: 100%|\u001b[31m██████████\u001b[0m| 152/152 [00:29<00:00,  5.22it/s]\n",
      "Validation Steps Progress: 100%|\u001b[32m██████████\u001b[0m| 17/17 [00:02<00:00,  6.89it/s]\n"
     ]
    },
    {
     "name": "stdout",
     "output_type": "stream",
     "text": [
      "th: 0.1, fbeta: 0.17363712804862583\n",
      "th: 0.15, fbeta: 0.18972079910285958\n",
      "th: 0.2, fbeta: 0.21812135265123997\n",
      "th: 0.25, fbeta: 0.22624498752904829\n",
      "th: 0.3, fbeta: 0.16996101751572637\n",
      "th: 0.35, fbeta: 0.08054012525386633\n",
      "th: 0.4, fbeta: 0.026483046862550357\n",
      "th: 0.45, fbeta: 0.006553452657513397\n",
      "th: 0.5, fbeta: 0.0013081764569078645\n",
      "th: 0.55, fbeta: 0.00024057011977054348\n",
      "th: 0.6, fbeta: 5.8053462168336535e-05\n",
      "th: 0.65, fbeta: 4.6819615702548396e-06\n",
      "th: 0.7, fbeta: 0.0\n",
      "th: 0.75, fbeta: 0.0\n"
     ]
    },
    {
     "name": "stderr",
     "output_type": "stream",
     "text": [
      "best_th: 0.25, fbeta: 0.22624498752904829\n",
      "Epoch 14 - avg_train_loss: 0.3254  avg_val_loss: 0.1658  time: 45s\n",
      "Epoch 14 - avgScore: 0.2262\n",
      "Epoch Progress:  93%|\u001b[37m█████████▎\u001b[0m| 14/15 [10:29<00:44, 44.54s/it]"
     ]
    },
    {
     "name": "stdout",
     "output_type": "stream",
     "text": [
      "th: 0.8, fbeta: 0.0\n"
     ]
    },
    {
     "name": "stderr",
     "output_type": "stream",
     "text": [
      "Train Steps Progress: 100%|\u001b[31m██████████\u001b[0m| 152/152 [00:27<00:00,  5.52it/s]\n",
      "Validation Steps Progress: 100%|\u001b[32m██████████\u001b[0m| 17/17 [00:02<00:00,  5.86it/s]\n"
     ]
    },
    {
     "name": "stdout",
     "output_type": "stream",
     "text": [
      "th: 0.1, fbeta: 0.18501449917133608\n",
      "th: 0.15, fbeta: 0.2168246396569511\n",
      "th: 0.2, fbeta: 0.22040625367143774\n",
      "th: 0.25, fbeta: 0.13691405068348153\n",
      "th: 0.3, fbeta: 0.04514455001072412\n",
      "th: 0.35, fbeta: 0.0103829433862846\n",
      "th: 0.4, fbeta: 0.0019032983059496618\n",
      "th: 0.45, fbeta: 0.00032193303669134077\n",
      "th: 0.5, fbeta: 6.928844757646372e-05\n",
      "th: 0.55, fbeta: 5.618398829211969e-06\n",
      "th: 0.6, fbeta: 0.0\n",
      "th: 0.65, fbeta: 0.0\n",
      "th: 0.7, fbeta: 0.0\n",
      "th: 0.75, fbeta: 0.0\n"
     ]
    },
    {
     "name": "stderr",
     "output_type": "stream",
     "text": [
      "best_th: 0.2, fbeta: 0.22040625367143774\n",
      "Epoch 15 - avg_train_loss: 0.3212  avg_val_loss: 0.1599  time: 44s\n",
      "Epoch 15 - avgScore: 0.2204\n",
      "Epoch Progress: 100%|\u001b[37m██████████\u001b[0m| 15/15 [11:14<00:00, 44.93s/it]"
     ]
    },
    {
     "name": "stdout",
     "output_type": "stream",
     "text": [
      "th: 0.8, fbeta: 0.0\n"
     ]
    },
    {
     "name": "stderr",
     "output_type": "stream",
     "text": [
      "\n",
      "\u001b[34m\u001b[1mwandb\u001b[0m: Waiting for W&B process to finish... \u001b[32m(success).\u001b[0m\n",
      "\u001b[34m\u001b[1mwandb\u001b[0m: \n",
      "\u001b[34m\u001b[1mwandb\u001b[0m: Run history:\n",
      "\u001b[34m\u001b[1mwandb\u001b[0m:     Best_Score ▁▁▅▅▅▇█\n",
      "\u001b[34m\u001b[1mwandb\u001b[0m:      Best_loss █▂▂▂▁▁▁\n",
      "\u001b[34m\u001b[1mwandb\u001b[0m:        Best_th ▁▃▆▆▆▆▃▆██▆▆▆█▆\n",
      "\u001b[34m\u001b[1mwandb\u001b[0m: Best_threshold ▁▃▆▆▆▆█\n",
      "\u001b[34m\u001b[1mwandb\u001b[0m:          Epoch ▁▁▂▃▃▃▄▅▅▅▆▇▇▇█\n",
      "\u001b[34m\u001b[1mwandb\u001b[0m:     Epoch_best ▁▂▃▄▅▅█\n",
      "\u001b[34m\u001b[1mwandb\u001b[0m:          Score ▁▁▅▅▅▇▅▇█▇█▆▇▇▆\n",
      "\u001b[34m\u001b[1mwandb\u001b[0m:     Train_loss █▃▃▃▁▂▂▁▁▁▁▂▁▂▁\n",
      "\u001b[34m\u001b[1mwandb\u001b[0m:        Val_los ██▄▄▃▁▂▃▃▃▁▂▂▄▁\n",
      "\u001b[34m\u001b[1mwandb\u001b[0m: \n",
      "\u001b[34m\u001b[1mwandb\u001b[0m: Run summary:\n",
      "\u001b[34m\u001b[1mwandb\u001b[0m:     Best_Score 0.23575\n",
      "\u001b[34m\u001b[1mwandb\u001b[0m:      Best_loss 0.32417\n",
      "\u001b[34m\u001b[1mwandb\u001b[0m:        Best_th 0.2\n",
      "\u001b[34m\u001b[1mwandb\u001b[0m: Best_threshold 0.25\n",
      "\u001b[34m\u001b[1mwandb\u001b[0m:          Epoch 15\n",
      "\u001b[34m\u001b[1mwandb\u001b[0m:     Epoch_best 9\n",
      "\u001b[34m\u001b[1mwandb\u001b[0m:          Score 0.22041\n",
      "\u001b[34m\u001b[1mwandb\u001b[0m:     Train_loss 0.32122\n",
      "\u001b[34m\u001b[1mwandb\u001b[0m:        Val_los 0.15991\n",
      "\u001b[34m\u001b[1mwandb\u001b[0m: \n",
      "\u001b[34m\u001b[1mwandb\u001b[0m: 🚀 View run \u001b[33mPSPNet mobilenet_v2 Fold1 freezeTrue 68274\u001b[0m at: \u001b[34m\u001b[4mhttps://wandb.ai/i-am-noob/Vesuvius%20Experiments%20PSPNet/runs/j2mu0924\u001b[0m\n",
      "\u001b[34m\u001b[1mwandb\u001b[0m: Synced 6 W&B file(s), 0 media file(s), 0 artifact file(s) and 0 other file(s)\n",
      "\u001b[34m\u001b[1mwandb\u001b[0m: Find logs at: \u001b[35m\u001b[1m./wandb/run-20230602_211232-j2mu0924/logs\u001b[0m\n"
     ]
    },
    {
     "name": "stdout",
     "output_type": "stream",
     "text": [
      "deleted items: memory GB:7.37\n",
      "pre inializing: memory GB:4.14\n"
     ]
    },
    {
     "name": "stderr",
     "output_type": "stream",
     "text": [
      "Image Slice Progress: 100%|\u001b[34m██████████\u001b[0m| 6/6 [00:00<00:00, 10.87it/s]\n",
      "Image Slice Progress: 100%|\u001b[34m██████████\u001b[0m| 6/6 [00:00<00:00,  6.03it/s]\n",
      "Image Slice Progress: 100%|\u001b[34m██████████\u001b[0m| 6/6 [00:00<00:00, 22.74it/s]\n"
     ]
    },
    {
     "name": "stdout",
     "output_type": "stream",
     "text": [
      "post inializing: memory GB:6.96\n",
      "Current fold --> 1\n"
     ]
    },
    {
     "name": "stderr",
     "output_type": "stream",
     "text": [
      "\u001b[34m\u001b[1mwandb\u001b[0m: Tracking run with wandb version 0.15.3\n",
      "\u001b[34m\u001b[1mwandb\u001b[0m: Run data is saved locally in \u001b[35m\u001b[1m/kaggle/working/wandb/run-20230602_212451-g7yt4nk1\u001b[0m\n",
      "\u001b[34m\u001b[1mwandb\u001b[0m: Run \u001b[1m`wandb offline`\u001b[0m to turn off syncing.\n",
      "\u001b[34m\u001b[1mwandb\u001b[0m: Syncing run \u001b[33mPSPNet efficientnet-b7 Fold1 freezeTrue 76132\u001b[0m\n",
      "\u001b[34m\u001b[1mwandb\u001b[0m: ⭐️ View project at \u001b[34m\u001b[4mhttps://wandb.ai/i-am-noob/Vesuvius%20Experiments%20PSPNet\u001b[0m\n",
      "\u001b[34m\u001b[1mwandb\u001b[0m: 🚀 View run at \u001b[34m\u001b[4mhttps://wandb.ai/i-am-noob/Vesuvius%20Experiments%20PSPNet/runs/g7yt4nk1\u001b[0m\n"
     ]
    },
    {
     "name": "stdout",
     "output_type": "stream",
     "text": [
      "model_name PSPNet\n",
      "backbone efficientnet-b7\n"
     ]
    },
    {
     "name": "stderr",
     "output_type": "stream",
     "text": [
      "Downloading: \"https://github.com/lukemelas/EfficientNet-PyTorch/releases/download/1.0/efficientnet-b7-dcc49843.pth\" to /root/.cache/torch/hub/checkpoints/efficientnet-b7-dcc49843.pth\n"
     ]
    },
    {
     "data": {
      "application/vnd.jupyter.widget-view+json": {
       "model_id": "0c3c46810db34bdd9cc1cc480d0b69c0",
       "version_major": 2,
       "version_minor": 0
      },
      "text/plain": [
       "  0%|          | 0.00/254M [00:00<?, ?B/s]"
      ]
     },
     "metadata": {},
     "output_type": "display_data"
    },
    {
     "name": "stderr",
     "output_type": "stream",
     "text": [
      "Validation Steps Progress: 100%|\u001b[32m██████████\u001b[0m| 17/17 [00:04<00:00,  3.55it/s]\n"
     ]
    },
    {
     "name": "stdout",
     "output_type": "stream",
     "text": [
      "th: 0.1, fbeta: 0.0012461365413880053\n",
      "th: 0.15, fbeta: 0.0010158166151930242\n",
      "th: 0.2, fbeta: 0.0008906017206669801\n",
      "th: 0.25, fbeta: 0.000809108464154802\n",
      "th: 0.3, fbeta: 0.0007328304914708082\n",
      "th: 0.35, fbeta: 0.0006324837206722856\n",
      "th: 0.4, fbeta: 0.0005365382299171715\n",
      "th: 0.45, fbeta: 0.0005365395381162166\n",
      "th: 0.5, fbeta: 0.0005365395381162166\n",
      "th: 0.55, fbeta: 0.00046174536903891364\n",
      "th: 0.6, fbeta: 0.0004375696091525999\n",
      "th: 0.65, fbeta: 0.0004042159952763163\n",
      "th: 0.7, fbeta: 0.0004042159952763163\n",
      "th: 0.75, fbeta: 0.0003420855716011109\n"
     ]
    },
    {
     "name": "stderr",
     "output_type": "stream",
     "text": [
      "best_th: 0.1, fbeta: 0.0012461365413880053\n"
     ]
    },
    {
     "name": "stdout",
     "output_type": "stream",
     "text": [
      "th: 0.8, fbeta: 0.00030492726950052495\n",
      "Val_loss before training -->0.8956711609637907, score --> 0.0012461365413880053\n"
     ]
    },
    {
     "name": "stderr",
     "output_type": "stream",
     "text": [
      "Train Steps Progress: 100%|\u001b[31m██████████\u001b[0m| 152/152 [00:37<00:00,  4.08it/s]\n",
      "Validation Steps Progress: 100%|\u001b[32m██████████\u001b[0m| 17/17 [00:03<00:00,  4.78it/s]\n"
     ]
    },
    {
     "name": "stdout",
     "output_type": "stream",
     "text": [
      "th: 0.1, fbeta: 0.0018686512810936026\n",
      "th: 0.15, fbeta: 0.00026688459325069044\n",
      "th: 0.2, fbeta: 5.4228091139621115e-05\n",
      "th: 0.25, fbeta: 3.7449607763434894e-06\n",
      "th: 0.3, fbeta: 0.0\n",
      "th: 0.35, fbeta: 0.0\n",
      "th: 0.4, fbeta: 0.0\n",
      "th: 0.45, fbeta: 0.0\n",
      "th: 0.5, fbeta: 0.0\n",
      "th: 0.55, fbeta: 0.0\n",
      "th: 0.6, fbeta: 0.0\n",
      "th: 0.65, fbeta: 0.0\n",
      "th: 0.7, fbeta: 0.0\n",
      "th: 0.75, fbeta: 0.0\n"
     ]
    },
    {
     "name": "stderr",
     "output_type": "stream",
     "text": [
      "best_th: 0.1, fbeta: 0.0018686512810936026\n",
      "Epoch 1 - avg_train_loss: 0.4075  avg_val_loss: 0.2706  time: 57s\n",
      "Epoch 1 - avgScore: 0.0019\n",
      "Epoch 1 - Save Best Score: 0.0019 Model\n",
      "Epoch 1 - Save Best Loss: 0.2706 Model\n"
     ]
    },
    {
     "name": "stdout",
     "output_type": "stream",
     "text": [
      "th: 0.8, fbeta: 0.0\n",
      "saving model: memory GB:7.37\n"
     ]
    },
    {
     "name": "stderr",
     "output_type": "stream",
     "text": [
      "Train Steps Progress: 100%|\u001b[31m██████████\u001b[0m| 152/152 [00:37<00:00,  4.09it/s]\n",
      "Validation Steps Progress: 100%|\u001b[32m██████████\u001b[0m| 17/17 [00:03<00:00,  4.73it/s]\n"
     ]
    },
    {
     "name": "stdout",
     "output_type": "stream",
     "text": [
      "th: 0.1, fbeta: 0.049686741013871716\n",
      "th: 0.15, fbeta: 0.007011444241499187\n",
      "th: 0.2, fbeta: 0.0010868854627132827\n",
      "th: 0.25, fbeta: 0.00019461474258202218\n",
      "th: 0.3, fbeta: 2.340674783793099e-05\n",
      "th: 0.35, fbeta: 4.681920609564501e-06\n",
      "th: 0.4, fbeta: 0.0\n",
      "th: 0.45, fbeta: 0.0\n",
      "th: 0.5, fbeta: 0.0\n",
      "th: 0.55, fbeta: 0.0\n",
      "th: 0.6, fbeta: 0.0\n",
      "th: 0.65, fbeta: 0.0\n",
      "th: 0.7, fbeta: 0.0\n",
      "th: 0.75, fbeta: 0.0\n"
     ]
    },
    {
     "name": "stderr",
     "output_type": "stream",
     "text": [
      "best_th: 0.1, fbeta: 0.049686741013871716\n",
      "Epoch 2 - avg_train_loss: 0.3381  avg_val_loss: 0.2060  time: 114s\n",
      "Epoch 2 - avgScore: 0.0497\n",
      "Epoch 2 - Save Best Score: 0.0497 Model\n",
      "Epoch 2 - Save Best Loss: 0.2060 Model\n"
     ]
    },
    {
     "name": "stdout",
     "output_type": "stream",
     "text": [
      "th: 0.8, fbeta: 0.0\n",
      "saving model: memory GB:7.37\n"
     ]
    },
    {
     "name": "stderr",
     "output_type": "stream",
     "text": [
      "Train Steps Progress: 100%|\u001b[31m██████████\u001b[0m| 152/152 [00:38<00:00,  3.94it/s]\n",
      "Validation Steps Progress: 100%|\u001b[32m██████████\u001b[0m| 17/17 [00:03<00:00,  4.72it/s]\n"
     ]
    },
    {
     "name": "stdout",
     "output_type": "stream",
     "text": [
      "th: 0.1, fbeta: 0.17107305266078576\n",
      "th: 0.15, fbeta: 0.11539568301499313\n",
      "th: 0.2, fbeta: 0.040162424080127664\n",
      "th: 0.25, fbeta: 0.008779401786916347\n",
      "th: 0.3, fbeta: 0.0016898265540232198\n",
      "th: 0.35, fbeta: 0.0003050381721924093\n",
      "th: 0.4, fbeta: 4.494037198391072e-05\n",
      "th: 0.45, fbeta: 2.8088497424560615e-06\n",
      "th: 0.5, fbeta: 0.0\n",
      "th: 0.55, fbeta: 0.0\n",
      "th: 0.6, fbeta: 0.0\n",
      "th: 0.65, fbeta: 0.0\n",
      "th: 0.7, fbeta: 0.0\n",
      "th: 0.75, fbeta: 0.0\n"
     ]
    },
    {
     "name": "stderr",
     "output_type": "stream",
     "text": [
      "best_th: 0.1, fbeta: 0.17107305266078576\n",
      "Epoch 3 - avg_train_loss: 0.3343  avg_val_loss: 0.1796  time: 115s\n",
      "Epoch 3 - avgScore: 0.1711\n",
      "Epoch 3 - Save Best Score: 0.1711 Model\n",
      "Epoch 3 - Save Best Loss: 0.1796 Model\n"
     ]
    },
    {
     "name": "stdout",
     "output_type": "stream",
     "text": [
      "th: 0.8, fbeta: 0.0\n",
      "saving model: memory GB:7.37\n"
     ]
    },
    {
     "name": "stderr",
     "output_type": "stream",
     "text": [
      "Train Steps Progress: 100%|\u001b[31m██████████\u001b[0m| 152/152 [00:38<00:00,  3.98it/s]\n",
      "Validation Steps Progress: 100%|\u001b[32m██████████\u001b[0m| 17/17 [00:03<00:00,  4.70it/s]\n"
     ]
    },
    {
     "name": "stdout",
     "output_type": "stream",
     "text": [
      "th: 0.1, fbeta: 0.18205431183543555\n",
      "th: 0.15, fbeta: 0.15669664742836348\n",
      "th: 0.2, fbeta: 0.0789519397640377\n",
      "th: 0.25, fbeta: 0.0220075893776529\n",
      "th: 0.3, fbeta: 0.004498463151455775\n",
      "th: 0.35, fbeta: 0.0008919379884152572\n",
      "th: 0.4, fbeta: 0.00021524206285207517\n",
      "th: 0.45, fbeta: 3.2769499426205365e-05\n",
      "th: 0.5, fbeta: 2.8090079469871533e-06\n",
      "th: 0.55, fbeta: 0.0\n",
      "th: 0.6, fbeta: 0.0\n",
      "th: 0.65, fbeta: 0.0\n",
      "th: 0.7, fbeta: 0.0\n",
      "th: 0.75, fbeta: 0.0\n"
     ]
    },
    {
     "name": "stderr",
     "output_type": "stream",
     "text": [
      "best_th: 0.1, fbeta: 0.18205431183543555\n",
      "Epoch 4 - avg_train_loss: 0.3330  avg_val_loss: 0.1725  time: 107s\n",
      "Epoch 4 - avgScore: 0.1821\n",
      "Epoch 4 - Save Best Score: 0.1821 Model\n",
      "Epoch 4 - Save Best Loss: 0.1725 Model\n"
     ]
    },
    {
     "name": "stdout",
     "output_type": "stream",
     "text": [
      "th: 0.8, fbeta: 0.0\n",
      "saving model: memory GB:7.37\n"
     ]
    },
    {
     "name": "stderr",
     "output_type": "stream",
     "text": [
      "Train Steps Progress: 100%|\u001b[31m██████████\u001b[0m| 152/152 [00:37<00:00,  4.04it/s]\n",
      "Validation Steps Progress: 100%|\u001b[32m██████████\u001b[0m| 17/17 [00:03<00:00,  4.61it/s]\n"
     ]
    },
    {
     "name": "stdout",
     "output_type": "stream",
     "text": [
      "th: 0.1, fbeta: 0.1855260400762421\n",
      "th: 0.15, fbeta: 0.1770445588184899\n",
      "th: 0.2, fbeta: 0.10835766302869113\n",
      "th: 0.25, fbeta: 0.03415031776123581\n",
      "th: 0.3, fbeta: 0.007420395710986466\n",
      "th: 0.35, fbeta: 0.0015033025995849901\n",
      "th: 0.4, fbeta: 0.00026291527355420117\n",
      "th: 0.45, fbeta: 4.9619533115475045e-05\n",
      "th: 0.5, fbeta: 1.2172574779182911e-05\n",
      "th: 0.55, fbeta: 9.363270059923099e-07\n",
      "th: 0.6, fbeta: 0.0\n",
      "th: 0.65, fbeta: 0.0\n",
      "th: 0.7, fbeta: 0.0\n",
      "th: 0.75, fbeta: 0.0\n"
     ]
    },
    {
     "name": "stderr",
     "output_type": "stream",
     "text": [
      "best_th: 0.1, fbeta: 0.1855260400762421\n"
     ]
    },
    {
     "name": "stdout",
     "output_type": "stream",
     "text": [
      "th: 0.8, fbeta: 0.0\n"
     ]
    },
    {
     "name": "stderr",
     "output_type": "stream",
     "text": [
      "Epoch 5 - avg_train_loss: 0.3293  avg_val_loss: 0.1691  time: 126s\n",
      "Epoch 5 - avgScore: 0.1855\n",
      "Epoch 5 - Save Best Score: 0.1855 Model\n",
      "Epoch 5 - Save Best Loss: 0.1691 Model\n"
     ]
    },
    {
     "name": "stdout",
     "output_type": "stream",
     "text": [
      "saving model: memory GB:7.37\n"
     ]
    },
    {
     "name": "stderr",
     "output_type": "stream",
     "text": [
      "Train Steps Progress: 100%|\u001b[31m██████████\u001b[0m| 152/152 [00:38<00:00,  3.93it/s]\n",
      "Validation Steps Progress: 100%|\u001b[32m██████████\u001b[0m| 17/17 [00:03<00:00,  4.78it/s]\n"
     ]
    },
    {
     "name": "stdout",
     "output_type": "stream",
     "text": [
      "th: 0.1, fbeta: 0.1846220120565343\n",
      "th: 0.15, fbeta: 0.19310016243383965\n",
      "th: 0.2, fbeta: 0.15838109740520318\n",
      "th: 0.25, fbeta: 0.07874250085712989\n",
      "th: 0.3, fbeta: 0.02252194904060868\n",
      "th: 0.35, fbeta: 0.004847363985697822\n",
      "th: 0.4, fbeta: 0.0009917455199314447\n",
      "th: 0.45, fbeta: 0.00015721941487656602\n",
      "th: 0.5, fbeta: 4.025846441226155e-05\n",
      "th: 0.55, fbeta: 1.1235967389327502e-05\n",
      "th: 0.6, fbeta: 0.0\n",
      "th: 0.65, fbeta: 0.0\n",
      "th: 0.7, fbeta: 0.0\n",
      "th: 0.75, fbeta: 0.0\n"
     ]
    },
    {
     "name": "stderr",
     "output_type": "stream",
     "text": [
      "best_th: 0.15, fbeta: 0.19310016243383965\n",
      "Epoch 6 - avg_train_loss: 0.3259  avg_val_loss: 0.1663  time: 94s\n",
      "Epoch 6 - avgScore: 0.1931\n",
      "Epoch 6 - Save Best Score: 0.1931 Model\n",
      "Epoch 6 - Save Best Loss: 0.1663 Model\n"
     ]
    },
    {
     "name": "stdout",
     "output_type": "stream",
     "text": [
      "th: 0.8, fbeta: 0.0\n",
      "saving model: memory GB:7.37\n"
     ]
    },
    {
     "name": "stderr",
     "output_type": "stream",
     "text": [
      "Train Steps Progress: 100%|\u001b[31m██████████\u001b[0m| 152/152 [00:37<00:00,  4.05it/s]\n",
      "Validation Steps Progress: 100%|\u001b[32m██████████\u001b[0m| 17/17 [00:04<00:00,  3.94it/s]\n"
     ]
    },
    {
     "name": "stdout",
     "output_type": "stream",
     "text": [
      "th: 0.1, fbeta: 0.18531592510811618\n",
      "th: 0.15, fbeta: 0.19394541064814366\n",
      "th: 0.2, fbeta: 0.15489403701523247\n",
      "th: 0.25, fbeta: 0.07433535644176624\n",
      "th: 0.3, fbeta: 0.020888304344812536\n",
      "th: 0.35, fbeta: 0.004436328759510731\n",
      "th: 0.4, fbeta: 0.0008780818397593474\n",
      "th: 0.45, fbeta: 0.00015161487025560272\n",
      "th: 0.5, fbeta: 4.4005214373477245e-05\n",
      "th: 0.55, fbeta: 1.310923506348186e-05\n",
      "th: 0.6, fbeta: 2.809205727713982e-06\n",
      "th: 0.65, fbeta: 0.0\n",
      "th: 0.7, fbeta: 0.0\n",
      "th: 0.75, fbeta: 0.0\n"
     ]
    },
    {
     "name": "stderr",
     "output_type": "stream",
     "text": [
      "best_th: 0.15, fbeta: 0.19394541064814366\n",
      "Epoch 7 - avg_train_loss: 0.3268  avg_val_loss: 0.1665  time: 111s\n",
      "Epoch 7 - avgScore: 0.1939\n",
      "Epoch 7 - Save Best Score: 0.1939 Model\n",
      "Epoch 7 - Save Best Loss: 0.1665 Model\n"
     ]
    },
    {
     "name": "stdout",
     "output_type": "stream",
     "text": [
      "th: 0.8, fbeta: 0.0\n",
      "saving model: memory GB:7.37\n"
     ]
    },
    {
     "name": "stderr",
     "output_type": "stream",
     "text": [
      "Train Steps Progress: 100%|\u001b[31m██████████\u001b[0m| 152/152 [00:37<00:00,  4.10it/s]\n",
      "Validation Steps Progress: 100%|\u001b[32m██████████\u001b[0m| 17/17 [00:03<00:00,  4.86it/s]\n"
     ]
    },
    {
     "name": "stdout",
     "output_type": "stream",
     "text": [
      "th: 0.1, fbeta: 0.17780504380542433\n",
      "th: 0.15, fbeta: 0.18947185222697804\n",
      "th: 0.2, fbeta: 0.1927783812036656\n",
      "th: 0.25, fbeta: 0.1559462422484366\n",
      "th: 0.3, fbeta: 0.08306734934821101\n",
      "th: 0.35, fbeta: 0.027723384044385985\n",
      "th: 0.4, fbeta: 0.0068431102454574785\n",
      "th: 0.45, fbeta: 0.001441996359584702\n",
      "th: 0.5, fbeta: 0.0002984640696711821\n",
      "th: 0.55, fbeta: 6.459909546421754e-05\n",
      "th: 0.6, fbeta: 1.5917875490219018e-05\n",
      "th: 0.65, fbeta: 0.0\n",
      "th: 0.7, fbeta: 0.0\n",
      "th: 0.75, fbeta: 0.0\n"
     ]
    },
    {
     "name": "stderr",
     "output_type": "stream",
     "text": [
      "best_th: 0.2, fbeta: 0.1927783812036656\n",
      "Epoch 8 - avg_train_loss: 0.3245  avg_val_loss: 0.1676  time: 117s\n",
      "Epoch 8 - avgScore: 0.1928\n",
      "Epoch Progress:  53%|\u001b[37m█████▎    \u001b[0m| 8/15 [14:06<12:57, 111.10s/it]"
     ]
    },
    {
     "name": "stdout",
     "output_type": "stream",
     "text": [
      "th: 0.8, fbeta: 0.0\n"
     ]
    },
    {
     "name": "stderr",
     "output_type": "stream",
     "text": [
      "Train Steps Progress: 100%|\u001b[31m██████████\u001b[0m| 152/152 [00:38<00:00,  3.97it/s]\n",
      "Validation Steps Progress: 100%|\u001b[32m██████████\u001b[0m| 17/17 [00:03<00:00,  4.70it/s]\n"
     ]
    },
    {
     "name": "stdout",
     "output_type": "stream",
     "text": [
      "th: 0.1, fbeta: 0.17863830886078616\n",
      "th: 0.15, fbeta: 0.1907520462739424\n",
      "th: 0.2, fbeta: 0.19288122243313408\n",
      "th: 0.25, fbeta: 0.15086978802737516\n",
      "th: 0.3, fbeta: 0.07378872426830183\n",
      "th: 0.35, fbeta: 0.022161523584705273\n",
      "th: 0.4, fbeta: 0.0050627055707977275\n",
      "th: 0.45, fbeta: 0.0010216710124820955\n",
      "th: 0.5, fbeta: 0.000221805712284268\n",
      "th: 0.55, fbeta: 4.681525624158427e-05\n",
      "th: 0.6, fbeta: 9.363836585446178e-06\n",
      "th: 0.65, fbeta: 0.0\n",
      "th: 0.7, fbeta: 0.0\n",
      "th: 0.75, fbeta: 0.0\n"
     ]
    },
    {
     "name": "stderr",
     "output_type": "stream",
     "text": [
      "best_th: 0.2, fbeta: 0.19288122243313408\n"
     ]
    },
    {
     "name": "stdout",
     "output_type": "stream",
     "text": [
      "th: 0.8, fbeta: 0.0\n"
     ]
    },
    {
     "name": "stderr",
     "output_type": "stream",
     "text": [
      "Epoch 9 - avg_train_loss: 0.3242  avg_val_loss: 0.1666  time: 88s\n",
      "Epoch 9 - avgScore: 0.1929\n",
      "Train Steps Progress: 100%|\u001b[31m██████████\u001b[0m| 152/152 [00:37<00:00,  4.07it/s]\n",
      "Validation Steps Progress: 100%|\u001b[32m██████████\u001b[0m| 17/17 [00:03<00:00,  4.73it/s]\n"
     ]
    },
    {
     "name": "stdout",
     "output_type": "stream",
     "text": [
      "th: 0.1, fbeta: 0.1797214430803443\n",
      "th: 0.15, fbeta: 0.19298296079299576\n",
      "th: 0.2, fbeta: 0.19643230168505238\n",
      "th: 0.25, fbeta: 0.1533450665174002\n",
      "th: 0.3, fbeta: 0.0744893576946252\n",
      "th: 0.35, fbeta: 0.02212517834852127\n",
      "th: 0.4, fbeta: 0.005076259282347639\n",
      "th: 0.45, fbeta: 0.000999230610622057\n",
      "th: 0.5, fbeta: 0.00022835722962086087\n",
      "th: 0.55, fbeta: 5.524208418616614e-05\n",
      "th: 0.6, fbeta: 1.3109424155700718e-05\n",
      "th: 0.65, fbeta: 0.0\n",
      "th: 0.7, fbeta: 0.0\n",
      "th: 0.75, fbeta: 0.0\n"
     ]
    },
    {
     "name": "stderr",
     "output_type": "stream",
     "text": [
      "best_th: 0.2, fbeta: 0.19643230168505238\n",
      "Epoch 10 - avg_train_loss: 0.3214  avg_val_loss: 0.1659  time: 76s\n",
      "Epoch 10 - avgScore: 0.1964\n",
      "Epoch 10 - Save Best Score: 0.1964 Model\n",
      "Epoch 10 - Save Best Loss: 0.1659 Model\n"
     ]
    },
    {
     "name": "stdout",
     "output_type": "stream",
     "text": [
      "th: 0.8, fbeta: 0.0\n",
      "saving model: memory GB:7.37\n"
     ]
    },
    {
     "name": "stderr",
     "output_type": "stream",
     "text": [
      "Train Steps Progress: 100%|\u001b[31m██████████\u001b[0m| 152/152 [00:37<00:00,  4.09it/s]\n",
      "Validation Steps Progress: 100%|\u001b[32m██████████\u001b[0m| 17/17 [00:03<00:00,  4.76it/s]\n"
     ]
    },
    {
     "name": "stdout",
     "output_type": "stream",
     "text": [
      "th: 0.1, fbeta: 0.18422266778134525\n",
      "th: 0.15, fbeta: 0.1995759754597246\n",
      "th: 0.2, fbeta: 0.18278095262936098\n",
      "th: 0.25, fbeta: 0.1039415813844295\n",
      "th: 0.3, fbeta: 0.03269130229879853\n",
      "th: 0.35, fbeta: 0.006932204531803562\n",
      "th: 0.4, fbeta: 0.0012124100972464285\n",
      "th: 0.45, fbeta: 0.00021992443581744412\n",
      "th: 0.5, fbeta: 4.962400972908638e-05\n",
      "th: 0.55, fbeta: 1.0300178595140173e-05\n",
      "th: 0.6, fbeta: 0.0\n",
      "th: 0.65, fbeta: 0.0\n",
      "th: 0.7, fbeta: 0.0\n",
      "th: 0.75, fbeta: 0.0\n"
     ]
    },
    {
     "name": "stderr",
     "output_type": "stream",
     "text": [
      "best_th: 0.15, fbeta: 0.1995759754597246\n",
      "Epoch 11 - avg_train_loss: 0.3243  avg_val_loss: 0.1640  time: 109s\n",
      "Epoch 11 - avgScore: 0.1996\n",
      "Epoch 11 - Save Best Score: 0.1996 Model\n",
      "Epoch 11 - Save Best Loss: 0.1640 Model\n"
     ]
    },
    {
     "name": "stdout",
     "output_type": "stream",
     "text": [
      "th: 0.8, fbeta: 0.0\n",
      "saving model: memory GB:7.37\n"
     ]
    },
    {
     "name": "stderr",
     "output_type": "stream",
     "text": [
      "Train Steps Progress: 100%|\u001b[31m██████████\u001b[0m| 152/152 [00:38<00:00,  3.96it/s]\n",
      "Validation Steps Progress: 100%|\u001b[32m██████████\u001b[0m| 17/17 [00:04<00:00,  4.19it/s]\n"
     ]
    },
    {
     "name": "stdout",
     "output_type": "stream",
     "text": [
      "th: 0.1, fbeta: 0.1777298800207969\n",
      "th: 0.15, fbeta: 0.19140670083639913\n",
      "th: 0.2, fbeta: 0.20659098501562362\n",
      "th: 0.25, fbeta: 0.19668382856881958\n",
      "th: 0.3, fbeta: 0.13617176048648863\n",
      "th: 0.35, fbeta: 0.060551317202205364\n",
      "th: 0.4, fbeta: 0.017777156361368097\n",
      "th: 0.45, fbeta: 0.004206467047301965\n",
      "th: 0.5, fbeta: 0.000884045403909835\n",
      "th: 0.55, fbeta: 0.00016755343694094114\n",
      "th: 0.6, fbeta: 3.464529075641261e-05\n",
      "th: 0.65, fbeta: 5.618398829211969e-06\n",
      "th: 0.7, fbeta: 0.0\n",
      "th: 0.75, fbeta: 0.0\n"
     ]
    },
    {
     "name": "stderr",
     "output_type": "stream",
     "text": [
      "best_th: 0.2, fbeta: 0.20659098501562362\n",
      "Epoch 12 - avg_train_loss: 0.3223  avg_val_loss: 0.1665  time: 128s\n",
      "Epoch 12 - avgScore: 0.2066\n",
      "Epoch 12 - Save Best Score: 0.2066 Model\n",
      "Epoch 12 - Save Best Loss: 0.1665 Model\n"
     ]
    },
    {
     "name": "stdout",
     "output_type": "stream",
     "text": [
      "th: 0.8, fbeta: 0.0\n",
      "saving model: memory GB:7.37\n"
     ]
    },
    {
     "name": "stderr",
     "output_type": "stream",
     "text": [
      "Train Steps Progress: 100%|\u001b[31m██████████\u001b[0m| 152/152 [00:38<00:00,  3.96it/s]\n",
      "Validation Steps Progress: 100%|\u001b[32m██████████\u001b[0m| 17/17 [00:03<00:00,  4.48it/s]\n"
     ]
    },
    {
     "name": "stdout",
     "output_type": "stream",
     "text": [
      "th: 0.1, fbeta: 0.1809764021082085\n",
      "th: 0.15, fbeta: 0.19969624865126742\n",
      "th: 0.2, fbeta: 0.20874023662868343\n",
      "th: 0.25, fbeta: 0.1613118310503321\n",
      "th: 0.3, fbeta: 0.07481401491799342\n",
      "th: 0.35, fbeta: 0.021289316316992452\n",
      "th: 0.4, fbeta: 0.004473209670732812\n",
      "th: 0.45, fbeta: 0.0008261656146226034\n",
      "th: 0.5, fbeta: 0.0001441610812651748\n",
      "th: 0.55, fbeta: 2.5282002261714463e-05\n",
      "th: 0.6, fbeta: 3.745604831163612e-06\n",
      "th: 0.65, fbeta: 0.0\n",
      "th: 0.7, fbeta: 0.0\n",
      "th: 0.75, fbeta: 0.0\n"
     ]
    },
    {
     "name": "stderr",
     "output_type": "stream",
     "text": [
      "best_th: 0.2, fbeta: 0.20874023662868343\n",
      "Epoch 13 - avg_train_loss: 0.3202  avg_val_loss: 0.1637  time: 135s\n",
      "Epoch 13 - avgScore: 0.2087\n",
      "Epoch 13 - Save Best Score: 0.2087 Model\n",
      "Epoch 13 - Save Best Loss: 0.1637 Model\n"
     ]
    },
    {
     "name": "stdout",
     "output_type": "stream",
     "text": [
      "th: 0.8, fbeta: 0.0\n",
      "saving model: memory GB:7.37\n"
     ]
    },
    {
     "name": "stderr",
     "output_type": "stream",
     "text": [
      "Train Steps Progress: 100%|\u001b[31m██████████\u001b[0m| 152/152 [00:38<00:00,  3.94it/s]\n",
      "Validation Steps Progress: 100%|\u001b[32m██████████\u001b[0m| 17/17 [00:03<00:00,  4.74it/s]\n"
     ]
    },
    {
     "name": "stdout",
     "output_type": "stream",
     "text": [
      "th: 0.1, fbeta: 0.1817351676257119\n",
      "th: 0.15, fbeta: 0.2006618042224637\n",
      "th: 0.2, fbeta: 0.20914126705035832\n",
      "th: 0.25, fbeta: 0.1605009316708295\n",
      "th: 0.3, fbeta: 0.07310813818066002\n",
      "th: 0.35, fbeta: 0.020055146243263967\n",
      "th: 0.4, fbeta: 0.004362784178068875\n",
      "th: 0.45, fbeta: 0.0007366642720281844\n",
      "th: 0.5, fbeta: 0.00012638511271075817\n",
      "th: 0.55, fbeta: 1.685474449643308e-05\n",
      "th: 0.6, fbeta: 0.0\n",
      "th: 0.65, fbeta: 0.0\n",
      "th: 0.7, fbeta: 0.0\n",
      "th: 0.75, fbeta: 0.0\n"
     ]
    },
    {
     "name": "stderr",
     "output_type": "stream",
     "text": [
      "best_th: 0.2, fbeta: 0.20914126705035832\n"
     ]
    },
    {
     "name": "stdout",
     "output_type": "stream",
     "text": [
      "th: 0.8, fbeta: 0.0\n"
     ]
    },
    {
     "name": "stderr",
     "output_type": "stream",
     "text": [
      "Epoch 14 - avg_train_loss: 0.3196  avg_val_loss: 0.1632  time: 94s\n",
      "Epoch 14 - avgScore: 0.2091\n",
      "Epoch 14 - Save Best Score: 0.2091 Model\n",
      "Epoch 14 - Save Best Loss: 0.1632 Model\n"
     ]
    },
    {
     "name": "stdout",
     "output_type": "stream",
     "text": [
      "saving model: memory GB:7.37\n"
     ]
    },
    {
     "name": "stderr",
     "output_type": "stream",
     "text": [
      "Train Steps Progress: 100%|\u001b[31m██████████\u001b[0m| 152/152 [00:37<00:00,  4.07it/s]\n",
      "Validation Steps Progress: 100%|\u001b[32m██████████\u001b[0m| 17/17 [00:03<00:00,  4.79it/s]\n"
     ]
    },
    {
     "name": "stdout",
     "output_type": "stream",
     "text": [
      "th: 0.1, fbeta: 0.1804445155409995\n",
      "th: 0.15, fbeta: 0.19867333802225556\n",
      "th: 0.2, fbeta: 0.21248248740259645\n",
      "th: 0.25, fbeta: 0.17649281100026884\n",
      "th: 0.3, fbeta: 0.09116337206254306\n",
      "th: 0.35, fbeta: 0.027992795369805895\n",
      "th: 0.4, fbeta: 0.006438914164078335\n",
      "th: 0.45, fbeta: 0.0011738469821118592\n",
      "th: 0.5, fbeta: 0.0001918822619841158\n",
      "th: 0.55, fbeta: 2.9963551264160037e-05\n",
      "th: 0.6, fbeta: 9.364033119480556e-07\n",
      "th: 0.65, fbeta: 0.0\n",
      "th: 0.7, fbeta: 0.0\n",
      "th: 0.75, fbeta: 0.0\n"
     ]
    },
    {
     "name": "stderr",
     "output_type": "stream",
     "text": [
      "best_th: 0.2, fbeta: 0.21248248740259645\n",
      "Epoch 15 - avg_train_loss: 0.3184  avg_val_loss: 0.1635  time: 102s\n",
      "Epoch 15 - avgScore: 0.2125\n",
      "Epoch 15 - Save Best Score: 0.2125 Model\n",
      "Epoch 15 - Save Best Loss: 0.1635 Model\n"
     ]
    },
    {
     "name": "stdout",
     "output_type": "stream",
     "text": [
      "th: 0.8, fbeta: 0.0\n",
      "saving model: memory GB:7.37\n"
     ]
    },
    {
     "name": "stderr",
     "output_type": "stream",
     "text": [
      "Epoch Progress: 100%|\u001b[37m██████████\u001b[0m| 15/15 [26:22<00:00, 105.50s/it]\n",
      "\u001b[34m\u001b[1mwandb\u001b[0m: Waiting for W&B process to finish... \u001b[32m(success).\u001b[0m\n",
      "\u001b[34m\u001b[1mwandb\u001b[0m: \n",
      "\u001b[34m\u001b[1mwandb\u001b[0m: Run history:\n",
      "\u001b[34m\u001b[1mwandb\u001b[0m:     Best_Score ▁▃▇▇▇▇▇▇█████\n",
      "\u001b[34m\u001b[1mwandb\u001b[0m:      Best_loss █▃▂▂▂▂▂▁▁▁▁▁▁\n",
      "\u001b[34m\u001b[1mwandb\u001b[0m:        Best_th ▁▁▁▁▁▅▅███▅████\n",
      "\u001b[34m\u001b[1mwandb\u001b[0m: Best_threshold ▁▁▁▁▁▅▅█▅████\n",
      "\u001b[34m\u001b[1mwandb\u001b[0m:          Epoch ▁▁▂▃▃▃▄▅▅▅▆▇▇▇█\n",
      "\u001b[34m\u001b[1mwandb\u001b[0m:     Epoch_best ▁▁▂▃▃▃▄▅▆▇▇▇█\n",
      "\u001b[34m\u001b[1mwandb\u001b[0m:          Score ▁▃▇▇▇▇▇▇▇▇█████\n",
      "\u001b[34m\u001b[1mwandb\u001b[0m:     Train_loss █▃▂▂▂▂▂▁▁▁▁▁▁▁▁\n",
      "\u001b[34m\u001b[1mwandb\u001b[0m:        Val_los █▄▂▂▁▁▁▁▁▁▁▁▁▁▁\n",
      "\u001b[34m\u001b[1mwandb\u001b[0m: \n",
      "\u001b[34m\u001b[1mwandb\u001b[0m: Run summary:\n",
      "\u001b[34m\u001b[1mwandb\u001b[0m:     Best_Score 0.21248\n",
      "\u001b[34m\u001b[1mwandb\u001b[0m:      Best_loss 0.31842\n",
      "\u001b[34m\u001b[1mwandb\u001b[0m:        Best_th 0.2\n",
      "\u001b[34m\u001b[1mwandb\u001b[0m: Best_threshold 0.2\n",
      "\u001b[34m\u001b[1mwandb\u001b[0m:          Epoch 15\n",
      "\u001b[34m\u001b[1mwandb\u001b[0m:     Epoch_best 15\n",
      "\u001b[34m\u001b[1mwandb\u001b[0m:          Score 0.21248\n",
      "\u001b[34m\u001b[1mwandb\u001b[0m:     Train_loss 0.31842\n",
      "\u001b[34m\u001b[1mwandb\u001b[0m:        Val_los 0.16351\n",
      "\u001b[34m\u001b[1mwandb\u001b[0m: \n",
      "\u001b[34m\u001b[1mwandb\u001b[0m: 🚀 View run \u001b[33mPSPNet efficientnet-b7 Fold1 freezeTrue 76132\u001b[0m at: \u001b[34m\u001b[4mhttps://wandb.ai/i-am-noob/Vesuvius%20Experiments%20PSPNet/runs/g7yt4nk1\u001b[0m\n",
      "\u001b[34m\u001b[1mwandb\u001b[0m: Synced 6 W&B file(s), 0 media file(s), 0 artifact file(s) and 0 other file(s)\n",
      "\u001b[34m\u001b[1mwandb\u001b[0m: Find logs at: \u001b[35m\u001b[1m./wandb/run-20230602_212451-g7yt4nk1/logs\u001b[0m\n"
     ]
    },
    {
     "name": "stdout",
     "output_type": "stream",
     "text": [
      "deleted items: memory GB:7.37\n",
      "pre inializing: memory GB:4.14\n"
     ]
    },
    {
     "name": "stderr",
     "output_type": "stream",
     "text": [
      "Image Slice Progress: 100%|\u001b[34m██████████\u001b[0m| 6/6 [00:04<00:00,  1.38it/s]\n",
      "Image Slice Progress: 100%|\u001b[34m██████████\u001b[0m| 6/6 [00:08<00:00,  1.45s/it]\n",
      "Image Slice Progress: 100%|\u001b[34m██████████\u001b[0m| 6/6 [00:03<00:00,  1.63it/s]\n"
     ]
    },
    {
     "name": "stdout",
     "output_type": "stream",
     "text": [
      "post inializing: memory GB:6.83\n",
      "Current fold --> 1\n"
     ]
    },
    {
     "name": "stderr",
     "output_type": "stream",
     "text": [
      "\u001b[34m\u001b[1mwandb\u001b[0m: Tracking run with wandb version 0.15.3\n",
      "\u001b[34m\u001b[1mwandb\u001b[0m: Run data is saved locally in \u001b[35m\u001b[1m/kaggle/working/wandb/run-20230602_215242-92f7g0ts\u001b[0m\n",
      "\u001b[34m\u001b[1mwandb\u001b[0m: Run \u001b[1m`wandb offline`\u001b[0m to turn off syncing.\n",
      "\u001b[34m\u001b[1mwandb\u001b[0m: Syncing run \u001b[33mPSPNet timm-mobilenetv3_large_100 Fold1 freezeTrue 11334\u001b[0m\n",
      "\u001b[34m\u001b[1mwandb\u001b[0m: ⭐️ View project at \u001b[34m\u001b[4mhttps://wandb.ai/i-am-noob/Vesuvius%20Experiments%20PSPNet\u001b[0m\n",
      "\u001b[34m\u001b[1mwandb\u001b[0m: 🚀 View run at \u001b[34m\u001b[4mhttps://wandb.ai/i-am-noob/Vesuvius%20Experiments%20PSPNet/runs/92f7g0ts\u001b[0m\n"
     ]
    },
    {
     "name": "stdout",
     "output_type": "stream",
     "text": [
      "model_name PSPNet\n",
      "backbone timm-mobilenetv3_large_100\n"
     ]
    },
    {
     "name": "stderr",
     "output_type": "stream",
     "text": [
      "Downloading: \"https://github.com/rwightman/pytorch-image-models/releases/download/v0.1-weights/tf_mobilenetv3_large_100-427764d5.pth\" to /root/.cache/torch/hub/checkpoints/tf_mobilenetv3_large_100-427764d5.pth\n"
     ]
    },
    {
     "data": {
      "application/vnd.jupyter.widget-view+json": {
       "model_id": "59f6c3fae75941bca22d7f5207cde133",
       "version_major": 2,
       "version_minor": 0
      },
      "text/plain": [
       "  0%|          | 0.00/21.1M [00:00<?, ?B/s]"
      ]
     },
     "metadata": {},
     "output_type": "display_data"
    },
    {
     "name": "stderr",
     "output_type": "stream",
     "text": [
      "Validation Steps Progress: 100%|\u001b[32m██████████\u001b[0m| 17/17 [00:03<00:00,  4.31it/s]\n"
     ]
    },
    {
     "name": "stdout",
     "output_type": "stream",
     "text": [
      "th: 0.1, fbeta: 0.07158942671223052\n",
      "th: 0.15, fbeta: 0.07158866173879251\n",
      "th: 0.2, fbeta: 0.0715874947692078\n",
      "th: 0.25, fbeta: 0.07158746233338083\n",
      "th: 0.3, fbeta: 0.071584940323722\n",
      "th: 0.35, fbeta: 0.07158610480658192\n",
      "th: 0.4, fbeta: 0.07158325737164482\n",
      "th: 0.45, fbeta: 0.0715833841088972\n",
      "th: 0.5, fbeta: 0.07158239705270206\n",
      "th: 0.55, fbeta: 0.0715788633366017\n",
      "th: 0.6, fbeta: 0.07157970796481088\n",
      "th: 0.65, fbeta: 0.07157643240996586\n",
      "th: 0.7, fbeta: 0.0715751997350293\n",
      "th: 0.75, fbeta: 0.07157297160483823\n"
     ]
    },
    {
     "name": "stderr",
     "output_type": "stream",
     "text": [
      "best_th: 0.1, fbeta: 0.07158942671223052\n"
     ]
    },
    {
     "name": "stdout",
     "output_type": "stream",
     "text": [
      "th: 0.8, fbeta: 0.07154313322939768\n",
      "Val_loss before training -->9.399136159327123, score --> 0.07158942671223052\n"
     ]
    },
    {
     "name": "stderr",
     "output_type": "stream",
     "text": [
      "Train Steps Progress: 100%|\u001b[31m██████████\u001b[0m| 152/152 [00:28<00:00,  5.40it/s]\n",
      "Validation Steps Progress: 100%|\u001b[32m██████████\u001b[0m| 17/17 [00:02<00:00,  6.88it/s]\n"
     ]
    },
    {
     "name": "stdout",
     "output_type": "stream",
     "text": [
      "th: 0.1, fbeta: 0.1630486440376127\n",
      "th: 0.15, fbeta: 0.1321712732910784\n",
      "th: 0.2, fbeta: 0.07410679311377169\n",
      "th: 0.25, fbeta: 0.023426206391992877\n",
      "th: 0.3, fbeta: 0.005378650572607754\n",
      "th: 0.35, fbeta: 0.0011309904154869455\n",
      "th: 0.4, fbeta: 0.00023944999627155481\n",
      "th: 0.45, fbeta: 6.178094009304189e-05\n",
      "th: 0.5, fbeta: 1.872594649118261e-05\n",
      "th: 0.55, fbeta: 7.4908427033084444e-06\n",
      "th: 0.6, fbeta: 0.0\n",
      "th: 0.65, fbeta: 0.0\n",
      "th: 0.7, fbeta: 0.0\n",
      "th: 0.75, fbeta: 0.0\n"
     ]
    },
    {
     "name": "stderr",
     "output_type": "stream",
     "text": [
      "best_th: 0.1, fbeta: 0.1630486440376127\n"
     ]
    },
    {
     "name": "stdout",
     "output_type": "stream",
     "text": [
      "th: 0.8, fbeta: 0.0\n"
     ]
    },
    {
     "name": "stderr",
     "output_type": "stream",
     "text": [
      "Epoch 1 - avg_train_loss: 0.4374  avg_val_loss: 0.1789  time: 44s\n",
      "Epoch 1 - avgScore: 0.1630\n",
      "Epoch 1 - Save Best Score: 0.1630 Model\n",
      "Epoch 1 - Save Best Loss: 0.1789 Model\n",
      "Epoch Progress:   7%|\u001b[37m▋         \u001b[0m| 1/15 [00:44<10:17, 44.11s/it]"
     ]
    },
    {
     "name": "stdout",
     "output_type": "stream",
     "text": [
      "saving model: memory GB:7.24\n"
     ]
    },
    {
     "name": "stderr",
     "output_type": "stream",
     "text": [
      "Train Steps Progress: 100%|\u001b[31m██████████\u001b[0m| 152/152 [00:29<00:00,  5.11it/s]\n",
      "Validation Steps Progress: 100%|\u001b[32m██████████\u001b[0m| 17/17 [00:02<00:00,  6.72it/s]\n"
     ]
    },
    {
     "name": "stdout",
     "output_type": "stream",
     "text": [
      "th: 0.1, fbeta: 0.17400412283621297\n",
      "th: 0.15, fbeta: 0.16861074901977452\n",
      "th: 0.2, fbeta: 0.1454736338287959\n",
      "th: 0.25, fbeta: 0.09110270604337699\n",
      "th: 0.3, fbeta: 0.03466802028938462\n",
      "th: 0.35, fbeta: 0.00979389626461296\n",
      "th: 0.4, fbeta: 0.0024692603889342676\n",
      "th: 0.45, fbeta: 0.0005168068918289309\n",
      "th: 0.5, fbeta: 0.00011136631266166119\n",
      "th: 0.55, fbeta: 2.9021813393646148e-05\n",
      "th: 0.6, fbeta: 7.490153774018909e-06\n",
      "th: 0.65, fbeta: 0.0\n",
      "th: 0.7, fbeta: 0.0\n",
      "th: 0.75, fbeta: 0.0\n"
     ]
    },
    {
     "name": "stderr",
     "output_type": "stream",
     "text": [
      "best_th: 0.1, fbeta: 0.17400412283621297\n",
      "Epoch 2 - avg_train_loss: 0.3344  avg_val_loss: 0.1740  time: 58s\n",
      "Epoch 2 - avgScore: 0.1740\n",
      "Epoch 2 - Save Best Score: 0.1740 Model\n",
      "Epoch 2 - Save Best Loss: 0.1740 Model\n"
     ]
    },
    {
     "name": "stdout",
     "output_type": "stream",
     "text": [
      "th: 0.8, fbeta: 0.0\n",
      "saving model: memory GB:7.24\n"
     ]
    },
    {
     "name": "stderr",
     "output_type": "stream",
     "text": [
      "Train Steps Progress: 100%|\u001b[31m██████████\u001b[0m| 152/152 [00:28<00:00,  5.27it/s]\n",
      "Validation Steps Progress: 100%|\u001b[32m██████████\u001b[0m| 17/17 [00:03<00:00,  5.25it/s]\n"
     ]
    },
    {
     "name": "stdout",
     "output_type": "stream",
     "text": [
      "th: 0.1, fbeta: 0.17542373661185084\n",
      "th: 0.15, fbeta: 0.16920778315911167\n",
      "th: 0.2, fbeta: 0.12353092914744372\n",
      "th: 0.25, fbeta: 0.04826676635536898\n",
      "th: 0.3, fbeta: 0.011385170825832342\n",
      "th: 0.35, fbeta: 0.00232784882768034\n",
      "th: 0.4, fbeta: 0.00039178326977259433\n",
      "th: 0.45, fbeta: 7.11355275327953e-05\n",
      "th: 0.5, fbeta: 1.40428325939832e-05\n",
      "th: 0.55, fbeta: 3.7451217692829607e-06\n",
      "th: 0.6, fbeta: 0.0\n",
      "th: 0.65, fbeta: 0.0\n",
      "th: 0.7, fbeta: 0.0\n",
      "th: 0.75, fbeta: 0.0\n"
     ]
    },
    {
     "name": "stderr",
     "output_type": "stream",
     "text": [
      "best_th: 0.1, fbeta: 0.17542373661185084\n",
      "Epoch 3 - avg_train_loss: 0.3335  avg_val_loss: 0.1720  time: 59s\n",
      "Epoch 3 - avgScore: 0.1754\n",
      "Epoch 3 - Save Best Score: 0.1754 Model\n",
      "Epoch 3 - Save Best Loss: 0.1720 Model\n"
     ]
    },
    {
     "name": "stdout",
     "output_type": "stream",
     "text": [
      "th: 0.8, fbeta: 0.0\n",
      "saving model: memory GB:7.24\n"
     ]
    },
    {
     "name": "stderr",
     "output_type": "stream",
     "text": [
      "Train Steps Progress: 100%|\u001b[31m██████████\u001b[0m| 152/152 [00:28<00:00,  5.35it/s]\n",
      "Validation Steps Progress: 100%|\u001b[32m██████████\u001b[0m| 17/17 [00:02<00:00,  6.58it/s]\n"
     ]
    },
    {
     "name": "stdout",
     "output_type": "stream",
     "text": [
      "th: 0.1, fbeta: 0.17665336590075648\n",
      "th: 0.15, fbeta: 0.1765182690154372\n",
      "th: 0.2, fbeta: 0.14588055083100418\n",
      "th: 0.25, fbeta: 0.0684995762185692\n",
      "th: 0.3, fbeta: 0.017041238629820602\n",
      "th: 0.35, fbeta: 0.0033560726266454385\n",
      "th: 0.4, fbeta: 0.0005701942733977756\n",
      "th: 0.45, fbeta: 7.862071810694929e-05\n",
      "th: 0.5, fbeta: 1.1233445366511298e-05\n",
      "th: 0.55, fbeta: 3.744719312885098e-06\n",
      "th: 0.6, fbeta: 0.0\n",
      "th: 0.65, fbeta: 0.0\n",
      "th: 0.7, fbeta: 0.0\n",
      "th: 0.75, fbeta: 0.0\n"
     ]
    },
    {
     "name": "stderr",
     "output_type": "stream",
     "text": [
      "best_th: 0.1, fbeta: 0.17665336590075648\n",
      "Epoch 4 - avg_train_loss: 0.3302  avg_val_loss: 0.1702  time: 49s\n",
      "Epoch 4 - avgScore: 0.1767\n",
      "Epoch 4 - Save Best Score: 0.1767 Model\n",
      "Epoch 4 - Save Best Loss: 0.1702 Model\n"
     ]
    },
    {
     "name": "stdout",
     "output_type": "stream",
     "text": [
      "th: 0.8, fbeta: 0.0\n",
      "saving model: memory GB:7.24\n"
     ]
    },
    {
     "name": "stderr",
     "output_type": "stream",
     "text": [
      "Train Steps Progress: 100%|\u001b[31m██████████\u001b[0m| 152/152 [00:28<00:00,  5.43it/s]\n",
      "Validation Steps Progress: 100%|\u001b[32m██████████\u001b[0m| 17/17 [00:02<00:00,  6.82it/s]\n"
     ]
    },
    {
     "name": "stdout",
     "output_type": "stream",
     "text": [
      "th: 0.1, fbeta: 0.17490708916281983\n",
      "th: 0.15, fbeta: 0.18013236738514413\n",
      "th: 0.2, fbeta: 0.17541420381460762\n",
      "th: 0.25, fbeta: 0.12967991319938107\n",
      "th: 0.3, fbeta: 0.05396734104670165\n",
      "th: 0.35, fbeta: 0.013988149097507944\n",
      "th: 0.4, fbeta: 0.0030755699297294295\n",
      "th: 0.45, fbeta: 0.0006263002827074759\n",
      "th: 0.5, fbeta: 0.00010670467651887151\n",
      "th: 0.55, fbeta: 1.0296927479909964e-05\n",
      "th: 0.6, fbeta: 0.0\n",
      "th: 0.65, fbeta: 0.0\n",
      "th: 0.7, fbeta: 0.0\n",
      "th: 0.75, fbeta: 0.0\n"
     ]
    },
    {
     "name": "stderr",
     "output_type": "stream",
     "text": [
      "best_th: 0.15, fbeta: 0.18013236738514413\n",
      "Epoch 5 - avg_train_loss: 0.3285  avg_val_loss: 0.1712  time: 52s\n",
      "Epoch 5 - avgScore: 0.1801\n",
      "Epoch 5 - Save Best Score: 0.1801 Model\n",
      "Epoch 5 - Save Best Loss: 0.1712 Model\n"
     ]
    },
    {
     "name": "stdout",
     "output_type": "stream",
     "text": [
      "th: 0.8, fbeta: 0.0\n",
      "saving model: memory GB:7.24\n"
     ]
    },
    {
     "name": "stderr",
     "output_type": "stream",
     "text": [
      "Train Steps Progress: 100%|\u001b[31m██████████\u001b[0m| 152/152 [00:30<00:00,  4.98it/s]\n",
      "Validation Steps Progress: 100%|\u001b[32m██████████\u001b[0m| 17/17 [00:02<00:00,  6.79it/s]\n"
     ]
    },
    {
     "name": "stdout",
     "output_type": "stream",
     "text": [
      "th: 0.1, fbeta: 0.1737363736856836\n",
      "th: 0.15, fbeta: 0.1819032469705593\n",
      "th: 0.2, fbeta: 0.1888469874066151\n",
      "th: 0.25, fbeta: 0.16861184931215953\n",
      "th: 0.3, fbeta: 0.10148213592767406\n",
      "th: 0.35, fbeta: 0.03674970076390714\n",
      "th: 0.4, fbeta: 0.009687203391839599\n",
      "th: 0.45, fbeta: 0.0022365057798711344\n",
      "th: 0.5, fbeta: 0.0004760599926564615\n",
      "th: 0.55, fbeta: 7.488893713026189e-05\n",
      "th: 0.6, fbeta: 1.02976949192425e-05\n",
      "th: 0.65, fbeta: 0.0\n",
      "th: 0.7, fbeta: 0.0\n",
      "th: 0.75, fbeta: 0.0\n"
     ]
    },
    {
     "name": "stderr",
     "output_type": "stream",
     "text": [
      "best_th: 0.2, fbeta: 0.1888469874066151\n",
      "Epoch 6 - avg_train_loss: 0.3269  avg_val_loss: 0.1720  time: 55s\n",
      "Epoch 6 - avgScore: 0.1888\n",
      "Epoch 6 - Save Best Score: 0.1888 Model\n",
      "Epoch 6 - Save Best Loss: 0.1720 Model\n"
     ]
    },
    {
     "name": "stdout",
     "output_type": "stream",
     "text": [
      "th: 0.8, fbeta: 0.0\n",
      "saving model: memory GB:7.24\n"
     ]
    },
    {
     "name": "stderr",
     "output_type": "stream",
     "text": [
      "Train Steps Progress: 100%|\u001b[31m██████████\u001b[0m| 152/152 [00:30<00:00,  5.02it/s]\n",
      "Validation Steps Progress: 100%|\u001b[32m██████████\u001b[0m| 17/17 [00:02<00:00,  6.87it/s]\n"
     ]
    },
    {
     "name": "stdout",
     "output_type": "stream",
     "text": [
      "th: 0.1, fbeta: 0.17552801711810062\n",
      "th: 0.15, fbeta: 0.18539767022452308\n",
      "th: 0.2, fbeta: 0.1898009345064053\n",
      "th: 0.25, fbeta: 0.14475291631415402\n",
      "th: 0.3, fbeta: 0.0660052794539617\n",
      "th: 0.35, fbeta: 0.01907983394472247\n",
      "th: 0.4, fbeta: 0.004424244805836914\n",
      "th: 0.45, fbeta: 0.0009510658212967504\n",
      "th: 0.5, fbeta: 0.00017969679696543334\n",
      "th: 0.55, fbeta: 2.9023174441856474e-05\n",
      "th: 0.6, fbeta: 2.8082171024944975e-06\n",
      "th: 0.65, fbeta: 0.0\n",
      "th: 0.7, fbeta: 0.0\n",
      "th: 0.75, fbeta: 0.0\n"
     ]
    },
    {
     "name": "stderr",
     "output_type": "stream",
     "text": [
      "best_th: 0.2, fbeta: 0.1898009345064053\n",
      "Epoch 7 - avg_train_loss: 0.3280  avg_val_loss: 0.1688  time: 60s\n",
      "Epoch 7 - avgScore: 0.1898\n",
      "Epoch 7 - Save Best Score: 0.1898 Model\n",
      "Epoch 7 - Save Best Loss: 0.1688 Model\n"
     ]
    },
    {
     "name": "stdout",
     "output_type": "stream",
     "text": [
      "th: 0.8, fbeta: 0.0\n",
      "saving model: memory GB:7.24\n"
     ]
    },
    {
     "name": "stderr",
     "output_type": "stream",
     "text": [
      "Train Steps Progress: 100%|\u001b[31m██████████\u001b[0m| 152/152 [00:28<00:00,  5.29it/s]\n",
      "Validation Steps Progress: 100%|\u001b[32m██████████\u001b[0m| 17/17 [00:04<00:00,  4.22it/s]\n"
     ]
    },
    {
     "name": "stdout",
     "output_type": "stream",
     "text": [
      "th: 0.1, fbeta: 0.17814356734337813\n",
      "th: 0.15, fbeta: 0.18565397567459038\n",
      "th: 0.2, fbeta: 0.16009892407306617\n",
      "th: 0.25, fbeta: 0.07292356416017691\n",
      "th: 0.3, fbeta: 0.01751187121493112\n",
      "th: 0.35, fbeta: 0.0030800194845202783\n",
      "th: 0.4, fbeta: 0.0004956453107854021\n",
      "th: 0.45, fbeta: 6.459377487931856e-05\n",
      "th: 0.5, fbeta: 9.361569289574136e-06\n",
      "th: 0.55, fbeta: 0.0\n",
      "th: 0.6, fbeta: 0.0\n",
      "th: 0.65, fbeta: 0.0\n",
      "th: 0.7, fbeta: 0.0\n",
      "th: 0.75, fbeta: 0.0\n"
     ]
    },
    {
     "name": "stderr",
     "output_type": "stream",
     "text": [
      "best_th: 0.15, fbeta: 0.18565397567459038\n",
      "Epoch 8 - avg_train_loss: 0.3222  avg_val_loss: 0.1671  time: 48s\n",
      "Epoch 8 - avgScore: 0.1857\n",
      "Epoch Progress:  53%|\u001b[37m█████▎    \u001b[0m| 8/15 [07:06<06:13, 53.29s/it]"
     ]
    },
    {
     "name": "stdout",
     "output_type": "stream",
     "text": [
      "th: 0.8, fbeta: 0.0\n"
     ]
    },
    {
     "name": "stderr",
     "output_type": "stream",
     "text": [
      "Train Steps Progress: 100%|\u001b[31m██████████\u001b[0m| 152/152 [00:28<00:00,  5.39it/s]\n",
      "Validation Steps Progress: 100%|\u001b[32m██████████\u001b[0m| 17/17 [00:02<00:00,  6.73it/s]\n"
     ]
    },
    {
     "name": "stdout",
     "output_type": "stream",
     "text": [
      "th: 0.1, fbeta: 0.1736206685633999\n",
      "th: 0.15, fbeta: 0.1839713068827508\n",
      "th: 0.2, fbeta: 0.1922931344531022\n",
      "th: 0.25, fbeta: 0.1585101740263391\n",
      "th: 0.3, fbeta: 0.07757264388988659\n",
      "th: 0.35, fbeta: 0.022172942695621197\n",
      "th: 0.4, fbeta: 0.004599466700277211\n",
      "th: 0.45, fbeta: 0.0009054043543356864\n",
      "th: 0.5, fbeta: 0.00017129021729614055\n",
      "th: 0.55, fbeta: 2.2469926915379945e-05\n",
      "th: 0.6, fbeta: 1.872222540006324e-06\n",
      "th: 0.65, fbeta: 0.0\n",
      "th: 0.7, fbeta: 0.0\n",
      "th: 0.75, fbeta: 0.0\n"
     ]
    },
    {
     "name": "stderr",
     "output_type": "stream",
     "text": [
      "best_th: 0.2, fbeta: 0.1922931344531022\n"
     ]
    },
    {
     "name": "stdout",
     "output_type": "stream",
     "text": [
      "th: 0.8, fbeta: 0.0\n"
     ]
    },
    {
     "name": "stderr",
     "output_type": "stream",
     "text": [
      "Epoch 9 - avg_train_loss: 0.3271  avg_val_loss: 0.1706  time: 50s\n",
      "Epoch 9 - avgScore: 0.1923\n",
      "Epoch 9 - Save Best Score: 0.1923 Model\n",
      "Epoch 9 - Save Best Loss: 0.1706 Model\n",
      "Epoch Progress:  60%|\u001b[37m██████    \u001b[0m| 9/15 [07:56<05:14, 52.38s/it]"
     ]
    },
    {
     "name": "stdout",
     "output_type": "stream",
     "text": [
      "saving model: memory GB:7.24\n"
     ]
    },
    {
     "name": "stderr",
     "output_type": "stream",
     "text": [
      "Train Steps Progress: 100%|\u001b[31m██████████\u001b[0m| 152/152 [00:28<00:00,  5.26it/s]\n",
      "Validation Steps Progress: 100%|\u001b[32m██████████\u001b[0m| 17/17 [00:02<00:00,  6.68it/s]\n"
     ]
    },
    {
     "name": "stdout",
     "output_type": "stream",
     "text": [
      "th: 0.1, fbeta: 0.1760497226041645\n",
      "th: 0.15, fbeta: 0.18528095788034118\n",
      "th: 0.2, fbeta: 0.17721131239602447\n",
      "th: 0.25, fbeta: 0.09973745495223864\n",
      "th: 0.3, fbeta: 0.02743536022541294\n",
      "th: 0.35, fbeta: 0.004927767286871849\n",
      "th: 0.4, fbeta: 0.0007822560684901177\n",
      "th: 0.45, fbeta: 0.00011420010481269404\n",
      "th: 0.5, fbeta: 1.591698681328389e-05\n",
      "th: 0.55, fbeta: 9.361362954997661e-07\n",
      "th: 0.6, fbeta: 0.0\n",
      "th: 0.65, fbeta: 0.0\n",
      "th: 0.7, fbeta: 0.0\n",
      "th: 0.75, fbeta: 0.0\n"
     ]
    },
    {
     "name": "stderr",
     "output_type": "stream",
     "text": [
      "best_th: 0.15, fbeta: 0.18528095788034118\n"
     ]
    },
    {
     "name": "stdout",
     "output_type": "stream",
     "text": [
      "th: 0.8, fbeta: 0.0\n"
     ]
    },
    {
     "name": "stderr",
     "output_type": "stream",
     "text": [
      "Epoch 10 - avg_train_loss: 0.3237  avg_val_loss: 0.1676  time: 52s\n",
      "Epoch 10 - avgScore: 0.1853\n",
      "Train Steps Progress: 100%|\u001b[31m██████████\u001b[0m| 152/152 [00:30<00:00,  4.97it/s]\n",
      "Validation Steps Progress: 100%|\u001b[32m██████████\u001b[0m| 17/17 [00:02<00:00,  6.40it/s]\n"
     ]
    },
    {
     "name": "stdout",
     "output_type": "stream",
     "text": [
      "th: 0.1, fbeta: 0.1738736975447009\n",
      "th: 0.15, fbeta: 0.18283617914334546\n",
      "th: 0.2, fbeta: 0.19343432914040562\n",
      "th: 0.25, fbeta: 0.164969828428003\n",
      "th: 0.3, fbeta: 0.08281933810746572\n",
      "th: 0.35, fbeta: 0.023486346214022367\n",
      "th: 0.4, fbeta: 0.004634752865965581\n",
      "th: 0.45, fbeta: 0.0008457089066932798\n",
      "th: 0.5, fbeta: 0.00014789489947756275\n",
      "th: 0.55, fbeta: 2.247106668560515e-05\n",
      "th: 0.6, fbeta: 0.0\n",
      "th: 0.65, fbeta: 0.0\n",
      "th: 0.7, fbeta: 0.0\n",
      "th: 0.75, fbeta: 0.0\n"
     ]
    },
    {
     "name": "stderr",
     "output_type": "stream",
     "text": [
      "best_th: 0.2, fbeta: 0.19343432914040562\n",
      "Epoch 11 - avg_train_loss: 0.3260  avg_val_loss: 0.1699  time: 53s\n",
      "Epoch 11 - avgScore: 0.1934\n",
      "Epoch 11 - Save Best Score: 0.1934 Model\n",
      "Epoch 11 - Save Best Loss: 0.1699 Model\n"
     ]
    },
    {
     "name": "stdout",
     "output_type": "stream",
     "text": [
      "th: 0.8, fbeta: 0.0\n",
      "saving model: memory GB:7.24\n"
     ]
    },
    {
     "name": "stderr",
     "output_type": "stream",
     "text": [
      "Train Steps Progress: 100%|\u001b[31m██████████\u001b[0m| 152/152 [00:28<00:00,  5.36it/s]\n",
      "Validation Steps Progress: 100%|\u001b[32m██████████\u001b[0m| 17/17 [00:03<00:00,  5.28it/s]\n"
     ]
    },
    {
     "name": "stdout",
     "output_type": "stream",
     "text": [
      "th: 0.1, fbeta: 0.17431809545256002\n",
      "th: 0.15, fbeta: 0.1840022480985199\n",
      "th: 0.2, fbeta: 0.19369733402150316\n",
      "th: 0.25, fbeta: 0.15500310122502564\n",
      "th: 0.3, fbeta: 0.06912116314167738\n",
      "th: 0.35, fbeta: 0.018205205566167903\n",
      "th: 0.4, fbeta: 0.003436676160862812\n",
      "th: 0.45, fbeta: 0.0005825969994184848\n",
      "th: 0.5, fbeta: 8.518842725412371e-05\n",
      "th: 0.55, fbeta: 8.426572774001148e-06\n",
      "th: 0.6, fbeta: 0.0\n",
      "th: 0.65, fbeta: 0.0\n",
      "th: 0.7, fbeta: 0.0\n",
      "th: 0.75, fbeta: 0.0\n"
     ]
    },
    {
     "name": "stderr",
     "output_type": "stream",
     "text": [
      "best_th: 0.2, fbeta: 0.19369733402150316\n",
      "Epoch 12 - avg_train_loss: 0.3233  avg_val_loss: 0.1688  time: 50s\n",
      "Epoch 12 - avgScore: 0.1937\n",
      "Epoch 12 - Save Best Score: 0.1937 Model\n",
      "Epoch 12 - Save Best Loss: 0.1688 Model\n"
     ]
    },
    {
     "name": "stdout",
     "output_type": "stream",
     "text": [
      "th: 0.8, fbeta: 0.0\n",
      "saving model: memory GB:7.24\n"
     ]
    },
    {
     "name": "stderr",
     "output_type": "stream",
     "text": [
      "Train Steps Progress: 100%|\u001b[31m██████████\u001b[0m| 152/152 [00:28<00:00,  5.40it/s]\n",
      "Validation Steps Progress: 100%|\u001b[32m██████████\u001b[0m| 17/17 [00:02<00:00,  6.50it/s]\n"
     ]
    },
    {
     "name": "stdout",
     "output_type": "stream",
     "text": [
      "th: 0.1, fbeta: 0.17863142087808342\n",
      "th: 0.15, fbeta: 0.19322174299049702\n",
      "th: 0.2, fbeta: 0.1655979701816431\n",
      "th: 0.25, fbeta: 0.07058084905760832\n",
      "th: 0.3, fbeta: 0.015578035496480016\n",
      "th: 0.35, fbeta: 0.0022740002455161235\n",
      "th: 0.4, fbeta: 0.00034619813613589215\n",
      "th: 0.45, fbeta: 3.9322512706453235e-05\n",
      "th: 0.5, fbeta: 1.8721448765593803e-06\n",
      "th: 0.55, fbeta: 0.0\n",
      "th: 0.6, fbeta: 0.0\n",
      "th: 0.65, fbeta: 0.0\n",
      "th: 0.7, fbeta: 0.0\n",
      "th: 0.75, fbeta: 0.0\n"
     ]
    },
    {
     "name": "stderr",
     "output_type": "stream",
     "text": [
      "best_th: 0.15, fbeta: 0.19322174299049702\n",
      "Epoch 13 - avg_train_loss: 0.3200  avg_val_loss: 0.1662  time: 55s\n",
      "Epoch 13 - avgScore: 0.1932\n",
      "Epoch Progress:  87%|\u001b[37m████████▋ \u001b[0m| 13/15 [11:25<01:44, 52.48s/it]"
     ]
    },
    {
     "name": "stdout",
     "output_type": "stream",
     "text": [
      "th: 0.8, fbeta: 0.0\n"
     ]
    },
    {
     "name": "stderr",
     "output_type": "stream",
     "text": [
      "Train Steps Progress: 100%|\u001b[31m██████████\u001b[0m| 152/152 [00:28<00:00,  5.35it/s]\n",
      "Validation Steps Progress: 100%|\u001b[32m██████████\u001b[0m| 17/17 [00:02<00:00,  6.22it/s]\n"
     ]
    },
    {
     "name": "stdout",
     "output_type": "stream",
     "text": [
      "th: 0.1, fbeta: 0.17545615722608618\n",
      "th: 0.15, fbeta: 0.18915087136660935\n",
      "th: 0.2, fbeta: 0.1942083801047337\n",
      "th: 0.25, fbeta: 0.12482456672111439\n",
      "th: 0.3, fbeta: 0.03994473223955539\n",
      "th: 0.35, fbeta: 0.007448226702801959\n",
      "th: 0.4, fbeta: 0.001144130846459827\n",
      "th: 0.45, fbeta: 0.00016660918550942593\n",
      "th: 0.5, fbeta: 1.591669060968903e-05\n",
      "th: 0.55, fbeta: 0.0\n",
      "th: 0.6, fbeta: 0.0\n",
      "th: 0.65, fbeta: 0.0\n",
      "th: 0.7, fbeta: 0.0\n",
      "th: 0.75, fbeta: 0.0\n"
     ]
    },
    {
     "name": "stderr",
     "output_type": "stream",
     "text": [
      "best_th: 0.2, fbeta: 0.1942083801047337\n",
      "Epoch 14 - avg_train_loss: 0.3225  avg_val_loss: 0.1670  time: 45s\n",
      "Epoch 14 - avgScore: 0.1942\n",
      "Epoch 14 - Save Best Score: 0.1942 Model\n",
      "Epoch 14 - Save Best Loss: 0.1670 Model\n"
     ]
    },
    {
     "name": "stdout",
     "output_type": "stream",
     "text": [
      "th: 0.8, fbeta: 0.0\n",
      "saving model: memory GB:7.24\n"
     ]
    },
    {
     "name": "stderr",
     "output_type": "stream",
     "text": [
      "Train Steps Progress: 100%|\u001b[31m██████████\u001b[0m| 152/152 [00:30<00:00,  4.96it/s]\n",
      "Validation Steps Progress: 100%|\u001b[32m██████████\u001b[0m| 17/17 [00:02<00:00,  6.67it/s]\n"
     ]
    },
    {
     "name": "stdout",
     "output_type": "stream",
     "text": [
      "th: 0.1, fbeta: 0.17185389644185642\n",
      "th: 0.15, fbeta: 0.18069500482306475\n",
      "th: 0.2, fbeta: 0.19685799605271384\n",
      "th: 0.25, fbeta: 0.19535433622795528\n",
      "th: 0.3, fbeta: 0.12955741830718262\n",
      "th: 0.35, fbeta: 0.050932527093120225\n",
      "th: 0.4, fbeta: 0.0130574288133564\n",
      "th: 0.45, fbeta: 0.002476696097401453\n",
      "th: 0.5, fbeta: 0.00042661173601624727\n",
      "th: 0.55, fbeta: 7.021852144932442e-05\n",
      "th: 0.6, fbeta: 5.617940571615316e-06\n",
      "th: 0.65, fbeta: 0.0\n",
      "th: 0.7, fbeta: 0.0\n",
      "th: 0.75, fbeta: 0.0\n"
     ]
    },
    {
     "name": "stderr",
     "output_type": "stream",
     "text": [
      "best_th: 0.2, fbeta: 0.19685799605271384\n",
      "Epoch 15 - avg_train_loss: 0.3267  avg_val_loss: 0.1719  time: 47s\n",
      "Epoch 15 - avgScore: 0.1969\n",
      "Epoch 15 - Save Best Score: 0.1969 Model\n",
      "Epoch 15 - Save Best Loss: 0.1719 Model\n"
     ]
    },
    {
     "name": "stdout",
     "output_type": "stream",
     "text": [
      "th: 0.8, fbeta: 0.0\n",
      "saving model: memory GB:7.24\n"
     ]
    },
    {
     "name": "stderr",
     "output_type": "stream",
     "text": [
      "Epoch Progress: 100%|\u001b[37m██████████\u001b[0m| 15/15 [12:57<00:00, 51.85s/it]\n",
      "\u001b[34m\u001b[1mwandb\u001b[0m: Waiting for W&B process to finish... \u001b[32m(success).\u001b[0m\n",
      "\u001b[34m\u001b[1mwandb\u001b[0m: \n",
      "\u001b[34m\u001b[1mwandb\u001b[0m: Run history:\n",
      "\u001b[34m\u001b[1mwandb\u001b[0m:     Best_Score ▁▃▄▄▅▆▇▇▇▇▇█\n",
      "\u001b[34m\u001b[1mwandb\u001b[0m:      Best_loss █▂▂▁▁▁▁▁▁▁▁▁\n",
      "\u001b[34m\u001b[1mwandb\u001b[0m:        Best_th ▁▁▁▁▅██▅█▅██▅██\n",
      "\u001b[34m\u001b[1mwandb\u001b[0m: Best_threshold ▁▁▁▁▅███████\n",
      "\u001b[34m\u001b[1mwandb\u001b[0m:          Epoch ▁▁▂▃▃▃▄▅▅▅▆▇▇▇█\n",
      "\u001b[34m\u001b[1mwandb\u001b[0m:     Epoch_best ▁▁▂▃▃▃▄▅▆▇▇█\n",
      "\u001b[34m\u001b[1mwandb\u001b[0m:          Score ▁▃▄▄▅▆▇▆▇▆▇▇▇▇█\n",
      "\u001b[34m\u001b[1mwandb\u001b[0m:     Train_loss █▂▂▂▂▁▁▁▁▁▁▁▁▁▁\n",
      "\u001b[34m\u001b[1mwandb\u001b[0m:        Val_los █▅▄▃▄▄▂▂▃▂▃▂▁▁▄\n",
      "\u001b[34m\u001b[1mwandb\u001b[0m: \n",
      "\u001b[34m\u001b[1mwandb\u001b[0m: Run summary:\n",
      "\u001b[34m\u001b[1mwandb\u001b[0m:     Best_Score 0.19686\n",
      "\u001b[34m\u001b[1mwandb\u001b[0m:      Best_loss 0.32675\n",
      "\u001b[34m\u001b[1mwandb\u001b[0m:        Best_th 0.2\n",
      "\u001b[34m\u001b[1mwandb\u001b[0m: Best_threshold 0.2\n",
      "\u001b[34m\u001b[1mwandb\u001b[0m:          Epoch 15\n",
      "\u001b[34m\u001b[1mwandb\u001b[0m:     Epoch_best 15\n",
      "\u001b[34m\u001b[1mwandb\u001b[0m:          Score 0.19686\n",
      "\u001b[34m\u001b[1mwandb\u001b[0m:     Train_loss 0.32675\n",
      "\u001b[34m\u001b[1mwandb\u001b[0m:        Val_los 0.1719\n",
      "\u001b[34m\u001b[1mwandb\u001b[0m: \n",
      "\u001b[34m\u001b[1mwandb\u001b[0m: 🚀 View run \u001b[33mPSPNet timm-mobilenetv3_large_100 Fold1 freezeTrue 11334\u001b[0m at: \u001b[34m\u001b[4mhttps://wandb.ai/i-am-noob/Vesuvius%20Experiments%20PSPNet/runs/92f7g0ts\u001b[0m\n",
      "\u001b[34m\u001b[1mwandb\u001b[0m: Synced 6 W&B file(s), 0 media file(s), 0 artifact file(s) and 0 other file(s)\n",
      "\u001b[34m\u001b[1mwandb\u001b[0m: Find logs at: \u001b[35m\u001b[1m./wandb/run-20230602_215242-92f7g0ts/logs\u001b[0m\n"
     ]
    },
    {
     "name": "stdout",
     "output_type": "stream",
     "text": [
      "deleted items: memory GB:7.24\n",
      "pre inializing: memory GB:4.14\n"
     ]
    },
    {
     "name": "stderr",
     "output_type": "stream",
     "text": [
      "Image Slice Progress: 100%|\u001b[34m██████████\u001b[0m| 6/6 [00:00<00:00, 10.59it/s]\n",
      "Image Slice Progress: 100%|\u001b[34m██████████\u001b[0m| 6/6 [00:00<00:00,  6.03it/s]\n",
      "Image Slice Progress: 100%|\u001b[34m██████████\u001b[0m| 6/6 [00:00<00:00, 20.08it/s]\n"
     ]
    },
    {
     "name": "stdout",
     "output_type": "stream",
     "text": [
      "post inializing: memory GB:6.96\n",
      "Current fold --> 1\n"
     ]
    },
    {
     "name": "stderr",
     "output_type": "stream",
     "text": [
      "\u001b[34m\u001b[1mwandb\u001b[0m: Tracking run with wandb version 0.15.3\n",
      "\u001b[34m\u001b[1mwandb\u001b[0m: Run data is saved locally in \u001b[35m\u001b[1m/kaggle/working/wandb/run-20230602_220703-6eefcii1\u001b[0m\n",
      "\u001b[34m\u001b[1mwandb\u001b[0m: Run \u001b[1m`wandb offline`\u001b[0m to turn off syncing.\n",
      "\u001b[34m\u001b[1mwandb\u001b[0m: Syncing run \u001b[33mPSPNet timm-mobilenetv3_large_minimal_100 Fold1 freezeTrue 50578\u001b[0m\n",
      "\u001b[34m\u001b[1mwandb\u001b[0m: ⭐️ View project at \u001b[34m\u001b[4mhttps://wandb.ai/i-am-noob/Vesuvius%20Experiments%20PSPNet\u001b[0m\n",
      "\u001b[34m\u001b[1mwandb\u001b[0m: 🚀 View run at \u001b[34m\u001b[4mhttps://wandb.ai/i-am-noob/Vesuvius%20Experiments%20PSPNet/runs/6eefcii1\u001b[0m\n"
     ]
    },
    {
     "name": "stdout",
     "output_type": "stream",
     "text": [
      "model_name PSPNet\n",
      "backbone timm-mobilenetv3_large_minimal_100\n"
     ]
    },
    {
     "name": "stderr",
     "output_type": "stream",
     "text": [
      "Downloading: \"https://github.com/rwightman/pytorch-image-models/releases/download/v0.1-weights/tf_mobilenetv3_large_minimal_100-8596ae28.pth\" to /root/.cache/torch/hub/checkpoints/tf_mobilenetv3_large_minimal_100-8596ae28.pth\n"
     ]
    },
    {
     "data": {
      "application/vnd.jupyter.widget-view+json": {
       "model_id": "3fbca19292bc433880da1b602b01d13a",
       "version_major": 2,
       "version_minor": 0
      },
      "text/plain": [
       "  0%|          | 0.00/15.1M [00:00<?, ?B/s]"
      ]
     },
     "metadata": {},
     "output_type": "display_data"
    },
    {
     "name": "stderr",
     "output_type": "stream",
     "text": [
      "Validation Steps Progress: 100%|\u001b[32m██████████\u001b[0m| 17/17 [00:04<00:00,  4.08it/s]\n"
     ]
    },
    {
     "name": "stdout",
     "output_type": "stream",
     "text": [
      "th: 0.1, fbeta: 0.07159157168739244\n",
      "th: 0.15, fbeta: 0.07159157168739244\n",
      "th: 0.2, fbeta: 0.07159157168739244\n",
      "th: 0.25, fbeta: 0.07159157421002915\n",
      "th: 0.3, fbeta: 0.07159238329109979\n",
      "th: 0.35, fbeta: 0.07159157795383116\n",
      "th: 0.4, fbeta: 0.0715920034523564\n",
      "th: 0.45, fbeta: 0.0715874869138955\n",
      "th: 0.5, fbeta: 0.07162593042879563\n",
      "th: 0.55, fbeta: 0.07162678094712539\n",
      "th: 0.6, fbeta: 0.07162683379730785\n",
      "th: 0.65, fbeta: 0.07164836436356023\n",
      "th: 0.7, fbeta: 0.07166346756119568\n",
      "th: 0.75, fbeta: 0.07166338864941764\n"
     ]
    },
    {
     "name": "stderr",
     "output_type": "stream",
     "text": [
      "best_th: 0.7, fbeta: 0.07166346756119568\n"
     ]
    },
    {
     "name": "stdout",
     "output_type": "stream",
     "text": [
      "th: 0.8, fbeta: 0.0716555125483916\n",
      "Val_loss before training -->7.22568907145003, score --> 0.07166346756119568\n"
     ]
    },
    {
     "name": "stderr",
     "output_type": "stream",
     "text": [
      "Train Steps Progress: 100%|\u001b[31m██████████\u001b[0m| 152/152 [00:31<00:00,  4.86it/s]\n",
      "Validation Steps Progress: 100%|\u001b[32m██████████\u001b[0m| 17/17 [00:02<00:00,  6.44it/s]\n"
     ]
    },
    {
     "name": "stdout",
     "output_type": "stream",
     "text": [
      "th: 0.1, fbeta: 0.1701075454621423\n",
      "th: 0.15, fbeta: 0.15662587045871348\n",
      "th: 0.2, fbeta: 0.12734733104189522\n",
      "th: 0.25, fbeta: 0.08004402348211792\n",
      "th: 0.3, fbeta: 0.03687061506340908\n",
      "th: 0.35, fbeta: 0.014102717789040238\n",
      "th: 0.4, fbeta: 0.004726339459023968\n",
      "th: 0.45, fbeta: 0.0015001021562799002\n",
      "th: 0.5, fbeta: 0.0004962035049216122\n",
      "th: 0.55, fbeta: 0.00012445381291219604\n",
      "th: 0.6, fbeta: 2.527253218386358e-05\n",
      "th: 0.65, fbeta: 0.0\n",
      "th: 0.7, fbeta: 0.0\n",
      "th: 0.75, fbeta: 0.0\n"
     ]
    },
    {
     "name": "stderr",
     "output_type": "stream",
     "text": [
      "best_th: 0.1, fbeta: 0.1701075454621423\n"
     ]
    },
    {
     "name": "stdout",
     "output_type": "stream",
     "text": [
      "th: 0.8, fbeta: 0.0\n"
     ]
    },
    {
     "name": "stderr",
     "output_type": "stream",
     "text": [
      "Epoch 1 - avg_train_loss: 0.4155  avg_val_loss: 0.1774  time: 47s\n",
      "Epoch 1 - avgScore: 0.1701\n",
      "Epoch 1 - Save Best Score: 0.1701 Model\n",
      "Epoch 1 - Save Best Loss: 0.1774 Model\n",
      "Epoch Progress:   7%|\u001b[37m▋         \u001b[0m| 1/15 [00:47<11:03, 47.36s/it]"
     ]
    },
    {
     "name": "stdout",
     "output_type": "stream",
     "text": [
      "saving model: memory GB:7.37\n"
     ]
    },
    {
     "name": "stderr",
     "output_type": "stream",
     "text": [
      "Train Steps Progress: 100%|\u001b[31m██████████\u001b[0m| 152/152 [00:29<00:00,  5.08it/s]\n",
      "Validation Steps Progress: 100%|\u001b[32m██████████\u001b[0m| 17/17 [00:02<00:00,  6.67it/s]\n"
     ]
    },
    {
     "name": "stdout",
     "output_type": "stream",
     "text": [
      "th: 0.1, fbeta: 0.17367303484997393\n",
      "th: 0.15, fbeta: 0.16613815075064325\n",
      "th: 0.2, fbeta: 0.13902254492131094\n",
      "th: 0.25, fbeta: 0.08448453269690448\n",
      "th: 0.3, fbeta: 0.035282609397613414\n",
      "th: 0.35, fbeta: 0.011573994823796693\n",
      "th: 0.4, fbeta: 0.003324415101094987\n",
      "th: 0.45, fbeta: 0.0009156308248689951\n",
      "th: 0.5, fbeta: 0.00022358717150803743\n",
      "th: 0.55, fbeta: 5.335866076983539e-05\n",
      "th: 0.6, fbeta: 9.362324932857718e-06\n",
      "th: 0.65, fbeta: 0.0\n",
      "th: 0.7, fbeta: 0.0\n",
      "th: 0.75, fbeta: 0.0\n"
     ]
    },
    {
     "name": "stderr",
     "output_type": "stream",
     "text": [
      "best_th: 0.1, fbeta: 0.17367303484997393\n",
      "Epoch 2 - avg_train_loss: 0.3389  avg_val_loss: 0.1744  time: 46s\n",
      "Epoch 2 - avgScore: 0.1737\n",
      "Epoch 2 - Save Best Score: 0.1737 Model\n",
      "Epoch 2 - Save Best Loss: 0.1744 Model\n"
     ]
    },
    {
     "name": "stdout",
     "output_type": "stream",
     "text": [
      "th: 0.8, fbeta: 0.0\n",
      "saving model: memory GB:7.37\n"
     ]
    },
    {
     "name": "stderr",
     "output_type": "stream",
     "text": [
      "Train Steps Progress: 100%|\u001b[31m██████████\u001b[0m| 152/152 [00:29<00:00,  5.16it/s]\n",
      "Validation Steps Progress: 100%|\u001b[32m██████████\u001b[0m| 17/17 [00:03<00:00,  5.39it/s]\n"
     ]
    },
    {
     "name": "stdout",
     "output_type": "stream",
     "text": [
      "th: 0.1, fbeta: 0.17453508481302996\n",
      "th: 0.15, fbeta: 0.16445600437749588\n",
      "th: 0.2, fbeta: 0.1278745105570266\n",
      "th: 0.25, fbeta: 0.06309492646684074\n",
      "th: 0.3, fbeta: 0.021163590874326354\n",
      "th: 0.35, fbeta: 0.005620282870020135\n",
      "th: 0.4, fbeta: 0.0013466905867035343\n",
      "th: 0.45, fbeta: 0.0003039704367831187\n",
      "th: 0.5, fbeta: 7.20764585113756e-05\n",
      "th: 0.55, fbeta: 1.9662296491167056e-05\n",
      "th: 0.6, fbeta: 2.8090475009045427e-06\n",
      "th: 0.65, fbeta: 0.0\n",
      "th: 0.7, fbeta: 0.0\n",
      "th: 0.75, fbeta: 0.0\n"
     ]
    },
    {
     "name": "stderr",
     "output_type": "stream",
     "text": [
      "best_th: 0.1, fbeta: 0.17453508481302996\n",
      "Epoch 3 - avg_train_loss: 0.3324  avg_val_loss: 0.1724  time: 46s\n",
      "Epoch 3 - avgScore: 0.1745\n",
      "Epoch 3 - Save Best Score: 0.1745 Model\n",
      "Epoch 3 - Save Best Loss: 0.1724 Model\n"
     ]
    },
    {
     "name": "stdout",
     "output_type": "stream",
     "text": [
      "th: 0.8, fbeta: 0.0\n",
      "saving model: memory GB:7.37\n"
     ]
    },
    {
     "name": "stderr",
     "output_type": "stream",
     "text": [
      "Train Steps Progress: 100%|\u001b[31m██████████\u001b[0m| 152/152 [00:27<00:00,  5.60it/s]\n",
      "Validation Steps Progress: 100%|\u001b[32m██████████\u001b[0m| 17/17 [00:03<00:00,  5.07it/s]\n"
     ]
    },
    {
     "name": "stdout",
     "output_type": "stream",
     "text": [
      "th: 0.1, fbeta: 0.17578911219357607\n",
      "th: 0.15, fbeta: 0.1711555158709462\n",
      "th: 0.2, fbeta: 0.1465952462104636\n",
      "th: 0.25, fbeta: 0.08785213728772627\n",
      "th: 0.3, fbeta: 0.032927421692631555\n",
      "th: 0.35, fbeta: 0.009463383712769053\n",
      "th: 0.4, fbeta: 0.0022869918158062484\n",
      "th: 0.45, fbeta: 0.0004739877156265074\n",
      "th: 0.5, fbeta: 0.000101089957030577\n",
      "th: 0.55, fbeta: 1.872548324950415e-05\n",
      "th: 0.6, fbeta: 4.681756773969883e-06\n",
      "th: 0.65, fbeta: 0.0\n",
      "th: 0.7, fbeta: 0.0\n",
      "th: 0.75, fbeta: 0.0\n"
     ]
    },
    {
     "name": "stderr",
     "output_type": "stream",
     "text": [
      "best_th: 0.1, fbeta: 0.17578911219357607\n",
      "Epoch 4 - avg_train_loss: 0.3297  avg_val_loss: 0.1706  time: 44s\n",
      "Epoch 4 - avgScore: 0.1758\n",
      "Epoch 4 - Save Best Score: 0.1758 Model\n",
      "Epoch 4 - Save Best Loss: 0.1706 Model\n"
     ]
    },
    {
     "name": "stdout",
     "output_type": "stream",
     "text": [
      "th: 0.8, fbeta: 0.0\n",
      "saving model: memory GB:7.37\n"
     ]
    },
    {
     "name": "stderr",
     "output_type": "stream",
     "text": [
      "Train Steps Progress: 100%|\u001b[31m██████████\u001b[0m| 152/152 [00:30<00:00,  4.92it/s]\n",
      "Validation Steps Progress: 100%|\u001b[32m██████████\u001b[0m| 17/17 [00:02<00:00,  6.71it/s]\n"
     ]
    },
    {
     "name": "stdout",
     "output_type": "stream",
     "text": [
      "th: 0.1, fbeta: 0.1745596383621246\n",
      "th: 0.15, fbeta: 0.17176458175574263\n",
      "th: 0.2, fbeta: 0.15035004710419173\n",
      "th: 0.25, fbeta: 0.08899323307975536\n",
      "th: 0.3, fbeta: 0.030289279763042284\n",
      "th: 0.35, fbeta: 0.007729162019829048\n",
      "th: 0.4, fbeta: 0.0018722439105480027\n",
      "th: 0.45, fbeta: 0.0004049761351803886\n",
      "th: 0.5, fbeta: 8.050659454095152e-05\n",
      "th: 0.55, fbeta: 1.87257406031626e-05\n",
      "th: 0.6, fbeta: 2.8090079469871533e-06\n",
      "th: 0.65, fbeta: 0.0\n",
      "th: 0.7, fbeta: 0.0\n",
      "th: 0.75, fbeta: 0.0\n"
     ]
    },
    {
     "name": "stderr",
     "output_type": "stream",
     "text": [
      "best_th: 0.1, fbeta: 0.1745596383621246\n",
      "Epoch 5 - avg_train_loss: 0.3295  avg_val_loss: 0.1713  time: 47s\n",
      "Epoch 5 - avgScore: 0.1746\n",
      "Epoch Progress:  33%|\u001b[37m███▎      \u001b[0m| 5/15 [03:49<07:37, 45.80s/it]"
     ]
    },
    {
     "name": "stdout",
     "output_type": "stream",
     "text": [
      "th: 0.8, fbeta: 0.0\n"
     ]
    },
    {
     "name": "stderr",
     "output_type": "stream",
     "text": [
      "Train Steps Progress: 100%|\u001b[31m██████████\u001b[0m| 152/152 [00:29<00:00,  5.11it/s]\n",
      "Validation Steps Progress: 100%|\u001b[32m██████████\u001b[0m| 17/17 [00:03<00:00,  4.84it/s]\n"
     ]
    },
    {
     "name": "stdout",
     "output_type": "stream",
     "text": [
      "th: 0.1, fbeta: 0.177758325374376\n",
      "th: 0.15, fbeta: 0.17891496557129036\n",
      "th: 0.2, fbeta: 0.15407130866590596\n",
      "th: 0.25, fbeta: 0.08212896787421894\n",
      "th: 0.3, fbeta: 0.026147856288865106\n",
      "th: 0.35, fbeta: 0.006529391122472239\n",
      "th: 0.4, fbeta: 0.0015988789108880702\n",
      "th: 0.45, fbeta: 0.00035742734934107295\n",
      "th: 0.5, fbeta: 7.864344863579847e-05\n",
      "th: 0.55, fbeta: 1.1235783931302206e-05\n",
      "th: 0.6, fbeta: 1.8726498041689017e-06\n",
      "th: 0.65, fbeta: 0.0\n",
      "th: 0.7, fbeta: 0.0\n",
      "th: 0.75, fbeta: 0.0\n"
     ]
    },
    {
     "name": "stderr",
     "output_type": "stream",
     "text": [
      "best_th: 0.15, fbeta: 0.17891496557129036\n",
      "Epoch 6 - avg_train_loss: 0.3293  avg_val_loss: 0.1682  time: 47s\n",
      "Epoch 6 - avgScore: 0.1789\n",
      "Epoch 6 - Save Best Score: 0.1789 Model\n",
      "Epoch 6 - Save Best Loss: 0.1682 Model\n"
     ]
    },
    {
     "name": "stdout",
     "output_type": "stream",
     "text": [
      "th: 0.8, fbeta: 0.0\n",
      "saving model: memory GB:7.37\n"
     ]
    },
    {
     "name": "stderr",
     "output_type": "stream",
     "text": [
      "Train Steps Progress: 100%|\u001b[31m██████████\u001b[0m| 152/152 [00:28<00:00,  5.26it/s]\n",
      "Validation Steps Progress: 100%|\u001b[32m██████████\u001b[0m| 17/17 [00:02<00:00,  6.58it/s]\n"
     ]
    },
    {
     "name": "stdout",
     "output_type": "stream",
     "text": [
      "th: 0.1, fbeta: 0.17645017611159045\n",
      "th: 0.15, fbeta: 0.18185626763851728\n",
      "th: 0.2, fbeta: 0.17725540701447753\n",
      "th: 0.25, fbeta: 0.13442341084312928\n",
      "th: 0.3, fbeta: 0.06219263468004273\n",
      "th: 0.35, fbeta: 0.01958095868667984\n",
      "th: 0.4, fbeta: 0.005140479441887069\n",
      "th: 0.45, fbeta: 0.0012597462368525228\n",
      "th: 0.5, fbeta: 0.00029760039143505296\n",
      "th: 0.55, fbeta: 6.0858315113463825e-05\n",
      "th: 0.6, fbeta: 1.3109093247897511e-05\n",
      "th: 0.65, fbeta: 1.8726498041689017e-06\n",
      "th: 0.7, fbeta: 0.0\n",
      "th: 0.75, fbeta: 0.0\n"
     ]
    },
    {
     "name": "stderr",
     "output_type": "stream",
     "text": [
      "best_th: 0.15, fbeta: 0.18185626763851728\n",
      "Epoch 7 - avg_train_loss: 0.3289  avg_val_loss: 0.1687  time: 45s\n",
      "Epoch 7 - avgScore: 0.1819\n",
      "Epoch 7 - Save Best Score: 0.1819 Model\n",
      "Epoch 7 - Save Best Loss: 0.1687 Model\n"
     ]
    },
    {
     "name": "stdout",
     "output_type": "stream",
     "text": [
      "th: 0.8, fbeta: 0.0\n",
      "saving model: memory GB:7.37\n"
     ]
    },
    {
     "name": "stderr",
     "output_type": "stream",
     "text": [
      "Train Steps Progress: 100%|\u001b[31m██████████\u001b[0m| 152/152 [00:30<00:00,  5.03it/s]\n",
      "Validation Steps Progress: 100%|\u001b[32m██████████\u001b[0m| 17/17 [00:02<00:00,  6.82it/s]\n"
     ]
    },
    {
     "name": "stdout",
     "output_type": "stream",
     "text": [
      "th: 0.1, fbeta: 0.17910548215149816\n",
      "th: 0.15, fbeta: 0.18653786589960503\n",
      "th: 0.2, fbeta: 0.1428994747800986\n",
      "th: 0.25, fbeta: 0.05304478203612766\n",
      "th: 0.3, fbeta: 0.01200639213462938\n",
      "th: 0.35, fbeta: 0.0024109548674014604\n",
      "th: 0.4, fbeta: 0.00046595053613817717\n",
      "th: 0.45, fbeta: 6.928362299763401e-05\n",
      "th: 0.5, fbeta: 1.2172667917385367e-05\n",
      "th: 0.55, fbeta: 2.809205727713982e-06\n",
      "th: 0.6, fbeta: 0.0\n",
      "th: 0.65, fbeta: 0.0\n",
      "th: 0.7, fbeta: 0.0\n",
      "th: 0.75, fbeta: 0.0\n"
     ]
    },
    {
     "name": "stderr",
     "output_type": "stream",
     "text": [
      "best_th: 0.15, fbeta: 0.18653786589960503\n",
      "Epoch 8 - avg_train_loss: 0.3304  avg_val_loss: 0.1671  time: 46s\n",
      "Epoch 8 - avgScore: 0.1865\n",
      "Epoch 8 - Save Best Score: 0.1865 Model\n",
      "Epoch 8 - Save Best Loss: 0.1671 Model\n"
     ]
    },
    {
     "name": "stdout",
     "output_type": "stream",
     "text": [
      "th: 0.8, fbeta: 0.0\n",
      "saving model: memory GB:7.37\n"
     ]
    },
    {
     "name": "stderr",
     "output_type": "stream",
     "text": [
      "Train Steps Progress: 100%|\u001b[31m██████████\u001b[0m| 152/152 [00:29<00:00,  5.14it/s]\n",
      "Validation Steps Progress: 100%|\u001b[32m██████████\u001b[0m| 17/17 [00:03<00:00,  5.08it/s]\n"
     ]
    },
    {
     "name": "stdout",
     "output_type": "stream",
     "text": [
      "th: 0.1, fbeta: 0.1735905687512931\n",
      "th: 0.15, fbeta: 0.18205284187135914\n",
      "th: 0.2, fbeta: 0.18975548920467072\n",
      "th: 0.25, fbeta: 0.1663192369629358\n",
      "th: 0.3, fbeta: 0.09333628028384357\n",
      "th: 0.35, fbeta: 0.03255481734381485\n",
      "th: 0.4, fbeta: 0.008680483278751719\n",
      "th: 0.45, fbeta: 0.0021556236483239663\n",
      "th: 0.5, fbeta: 0.0005314296709814945\n",
      "th: 0.55, fbeta: 0.0001235832273310975\n",
      "th: 0.6, fbeta: 2.528183309094535e-05\n",
      "th: 0.65, fbeta: 4.68200253166189e-06\n",
      "th: 0.7, fbeta: 0.0\n",
      "th: 0.75, fbeta: 0.0\n"
     ]
    },
    {
     "name": "stderr",
     "output_type": "stream",
     "text": [
      "best_th: 0.2, fbeta: 0.18975548920467072\n",
      "Epoch 9 - avg_train_loss: 0.3324  avg_val_loss: 0.1703  time: 47s\n",
      "Epoch 9 - avgScore: 0.1898\n",
      "Epoch 9 - Save Best Score: 0.1898 Model\n",
      "Epoch 9 - Save Best Loss: 0.1703 Model\n"
     ]
    },
    {
     "name": "stdout",
     "output_type": "stream",
     "text": [
      "th: 0.8, fbeta: 0.0\n",
      "saving model: memory GB:7.37\n"
     ]
    },
    {
     "name": "stderr",
     "output_type": "stream",
     "text": [
      "Train Steps Progress: 100%|\u001b[31m██████████\u001b[0m| 152/152 [00:28<00:00,  5.33it/s]\n",
      "Validation Steps Progress: 100%|\u001b[32m██████████\u001b[0m| 17/17 [00:02<00:00,  6.67it/s]\n"
     ]
    },
    {
     "name": "stdout",
     "output_type": "stream",
     "text": [
      "th: 0.1, fbeta: 0.17611482474333506\n",
      "th: 0.15, fbeta: 0.18497160882933905\n",
      "th: 0.2, fbeta: 0.18423855452237703\n",
      "th: 0.25, fbeta: 0.1376528489538843\n",
      "th: 0.3, fbeta: 0.05938496088640636\n",
      "th: 0.35, fbeta: 0.017668670639571154\n",
      "th: 0.4, fbeta: 0.004403670344571898\n",
      "th: 0.45, fbeta: 0.0010486717983517638\n",
      "th: 0.5, fbeta: 0.00023495630128703713\n",
      "th: 0.55, fbeta: 2.2472206571464206e-05\n",
      "th: 0.6, fbeta: 2.809205727713982e-06\n",
      "th: 0.65, fbeta: 0.0\n",
      "th: 0.7, fbeta: 0.0\n",
      "th: 0.75, fbeta: 0.0\n"
     ]
    },
    {
     "name": "stderr",
     "output_type": "stream",
     "text": [
      "best_th: 0.15, fbeta: 0.18497160882933905\n",
      "Epoch 10 - avg_train_loss: 0.3285  avg_val_loss: 0.1677  time: 48s\n",
      "Epoch 10 - avgScore: 0.1850\n",
      "Epoch Progress:  67%|\u001b[37m██████▋   \u001b[0m| 10/15 [07:42<03:53, 46.68s/it]"
     ]
    },
    {
     "name": "stdout",
     "output_type": "stream",
     "text": [
      "th: 0.8, fbeta: 0.0\n"
     ]
    },
    {
     "name": "stderr",
     "output_type": "stream",
     "text": [
      "Train Steps Progress: 100%|\u001b[31m██████████\u001b[0m| 152/152 [00:30<00:00,  4.92it/s]\n",
      "Validation Steps Progress: 100%|\u001b[32m██████████\u001b[0m| 17/17 [00:02<00:00,  6.83it/s]\n"
     ]
    },
    {
     "name": "stdout",
     "output_type": "stream",
     "text": [
      "th: 0.1, fbeta: 0.1775245262247437\n",
      "th: 0.15, fbeta: 0.19034057863765538\n",
      "th: 0.2, fbeta: 0.18186146022352334\n",
      "th: 0.25, fbeta: 0.10685575103407789\n",
      "th: 0.3, fbeta: 0.034963522948040025\n",
      "th: 0.35, fbeta: 0.008698859416869596\n",
      "th: 0.4, fbeta: 0.00202040268624353\n",
      "th: 0.45, fbeta: 0.0004604129982745208\n",
      "th: 0.5, fbeta: 6.647739743296556e-05\n",
      "th: 0.55, fbeta: 8.427535537021822e-06\n",
      "th: 0.6, fbeta: 0.0\n",
      "th: 0.65, fbeta: 0.0\n",
      "th: 0.7, fbeta: 0.0\n",
      "th: 0.75, fbeta: 0.0\n"
     ]
    },
    {
     "name": "stderr",
     "output_type": "stream",
     "text": [
      "best_th: 0.15, fbeta: 0.19034057863765538\n",
      "Epoch 11 - avg_train_loss: 0.3295  avg_val_loss: 0.1661  time: 47s\n",
      "Epoch 11 - avgScore: 0.1903\n",
      "Epoch 11 - Save Best Score: 0.1903 Model\n",
      "Epoch 11 - Save Best Loss: 0.1661 Model\n"
     ]
    },
    {
     "name": "stdout",
     "output_type": "stream",
     "text": [
      "th: 0.8, fbeta: 0.0\n",
      "saving model: memory GB:7.37\n"
     ]
    },
    {
     "name": "stderr",
     "output_type": "stream",
     "text": [
      "Train Steps Progress: 100%|\u001b[31m██████████\u001b[0m| 152/152 [00:29<00:00,  5.15it/s]\n",
      "Validation Steps Progress: 100%|\u001b[32m██████████\u001b[0m| 17/17 [00:03<00:00,  5.35it/s]\n"
     ]
    },
    {
     "name": "stdout",
     "output_type": "stream",
     "text": [
      "th: 0.1, fbeta: 0.175163543267437\n",
      "th: 0.15, fbeta: 0.18695400965167092\n",
      "th: 0.2, fbeta: 0.17604179151340002\n",
      "th: 0.25, fbeta: 0.09330747720608869\n",
      "th: 0.3, fbeta: 0.02570248580639904\n",
      "th: 0.35, fbeta: 0.005231162151694751\n",
      "th: 0.4, fbeta: 0.0011103941154405877\n",
      "th: 0.45, fbeta: 0.00020314218694003516\n",
      "th: 0.5, fbeta: 1.6854494109143234e-05\n",
      "th: 0.55, fbeta: 1.8728052213098475e-06\n",
      "th: 0.6, fbeta: 0.0\n",
      "th: 0.65, fbeta: 0.0\n",
      "th: 0.7, fbeta: 0.0\n",
      "th: 0.75, fbeta: 0.0\n"
     ]
    },
    {
     "name": "stderr",
     "output_type": "stream",
     "text": [
      "best_th: 0.15, fbeta: 0.18695400965167092\n",
      "Epoch 12 - avg_train_loss: 0.3239  avg_val_loss: 0.1675  time: 46s\n",
      "Epoch 12 - avgScore: 0.1870\n",
      "Epoch Progress:  80%|\u001b[37m████████  \u001b[0m| 12/15 [09:15<02:19, 46.54s/it]"
     ]
    },
    {
     "name": "stdout",
     "output_type": "stream",
     "text": [
      "th: 0.8, fbeta: 0.0\n"
     ]
    },
    {
     "name": "stderr",
     "output_type": "stream",
     "text": [
      "Train Steps Progress: 100%|\u001b[31m██████████\u001b[0m| 152/152 [00:27<00:00,  5.54it/s]\n",
      "Validation Steps Progress: 100%|\u001b[32m██████████\u001b[0m| 17/17 [00:02<00:00,  6.59it/s]\n"
     ]
    },
    {
     "name": "stdout",
     "output_type": "stream",
     "text": [
      "th: 0.1, fbeta: 0.18076977310013198\n",
      "th: 0.15, fbeta: 0.17984297039531955\n",
      "th: 0.2, fbeta: 0.10437735563617849\n",
      "th: 0.25, fbeta: 0.025718866776513957\n",
      "th: 0.3, fbeta: 0.004583249152316071\n",
      "th: 0.35, fbeta: 0.0008862960845313578\n",
      "th: 0.4, fbeta: 0.00014978977721362785\n",
      "th: 0.45, fbeta: 2.1536438968231686e-05\n",
      "th: 0.5, fbeta: 5.618398829211969e-06\n",
      "th: 0.55, fbeta: 0.0\n",
      "th: 0.6, fbeta: 0.0\n",
      "th: 0.65, fbeta: 0.0\n",
      "th: 0.7, fbeta: 0.0\n",
      "th: 0.75, fbeta: 0.0\n"
     ]
    },
    {
     "name": "stderr",
     "output_type": "stream",
     "text": [
      "best_th: 0.1, fbeta: 0.18076977310013198\n",
      "Epoch 13 - avg_train_loss: 0.3252  avg_val_loss: 0.1670  time: 43s\n",
      "Epoch 13 - avgScore: 0.1808\n",
      "Epoch Progress:  87%|\u001b[37m████████▋ \u001b[0m| 13/15 [09:58<01:31, 45.56s/it]"
     ]
    },
    {
     "name": "stdout",
     "output_type": "stream",
     "text": [
      "th: 0.8, fbeta: 0.0\n"
     ]
    },
    {
     "name": "stderr",
     "output_type": "stream",
     "text": [
      "Train Steps Progress: 100%|\u001b[31m██████████\u001b[0m| 152/152 [00:30<00:00,  5.00it/s]\n",
      "Validation Steps Progress: 100%|\u001b[32m██████████\u001b[0m| 17/17 [00:02<00:00,  6.67it/s]\n"
     ]
    },
    {
     "name": "stdout",
     "output_type": "stream",
     "text": [
      "th: 0.1, fbeta: 0.17520172139384124\n",
      "th: 0.15, fbeta: 0.18628947030473458\n",
      "th: 0.2, fbeta: 0.17835487656320323\n",
      "th: 0.25, fbeta: 0.10890757825178943\n",
      "th: 0.3, fbeta: 0.037066068095297375\n",
      "th: 0.35, fbeta: 0.00915816534818297\n",
      "th: 0.4, fbeta: 0.0022613978847858445\n",
      "th: 0.45, fbeta: 0.0004921669512487433\n",
      "th: 0.5, fbeta: 0.00010298816215711239\n",
      "th: 0.55, fbeta: 2.0600231483381972e-05\n",
      "th: 0.6, fbeta: 4.68200253166189e-06\n",
      "th: 0.65, fbeta: 0.0\n",
      "th: 0.7, fbeta: 0.0\n",
      "th: 0.75, fbeta: 0.0\n"
     ]
    },
    {
     "name": "stderr",
     "output_type": "stream",
     "text": [
      "best_th: 0.15, fbeta: 0.18628947030473458\n",
      "Epoch 14 - avg_train_loss: 0.3248  avg_val_loss: 0.1672  time: 46s\n",
      "Epoch 14 - avgScore: 0.1863\n",
      "Epoch Progress:  93%|\u001b[37m█████████▎\u001b[0m| 14/15 [10:44<00:45, 45.70s/it]"
     ]
    },
    {
     "name": "stdout",
     "output_type": "stream",
     "text": [
      "th: 0.8, fbeta: 0.0\n"
     ]
    },
    {
     "name": "stderr",
     "output_type": "stream",
     "text": [
      "Train Steps Progress: 100%|\u001b[31m██████████\u001b[0m| 152/152 [00:27<00:00,  5.53it/s]\n",
      "Validation Steps Progress: 100%|\u001b[32m██████████\u001b[0m| 17/17 [00:03<00:00,  5.23it/s]\n"
     ]
    },
    {
     "name": "stdout",
     "output_type": "stream",
     "text": [
      "th: 0.1, fbeta: 0.17910150275966857\n",
      "th: 0.15, fbeta: 0.19118523715415975\n",
      "th: 0.2, fbeta: 0.15108791469901786\n",
      "th: 0.25, fbeta: 0.05556799758593655\n",
      "th: 0.3, fbeta: 0.011790679828911122\n",
      "th: 0.35, fbeta: 0.0023114034853874816\n",
      "th: 0.4, fbeta: 0.0004211053982285748\n",
      "th: 0.45, fbeta: 6.741384687296298e-05\n",
      "th: 0.5, fbeta: 8.427448004020138e-06\n",
      "th: 0.55, fbeta: 0.0\n",
      "th: 0.6, fbeta: 0.0\n",
      "th: 0.65, fbeta: 0.0\n",
      "th: 0.7, fbeta: 0.0\n",
      "th: 0.75, fbeta: 0.0\n"
     ]
    },
    {
     "name": "stderr",
     "output_type": "stream",
     "text": [
      "best_th: 0.15, fbeta: 0.19118523715415975\n",
      "Epoch 15 - avg_train_loss: 0.3223  avg_val_loss: 0.1659  time: 46s\n",
      "Epoch 15 - avgScore: 0.1912\n",
      "Epoch 15 - Save Best Score: 0.1912 Model\n",
      "Epoch 15 - Save Best Loss: 0.1659 Model\n"
     ]
    },
    {
     "name": "stdout",
     "output_type": "stream",
     "text": [
      "th: 0.8, fbeta: 0.0\n",
      "saving model: memory GB:7.37\n"
     ]
    },
    {
     "name": "stderr",
     "output_type": "stream",
     "text": [
      "Epoch Progress: 100%|\u001b[37m██████████\u001b[0m| 15/15 [11:30<00:00, 46.01s/it]\n",
      "\u001b[34m\u001b[1mwandb\u001b[0m: Waiting for W&B process to finish... \u001b[32m(success).\u001b[0m\n",
      "\u001b[34m\u001b[1mwandb\u001b[0m: \n",
      "\u001b[34m\u001b[1mwandb\u001b[0m: Run history:\n",
      "\u001b[34m\u001b[1mwandb\u001b[0m:     Best_Score ▁▂▂▃▄▅▆███\n",
      "\u001b[34m\u001b[1mwandb\u001b[0m:      Best_loss █▂▂▂▂▁▂▂▂▁\n",
      "\u001b[34m\u001b[1mwandb\u001b[0m:        Best_th ▁▁▁▁▁▅▅▅█▅▅▅▁▅▅\n",
      "\u001b[34m\u001b[1mwandb\u001b[0m: Best_threshold ▁▁▁▁▅▅▅█▅▅\n",
      "\u001b[34m\u001b[1mwandb\u001b[0m:          Epoch ▁▁▂▃▃▃▄▅▅▅▆▇▇▇█\n",
      "\u001b[34m\u001b[1mwandb\u001b[0m:     Epoch_best ▁▁▂▃▃▄▅▅▆█\n",
      "\u001b[34m\u001b[1mwandb\u001b[0m:          Score ▁▂▂▃▂▄▅▆█▆█▇▅▆█\n",
      "\u001b[34m\u001b[1mwandb\u001b[0m:     Train_loss █▂▂▂▂▂▁▂▂▁▂▁▁▁▁\n",
      "\u001b[34m\u001b[1mwandb\u001b[0m:        Val_los █▆▅▄▄▂▃▂▄▂▁▂▂▂▁\n",
      "\u001b[34m\u001b[1mwandb\u001b[0m: \n",
      "\u001b[34m\u001b[1mwandb\u001b[0m: Run summary:\n",
      "\u001b[34m\u001b[1mwandb\u001b[0m:     Best_Score 0.19119\n",
      "\u001b[34m\u001b[1mwandb\u001b[0m:      Best_loss 0.32234\n",
      "\u001b[34m\u001b[1mwandb\u001b[0m:        Best_th 0.15\n",
      "\u001b[34m\u001b[1mwandb\u001b[0m: Best_threshold 0.15\n",
      "\u001b[34m\u001b[1mwandb\u001b[0m:          Epoch 15\n",
      "\u001b[34m\u001b[1mwandb\u001b[0m:     Epoch_best 15\n",
      "\u001b[34m\u001b[1mwandb\u001b[0m:          Score 0.19119\n",
      "\u001b[34m\u001b[1mwandb\u001b[0m:     Train_loss 0.32234\n",
      "\u001b[34m\u001b[1mwandb\u001b[0m:        Val_los 0.16587\n",
      "\u001b[34m\u001b[1mwandb\u001b[0m: \n",
      "\u001b[34m\u001b[1mwandb\u001b[0m: 🚀 View run \u001b[33mPSPNet timm-mobilenetv3_large_minimal_100 Fold1 freezeTrue 50578\u001b[0m at: \u001b[34m\u001b[4mhttps://wandb.ai/i-am-noob/Vesuvius%20Experiments%20PSPNet/runs/6eefcii1\u001b[0m\n",
      "\u001b[34m\u001b[1mwandb\u001b[0m: Synced 6 W&B file(s), 0 media file(s), 0 artifact file(s) and 0 other file(s)\n",
      "\u001b[34m\u001b[1mwandb\u001b[0m: Find logs at: \u001b[35m\u001b[1m./wandb/run-20230602_220703-6eefcii1/logs\u001b[0m\n"
     ]
    },
    {
     "name": "stdout",
     "output_type": "stream",
     "text": [
      "deleted items: memory GB:7.37\n"
     ]
    }
   ],
   "source": [
    "model_to_try = ['mit_b0','mit_b1','mit_b2','mit_b3','mit_b4','mit_b5','resnet50','efficientnet-b4','efficientnet-b5','efficientnet-b6','timm-mobilenetv3_large_075','mobilenet_v2','efficientnet-b7','timm-mobilenetv3_large_100','timm-mobilenetv3_large_minimal_100']\n",
    "freeze_try  = [True,False]\n",
    "\n",
    "for modell in model_to_try:\n",
    "    config['model'] = modell\n",
    "        \n",
    "    if modell in ['mit_b0','mit_b1','mit_b2','mit_b3','mit_b4','mit_b5']:\n",
    "        config['in_chans'] = 3\n",
    "    else:\n",
    "        config['in_chans'] = 6\n",
    "    update_CFG(config,CFG)\n",
    "    mod = train(config,CFG)\n",
    "    abds = gc.collect()"
   ]
  },
  {
   "cell_type": "code",
   "execution_count": null,
   "id": "073ec31c",
   "metadata": {
    "execution": {
     "iopub.execute_input": "2023-06-02T10:05:47.766073Z",
     "iopub.status.busy": "2023-06-02T10:05:47.765346Z",
     "iopub.status.idle": "2023-06-02T10:05:47.778012Z",
     "shell.execute_reply": "2023-06-02T10:05:47.775885Z",
     "shell.execute_reply.started": "2023-06-02T10:05:47.766026Z"
    },
    "papermill": {
     "duration": 3.434249,
     "end_time": "2023-06-02T22:19:39.216521",
     "exception": false,
     "start_time": "2023-06-02T22:19:35.782272",
     "status": "completed"
    },
    "tags": []
   },
   "outputs": [],
   "source": []
  },
  {
   "cell_type": "code",
   "execution_count": null,
   "id": "79e72e92",
   "metadata": {
    "execution": {
     "iopub.execute_input": "2023-06-02T10:08:48.187764Z",
     "iopub.status.busy": "2023-06-02T10:08:48.187262Z",
     "iopub.status.idle": "2023-06-02T10:08:48.224658Z",
     "shell.execute_reply": "2023-06-02T10:08:48.222828Z",
     "shell.execute_reply.started": "2023-06-02T10:08:48.187717Z"
    },
    "papermill": {
     "duration": 3.5342,
     "end_time": "2023-06-02T22:19:46.397278",
     "exception": false,
     "start_time": "2023-06-02T22:19:42.863078",
     "status": "completed"
    },
    "tags": []
   },
   "outputs": [],
   "source": []
  },
  {
   "cell_type": "code",
   "execution_count": null,
   "id": "dbaa1b08",
   "metadata": {
    "papermill": {
     "duration": 3.383275,
     "end_time": "2023-06-02T22:19:53.833188",
     "exception": false,
     "start_time": "2023-06-02T22:19:50.449913",
     "status": "completed"
    },
    "tags": []
   },
   "outputs": [],
   "source": []
  }
 ],
 "metadata": {
  "kernelspec": {
   "display_name": "Python 3",
   "language": "python",
   "name": "python3"
  },
  "language_info": {
   "codemirror_mode": {
    "name": "ipython",
    "version": 3
   },
   "file_extension": ".py",
   "mimetype": "text/x-python",
   "name": "python",
   "nbconvert_exporter": "python",
   "pygments_lexer": "ipython3",
   "version": "3.7.12"
  },
  "papermill": {
   "default_parameters": {},
   "duration": 17020.582479,
   "end_time": "2023-06-02T22:20:01.081310",
   "environment_variables": {},
   "exception": null,
   "input_path": "__notebook__.ipynb",
   "output_path": "__notebook__.ipynb",
   "parameters": {},
   "start_time": "2023-06-02T17:36:20.498831",
   "version": "2.4.0"
  },
  "widgets": {
   "application/vnd.jupyter.widget-state+json": {
    "state": {
     "01cfd8440ed64dafb8a6698314812d28": {
      "model_module": "@jupyter-widgets/base",
      "model_module_version": "1.2.0",
      "model_name": "LayoutModel",
      "state": {
       "_model_module": "@jupyter-widgets/base",
       "_model_module_version": "1.2.0",
       "_model_name": "LayoutModel",
       "_view_count": null,
       "_view_module": "@jupyter-widgets/base",
       "_view_module_version": "1.2.0",
       "_view_name": "LayoutView",
       "align_content": null,
       "align_items": null,
       "align_self": null,
       "border": null,
       "bottom": null,
       "display": null,
       "flex": null,
       "flex_flow": null,
       "grid_area": null,
       "grid_auto_columns": null,
       "grid_auto_flow": null,
       "grid_auto_rows": null,
       "grid_column": null,
       "grid_gap": null,
       "grid_row": null,
       "grid_template_areas": null,
       "grid_template_columns": null,
       "grid_template_rows": null,
       "height": null,
       "justify_content": null,
       "justify_items": null,
       "left": null,
       "margin": null,
       "max_height": null,
       "max_width": null,
       "min_height": null,
       "min_width": null,
       "object_fit": null,
       "object_position": null,
       "order": null,
       "overflow": null,
       "overflow_x": null,
       "overflow_y": null,
       "padding": null,
       "right": null,
       "top": null,
       "visibility": null,
       "width": null
      }
     },
     "02e6b7f082624c76a473a474581089b0": {
      "model_module": "@jupyter-widgets/controls",
      "model_module_version": "1.5.0",
      "model_name": "ProgressStyleModel",
      "state": {
       "_model_module": "@jupyter-widgets/controls",
       "_model_module_version": "1.5.0",
       "_model_name": "ProgressStyleModel",
       "_view_count": null,
       "_view_module": "@jupyter-widgets/base",
       "_view_module_version": "1.2.0",
       "_view_name": "StyleView",
       "bar_color": null,
       "description_width": ""
      }
     },
     "03fa152fc9474914978ef30373a7259e": {
      "model_module": "@jupyter-widgets/base",
      "model_module_version": "1.2.0",
      "model_name": "LayoutModel",
      "state": {
       "_model_module": "@jupyter-widgets/base",
       "_model_module_version": "1.2.0",
       "_model_name": "LayoutModel",
       "_view_count": null,
       "_view_module": "@jupyter-widgets/base",
       "_view_module_version": "1.2.0",
       "_view_name": "LayoutView",
       "align_content": null,
       "align_items": null,
       "align_self": null,
       "border": null,
       "bottom": null,
       "display": null,
       "flex": null,
       "flex_flow": null,
       "grid_area": null,
       "grid_auto_columns": null,
       "grid_auto_flow": null,
       "grid_auto_rows": null,
       "grid_column": null,
       "grid_gap": null,
       "grid_row": null,
       "grid_template_areas": null,
       "grid_template_columns": null,
       "grid_template_rows": null,
       "height": null,
       "justify_content": null,
       "justify_items": null,
       "left": null,
       "margin": null,
       "max_height": null,
       "max_width": null,
       "min_height": null,
       "min_width": null,
       "object_fit": null,
       "object_position": null,
       "order": null,
       "overflow": null,
       "overflow_x": null,
       "overflow_y": null,
       "padding": null,
       "right": null,
       "top": null,
       "visibility": null,
       "width": null
      }
     },
     "05ccd9432fb44f31b7072376d2e4343f": {
      "model_module": "@jupyter-widgets/controls",
      "model_module_version": "1.5.0",
      "model_name": "HTMLModel",
      "state": {
       "_dom_classes": [],
       "_model_module": "@jupyter-widgets/controls",
       "_model_module_version": "1.5.0",
       "_model_name": "HTMLModel",
       "_view_count": null,
       "_view_module": "@jupyter-widgets/controls",
       "_view_module_version": "1.5.0",
       "_view_name": "HTMLView",
       "description": "",
       "description_tooltip": null,
       "layout": "IPY_MODEL_ab761e3378924037b313866f7a2ce3a8",
       "placeholder": "​",
       "style": "IPY_MODEL_8ffd0e6f153341a8a0b916519627e43e",
       "value": "100%"
      }
     },
     "065a075e7eec40f7b022531881efbfbe": {
      "model_module": "@jupyter-widgets/base",
      "model_module_version": "1.2.0",
      "model_name": "LayoutModel",
      "state": {
       "_model_module": "@jupyter-widgets/base",
       "_model_module_version": "1.2.0",
       "_model_name": "LayoutModel",
       "_view_count": null,
       "_view_module": "@jupyter-widgets/base",
       "_view_module_version": "1.2.0",
       "_view_name": "LayoutView",
       "align_content": null,
       "align_items": null,
       "align_self": null,
       "border": null,
       "bottom": null,
       "display": null,
       "flex": null,
       "flex_flow": null,
       "grid_area": null,
       "grid_auto_columns": null,
       "grid_auto_flow": null,
       "grid_auto_rows": null,
       "grid_column": null,
       "grid_gap": null,
       "grid_row": null,
       "grid_template_areas": null,
       "grid_template_columns": null,
       "grid_template_rows": null,
       "height": null,
       "justify_content": null,
       "justify_items": null,
       "left": null,
       "margin": null,
       "max_height": null,
       "max_width": null,
       "min_height": null,
       "min_width": null,
       "object_fit": null,
       "object_position": null,
       "order": null,
       "overflow": null,
       "overflow_x": null,
       "overflow_y": null,
       "padding": null,
       "right": null,
       "top": null,
       "visibility": null,
       "width": null
      }
     },
     "0889c553745b447e9b63a9985e755a23": {
      "model_module": "@jupyter-widgets/controls",
      "model_module_version": "1.5.0",
      "model_name": "DescriptionStyleModel",
      "state": {
       "_model_module": "@jupyter-widgets/controls",
       "_model_module_version": "1.5.0",
       "_model_name": "DescriptionStyleModel",
       "_view_count": null,
       "_view_module": "@jupyter-widgets/base",
       "_view_module_version": "1.2.0",
       "_view_name": "StyleView",
       "description_width": ""
      }
     },
     "0a420eacdf7444c9a69df250e40db512": {
      "model_module": "@jupyter-widgets/base",
      "model_module_version": "1.2.0",
      "model_name": "LayoutModel",
      "state": {
       "_model_module": "@jupyter-widgets/base",
       "_model_module_version": "1.2.0",
       "_model_name": "LayoutModel",
       "_view_count": null,
       "_view_module": "@jupyter-widgets/base",
       "_view_module_version": "1.2.0",
       "_view_name": "LayoutView",
       "align_content": null,
       "align_items": null,
       "align_self": null,
       "border": null,
       "bottom": null,
       "display": null,
       "flex": null,
       "flex_flow": null,
       "grid_area": null,
       "grid_auto_columns": null,
       "grid_auto_flow": null,
       "grid_auto_rows": null,
       "grid_column": null,
       "grid_gap": null,
       "grid_row": null,
       "grid_template_areas": null,
       "grid_template_columns": null,
       "grid_template_rows": null,
       "height": null,
       "justify_content": null,
       "justify_items": null,
       "left": null,
       "margin": null,
       "max_height": null,
       "max_width": null,
       "min_height": null,
       "min_width": null,
       "object_fit": null,
       "object_position": null,
       "order": null,
       "overflow": null,
       "overflow_x": null,
       "overflow_y": null,
       "padding": null,
       "right": null,
       "top": null,
       "visibility": null,
       "width": null
      }
     },
     "0c3c46810db34bdd9cc1cc480d0b69c0": {
      "model_module": "@jupyter-widgets/controls",
      "model_module_version": "1.5.0",
      "model_name": "HBoxModel",
      "state": {
       "_dom_classes": [],
       "_model_module": "@jupyter-widgets/controls",
       "_model_module_version": "1.5.0",
       "_model_name": "HBoxModel",
       "_view_count": null,
       "_view_module": "@jupyter-widgets/controls",
       "_view_module_version": "1.5.0",
       "_view_name": "HBoxView",
       "box_style": "",
       "children": [
        "IPY_MODEL_bc4e27e555bb4d50b52d0d6e120319ab",
        "IPY_MODEL_686c8543aed14754895aa8ce6d9be556",
        "IPY_MODEL_6344165a6515459b9eed64d7f904b225"
       ],
       "layout": "IPY_MODEL_89ec28ce1a0a4937950b197e7de31348"
      }
     },
     "0d67c923ee7c42c882a1c7d754c8d93e": {
      "model_module": "@jupyter-widgets/controls",
      "model_module_version": "1.5.0",
      "model_name": "HTMLModel",
      "state": {
       "_dom_classes": [],
       "_model_module": "@jupyter-widgets/controls",
       "_model_module_version": "1.5.0",
       "_model_name": "HTMLModel",
       "_view_count": null,
       "_view_module": "@jupyter-widgets/controls",
       "_view_module_version": "1.5.0",
       "_view_name": "HTMLView",
       "description": "",
       "description_tooltip": null,
       "layout": "IPY_MODEL_a84168eb0e2a453384ad7c26cf70f863",
       "placeholder": "​",
       "style": "IPY_MODEL_ebf69ef0243c4f27bcacba4283a9257b",
       "value": "100%"
      }
     },
     "10150c574cce45f59a040092a3b46001": {
      "model_module": "@jupyter-widgets/controls",
      "model_module_version": "1.5.0",
      "model_name": "ProgressStyleModel",
      "state": {
       "_model_module": "@jupyter-widgets/controls",
       "_model_module_version": "1.5.0",
       "_model_name": "ProgressStyleModel",
       "_view_count": null,
       "_view_module": "@jupyter-widgets/base",
       "_view_module_version": "1.2.0",
       "_view_name": "StyleView",
       "bar_color": null,
       "description_width": ""
      }
     },
     "11518902a6a749fbaaf19a28a93d4701": {
      "model_module": "@jupyter-widgets/controls",
      "model_module_version": "1.5.0",
      "model_name": "HTMLModel",
      "state": {
       "_dom_classes": [],
       "_model_module": "@jupyter-widgets/controls",
       "_model_module_version": "1.5.0",
       "_model_name": "HTMLModel",
       "_view_count": null,
       "_view_module": "@jupyter-widgets/controls",
       "_view_module_version": "1.5.0",
       "_view_name": "HTMLView",
       "description": "",
       "description_tooltip": null,
       "layout": "IPY_MODEL_349826a988a34bdf9c3f9486ba2076ca",
       "placeholder": "​",
       "style": "IPY_MODEL_a3f6e1d7a40641e1b9242f34ced1c865",
       "value": "100%"
      }
     },
     "125c90f7e48140a984fd29a7bfdfa9a7": {
      "model_module": "@jupyter-widgets/controls",
      "model_module_version": "1.5.0",
      "model_name": "HTMLModel",
      "state": {
       "_dom_classes": [],
       "_model_module": "@jupyter-widgets/controls",
       "_model_module_version": "1.5.0",
       "_model_name": "HTMLModel",
       "_view_count": null,
       "_view_module": "@jupyter-widgets/controls",
       "_view_module_version": "1.5.0",
       "_view_name": "HTMLView",
       "description": "",
       "description_tooltip": null,
       "layout": "IPY_MODEL_e3cc325a06af4c82af707a92d6a9f4fd",
       "placeholder": "​",
       "style": "IPY_MODEL_c00adf04919648cd95f429e729510c4b",
       "value": " 117M/117M [00:01&lt;00:00, 75.9MB/s]"
      }
     },
     "13765230985748e2be153260caf9956f": {
      "model_module": "@jupyter-widgets/base",
      "model_module_version": "1.2.0",
      "model_name": "LayoutModel",
      "state": {
       "_model_module": "@jupyter-widgets/base",
       "_model_module_version": "1.2.0",
       "_model_name": "LayoutModel",
       "_view_count": null,
       "_view_module": "@jupyter-widgets/base",
       "_view_module_version": "1.2.0",
       "_view_name": "LayoutView",
       "align_content": null,
       "align_items": null,
       "align_self": null,
       "border": null,
       "bottom": null,
       "display": null,
       "flex": null,
       "flex_flow": null,
       "grid_area": null,
       "grid_auto_columns": null,
       "grid_auto_flow": null,
       "grid_auto_rows": null,
       "grid_column": null,
       "grid_gap": null,
       "grid_row": null,
       "grid_template_areas": null,
       "grid_template_columns": null,
       "grid_template_rows": null,
       "height": null,
       "justify_content": null,
       "justify_items": null,
       "left": null,
       "margin": null,
       "max_height": null,
       "max_width": null,
       "min_height": null,
       "min_width": null,
       "object_fit": null,
       "object_position": null,
       "order": null,
       "overflow": null,
       "overflow_x": null,
       "overflow_y": null,
       "padding": null,
       "right": null,
       "top": null,
       "visibility": null,
       "width": null
      }
     },
     "13976253b5e446c59f72f5bc157fe9b2": {
      "model_module": "@jupyter-widgets/controls",
      "model_module_version": "1.5.0",
      "model_name": "HTMLModel",
      "state": {
       "_dom_classes": [],
       "_model_module": "@jupyter-widgets/controls",
       "_model_module_version": "1.5.0",
       "_model_name": "HTMLModel",
       "_view_count": null,
       "_view_module": "@jupyter-widgets/controls",
       "_view_module_version": "1.5.0",
       "_view_name": "HTMLView",
       "description": "",
       "description_tooltip": null,
       "layout": "IPY_MODEL_065a075e7eec40f7b022531881efbfbe",
       "placeholder": "​",
       "style": "IPY_MODEL_b5f5aadc956141428833ae83bf199ca2",
       "value": "100%"
      }
     },
     "16c4d415281e4ca6a7463c4d5ec85e56": {
      "model_module": "@jupyter-widgets/controls",
      "model_module_version": "1.5.0",
      "model_name": "DescriptionStyleModel",
      "state": {
       "_model_module": "@jupyter-widgets/controls",
       "_model_module_version": "1.5.0",
       "_model_name": "DescriptionStyleModel",
       "_view_count": null,
       "_view_module": "@jupyter-widgets/base",
       "_view_module_version": "1.2.0",
       "_view_name": "StyleView",
       "description_width": ""
      }
     },
     "181f6928dbc44413b6cfee92923d2983": {
      "model_module": "@jupyter-widgets/controls",
      "model_module_version": "1.5.0",
      "model_name": "HBoxModel",
      "state": {
       "_dom_classes": [],
       "_model_module": "@jupyter-widgets/controls",
       "_model_module_version": "1.5.0",
       "_model_name": "HBoxModel",
       "_view_count": null,
       "_view_module": "@jupyter-widgets/controls",
       "_view_module_version": "1.5.0",
       "_view_name": "HBoxView",
       "box_style": "",
       "children": [
        "IPY_MODEL_0d67c923ee7c42c882a1c7d754c8d93e",
        "IPY_MODEL_82324fd48ccb4a26bf0877d56776e9b8",
        "IPY_MODEL_d535d43315f54f8db348d77bd6c249a5"
       ],
       "layout": "IPY_MODEL_7cc9a64e33714d1790249a30148db64b"
      }
     },
     "1bb2bdea5e4e42949e6963f59a5241cf": {
      "model_module": "@jupyter-widgets/controls",
      "model_module_version": "1.5.0",
      "model_name": "DescriptionStyleModel",
      "state": {
       "_model_module": "@jupyter-widgets/controls",
       "_model_module_version": "1.5.0",
       "_model_name": "DescriptionStyleModel",
       "_view_count": null,
       "_view_module": "@jupyter-widgets/base",
       "_view_module_version": "1.2.0",
       "_view_name": "StyleView",
       "description_width": ""
      }
     },
     "1ea4014ee97d4e9ab2f573190e8d4675": {
      "model_module": "@jupyter-widgets/controls",
      "model_module_version": "1.5.0",
      "model_name": "DescriptionStyleModel",
      "state": {
       "_model_module": "@jupyter-widgets/controls",
       "_model_module_version": "1.5.0",
       "_model_name": "DescriptionStyleModel",
       "_view_count": null,
       "_view_module": "@jupyter-widgets/base",
       "_view_module_version": "1.2.0",
       "_view_name": "StyleView",
       "description_width": ""
      }
     },
     "23abd1cf14204d52baaccea1a65364fa": {
      "model_module": "@jupyter-widgets/controls",
      "model_module_version": "1.5.0",
      "model_name": "HTMLModel",
      "state": {
       "_dom_classes": [],
       "_model_module": "@jupyter-widgets/controls",
       "_model_module_version": "1.5.0",
       "_model_name": "HTMLModel",
       "_view_count": null,
       "_view_module": "@jupyter-widgets/controls",
       "_view_module_version": "1.5.0",
       "_view_name": "HTMLView",
       "description": "",
       "description_tooltip": null,
       "layout": "IPY_MODEL_da31abb8ba0e4eb7b2b528b68a1c3846",
       "placeholder": "​",
       "style": "IPY_MODEL_963f19a0570747029310f80fddb7c655",
       "value": " 97.8M/97.8M [00:01&lt;00:00, 66.1MB/s]"
      }
     },
     "24c9a47ca6d7404bac3c15ac0ea868d2": {
      "model_module": "@jupyter-widgets/controls",
      "model_module_version": "1.5.0",
      "model_name": "DescriptionStyleModel",
      "state": {
       "_model_module": "@jupyter-widgets/controls",
       "_model_module_version": "1.5.0",
       "_model_name": "DescriptionStyleModel",
       "_view_count": null,
       "_view_module": "@jupyter-widgets/base",
       "_view_module_version": "1.2.0",
       "_view_name": "StyleView",
       "description_width": ""
      }
     },
     "25122aff8be24b0f930e126166221626": {
      "model_module": "@jupyter-widgets/controls",
      "model_module_version": "1.5.0",
      "model_name": "HBoxModel",
      "state": {
       "_dom_classes": [],
       "_model_module": "@jupyter-widgets/controls",
       "_model_module_version": "1.5.0",
       "_model_name": "HBoxModel",
       "_view_count": null,
       "_view_module": "@jupyter-widgets/controls",
       "_view_module_version": "1.5.0",
       "_view_name": "HBoxView",
       "box_style": "",
       "children": [
        "IPY_MODEL_3f52a8c68312418b8151a22993aa5a4c",
        "IPY_MODEL_b8192817fa694a648b1a74c5eaa52e4e",
        "IPY_MODEL_6440a912534d45cbb62e0368411ed056"
       ],
       "layout": "IPY_MODEL_e3e6a5ee000c403880f05921159b0baf"
      }
     },
     "25c3c6b4484a42c49bef9b3c6272972f": {
      "model_module": "@jupyter-widgets/controls",
      "model_module_version": "1.5.0",
      "model_name": "ProgressStyleModel",
      "state": {
       "_model_module": "@jupyter-widgets/controls",
       "_model_module_version": "1.5.0",
       "_model_name": "ProgressStyleModel",
       "_view_count": null,
       "_view_module": "@jupyter-widgets/base",
       "_view_module_version": "1.2.0",
       "_view_name": "StyleView",
       "bar_color": null,
       "description_width": ""
      }
     },
     "28e625087a1d42c38e3c9c2a452990f0": {
      "model_module": "@jupyter-widgets/base",
      "model_module_version": "1.2.0",
      "model_name": "LayoutModel",
      "state": {
       "_model_module": "@jupyter-widgets/base",
       "_model_module_version": "1.2.0",
       "_model_name": "LayoutModel",
       "_view_count": null,
       "_view_module": "@jupyter-widgets/base",
       "_view_module_version": "1.2.0",
       "_view_name": "LayoutView",
       "align_content": null,
       "align_items": null,
       "align_self": null,
       "border": null,
       "bottom": null,
       "display": null,
       "flex": null,
       "flex_flow": null,
       "grid_area": null,
       "grid_auto_columns": null,
       "grid_auto_flow": null,
       "grid_auto_rows": null,
       "grid_column": null,
       "grid_gap": null,
       "grid_row": null,
       "grid_template_areas": null,
       "grid_template_columns": null,
       "grid_template_rows": null,
       "height": null,
       "justify_content": null,
       "justify_items": null,
       "left": null,
       "margin": null,
       "max_height": null,
       "max_width": null,
       "min_height": null,
       "min_width": null,
       "object_fit": null,
       "object_position": null,
       "order": null,
       "overflow": null,
       "overflow_x": null,
       "overflow_y": null,
       "padding": null,
       "right": null,
       "top": null,
       "visibility": null,
       "width": null
      }
     },
     "2a2b95e2ce5447759c0364e081fc2c36": {
      "model_module": "@jupyter-widgets/controls",
      "model_module_version": "1.5.0",
      "model_name": "HBoxModel",
      "state": {
       "_dom_classes": [],
       "_model_module": "@jupyter-widgets/controls",
       "_model_module_version": "1.5.0",
       "_model_name": "HBoxModel",
       "_view_count": null,
       "_view_module": "@jupyter-widgets/controls",
       "_view_module_version": "1.5.0",
       "_view_name": "HBoxView",
       "box_style": "",
       "children": [
        "IPY_MODEL_11518902a6a749fbaaf19a28a93d4701",
        "IPY_MODEL_355ac4e0f89244a2a79eeda78a0411e7",
        "IPY_MODEL_ac6632d62c3d4ff0b7bed1ce89d27ceb"
       ],
       "layout": "IPY_MODEL_531588c8dfe64263b262c8c866fb762d"
      }
     },
     "2bf973d1adc64c798301c8e74a863ec6": {
      "model_module": "@jupyter-widgets/base",
      "model_module_version": "1.2.0",
      "model_name": "LayoutModel",
      "state": {
       "_model_module": "@jupyter-widgets/base",
       "_model_module_version": "1.2.0",
       "_model_name": "LayoutModel",
       "_view_count": null,
       "_view_module": "@jupyter-widgets/base",
       "_view_module_version": "1.2.0",
       "_view_name": "LayoutView",
       "align_content": null,
       "align_items": null,
       "align_self": null,
       "border": null,
       "bottom": null,
       "display": null,
       "flex": null,
       "flex_flow": null,
       "grid_area": null,
       "grid_auto_columns": null,
       "grid_auto_flow": null,
       "grid_auto_rows": null,
       "grid_column": null,
       "grid_gap": null,
       "grid_row": null,
       "grid_template_areas": null,
       "grid_template_columns": null,
       "grid_template_rows": null,
       "height": null,
       "justify_content": null,
       "justify_items": null,
       "left": null,
       "margin": null,
       "max_height": null,
       "max_width": null,
       "min_height": null,
       "min_width": null,
       "object_fit": null,
       "object_position": null,
       "order": null,
       "overflow": null,
       "overflow_x": null,
       "overflow_y": null,
       "padding": null,
       "right": null,
       "top": null,
       "visibility": null,
       "width": null
      }
     },
     "2d850b5ef37c40eb866cfa51d8674385": {
      "model_module": "@jupyter-widgets/controls",
      "model_module_version": "1.5.0",
      "model_name": "DescriptionStyleModel",
      "state": {
       "_model_module": "@jupyter-widgets/controls",
       "_model_module_version": "1.5.0",
       "_model_name": "DescriptionStyleModel",
       "_view_count": null,
       "_view_module": "@jupyter-widgets/base",
       "_view_module_version": "1.2.0",
       "_view_name": "StyleView",
       "description_width": ""
      }
     },
     "2de065f21a1b48528bffbb328126a17b": {
      "model_module": "@jupyter-widgets/base",
      "model_module_version": "1.2.0",
      "model_name": "LayoutModel",
      "state": {
       "_model_module": "@jupyter-widgets/base",
       "_model_module_version": "1.2.0",
       "_model_name": "LayoutModel",
       "_view_count": null,
       "_view_module": "@jupyter-widgets/base",
       "_view_module_version": "1.2.0",
       "_view_name": "LayoutView",
       "align_content": null,
       "align_items": null,
       "align_self": null,
       "border": null,
       "bottom": null,
       "display": null,
       "flex": null,
       "flex_flow": null,
       "grid_area": null,
       "grid_auto_columns": null,
       "grid_auto_flow": null,
       "grid_auto_rows": null,
       "grid_column": null,
       "grid_gap": null,
       "grid_row": null,
       "grid_template_areas": null,
       "grid_template_columns": null,
       "grid_template_rows": null,
       "height": null,
       "justify_content": null,
       "justify_items": null,
       "left": null,
       "margin": null,
       "max_height": null,
       "max_width": null,
       "min_height": null,
       "min_width": null,
       "object_fit": null,
       "object_position": null,
       "order": null,
       "overflow": null,
       "overflow_x": null,
       "overflow_y": null,
       "padding": null,
       "right": null,
       "top": null,
       "visibility": null,
       "width": null
      }
     },
     "2fcdd71c927c46d7aa90ae8a66471e12": {
      "model_module": "@jupyter-widgets/base",
      "model_module_version": "1.2.0",
      "model_name": "LayoutModel",
      "state": {
       "_model_module": "@jupyter-widgets/base",
       "_model_module_version": "1.2.0",
       "_model_name": "LayoutModel",
       "_view_count": null,
       "_view_module": "@jupyter-widgets/base",
       "_view_module_version": "1.2.0",
       "_view_name": "LayoutView",
       "align_content": null,
       "align_items": null,
       "align_self": null,
       "border": null,
       "bottom": null,
       "display": null,
       "flex": null,
       "flex_flow": null,
       "grid_area": null,
       "grid_auto_columns": null,
       "grid_auto_flow": null,
       "grid_auto_rows": null,
       "grid_column": null,
       "grid_gap": null,
       "grid_row": null,
       "grid_template_areas": null,
       "grid_template_columns": null,
       "grid_template_rows": null,
       "height": null,
       "justify_content": null,
       "justify_items": null,
       "left": null,
       "margin": null,
       "max_height": null,
       "max_width": null,
       "min_height": null,
       "min_width": null,
       "object_fit": null,
       "object_position": null,
       "order": null,
       "overflow": null,
       "overflow_x": null,
       "overflow_y": null,
       "padding": null,
       "right": null,
       "top": null,
       "visibility": null,
       "width": null
      }
     },
     "349826a988a34bdf9c3f9486ba2076ca": {
      "model_module": "@jupyter-widgets/base",
      "model_module_version": "1.2.0",
      "model_name": "LayoutModel",
      "state": {
       "_model_module": "@jupyter-widgets/base",
       "_model_module_version": "1.2.0",
       "_model_name": "LayoutModel",
       "_view_count": null,
       "_view_module": "@jupyter-widgets/base",
       "_view_module_version": "1.2.0",
       "_view_name": "LayoutView",
       "align_content": null,
       "align_items": null,
       "align_self": null,
       "border": null,
       "bottom": null,
       "display": null,
       "flex": null,
       "flex_flow": null,
       "grid_area": null,
       "grid_auto_columns": null,
       "grid_auto_flow": null,
       "grid_auto_rows": null,
       "grid_column": null,
       "grid_gap": null,
       "grid_row": null,
       "grid_template_areas": null,
       "grid_template_columns": null,
       "grid_template_rows": null,
       "height": null,
       "justify_content": null,
       "justify_items": null,
       "left": null,
       "margin": null,
       "max_height": null,
       "max_width": null,
       "min_height": null,
       "min_width": null,
       "object_fit": null,
       "object_position": null,
       "order": null,
       "overflow": null,
       "overflow_x": null,
       "overflow_y": null,
       "padding": null,
       "right": null,
       "top": null,
       "visibility": null,
       "width": null
      }
     },
     "35419a44613347ee93e61612d5465607": {
      "model_module": "@jupyter-widgets/controls",
      "model_module_version": "1.5.0",
      "model_name": "FloatProgressModel",
      "state": {
       "_dom_classes": [],
       "_model_module": "@jupyter-widgets/controls",
       "_model_module_version": "1.5.0",
       "_model_name": "FloatProgressModel",
       "_view_count": null,
       "_view_module": "@jupyter-widgets/controls",
       "_view_module_version": "1.5.0",
       "_view_name": "ProgressView",
       "bar_style": "success",
       "description": "",
       "description_tooltip": null,
       "layout": "IPY_MODEL_70eb1dd7bd574dd78dedb30fe66bf0e3",
       "max": 122410125.0,
       "min": 0.0,
       "orientation": "horizontal",
       "style": "IPY_MODEL_25c3c6b4484a42c49bef9b3c6272972f",
       "value": 122410125.0
      }
     },
     "355ac4e0f89244a2a79eeda78a0411e7": {
      "model_module": "@jupyter-widgets/controls",
      "model_module_version": "1.5.0",
      "model_name": "FloatProgressModel",
      "state": {
       "_dom_classes": [],
       "_model_module": "@jupyter-widgets/controls",
       "_model_module_version": "1.5.0",
       "_model_name": "FloatProgressModel",
       "_view_count": null,
       "_view_module": "@jupyter-widgets/controls",
       "_view_module_version": "1.5.0",
       "_view_name": "ProgressView",
       "bar_style": "success",
       "description": "",
       "description_tooltip": null,
       "layout": "IPY_MODEL_baa1dd07da1247d39f0800c4933cf4ef",
       "max": 54683828.0,
       "min": 0.0,
       "orientation": "horizontal",
       "style": "IPY_MODEL_c53a5ef7b74d4138b992c0bd4940b820",
       "value": 54683828.0
      }
     },
     "362b5bc84846434fb54cc94e88641f5e": {
      "model_module": "@jupyter-widgets/controls",
      "model_module_version": "1.5.0",
      "model_name": "FloatProgressModel",
      "state": {
       "_dom_classes": [],
       "_model_module": "@jupyter-widgets/controls",
       "_model_module_version": "1.5.0",
       "_model_name": "FloatProgressModel",
       "_view_count": null,
       "_view_module": "@jupyter-widgets/controls",
       "_view_module_version": "1.5.0",
       "_view_name": "ProgressView",
       "bar_style": "success",
       "description": "",
       "description_tooltip": null,
       "layout": "IPY_MODEL_2bf973d1adc64c798301c8e74a863ec6",
       "max": 15836368.0,
       "min": 0.0,
       "orientation": "horizontal",
       "style": "IPY_MODEL_ed03382221104b37ac57fb391929b064",
       "value": 15836368.0
      }
     },
     "37ea908290a94995bf85aa65144239ea": {
      "model_module": "@jupyter-widgets/base",
      "model_module_version": "1.2.0",
      "model_name": "LayoutModel",
      "state": {
       "_model_module": "@jupyter-widgets/base",
       "_model_module_version": "1.2.0",
       "_model_name": "LayoutModel",
       "_view_count": null,
       "_view_module": "@jupyter-widgets/base",
       "_view_module_version": "1.2.0",
       "_view_name": "LayoutView",
       "align_content": null,
       "align_items": null,
       "align_self": null,
       "border": null,
       "bottom": null,
       "display": null,
       "flex": null,
       "flex_flow": null,
       "grid_area": null,
       "grid_auto_columns": null,
       "grid_auto_flow": null,
       "grid_auto_rows": null,
       "grid_column": null,
       "grid_gap": null,
       "grid_row": null,
       "grid_template_areas": null,
       "grid_template_columns": null,
       "grid_template_rows": null,
       "height": null,
       "justify_content": null,
       "justify_items": null,
       "left": null,
       "margin": null,
       "max_height": null,
       "max_width": null,
       "min_height": null,
       "min_width": null,
       "object_fit": null,
       "object_position": null,
       "order": null,
       "overflow": null,
       "overflow_x": null,
       "overflow_y": null,
       "padding": null,
       "right": null,
       "top": null,
       "visibility": null,
       "width": null
      }
     },
     "3992c61cec72491da93d1faecdc0f01e": {
      "model_module": "@jupyter-widgets/controls",
      "model_module_version": "1.5.0",
      "model_name": "HTMLModel",
      "state": {
       "_dom_classes": [],
       "_model_module": "@jupyter-widgets/controls",
       "_model_module_version": "1.5.0",
       "_model_name": "HTMLModel",
       "_view_count": null,
       "_view_module": "@jupyter-widgets/controls",
       "_view_module_version": "1.5.0",
       "_view_name": "HTMLView",
       "description": "",
       "description_tooltip": null,
       "layout": "IPY_MODEL_3c715e20667b4f0c82c5cbc080fe5a94",
       "placeholder": "​",
       "style": "IPY_MODEL_7d3879df33ba4700a849feb20a4a170c",
       "value": "100%"
      }
     },
     "3c715e20667b4f0c82c5cbc080fe5a94": {
      "model_module": "@jupyter-widgets/base",
      "model_module_version": "1.2.0",
      "model_name": "LayoutModel",
      "state": {
       "_model_module": "@jupyter-widgets/base",
       "_model_module_version": "1.2.0",
       "_model_name": "LayoutModel",
       "_view_count": null,
       "_view_module": "@jupyter-widgets/base",
       "_view_module_version": "1.2.0",
       "_view_name": "LayoutView",
       "align_content": null,
       "align_items": null,
       "align_self": null,
       "border": null,
       "bottom": null,
       "display": null,
       "flex": null,
       "flex_flow": null,
       "grid_area": null,
       "grid_auto_columns": null,
       "grid_auto_flow": null,
       "grid_auto_rows": null,
       "grid_column": null,
       "grid_gap": null,
       "grid_row": null,
       "grid_template_areas": null,
       "grid_template_columns": null,
       "grid_template_rows": null,
       "height": null,
       "justify_content": null,
       "justify_items": null,
       "left": null,
       "margin": null,
       "max_height": null,
       "max_width": null,
       "min_height": null,
       "min_width": null,
       "object_fit": null,
       "object_position": null,
       "order": null,
       "overflow": null,
       "overflow_x": null,
       "overflow_y": null,
       "padding": null,
       "right": null,
       "top": null,
       "visibility": null,
       "width": null
      }
     },
     "3df2bbd1018b4e818ce8d591e15ec58d": {
      "model_module": "@jupyter-widgets/base",
      "model_module_version": "1.2.0",
      "model_name": "LayoutModel",
      "state": {
       "_model_module": "@jupyter-widgets/base",
       "_model_module_version": "1.2.0",
       "_model_name": "LayoutModel",
       "_view_count": null,
       "_view_module": "@jupyter-widgets/base",
       "_view_module_version": "1.2.0",
       "_view_name": "LayoutView",
       "align_content": null,
       "align_items": null,
       "align_self": null,
       "border": null,
       "bottom": null,
       "display": null,
       "flex": null,
       "flex_flow": null,
       "grid_area": null,
       "grid_auto_columns": null,
       "grid_auto_flow": null,
       "grid_auto_rows": null,
       "grid_column": null,
       "grid_gap": null,
       "grid_row": null,
       "grid_template_areas": null,
       "grid_template_columns": null,
       "grid_template_rows": null,
       "height": null,
       "justify_content": null,
       "justify_items": null,
       "left": null,
       "margin": null,
       "max_height": null,
       "max_width": null,
       "min_height": null,
       "min_width": null,
       "object_fit": null,
       "object_position": null,
       "order": null,
       "overflow": null,
       "overflow_x": null,
       "overflow_y": null,
       "padding": null,
       "right": null,
       "top": null,
       "visibility": null,
       "width": null
      }
     },
     "3e554d0b6e434f7eb1d80567fde52ea5": {
      "model_module": "@jupyter-widgets/base",
      "model_module_version": "1.2.0",
      "model_name": "LayoutModel",
      "state": {
       "_model_module": "@jupyter-widgets/base",
       "_model_module_version": "1.2.0",
       "_model_name": "LayoutModel",
       "_view_count": null,
       "_view_module": "@jupyter-widgets/base",
       "_view_module_version": "1.2.0",
       "_view_name": "LayoutView",
       "align_content": null,
       "align_items": null,
       "align_self": null,
       "border": null,
       "bottom": null,
       "display": null,
       "flex": null,
       "flex_flow": null,
       "grid_area": null,
       "grid_auto_columns": null,
       "grid_auto_flow": null,
       "grid_auto_rows": null,
       "grid_column": null,
       "grid_gap": null,
       "grid_row": null,
       "grid_template_areas": null,
       "grid_template_columns": null,
       "grid_template_rows": null,
       "height": null,
       "justify_content": null,
       "justify_items": null,
       "left": null,
       "margin": null,
       "max_height": null,
       "max_width": null,
       "min_height": null,
       "min_width": null,
       "object_fit": null,
       "object_position": null,
       "order": null,
       "overflow": null,
       "overflow_x": null,
       "overflow_y": null,
       "padding": null,
       "right": null,
       "top": null,
       "visibility": null,
       "width": null
      }
     },
     "3f52a8c68312418b8151a22993aa5a4c": {
      "model_module": "@jupyter-widgets/controls",
      "model_module_version": "1.5.0",
      "model_name": "HTMLModel",
      "state": {
       "_dom_classes": [],
       "_model_module": "@jupyter-widgets/controls",
       "_model_module_version": "1.5.0",
       "_model_name": "HTMLModel",
       "_view_count": null,
       "_view_module": "@jupyter-widgets/controls",
       "_view_module_version": "1.5.0",
       "_view_name": "HTMLView",
       "description": "",
       "description_tooltip": null,
       "layout": "IPY_MODEL_4237b551faf64ac293fa77f4c6fc35d4",
       "placeholder": "​",
       "style": "IPY_MODEL_b3c1ef8cd20249ee80e871ab04810b29",
       "value": "100%"
      }
     },
     "3fbca19292bc433880da1b602b01d13a": {
      "model_module": "@jupyter-widgets/controls",
      "model_module_version": "1.5.0",
      "model_name": "HBoxModel",
      "state": {
       "_dom_classes": [],
       "_model_module": "@jupyter-widgets/controls",
       "_model_module_version": "1.5.0",
       "_model_name": "HBoxModel",
       "_view_count": null,
       "_view_module": "@jupyter-widgets/controls",
       "_view_module_version": "1.5.0",
       "_view_name": "HBoxView",
       "box_style": "",
       "children": [
        "IPY_MODEL_13976253b5e446c59f72f5bc157fe9b2",
        "IPY_MODEL_362b5bc84846434fb54cc94e88641f5e",
        "IPY_MODEL_6ec827aa370c4defb32676d50ae198a1"
       ],
       "layout": "IPY_MODEL_3df2bbd1018b4e818ce8d591e15ec58d"
      }
     },
     "40416944b6c6442cb2702bb582f9a506": {
      "model_module": "@jupyter-widgets/base",
      "model_module_version": "1.2.0",
      "model_name": "LayoutModel",
      "state": {
       "_model_module": "@jupyter-widgets/base",
       "_model_module_version": "1.2.0",
       "_model_name": "LayoutModel",
       "_view_count": null,
       "_view_module": "@jupyter-widgets/base",
       "_view_module_version": "1.2.0",
       "_view_name": "LayoutView",
       "align_content": null,
       "align_items": null,
       "align_self": null,
       "border": null,
       "bottom": null,
       "display": null,
       "flex": null,
       "flex_flow": null,
       "grid_area": null,
       "grid_auto_columns": null,
       "grid_auto_flow": null,
       "grid_auto_rows": null,
       "grid_column": null,
       "grid_gap": null,
       "grid_row": null,
       "grid_template_areas": null,
       "grid_template_columns": null,
       "grid_template_rows": null,
       "height": null,
       "justify_content": null,
       "justify_items": null,
       "left": null,
       "margin": null,
       "max_height": null,
       "max_width": null,
       "min_height": null,
       "min_width": null,
       "object_fit": null,
       "object_position": null,
       "order": null,
       "overflow": null,
       "overflow_x": null,
       "overflow_y": null,
       "padding": null,
       "right": null,
       "top": null,
       "visibility": null,
       "width": null
      }
     },
     "4237b551faf64ac293fa77f4c6fc35d4": {
      "model_module": "@jupyter-widgets/base",
      "model_module_version": "1.2.0",
      "model_name": "LayoutModel",
      "state": {
       "_model_module": "@jupyter-widgets/base",
       "_model_module_version": "1.2.0",
       "_model_name": "LayoutModel",
       "_view_count": null,
       "_view_module": "@jupyter-widgets/base",
       "_view_module_version": "1.2.0",
       "_view_name": "LayoutView",
       "align_content": null,
       "align_items": null,
       "align_self": null,
       "border": null,
       "bottom": null,
       "display": null,
       "flex": null,
       "flex_flow": null,
       "grid_area": null,
       "grid_auto_columns": null,
       "grid_auto_flow": null,
       "grid_auto_rows": null,
       "grid_column": null,
       "grid_gap": null,
       "grid_row": null,
       "grid_template_areas": null,
       "grid_template_columns": null,
       "grid_template_rows": null,
       "height": null,
       "justify_content": null,
       "justify_items": null,
       "left": null,
       "margin": null,
       "max_height": null,
       "max_width": null,
       "min_height": null,
       "min_width": null,
       "object_fit": null,
       "object_position": null,
       "order": null,
       "overflow": null,
       "overflow_x": null,
       "overflow_y": null,
       "padding": null,
       "right": null,
       "top": null,
       "visibility": null,
       "width": null
      }
     },
     "4402e22fb21b4ed59abb00f549e771a6": {
      "model_module": "@jupyter-widgets/controls",
      "model_module_version": "1.5.0",
      "model_name": "DescriptionStyleModel",
      "state": {
       "_model_module": "@jupyter-widgets/controls",
       "_model_module_version": "1.5.0",
       "_model_name": "DescriptionStyleModel",
       "_view_count": null,
       "_view_module": "@jupyter-widgets/base",
       "_view_module_version": "1.2.0",
       "_view_name": "StyleView",
       "description_width": ""
      }
     },
     "4427aba61f7c4daf8d85ea4d842aa439": {
      "model_module": "@jupyter-widgets/controls",
      "model_module_version": "1.5.0",
      "model_name": "ProgressStyleModel",
      "state": {
       "_model_module": "@jupyter-widgets/controls",
       "_model_module_version": "1.5.0",
       "_model_name": "ProgressStyleModel",
       "_view_count": null,
       "_view_module": "@jupyter-widgets/base",
       "_view_module_version": "1.2.0",
       "_view_name": "StyleView",
       "bar_color": null,
       "description_width": ""
      }
     },
     "477d3b14ef5a467f852aca35dc838053": {
      "model_module": "@jupyter-widgets/controls",
      "model_module_version": "1.5.0",
      "model_name": "DescriptionStyleModel",
      "state": {
       "_model_module": "@jupyter-widgets/controls",
       "_model_module_version": "1.5.0",
       "_model_name": "DescriptionStyleModel",
       "_view_count": null,
       "_view_module": "@jupyter-widgets/base",
       "_view_module_version": "1.2.0",
       "_view_name": "StyleView",
       "description_width": ""
      }
     },
     "47f89dbe87614ba58a0d47d7532677cf": {
      "model_module": "@jupyter-widgets/base",
      "model_module_version": "1.2.0",
      "model_name": "LayoutModel",
      "state": {
       "_model_module": "@jupyter-widgets/base",
       "_model_module_version": "1.2.0",
       "_model_name": "LayoutModel",
       "_view_count": null,
       "_view_module": "@jupyter-widgets/base",
       "_view_module_version": "1.2.0",
       "_view_name": "LayoutView",
       "align_content": null,
       "align_items": null,
       "align_self": null,
       "border": null,
       "bottom": null,
       "display": null,
       "flex": null,
       "flex_flow": null,
       "grid_area": null,
       "grid_auto_columns": null,
       "grid_auto_flow": null,
       "grid_auto_rows": null,
       "grid_column": null,
       "grid_gap": null,
       "grid_row": null,
       "grid_template_areas": null,
       "grid_template_columns": null,
       "grid_template_rows": null,
       "height": null,
       "justify_content": null,
       "justify_items": null,
       "left": null,
       "margin": null,
       "max_height": null,
       "max_width": null,
       "min_height": null,
       "min_width": null,
       "object_fit": null,
       "object_position": null,
       "order": null,
       "overflow": null,
       "overflow_x": null,
       "overflow_y": null,
       "padding": null,
       "right": null,
       "top": null,
       "visibility": null,
       "width": null
      }
     },
     "4a7e2a87d52640baa70352bc23f86b4e": {
      "model_module": "@jupyter-widgets/controls",
      "model_module_version": "1.5.0",
      "model_name": "HTMLModel",
      "state": {
       "_dom_classes": [],
       "_model_module": "@jupyter-widgets/controls",
       "_model_module_version": "1.5.0",
       "_model_name": "HTMLModel",
       "_view_count": null,
       "_view_module": "@jupyter-widgets/controls",
       "_view_module_version": "1.5.0",
       "_view_name": "HTMLView",
       "description": "",
       "description_tooltip": null,
       "layout": "IPY_MODEL_5b678ead21164e39bb9cab1f63705466",
       "placeholder": "​",
       "style": "IPY_MODEL_4402e22fb21b4ed59abb00f549e771a6",
       "value": " 170M/170M [00:02&lt;00:00, 72.7MB/s]"
      }
     },
     "4ab4bedb31874e15a7a231106d0cb299": {
      "model_module": "@jupyter-widgets/controls",
      "model_module_version": "1.5.0",
      "model_name": "HBoxModel",
      "state": {
       "_dom_classes": [],
       "_model_module": "@jupyter-widgets/controls",
       "_model_module_version": "1.5.0",
       "_model_name": "HBoxModel",
       "_view_count": null,
       "_view_module": "@jupyter-widgets/controls",
       "_view_module_version": "1.5.0",
       "_view_name": "HBoxView",
       "box_style": "",
       "children": [
        "IPY_MODEL_c5cf1a29d513458da06a427f9823a6ef",
        "IPY_MODEL_cc590a6645c64da5b679e85a83e900a7",
        "IPY_MODEL_8f45e25aa1bd4fd6baa952f48ab771bb"
       ],
       "layout": "IPY_MODEL_d826cbf77efb4b08aaebca96ddf08f6d"
      }
     },
     "4b42ea94b4d84f86a6f10be1bb07321c": {
      "model_module": "@jupyter-widgets/controls",
      "model_module_version": "1.5.0",
      "model_name": "FloatProgressModel",
      "state": {
       "_dom_classes": [],
       "_model_module": "@jupyter-widgets/controls",
       "_model_module_version": "1.5.0",
       "_model_name": "FloatProgressModel",
       "_view_count": null,
       "_view_module": "@jupyter-widgets/controls",
       "_view_module_version": "1.5.0",
       "_view_name": "ProgressView",
       "bar_style": "success",
       "description": "",
       "description_tooltip": null,
       "layout": "IPY_MODEL_d4a83b53bd5348cfa3adde2201de7732",
       "max": 22076649.0,
       "min": 0.0,
       "orientation": "horizontal",
       "style": "IPY_MODEL_8944cae59fa043a89d36bef26e37b3d4",
       "value": 22076649.0
      }
     },
     "4be43100b36643d7ae969580ff684a61": {
      "model_module": "@jupyter-widgets/controls",
      "model_module_version": "1.5.0",
      "model_name": "HTMLModel",
      "state": {
       "_dom_classes": [],
       "_model_module": "@jupyter-widgets/controls",
       "_model_module_version": "1.5.0",
       "_model_name": "HTMLModel",
       "_view_count": null,
       "_view_module": "@jupyter-widgets/controls",
       "_view_module_version": "1.5.0",
       "_view_name": "HTMLView",
       "description": "",
       "description_tooltip": null,
       "layout": "IPY_MODEL_58cf617d63754fbf93bb3d65c9d2b157",
       "placeholder": "​",
       "style": "IPY_MODEL_1bb2bdea5e4e42949e6963f59a5241cf",
       "value": " 94.3M/94.3M [00:01&lt;00:00, 75.6MB/s]"
      }
     },
     "4e25a4fac99b4c0683a52215d5586b26": {
      "model_module": "@jupyter-widgets/base",
      "model_module_version": "1.2.0",
      "model_name": "LayoutModel",
      "state": {
       "_model_module": "@jupyter-widgets/base",
       "_model_module_version": "1.2.0",
       "_model_name": "LayoutModel",
       "_view_count": null,
       "_view_module": "@jupyter-widgets/base",
       "_view_module_version": "1.2.0",
       "_view_name": "LayoutView",
       "align_content": null,
       "align_items": null,
       "align_self": null,
       "border": null,
       "bottom": null,
       "display": null,
       "flex": null,
       "flex_flow": null,
       "grid_area": null,
       "grid_auto_columns": null,
       "grid_auto_flow": null,
       "grid_auto_rows": null,
       "grid_column": null,
       "grid_gap": null,
       "grid_row": null,
       "grid_template_areas": null,
       "grid_template_columns": null,
       "grid_template_rows": null,
       "height": null,
       "justify_content": null,
       "justify_items": null,
       "left": null,
       "margin": null,
       "max_height": null,
       "max_width": null,
       "min_height": null,
       "min_width": null,
       "object_fit": null,
       "object_position": null,
       "order": null,
       "overflow": null,
       "overflow_x": null,
       "overflow_y": null,
       "padding": null,
       "right": null,
       "top": null,
       "visibility": null,
       "width": null
      }
     },
     "531588c8dfe64263b262c8c866fb762d": {
      "model_module": "@jupyter-widgets/base",
      "model_module_version": "1.2.0",
      "model_name": "LayoutModel",
      "state": {
       "_model_module": "@jupyter-widgets/base",
       "_model_module_version": "1.2.0",
       "_model_name": "LayoutModel",
       "_view_count": null,
       "_view_module": "@jupyter-widgets/base",
       "_view_module_version": "1.2.0",
       "_view_name": "LayoutView",
       "align_content": null,
       "align_items": null,
       "align_self": null,
       "border": null,
       "bottom": null,
       "display": null,
       "flex": null,
       "flex_flow": null,
       "grid_area": null,
       "grid_auto_columns": null,
       "grid_auto_flow": null,
       "grid_auto_rows": null,
       "grid_column": null,
       "grid_gap": null,
       "grid_row": null,
       "grid_template_areas": null,
       "grid_template_columns": null,
       "grid_template_rows": null,
       "height": null,
       "justify_content": null,
       "justify_items": null,
       "left": null,
       "margin": null,
       "max_height": null,
       "max_width": null,
       "min_height": null,
       "min_width": null,
       "object_fit": null,
       "object_position": null,
       "order": null,
       "overflow": null,
       "overflow_x": null,
       "overflow_y": null,
       "padding": null,
       "right": null,
       "top": null,
       "visibility": null,
       "width": null
      }
     },
     "537e2781051a4bc1a6528ee8bae78b17": {
      "model_module": "@jupyter-widgets/controls",
      "model_module_version": "1.5.0",
      "model_name": "DescriptionStyleModel",
      "state": {
       "_model_module": "@jupyter-widgets/controls",
       "_model_module_version": "1.5.0",
       "_model_name": "DescriptionStyleModel",
       "_view_count": null,
       "_view_module": "@jupyter-widgets/base",
       "_view_module_version": "1.2.0",
       "_view_name": "StyleView",
       "description_width": ""
      }
     },
     "539959e215ef483ba54e15f56f07918b": {
      "model_module": "@jupyter-widgets/controls",
      "model_module_version": "1.5.0",
      "model_name": "HBoxModel",
      "state": {
       "_dom_classes": [],
       "_model_module": "@jupyter-widgets/controls",
       "_model_module_version": "1.5.0",
       "_model_name": "HBoxModel",
       "_view_count": null,
       "_view_module": "@jupyter-widgets/controls",
       "_view_module_version": "1.5.0",
       "_view_name": "HBoxView",
       "box_style": "",
       "children": [
        "IPY_MODEL_3992c61cec72491da93d1faecdc0f01e",
        "IPY_MODEL_98c483910fe1447aa0234d35ff37d796",
        "IPY_MODEL_c34a74eae3b242e4b0f3f4633c5a86cf"
       ],
       "layout": "IPY_MODEL_a023556aa3674d6da9373d0cecef3c68"
      }
     },
     "547d55e5048e470281ea6a2141658dc6": {
      "model_module": "@jupyter-widgets/base",
      "model_module_version": "1.2.0",
      "model_name": "LayoutModel",
      "state": {
       "_model_module": "@jupyter-widgets/base",
       "_model_module_version": "1.2.0",
       "_model_name": "LayoutModel",
       "_view_count": null,
       "_view_module": "@jupyter-widgets/base",
       "_view_module_version": "1.2.0",
       "_view_name": "LayoutView",
       "align_content": null,
       "align_items": null,
       "align_self": null,
       "border": null,
       "bottom": null,
       "display": null,
       "flex": null,
       "flex_flow": null,
       "grid_area": null,
       "grid_auto_columns": null,
       "grid_auto_flow": null,
       "grid_auto_rows": null,
       "grid_column": null,
       "grid_gap": null,
       "grid_row": null,
       "grid_template_areas": null,
       "grid_template_columns": null,
       "grid_template_rows": null,
       "height": null,
       "justify_content": null,
       "justify_items": null,
       "left": null,
       "margin": null,
       "max_height": null,
       "max_width": null,
       "min_height": null,
       "min_width": null,
       "object_fit": null,
       "object_position": null,
       "order": null,
       "overflow": null,
       "overflow_x": null,
       "overflow_y": null,
       "padding": null,
       "right": null,
       "top": null,
       "visibility": null,
       "width": null
      }
     },
     "587c5759af7f464a8730dceb8d9d9e78": {
      "model_module": "@jupyter-widgets/controls",
      "model_module_version": "1.5.0",
      "model_name": "DescriptionStyleModel",
      "state": {
       "_model_module": "@jupyter-widgets/controls",
       "_model_module_version": "1.5.0",
       "_model_name": "DescriptionStyleModel",
       "_view_count": null,
       "_view_module": "@jupyter-widgets/base",
       "_view_module_version": "1.2.0",
       "_view_name": "StyleView",
       "description_width": ""
      }
     },
     "58a05162205f4f9da66f64290629465f": {
      "model_module": "@jupyter-widgets/controls",
      "model_module_version": "1.5.0",
      "model_name": "HTMLModel",
      "state": {
       "_dom_classes": [],
       "_model_module": "@jupyter-widgets/controls",
       "_model_module_version": "1.5.0",
       "_model_name": "HTMLModel",
       "_view_count": null,
       "_view_module": "@jupyter-widgets/controls",
       "_view_module_version": "1.5.0",
       "_view_name": "HTMLView",
       "description": "",
       "description_tooltip": null,
       "layout": "IPY_MODEL_7f0ee89dd07b4e22b72beb6209725c73",
       "placeholder": "​",
       "style": "IPY_MODEL_477d3b14ef5a467f852aca35dc838053",
       "value": "100%"
      }
     },
     "58cf617d63754fbf93bb3d65c9d2b157": {
      "model_module": "@jupyter-widgets/base",
      "model_module_version": "1.2.0",
      "model_name": "LayoutModel",
      "state": {
       "_model_module": "@jupyter-widgets/base",
       "_model_module_version": "1.2.0",
       "_model_name": "LayoutModel",
       "_view_count": null,
       "_view_module": "@jupyter-widgets/base",
       "_view_module_version": "1.2.0",
       "_view_name": "LayoutView",
       "align_content": null,
       "align_items": null,
       "align_self": null,
       "border": null,
       "bottom": null,
       "display": null,
       "flex": null,
       "flex_flow": null,
       "grid_area": null,
       "grid_auto_columns": null,
       "grid_auto_flow": null,
       "grid_auto_rows": null,
       "grid_column": null,
       "grid_gap": null,
       "grid_row": null,
       "grid_template_areas": null,
       "grid_template_columns": null,
       "grid_template_rows": null,
       "height": null,
       "justify_content": null,
       "justify_items": null,
       "left": null,
       "margin": null,
       "max_height": null,
       "max_width": null,
       "min_height": null,
       "min_width": null,
       "object_fit": null,
       "object_position": null,
       "order": null,
       "overflow": null,
       "overflow_x": null,
       "overflow_y": null,
       "padding": null,
       "right": null,
       "top": null,
       "visibility": null,
       "width": null
      }
     },
     "598811c3c7584999ae77866107b50f7a": {
      "model_module": "@jupyter-widgets/controls",
      "model_module_version": "1.5.0",
      "model_name": "DescriptionStyleModel",
      "state": {
       "_model_module": "@jupyter-widgets/controls",
       "_model_module_version": "1.5.0",
       "_model_name": "DescriptionStyleModel",
       "_view_count": null,
       "_view_module": "@jupyter-widgets/base",
       "_view_module_version": "1.2.0",
       "_view_name": "StyleView",
       "description_width": ""
      }
     },
     "59f6c3fae75941bca22d7f5207cde133": {
      "model_module": "@jupyter-widgets/controls",
      "model_module_version": "1.5.0",
      "model_name": "HBoxModel",
      "state": {
       "_dom_classes": [],
       "_model_module": "@jupyter-widgets/controls",
       "_model_module_version": "1.5.0",
       "_model_name": "HBoxModel",
       "_view_count": null,
       "_view_module": "@jupyter-widgets/controls",
       "_view_module_version": "1.5.0",
       "_view_name": "HBoxView",
       "box_style": "",
       "children": [
        "IPY_MODEL_b4b430e2362e4918af4e7d1609cbb604",
        "IPY_MODEL_4b42ea94b4d84f86a6f10be1bb07321c",
        "IPY_MODEL_c37b1e82199149149e07db6c790d7766"
       ],
       "layout": "IPY_MODEL_663907b8249d46d982fca68be943e0d0"
      }
     },
     "5b678ead21164e39bb9cab1f63705466": {
      "model_module": "@jupyter-widgets/base",
      "model_module_version": "1.2.0",
      "model_name": "LayoutModel",
      "state": {
       "_model_module": "@jupyter-widgets/base",
       "_model_module_version": "1.2.0",
       "_model_name": "LayoutModel",
       "_view_count": null,
       "_view_module": "@jupyter-widgets/base",
       "_view_module_version": "1.2.0",
       "_view_name": "LayoutView",
       "align_content": null,
       "align_items": null,
       "align_self": null,
       "border": null,
       "bottom": null,
       "display": null,
       "flex": null,
       "flex_flow": null,
       "grid_area": null,
       "grid_auto_columns": null,
       "grid_auto_flow": null,
       "grid_auto_rows": null,
       "grid_column": null,
       "grid_gap": null,
       "grid_row": null,
       "grid_template_areas": null,
       "grid_template_columns": null,
       "grid_template_rows": null,
       "height": null,
       "justify_content": null,
       "justify_items": null,
       "left": null,
       "margin": null,
       "max_height": null,
       "max_width": null,
       "min_height": null,
       "min_width": null,
       "object_fit": null,
       "object_position": null,
       "order": null,
       "overflow": null,
       "overflow_x": null,
       "overflow_y": null,
       "padding": null,
       "right": null,
       "top": null,
       "visibility": null,
       "width": null
      }
     },
     "5d9e18fee7a04af99509d39c7d8f2b6c": {
      "model_module": "@jupyter-widgets/controls",
      "model_module_version": "1.5.0",
      "model_name": "ProgressStyleModel",
      "state": {
       "_model_module": "@jupyter-widgets/controls",
       "_model_module_version": "1.5.0",
       "_model_name": "ProgressStyleModel",
       "_view_count": null,
       "_view_module": "@jupyter-widgets/base",
       "_view_module_version": "1.2.0",
       "_view_name": "StyleView",
       "bar_color": null,
       "description_width": ""
      }
     },
     "5de90bc64e6f438baa63b2b33e05bdbb": {
      "model_module": "@jupyter-widgets/controls",
      "model_module_version": "1.5.0",
      "model_name": "DescriptionStyleModel",
      "state": {
       "_model_module": "@jupyter-widgets/controls",
       "_model_module_version": "1.5.0",
       "_model_name": "DescriptionStyleModel",
       "_view_count": null,
       "_view_module": "@jupyter-widgets/base",
       "_view_module_version": "1.2.0",
       "_view_name": "StyleView",
       "description_width": ""
      }
     },
     "6344165a6515459b9eed64d7f904b225": {
      "model_module": "@jupyter-widgets/controls",
      "model_module_version": "1.5.0",
      "model_name": "HTMLModel",
      "state": {
       "_dom_classes": [],
       "_model_module": "@jupyter-widgets/controls",
       "_model_module_version": "1.5.0",
       "_model_name": "HTMLModel",
       "_view_count": null,
       "_view_module": "@jupyter-widgets/controls",
       "_view_module_version": "1.5.0",
       "_view_name": "HTMLView",
       "description": "",
       "description_tooltip": null,
       "layout": "IPY_MODEL_40416944b6c6442cb2702bb582f9a506",
       "placeholder": "​",
       "style": "IPY_MODEL_67099d8380d048e3ae275e23123d9151",
       "value": " 254M/254M [00:03&lt;00:00, 76.0MB/s]"
      }
     },
     "63d4abd34f294d5c880da899e59a1fe9": {
      "model_module": "@jupyter-widgets/controls",
      "model_module_version": "1.5.0",
      "model_name": "HTMLModel",
      "state": {
       "_dom_classes": [],
       "_model_module": "@jupyter-widgets/controls",
       "_model_module_version": "1.5.0",
       "_model_name": "HTMLModel",
       "_view_count": null,
       "_view_module": "@jupyter-widgets/controls",
       "_view_module_version": "1.5.0",
       "_view_name": "HTMLView",
       "description": "",
       "description_tooltip": null,
       "layout": "IPY_MODEL_668d143f72be4f84822f698e7e9c749e",
       "placeholder": "​",
       "style": "IPY_MODEL_537e2781051a4bc1a6528ee8bae78b17",
       "value": " 74.4M/74.4M [00:00&lt;00:00, 103MB/s]"
      }
     },
     "640bdbcd729f414293f5245de8694398": {
      "model_module": "@jupyter-widgets/base",
      "model_module_version": "1.2.0",
      "model_name": "LayoutModel",
      "state": {
       "_model_module": "@jupyter-widgets/base",
       "_model_module_version": "1.2.0",
       "_model_name": "LayoutModel",
       "_view_count": null,
       "_view_module": "@jupyter-widgets/base",
       "_view_module_version": "1.2.0",
       "_view_name": "LayoutView",
       "align_content": null,
       "align_items": null,
       "align_self": null,
       "border": null,
       "bottom": null,
       "display": null,
       "flex": null,
       "flex_flow": null,
       "grid_area": null,
       "grid_auto_columns": null,
       "grid_auto_flow": null,
       "grid_auto_rows": null,
       "grid_column": null,
       "grid_gap": null,
       "grid_row": null,
       "grid_template_areas": null,
       "grid_template_columns": null,
       "grid_template_rows": null,
       "height": null,
       "justify_content": null,
       "justify_items": null,
       "left": null,
       "margin": null,
       "max_height": null,
       "max_width": null,
       "min_height": null,
       "min_width": null,
       "object_fit": null,
       "object_position": null,
       "order": null,
       "overflow": null,
       "overflow_x": null,
       "overflow_y": null,
       "padding": null,
       "right": null,
       "top": null,
       "visibility": null,
       "width": null
      }
     },
     "6440a912534d45cbb62e0368411ed056": {
      "model_module": "@jupyter-widgets/controls",
      "model_module_version": "1.5.0",
      "model_name": "HTMLModel",
      "state": {
       "_dom_classes": [],
       "_model_module": "@jupyter-widgets/controls",
       "_model_module_version": "1.5.0",
       "_model_name": "HTMLModel",
       "_view_count": null,
       "_view_module": "@jupyter-widgets/controls",
       "_view_module_version": "1.5.0",
       "_view_name": "HTMLView",
       "description": "",
       "description_tooltip": null,
       "layout": "IPY_MODEL_86e1b882b40b4489ae3d7eb989e7e0ae",
       "placeholder": "​",
       "style": "IPY_MODEL_2d850b5ef37c40eb866cfa51d8674385",
       "value": " 234M/234M [00:03&lt;00:00, 74.7MB/s]"
      }
     },
     "65f29aa914164e9884d47d72f9ffa09b": {
      "model_module": "@jupyter-widgets/base",
      "model_module_version": "1.2.0",
      "model_name": "LayoutModel",
      "state": {
       "_model_module": "@jupyter-widgets/base",
       "_model_module_version": "1.2.0",
       "_model_name": "LayoutModel",
       "_view_count": null,
       "_view_module": "@jupyter-widgets/base",
       "_view_module_version": "1.2.0",
       "_view_name": "LayoutView",
       "align_content": null,
       "align_items": null,
       "align_self": null,
       "border": null,
       "bottom": null,
       "display": null,
       "flex": null,
       "flex_flow": null,
       "grid_area": null,
       "grid_auto_columns": null,
       "grid_auto_flow": null,
       "grid_auto_rows": null,
       "grid_column": null,
       "grid_gap": null,
       "grid_row": null,
       "grid_template_areas": null,
       "grid_template_columns": null,
       "grid_template_rows": null,
       "height": null,
       "justify_content": null,
       "justify_items": null,
       "left": null,
       "margin": null,
       "max_height": null,
       "max_width": null,
       "min_height": null,
       "min_width": null,
       "object_fit": null,
       "object_position": null,
       "order": null,
       "overflow": null,
       "overflow_x": null,
       "overflow_y": null,
       "padding": null,
       "right": null,
       "top": null,
       "visibility": null,
       "width": null
      }
     },
     "663907b8249d46d982fca68be943e0d0": {
      "model_module": "@jupyter-widgets/base",
      "model_module_version": "1.2.0",
      "model_name": "LayoutModel",
      "state": {
       "_model_module": "@jupyter-widgets/base",
       "_model_module_version": "1.2.0",
       "_model_name": "LayoutModel",
       "_view_count": null,
       "_view_module": "@jupyter-widgets/base",
       "_view_module_version": "1.2.0",
       "_view_name": "LayoutView",
       "align_content": null,
       "align_items": null,
       "align_self": null,
       "border": null,
       "bottom": null,
       "display": null,
       "flex": null,
       "flex_flow": null,
       "grid_area": null,
       "grid_auto_columns": null,
       "grid_auto_flow": null,
       "grid_auto_rows": null,
       "grid_column": null,
       "grid_gap": null,
       "grid_row": null,
       "grid_template_areas": null,
       "grid_template_columns": null,
       "grid_template_rows": null,
       "height": null,
       "justify_content": null,
       "justify_items": null,
       "left": null,
       "margin": null,
       "max_height": null,
       "max_width": null,
       "min_height": null,
       "min_width": null,
       "object_fit": null,
       "object_position": null,
       "order": null,
       "overflow": null,
       "overflow_x": null,
       "overflow_y": null,
       "padding": null,
       "right": null,
       "top": null,
       "visibility": null,
       "width": null
      }
     },
     "668d143f72be4f84822f698e7e9c749e": {
      "model_module": "@jupyter-widgets/base",
      "model_module_version": "1.2.0",
      "model_name": "LayoutModel",
      "state": {
       "_model_module": "@jupyter-widgets/base",
       "_model_module_version": "1.2.0",
       "_model_name": "LayoutModel",
       "_view_count": null,
       "_view_module": "@jupyter-widgets/base",
       "_view_module_version": "1.2.0",
       "_view_name": "LayoutView",
       "align_content": null,
       "align_items": null,
       "align_self": null,
       "border": null,
       "bottom": null,
       "display": null,
       "flex": null,
       "flex_flow": null,
       "grid_area": null,
       "grid_auto_columns": null,
       "grid_auto_flow": null,
       "grid_auto_rows": null,
       "grid_column": null,
       "grid_gap": null,
       "grid_row": null,
       "grid_template_areas": null,
       "grid_template_columns": null,
       "grid_template_rows": null,
       "height": null,
       "justify_content": null,
       "justify_items": null,
       "left": null,
       "margin": null,
       "max_height": null,
       "max_width": null,
       "min_height": null,
       "min_width": null,
       "object_fit": null,
       "object_position": null,
       "order": null,
       "overflow": null,
       "overflow_x": null,
       "overflow_y": null,
       "padding": null,
       "right": null,
       "top": null,
       "visibility": null,
       "width": null
      }
     },
     "67099d8380d048e3ae275e23123d9151": {
      "model_module": "@jupyter-widgets/controls",
      "model_module_version": "1.5.0",
      "model_name": "DescriptionStyleModel",
      "state": {
       "_model_module": "@jupyter-widgets/controls",
       "_model_module_version": "1.5.0",
       "_model_name": "DescriptionStyleModel",
       "_view_count": null,
       "_view_module": "@jupyter-widgets/base",
       "_view_module_version": "1.2.0",
       "_view_name": "StyleView",
       "description_width": ""
      }
     },
     "686c8543aed14754895aa8ce6d9be556": {
      "model_module": "@jupyter-widgets/controls",
      "model_module_version": "1.5.0",
      "model_name": "FloatProgressModel",
      "state": {
       "_dom_classes": [],
       "_model_module": "@jupyter-widgets/controls",
       "_model_module_version": "1.5.0",
       "_model_name": "FloatProgressModel",
       "_view_count": null,
       "_view_module": "@jupyter-widgets/controls",
       "_view_module_version": "1.5.0",
       "_view_name": "ProgressView",
       "bar_style": "success",
       "description": "",
       "description_tooltip": null,
       "layout": "IPY_MODEL_65f29aa914164e9884d47d72f9ffa09b",
       "max": 266860719.0,
       "min": 0.0,
       "orientation": "horizontal",
       "style": "IPY_MODEL_77980882502a4ac7859702cf16156ac5",
       "value": 266860719.0
      }
     },
     "6996d5d59eef41d08ba19f435b01ee15": {
      "model_module": "@jupyter-widgets/controls",
      "model_module_version": "1.5.0",
      "model_name": "HBoxModel",
      "state": {
       "_dom_classes": [],
       "_model_module": "@jupyter-widgets/controls",
       "_model_module_version": "1.5.0",
       "_model_name": "HBoxModel",
       "_view_count": null,
       "_view_module": "@jupyter-widgets/controls",
       "_view_module_version": "1.5.0",
       "_view_name": "HBoxView",
       "box_style": "",
       "children": [
        "IPY_MODEL_c978869c351948838d69f6ca678bf07c",
        "IPY_MODEL_35419a44613347ee93e61612d5465607",
        "IPY_MODEL_125c90f7e48140a984fd29a7bfdfa9a7"
       ],
       "layout": "IPY_MODEL_8eb5d76a9f9a45d79b867e3e2dbac645"
      }
     },
     "69f8879b44504cdf81624991f2a34f8c": {
      "model_module": "@jupyter-widgets/controls",
      "model_module_version": "1.5.0",
      "model_name": "FloatProgressModel",
      "state": {
       "_dom_classes": [],
       "_model_module": "@jupyter-widgets/controls",
       "_model_module_version": "1.5.0",
       "_model_name": "FloatProgressModel",
       "_view_count": null,
       "_view_module": "@jupyter-widgets/controls",
       "_view_module_version": "1.5.0",
       "_view_name": "ProgressView",
       "bar_style": "success",
       "description": "",
       "description_tooltip": null,
       "layout": "IPY_MODEL_82593cb9795247259de8735a76bc033c",
       "max": 102502400.0,
       "min": 0.0,
       "orientation": "horizontal",
       "style": "IPY_MODEL_5d9e18fee7a04af99509d39c7d8f2b6c",
       "value": 102502400.0
      }
     },
     "6ec827aa370c4defb32676d50ae198a1": {
      "model_module": "@jupyter-widgets/controls",
      "model_module_version": "1.5.0",
      "model_name": "HTMLModel",
      "state": {
       "_dom_classes": [],
       "_model_module": "@jupyter-widgets/controls",
       "_model_module_version": "1.5.0",
       "_model_name": "HTMLModel",
       "_view_count": null,
       "_view_module": "@jupyter-widgets/controls",
       "_view_module_version": "1.5.0",
       "_view_name": "HTMLView",
       "description": "",
       "description_tooltip": null,
       "layout": "IPY_MODEL_903f56161c7d469b92c7434a0e672255",
       "placeholder": "​",
       "style": "IPY_MODEL_1ea4014ee97d4e9ab2f573190e8d4675",
       "value": " 15.1M/15.1M [00:00&lt;00:00, 53.4MB/s]"
      }
     },
     "6f4540868a7c4c3fb0f112387ee24726": {
      "model_module": "@jupyter-widgets/controls",
      "model_module_version": "1.5.0",
      "model_name": "HBoxModel",
      "state": {
       "_dom_classes": [],
       "_model_module": "@jupyter-widgets/controls",
       "_model_module_version": "1.5.0",
       "_model_name": "HBoxModel",
       "_view_count": null,
       "_view_module": "@jupyter-widgets/controls",
       "_view_module_version": "1.5.0",
       "_view_name": "HBoxView",
       "box_style": "",
       "children": [
        "IPY_MODEL_05ccd9432fb44f31b7072376d2e4343f",
        "IPY_MODEL_9c008e16f7004f5cb1b72309815f6db3",
        "IPY_MODEL_c0407200abe74188a13973d98a38e9a0"
       ],
       "layout": "IPY_MODEL_96319d04bd654d938fd4e69acccd43f4"
      }
     },
     "70eb1dd7bd574dd78dedb30fe66bf0e3": {
      "model_module": "@jupyter-widgets/base",
      "model_module_version": "1.2.0",
      "model_name": "LayoutModel",
      "state": {
       "_model_module": "@jupyter-widgets/base",
       "_model_module_version": "1.2.0",
       "_model_name": "LayoutModel",
       "_view_count": null,
       "_view_module": "@jupyter-widgets/base",
       "_view_module_version": "1.2.0",
       "_view_name": "LayoutView",
       "align_content": null,
       "align_items": null,
       "align_self": null,
       "border": null,
       "bottom": null,
       "display": null,
       "flex": null,
       "flex_flow": null,
       "grid_area": null,
       "grid_auto_columns": null,
       "grid_auto_flow": null,
       "grid_auto_rows": null,
       "grid_column": null,
       "grid_gap": null,
       "grid_row": null,
       "grid_template_areas": null,
       "grid_template_columns": null,
       "grid_template_rows": null,
       "height": null,
       "justify_content": null,
       "justify_items": null,
       "left": null,
       "margin": null,
       "max_height": null,
       "max_width": null,
       "min_height": null,
       "min_width": null,
       "object_fit": null,
       "object_position": null,
       "order": null,
       "overflow": null,
       "overflow_x": null,
       "overflow_y": null,
       "padding": null,
       "right": null,
       "top": null,
       "visibility": null,
       "width": null
      }
     },
     "753179f2618a459186cb562e46207aaf": {
      "model_module": "@jupyter-widgets/controls",
      "model_module_version": "1.5.0",
      "model_name": "DescriptionStyleModel",
      "state": {
       "_model_module": "@jupyter-widgets/controls",
       "_model_module_version": "1.5.0",
       "_model_name": "DescriptionStyleModel",
       "_view_count": null,
       "_view_module": "@jupyter-widgets/base",
       "_view_module_version": "1.2.0",
       "_view_name": "StyleView",
       "description_width": ""
      }
     },
     "77980882502a4ac7859702cf16156ac5": {
      "model_module": "@jupyter-widgets/controls",
      "model_module_version": "1.5.0",
      "model_name": "ProgressStyleModel",
      "state": {
       "_model_module": "@jupyter-widgets/controls",
       "_model_module_version": "1.5.0",
       "_model_name": "ProgressStyleModel",
       "_view_count": null,
       "_view_module": "@jupyter-widgets/base",
       "_view_module_version": "1.2.0",
       "_view_name": "StyleView",
       "bar_color": null,
       "description_width": ""
      }
     },
     "7aac0fdf318b40bd9b39aa81b229dccf": {
      "model_module": "@jupyter-widgets/base",
      "model_module_version": "1.2.0",
      "model_name": "LayoutModel",
      "state": {
       "_model_module": "@jupyter-widgets/base",
       "_model_module_version": "1.2.0",
       "_model_name": "LayoutModel",
       "_view_count": null,
       "_view_module": "@jupyter-widgets/base",
       "_view_module_version": "1.2.0",
       "_view_name": "LayoutView",
       "align_content": null,
       "align_items": null,
       "align_self": null,
       "border": null,
       "bottom": null,
       "display": null,
       "flex": null,
       "flex_flow": null,
       "grid_area": null,
       "grid_auto_columns": null,
       "grid_auto_flow": null,
       "grid_auto_rows": null,
       "grid_column": null,
       "grid_gap": null,
       "grid_row": null,
       "grid_template_areas": null,
       "grid_template_columns": null,
       "grid_template_rows": null,
       "height": null,
       "justify_content": null,
       "justify_items": null,
       "left": null,
       "margin": null,
       "max_height": null,
       "max_width": null,
       "min_height": null,
       "min_width": null,
       "object_fit": null,
       "object_position": null,
       "order": null,
       "overflow": null,
       "overflow_x": null,
       "overflow_y": null,
       "padding": null,
       "right": null,
       "top": null,
       "visibility": null,
       "width": null
      }
     },
     "7bf8d529839e4714bd9c5b90fac6fa96": {
      "model_module": "@jupyter-widgets/controls",
      "model_module_version": "1.5.0",
      "model_name": "ProgressStyleModel",
      "state": {
       "_model_module": "@jupyter-widgets/controls",
       "_model_module_version": "1.5.0",
       "_model_name": "ProgressStyleModel",
       "_view_count": null,
       "_view_module": "@jupyter-widgets/base",
       "_view_module_version": "1.2.0",
       "_view_name": "StyleView",
       "bar_color": null,
       "description_width": ""
      }
     },
     "7cb4952f3d5046bdb2818e82550a5eab": {
      "model_module": "@jupyter-widgets/controls",
      "model_module_version": "1.5.0",
      "model_name": "DescriptionStyleModel",
      "state": {
       "_model_module": "@jupyter-widgets/controls",
       "_model_module_version": "1.5.0",
       "_model_name": "DescriptionStyleModel",
       "_view_count": null,
       "_view_module": "@jupyter-widgets/base",
       "_view_module_version": "1.2.0",
       "_view_name": "StyleView",
       "description_width": ""
      }
     },
     "7cc9a64e33714d1790249a30148db64b": {
      "model_module": "@jupyter-widgets/base",
      "model_module_version": "1.2.0",
      "model_name": "LayoutModel",
      "state": {
       "_model_module": "@jupyter-widgets/base",
       "_model_module_version": "1.2.0",
       "_model_name": "LayoutModel",
       "_view_count": null,
       "_view_module": "@jupyter-widgets/base",
       "_view_module_version": "1.2.0",
       "_view_name": "LayoutView",
       "align_content": null,
       "align_items": null,
       "align_self": null,
       "border": null,
       "bottom": null,
       "display": null,
       "flex": null,
       "flex_flow": null,
       "grid_area": null,
       "grid_auto_columns": null,
       "grid_auto_flow": null,
       "grid_auto_rows": null,
       "grid_column": null,
       "grid_gap": null,
       "grid_row": null,
       "grid_template_areas": null,
       "grid_template_columns": null,
       "grid_template_rows": null,
       "height": null,
       "justify_content": null,
       "justify_items": null,
       "left": null,
       "margin": null,
       "max_height": null,
       "max_width": null,
       "min_height": null,
       "min_width": null,
       "object_fit": null,
       "object_position": null,
       "order": null,
       "overflow": null,
       "overflow_x": null,
       "overflow_y": null,
       "padding": null,
       "right": null,
       "top": null,
       "visibility": null,
       "width": null
      }
     },
     "7d3879df33ba4700a849feb20a4a170c": {
      "model_module": "@jupyter-widgets/controls",
      "model_module_version": "1.5.0",
      "model_name": "DescriptionStyleModel",
      "state": {
       "_model_module": "@jupyter-widgets/controls",
       "_model_module_version": "1.5.0",
       "_model_name": "DescriptionStyleModel",
       "_view_count": null,
       "_view_module": "@jupyter-widgets/base",
       "_view_module_version": "1.2.0",
       "_view_name": "StyleView",
       "description_width": ""
      }
     },
     "7eab960fd9354e3e89c3a1c814ae9699": {
      "model_module": "@jupyter-widgets/controls",
      "model_module_version": "1.5.0",
      "model_name": "DescriptionStyleModel",
      "state": {
       "_model_module": "@jupyter-widgets/controls",
       "_model_module_version": "1.5.0",
       "_model_name": "DescriptionStyleModel",
       "_view_count": null,
       "_view_module": "@jupyter-widgets/base",
       "_view_module_version": "1.2.0",
       "_view_name": "StyleView",
       "description_width": ""
      }
     },
     "7f0ee89dd07b4e22b72beb6209725c73": {
      "model_module": "@jupyter-widgets/base",
      "model_module_version": "1.2.0",
      "model_name": "LayoutModel",
      "state": {
       "_model_module": "@jupyter-widgets/base",
       "_model_module_version": "1.2.0",
       "_model_name": "LayoutModel",
       "_view_count": null,
       "_view_module": "@jupyter-widgets/base",
       "_view_module_version": "1.2.0",
       "_view_name": "LayoutView",
       "align_content": null,
       "align_items": null,
       "align_self": null,
       "border": null,
       "bottom": null,
       "display": null,
       "flex": null,
       "flex_flow": null,
       "grid_area": null,
       "grid_auto_columns": null,
       "grid_auto_flow": null,
       "grid_auto_rows": null,
       "grid_column": null,
       "grid_gap": null,
       "grid_row": null,
       "grid_template_areas": null,
       "grid_template_columns": null,
       "grid_template_rows": null,
       "height": null,
       "justify_content": null,
       "justify_items": null,
       "left": null,
       "margin": null,
       "max_height": null,
       "max_width": null,
       "min_height": null,
       "min_width": null,
       "object_fit": null,
       "object_position": null,
       "order": null,
       "overflow": null,
       "overflow_x": null,
       "overflow_y": null,
       "padding": null,
       "right": null,
       "top": null,
       "visibility": null,
       "width": null
      }
     },
     "7fb45e560b8f43e28478fa97d050c0c0": {
      "model_module": "@jupyter-widgets/controls",
      "model_module_version": "1.5.0",
      "model_name": "HBoxModel",
      "state": {
       "_dom_classes": [],
       "_model_module": "@jupyter-widgets/controls",
       "_model_module_version": "1.5.0",
       "_model_name": "HBoxModel",
       "_view_count": null,
       "_view_module": "@jupyter-widgets/controls",
       "_view_module_version": "1.5.0",
       "_view_name": "HBoxView",
       "box_style": "",
       "children": [
        "IPY_MODEL_9176cd392e7c4ad3bb9ddc56e5bb9742",
        "IPY_MODEL_c7d20f46efd34bed87e3f9cde409a0cf",
        "IPY_MODEL_63d4abd34f294d5c880da899e59a1fe9"
       ],
       "layout": "IPY_MODEL_d9dad96b8c5341de88fe0918dfd409a9"
      }
     },
     "7fcf0234a7f04182974ae1662da39667": {
      "model_module": "@jupyter-widgets/base",
      "model_module_version": "1.2.0",
      "model_name": "LayoutModel",
      "state": {
       "_model_module": "@jupyter-widgets/base",
       "_model_module_version": "1.2.0",
       "_model_name": "LayoutModel",
       "_view_count": null,
       "_view_module": "@jupyter-widgets/base",
       "_view_module_version": "1.2.0",
       "_view_name": "LayoutView",
       "align_content": null,
       "align_items": null,
       "align_self": null,
       "border": null,
       "bottom": null,
       "display": null,
       "flex": null,
       "flex_flow": null,
       "grid_area": null,
       "grid_auto_columns": null,
       "grid_auto_flow": null,
       "grid_auto_rows": null,
       "grid_column": null,
       "grid_gap": null,
       "grid_row": null,
       "grid_template_areas": null,
       "grid_template_columns": null,
       "grid_template_rows": null,
       "height": null,
       "justify_content": null,
       "justify_items": null,
       "left": null,
       "margin": null,
       "max_height": null,
       "max_width": null,
       "min_height": null,
       "min_width": null,
       "object_fit": null,
       "object_position": null,
       "order": null,
       "overflow": null,
       "overflow_x": null,
       "overflow_y": null,
       "padding": null,
       "right": null,
       "top": null,
       "visibility": null,
       "width": null
      }
     },
     "8061821edf204cf09bffb2a5370ce298": {
      "model_module": "@jupyter-widgets/base",
      "model_module_version": "1.2.0",
      "model_name": "LayoutModel",
      "state": {
       "_model_module": "@jupyter-widgets/base",
       "_model_module_version": "1.2.0",
       "_model_name": "LayoutModel",
       "_view_count": null,
       "_view_module": "@jupyter-widgets/base",
       "_view_module_version": "1.2.0",
       "_view_name": "LayoutView",
       "align_content": null,
       "align_items": null,
       "align_self": null,
       "border": null,
       "bottom": null,
       "display": null,
       "flex": null,
       "flex_flow": null,
       "grid_area": null,
       "grid_auto_columns": null,
       "grid_auto_flow": null,
       "grid_auto_rows": null,
       "grid_column": null,
       "grid_gap": null,
       "grid_row": null,
       "grid_template_areas": null,
       "grid_template_columns": null,
       "grid_template_rows": null,
       "height": null,
       "justify_content": null,
       "justify_items": null,
       "left": null,
       "margin": null,
       "max_height": null,
       "max_width": null,
       "min_height": null,
       "min_width": null,
       "object_fit": null,
       "object_position": null,
       "order": null,
       "overflow": null,
       "overflow_x": null,
       "overflow_y": null,
       "padding": null,
       "right": null,
       "top": null,
       "visibility": null,
       "width": null
      }
     },
     "82324fd48ccb4a26bf0877d56776e9b8": {
      "model_module": "@jupyter-widgets/controls",
      "model_module_version": "1.5.0",
      "model_name": "FloatProgressModel",
      "state": {
       "_dom_classes": [],
       "_model_module": "@jupyter-widgets/controls",
       "_model_module_version": "1.5.0",
       "_model_name": "FloatProgressModel",
       "_view_count": null,
       "_view_module": "@jupyter-widgets/controls",
       "_view_module_version": "1.5.0",
       "_view_name": "ProgressView",
       "bar_style": "success",
       "description": "",
       "description_tooltip": null,
       "layout": "IPY_MODEL_4e25a4fac99b4c0683a52215d5586b26",
       "max": 16097377.0,
       "min": 0.0,
       "orientation": "horizontal",
       "style": "IPY_MODEL_a8610ce81cac44188c35794fe006df67",
       "value": 16097377.0
      }
     },
     "82593cb9795247259de8735a76bc033c": {
      "model_module": "@jupyter-widgets/base",
      "model_module_version": "1.2.0",
      "model_name": "LayoutModel",
      "state": {
       "_model_module": "@jupyter-widgets/base",
       "_model_module_version": "1.2.0",
       "_model_name": "LayoutModel",
       "_view_count": null,
       "_view_module": "@jupyter-widgets/base",
       "_view_module_version": "1.2.0",
       "_view_name": "LayoutView",
       "align_content": null,
       "align_items": null,
       "align_self": null,
       "border": null,
       "bottom": null,
       "display": null,
       "flex": null,
       "flex_flow": null,
       "grid_area": null,
       "grid_auto_columns": null,
       "grid_auto_flow": null,
       "grid_auto_rows": null,
       "grid_column": null,
       "grid_gap": null,
       "grid_row": null,
       "grid_template_areas": null,
       "grid_template_columns": null,
       "grid_template_rows": null,
       "height": null,
       "justify_content": null,
       "justify_items": null,
       "left": null,
       "margin": null,
       "max_height": null,
       "max_width": null,
       "min_height": null,
       "min_width": null,
       "object_fit": null,
       "object_position": null,
       "order": null,
       "overflow": null,
       "overflow_x": null,
       "overflow_y": null,
       "padding": null,
       "right": null,
       "top": null,
       "visibility": null,
       "width": null
      }
     },
     "831c54e481c343e288bf2e64103a973f": {
      "model_module": "@jupyter-widgets/controls",
      "model_module_version": "1.5.0",
      "model_name": "HBoxModel",
      "state": {
       "_dom_classes": [],
       "_model_module": "@jupyter-widgets/controls",
       "_model_module_version": "1.5.0",
       "_model_name": "HBoxModel",
       "_view_count": null,
       "_view_module": "@jupyter-widgets/controls",
       "_view_module_version": "1.5.0",
       "_view_name": "HBoxView",
       "box_style": "",
       "children": [
        "IPY_MODEL_58a05162205f4f9da66f64290629465f",
        "IPY_MODEL_69f8879b44504cdf81624991f2a34f8c",
        "IPY_MODEL_23abd1cf14204d52baaccea1a65364fa"
       ],
       "layout": "IPY_MODEL_47f89dbe87614ba58a0d47d7532677cf"
      }
     },
     "86e1b882b40b4489ae3d7eb989e7e0ae": {
      "model_module": "@jupyter-widgets/base",
      "model_module_version": "1.2.0",
      "model_name": "LayoutModel",
      "state": {
       "_model_module": "@jupyter-widgets/base",
       "_model_module_version": "1.2.0",
       "_model_name": "LayoutModel",
       "_view_count": null,
       "_view_module": "@jupyter-widgets/base",
       "_view_module_version": "1.2.0",
       "_view_name": "LayoutView",
       "align_content": null,
       "align_items": null,
       "align_self": null,
       "border": null,
       "bottom": null,
       "display": null,
       "flex": null,
       "flex_flow": null,
       "grid_area": null,
       "grid_auto_columns": null,
       "grid_auto_flow": null,
       "grid_auto_rows": null,
       "grid_column": null,
       "grid_gap": null,
       "grid_row": null,
       "grid_template_areas": null,
       "grid_template_columns": null,
       "grid_template_rows": null,
       "height": null,
       "justify_content": null,
       "justify_items": null,
       "left": null,
       "margin": null,
       "max_height": null,
       "max_width": null,
       "min_height": null,
       "min_width": null,
       "object_fit": null,
       "object_position": null,
       "order": null,
       "overflow": null,
       "overflow_x": null,
       "overflow_y": null,
       "padding": null,
       "right": null,
       "top": null,
       "visibility": null,
       "width": null
      }
     },
     "8944cae59fa043a89d36bef26e37b3d4": {
      "model_module": "@jupyter-widgets/controls",
      "model_module_version": "1.5.0",
      "model_name": "ProgressStyleModel",
      "state": {
       "_model_module": "@jupyter-widgets/controls",
       "_model_module_version": "1.5.0",
       "_model_name": "ProgressStyleModel",
       "_view_count": null,
       "_view_module": "@jupyter-widgets/base",
       "_view_module_version": "1.2.0",
       "_view_name": "StyleView",
       "bar_color": null,
       "description_width": ""
      }
     },
     "89ec28ce1a0a4937950b197e7de31348": {
      "model_module": "@jupyter-widgets/base",
      "model_module_version": "1.2.0",
      "model_name": "LayoutModel",
      "state": {
       "_model_module": "@jupyter-widgets/base",
       "_model_module_version": "1.2.0",
       "_model_name": "LayoutModel",
       "_view_count": null,
       "_view_module": "@jupyter-widgets/base",
       "_view_module_version": "1.2.0",
       "_view_name": "LayoutView",
       "align_content": null,
       "align_items": null,
       "align_self": null,
       "border": null,
       "bottom": null,
       "display": null,
       "flex": null,
       "flex_flow": null,
       "grid_area": null,
       "grid_auto_columns": null,
       "grid_auto_flow": null,
       "grid_auto_rows": null,
       "grid_column": null,
       "grid_gap": null,
       "grid_row": null,
       "grid_template_areas": null,
       "grid_template_columns": null,
       "grid_template_rows": null,
       "height": null,
       "justify_content": null,
       "justify_items": null,
       "left": null,
       "margin": null,
       "max_height": null,
       "max_width": null,
       "min_height": null,
       "min_width": null,
       "object_fit": null,
       "object_position": null,
       "order": null,
       "overflow": null,
       "overflow_x": null,
       "overflow_y": null,
       "padding": null,
       "right": null,
       "top": null,
       "visibility": null,
       "width": null
      }
     },
     "8b046df9ae9b434896ce33800425f5dc": {
      "model_module": "@jupyter-widgets/base",
      "model_module_version": "1.2.0",
      "model_name": "LayoutModel",
      "state": {
       "_model_module": "@jupyter-widgets/base",
       "_model_module_version": "1.2.0",
       "_model_name": "LayoutModel",
       "_view_count": null,
       "_view_module": "@jupyter-widgets/base",
       "_view_module_version": "1.2.0",
       "_view_name": "LayoutView",
       "align_content": null,
       "align_items": null,
       "align_self": null,
       "border": null,
       "bottom": null,
       "display": null,
       "flex": null,
       "flex_flow": null,
       "grid_area": null,
       "grid_auto_columns": null,
       "grid_auto_flow": null,
       "grid_auto_rows": null,
       "grid_column": null,
       "grid_gap": null,
       "grid_row": null,
       "grid_template_areas": null,
       "grid_template_columns": null,
       "grid_template_rows": null,
       "height": null,
       "justify_content": null,
       "justify_items": null,
       "left": null,
       "margin": null,
       "max_height": null,
       "max_width": null,
       "min_height": null,
       "min_width": null,
       "object_fit": null,
       "object_position": null,
       "order": null,
       "overflow": null,
       "overflow_x": null,
       "overflow_y": null,
       "padding": null,
       "right": null,
       "top": null,
       "visibility": null,
       "width": null
      }
     },
     "8eb5d76a9f9a45d79b867e3e2dbac645": {
      "model_module": "@jupyter-widgets/base",
      "model_module_version": "1.2.0",
      "model_name": "LayoutModel",
      "state": {
       "_model_module": "@jupyter-widgets/base",
       "_model_module_version": "1.2.0",
       "_model_name": "LayoutModel",
       "_view_count": null,
       "_view_module": "@jupyter-widgets/base",
       "_view_module_version": "1.2.0",
       "_view_name": "LayoutView",
       "align_content": null,
       "align_items": null,
       "align_self": null,
       "border": null,
       "bottom": null,
       "display": null,
       "flex": null,
       "flex_flow": null,
       "grid_area": null,
       "grid_auto_columns": null,
       "grid_auto_flow": null,
       "grid_auto_rows": null,
       "grid_column": null,
       "grid_gap": null,
       "grid_row": null,
       "grid_template_areas": null,
       "grid_template_columns": null,
       "grid_template_rows": null,
       "height": null,
       "justify_content": null,
       "justify_items": null,
       "left": null,
       "margin": null,
       "max_height": null,
       "max_width": null,
       "min_height": null,
       "min_width": null,
       "object_fit": null,
       "object_position": null,
       "order": null,
       "overflow": null,
       "overflow_x": null,
       "overflow_y": null,
       "padding": null,
       "right": null,
       "top": null,
       "visibility": null,
       "width": null
      }
     },
     "8efa686c6fbe42f3a5edd0f82acc0e5e": {
      "model_module": "@jupyter-widgets/controls",
      "model_module_version": "1.5.0",
      "model_name": "DescriptionStyleModel",
      "state": {
       "_model_module": "@jupyter-widgets/controls",
       "_model_module_version": "1.5.0",
       "_model_name": "DescriptionStyleModel",
       "_view_count": null,
       "_view_module": "@jupyter-widgets/base",
       "_view_module_version": "1.2.0",
       "_view_name": "StyleView",
       "description_width": ""
      }
     },
     "8f45e25aa1bd4fd6baa952f48ab771bb": {
      "model_module": "@jupyter-widgets/controls",
      "model_module_version": "1.5.0",
      "model_name": "HTMLModel",
      "state": {
       "_dom_classes": [],
       "_model_module": "@jupyter-widgets/controls",
       "_model_module_version": "1.5.0",
       "_model_name": "HTMLModel",
       "_view_count": null,
       "_view_module": "@jupyter-widgets/controls",
       "_view_module_version": "1.5.0",
       "_view_name": "HTMLView",
       "description": "",
       "description_tooltip": null,
       "layout": "IPY_MODEL_8b046df9ae9b434896ce33800425f5dc",
       "placeholder": "​",
       "style": "IPY_MODEL_5de90bc64e6f438baa63b2b33e05bdbb",
       "value": " 13.6M/13.6M [00:00&lt;00:00, 56.1MB/s]"
      }
     },
     "8ffd0e6f153341a8a0b916519627e43e": {
      "model_module": "@jupyter-widgets/controls",
      "model_module_version": "1.5.0",
      "model_name": "DescriptionStyleModel",
      "state": {
       "_model_module": "@jupyter-widgets/controls",
       "_model_module_version": "1.5.0",
       "_model_name": "DescriptionStyleModel",
       "_view_count": null,
       "_view_module": "@jupyter-widgets/base",
       "_view_module_version": "1.2.0",
       "_view_name": "StyleView",
       "description_width": ""
      }
     },
     "903f56161c7d469b92c7434a0e672255": {
      "model_module": "@jupyter-widgets/base",
      "model_module_version": "1.2.0",
      "model_name": "LayoutModel",
      "state": {
       "_model_module": "@jupyter-widgets/base",
       "_model_module_version": "1.2.0",
       "_model_name": "LayoutModel",
       "_view_count": null,
       "_view_module": "@jupyter-widgets/base",
       "_view_module_version": "1.2.0",
       "_view_name": "LayoutView",
       "align_content": null,
       "align_items": null,
       "align_self": null,
       "border": null,
       "bottom": null,
       "display": null,
       "flex": null,
       "flex_flow": null,
       "grid_area": null,
       "grid_auto_columns": null,
       "grid_auto_flow": null,
       "grid_auto_rows": null,
       "grid_column": null,
       "grid_gap": null,
       "grid_row": null,
       "grid_template_areas": null,
       "grid_template_columns": null,
       "grid_template_rows": null,
       "height": null,
       "justify_content": null,
       "justify_items": null,
       "left": null,
       "margin": null,
       "max_height": null,
       "max_width": null,
       "min_height": null,
       "min_width": null,
       "object_fit": null,
       "object_position": null,
       "order": null,
       "overflow": null,
       "overflow_x": null,
       "overflow_y": null,
       "padding": null,
       "right": null,
       "top": null,
       "visibility": null,
       "width": null
      }
     },
     "90d97664704a45429dc21d4bd49e7e4f": {
      "model_module": "@jupyter-widgets/base",
      "model_module_version": "1.2.0",
      "model_name": "LayoutModel",
      "state": {
       "_model_module": "@jupyter-widgets/base",
       "_model_module_version": "1.2.0",
       "_model_name": "LayoutModel",
       "_view_count": null,
       "_view_module": "@jupyter-widgets/base",
       "_view_module_version": "1.2.0",
       "_view_name": "LayoutView",
       "align_content": null,
       "align_items": null,
       "align_self": null,
       "border": null,
       "bottom": null,
       "display": null,
       "flex": null,
       "flex_flow": null,
       "grid_area": null,
       "grid_auto_columns": null,
       "grid_auto_flow": null,
       "grid_auto_rows": null,
       "grid_column": null,
       "grid_gap": null,
       "grid_row": null,
       "grid_template_areas": null,
       "grid_template_columns": null,
       "grid_template_rows": null,
       "height": null,
       "justify_content": null,
       "justify_items": null,
       "left": null,
       "margin": null,
       "max_height": null,
       "max_width": null,
       "min_height": null,
       "min_width": null,
       "object_fit": null,
       "object_position": null,
       "order": null,
       "overflow": null,
       "overflow_x": null,
       "overflow_y": null,
       "padding": null,
       "right": null,
       "top": null,
       "visibility": null,
       "width": null
      }
     },
     "9176cd392e7c4ad3bb9ddc56e5bb9742": {
      "model_module": "@jupyter-widgets/controls",
      "model_module_version": "1.5.0",
      "model_name": "HTMLModel",
      "state": {
       "_dom_classes": [],
       "_model_module": "@jupyter-widgets/controls",
       "_model_module_version": "1.5.0",
       "_model_name": "HTMLModel",
       "_view_count": null,
       "_view_module": "@jupyter-widgets/controls",
       "_view_module_version": "1.5.0",
       "_view_name": "HTMLView",
       "description": "",
       "description_tooltip": null,
       "layout": "IPY_MODEL_2de065f21a1b48528bffbb328126a17b",
       "placeholder": "​",
       "style": "IPY_MODEL_9870a503d7ce43a6a7a1a805bffc5f53",
       "value": "100%"
      }
     },
     "96319d04bd654d938fd4e69acccd43f4": {
      "model_module": "@jupyter-widgets/base",
      "model_module_version": "1.2.0",
      "model_name": "LayoutModel",
      "state": {
       "_model_module": "@jupyter-widgets/base",
       "_model_module_version": "1.2.0",
       "_model_name": "LayoutModel",
       "_view_count": null,
       "_view_module": "@jupyter-widgets/base",
       "_view_module_version": "1.2.0",
       "_view_name": "LayoutView",
       "align_content": null,
       "align_items": null,
       "align_self": null,
       "border": null,
       "bottom": null,
       "display": null,
       "flex": null,
       "flex_flow": null,
       "grid_area": null,
       "grid_auto_columns": null,
       "grid_auto_flow": null,
       "grid_auto_rows": null,
       "grid_column": null,
       "grid_gap": null,
       "grid_row": null,
       "grid_template_areas": null,
       "grid_template_columns": null,
       "grid_template_rows": null,
       "height": null,
       "justify_content": null,
       "justify_items": null,
       "left": null,
       "margin": null,
       "max_height": null,
       "max_width": null,
       "min_height": null,
       "min_width": null,
       "object_fit": null,
       "object_position": null,
       "order": null,
       "overflow": null,
       "overflow_x": null,
       "overflow_y": null,
       "padding": null,
       "right": null,
       "top": null,
       "visibility": null,
       "width": null
      }
     },
     "963f19a0570747029310f80fddb7c655": {
      "model_module": "@jupyter-widgets/controls",
      "model_module_version": "1.5.0",
      "model_name": "DescriptionStyleModel",
      "state": {
       "_model_module": "@jupyter-widgets/controls",
       "_model_module_version": "1.5.0",
       "_model_name": "DescriptionStyleModel",
       "_view_count": null,
       "_view_module": "@jupyter-widgets/base",
       "_view_module_version": "1.2.0",
       "_view_name": "StyleView",
       "description_width": ""
      }
     },
     "9849e17cd618401d92080715161f7022": {
      "model_module": "@jupyter-widgets/controls",
      "model_module_version": "1.5.0",
      "model_name": "HBoxModel",
      "state": {
       "_dom_classes": [],
       "_model_module": "@jupyter-widgets/controls",
       "_model_module_version": "1.5.0",
       "_model_name": "HBoxModel",
       "_view_count": null,
       "_view_module": "@jupyter-widgets/controls",
       "_view_module_version": "1.5.0",
       "_view_name": "HBoxView",
       "box_style": "",
       "children": [
        "IPY_MODEL_d718a42265244005bf6314a361c6706b",
        "IPY_MODEL_e93ed285f6c24eba9d9d5a2a4bce3852",
        "IPY_MODEL_e7f0059f9f89405fa82ceb163f722428"
       ],
       "layout": "IPY_MODEL_37ea908290a94995bf85aa65144239ea"
      }
     },
     "9870a503d7ce43a6a7a1a805bffc5f53": {
      "model_module": "@jupyter-widgets/controls",
      "model_module_version": "1.5.0",
      "model_name": "DescriptionStyleModel",
      "state": {
       "_model_module": "@jupyter-widgets/controls",
       "_model_module_version": "1.5.0",
       "_model_name": "DescriptionStyleModel",
       "_view_count": null,
       "_view_module": "@jupyter-widgets/base",
       "_view_module_version": "1.2.0",
       "_view_name": "StyleView",
       "description_width": ""
      }
     },
     "98c483910fe1447aa0234d35ff37d796": {
      "model_module": "@jupyter-widgets/controls",
      "model_module_version": "1.5.0",
      "model_name": "FloatProgressModel",
      "state": {
       "_dom_classes": [],
       "_model_module": "@jupyter-widgets/controls",
       "_model_module_version": "1.5.0",
       "_model_name": "FloatProgressModel",
       "_view_count": null,
       "_view_module": "@jupyter-widgets/controls",
       "_view_module_version": "1.5.0",
       "_view_name": "ProgressView",
       "bar_style": "success",
       "description": "",
       "description_tooltip": null,
       "layout": "IPY_MODEL_dd87ee68f64a4b23b1d8fd292f2df4ec",
       "max": 14331578.0,
       "min": 0.0,
       "orientation": "horizontal",
       "style": "IPY_MODEL_aff6e75d0be544cdaa4d97e924a8a407",
       "value": 14331578.0
      }
     },
     "9be68085a46a4a85952aabbccc1aaead": {
      "model_module": "@jupyter-widgets/base",
      "model_module_version": "1.2.0",
      "model_name": "LayoutModel",
      "state": {
       "_model_module": "@jupyter-widgets/base",
       "_model_module_version": "1.2.0",
       "_model_name": "LayoutModel",
       "_view_count": null,
       "_view_module": "@jupyter-widgets/base",
       "_view_module_version": "1.2.0",
       "_view_name": "LayoutView",
       "align_content": null,
       "align_items": null,
       "align_self": null,
       "border": null,
       "bottom": null,
       "display": null,
       "flex": null,
       "flex_flow": null,
       "grid_area": null,
       "grid_auto_columns": null,
       "grid_auto_flow": null,
       "grid_auto_rows": null,
       "grid_column": null,
       "grid_gap": null,
       "grid_row": null,
       "grid_template_areas": null,
       "grid_template_columns": null,
       "grid_template_rows": null,
       "height": null,
       "justify_content": null,
       "justify_items": null,
       "left": null,
       "margin": null,
       "max_height": null,
       "max_width": null,
       "min_height": null,
       "min_width": null,
       "object_fit": null,
       "object_position": null,
       "order": null,
       "overflow": null,
       "overflow_x": null,
       "overflow_y": null,
       "padding": null,
       "right": null,
       "top": null,
       "visibility": null,
       "width": null
      }
     },
     "9c008e16f7004f5cb1b72309815f6db3": {
      "model_module": "@jupyter-widgets/controls",
      "model_module_version": "1.5.0",
      "model_name": "FloatProgressModel",
      "state": {
       "_dom_classes": [],
       "_model_module": "@jupyter-widgets/controls",
       "_model_module_version": "1.5.0",
       "_model_name": "FloatProgressModel",
       "_view_count": null,
       "_view_module": "@jupyter-widgets/controls",
       "_view_module_version": "1.5.0",
       "_view_name": "ProgressView",
       "bar_style": "success",
       "description": "",
       "description_tooltip": null,
       "layout": "IPY_MODEL_90d97664704a45429dc21d4bd49e7e4f",
       "max": 327985673.0,
       "min": 0.0,
       "orientation": "horizontal",
       "style": "IPY_MODEL_a51119c4409a4e66b0b888934a2a2718",
       "value": 327985673.0
      }
     },
     "9c97febcca2d4b3fa2545445f8783a6e": {
      "model_module": "@jupyter-widgets/controls",
      "model_module_version": "1.5.0",
      "model_name": "DescriptionStyleModel",
      "state": {
       "_model_module": "@jupyter-widgets/controls",
       "_model_module_version": "1.5.0",
       "_model_name": "DescriptionStyleModel",
       "_view_count": null,
       "_view_module": "@jupyter-widgets/base",
       "_view_module_version": "1.2.0",
       "_view_name": "StyleView",
       "description_width": ""
      }
     },
     "9ca747ed45074abdb1477604179dc278": {
      "model_module": "@jupyter-widgets/controls",
      "model_module_version": "1.5.0",
      "model_name": "DescriptionStyleModel",
      "state": {
       "_model_module": "@jupyter-widgets/controls",
       "_model_module_version": "1.5.0",
       "_model_name": "DescriptionStyleModel",
       "_view_count": null,
       "_view_module": "@jupyter-widgets/base",
       "_view_module_version": "1.2.0",
       "_view_name": "StyleView",
       "description_width": ""
      }
     },
     "a023556aa3674d6da9373d0cecef3c68": {
      "model_module": "@jupyter-widgets/base",
      "model_module_version": "1.2.0",
      "model_name": "LayoutModel",
      "state": {
       "_model_module": "@jupyter-widgets/base",
       "_model_module_version": "1.2.0",
       "_model_name": "LayoutModel",
       "_view_count": null,
       "_view_module": "@jupyter-widgets/base",
       "_view_module_version": "1.2.0",
       "_view_name": "LayoutView",
       "align_content": null,
       "align_items": null,
       "align_self": null,
       "border": null,
       "bottom": null,
       "display": null,
       "flex": null,
       "flex_flow": null,
       "grid_area": null,
       "grid_auto_columns": null,
       "grid_auto_flow": null,
       "grid_auto_rows": null,
       "grid_column": null,
       "grid_gap": null,
       "grid_row": null,
       "grid_template_areas": null,
       "grid_template_columns": null,
       "grid_template_rows": null,
       "height": null,
       "justify_content": null,
       "justify_items": null,
       "left": null,
       "margin": null,
       "max_height": null,
       "max_width": null,
       "min_height": null,
       "min_width": null,
       "object_fit": null,
       "object_position": null,
       "order": null,
       "overflow": null,
       "overflow_x": null,
       "overflow_y": null,
       "padding": null,
       "right": null,
       "top": null,
       "visibility": null,
       "width": null
      }
     },
     "a3f6e1d7a40641e1b9242f34ced1c865": {
      "model_module": "@jupyter-widgets/controls",
      "model_module_version": "1.5.0",
      "model_name": "DescriptionStyleModel",
      "state": {
       "_model_module": "@jupyter-widgets/controls",
       "_model_module_version": "1.5.0",
       "_model_name": "DescriptionStyleModel",
       "_view_count": null,
       "_view_module": "@jupyter-widgets/base",
       "_view_module_version": "1.2.0",
       "_view_name": "StyleView",
       "description_width": ""
      }
     },
     "a51119c4409a4e66b0b888934a2a2718": {
      "model_module": "@jupyter-widgets/controls",
      "model_module_version": "1.5.0",
      "model_name": "ProgressStyleModel",
      "state": {
       "_model_module": "@jupyter-widgets/controls",
       "_model_module_version": "1.5.0",
       "_model_name": "ProgressStyleModel",
       "_view_count": null,
       "_view_module": "@jupyter-widgets/base",
       "_view_module_version": "1.2.0",
       "_view_name": "StyleView",
       "bar_color": null,
       "description_width": ""
      }
     },
     "a7de47c3d478424f84dcbcc7ce0d5418": {
      "model_module": "@jupyter-widgets/base",
      "model_module_version": "1.2.0",
      "model_name": "LayoutModel",
      "state": {
       "_model_module": "@jupyter-widgets/base",
       "_model_module_version": "1.2.0",
       "_model_name": "LayoutModel",
       "_view_count": null,
       "_view_module": "@jupyter-widgets/base",
       "_view_module_version": "1.2.0",
       "_view_name": "LayoutView",
       "align_content": null,
       "align_items": null,
       "align_self": null,
       "border": null,
       "bottom": null,
       "display": null,
       "flex": null,
       "flex_flow": null,
       "grid_area": null,
       "grid_auto_columns": null,
       "grid_auto_flow": null,
       "grid_auto_rows": null,
       "grid_column": null,
       "grid_gap": null,
       "grid_row": null,
       "grid_template_areas": null,
       "grid_template_columns": null,
       "grid_template_rows": null,
       "height": null,
       "justify_content": null,
       "justify_items": null,
       "left": null,
       "margin": null,
       "max_height": null,
       "max_width": null,
       "min_height": null,
       "min_width": null,
       "object_fit": null,
       "object_position": null,
       "order": null,
       "overflow": null,
       "overflow_x": null,
       "overflow_y": null,
       "padding": null,
       "right": null,
       "top": null,
       "visibility": null,
       "width": null
      }
     },
     "a7fc8f13e56846cd97abdbd24998f196": {
      "model_module": "@jupyter-widgets/controls",
      "model_module_version": "1.5.0",
      "model_name": "HBoxModel",
      "state": {
       "_dom_classes": [],
       "_model_module": "@jupyter-widgets/controls",
       "_model_module_version": "1.5.0",
       "_model_name": "HBoxModel",
       "_view_count": null,
       "_view_module": "@jupyter-widgets/controls",
       "_view_module_version": "1.5.0",
       "_view_name": "HBoxView",
       "box_style": "",
       "children": [
        "IPY_MODEL_b92d4eeaed44439cbb400c381f0bcb00",
        "IPY_MODEL_e2fbf352756242f3a88e8c11dcb729a7",
        "IPY_MODEL_4a7e2a87d52640baa70352bc23f86b4e"
       ],
       "layout": "IPY_MODEL_0a420eacdf7444c9a69df250e40db512"
      }
     },
     "a84168eb0e2a453384ad7c26cf70f863": {
      "model_module": "@jupyter-widgets/base",
      "model_module_version": "1.2.0",
      "model_name": "LayoutModel",
      "state": {
       "_model_module": "@jupyter-widgets/base",
       "_model_module_version": "1.2.0",
       "_model_name": "LayoutModel",
       "_view_count": null,
       "_view_module": "@jupyter-widgets/base",
       "_view_module_version": "1.2.0",
       "_view_name": "LayoutView",
       "align_content": null,
       "align_items": null,
       "align_self": null,
       "border": null,
       "bottom": null,
       "display": null,
       "flex": null,
       "flex_flow": null,
       "grid_area": null,
       "grid_auto_columns": null,
       "grid_auto_flow": null,
       "grid_auto_rows": null,
       "grid_column": null,
       "grid_gap": null,
       "grid_row": null,
       "grid_template_areas": null,
       "grid_template_columns": null,
       "grid_template_rows": null,
       "height": null,
       "justify_content": null,
       "justify_items": null,
       "left": null,
       "margin": null,
       "max_height": null,
       "max_width": null,
       "min_height": null,
       "min_width": null,
       "object_fit": null,
       "object_position": null,
       "order": null,
       "overflow": null,
       "overflow_x": null,
       "overflow_y": null,
       "padding": null,
       "right": null,
       "top": null,
       "visibility": null,
       "width": null
      }
     },
     "a8610ce81cac44188c35794fe006df67": {
      "model_module": "@jupyter-widgets/controls",
      "model_module_version": "1.5.0",
      "model_name": "ProgressStyleModel",
      "state": {
       "_model_module": "@jupyter-widgets/controls",
       "_model_module_version": "1.5.0",
       "_model_name": "ProgressStyleModel",
       "_view_count": null,
       "_view_module": "@jupyter-widgets/base",
       "_view_module_version": "1.2.0",
       "_view_name": "StyleView",
       "bar_color": null,
       "description_width": ""
      }
     },
     "ab761e3378924037b313866f7a2ce3a8": {
      "model_module": "@jupyter-widgets/base",
      "model_module_version": "1.2.0",
      "model_name": "LayoutModel",
      "state": {
       "_model_module": "@jupyter-widgets/base",
       "_model_module_version": "1.2.0",
       "_model_name": "LayoutModel",
       "_view_count": null,
       "_view_module": "@jupyter-widgets/base",
       "_view_module_version": "1.2.0",
       "_view_name": "LayoutView",
       "align_content": null,
       "align_items": null,
       "align_self": null,
       "border": null,
       "bottom": null,
       "display": null,
       "flex": null,
       "flex_flow": null,
       "grid_area": null,
       "grid_auto_columns": null,
       "grid_auto_flow": null,
       "grid_auto_rows": null,
       "grid_column": null,
       "grid_gap": null,
       "grid_row": null,
       "grid_template_areas": null,
       "grid_template_columns": null,
       "grid_template_rows": null,
       "height": null,
       "justify_content": null,
       "justify_items": null,
       "left": null,
       "margin": null,
       "max_height": null,
       "max_width": null,
       "min_height": null,
       "min_width": null,
       "object_fit": null,
       "object_position": null,
       "order": null,
       "overflow": null,
       "overflow_x": null,
       "overflow_y": null,
       "padding": null,
       "right": null,
       "top": null,
       "visibility": null,
       "width": null
      }
     },
     "ac6632d62c3d4ff0b7bed1ce89d27ceb": {
      "model_module": "@jupyter-widgets/controls",
      "model_module_version": "1.5.0",
      "model_name": "HTMLModel",
      "state": {
       "_dom_classes": [],
       "_model_module": "@jupyter-widgets/controls",
       "_model_module_version": "1.5.0",
       "_model_name": "HTMLModel",
       "_view_count": null,
       "_view_module": "@jupyter-widgets/controls",
       "_view_module_version": "1.5.0",
       "_view_name": "HTMLView",
       "description": "",
       "description_tooltip": null,
       "layout": "IPY_MODEL_7fcf0234a7f04182974ae1662da39667",
       "placeholder": "​",
       "style": "IPY_MODEL_598811c3c7584999ae77866107b50f7a",
       "value": " 52.2M/52.2M [00:00&lt;00:00, 72.6MB/s]"
      }
     },
     "aff6e75d0be544cdaa4d97e924a8a407": {
      "model_module": "@jupyter-widgets/controls",
      "model_module_version": "1.5.0",
      "model_name": "ProgressStyleModel",
      "state": {
       "_model_module": "@jupyter-widgets/controls",
       "_model_module_version": "1.5.0",
       "_model_name": "ProgressStyleModel",
       "_view_count": null,
       "_view_module": "@jupyter-widgets/base",
       "_view_module_version": "1.2.0",
       "_view_name": "StyleView",
       "bar_color": null,
       "description_width": ""
      }
     },
     "b3c1ef8cd20249ee80e871ab04810b29": {
      "model_module": "@jupyter-widgets/controls",
      "model_module_version": "1.5.0",
      "model_name": "DescriptionStyleModel",
      "state": {
       "_model_module": "@jupyter-widgets/controls",
       "_model_module_version": "1.5.0",
       "_model_name": "DescriptionStyleModel",
       "_view_count": null,
       "_view_module": "@jupyter-widgets/base",
       "_view_module_version": "1.2.0",
       "_view_name": "StyleView",
       "description_width": ""
      }
     },
     "b4b430e2362e4918af4e7d1609cbb604": {
      "model_module": "@jupyter-widgets/controls",
      "model_module_version": "1.5.0",
      "model_name": "HTMLModel",
      "state": {
       "_dom_classes": [],
       "_model_module": "@jupyter-widgets/controls",
       "_model_module_version": "1.5.0",
       "_model_name": "HTMLModel",
       "_view_count": null,
       "_view_module": "@jupyter-widgets/controls",
       "_view_module_version": "1.5.0",
       "_view_name": "HTMLView",
       "description": "",
       "description_tooltip": null,
       "layout": "IPY_MODEL_03fa152fc9474914978ef30373a7259e",
       "placeholder": "​",
       "style": "IPY_MODEL_753179f2618a459186cb562e46207aaf",
       "value": "100%"
      }
     },
     "b5f5aadc956141428833ae83bf199ca2": {
      "model_module": "@jupyter-widgets/controls",
      "model_module_version": "1.5.0",
      "model_name": "DescriptionStyleModel",
      "state": {
       "_model_module": "@jupyter-widgets/controls",
       "_model_module_version": "1.5.0",
       "_model_name": "DescriptionStyleModel",
       "_view_count": null,
       "_view_module": "@jupyter-widgets/base",
       "_view_module_version": "1.2.0",
       "_view_name": "StyleView",
       "description_width": ""
      }
     },
     "b8192817fa694a648b1a74c5eaa52e4e": {
      "model_module": "@jupyter-widgets/controls",
      "model_module_version": "1.5.0",
      "model_name": "FloatProgressModel",
      "state": {
       "_dom_classes": [],
       "_model_module": "@jupyter-widgets/controls",
       "_model_module_version": "1.5.0",
       "_model_name": "FloatProgressModel",
       "_view_count": null,
       "_view_module": "@jupyter-widgets/controls",
       "_view_module_version": "1.5.0",
       "_view_name": "ProgressView",
       "bar_style": "success",
       "description": "",
       "description_tooltip": null,
       "layout": "IPY_MODEL_f47ed0eaa2b645b4b8e3c031e28e90fc",
       "max": 245550061.0,
       "min": 0.0,
       "orientation": "horizontal",
       "style": "IPY_MODEL_4427aba61f7c4daf8d85ea4d842aa439",
       "value": 245550061.0
      }
     },
     "b92d4eeaed44439cbb400c381f0bcb00": {
      "model_module": "@jupyter-widgets/controls",
      "model_module_version": "1.5.0",
      "model_name": "HTMLModel",
      "state": {
       "_dom_classes": [],
       "_model_module": "@jupyter-widgets/controls",
       "_model_module_version": "1.5.0",
       "_model_name": "HTMLModel",
       "_view_count": null,
       "_view_module": "@jupyter-widgets/controls",
       "_view_module_version": "1.5.0",
       "_view_name": "HTMLView",
       "description": "",
       "description_tooltip": null,
       "layout": "IPY_MODEL_13765230985748e2be153260caf9956f",
       "placeholder": "​",
       "style": "IPY_MODEL_8efa686c6fbe42f3a5edd0f82acc0e5e",
       "value": "100%"
      }
     },
     "baa1dd07da1247d39f0800c4933cf4ef": {
      "model_module": "@jupyter-widgets/base",
      "model_module_version": "1.2.0",
      "model_name": "LayoutModel",
      "state": {
       "_model_module": "@jupyter-widgets/base",
       "_model_module_version": "1.2.0",
       "_model_name": "LayoutModel",
       "_view_count": null,
       "_view_module": "@jupyter-widgets/base",
       "_view_module_version": "1.2.0",
       "_view_name": "LayoutView",
       "align_content": null,
       "align_items": null,
       "align_self": null,
       "border": null,
       "bottom": null,
       "display": null,
       "flex": null,
       "flex_flow": null,
       "grid_area": null,
       "grid_auto_columns": null,
       "grid_auto_flow": null,
       "grid_auto_rows": null,
       "grid_column": null,
       "grid_gap": null,
       "grid_row": null,
       "grid_template_areas": null,
       "grid_template_columns": null,
       "grid_template_rows": null,
       "height": null,
       "justify_content": null,
       "justify_items": null,
       "left": null,
       "margin": null,
       "max_height": null,
       "max_width": null,
       "min_height": null,
       "min_width": null,
       "object_fit": null,
       "object_position": null,
       "order": null,
       "overflow": null,
       "overflow_x": null,
       "overflow_y": null,
       "padding": null,
       "right": null,
       "top": null,
       "visibility": null,
       "width": null
      }
     },
     "bb8b50ae7c654cb5824b4ff7483719f6": {
      "model_module": "@jupyter-widgets/controls",
      "model_module_version": "1.5.0",
      "model_name": "DescriptionStyleModel",
      "state": {
       "_model_module": "@jupyter-widgets/controls",
       "_model_module_version": "1.5.0",
       "_model_name": "DescriptionStyleModel",
       "_view_count": null,
       "_view_module": "@jupyter-widgets/base",
       "_view_module_version": "1.2.0",
       "_view_name": "StyleView",
       "description_width": ""
      }
     },
     "bc4e27e555bb4d50b52d0d6e120319ab": {
      "model_module": "@jupyter-widgets/controls",
      "model_module_version": "1.5.0",
      "model_name": "HTMLModel",
      "state": {
       "_dom_classes": [],
       "_model_module": "@jupyter-widgets/controls",
       "_model_module_version": "1.5.0",
       "_model_name": "HTMLModel",
       "_view_count": null,
       "_view_module": "@jupyter-widgets/controls",
       "_view_module_version": "1.5.0",
       "_view_name": "HTMLView",
       "description": "",
       "description_tooltip": null,
       "layout": "IPY_MODEL_a7de47c3d478424f84dcbcc7ce0d5418",
       "placeholder": "​",
       "style": "IPY_MODEL_9ca747ed45074abdb1477604179dc278",
       "value": "100%"
      }
     },
     "bdffda6743a447fb9e5fb215a06b8dd6": {
      "model_module": "@jupyter-widgets/base",
      "model_module_version": "1.2.0",
      "model_name": "LayoutModel",
      "state": {
       "_model_module": "@jupyter-widgets/base",
       "_model_module_version": "1.2.0",
       "_model_name": "LayoutModel",
       "_view_count": null,
       "_view_module": "@jupyter-widgets/base",
       "_view_module_version": "1.2.0",
       "_view_name": "LayoutView",
       "align_content": null,
       "align_items": null,
       "align_self": null,
       "border": null,
       "bottom": null,
       "display": null,
       "flex": null,
       "flex_flow": null,
       "grid_area": null,
       "grid_auto_columns": null,
       "grid_auto_flow": null,
       "grid_auto_rows": null,
       "grid_column": null,
       "grid_gap": null,
       "grid_row": null,
       "grid_template_areas": null,
       "grid_template_columns": null,
       "grid_template_rows": null,
       "height": null,
       "justify_content": null,
       "justify_items": null,
       "left": null,
       "margin": null,
       "max_height": null,
       "max_width": null,
       "min_height": null,
       "min_width": null,
       "object_fit": null,
       "object_position": null,
       "order": null,
       "overflow": null,
       "overflow_x": null,
       "overflow_y": null,
       "padding": null,
       "right": null,
       "top": null,
       "visibility": null,
       "width": null
      }
     },
     "c00adf04919648cd95f429e729510c4b": {
      "model_module": "@jupyter-widgets/controls",
      "model_module_version": "1.5.0",
      "model_name": "DescriptionStyleModel",
      "state": {
       "_model_module": "@jupyter-widgets/controls",
       "_model_module_version": "1.5.0",
       "_model_name": "DescriptionStyleModel",
       "_view_count": null,
       "_view_module": "@jupyter-widgets/base",
       "_view_module_version": "1.2.0",
       "_view_name": "StyleView",
       "description_width": ""
      }
     },
     "c0407200abe74188a13973d98a38e9a0": {
      "model_module": "@jupyter-widgets/controls",
      "model_module_version": "1.5.0",
      "model_name": "HTMLModel",
      "state": {
       "_dom_classes": [],
       "_model_module": "@jupyter-widgets/controls",
       "_model_module_version": "1.5.0",
       "_model_name": "HTMLModel",
       "_view_count": null,
       "_view_module": "@jupyter-widgets/controls",
       "_view_module_version": "1.5.0",
       "_view_name": "HTMLView",
       "description": "",
       "description_tooltip": null,
       "layout": "IPY_MODEL_d760b2e53851402a8ef17c183e55f589",
       "placeholder": "​",
       "style": "IPY_MODEL_7cb4952f3d5046bdb2818e82550a5eab",
       "value": " 313M/313M [00:04&lt;00:00, 72.5MB/s]"
      }
     },
     "c34a74eae3b242e4b0f3f4633c5a86cf": {
      "model_module": "@jupyter-widgets/controls",
      "model_module_version": "1.5.0",
      "model_name": "HTMLModel",
      "state": {
       "_dom_classes": [],
       "_model_module": "@jupyter-widgets/controls",
       "_model_module_version": "1.5.0",
       "_model_name": "HTMLModel",
       "_view_count": null,
       "_view_module": "@jupyter-widgets/controls",
       "_view_module_version": "1.5.0",
       "_view_name": "HTMLView",
       "description": "",
       "description_tooltip": null,
       "layout": "IPY_MODEL_28e625087a1d42c38e3c9c2a452990f0",
       "placeholder": "​",
       "style": "IPY_MODEL_9c97febcca2d4b3fa2545445f8783a6e",
       "value": " 13.7M/13.7M [00:00&lt;00:00, 49.5MB/s]"
      }
     },
     "c37b1e82199149149e07db6c790d7766": {
      "model_module": "@jupyter-widgets/controls",
      "model_module_version": "1.5.0",
      "model_name": "HTMLModel",
      "state": {
       "_dom_classes": [],
       "_model_module": "@jupyter-widgets/controls",
       "_model_module_version": "1.5.0",
       "_model_name": "HTMLModel",
       "_view_count": null,
       "_view_module": "@jupyter-widgets/controls",
       "_view_module_version": "1.5.0",
       "_view_name": "HTMLView",
       "description": "",
       "description_tooltip": null,
       "layout": "IPY_MODEL_bdffda6743a447fb9e5fb215a06b8dd6",
       "placeholder": "​",
       "style": "IPY_MODEL_587c5759af7f464a8730dceb8d9d9e78",
       "value": " 21.1M/21.1M [00:00&lt;00:00, 59.7MB/s]"
      }
     },
     "c53a5ef7b74d4138b992c0bd4940b820": {
      "model_module": "@jupyter-widgets/controls",
      "model_module_version": "1.5.0",
      "model_name": "ProgressStyleModel",
      "state": {
       "_model_module": "@jupyter-widgets/controls",
       "_model_module_version": "1.5.0",
       "_model_name": "ProgressStyleModel",
       "_view_count": null,
       "_view_module": "@jupyter-widgets/base",
       "_view_module_version": "1.2.0",
       "_view_name": "StyleView",
       "bar_color": null,
       "description_width": ""
      }
     },
     "c5cf1a29d513458da06a427f9823a6ef": {
      "model_module": "@jupyter-widgets/controls",
      "model_module_version": "1.5.0",
      "model_name": "HTMLModel",
      "state": {
       "_dom_classes": [],
       "_model_module": "@jupyter-widgets/controls",
       "_model_module_version": "1.5.0",
       "_model_name": "HTMLModel",
       "_view_count": null,
       "_view_module": "@jupyter-widgets/controls",
       "_view_module_version": "1.5.0",
       "_view_name": "HTMLView",
       "description": "",
       "description_tooltip": null,
       "layout": "IPY_MODEL_01cfd8440ed64dafb8a6698314812d28",
       "placeholder": "​",
       "style": "IPY_MODEL_0889c553745b447e9b63a9985e755a23",
       "value": "100%"
      }
     },
     "c73b60470e99412dbbd45586f3e4e300": {
      "model_module": "@jupyter-widgets/base",
      "model_module_version": "1.2.0",
      "model_name": "LayoutModel",
      "state": {
       "_model_module": "@jupyter-widgets/base",
       "_model_module_version": "1.2.0",
       "_model_name": "LayoutModel",
       "_view_count": null,
       "_view_module": "@jupyter-widgets/base",
       "_view_module_version": "1.2.0",
       "_view_name": "LayoutView",
       "align_content": null,
       "align_items": null,
       "align_self": null,
       "border": null,
       "bottom": null,
       "display": null,
       "flex": null,
       "flex_flow": null,
       "grid_area": null,
       "grid_auto_columns": null,
       "grid_auto_flow": null,
       "grid_auto_rows": null,
       "grid_column": null,
       "grid_gap": null,
       "grid_row": null,
       "grid_template_areas": null,
       "grid_template_columns": null,
       "grid_template_rows": null,
       "height": null,
       "justify_content": null,
       "justify_items": null,
       "left": null,
       "margin": null,
       "max_height": null,
       "max_width": null,
       "min_height": null,
       "min_width": null,
       "object_fit": null,
       "object_position": null,
       "order": null,
       "overflow": null,
       "overflow_x": null,
       "overflow_y": null,
       "padding": null,
       "right": null,
       "top": null,
       "visibility": null,
       "width": null
      }
     },
     "c7d20f46efd34bed87e3f9cde409a0cf": {
      "model_module": "@jupyter-widgets/controls",
      "model_module_version": "1.5.0",
      "model_name": "FloatProgressModel",
      "state": {
       "_dom_classes": [],
       "_model_module": "@jupyter-widgets/controls",
       "_model_module_version": "1.5.0",
       "_model_name": "FloatProgressModel",
       "_view_count": null,
       "_view_module": "@jupyter-widgets/controls",
       "_view_module_version": "1.5.0",
       "_view_name": "ProgressView",
       "bar_style": "success",
       "description": "",
       "description_tooltip": null,
       "layout": "IPY_MODEL_2fcdd71c927c46d7aa90ae8a66471e12",
       "max": 77999237.0,
       "min": 0.0,
       "orientation": "horizontal",
       "style": "IPY_MODEL_10150c574cce45f59a040092a3b46001",
       "value": 77999237.0
      }
     },
     "c978869c351948838d69f6ca678bf07c": {
      "model_module": "@jupyter-widgets/controls",
      "model_module_version": "1.5.0",
      "model_name": "HTMLModel",
      "state": {
       "_dom_classes": [],
       "_model_module": "@jupyter-widgets/controls",
       "_model_module_version": "1.5.0",
       "_model_name": "HTMLModel",
       "_view_count": null,
       "_view_module": "@jupyter-widgets/controls",
       "_view_module_version": "1.5.0",
       "_view_name": "HTMLView",
       "description": "",
       "description_tooltip": null,
       "layout": "IPY_MODEL_640bdbcd729f414293f5245de8694398",
       "placeholder": "​",
       "style": "IPY_MODEL_24c9a47ca6d7404bac3c15ac0ea868d2",
       "value": "100%"
      }
     },
     "cc4d53e20f4d4a1ca69a02ebaf09d262": {
      "model_module": "@jupyter-widgets/controls",
      "model_module_version": "1.5.0",
      "model_name": "HBoxModel",
      "state": {
       "_dom_classes": [],
       "_model_module": "@jupyter-widgets/controls",
       "_model_module_version": "1.5.0",
       "_model_name": "HBoxModel",
       "_view_count": null,
       "_view_module": "@jupyter-widgets/controls",
       "_view_module_version": "1.5.0",
       "_view_name": "HBoxView",
       "box_style": "",
       "children": [
        "IPY_MODEL_de18ae9f33a84929b4a0eff5e136251f",
        "IPY_MODEL_cc9d2ace18ee4c16893ccf32fcbee914",
        "IPY_MODEL_4be43100b36643d7ae969580ff684a61"
       ],
       "layout": "IPY_MODEL_da8dfac8fb734c6d8e940d6d9bf585ce"
      }
     },
     "cc590a6645c64da5b679e85a83e900a7": {
      "model_module": "@jupyter-widgets/controls",
      "model_module_version": "1.5.0",
      "model_name": "FloatProgressModel",
      "state": {
       "_dom_classes": [],
       "_model_module": "@jupyter-widgets/controls",
       "_model_module_version": "1.5.0",
       "_model_name": "FloatProgressModel",
       "_view_count": null,
       "_view_module": "@jupyter-widgets/controls",
       "_view_module_version": "1.5.0",
       "_view_name": "ProgressView",
       "bar_style": "success",
       "description": "",
       "description_tooltip": null,
       "layout": "IPY_MODEL_e2d3894259294acea3d0312f99e9e600",
       "max": 14212972.0,
       "min": 0.0,
       "orientation": "horizontal",
       "style": "IPY_MODEL_7bf8d529839e4714bd9c5b90fac6fa96",
       "value": 14212972.0
      }
     },
     "cc9d2ace18ee4c16893ccf32fcbee914": {
      "model_module": "@jupyter-widgets/controls",
      "model_module_version": "1.5.0",
      "model_name": "FloatProgressModel",
      "state": {
       "_dom_classes": [],
       "_model_module": "@jupyter-widgets/controls",
       "_model_module_version": "1.5.0",
       "_model_name": "FloatProgressModel",
       "_view_count": null,
       "_view_module": "@jupyter-widgets/controls",
       "_view_module_version": "1.5.0",
       "_view_name": "ProgressView",
       "bar_style": "success",
       "description": "",
       "description_tooltip": null,
       "layout": "IPY_MODEL_9be68085a46a4a85952aabbccc1aaead",
       "max": 98887027.0,
       "min": 0.0,
       "orientation": "horizontal",
       "style": "IPY_MODEL_02e6b7f082624c76a473a474581089b0",
       "value": 98887027.0
      }
     },
     "d4a83b53bd5348cfa3adde2201de7732": {
      "model_module": "@jupyter-widgets/base",
      "model_module_version": "1.2.0",
      "model_name": "LayoutModel",
      "state": {
       "_model_module": "@jupyter-widgets/base",
       "_model_module_version": "1.2.0",
       "_model_name": "LayoutModel",
       "_view_count": null,
       "_view_module": "@jupyter-widgets/base",
       "_view_module_version": "1.2.0",
       "_view_name": "LayoutView",
       "align_content": null,
       "align_items": null,
       "align_self": null,
       "border": null,
       "bottom": null,
       "display": null,
       "flex": null,
       "flex_flow": null,
       "grid_area": null,
       "grid_auto_columns": null,
       "grid_auto_flow": null,
       "grid_auto_rows": null,
       "grid_column": null,
       "grid_gap": null,
       "grid_row": null,
       "grid_template_areas": null,
       "grid_template_columns": null,
       "grid_template_rows": null,
       "height": null,
       "justify_content": null,
       "justify_items": null,
       "left": null,
       "margin": null,
       "max_height": null,
       "max_width": null,
       "min_height": null,
       "min_width": null,
       "object_fit": null,
       "object_position": null,
       "order": null,
       "overflow": null,
       "overflow_x": null,
       "overflow_y": null,
       "padding": null,
       "right": null,
       "top": null,
       "visibility": null,
       "width": null
      }
     },
     "d535d43315f54f8db348d77bd6c249a5": {
      "model_module": "@jupyter-widgets/controls",
      "model_module_version": "1.5.0",
      "model_name": "HTMLModel",
      "state": {
       "_dom_classes": [],
       "_model_module": "@jupyter-widgets/controls",
       "_model_module_version": "1.5.0",
       "_model_name": "HTMLModel",
       "_view_count": null,
       "_view_module": "@jupyter-widgets/controls",
       "_view_module_version": "1.5.0",
       "_view_name": "HTMLView",
       "description": "",
       "description_tooltip": null,
       "layout": "IPY_MODEL_c73b60470e99412dbbd45586f3e4e300",
       "placeholder": "​",
       "style": "IPY_MODEL_bb8b50ae7c654cb5824b4ff7483719f6",
       "value": " 15.4M/15.4M [00:00&lt;00:00, 69.4MB/s]"
      }
     },
     "d718a42265244005bf6314a361c6706b": {
      "model_module": "@jupyter-widgets/controls",
      "model_module_version": "1.5.0",
      "model_name": "HTMLModel",
      "state": {
       "_dom_classes": [],
       "_model_module": "@jupyter-widgets/controls",
       "_model_module_version": "1.5.0",
       "_model_name": "HTMLModel",
       "_view_count": null,
       "_view_module": "@jupyter-widgets/controls",
       "_view_module_version": "1.5.0",
       "_view_name": "HTMLView",
       "description": "",
       "description_tooltip": null,
       "layout": "IPY_MODEL_8061821edf204cf09bffb2a5370ce298",
       "placeholder": "​",
       "style": "IPY_MODEL_16c4d415281e4ca6a7463c4d5ec85e56",
       "value": "100%"
      }
     },
     "d760b2e53851402a8ef17c183e55f589": {
      "model_module": "@jupyter-widgets/base",
      "model_module_version": "1.2.0",
      "model_name": "LayoutModel",
      "state": {
       "_model_module": "@jupyter-widgets/base",
       "_model_module_version": "1.2.0",
       "_model_name": "LayoutModel",
       "_view_count": null,
       "_view_module": "@jupyter-widgets/base",
       "_view_module_version": "1.2.0",
       "_view_name": "LayoutView",
       "align_content": null,
       "align_items": null,
       "align_self": null,
       "border": null,
       "bottom": null,
       "display": null,
       "flex": null,
       "flex_flow": null,
       "grid_area": null,
       "grid_auto_columns": null,
       "grid_auto_flow": null,
       "grid_auto_rows": null,
       "grid_column": null,
       "grid_gap": null,
       "grid_row": null,
       "grid_template_areas": null,
       "grid_template_columns": null,
       "grid_template_rows": null,
       "height": null,
       "justify_content": null,
       "justify_items": null,
       "left": null,
       "margin": null,
       "max_height": null,
       "max_width": null,
       "min_height": null,
       "min_width": null,
       "object_fit": null,
       "object_position": null,
       "order": null,
       "overflow": null,
       "overflow_x": null,
       "overflow_y": null,
       "padding": null,
       "right": null,
       "top": null,
       "visibility": null,
       "width": null
      }
     },
     "d826cbf77efb4b08aaebca96ddf08f6d": {
      "model_module": "@jupyter-widgets/base",
      "model_module_version": "1.2.0",
      "model_name": "LayoutModel",
      "state": {
       "_model_module": "@jupyter-widgets/base",
       "_model_module_version": "1.2.0",
       "_model_name": "LayoutModel",
       "_view_count": null,
       "_view_module": "@jupyter-widgets/base",
       "_view_module_version": "1.2.0",
       "_view_name": "LayoutView",
       "align_content": null,
       "align_items": null,
       "align_self": null,
       "border": null,
       "bottom": null,
       "display": null,
       "flex": null,
       "flex_flow": null,
       "grid_area": null,
       "grid_auto_columns": null,
       "grid_auto_flow": null,
       "grid_auto_rows": null,
       "grid_column": null,
       "grid_gap": null,
       "grid_row": null,
       "grid_template_areas": null,
       "grid_template_columns": null,
       "grid_template_rows": null,
       "height": null,
       "justify_content": null,
       "justify_items": null,
       "left": null,
       "margin": null,
       "max_height": null,
       "max_width": null,
       "min_height": null,
       "min_width": null,
       "object_fit": null,
       "object_position": null,
       "order": null,
       "overflow": null,
       "overflow_x": null,
       "overflow_y": null,
       "padding": null,
       "right": null,
       "top": null,
       "visibility": null,
       "width": null
      }
     },
     "d9dad96b8c5341de88fe0918dfd409a9": {
      "model_module": "@jupyter-widgets/base",
      "model_module_version": "1.2.0",
      "model_name": "LayoutModel",
      "state": {
       "_model_module": "@jupyter-widgets/base",
       "_model_module_version": "1.2.0",
       "_model_name": "LayoutModel",
       "_view_count": null,
       "_view_module": "@jupyter-widgets/base",
       "_view_module_version": "1.2.0",
       "_view_name": "LayoutView",
       "align_content": null,
       "align_items": null,
       "align_self": null,
       "border": null,
       "bottom": null,
       "display": null,
       "flex": null,
       "flex_flow": null,
       "grid_area": null,
       "grid_auto_columns": null,
       "grid_auto_flow": null,
       "grid_auto_rows": null,
       "grid_column": null,
       "grid_gap": null,
       "grid_row": null,
       "grid_template_areas": null,
       "grid_template_columns": null,
       "grid_template_rows": null,
       "height": null,
       "justify_content": null,
       "justify_items": null,
       "left": null,
       "margin": null,
       "max_height": null,
       "max_width": null,
       "min_height": null,
       "min_width": null,
       "object_fit": null,
       "object_position": null,
       "order": null,
       "overflow": null,
       "overflow_x": null,
       "overflow_y": null,
       "padding": null,
       "right": null,
       "top": null,
       "visibility": null,
       "width": null
      }
     },
     "da31abb8ba0e4eb7b2b528b68a1c3846": {
      "model_module": "@jupyter-widgets/base",
      "model_module_version": "1.2.0",
      "model_name": "LayoutModel",
      "state": {
       "_model_module": "@jupyter-widgets/base",
       "_model_module_version": "1.2.0",
       "_model_name": "LayoutModel",
       "_view_count": null,
       "_view_module": "@jupyter-widgets/base",
       "_view_module_version": "1.2.0",
       "_view_name": "LayoutView",
       "align_content": null,
       "align_items": null,
       "align_self": null,
       "border": null,
       "bottom": null,
       "display": null,
       "flex": null,
       "flex_flow": null,
       "grid_area": null,
       "grid_auto_columns": null,
       "grid_auto_flow": null,
       "grid_auto_rows": null,
       "grid_column": null,
       "grid_gap": null,
       "grid_row": null,
       "grid_template_areas": null,
       "grid_template_columns": null,
       "grid_template_rows": null,
       "height": null,
       "justify_content": null,
       "justify_items": null,
       "left": null,
       "margin": null,
       "max_height": null,
       "max_width": null,
       "min_height": null,
       "min_width": null,
       "object_fit": null,
       "object_position": null,
       "order": null,
       "overflow": null,
       "overflow_x": null,
       "overflow_y": null,
       "padding": null,
       "right": null,
       "top": null,
       "visibility": null,
       "width": null
      }
     },
     "da8dfac8fb734c6d8e940d6d9bf585ce": {
      "model_module": "@jupyter-widgets/base",
      "model_module_version": "1.2.0",
      "model_name": "LayoutModel",
      "state": {
       "_model_module": "@jupyter-widgets/base",
       "_model_module_version": "1.2.0",
       "_model_name": "LayoutModel",
       "_view_count": null,
       "_view_module": "@jupyter-widgets/base",
       "_view_module_version": "1.2.0",
       "_view_name": "LayoutView",
       "align_content": null,
       "align_items": null,
       "align_self": null,
       "border": null,
       "bottom": null,
       "display": null,
       "flex": null,
       "flex_flow": null,
       "grid_area": null,
       "grid_auto_columns": null,
       "grid_auto_flow": null,
       "grid_auto_rows": null,
       "grid_column": null,
       "grid_gap": null,
       "grid_row": null,
       "grid_template_areas": null,
       "grid_template_columns": null,
       "grid_template_rows": null,
       "height": null,
       "justify_content": null,
       "justify_items": null,
       "left": null,
       "margin": null,
       "max_height": null,
       "max_width": null,
       "min_height": null,
       "min_width": null,
       "object_fit": null,
       "object_position": null,
       "order": null,
       "overflow": null,
       "overflow_x": null,
       "overflow_y": null,
       "padding": null,
       "right": null,
       "top": null,
       "visibility": null,
       "width": null
      }
     },
     "dd87ee68f64a4b23b1d8fd292f2df4ec": {
      "model_module": "@jupyter-widgets/base",
      "model_module_version": "1.2.0",
      "model_name": "LayoutModel",
      "state": {
       "_model_module": "@jupyter-widgets/base",
       "_model_module_version": "1.2.0",
       "_model_name": "LayoutModel",
       "_view_count": null,
       "_view_module": "@jupyter-widgets/base",
       "_view_module_version": "1.2.0",
       "_view_name": "LayoutView",
       "align_content": null,
       "align_items": null,
       "align_self": null,
       "border": null,
       "bottom": null,
       "display": null,
       "flex": null,
       "flex_flow": null,
       "grid_area": null,
       "grid_auto_columns": null,
       "grid_auto_flow": null,
       "grid_auto_rows": null,
       "grid_column": null,
       "grid_gap": null,
       "grid_row": null,
       "grid_template_areas": null,
       "grid_template_columns": null,
       "grid_template_rows": null,
       "height": null,
       "justify_content": null,
       "justify_items": null,
       "left": null,
       "margin": null,
       "max_height": null,
       "max_width": null,
       "min_height": null,
       "min_width": null,
       "object_fit": null,
       "object_position": null,
       "order": null,
       "overflow": null,
       "overflow_x": null,
       "overflow_y": null,
       "padding": null,
       "right": null,
       "top": null,
       "visibility": null,
       "width": null
      }
     },
     "ddce429eba5f4539af440f1307bf67c7": {
      "model_module": "@jupyter-widgets/controls",
      "model_module_version": "1.5.0",
      "model_name": "DescriptionStyleModel",
      "state": {
       "_model_module": "@jupyter-widgets/controls",
       "_model_module_version": "1.5.0",
       "_model_name": "DescriptionStyleModel",
       "_view_count": null,
       "_view_module": "@jupyter-widgets/base",
       "_view_module_version": "1.2.0",
       "_view_name": "StyleView",
       "description_width": ""
      }
     },
     "de18ae9f33a84929b4a0eff5e136251f": {
      "model_module": "@jupyter-widgets/controls",
      "model_module_version": "1.5.0",
      "model_name": "HTMLModel",
      "state": {
       "_dom_classes": [],
       "_model_module": "@jupyter-widgets/controls",
       "_model_module_version": "1.5.0",
       "_model_name": "HTMLModel",
       "_view_count": null,
       "_view_module": "@jupyter-widgets/controls",
       "_view_module_version": "1.5.0",
       "_view_name": "HTMLView",
       "description": "",
       "description_tooltip": null,
       "layout": "IPY_MODEL_3e554d0b6e434f7eb1d80567fde52ea5",
       "placeholder": "​",
       "style": "IPY_MODEL_7eab960fd9354e3e89c3a1c814ae9699",
       "value": "100%"
      }
     },
     "e05e692aa8604faba222f0c561cc187c": {
      "model_module": "@jupyter-widgets/controls",
      "model_module_version": "1.5.0",
      "model_name": "ProgressStyleModel",
      "state": {
       "_model_module": "@jupyter-widgets/controls",
       "_model_module_version": "1.5.0",
       "_model_name": "ProgressStyleModel",
       "_view_count": null,
       "_view_module": "@jupyter-widgets/base",
       "_view_module_version": "1.2.0",
       "_view_name": "StyleView",
       "bar_color": null,
       "description_width": ""
      }
     },
     "e2d3894259294acea3d0312f99e9e600": {
      "model_module": "@jupyter-widgets/base",
      "model_module_version": "1.2.0",
      "model_name": "LayoutModel",
      "state": {
       "_model_module": "@jupyter-widgets/base",
       "_model_module_version": "1.2.0",
       "_model_name": "LayoutModel",
       "_view_count": null,
       "_view_module": "@jupyter-widgets/base",
       "_view_module_version": "1.2.0",
       "_view_name": "LayoutView",
       "align_content": null,
       "align_items": null,
       "align_self": null,
       "border": null,
       "bottom": null,
       "display": null,
       "flex": null,
       "flex_flow": null,
       "grid_area": null,
       "grid_auto_columns": null,
       "grid_auto_flow": null,
       "grid_auto_rows": null,
       "grid_column": null,
       "grid_gap": null,
       "grid_row": null,
       "grid_template_areas": null,
       "grid_template_columns": null,
       "grid_template_rows": null,
       "height": null,
       "justify_content": null,
       "justify_items": null,
       "left": null,
       "margin": null,
       "max_height": null,
       "max_width": null,
       "min_height": null,
       "min_width": null,
       "object_fit": null,
       "object_position": null,
       "order": null,
       "overflow": null,
       "overflow_x": null,
       "overflow_y": null,
       "padding": null,
       "right": null,
       "top": null,
       "visibility": null,
       "width": null
      }
     },
     "e2fbf352756242f3a88e8c11dcb729a7": {
      "model_module": "@jupyter-widgets/controls",
      "model_module_version": "1.5.0",
      "model_name": "FloatProgressModel",
      "state": {
       "_dom_classes": [],
       "_model_module": "@jupyter-widgets/controls",
       "_model_module_version": "1.5.0",
       "_model_name": "FloatProgressModel",
       "_view_count": null,
       "_view_module": "@jupyter-widgets/controls",
       "_view_module_version": "1.5.0",
       "_view_name": "ProgressView",
       "bar_style": "success",
       "description": "",
       "description_tooltip": null,
       "layout": "IPY_MODEL_547d55e5048e470281ea6a2141658dc6",
       "max": 178427627.0,
       "min": 0.0,
       "orientation": "horizontal",
       "style": "IPY_MODEL_e05e692aa8604faba222f0c561cc187c",
       "value": 178427627.0
      }
     },
     "e3cc325a06af4c82af707a92d6a9f4fd": {
      "model_module": "@jupyter-widgets/base",
      "model_module_version": "1.2.0",
      "model_name": "LayoutModel",
      "state": {
       "_model_module": "@jupyter-widgets/base",
       "_model_module_version": "1.2.0",
       "_model_name": "LayoutModel",
       "_view_count": null,
       "_view_module": "@jupyter-widgets/base",
       "_view_module_version": "1.2.0",
       "_view_name": "LayoutView",
       "align_content": null,
       "align_items": null,
       "align_self": null,
       "border": null,
       "bottom": null,
       "display": null,
       "flex": null,
       "flex_flow": null,
       "grid_area": null,
       "grid_auto_columns": null,
       "grid_auto_flow": null,
       "grid_auto_rows": null,
       "grid_column": null,
       "grid_gap": null,
       "grid_row": null,
       "grid_template_areas": null,
       "grid_template_columns": null,
       "grid_template_rows": null,
       "height": null,
       "justify_content": null,
       "justify_items": null,
       "left": null,
       "margin": null,
       "max_height": null,
       "max_width": null,
       "min_height": null,
       "min_width": null,
       "object_fit": null,
       "object_position": null,
       "order": null,
       "overflow": null,
       "overflow_x": null,
       "overflow_y": null,
       "padding": null,
       "right": null,
       "top": null,
       "visibility": null,
       "width": null
      }
     },
     "e3e6a5ee000c403880f05921159b0baf": {
      "model_module": "@jupyter-widgets/base",
      "model_module_version": "1.2.0",
      "model_name": "LayoutModel",
      "state": {
       "_model_module": "@jupyter-widgets/base",
       "_model_module_version": "1.2.0",
       "_model_name": "LayoutModel",
       "_view_count": null,
       "_view_module": "@jupyter-widgets/base",
       "_view_module_version": "1.2.0",
       "_view_name": "LayoutView",
       "align_content": null,
       "align_items": null,
       "align_self": null,
       "border": null,
       "bottom": null,
       "display": null,
       "flex": null,
       "flex_flow": null,
       "grid_area": null,
       "grid_auto_columns": null,
       "grid_auto_flow": null,
       "grid_auto_rows": null,
       "grid_column": null,
       "grid_gap": null,
       "grid_row": null,
       "grid_template_areas": null,
       "grid_template_columns": null,
       "grid_template_rows": null,
       "height": null,
       "justify_content": null,
       "justify_items": null,
       "left": null,
       "margin": null,
       "max_height": null,
       "max_width": null,
       "min_height": null,
       "min_width": null,
       "object_fit": null,
       "object_position": null,
       "order": null,
       "overflow": null,
       "overflow_x": null,
       "overflow_y": null,
       "padding": null,
       "right": null,
       "top": null,
       "visibility": null,
       "width": null
      }
     },
     "e570d6dff30249acb70a7e23c3e42085": {
      "model_module": "@jupyter-widgets/base",
      "model_module_version": "1.2.0",
      "model_name": "LayoutModel",
      "state": {
       "_model_module": "@jupyter-widgets/base",
       "_model_module_version": "1.2.0",
       "_model_name": "LayoutModel",
       "_view_count": null,
       "_view_module": "@jupyter-widgets/base",
       "_view_module_version": "1.2.0",
       "_view_name": "LayoutView",
       "align_content": null,
       "align_items": null,
       "align_self": null,
       "border": null,
       "bottom": null,
       "display": null,
       "flex": null,
       "flex_flow": null,
       "grid_area": null,
       "grid_auto_columns": null,
       "grid_auto_flow": null,
       "grid_auto_rows": null,
       "grid_column": null,
       "grid_gap": null,
       "grid_row": null,
       "grid_template_areas": null,
       "grid_template_columns": null,
       "grid_template_rows": null,
       "height": null,
       "justify_content": null,
       "justify_items": null,
       "left": null,
       "margin": null,
       "max_height": null,
       "max_width": null,
       "min_height": null,
       "min_width": null,
       "object_fit": null,
       "object_position": null,
       "order": null,
       "overflow": null,
       "overflow_x": null,
       "overflow_y": null,
       "padding": null,
       "right": null,
       "top": null,
       "visibility": null,
       "width": null
      }
     },
     "e7f0059f9f89405fa82ceb163f722428": {
      "model_module": "@jupyter-widgets/controls",
      "model_module_version": "1.5.0",
      "model_name": "HTMLModel",
      "state": {
       "_dom_classes": [],
       "_model_module": "@jupyter-widgets/controls",
       "_model_module_version": "1.5.0",
       "_model_name": "HTMLModel",
       "_view_count": null,
       "_view_module": "@jupyter-widgets/controls",
       "_view_module_version": "1.5.0",
       "_view_name": "HTMLView",
       "description": "",
       "description_tooltip": null,
       "layout": "IPY_MODEL_e570d6dff30249acb70a7e23c3e42085",
       "placeholder": "​",
       "style": "IPY_MODEL_ddce429eba5f4539af440f1307bf67c7",
       "value": " 165M/165M [00:02&lt;00:00, 65.9MB/s]"
      }
     },
     "e93ed285f6c24eba9d9d5a2a4bce3852": {
      "model_module": "@jupyter-widgets/controls",
      "model_module_version": "1.5.0",
      "model_name": "FloatProgressModel",
      "state": {
       "_dom_classes": [],
       "_model_module": "@jupyter-widgets/controls",
       "_model_module_version": "1.5.0",
       "_model_name": "FloatProgressModel",
       "_view_count": null,
       "_view_module": "@jupyter-widgets/controls",
       "_view_module_version": "1.5.0",
       "_view_name": "ProgressView",
       "bar_style": "success",
       "description": "",
       "description_tooltip": null,
       "layout": "IPY_MODEL_7aac0fdf318b40bd9b39aa81b229dccf",
       "max": 173245619.0,
       "min": 0.0,
       "orientation": "horizontal",
       "style": "IPY_MODEL_f7c6022496914e83adeb28f37dfa4efc",
       "value": 173245619.0
      }
     },
     "ebf69ef0243c4f27bcacba4283a9257b": {
      "model_module": "@jupyter-widgets/controls",
      "model_module_version": "1.5.0",
      "model_name": "DescriptionStyleModel",
      "state": {
       "_model_module": "@jupyter-widgets/controls",
       "_model_module_version": "1.5.0",
       "_model_name": "DescriptionStyleModel",
       "_view_count": null,
       "_view_module": "@jupyter-widgets/base",
       "_view_module_version": "1.2.0",
       "_view_name": "StyleView",
       "description_width": ""
      }
     },
     "ed03382221104b37ac57fb391929b064": {
      "model_module": "@jupyter-widgets/controls",
      "model_module_version": "1.5.0",
      "model_name": "ProgressStyleModel",
      "state": {
       "_model_module": "@jupyter-widgets/controls",
       "_model_module_version": "1.5.0",
       "_model_name": "ProgressStyleModel",
       "_view_count": null,
       "_view_module": "@jupyter-widgets/base",
       "_view_module_version": "1.2.0",
       "_view_name": "StyleView",
       "bar_color": null,
       "description_width": ""
      }
     },
     "f47ed0eaa2b645b4b8e3c031e28e90fc": {
      "model_module": "@jupyter-widgets/base",
      "model_module_version": "1.2.0",
      "model_name": "LayoutModel",
      "state": {
       "_model_module": "@jupyter-widgets/base",
       "_model_module_version": "1.2.0",
       "_model_name": "LayoutModel",
       "_view_count": null,
       "_view_module": "@jupyter-widgets/base",
       "_view_module_version": "1.2.0",
       "_view_name": "LayoutView",
       "align_content": null,
       "align_items": null,
       "align_self": null,
       "border": null,
       "bottom": null,
       "display": null,
       "flex": null,
       "flex_flow": null,
       "grid_area": null,
       "grid_auto_columns": null,
       "grid_auto_flow": null,
       "grid_auto_rows": null,
       "grid_column": null,
       "grid_gap": null,
       "grid_row": null,
       "grid_template_areas": null,
       "grid_template_columns": null,
       "grid_template_rows": null,
       "height": null,
       "justify_content": null,
       "justify_items": null,
       "left": null,
       "margin": null,
       "max_height": null,
       "max_width": null,
       "min_height": null,
       "min_width": null,
       "object_fit": null,
       "object_position": null,
       "order": null,
       "overflow": null,
       "overflow_x": null,
       "overflow_y": null,
       "padding": null,
       "right": null,
       "top": null,
       "visibility": null,
       "width": null
      }
     },
     "f7c6022496914e83adeb28f37dfa4efc": {
      "model_module": "@jupyter-widgets/controls",
      "model_module_version": "1.5.0",
      "model_name": "ProgressStyleModel",
      "state": {
       "_model_module": "@jupyter-widgets/controls",
       "_model_module_version": "1.5.0",
       "_model_name": "ProgressStyleModel",
       "_view_count": null,
       "_view_module": "@jupyter-widgets/base",
       "_view_module_version": "1.2.0",
       "_view_name": "StyleView",
       "bar_color": null,
       "description_width": ""
      }
     }
    },
    "version_major": 2,
    "version_minor": 0
   }
  }
 },
 "nbformat": 4,
 "nbformat_minor": 5
}
